{
  "cells": [
    {
      "cell_type": "markdown",
      "metadata": {
        "id": "bw7MbuIemZtu"
      },
      "source": [
        "# ติดตั้ง Tool\n",
        "\n",
        "---\n",
        "\n"
      ]
    },
    {
      "cell_type": "code",
      "execution_count": null,
      "metadata": {
        "colab": {
          "base_uri": "https://localhost:8080/",
          "height": 1000
        },
        "id": "pspQtfHVkLUd",
        "outputId": "861a43b9-8f5f-42b3-ed99-d16d8a56ebec"
      },
      "outputs": [
        {
          "output_type": "stream",
          "name": "stdout",
          "text": [
            "Collecting pythainlp\n",
            "  Downloading pythainlp-5.1.0-py3-none-any.whl.metadata (8.0 kB)\n",
            "Requirement already satisfied: requests>=2.31 in /usr/local/lib/python3.11/dist-packages (from pythainlp) (2.32.3)\n",
            "Requirement already satisfied: charset-normalizer<4,>=2 in /usr/local/lib/python3.11/dist-packages (from requests>=2.31->pythainlp) (3.4.1)\n",
            "Requirement already satisfied: idna<4,>=2.5 in /usr/local/lib/python3.11/dist-packages (from requests>=2.31->pythainlp) (3.10)\n",
            "Requirement already satisfied: urllib3<3,>=1.21.1 in /usr/local/lib/python3.11/dist-packages (from requests>=2.31->pythainlp) (2.3.0)\n",
            "Requirement already satisfied: certifi>=2017.4.17 in /usr/local/lib/python3.11/dist-packages (from requests>=2.31->pythainlp) (2025.1.31)\n",
            "Downloading pythainlp-5.1.0-py3-none-any.whl (19.3 MB)\n",
            "\u001b[2K   \u001b[90m━━━━━━━━━━━━━━━━━━━━━━━━━━━━━━━━━━━━━━━━\u001b[0m \u001b[32m19.3/19.3 MB\u001b[0m \u001b[31m60.1 MB/s\u001b[0m eta \u001b[36m0:00:00\u001b[0m\n",
            "\u001b[?25hInstalling collected packages: pythainlp\n",
            "Successfully installed pythainlp-5.1.0\n",
            "Collecting torch==1.13.1\n",
            "  Downloading torch-1.13.1-cp311-cp311-manylinux1_x86_64.whl.metadata (24 kB)\n",
            "Requirement already satisfied: typing-extensions in /usr/local/lib/python3.11/dist-packages (from torch==1.13.1) (4.12.2)\n",
            "Collecting nvidia-cuda-runtime-cu11==11.7.99 (from torch==1.13.1)\n",
            "  Downloading nvidia_cuda_runtime_cu11-11.7.99-py3-none-manylinux1_x86_64.whl.metadata (1.6 kB)\n",
            "Collecting nvidia-cudnn-cu11==8.5.0.96 (from torch==1.13.1)\n",
            "  Downloading nvidia_cudnn_cu11-8.5.0.96-2-py3-none-manylinux1_x86_64.whl.metadata (1.6 kB)\n",
            "Collecting nvidia-cublas-cu11==11.10.3.66 (from torch==1.13.1)\n",
            "  Downloading nvidia_cublas_cu11-11.10.3.66-py3-none-manylinux1_x86_64.whl.metadata (1.6 kB)\n",
            "Collecting nvidia-cuda-nvrtc-cu11==11.7.99 (from torch==1.13.1)\n",
            "  Downloading nvidia_cuda_nvrtc_cu11-11.7.99-2-py3-none-manylinux1_x86_64.whl.metadata (1.5 kB)\n",
            "Requirement already satisfied: setuptools in /usr/local/lib/python3.11/dist-packages (from nvidia-cublas-cu11==11.10.3.66->torch==1.13.1) (75.1.0)\n",
            "Requirement already satisfied: wheel in /usr/local/lib/python3.11/dist-packages (from nvidia-cublas-cu11==11.10.3.66->torch==1.13.1) (0.45.1)\n",
            "Downloading torch-1.13.1-cp311-cp311-manylinux1_x86_64.whl (887.4 MB)\n",
            "\u001b[2K   \u001b[90m━━━━━━━━━━━━━━━━━━━━━━━━━━━━━━━━━━━━━━━━\u001b[0m \u001b[32m887.4/887.4 MB\u001b[0m \u001b[31m1.2 MB/s\u001b[0m eta \u001b[36m0:00:00\u001b[0m\n",
            "\u001b[?25hDownloading nvidia_cublas_cu11-11.10.3.66-py3-none-manylinux1_x86_64.whl (317.1 MB)\n",
            "\u001b[2K   \u001b[90m━━━━━━━━━━━━━━━━━━━━━━━━━━━━━━━━━━━━━━━━\u001b[0m \u001b[32m317.1/317.1 MB\u001b[0m \u001b[31m4.8 MB/s\u001b[0m eta \u001b[36m0:00:00\u001b[0m\n",
            "\u001b[?25hDownloading nvidia_cuda_nvrtc_cu11-11.7.99-2-py3-none-manylinux1_x86_64.whl (21.0 MB)\n",
            "\u001b[2K   \u001b[90m━━━━━━━━━━━━━━━━━━━━━━━━━━━━━━━━━━━━━━━━\u001b[0m \u001b[32m21.0/21.0 MB\u001b[0m \u001b[31m92.2 MB/s\u001b[0m eta \u001b[36m0:00:00\u001b[0m\n",
            "\u001b[?25hDownloading nvidia_cuda_runtime_cu11-11.7.99-py3-none-manylinux1_x86_64.whl (849 kB)\n",
            "\u001b[2K   \u001b[90m━━━━━━━━━━━━━━━━━━━━━━━━━━━━━━━━━━━━━━━━\u001b[0m \u001b[32m849.3/849.3 kB\u001b[0m \u001b[31m54.5 MB/s\u001b[0m eta \u001b[36m0:00:00\u001b[0m\n",
            "\u001b[?25hDownloading nvidia_cudnn_cu11-8.5.0.96-2-py3-none-manylinux1_x86_64.whl (557.1 MB)\n",
            "\u001b[2K   \u001b[90m━━━━━━━━━━━━━━━━━━━━━━━━━━━━━━━━━━━━━━━━\u001b[0m \u001b[32m557.1/557.1 MB\u001b[0m \u001b[31m2.3 MB/s\u001b[0m eta \u001b[36m0:00:00\u001b[0m\n",
            "\u001b[?25hInstalling collected packages: nvidia-cuda-runtime-cu11, nvidia-cuda-nvrtc-cu11, nvidia-cublas-cu11, nvidia-cudnn-cu11, torch\n",
            "  Attempting uninstall: torch\n",
            "    Found existing installation: torch 2.5.1+cu124\n",
            "    Uninstalling torch-2.5.1+cu124:\n",
            "      Successfully uninstalled torch-2.5.1+cu124\n",
            "\u001b[31mERROR: pip's dependency resolver does not currently take into account all the packages that are installed. This behaviour is the source of the following dependency conflicts.\n",
            "accelerate 1.3.0 requires torch>=2.0.0, but you have torch 1.13.1 which is incompatible.\n",
            "torchvision 0.20.1+cu124 requires torch==2.5.1, but you have torch 1.13.1 which is incompatible.\n",
            "torchaudio 2.5.1+cu124 requires torch==2.5.1, but you have torch 1.13.1 which is incompatible.\u001b[0m\u001b[31m\n",
            "\u001b[0mSuccessfully installed nvidia-cublas-cu11-11.10.3.66 nvidia-cuda-nvrtc-cu11-11.7.99 nvidia-cuda-runtime-cu11-11.7.99 nvidia-cudnn-cu11-8.5.0.96 torch-1.13.1\n",
            "Collecting torchtext==0.6.0\n",
            "  Downloading torchtext-0.6.0-py3-none-any.whl.metadata (6.3 kB)\n",
            "Requirement already satisfied: tqdm in /usr/local/lib/python3.11/dist-packages (from torchtext==0.6.0) (4.67.1)\n",
            "Requirement already satisfied: requests in /usr/local/lib/python3.11/dist-packages (from torchtext==0.6.0) (2.32.3)\n",
            "Requirement already satisfied: torch in /usr/local/lib/python3.11/dist-packages (from torchtext==0.6.0) (1.13.1)\n",
            "Requirement already satisfied: numpy in /usr/local/lib/python3.11/dist-packages (from torchtext==0.6.0) (1.26.4)\n",
            "Requirement already satisfied: six in /usr/local/lib/python3.11/dist-packages (from torchtext==0.6.0) (1.17.0)\n",
            "Requirement already satisfied: sentencepiece in /usr/local/lib/python3.11/dist-packages (from torchtext==0.6.0) (0.2.0)\n",
            "Requirement already satisfied: charset-normalizer<4,>=2 in /usr/local/lib/python3.11/dist-packages (from requests->torchtext==0.6.0) (3.4.1)\n",
            "Requirement already satisfied: idna<4,>=2.5 in /usr/local/lib/python3.11/dist-packages (from requests->torchtext==0.6.0) (3.10)\n",
            "Requirement already satisfied: urllib3<3,>=1.21.1 in /usr/local/lib/python3.11/dist-packages (from requests->torchtext==0.6.0) (2.3.0)\n",
            "Requirement already satisfied: certifi>=2017.4.17 in /usr/local/lib/python3.11/dist-packages (from requests->torchtext==0.6.0) (2025.1.31)\n",
            "Requirement already satisfied: typing-extensions in /usr/local/lib/python3.11/dist-packages (from torch->torchtext==0.6.0) (4.12.2)\n",
            "Requirement already satisfied: nvidia-cuda-runtime-cu11==11.7.99 in /usr/local/lib/python3.11/dist-packages (from torch->torchtext==0.6.0) (11.7.99)\n",
            "Requirement already satisfied: nvidia-cudnn-cu11==8.5.0.96 in /usr/local/lib/python3.11/dist-packages (from torch->torchtext==0.6.0) (8.5.0.96)\n",
            "Requirement already satisfied: nvidia-cublas-cu11==11.10.3.66 in /usr/local/lib/python3.11/dist-packages (from torch->torchtext==0.6.0) (11.10.3.66)\n",
            "Requirement already satisfied: nvidia-cuda-nvrtc-cu11==11.7.99 in /usr/local/lib/python3.11/dist-packages (from torch->torchtext==0.6.0) (11.7.99)\n",
            "Requirement already satisfied: setuptools in /usr/local/lib/python3.11/dist-packages (from nvidia-cublas-cu11==11.10.3.66->torch->torchtext==0.6.0) (75.1.0)\n",
            "Requirement already satisfied: wheel in /usr/local/lib/python3.11/dist-packages (from nvidia-cublas-cu11==11.10.3.66->torch->torchtext==0.6.0) (0.45.1)\n",
            "Downloading torchtext-0.6.0-py3-none-any.whl (64 kB)\n",
            "\u001b[2K   \u001b[90m━━━━━━━━━━━━━━━━━━━━━━━━━━━━━━━━━━━━━━━━\u001b[0m \u001b[32m64.2/64.2 kB\u001b[0m \u001b[31m6.0 MB/s\u001b[0m eta \u001b[36m0:00:00\u001b[0m\n",
            "\u001b[?25hInstalling collected packages: torchtext\n",
            "Successfully installed torchtext-0.6.0\n"
          ]
        },
        {
          "output_type": "execute_result",
          "data": {
            "text/plain": [
              "'0.6.0'"
            ],
            "application/vnd.google.colaboratory.intrinsic+json": {
              "type": "string"
            }
          },
          "metadata": {},
          "execution_count": 1
        }
      ],
      "source": [
        "!pip install pythainlp\n",
        "!pip install torch==1.13.1\n",
        "!pip install torchtext==0.6.0\n",
        "\n",
        "import torchtext\n",
        "torchtext.__version__"
      ]
    },
    {
      "cell_type": "markdown",
      "metadata": {
        "id": "AZwtFfPWmdw3"
      },
      "source": [
        "# Prepare Dataset\n",
        "\n",
        "---\n"
      ]
    },
    {
      "cell_type": "code",
      "execution_count": null,
      "metadata": {
        "colab": {
          "base_uri": "https://localhost:8080/"
        },
        "id": "3Zl2c6j_SmTQ",
        "outputId": "707dc7e1-fd89-4ed5-e1e1-0bd8e9877f89"
      },
      "outputs": [
        {
          "output_type": "stream",
          "name": "stdout",
          "text": [
            "/usr/local/lib/python3.11/dist-packages/gdown/__main__.py:140: FutureWarning: Option `--id` was deprecated in version 4.3.1 and will be removed in 5.0. You don't need to pass it anymore to use a file ID.\n",
            "  warnings.warn(\n",
            "Downloading...\n",
            "From: https://drive.google.com/uc?id=1xGvtr_HZLKHj4Emd4cbmndW3UBSkZfE8\n",
            "To: /content/TextClass.csv\n",
            "100% 132k/132k [00:00<00:00, 14.5MB/s]\n",
            "/usr/local/lib/python3.11/dist-packages/gdown/__main__.py:140: FutureWarning: Option `--id` was deprecated in version 4.3.1 and will be removed in 5.0. You don't need to pass it anymore to use a file ID.\n",
            "  warnings.warn(\n",
            "Downloading...\n",
            "From: https://drive.google.com/uc?id=1Dmn0eyYwy9Z8r94Xy7eVdyWTBxG-1RIo\n",
            "To: /content/pos.txt\n",
            "100% 761k/761k [00:00<00:00, 24.8MB/s]\n",
            "/usr/local/lib/python3.11/dist-packages/gdown/__main__.py:140: FutureWarning: Option `--id` was deprecated in version 4.3.1 and will be removed in 5.0. You don't need to pass it anymore to use a file ID.\n",
            "  warnings.warn(\n",
            "Downloading...\n",
            "From: https://drive.google.com/uc?id=1EX6IckcRLeKxhpJW4Cr7ItamonDdlyvN\n",
            "To: /content/neu.txt\n",
            "100% 3.81M/3.81M [00:00<00:00, 67.2MB/s]\n",
            "/usr/local/lib/python3.11/dist-packages/gdown/__main__.py:140: FutureWarning: Option `--id` was deprecated in version 4.3.1 and will be removed in 5.0. You don't need to pass it anymore to use a file ID.\n",
            "  warnings.warn(\n",
            "Downloading...\n",
            "From: https://drive.google.com/uc?id=1ahlb_JE4TtrrEtkX65yLOoYEtcsxkj6m\n",
            "To: /content/neg.txt\n",
            "100% 1.68M/1.68M [00:00<00:00, 54.2MB/s]\n"
          ]
        }
      ],
      "source": [
        "! gdown --id 1xGvtr_HZLKHj4Emd4cbmndW3UBSkZfE8\n",
        "! gdown --id 1Dmn0eyYwy9Z8r94Xy7eVdyWTBxG-1RIo\n",
        "! gdown --id 1EX6IckcRLeKxhpJW4Cr7ItamonDdlyvN\n",
        "! gdown --id 1ahlb_JE4TtrrEtkX65yLOoYEtcsxkj6m"
      ]
    },
    {
      "cell_type": "code",
      "execution_count": null,
      "metadata": {
        "colab": {
          "base_uri": "https://localhost:8080/"
        },
        "id": "NSelvNrdBbKO",
        "outputId": "11c6aea5-c806-4157-86f8-648add0042ec"
      },
      "outputs": [
        {
          "output_type": "stream",
          "name": "stdout",
          "text": [
            "Successfully created pos.csv\n"
          ]
        }
      ],
      "source": [
        "# prompt: ทำ pos.txt เป็นไฟล์ .csv โดยให้มหัวข้อเป็น text และ label เป็น 0 ทั้งหมด\n",
        "\n",
        "import pandas as pd\n",
        "\n",
        "try:\n",
        "    with open('pos.txt', 'r', encoding='utf-8') as f:  #แก้ไข encoding ให้รองรับภาษาไทย\n",
        "        lines = f.readlines()\n",
        "except FileNotFoundError:\n",
        "    print(\"Error: pos.txt not found.\")\n",
        "    exit()\n",
        "\n",
        "\n",
        "data = {'text': lines, 'label': [0] * len(lines)}\n",
        "df = pd.DataFrame(data)\n",
        "df.to_csv('pos.csv', index=False, encoding='utf-8') #แก้ไข encoding ให้รองรับภาษาไทย\n",
        "print(\"Successfully created pos.csv\")\n"
      ]
    },
    {
      "cell_type": "code",
      "execution_count": null,
      "metadata": {
        "colab": {
          "base_uri": "https://localhost:8080/"
        },
        "id": "H_12BonYCNCp",
        "outputId": "dc6e09c8-ea68-4127-a50c-615a680e753a"
      },
      "outputs": [
        {
          "output_type": "stream",
          "name": "stdout",
          "text": [
            "Successfully created neu.csv\n"
          ]
        }
      ],
      "source": [
        "# prompt: ทำ pos.txt เป็นไฟล์ .csv โดยให้มหัวข้อเป็น text และ label เป็น 0 ทั้งหมด\n",
        "\n",
        "import pandas as pd\n",
        "\n",
        "try:\n",
        "    with open('neu.txt', 'r', encoding='utf-8') as f:  #แก้ไข encoding ให้รองรับภาษาไทย\n",
        "        lines = f.readlines()\n",
        "except FileNotFoundError:\n",
        "    print(\"Error: neu.txt not found.\")\n",
        "    exit()\n",
        "\n",
        "\n",
        "data = {'text': lines, 'label': [1] * len(lines)}\n",
        "df = pd.DataFrame(data)\n",
        "df.to_csv('neu.csv', index=False, encoding='utf-8') #แก้ไข encoding ให้รองรับภาษาไทย\n",
        "print(\"Successfully created neu.csv\")\n"
      ]
    },
    {
      "cell_type": "code",
      "execution_count": null,
      "metadata": {
        "colab": {
          "base_uri": "https://localhost:8080/"
        },
        "id": "QzIsXietCNcb",
        "outputId": "c0802fe3-8dcd-4e8b-bbe4-d4b74a6bfe9c"
      },
      "outputs": [
        {
          "output_type": "stream",
          "name": "stdout",
          "text": [
            "Successfully created neg.csv\n"
          ]
        }
      ],
      "source": [
        "# prompt: ทำ pos.txt เป็นไฟล์ .csv โดยให้มหัวข้อเป็น text และ label เป็น 0 ทั้งหมด\n",
        "\n",
        "import pandas as pd\n",
        "\n",
        "try:\n",
        "    with open('neg.txt', 'r', encoding='utf-8') as f:  #แก้ไข encoding ให้รองรับภาษาไทย\n",
        "        lines = f.readlines()\n",
        "except FileNotFoundError:\n",
        "    print(\"Error: neg.txt not found.\")\n",
        "    exit()\n",
        "\n",
        "\n",
        "data = {'text': lines, 'label': [2] * len(lines)}\n",
        "df = pd.DataFrame(data)\n",
        "df.to_csv('neg.csv', index=False, encoding='utf-8') #แก้ไข encoding ให้รองรับภาษาไทย\n",
        "print(\"Successfully created neg.csv\")\n"
      ]
    },
    {
      "cell_type": "code",
      "execution_count": null,
      "metadata": {
        "colab": {
          "base_uri": "https://localhost:8080/"
        },
        "id": "xQ2KDAP1COip",
        "outputId": "2ec53c02-b198-4c5e-b368-00077b58fc3f"
      },
      "outputs": [
        {
          "output_type": "stream",
          "name": "stdout",
          "text": [
            "Successfully created pos_reduced.csv with 1000 random samples.\n"
          ]
        }
      ],
      "source": [
        "# prompt: สุ่มลบข้อมูล pos.csv ให้เหลือ 1000 ข้อมูล\n",
        "\n",
        "import pandas as pd\n",
        "import random\n",
        "\n",
        "try:\n",
        "    df = pd.read_csv('pos.csv')\n",
        "except FileNotFoundError:\n",
        "    print(\"Error: pos.csv not found. Please run the previous code block first.\")\n",
        "    exit()\n",
        "\n",
        "# Shuffle the DataFrame\n",
        "df = df.sample(frac=1, random_state=42)\n",
        "\n",
        "# Reduce the DataFrame to 1000 rows\n",
        "df = df.head(250)\n",
        "\n",
        "# Save the reduced DataFrame to a new CSV file\n",
        "df.to_csv('pos_reduced.csv', index=False, encoding='utf-8')\n",
        "print(\"Successfully created pos_reduced.csv with 1000 random samples.\")\n"
      ]
    },
    {
      "cell_type": "code",
      "execution_count": null,
      "metadata": {
        "colab": {
          "base_uri": "https://localhost:8080/"
        },
        "id": "Ld3acVRNCQbt",
        "outputId": "93ca4b8f-732a-4411-868d-0dae6f636494"
      },
      "outputs": [
        {
          "output_type": "stream",
          "name": "stdout",
          "text": [
            "Successfully created neu_reduced.csv with 1000 random samples.\n"
          ]
        }
      ],
      "source": [
        "# prompt: สุ่มลบข้อมูล pos.csv ให้เหลือ 1000 ข้อมูล\n",
        "\n",
        "import pandas as pd\n",
        "import random\n",
        "\n",
        "try:\n",
        "    df = pd.read_csv('neu.csv')\n",
        "except FileNotFoundError:\n",
        "    print(\"Error: pos.csv not found. Please run the previous code block first.\")\n",
        "    exit()\n",
        "\n",
        "# Shuffle the DataFrame\n",
        "df = df.sample(frac=1, random_state=42)\n",
        "\n",
        "# Reduce the DataFrame to 1000 rows\n",
        "df = df.head(200)\n",
        "\n",
        "# Save the reduced DataFrame to a new CSV file\n",
        "df.to_csv('neu_reduced.csv', index=False, encoding='utf-8')\n",
        "print(\"Successfully created neu_reduced.csv with 1000 random samples.\")\n"
      ]
    },
    {
      "cell_type": "code",
      "execution_count": null,
      "metadata": {
        "colab": {
          "base_uri": "https://localhost:8080/"
        },
        "id": "CYcjP-dcCTYJ",
        "outputId": "12499482-2633-457c-e96b-a92de5bcf5f6"
      },
      "outputs": [
        {
          "output_type": "stream",
          "name": "stdout",
          "text": [
            "Successfully created neg_reduced.csv with 1000 random samples.\n"
          ]
        }
      ],
      "source": [
        "# prompt: สุ่มลบข้อมูล pos.csv ให้เหลือ 1000 ข้อมูล\n",
        "\n",
        "import pandas as pd\n",
        "import random\n",
        "\n",
        "try:\n",
        "    df = pd.read_csv('neg.csv')\n",
        "except FileNotFoundError:\n",
        "    print(\"Error: neg.csv not found. Please run the previous code block first.\")\n",
        "    exit()\n",
        "\n",
        "# Shuffle the DataFrame\n",
        "df = df.sample(frac=1, random_state=42)\n",
        "\n",
        "# Reduce the DataFrame to 1000 rows\n",
        "df = df.head(300)\n",
        "\n",
        "# Save the reduced DataFrame to a new CSV file\n",
        "df.to_csv('neg_reduced.csv', index=False, encoding='utf-8')\n",
        "print(\"Successfully created neg_reduced.csv with 1000 random samples.\")\n"
      ]
    },
    {
      "cell_type": "code",
      "execution_count": null,
      "metadata": {
        "colab": {
          "base_uri": "https://localhost:8080/"
        },
        "id": "oSYQ3TYOCT2U",
        "outputId": "e95be9b5-b666-4586-b61f-2f6d173cbeb9"
      },
      "outputs": [
        {
          "output_type": "stream",
          "name": "stdout",
          "text": [
            "Successfully combined and saved to 'TextClass.csv'\n"
          ]
        }
      ],
      "source": [
        "# prompt: รวมไฟล์ textclass, pos.csv, neu.csv\n",
        "\n",
        "import pandas as pd\n",
        "\n",
        "# Assuming 'textclass.csv', 'pos.csv', and 'neu.csv' are in the current directory\n",
        "try:\n",
        "    df_textclass = pd.read_csv('TextClass.csv')\n",
        "    df_pos = pd.read_csv('pos_reduced.csv')\n",
        "    df_neu = pd.read_csv('neu_reduced.csv')\n",
        "    df_neg = pd.read_csv('neg_reduced.csv')\n",
        "\n",
        "    # Concatenate the DataFrames\n",
        "    combined_df = pd.concat([df_textclass, df_pos, df_neu, df_neg], ignore_index=True)\n",
        "\n",
        "    # Save the combined DataFrame to a new CSV file\n",
        "    combined_df.to_csv('TextClass.csv', index=False, encoding='utf-8')\n",
        "    print(\"Successfully combined and saved to 'TextClass.csv'\")\n",
        "\n",
        "except FileNotFoundError:\n",
        "    print(\"Error: One or more of the required CSV files not found.\")\n",
        "except Exception as e:\n",
        "    print(f\"An error occurred: {e}\")\n"
      ]
    },
    {
      "cell_type": "code",
      "execution_count": null,
      "metadata": {
        "colab": {
          "base_uri": "https://localhost:8080/",
          "height": 423
        },
        "id": "lZ3GsnUGTSaQ",
        "outputId": "4c1944a0-a83d-4da6-ee7c-80faea52d8a9"
      },
      "outputs": [
        {
          "output_type": "execute_result",
          "data": {
            "text/plain": [
              "                                                 review             label\n",
              "0                   พี่เบ๊บบี้จัดฟันแล้วน่ารักสุดๆๆๆๆๆๆ  คำทั่วไปทางการชม\n",
              "1                            พี่เบ๊บบี้จัดฟันน่ารักมากก  คำทั่วไปทางการชม\n",
              "2                                          พี่สวยมากค่ะ  คำทั่วไปทางการชม\n",
              "3                                     งามมากกลูกสาวววว💛  คำทั่วไปทางการชม\n",
              "4                                              คนสวย🥰🥰🥰  คำทั่วไปทางการชม\n",
              "...                                                 ...               ...\n",
              "2295  กูเขดและเน๊าะ โปรวันพุธ มะเติมของเลยต้องรอคิวเ...        คำหยาบปกติ\n",
              "2296    โห้ ไม่เคยเจอฟอร์จูน crv pajero ตามหลังเลยหรา\\n        คำหยาบปกติ\n",
              "2297  Mazda cx-3 ใหม่ คือไม่ไหวอะ เห็นละทนไม่ได้ สวย...        คำหยาบปกติ\n",
              "2298                        แดกเบียร์เหล้ากูเอียนสปาย\\n        คำหยาบปกติ\n",
              "2299  มีที่เขียนคิ้วอันไหนดีกว่าของอีทูดี้บ้าง คือน้...        คำหยาบปกติ\n",
              "\n",
              "[2300 rows x 2 columns]"
            ],
            "text/html": [
              "\n",
              "  <div id=\"df-91d70df4-9c61-408f-b952-77965d816793\" class=\"colab-df-container\">\n",
              "    <div>\n",
              "<style scoped>\n",
              "    .dataframe tbody tr th:only-of-type {\n",
              "        vertical-align: middle;\n",
              "    }\n",
              "\n",
              "    .dataframe tbody tr th {\n",
              "        vertical-align: top;\n",
              "    }\n",
              "\n",
              "    .dataframe thead th {\n",
              "        text-align: right;\n",
              "    }\n",
              "</style>\n",
              "<table border=\"1\" class=\"dataframe\">\n",
              "  <thead>\n",
              "    <tr style=\"text-align: right;\">\n",
              "      <th></th>\n",
              "      <th>review</th>\n",
              "      <th>label</th>\n",
              "    </tr>\n",
              "  </thead>\n",
              "  <tbody>\n",
              "    <tr>\n",
              "      <th>0</th>\n",
              "      <td>พี่เบ๊บบี้จัดฟันแล้วน่ารักสุดๆๆๆๆๆๆ</td>\n",
              "      <td>คำทั่วไปทางการชม</td>\n",
              "    </tr>\n",
              "    <tr>\n",
              "      <th>1</th>\n",
              "      <td>พี่เบ๊บบี้จัดฟันน่ารักมากก</td>\n",
              "      <td>คำทั่วไปทางการชม</td>\n",
              "    </tr>\n",
              "    <tr>\n",
              "      <th>2</th>\n",
              "      <td>พี่สวยมากค่ะ</td>\n",
              "      <td>คำทั่วไปทางการชม</td>\n",
              "    </tr>\n",
              "    <tr>\n",
              "      <th>3</th>\n",
              "      <td>งามมากกลูกสาวววว💛</td>\n",
              "      <td>คำทั่วไปทางการชม</td>\n",
              "    </tr>\n",
              "    <tr>\n",
              "      <th>4</th>\n",
              "      <td>คนสวย🥰🥰🥰</td>\n",
              "      <td>คำทั่วไปทางการชม</td>\n",
              "    </tr>\n",
              "    <tr>\n",
              "      <th>...</th>\n",
              "      <td>...</td>\n",
              "      <td>...</td>\n",
              "    </tr>\n",
              "    <tr>\n",
              "      <th>2295</th>\n",
              "      <td>กูเขดและเน๊าะ โปรวันพุธ มะเติมของเลยต้องรอคิวเ...</td>\n",
              "      <td>คำหยาบปกติ</td>\n",
              "    </tr>\n",
              "    <tr>\n",
              "      <th>2296</th>\n",
              "      <td>โห้ ไม่เคยเจอฟอร์จูน crv pajero ตามหลังเลยหรา\\n</td>\n",
              "      <td>คำหยาบปกติ</td>\n",
              "    </tr>\n",
              "    <tr>\n",
              "      <th>2297</th>\n",
              "      <td>Mazda cx-3 ใหม่ คือไม่ไหวอะ เห็นละทนไม่ได้ สวย...</td>\n",
              "      <td>คำหยาบปกติ</td>\n",
              "    </tr>\n",
              "    <tr>\n",
              "      <th>2298</th>\n",
              "      <td>แดกเบียร์เหล้ากูเอียนสปาย\\n</td>\n",
              "      <td>คำหยาบปกติ</td>\n",
              "    </tr>\n",
              "    <tr>\n",
              "      <th>2299</th>\n",
              "      <td>มีที่เขียนคิ้วอันไหนดีกว่าของอีทูดี้บ้าง คือน้...</td>\n",
              "      <td>คำหยาบปกติ</td>\n",
              "    </tr>\n",
              "  </tbody>\n",
              "</table>\n",
              "<p>2300 rows × 2 columns</p>\n",
              "</div>\n",
              "    <div class=\"colab-df-buttons\">\n",
              "\n",
              "  <div class=\"colab-df-container\">\n",
              "    <button class=\"colab-df-convert\" onclick=\"convertToInteractive('df-91d70df4-9c61-408f-b952-77965d816793')\"\n",
              "            title=\"Convert this dataframe to an interactive table.\"\n",
              "            style=\"display:none;\">\n",
              "\n",
              "  <svg xmlns=\"http://www.w3.org/2000/svg\" height=\"24px\" viewBox=\"0 -960 960 960\">\n",
              "    <path d=\"M120-120v-720h720v720H120Zm60-500h600v-160H180v160Zm220 220h160v-160H400v160Zm0 220h160v-160H400v160ZM180-400h160v-160H180v160Zm440 0h160v-160H620v160ZM180-180h160v-160H180v160Zm440 0h160v-160H620v160Z\"/>\n",
              "  </svg>\n",
              "    </button>\n",
              "\n",
              "  <style>\n",
              "    .colab-df-container {\n",
              "      display:flex;\n",
              "      gap: 12px;\n",
              "    }\n",
              "\n",
              "    .colab-df-convert {\n",
              "      background-color: #E8F0FE;\n",
              "      border: none;\n",
              "      border-radius: 50%;\n",
              "      cursor: pointer;\n",
              "      display: none;\n",
              "      fill: #1967D2;\n",
              "      height: 32px;\n",
              "      padding: 0 0 0 0;\n",
              "      width: 32px;\n",
              "    }\n",
              "\n",
              "    .colab-df-convert:hover {\n",
              "      background-color: #E2EBFA;\n",
              "      box-shadow: 0px 1px 2px rgba(60, 64, 67, 0.3), 0px 1px 3px 1px rgba(60, 64, 67, 0.15);\n",
              "      fill: #174EA6;\n",
              "    }\n",
              "\n",
              "    .colab-df-buttons div {\n",
              "      margin-bottom: 4px;\n",
              "    }\n",
              "\n",
              "    [theme=dark] .colab-df-convert {\n",
              "      background-color: #3B4455;\n",
              "      fill: #D2E3FC;\n",
              "    }\n",
              "\n",
              "    [theme=dark] .colab-df-convert:hover {\n",
              "      background-color: #434B5C;\n",
              "      box-shadow: 0px 1px 3px 1px rgba(0, 0, 0, 0.15);\n",
              "      filter: drop-shadow(0px 1px 2px rgba(0, 0, 0, 0.3));\n",
              "      fill: #FFFFFF;\n",
              "    }\n",
              "  </style>\n",
              "\n",
              "    <script>\n",
              "      const buttonEl =\n",
              "        document.querySelector('#df-91d70df4-9c61-408f-b952-77965d816793 button.colab-df-convert');\n",
              "      buttonEl.style.display =\n",
              "        google.colab.kernel.accessAllowed ? 'block' : 'none';\n",
              "\n",
              "      async function convertToInteractive(key) {\n",
              "        const element = document.querySelector('#df-91d70df4-9c61-408f-b952-77965d816793');\n",
              "        const dataTable =\n",
              "          await google.colab.kernel.invokeFunction('convertToInteractive',\n",
              "                                                    [key], {});\n",
              "        if (!dataTable) return;\n",
              "\n",
              "        const docLinkHtml = 'Like what you see? Visit the ' +\n",
              "          '<a target=\"_blank\" href=https://colab.research.google.com/notebooks/data_table.ipynb>data table notebook</a>'\n",
              "          + ' to learn more about interactive tables.';\n",
              "        element.innerHTML = '';\n",
              "        dataTable['output_type'] = 'display_data';\n",
              "        await google.colab.output.renderOutput(dataTable, element);\n",
              "        const docLink = document.createElement('div');\n",
              "        docLink.innerHTML = docLinkHtml;\n",
              "        element.appendChild(docLink);\n",
              "      }\n",
              "    </script>\n",
              "  </div>\n",
              "\n",
              "\n",
              "<div id=\"df-52a4ed1f-7679-45dc-a445-2a592bd2ce95\">\n",
              "  <button class=\"colab-df-quickchart\" onclick=\"quickchart('df-52a4ed1f-7679-45dc-a445-2a592bd2ce95')\"\n",
              "            title=\"Suggest charts\"\n",
              "            style=\"display:none;\">\n",
              "\n",
              "<svg xmlns=\"http://www.w3.org/2000/svg\" height=\"24px\"viewBox=\"0 0 24 24\"\n",
              "     width=\"24px\">\n",
              "    <g>\n",
              "        <path d=\"M19 3H5c-1.1 0-2 .9-2 2v14c0 1.1.9 2 2 2h14c1.1 0 2-.9 2-2V5c0-1.1-.9-2-2-2zM9 17H7v-7h2v7zm4 0h-2V7h2v10zm4 0h-2v-4h2v4z\"/>\n",
              "    </g>\n",
              "</svg>\n",
              "  </button>\n",
              "\n",
              "<style>\n",
              "  .colab-df-quickchart {\n",
              "      --bg-color: #E8F0FE;\n",
              "      --fill-color: #1967D2;\n",
              "      --hover-bg-color: #E2EBFA;\n",
              "      --hover-fill-color: #174EA6;\n",
              "      --disabled-fill-color: #AAA;\n",
              "      --disabled-bg-color: #DDD;\n",
              "  }\n",
              "\n",
              "  [theme=dark] .colab-df-quickchart {\n",
              "      --bg-color: #3B4455;\n",
              "      --fill-color: #D2E3FC;\n",
              "      --hover-bg-color: #434B5C;\n",
              "      --hover-fill-color: #FFFFFF;\n",
              "      --disabled-bg-color: #3B4455;\n",
              "      --disabled-fill-color: #666;\n",
              "  }\n",
              "\n",
              "  .colab-df-quickchart {\n",
              "    background-color: var(--bg-color);\n",
              "    border: none;\n",
              "    border-radius: 50%;\n",
              "    cursor: pointer;\n",
              "    display: none;\n",
              "    fill: var(--fill-color);\n",
              "    height: 32px;\n",
              "    padding: 0;\n",
              "    width: 32px;\n",
              "  }\n",
              "\n",
              "  .colab-df-quickchart:hover {\n",
              "    background-color: var(--hover-bg-color);\n",
              "    box-shadow: 0 1px 2px rgba(60, 64, 67, 0.3), 0 1px 3px 1px rgba(60, 64, 67, 0.15);\n",
              "    fill: var(--button-hover-fill-color);\n",
              "  }\n",
              "\n",
              "  .colab-df-quickchart-complete:disabled,\n",
              "  .colab-df-quickchart-complete:disabled:hover {\n",
              "    background-color: var(--disabled-bg-color);\n",
              "    fill: var(--disabled-fill-color);\n",
              "    box-shadow: none;\n",
              "  }\n",
              "\n",
              "  .colab-df-spinner {\n",
              "    border: 2px solid var(--fill-color);\n",
              "    border-color: transparent;\n",
              "    border-bottom-color: var(--fill-color);\n",
              "    animation:\n",
              "      spin 1s steps(1) infinite;\n",
              "  }\n",
              "\n",
              "  @keyframes spin {\n",
              "    0% {\n",
              "      border-color: transparent;\n",
              "      border-bottom-color: var(--fill-color);\n",
              "      border-left-color: var(--fill-color);\n",
              "    }\n",
              "    20% {\n",
              "      border-color: transparent;\n",
              "      border-left-color: var(--fill-color);\n",
              "      border-top-color: var(--fill-color);\n",
              "    }\n",
              "    30% {\n",
              "      border-color: transparent;\n",
              "      border-left-color: var(--fill-color);\n",
              "      border-top-color: var(--fill-color);\n",
              "      border-right-color: var(--fill-color);\n",
              "    }\n",
              "    40% {\n",
              "      border-color: transparent;\n",
              "      border-right-color: var(--fill-color);\n",
              "      border-top-color: var(--fill-color);\n",
              "    }\n",
              "    60% {\n",
              "      border-color: transparent;\n",
              "      border-right-color: var(--fill-color);\n",
              "    }\n",
              "    80% {\n",
              "      border-color: transparent;\n",
              "      border-right-color: var(--fill-color);\n",
              "      border-bottom-color: var(--fill-color);\n",
              "    }\n",
              "    90% {\n",
              "      border-color: transparent;\n",
              "      border-bottom-color: var(--fill-color);\n",
              "    }\n",
              "  }\n",
              "</style>\n",
              "\n",
              "  <script>\n",
              "    async function quickchart(key) {\n",
              "      const quickchartButtonEl =\n",
              "        document.querySelector('#' + key + ' button');\n",
              "      quickchartButtonEl.disabled = true;  // To prevent multiple clicks.\n",
              "      quickchartButtonEl.classList.add('colab-df-spinner');\n",
              "      try {\n",
              "        const charts = await google.colab.kernel.invokeFunction(\n",
              "            'suggestCharts', [key], {});\n",
              "      } catch (error) {\n",
              "        console.error('Error during call to suggestCharts:', error);\n",
              "      }\n",
              "      quickchartButtonEl.classList.remove('colab-df-spinner');\n",
              "      quickchartButtonEl.classList.add('colab-df-quickchart-complete');\n",
              "    }\n",
              "    (() => {\n",
              "      let quickchartButtonEl =\n",
              "        document.querySelector('#df-52a4ed1f-7679-45dc-a445-2a592bd2ce95 button');\n",
              "      quickchartButtonEl.style.display =\n",
              "        google.colab.kernel.accessAllowed ? 'block' : 'none';\n",
              "    })();\n",
              "  </script>\n",
              "</div>\n",
              "\n",
              "  <div id=\"id_d6d5885d-d6fa-4e5d-bd9e-13b88043eb54\">\n",
              "    <style>\n",
              "      .colab-df-generate {\n",
              "        background-color: #E8F0FE;\n",
              "        border: none;\n",
              "        border-radius: 50%;\n",
              "        cursor: pointer;\n",
              "        display: none;\n",
              "        fill: #1967D2;\n",
              "        height: 32px;\n",
              "        padding: 0 0 0 0;\n",
              "        width: 32px;\n",
              "      }\n",
              "\n",
              "      .colab-df-generate:hover {\n",
              "        background-color: #E2EBFA;\n",
              "        box-shadow: 0px 1px 2px rgba(60, 64, 67, 0.3), 0px 1px 3px 1px rgba(60, 64, 67, 0.15);\n",
              "        fill: #174EA6;\n",
              "      }\n",
              "\n",
              "      [theme=dark] .colab-df-generate {\n",
              "        background-color: #3B4455;\n",
              "        fill: #D2E3FC;\n",
              "      }\n",
              "\n",
              "      [theme=dark] .colab-df-generate:hover {\n",
              "        background-color: #434B5C;\n",
              "        box-shadow: 0px 1px 3px 1px rgba(0, 0, 0, 0.15);\n",
              "        filter: drop-shadow(0px 1px 2px rgba(0, 0, 0, 0.3));\n",
              "        fill: #FFFFFF;\n",
              "      }\n",
              "    </style>\n",
              "    <button class=\"colab-df-generate\" onclick=\"generateWithVariable('data')\"\n",
              "            title=\"Generate code using this dataframe.\"\n",
              "            style=\"display:none;\">\n",
              "\n",
              "  <svg xmlns=\"http://www.w3.org/2000/svg\" height=\"24px\"viewBox=\"0 0 24 24\"\n",
              "       width=\"24px\">\n",
              "    <path d=\"M7,19H8.4L18.45,9,17,7.55,7,17.6ZM5,21V16.75L18.45,3.32a2,2,0,0,1,2.83,0l1.4,1.43a1.91,1.91,0,0,1,.58,1.4,1.91,1.91,0,0,1-.58,1.4L9.25,21ZM18.45,9,17,7.55Zm-12,3A5.31,5.31,0,0,0,4.9,8.1,5.31,5.31,0,0,0,1,6.5,5.31,5.31,0,0,0,4.9,4.9,5.31,5.31,0,0,0,6.5,1,5.31,5.31,0,0,0,8.1,4.9,5.31,5.31,0,0,0,12,6.5,5.46,5.46,0,0,0,6.5,12Z\"/>\n",
              "  </svg>\n",
              "    </button>\n",
              "    <script>\n",
              "      (() => {\n",
              "      const buttonEl =\n",
              "        document.querySelector('#id_d6d5885d-d6fa-4e5d-bd9e-13b88043eb54 button.colab-df-generate');\n",
              "      buttonEl.style.display =\n",
              "        google.colab.kernel.accessAllowed ? 'block' : 'none';\n",
              "\n",
              "      buttonEl.onclick = () => {\n",
              "        google.colab.notebook.generateWithVariable('data');\n",
              "      }\n",
              "      })();\n",
              "    </script>\n",
              "  </div>\n",
              "\n",
              "    </div>\n",
              "  </div>\n"
            ],
            "application/vnd.google.colaboratory.intrinsic+json": {
              "type": "dataframe",
              "variable_name": "data",
              "summary": "{\n  \"name\": \"data\",\n  \"rows\": 2300,\n  \"fields\": [\n    {\n      \"column\": \"review\",\n      \"properties\": {\n        \"dtype\": \"string\",\n        \"num_unique_values\": 2264,\n        \"samples\": [\n          \"\\u0e08\\u0e4b\\u0e32\\u0e25\\u0e39\\u0e01\\u0e2d\\u0e22\\u0e32\\u0e01\\u0e2b\\u0e25\\u0e32\\u0e27\\u0e40\\u0e2d\\u0e2d\\n\",\n          \"\\u0e2a\\u0e2b\\u0e20\\u0e32\\u0e1e\\u0e41\\u0e23\\u0e07\\u0e07\\u0e32\\u0e19 \\u0e40\\u0e2b\\u0e2d\\u0e30\\u0e46\",\n          \"\\u0e08\\u0e49\\u0e2d\\u0e19\\u0e19\\u0e46\"\n        ],\n        \"semantic_type\": \"\",\n        \"description\": \"\"\n      }\n    },\n    {\n      \"column\": \"label\",\n      \"properties\": {\n        \"dtype\": \"category\",\n        \"num_unique_values\": 6,\n        \"samples\": [\n          \"\\u0e04\\u0e33\\u0e17\\u0e31\\u0e48\\u0e27\\u0e44\\u0e1b\\u0e17\\u0e32\\u0e07\\u0e01\\u0e32\\u0e23\\u0e0a\\u0e21\",\n          \"\\u0e04\\u0e33\\u0e17\\u0e31\\u0e48\\u0e27\\u0e44\\u0e1b\",\n          \"\\u0e40\\u0e2b\\u0e22\\u0e35\\u0e22\\u0e14\\u0e40\\u0e1e\\u0e28\"\n        ],\n        \"semantic_type\": \"\",\n        \"description\": \"\"\n      }\n    }\n  ]\n}"
            }
          },
          "metadata": {},
          "execution_count": 10
        }
      ],
      "source": [
        "import pandas as pd\n",
        "\n",
        "# ตั้งค่า path ของไฟล์\n",
        "file_path = '/content/TextClass.csv'\n",
        "\n",
        "\n",
        "# โหลดไฟล์ CSV เป็น DataFrame\n",
        "data = pd.read_csv(file_path)\n",
        "\n",
        "\n",
        "#เปลี่ยนชื่อ labels\n",
        "new_labels = {\n",
        "    0: \"คำทั่วไปทางการชม\",\n",
        "    1: \"คำทั่วไป\",\n",
        "    2: \"คำหยาบปกติ\",\n",
        "    3: \"เหยียดรูปร่าง\",\n",
        "    4: \"เหยียดชนชั้น\",\n",
        "    5: \"เหยียดเพศ\"\n",
        "}\n",
        "\n",
        "data['label'] = data['label'].map(new_labels)\n",
        "data = data.rename(columns={'text': 'review'})\n",
        "# แสดงข้อมูล\n",
        "data"
      ]
    },
    {
      "cell_type": "code",
      "execution_count": null,
      "metadata": {
        "colab": {
          "base_uri": "https://localhost:8080/",
          "height": 423
        },
        "id": "53uA1NzdFWDB",
        "outputId": "b3a252ff-908a-41ce-d51a-afbae7225ac9"
      },
      "outputs": [
        {
          "output_type": "execute_result",
          "data": {
            "text/plain": [
              "                                                 review             label\n",
              "0                   พี่เบ๊บบี้จัดฟันแล้วน่ารักสุดๆๆๆๆๆๆ  คำทั่วไปทางการชม\n",
              "1                            พี่เบ๊บบี้จัดฟันน่ารักมากก  คำทั่วไปทางการชม\n",
              "2                                          พี่สวยมากค่ะ  คำทั่วไปทางการชม\n",
              "3                                     งามมากกลูกสาวววว💛  คำทั่วไปทางการชม\n",
              "4                                              คนสวย🥰🥰🥰  คำทั่วไปทางการชม\n",
              "...                                                 ...               ...\n",
              "2295  กูเขดและเน๊าะ โปรวันพุธ มะเติมของเลยต้องรอคิวเ...        คำหยาบปกติ\n",
              "2296    โห้ ไม่เคยเจอฟอร์จูน crv pajero ตามหลังเลยหรา\\n        คำหยาบปกติ\n",
              "2297  Mazda cx-3 ใหม่ คือไม่ไหวอะ เห็นละทนไม่ได้ สวย...        คำหยาบปกติ\n",
              "2298                        แดกเบียร์เหล้ากูเอียนสปาย\\n        คำหยาบปกติ\n",
              "2299  มีที่เขียนคิ้วอันไหนดีกว่าของอีทูดี้บ้าง คือน้...        คำหยาบปกติ\n",
              "\n",
              "[2300 rows x 2 columns]"
            ],
            "text/html": [
              "\n",
              "  <div id=\"df-eeb684f1-2e29-478c-a7c3-03cf4dfef1f1\" class=\"colab-df-container\">\n",
              "    <div>\n",
              "<style scoped>\n",
              "    .dataframe tbody tr th:only-of-type {\n",
              "        vertical-align: middle;\n",
              "    }\n",
              "\n",
              "    .dataframe tbody tr th {\n",
              "        vertical-align: top;\n",
              "    }\n",
              "\n",
              "    .dataframe thead th {\n",
              "        text-align: right;\n",
              "    }\n",
              "</style>\n",
              "<table border=\"1\" class=\"dataframe\">\n",
              "  <thead>\n",
              "    <tr style=\"text-align: right;\">\n",
              "      <th></th>\n",
              "      <th>review</th>\n",
              "      <th>label</th>\n",
              "    </tr>\n",
              "  </thead>\n",
              "  <tbody>\n",
              "    <tr>\n",
              "      <th>0</th>\n",
              "      <td>พี่เบ๊บบี้จัดฟันแล้วน่ารักสุดๆๆๆๆๆๆ</td>\n",
              "      <td>คำทั่วไปทางการชม</td>\n",
              "    </tr>\n",
              "    <tr>\n",
              "      <th>1</th>\n",
              "      <td>พี่เบ๊บบี้จัดฟันน่ารักมากก</td>\n",
              "      <td>คำทั่วไปทางการชม</td>\n",
              "    </tr>\n",
              "    <tr>\n",
              "      <th>2</th>\n",
              "      <td>พี่สวยมากค่ะ</td>\n",
              "      <td>คำทั่วไปทางการชม</td>\n",
              "    </tr>\n",
              "    <tr>\n",
              "      <th>3</th>\n",
              "      <td>งามมากกลูกสาวววว💛</td>\n",
              "      <td>คำทั่วไปทางการชม</td>\n",
              "    </tr>\n",
              "    <tr>\n",
              "      <th>4</th>\n",
              "      <td>คนสวย🥰🥰🥰</td>\n",
              "      <td>คำทั่วไปทางการชม</td>\n",
              "    </tr>\n",
              "    <tr>\n",
              "      <th>...</th>\n",
              "      <td>...</td>\n",
              "      <td>...</td>\n",
              "    </tr>\n",
              "    <tr>\n",
              "      <th>2295</th>\n",
              "      <td>กูเขดและเน๊าะ โปรวันพุธ มะเติมของเลยต้องรอคิวเ...</td>\n",
              "      <td>คำหยาบปกติ</td>\n",
              "    </tr>\n",
              "    <tr>\n",
              "      <th>2296</th>\n",
              "      <td>โห้ ไม่เคยเจอฟอร์จูน crv pajero ตามหลังเลยหรา\\n</td>\n",
              "      <td>คำหยาบปกติ</td>\n",
              "    </tr>\n",
              "    <tr>\n",
              "      <th>2297</th>\n",
              "      <td>Mazda cx-3 ใหม่ คือไม่ไหวอะ เห็นละทนไม่ได้ สวย...</td>\n",
              "      <td>คำหยาบปกติ</td>\n",
              "    </tr>\n",
              "    <tr>\n",
              "      <th>2298</th>\n",
              "      <td>แดกเบียร์เหล้ากูเอียนสปาย\\n</td>\n",
              "      <td>คำหยาบปกติ</td>\n",
              "    </tr>\n",
              "    <tr>\n",
              "      <th>2299</th>\n",
              "      <td>มีที่เขียนคิ้วอันไหนดีกว่าของอีทูดี้บ้าง คือน้...</td>\n",
              "      <td>คำหยาบปกติ</td>\n",
              "    </tr>\n",
              "  </tbody>\n",
              "</table>\n",
              "<p>2300 rows × 2 columns</p>\n",
              "</div>\n",
              "    <div class=\"colab-df-buttons\">\n",
              "\n",
              "  <div class=\"colab-df-container\">\n",
              "    <button class=\"colab-df-convert\" onclick=\"convertToInteractive('df-eeb684f1-2e29-478c-a7c3-03cf4dfef1f1')\"\n",
              "            title=\"Convert this dataframe to an interactive table.\"\n",
              "            style=\"display:none;\">\n",
              "\n",
              "  <svg xmlns=\"http://www.w3.org/2000/svg\" height=\"24px\" viewBox=\"0 -960 960 960\">\n",
              "    <path d=\"M120-120v-720h720v720H120Zm60-500h600v-160H180v160Zm220 220h160v-160H400v160Zm0 220h160v-160H400v160ZM180-400h160v-160H180v160Zm440 0h160v-160H620v160ZM180-180h160v-160H180v160Zm440 0h160v-160H620v160Z\"/>\n",
              "  </svg>\n",
              "    </button>\n",
              "\n",
              "  <style>\n",
              "    .colab-df-container {\n",
              "      display:flex;\n",
              "      gap: 12px;\n",
              "    }\n",
              "\n",
              "    .colab-df-convert {\n",
              "      background-color: #E8F0FE;\n",
              "      border: none;\n",
              "      border-radius: 50%;\n",
              "      cursor: pointer;\n",
              "      display: none;\n",
              "      fill: #1967D2;\n",
              "      height: 32px;\n",
              "      padding: 0 0 0 0;\n",
              "      width: 32px;\n",
              "    }\n",
              "\n",
              "    .colab-df-convert:hover {\n",
              "      background-color: #E2EBFA;\n",
              "      box-shadow: 0px 1px 2px rgba(60, 64, 67, 0.3), 0px 1px 3px 1px rgba(60, 64, 67, 0.15);\n",
              "      fill: #174EA6;\n",
              "    }\n",
              "\n",
              "    .colab-df-buttons div {\n",
              "      margin-bottom: 4px;\n",
              "    }\n",
              "\n",
              "    [theme=dark] .colab-df-convert {\n",
              "      background-color: #3B4455;\n",
              "      fill: #D2E3FC;\n",
              "    }\n",
              "\n",
              "    [theme=dark] .colab-df-convert:hover {\n",
              "      background-color: #434B5C;\n",
              "      box-shadow: 0px 1px 3px 1px rgba(0, 0, 0, 0.15);\n",
              "      filter: drop-shadow(0px 1px 2px rgba(0, 0, 0, 0.3));\n",
              "      fill: #FFFFFF;\n",
              "    }\n",
              "  </style>\n",
              "\n",
              "    <script>\n",
              "      const buttonEl =\n",
              "        document.querySelector('#df-eeb684f1-2e29-478c-a7c3-03cf4dfef1f1 button.colab-df-convert');\n",
              "      buttonEl.style.display =\n",
              "        google.colab.kernel.accessAllowed ? 'block' : 'none';\n",
              "\n",
              "      async function convertToInteractive(key) {\n",
              "        const element = document.querySelector('#df-eeb684f1-2e29-478c-a7c3-03cf4dfef1f1');\n",
              "        const dataTable =\n",
              "          await google.colab.kernel.invokeFunction('convertToInteractive',\n",
              "                                                    [key], {});\n",
              "        if (!dataTable) return;\n",
              "\n",
              "        const docLinkHtml = 'Like what you see? Visit the ' +\n",
              "          '<a target=\"_blank\" href=https://colab.research.google.com/notebooks/data_table.ipynb>data table notebook</a>'\n",
              "          + ' to learn more about interactive tables.';\n",
              "        element.innerHTML = '';\n",
              "        dataTable['output_type'] = 'display_data';\n",
              "        await google.colab.output.renderOutput(dataTable, element);\n",
              "        const docLink = document.createElement('div');\n",
              "        docLink.innerHTML = docLinkHtml;\n",
              "        element.appendChild(docLink);\n",
              "      }\n",
              "    </script>\n",
              "  </div>\n",
              "\n",
              "\n",
              "<div id=\"df-be05ab7a-3827-4540-8c10-5dfa8f7e9f7f\">\n",
              "  <button class=\"colab-df-quickchart\" onclick=\"quickchart('df-be05ab7a-3827-4540-8c10-5dfa8f7e9f7f')\"\n",
              "            title=\"Suggest charts\"\n",
              "            style=\"display:none;\">\n",
              "\n",
              "<svg xmlns=\"http://www.w3.org/2000/svg\" height=\"24px\"viewBox=\"0 0 24 24\"\n",
              "     width=\"24px\">\n",
              "    <g>\n",
              "        <path d=\"M19 3H5c-1.1 0-2 .9-2 2v14c0 1.1.9 2 2 2h14c1.1 0 2-.9 2-2V5c0-1.1-.9-2-2-2zM9 17H7v-7h2v7zm4 0h-2V7h2v10zm4 0h-2v-4h2v4z\"/>\n",
              "    </g>\n",
              "</svg>\n",
              "  </button>\n",
              "\n",
              "<style>\n",
              "  .colab-df-quickchart {\n",
              "      --bg-color: #E8F0FE;\n",
              "      --fill-color: #1967D2;\n",
              "      --hover-bg-color: #E2EBFA;\n",
              "      --hover-fill-color: #174EA6;\n",
              "      --disabled-fill-color: #AAA;\n",
              "      --disabled-bg-color: #DDD;\n",
              "  }\n",
              "\n",
              "  [theme=dark] .colab-df-quickchart {\n",
              "      --bg-color: #3B4455;\n",
              "      --fill-color: #D2E3FC;\n",
              "      --hover-bg-color: #434B5C;\n",
              "      --hover-fill-color: #FFFFFF;\n",
              "      --disabled-bg-color: #3B4455;\n",
              "      --disabled-fill-color: #666;\n",
              "  }\n",
              "\n",
              "  .colab-df-quickchart {\n",
              "    background-color: var(--bg-color);\n",
              "    border: none;\n",
              "    border-radius: 50%;\n",
              "    cursor: pointer;\n",
              "    display: none;\n",
              "    fill: var(--fill-color);\n",
              "    height: 32px;\n",
              "    padding: 0;\n",
              "    width: 32px;\n",
              "  }\n",
              "\n",
              "  .colab-df-quickchart:hover {\n",
              "    background-color: var(--hover-bg-color);\n",
              "    box-shadow: 0 1px 2px rgba(60, 64, 67, 0.3), 0 1px 3px 1px rgba(60, 64, 67, 0.15);\n",
              "    fill: var(--button-hover-fill-color);\n",
              "  }\n",
              "\n",
              "  .colab-df-quickchart-complete:disabled,\n",
              "  .colab-df-quickchart-complete:disabled:hover {\n",
              "    background-color: var(--disabled-bg-color);\n",
              "    fill: var(--disabled-fill-color);\n",
              "    box-shadow: none;\n",
              "  }\n",
              "\n",
              "  .colab-df-spinner {\n",
              "    border: 2px solid var(--fill-color);\n",
              "    border-color: transparent;\n",
              "    border-bottom-color: var(--fill-color);\n",
              "    animation:\n",
              "      spin 1s steps(1) infinite;\n",
              "  }\n",
              "\n",
              "  @keyframes spin {\n",
              "    0% {\n",
              "      border-color: transparent;\n",
              "      border-bottom-color: var(--fill-color);\n",
              "      border-left-color: var(--fill-color);\n",
              "    }\n",
              "    20% {\n",
              "      border-color: transparent;\n",
              "      border-left-color: var(--fill-color);\n",
              "      border-top-color: var(--fill-color);\n",
              "    }\n",
              "    30% {\n",
              "      border-color: transparent;\n",
              "      border-left-color: var(--fill-color);\n",
              "      border-top-color: var(--fill-color);\n",
              "      border-right-color: var(--fill-color);\n",
              "    }\n",
              "    40% {\n",
              "      border-color: transparent;\n",
              "      border-right-color: var(--fill-color);\n",
              "      border-top-color: var(--fill-color);\n",
              "    }\n",
              "    60% {\n",
              "      border-color: transparent;\n",
              "      border-right-color: var(--fill-color);\n",
              "    }\n",
              "    80% {\n",
              "      border-color: transparent;\n",
              "      border-right-color: var(--fill-color);\n",
              "      border-bottom-color: var(--fill-color);\n",
              "    }\n",
              "    90% {\n",
              "      border-color: transparent;\n",
              "      border-bottom-color: var(--fill-color);\n",
              "    }\n",
              "  }\n",
              "</style>\n",
              "\n",
              "  <script>\n",
              "    async function quickchart(key) {\n",
              "      const quickchartButtonEl =\n",
              "        document.querySelector('#' + key + ' button');\n",
              "      quickchartButtonEl.disabled = true;  // To prevent multiple clicks.\n",
              "      quickchartButtonEl.classList.add('colab-df-spinner');\n",
              "      try {\n",
              "        const charts = await google.colab.kernel.invokeFunction(\n",
              "            'suggestCharts', [key], {});\n",
              "      } catch (error) {\n",
              "        console.error('Error during call to suggestCharts:', error);\n",
              "      }\n",
              "      quickchartButtonEl.classList.remove('colab-df-spinner');\n",
              "      quickchartButtonEl.classList.add('colab-df-quickchart-complete');\n",
              "    }\n",
              "    (() => {\n",
              "      let quickchartButtonEl =\n",
              "        document.querySelector('#df-be05ab7a-3827-4540-8c10-5dfa8f7e9f7f button');\n",
              "      quickchartButtonEl.style.display =\n",
              "        google.colab.kernel.accessAllowed ? 'block' : 'none';\n",
              "    })();\n",
              "  </script>\n",
              "</div>\n",
              "\n",
              "  <div id=\"id_b2fcd613-a919-4cb5-b393-e1ca54b88657\">\n",
              "    <style>\n",
              "      .colab-df-generate {\n",
              "        background-color: #E8F0FE;\n",
              "        border: none;\n",
              "        border-radius: 50%;\n",
              "        cursor: pointer;\n",
              "        display: none;\n",
              "        fill: #1967D2;\n",
              "        height: 32px;\n",
              "        padding: 0 0 0 0;\n",
              "        width: 32px;\n",
              "      }\n",
              "\n",
              "      .colab-df-generate:hover {\n",
              "        background-color: #E2EBFA;\n",
              "        box-shadow: 0px 1px 2px rgba(60, 64, 67, 0.3), 0px 1px 3px 1px rgba(60, 64, 67, 0.15);\n",
              "        fill: #174EA6;\n",
              "      }\n",
              "\n",
              "      [theme=dark] .colab-df-generate {\n",
              "        background-color: #3B4455;\n",
              "        fill: #D2E3FC;\n",
              "      }\n",
              "\n",
              "      [theme=dark] .colab-df-generate:hover {\n",
              "        background-color: #434B5C;\n",
              "        box-shadow: 0px 1px 3px 1px rgba(0, 0, 0, 0.15);\n",
              "        filter: drop-shadow(0px 1px 2px rgba(0, 0, 0, 0.3));\n",
              "        fill: #FFFFFF;\n",
              "      }\n",
              "    </style>\n",
              "    <button class=\"colab-df-generate\" onclick=\"generateWithVariable('data')\"\n",
              "            title=\"Generate code using this dataframe.\"\n",
              "            style=\"display:none;\">\n",
              "\n",
              "  <svg xmlns=\"http://www.w3.org/2000/svg\" height=\"24px\"viewBox=\"0 0 24 24\"\n",
              "       width=\"24px\">\n",
              "    <path d=\"M7,19H8.4L18.45,9,17,7.55,7,17.6ZM5,21V16.75L18.45,3.32a2,2,0,0,1,2.83,0l1.4,1.43a1.91,1.91,0,0,1,.58,1.4,1.91,1.91,0,0,1-.58,1.4L9.25,21ZM18.45,9,17,7.55Zm-12,3A5.31,5.31,0,0,0,4.9,8.1,5.31,5.31,0,0,0,1,6.5,5.31,5.31,0,0,0,4.9,4.9,5.31,5.31,0,0,0,6.5,1,5.31,5.31,0,0,0,8.1,4.9,5.31,5.31,0,0,0,12,6.5,5.46,5.46,0,0,0,6.5,12Z\"/>\n",
              "  </svg>\n",
              "    </button>\n",
              "    <script>\n",
              "      (() => {\n",
              "      const buttonEl =\n",
              "        document.querySelector('#id_b2fcd613-a919-4cb5-b393-e1ca54b88657 button.colab-df-generate');\n",
              "      buttonEl.style.display =\n",
              "        google.colab.kernel.accessAllowed ? 'block' : 'none';\n",
              "\n",
              "      buttonEl.onclick = () => {\n",
              "        google.colab.notebook.generateWithVariable('data');\n",
              "      }\n",
              "      })();\n",
              "    </script>\n",
              "  </div>\n",
              "\n",
              "    </div>\n",
              "  </div>\n"
            ],
            "application/vnd.google.colaboratory.intrinsic+json": {
              "type": "dataframe",
              "variable_name": "data",
              "summary": "{\n  \"name\": \"data\",\n  \"rows\": 2300,\n  \"fields\": [\n    {\n      \"column\": \"review\",\n      \"properties\": {\n        \"dtype\": \"string\",\n        \"num_unique_values\": 2264,\n        \"samples\": [\n          \"\\u0e08\\u0e4b\\u0e32\\u0e25\\u0e39\\u0e01\\u0e2d\\u0e22\\u0e32\\u0e01\\u0e2b\\u0e25\\u0e32\\u0e27\\u0e40\\u0e2d\\u0e2d\\n\",\n          \"\\u0e2a\\u0e2b\\u0e20\\u0e32\\u0e1e\\u0e41\\u0e23\\u0e07\\u0e07\\u0e32\\u0e19 \\u0e40\\u0e2b\\u0e2d\\u0e30\\u0e46\",\n          \"\\u0e08\\u0e49\\u0e2d\\u0e19\\u0e19\\u0e46\"\n        ],\n        \"semantic_type\": \"\",\n        \"description\": \"\"\n      }\n    },\n    {\n      \"column\": \"label\",\n      \"properties\": {\n        \"dtype\": \"category\",\n        \"num_unique_values\": 6,\n        \"samples\": [\n          \"\\u0e04\\u0e33\\u0e17\\u0e31\\u0e48\\u0e27\\u0e44\\u0e1b\\u0e17\\u0e32\\u0e07\\u0e01\\u0e32\\u0e23\\u0e0a\\u0e21\",\n          \"\\u0e04\\u0e33\\u0e17\\u0e31\\u0e48\\u0e27\\u0e44\\u0e1b\",\n          \"\\u0e40\\u0e2b\\u0e22\\u0e35\\u0e22\\u0e14\\u0e40\\u0e1e\\u0e28\"\n        ],\n        \"semantic_type\": \"\",\n        \"description\": \"\"\n      }\n    }\n  ]\n}"
            }
          },
          "metadata": {},
          "execution_count": 11
        }
      ],
      "source": [
        "data"
      ]
    },
    {
      "cell_type": "code",
      "execution_count": null,
      "metadata": {
        "id": "3H_SV03bi6nf"
      },
      "outputs": [],
      "source": [
        "# # Training configurations\n",
        "# SEED = 1234\n",
        "# TRAIN = False\n",
        "# BATCH_SIZE = 64\n",
        "# N_EPOCHS = 200\n",
        "\n",
        "# # Architecture\n",
        "# EMBEDDING_DIM = 128\n",
        "# HIDDEN_DIM = 512\n",
        "# OUTPUT_DIM = 6\n",
        "# N_LAYERS = 2\n",
        "# BIDIRECTIONAL = True\n",
        "# DROPOUT = 0.25"
      ]
    },
    {
      "cell_type": "code",
      "execution_count": null,
      "metadata": {
        "id": "jlamzkyAH8XS"
      },
      "outputs": [],
      "source": [
        "import pandas as pd\n",
        "import re\n",
        "import pandas as pd\n",
        "import numpy as np\n",
        "from sklearn.preprocessing import LabelEncoder\n",
        "from sklearn.model_selection import train_test_split\n",
        "from sklearn.metrics import classification_report\n",
        "from sklearn.metrics import accuracy_score\n",
        "import math\n",
        "import nltk\n",
        "from sklearn.feature_extraction.text import CountVectorizer\n",
        "from collections import defaultdict"
      ]
    },
    {
      "cell_type": "code",
      "execution_count": null,
      "metadata": {
        "id": "Q48fq11tlcRv"
      },
      "outputs": [],
      "source": [
        "# import torch\n",
        "# import torch.nn as nn\n",
        "# import torch.optim as optim\n",
        "# # Bert model and its tokenizer\n",
        "# # Text data\n",
        "# from torchtext import data, datasets\n",
        "# # Numerical computation\n",
        "# import numpy as np\n",
        "# # standard library\n",
        "# import random\n",
        "# import time\n",
        "# # Configuration\n",
        "# #from config import *\n",
        "\n",
        "# # Set random seed for reproducible experiments\n",
        "# random.seed(SEED)\n",
        "# np.random.seed(SEED)\n",
        "# torch.manual_seed(SEED)\n",
        "# torch.backends.cudnn.deterministic = True\n",
        "\n",
        "# import pandas as pd\n",
        "# import re\n",
        "# import pandas as pd\n",
        "# import numpy as np\n",
        "# from sklearn.preprocessing import LabelEncoder\n",
        "# from sklearn.model_selection import train_test_split\n",
        "# from sklearn.metrics import classification_report\n",
        "# from sklearn.metrics import accuracy_score\n",
        "# import math\n",
        "# import nltk\n",
        "# from sklearn.feature_extraction.text import CountVectorizer\n",
        "# from collections import defaultdict"
      ]
    },
    {
      "cell_type": "code",
      "execution_count": null,
      "metadata": {
        "colab": {
          "base_uri": "https://localhost:8080/"
        },
        "id": "16iJg8ocB_l0",
        "outputId": "0006346f-9d88-4a25-c227-db87c6d197e1"
      },
      "outputs": [
        {
          "output_type": "stream",
          "name": "stdout",
          "text": [
            "                                                 review             label  \\\n",
            "1072                     แลบลิ้นแล้วหน้าเป็นตัวเหี้ยเลย     เหยียดรูปร่าง   \n",
            "1931  เปลี่ยนโฉมใหม่หมดเลยค่ะ พร้อมข้อเสนอพิเศษ All ...          คำทั่วไป   \n",
            "4                                              คนสวย🥰🥰🥰  คำทั่วไปทางการชม   \n",
            "2192            แดกเบียร์ช้างทีไรเป็นอ้วกเมาค้างทุกที\\n        คำหยาบปกติ   \n",
            "581              อยากได้นิสสันมาร์ชค่ะเกียร์ออโต้น่ะค่ะ          คำทั่วไป   \n",
            "\n",
            "                                         cleaned_review  \n",
            "1072                แลบลิ้น แล้ว หน้า เป็นตัว เหี้ย เลย  \n",
            "1931  เปลี่ยน โฉมใหม่ หมด เลย ค่ะ พร้อม ข้อเสนอ พิเศ...  \n",
            "4                                                 คนสวย  \n",
            "2192       แดก เบียร์ ช้าง ทีไร เป็น อ้วก เมาค้าง ทุกที  \n",
            "581       อยากได้ นิสสัน มาร์ช ค่ะ เกียร์ ออโต้ น่ะ ค่ะ  \n"
          ]
        }
      ],
      "source": [
        "import re\n",
        "import pandas as pd\n",
        "from pythainlp.tokenize import word_tokenize\n",
        "from pythainlp.corpus.common import thai_stopwords\n",
        "\n",
        "# โหลดข้อมูล (ต้องระบุไฟล์ CSV ที่ใช้)\n",
        "\n",
        "def deEmojify(text):\n",
        "    \"\"\"ลบ Emoji ออกจากข้อความ\"\"\"\n",
        "    emoji_pattern = re.compile(\"[\"\n",
        "                               u\"\\U0001F600-\\U0001F64F\"  # emoticons\n",
        "                               u\"\\U0001F300-\\U0001F5FF\"  # symbols & pictographs\n",
        "                               u\"\\U0001F680-\\U0001F6FF\"  # transport & map symbols\n",
        "                               u\"\\U0001F700-\\U0001F77F\"  # alchemical symbols\n",
        "                               u\"\\U0001F780-\\U0001F7FF\"  # Geometric Shapes Extended\n",
        "                               u\"\\U0001F800-\\U0001F8FF\"  # Supplemental Arrows-C\n",
        "                               u\"\\U0001F900-\\U0001F9FF\"  # Supplemental Symbols and Pictographs\n",
        "                               u\"\\U0001FA00-\\U0001FA6F\"  # Chess Symbols, Symbols for Legacy Computing, etc.\n",
        "                               u\"\\U0001FA70-\\U0001FAFF\"  # Symbols and Pictographs Extended-A\n",
        "                               u\"\\U00002702-\\U000027B0\"  # Dingbats\n",
        "                               u\"\\U000024C2-\\U0001F251\"\n",
        "                               \"]+\", flags=re.UNICODE)\n",
        "    return emoji_pattern.sub(r'', text)\n",
        "\n",
        "def remove_stop_word(text):\n",
        "    \"\"\"ลบ stop words ออกจากข้อความ\"\"\"\n",
        "    stop_words = set(thai_stopwords())\n",
        "    return ' '.join([word for word in text.split() if word not in stop_words])\n",
        "\n",
        "def thai_clean_text(text):\n",
        "    \"\"\"ทำความสะอาดข้อความภาษาไทย\"\"\"\n",
        "    if not isinstance(text, str) or text.strip() == \"\":\n",
        "        return \"\"\n",
        "\n",
        "    # ลบ Emoji\n",
        "    text = deEmojify(text)\n",
        "\n",
        "    # ลบอักขระพิเศษ\n",
        "    text = re.sub(r'[.!@#%^&*()<>?/|}{~:]', '', text)\n",
        "\n",
        "    # ลบตัวเลข\n",
        "    text = re.sub(r'\\d+', '', text)\n",
        "\n",
        "    # ตัดคำ (Tokenization)\n",
        "    words = word_tokenize(text, keep_whitespace=False)\n",
        "\n",
        "    # ลบตัวอักษรที่ซ้ำกันเกิน 3 ตัว เช่น \"มากกกก\" → \"มากกก\"\n",
        "    words = [re.sub(r'([ก-ฮ])\\1{3,}', r'\\1\\1\\1', word) for word in words]\n",
        "\n",
        "    # ลบสระที่ซ้ำกันทิ้ง\n",
        "    words = [re.sub(r'([ะ-ูเ-ไ็-๋ๆ])\\1{2,}', r'\\1\\1', word) for word in words]\n",
        "\n",
        "    # ลบคำที่เหลือแต่ตัวอักษรซ้ำ เช่น \"นนนนนนน\" → ลบทิ้ง\n",
        "    words = [word for word in words if not re.fullmatch(r'([ก-ฮ])\\1+', word)]\n",
        "\n",
        "    # ลบ stop words\n",
        "    # words = [word for word in words if word not in thai_stopwords()]\n",
        "\n",
        "    return ' '.join(words).strip()\n",
        "\n",
        "# ทำความสะอาดคอลัมน์ review\n",
        "data['cleaned_review'] = data['review'].astype(str).apply(thai_clean_text)\n",
        "\n",
        "# บันทึกผลลัพธ์\n",
        "data.to_csv('cleaned_data.csv', index=False, encoding='utf-8')\n",
        "\n",
        "# แสดงตัวอย่างข้อมูลที่ทำความสะอาดแล้ว\n",
        "print(data.sample(5))\n"
      ]
    },
    {
      "cell_type": "code",
      "execution_count": null,
      "metadata": {
        "colab": {
          "base_uri": "https://localhost:8080/",
          "height": 562
        },
        "id": "w8osJbDkAE1O",
        "outputId": "c08df1fd-fdd9-46c2-bc16-add2ebe20b49"
      },
      "outputs": [
        {
          "output_type": "execute_result",
          "data": {
            "text/plain": [
              "                                                 review             label  \\\n",
              "0                   พี่เบ๊บบี้จัดฟันแล้วน่ารักสุดๆๆๆๆๆๆ  คำทั่วไปทางการชม   \n",
              "1                            พี่เบ๊บบี้จัดฟันน่ารักมากก  คำทั่วไปทางการชม   \n",
              "2                                          พี่สวยมากค่ะ  คำทั่วไปทางการชม   \n",
              "3                                     งามมากกลูกสาวววว💛  คำทั่วไปทางการชม   \n",
              "4                                              คนสวย🥰🥰🥰  คำทั่วไปทางการชม   \n",
              "...                                                 ...               ...   \n",
              "2295  กูเขดและเน๊าะ โปรวันพุธ มะเติมของเลยต้องรอคิวเ...        คำหยาบปกติ   \n",
              "2296    โห้ ไม่เคยเจอฟอร์จูน crv pajero ตามหลังเลยหรา\\n        คำหยาบปกติ   \n",
              "2297  Mazda cx-3 ใหม่ คือไม่ไหวอะ เห็นละทนไม่ได้ สวย...        คำหยาบปกติ   \n",
              "2298                        แดกเบียร์เหล้ากูเอียนสปาย\\n        คำหยาบปกติ   \n",
              "2299  มีที่เขียนคิ้วอันไหนดีกว่าของอีทูดี้บ้าง คือน้...        คำหยาบปกติ   \n",
              "\n",
              "                                         cleaned_review  \n",
              "0               พี่ เบ๊บ บี้ จัด ฟัน แล้ว น่ารัก สุด ๆๆ  \n",
              "1                        พี่ เบ๊บ บี้ จัด ฟัน น่ารัก มา  \n",
              "2                                       พี่ สวย มาก ค่ะ  \n",
              "3                                         งาม มา ลูกสาว  \n",
              "4                                                 คนสวย  \n",
              "...                                                 ...  \n",
              "2295  กู เข ด และ เน๊าะ โปร วัน พุธ มะ เติม ของ เลย ...  \n",
              "2296  โห้ ไม่ เคย เจอ ฟอร์จูน crv pajero ตามหลัง เลย...  \n",
              "2297  Mazda cx- ใหม่ คือ ไม่ ไหว อะ เห็น ละ ทน ไม่ ไ...  \n",
              "2298                     แดก เบียร์ เหล้า กู เอียน สปาย  \n",
              "2299  มี ที่ เขียน คิ้ว อัน ไหน ดีกว่า ของ อี ทู ดี้...  \n",
              "\n",
              "[2300 rows x 3 columns]"
            ],
            "text/html": [
              "\n",
              "  <div id=\"df-a28fd03d-cb29-4fd9-babc-dfd2e152e252\" class=\"colab-df-container\">\n",
              "    <div>\n",
              "<style scoped>\n",
              "    .dataframe tbody tr th:only-of-type {\n",
              "        vertical-align: middle;\n",
              "    }\n",
              "\n",
              "    .dataframe tbody tr th {\n",
              "        vertical-align: top;\n",
              "    }\n",
              "\n",
              "    .dataframe thead th {\n",
              "        text-align: right;\n",
              "    }\n",
              "</style>\n",
              "<table border=\"1\" class=\"dataframe\">\n",
              "  <thead>\n",
              "    <tr style=\"text-align: right;\">\n",
              "      <th></th>\n",
              "      <th>review</th>\n",
              "      <th>label</th>\n",
              "      <th>cleaned_review</th>\n",
              "    </tr>\n",
              "  </thead>\n",
              "  <tbody>\n",
              "    <tr>\n",
              "      <th>0</th>\n",
              "      <td>พี่เบ๊บบี้จัดฟันแล้วน่ารักสุดๆๆๆๆๆๆ</td>\n",
              "      <td>คำทั่วไปทางการชม</td>\n",
              "      <td>พี่ เบ๊บ บี้ จัด ฟัน แล้ว น่ารัก สุด ๆๆ</td>\n",
              "    </tr>\n",
              "    <tr>\n",
              "      <th>1</th>\n",
              "      <td>พี่เบ๊บบี้จัดฟันน่ารักมากก</td>\n",
              "      <td>คำทั่วไปทางการชม</td>\n",
              "      <td>พี่ เบ๊บ บี้ จัด ฟัน น่ารัก มา</td>\n",
              "    </tr>\n",
              "    <tr>\n",
              "      <th>2</th>\n",
              "      <td>พี่สวยมากค่ะ</td>\n",
              "      <td>คำทั่วไปทางการชม</td>\n",
              "      <td>พี่ สวย มาก ค่ะ</td>\n",
              "    </tr>\n",
              "    <tr>\n",
              "      <th>3</th>\n",
              "      <td>งามมากกลูกสาวววว💛</td>\n",
              "      <td>คำทั่วไปทางการชม</td>\n",
              "      <td>งาม มา ลูกสาว</td>\n",
              "    </tr>\n",
              "    <tr>\n",
              "      <th>4</th>\n",
              "      <td>คนสวย🥰🥰🥰</td>\n",
              "      <td>คำทั่วไปทางการชม</td>\n",
              "      <td>คนสวย</td>\n",
              "    </tr>\n",
              "    <tr>\n",
              "      <th>...</th>\n",
              "      <td>...</td>\n",
              "      <td>...</td>\n",
              "      <td>...</td>\n",
              "    </tr>\n",
              "    <tr>\n",
              "      <th>2295</th>\n",
              "      <td>กูเขดและเน๊าะ โปรวันพุธ มะเติมของเลยต้องรอคิวเ...</td>\n",
              "      <td>คำหยาบปกติ</td>\n",
              "      <td>กู เข ด และ เน๊าะ โปร วัน พุธ มะ เติม ของ เลย ...</td>\n",
              "    </tr>\n",
              "    <tr>\n",
              "      <th>2296</th>\n",
              "      <td>โห้ ไม่เคยเจอฟอร์จูน crv pajero ตามหลังเลยหรา\\n</td>\n",
              "      <td>คำหยาบปกติ</td>\n",
              "      <td>โห้ ไม่ เคย เจอ ฟอร์จูน crv pajero ตามหลัง เลย...</td>\n",
              "    </tr>\n",
              "    <tr>\n",
              "      <th>2297</th>\n",
              "      <td>Mazda cx-3 ใหม่ คือไม่ไหวอะ เห็นละทนไม่ได้ สวย...</td>\n",
              "      <td>คำหยาบปกติ</td>\n",
              "      <td>Mazda cx- ใหม่ คือ ไม่ ไหว อะ เห็น ละ ทน ไม่ ไ...</td>\n",
              "    </tr>\n",
              "    <tr>\n",
              "      <th>2298</th>\n",
              "      <td>แดกเบียร์เหล้ากูเอียนสปาย\\n</td>\n",
              "      <td>คำหยาบปกติ</td>\n",
              "      <td>แดก เบียร์ เหล้า กู เอียน สปาย</td>\n",
              "    </tr>\n",
              "    <tr>\n",
              "      <th>2299</th>\n",
              "      <td>มีที่เขียนคิ้วอันไหนดีกว่าของอีทูดี้บ้าง คือน้...</td>\n",
              "      <td>คำหยาบปกติ</td>\n",
              "      <td>มี ที่ เขียน คิ้ว อัน ไหน ดีกว่า ของ อี ทู ดี้...</td>\n",
              "    </tr>\n",
              "  </tbody>\n",
              "</table>\n",
              "<p>2300 rows × 3 columns</p>\n",
              "</div>\n",
              "    <div class=\"colab-df-buttons\">\n",
              "\n",
              "  <div class=\"colab-df-container\">\n",
              "    <button class=\"colab-df-convert\" onclick=\"convertToInteractive('df-a28fd03d-cb29-4fd9-babc-dfd2e152e252')\"\n",
              "            title=\"Convert this dataframe to an interactive table.\"\n",
              "            style=\"display:none;\">\n",
              "\n",
              "  <svg xmlns=\"http://www.w3.org/2000/svg\" height=\"24px\" viewBox=\"0 -960 960 960\">\n",
              "    <path d=\"M120-120v-720h720v720H120Zm60-500h600v-160H180v160Zm220 220h160v-160H400v160Zm0 220h160v-160H400v160ZM180-400h160v-160H180v160Zm440 0h160v-160H620v160ZM180-180h160v-160H180v160Zm440 0h160v-160H620v160Z\"/>\n",
              "  </svg>\n",
              "    </button>\n",
              "\n",
              "  <style>\n",
              "    .colab-df-container {\n",
              "      display:flex;\n",
              "      gap: 12px;\n",
              "    }\n",
              "\n",
              "    .colab-df-convert {\n",
              "      background-color: #E8F0FE;\n",
              "      border: none;\n",
              "      border-radius: 50%;\n",
              "      cursor: pointer;\n",
              "      display: none;\n",
              "      fill: #1967D2;\n",
              "      height: 32px;\n",
              "      padding: 0 0 0 0;\n",
              "      width: 32px;\n",
              "    }\n",
              "\n",
              "    .colab-df-convert:hover {\n",
              "      background-color: #E2EBFA;\n",
              "      box-shadow: 0px 1px 2px rgba(60, 64, 67, 0.3), 0px 1px 3px 1px rgba(60, 64, 67, 0.15);\n",
              "      fill: #174EA6;\n",
              "    }\n",
              "\n",
              "    .colab-df-buttons div {\n",
              "      margin-bottom: 4px;\n",
              "    }\n",
              "\n",
              "    [theme=dark] .colab-df-convert {\n",
              "      background-color: #3B4455;\n",
              "      fill: #D2E3FC;\n",
              "    }\n",
              "\n",
              "    [theme=dark] .colab-df-convert:hover {\n",
              "      background-color: #434B5C;\n",
              "      box-shadow: 0px 1px 3px 1px rgba(0, 0, 0, 0.15);\n",
              "      filter: drop-shadow(0px 1px 2px rgba(0, 0, 0, 0.3));\n",
              "      fill: #FFFFFF;\n",
              "    }\n",
              "  </style>\n",
              "\n",
              "    <script>\n",
              "      const buttonEl =\n",
              "        document.querySelector('#df-a28fd03d-cb29-4fd9-babc-dfd2e152e252 button.colab-df-convert');\n",
              "      buttonEl.style.display =\n",
              "        google.colab.kernel.accessAllowed ? 'block' : 'none';\n",
              "\n",
              "      async function convertToInteractive(key) {\n",
              "        const element = document.querySelector('#df-a28fd03d-cb29-4fd9-babc-dfd2e152e252');\n",
              "        const dataTable =\n",
              "          await google.colab.kernel.invokeFunction('convertToInteractive',\n",
              "                                                    [key], {});\n",
              "        if (!dataTable) return;\n",
              "\n",
              "        const docLinkHtml = 'Like what you see? Visit the ' +\n",
              "          '<a target=\"_blank\" href=https://colab.research.google.com/notebooks/data_table.ipynb>data table notebook</a>'\n",
              "          + ' to learn more about interactive tables.';\n",
              "        element.innerHTML = '';\n",
              "        dataTable['output_type'] = 'display_data';\n",
              "        await google.colab.output.renderOutput(dataTable, element);\n",
              "        const docLink = document.createElement('div');\n",
              "        docLink.innerHTML = docLinkHtml;\n",
              "        element.appendChild(docLink);\n",
              "      }\n",
              "    </script>\n",
              "  </div>\n",
              "\n",
              "\n",
              "<div id=\"df-088d119b-d6df-4920-9f4f-807c89ce9355\">\n",
              "  <button class=\"colab-df-quickchart\" onclick=\"quickchart('df-088d119b-d6df-4920-9f4f-807c89ce9355')\"\n",
              "            title=\"Suggest charts\"\n",
              "            style=\"display:none;\">\n",
              "\n",
              "<svg xmlns=\"http://www.w3.org/2000/svg\" height=\"24px\"viewBox=\"0 0 24 24\"\n",
              "     width=\"24px\">\n",
              "    <g>\n",
              "        <path d=\"M19 3H5c-1.1 0-2 .9-2 2v14c0 1.1.9 2 2 2h14c1.1 0 2-.9 2-2V5c0-1.1-.9-2-2-2zM9 17H7v-7h2v7zm4 0h-2V7h2v10zm4 0h-2v-4h2v4z\"/>\n",
              "    </g>\n",
              "</svg>\n",
              "  </button>\n",
              "\n",
              "<style>\n",
              "  .colab-df-quickchart {\n",
              "      --bg-color: #E8F0FE;\n",
              "      --fill-color: #1967D2;\n",
              "      --hover-bg-color: #E2EBFA;\n",
              "      --hover-fill-color: #174EA6;\n",
              "      --disabled-fill-color: #AAA;\n",
              "      --disabled-bg-color: #DDD;\n",
              "  }\n",
              "\n",
              "  [theme=dark] .colab-df-quickchart {\n",
              "      --bg-color: #3B4455;\n",
              "      --fill-color: #D2E3FC;\n",
              "      --hover-bg-color: #434B5C;\n",
              "      --hover-fill-color: #FFFFFF;\n",
              "      --disabled-bg-color: #3B4455;\n",
              "      --disabled-fill-color: #666;\n",
              "  }\n",
              "\n",
              "  .colab-df-quickchart {\n",
              "    background-color: var(--bg-color);\n",
              "    border: none;\n",
              "    border-radius: 50%;\n",
              "    cursor: pointer;\n",
              "    display: none;\n",
              "    fill: var(--fill-color);\n",
              "    height: 32px;\n",
              "    padding: 0;\n",
              "    width: 32px;\n",
              "  }\n",
              "\n",
              "  .colab-df-quickchart:hover {\n",
              "    background-color: var(--hover-bg-color);\n",
              "    box-shadow: 0 1px 2px rgba(60, 64, 67, 0.3), 0 1px 3px 1px rgba(60, 64, 67, 0.15);\n",
              "    fill: var(--button-hover-fill-color);\n",
              "  }\n",
              "\n",
              "  .colab-df-quickchart-complete:disabled,\n",
              "  .colab-df-quickchart-complete:disabled:hover {\n",
              "    background-color: var(--disabled-bg-color);\n",
              "    fill: var(--disabled-fill-color);\n",
              "    box-shadow: none;\n",
              "  }\n",
              "\n",
              "  .colab-df-spinner {\n",
              "    border: 2px solid var(--fill-color);\n",
              "    border-color: transparent;\n",
              "    border-bottom-color: var(--fill-color);\n",
              "    animation:\n",
              "      spin 1s steps(1) infinite;\n",
              "  }\n",
              "\n",
              "  @keyframes spin {\n",
              "    0% {\n",
              "      border-color: transparent;\n",
              "      border-bottom-color: var(--fill-color);\n",
              "      border-left-color: var(--fill-color);\n",
              "    }\n",
              "    20% {\n",
              "      border-color: transparent;\n",
              "      border-left-color: var(--fill-color);\n",
              "      border-top-color: var(--fill-color);\n",
              "    }\n",
              "    30% {\n",
              "      border-color: transparent;\n",
              "      border-left-color: var(--fill-color);\n",
              "      border-top-color: var(--fill-color);\n",
              "      border-right-color: var(--fill-color);\n",
              "    }\n",
              "    40% {\n",
              "      border-color: transparent;\n",
              "      border-right-color: var(--fill-color);\n",
              "      border-top-color: var(--fill-color);\n",
              "    }\n",
              "    60% {\n",
              "      border-color: transparent;\n",
              "      border-right-color: var(--fill-color);\n",
              "    }\n",
              "    80% {\n",
              "      border-color: transparent;\n",
              "      border-right-color: var(--fill-color);\n",
              "      border-bottom-color: var(--fill-color);\n",
              "    }\n",
              "    90% {\n",
              "      border-color: transparent;\n",
              "      border-bottom-color: var(--fill-color);\n",
              "    }\n",
              "  }\n",
              "</style>\n",
              "\n",
              "  <script>\n",
              "    async function quickchart(key) {\n",
              "      const quickchartButtonEl =\n",
              "        document.querySelector('#' + key + ' button');\n",
              "      quickchartButtonEl.disabled = true;  // To prevent multiple clicks.\n",
              "      quickchartButtonEl.classList.add('colab-df-spinner');\n",
              "      try {\n",
              "        const charts = await google.colab.kernel.invokeFunction(\n",
              "            'suggestCharts', [key], {});\n",
              "      } catch (error) {\n",
              "        console.error('Error during call to suggestCharts:', error);\n",
              "      }\n",
              "      quickchartButtonEl.classList.remove('colab-df-spinner');\n",
              "      quickchartButtonEl.classList.add('colab-df-quickchart-complete');\n",
              "    }\n",
              "    (() => {\n",
              "      let quickchartButtonEl =\n",
              "        document.querySelector('#df-088d119b-d6df-4920-9f4f-807c89ce9355 button');\n",
              "      quickchartButtonEl.style.display =\n",
              "        google.colab.kernel.accessAllowed ? 'block' : 'none';\n",
              "    })();\n",
              "  </script>\n",
              "</div>\n",
              "\n",
              "  <div id=\"id_84871296-21d6-4049-bda6-12ebda0da28b\">\n",
              "    <style>\n",
              "      .colab-df-generate {\n",
              "        background-color: #E8F0FE;\n",
              "        border: none;\n",
              "        border-radius: 50%;\n",
              "        cursor: pointer;\n",
              "        display: none;\n",
              "        fill: #1967D2;\n",
              "        height: 32px;\n",
              "        padding: 0 0 0 0;\n",
              "        width: 32px;\n",
              "      }\n",
              "\n",
              "      .colab-df-generate:hover {\n",
              "        background-color: #E2EBFA;\n",
              "        box-shadow: 0px 1px 2px rgba(60, 64, 67, 0.3), 0px 1px 3px 1px rgba(60, 64, 67, 0.15);\n",
              "        fill: #174EA6;\n",
              "      }\n",
              "\n",
              "      [theme=dark] .colab-df-generate {\n",
              "        background-color: #3B4455;\n",
              "        fill: #D2E3FC;\n",
              "      }\n",
              "\n",
              "      [theme=dark] .colab-df-generate:hover {\n",
              "        background-color: #434B5C;\n",
              "        box-shadow: 0px 1px 3px 1px rgba(0, 0, 0, 0.15);\n",
              "        filter: drop-shadow(0px 1px 2px rgba(0, 0, 0, 0.3));\n",
              "        fill: #FFFFFF;\n",
              "      }\n",
              "    </style>\n",
              "    <button class=\"colab-df-generate\" onclick=\"generateWithVariable('data')\"\n",
              "            title=\"Generate code using this dataframe.\"\n",
              "            style=\"display:none;\">\n",
              "\n",
              "  <svg xmlns=\"http://www.w3.org/2000/svg\" height=\"24px\"viewBox=\"0 0 24 24\"\n",
              "       width=\"24px\">\n",
              "    <path d=\"M7,19H8.4L18.45,9,17,7.55,7,17.6ZM5,21V16.75L18.45,3.32a2,2,0,0,1,2.83,0l1.4,1.43a1.91,1.91,0,0,1,.58,1.4,1.91,1.91,0,0,1-.58,1.4L9.25,21ZM18.45,9,17,7.55Zm-12,3A5.31,5.31,0,0,0,4.9,8.1,5.31,5.31,0,0,0,1,6.5,5.31,5.31,0,0,0,4.9,4.9,5.31,5.31,0,0,0,6.5,1,5.31,5.31,0,0,0,8.1,4.9,5.31,5.31,0,0,0,12,6.5,5.46,5.46,0,0,0,6.5,12Z\"/>\n",
              "  </svg>\n",
              "    </button>\n",
              "    <script>\n",
              "      (() => {\n",
              "      const buttonEl =\n",
              "        document.querySelector('#id_84871296-21d6-4049-bda6-12ebda0da28b button.colab-df-generate');\n",
              "      buttonEl.style.display =\n",
              "        google.colab.kernel.accessAllowed ? 'block' : 'none';\n",
              "\n",
              "      buttonEl.onclick = () => {\n",
              "        google.colab.notebook.generateWithVariable('data');\n",
              "      }\n",
              "      })();\n",
              "    </script>\n",
              "  </div>\n",
              "\n",
              "    </div>\n",
              "  </div>\n"
            ],
            "application/vnd.google.colaboratory.intrinsic+json": {
              "type": "dataframe",
              "variable_name": "data",
              "summary": "{\n  \"name\": \"data\",\n  \"rows\": 2300,\n  \"fields\": [\n    {\n      \"column\": \"review\",\n      \"properties\": {\n        \"dtype\": \"string\",\n        \"num_unique_values\": 2264,\n        \"samples\": [\n          \"\\u0e08\\u0e4b\\u0e32\\u0e25\\u0e39\\u0e01\\u0e2d\\u0e22\\u0e32\\u0e01\\u0e2b\\u0e25\\u0e32\\u0e27\\u0e40\\u0e2d\\u0e2d\\n\",\n          \"\\u0e2a\\u0e2b\\u0e20\\u0e32\\u0e1e\\u0e41\\u0e23\\u0e07\\u0e07\\u0e32\\u0e19 \\u0e40\\u0e2b\\u0e2d\\u0e30\\u0e46\",\n          \"\\u0e08\\u0e49\\u0e2d\\u0e19\\u0e19\\u0e46\"\n        ],\n        \"semantic_type\": \"\",\n        \"description\": \"\"\n      }\n    },\n    {\n      \"column\": \"label\",\n      \"properties\": {\n        \"dtype\": \"category\",\n        \"num_unique_values\": 6,\n        \"samples\": [\n          \"\\u0e04\\u0e33\\u0e17\\u0e31\\u0e48\\u0e27\\u0e44\\u0e1b\\u0e17\\u0e32\\u0e07\\u0e01\\u0e32\\u0e23\\u0e0a\\u0e21\",\n          \"\\u0e04\\u0e33\\u0e17\\u0e31\\u0e48\\u0e27\\u0e44\\u0e1b\",\n          \"\\u0e40\\u0e2b\\u0e22\\u0e35\\u0e22\\u0e14\\u0e40\\u0e1e\\u0e28\"\n        ],\n        \"semantic_type\": \"\",\n        \"description\": \"\"\n      }\n    },\n    {\n      \"column\": \"cleaned_review\",\n      \"properties\": {\n        \"dtype\": \"string\",\n        \"num_unique_values\": 2235,\n        \"samples\": [\n          \"\\u0e44\\u0e21\\u0e48 \\u0e21\\u0e35 \\u0e1b\\u0e49\\u0e32\\u0e22 \\u0e1a\\u0e2d\\u0e01 \\u0e2b\\u0e19\\u0e49\\u0e32 \\u0e17\\u0e32\\u0e07\\u0e40\\u0e02\\u0e49\\u0e32 \\u0e0b\\u0e2d\\u0e22 \\u0e2b\\u0e49\\u0e2d\\u0e07\\u0e19\\u0e49\\u0e33 \\u0e44\\u0e21\\u0e48\\u0e04\\u0e48\\u0e2d\\u0e22 \\u0e2a\\u0e30\\u0e2d\\u0e32\\u0e14 \\u0e40\\u0e04\\u0e23\\u0e37\\u0e48\\u0e2d\\u0e07\\u0e17\\u0e33\\u0e19\\u0e49\\u0e33\\u0e2d\\u0e38\\u0e48\\u0e19 \\u0e19\\u0e49\\u0e33 \\u0e44\\u0e21\\u0e48 \\u0e2d\\u0e38\\u0e48\\u0e19 \\u0e04\\u0e32\\u0e14 \\u0e27\\u0e48\\u0e32 \\u0e40\\u0e1e\\u0e23\\u0e32\\u0e30 \\u0e2d\\u0e32\\u0e01\\u0e32\\u0e28 \\u0e04\\u0e48\\u0e2d\\u0e19\\u0e02\\u0e49\\u0e32\\u0e07 \\u0e40\\u0e22\\u0e47\\u0e19 \\u0e1e\\u0e31\\u0e01 \\u0e0a\\u0e48\\u0e27\\u0e07 \\u0e1b\\u0e35\\u0e43\\u0e2b\\u0e21\\u0e48\",\n          \"\\u0e1a\\u0e38\\u0e2b\\u0e23\\u0e35\\u0e48 \\u0e44\\u0e1f\\u0e1f\\u0e49\\u0e32 \\u0e1b\\u0e23\\u0e30\\u0e01\\u0e31\\u0e19\\u0e15\\u0e31\\u0e27 \\u0e41\\u0e2a\\u0e19 \\u0e19\\u0e36\\u0e07 \\u0e1e\\u0e23\\u0e30\\u0e40\\u0e08\\u0e49\\u0e32\",\n          \"\\u0e1a\\u0e49\\u0e32\\u0e19\\u0e19\\u0e2d\\u0e01 \\u0e40\\u0e02\\u0e49\\u0e32 \\u0e01\\u0e23\\u0e38\\u0e07 \\u0e2b\\u0e23\\u0e2d \\u0e40\\u0e18\\u0e2d\"\n        ],\n        \"semantic_type\": \"\",\n        \"description\": \"\"\n      }\n    }\n  ]\n}"
            }
          },
          "metadata": {},
          "execution_count": 16
        }
      ],
      "source": [
        "data"
      ]
    },
    {
      "cell_type": "code",
      "execution_count": null,
      "metadata": {
        "id": "oqyiO5dUMznR"
      },
      "outputs": [],
      "source": [
        "# Training configurations\n",
        "SEED = 1234\n",
        "TRAIN = False\n",
        "BATCH_SIZE = 32\n",
        "N_EPOCHS = 200\n",
        "\n",
        "# Architecture\n",
        "EMBEDDING_DIM = 128\n",
        "HIDDEN_DIM = 512\n",
        "OUTPUT_DIM = 6\n",
        "N_LAYERS = 2\n",
        "BIDIRECTIONAL = True\n",
        "DROPOUT = 0.25"
      ]
    },
    {
      "cell_type": "code",
      "execution_count": null,
      "metadata": {
        "id": "hvy9WRCVMuRT"
      },
      "outputs": [],
      "source": [
        "import torch\n",
        "import torch.nn as nn\n",
        "import torch.optim as optim\n",
        "# Bert model and its tokenizer\n",
        "# Text data\n",
        "from torchtext import data, datasets\n",
        "# Numerical computation\n",
        "import numpy as np\n",
        "# standard library\n",
        "import random\n",
        "import time\n",
        "# Configuration\n",
        "#from config import *\n",
        "\n",
        "# Set random seed for reproducible experiments\n",
        "random.seed(SEED)\n",
        "np.random.seed(SEED)\n",
        "torch.manual_seed(SEED)\n",
        "torch.backends.cudnn.deterministic = True\n",
        "\n",
        "import pandas as pd\n",
        "import re\n",
        "import pandas as pd\n",
        "import numpy as np\n",
        "from sklearn.preprocessing import LabelEncoder\n",
        "from sklearn.model_selection import train_test_split\n",
        "from sklearn.metrics import classification_report\n",
        "from sklearn.metrics import accuracy_score\n",
        "import math\n",
        "import nltk\n",
        "from sklearn.feature_extraction.text import CountVectorizer\n",
        "from collections import defaultdict"
      ]
    },
    {
      "cell_type": "code",
      "execution_count": null,
      "metadata": {
        "id": "fOq5qfdeCDZH"
      },
      "outputs": [],
      "source": [
        "import numpy as np\n",
        "\n",
        "import time\n",
        "import random\n",
        "import functools\n",
        "import math\n",
        "\n",
        "from torchtext.data import Field, Dataset, Example\n",
        "import pandas as pd\n",
        "\n",
        "class DataFrameDataset(Dataset):\n",
        "    \"\"\"Class for using pandas DataFrames as a datasource\"\"\"\n",
        "    def __init__(self, examples, fields, filter_pred=None):\n",
        "        \"\"\"\n",
        "        Create a dataset from a pandas dataframe of examples and Fields\n",
        "        Arguments:\n",
        "            examples pd.DataFrame: DataFrame of examples\n",
        "            fields {str: Field}: The Fields to use in this tuple. The\n",
        "                string is a field name, and the Field is the associated field.\n",
        "            filter_pred (callable or None): use only exanples for which\n",
        "                filter_pred(example) is true, or use all examples if None.\n",
        "                Default is None\n",
        "        \"\"\"\n",
        "        self.examples = examples.apply(SeriesExample.fromSeries, args=(fields,), axis=1).tolist()\n",
        "        if filter_pred is not None:\n",
        "            self.examples = filter(filter_pred, self.examples)\n",
        "        self.fields = dict(fields)\n",
        "        # Unpack field tuples\n",
        "        for n, f in list(self.fields.items()):\n",
        "            if isinstance(n, tuple):\n",
        "                self.fields.update(zip(n, f))\n",
        "                del self.fields[n]\n",
        "\n",
        "class SeriesExample(Example):\n",
        "    \"\"\"Class to convert a pandas Series to an Example\"\"\"\n",
        "\n",
        "    @classmethod\n",
        "    def fromSeries(cls, data, fields):\n",
        "        return cls.fromdict(data.to_dict(), fields)\n",
        "\n",
        "    @classmethod\n",
        "    def fromdict(cls, data, fields):\n",
        "        ex = cls()\n",
        "\n",
        "        for key, field in fields.items():\n",
        "            if key not in data:\n",
        "                raise ValueError(\"Specified key {} was not found in \"\n",
        "                \"the input data\".format(key))\n",
        "            if field is not None:\n",
        "                setattr(ex, key, field.preprocess(data[key]))\n",
        "            else:\n",
        "                setattr(ex, key, data[key])\n",
        "        return ex"
      ]
    },
    {
      "cell_type": "code",
      "execution_count": null,
      "metadata": {
        "id": "SSTWZMesCFx9"
      },
      "outputs": [],
      "source": [
        "import pandas as pd # Make sure pandas is imported\n",
        "\n",
        "# Load your data into a DataFrame, assuming your CSV file is named 'your_data.csv'\n",
        "data = pd.read_csv('cleaned_data.csv')\n",
        "\n",
        "reviews = data['cleaned_review'].values\n",
        "labels = data['label'].values\n",
        "encoder = LabelEncoder()\n",
        "encoded_labels = encoder.fit_transform(labels)\n",
        "\n",
        "train_sentences, test_sentences, train_labels, test_labels = train_test_split(reviews, encoded_labels, stratify = encoded_labels,test_size=0.2, random_state=1234)"
      ]
    },
    {
      "cell_type": "code",
      "execution_count": null,
      "metadata": {
        "colab": {
          "base_uri": "https://localhost:8080/"
        },
        "id": "2BO0be0xBhcz",
        "outputId": "ff807800-0b8c-44a9-bc6b-283dbb788df3"
      },
      "outputs": [
        {
          "output_type": "stream",
          "name": "stdout",
          "text": [
            "Train set: ['ปะ ๆ', 'ของ ที่ เดอะ ร็อค เล่น ก็ สนุก ที่ แผ่นดินไหว แล้ว มี สึนามิ', 'คน ไม่ ใช่ ก็ คง ต้อง รอ ต่อไป แอด หงส์ทอง', 'สวย จริงๆ ๆๆ คะ เด ืน ไม่ เบื่อ ผู้คน น่ารัก', 'อยาก']\n",
            "Validation set: ['ซี แก รม', 'อิ ตุ๊ด เอ้ย', 'อร่อย มาก ค่ะ คอนเฟิร์ม', 'เก็บ เงิน', 'ถึง']\n",
            "Test set: ['มัน เป็น ญาติ กับ ไอ้ ฤทธิ์ กิน เเบล็ค ใช่ มั้ย', 'ฟิน ค่ะ', 'มา ร่วมกัน ร่วม เล่น สนุก ขับ นิสสัน กัน เถอะ', 'ชี้ อ เหล้า ให้ มัน แดก อยู่ บ่อย กู รู้ แต่ เวลา มัน แดก เอง มัน ล่อ แสงโสม เวลา มัน ให้ กู ชี้ อให่ มัน แดก black lable สาด', 'แท็กซี่ คือ จะ เปิด แอร์ ให้ หนาว ตาย เลย ใช่ปะ ฝึก ความอดทน ถุก ปะ']\n",
            "Number of training examples: 1610\n",
            "Number of validation examples: 230\n",
            "Number of test examples: 460\n"
          ]
        }
      ],
      "source": [
        "from sklearn.model_selection import train_test_split\n",
        "import numpy as np\n",
        "\n",
        "val_size = int(len(test_sentences)/2)\n",
        "train = list(train_sentences)[:(len(train_sentences)-val_size)]\n",
        "val = list(train_sentences)[(len(train_sentences)-val_size):]\n",
        "test = list(test_sentences)\n",
        "\n",
        "print(\"Train set:\", train[:5])\n",
        "print(\"Validation set:\", val[:5])\n",
        "print(\"Test set:\", test[:5])\n",
        "print(\"Number of training examples:\", len(train))\n",
        "print(\"Number of validation examples:\", len(val))\n",
        "print(\"Number of test examples:\", len(test))"
      ]
    },
    {
      "cell_type": "code",
      "execution_count": null,
      "metadata": {
        "id": "jDH215_uElDs"
      },
      "outputs": [],
      "source": [
        "import pandas as pd\n",
        "import os\n",
        "\n",
        "# Assuming 'train_sentences', 'train_labels', 'val', 'test', 'test_labels' are still available from previous cells\n",
        "\n",
        "# สร้าง DataFrame สำหรับ train, val, test\n",
        "train_df = pd.DataFrame({'review': train_sentences, 'label': train_labels}) # Use train_sentences instead of train\n",
        "val_df = pd.DataFrame({'review': val, 'label': train_labels[len(train_sentences)-len(val):]})  # Use len(train_sentences) to index correctly\n",
        "test_df = pd.DataFrame({'review': test, 'label': test_labels})\n",
        "\n",
        "# รวมคอลัมน์ 'review' และ 'label' เพื่อระบุข้อมูลที่ซ้ำกัน\n",
        "train_df['combined'] = train_df['review'] + train_df['label'].astype(str)\n",
        "val_df['combined'] = val_df['review'] + val_df['label'].astype(str)\n",
        "\n",
        "# ลบข้อมูลที่ซ้ำกันใน train_df\n",
        "train_df = train_df[~train_df['combined'].isin(val_df['combined'])]\n",
        "\n",
        "# ลบคอลัมน์ 'combined' ออก\n",
        "train_df = train_df.drop(columns=['combined'])\n",
        "val_df = val_df.drop(columns=['combined'])\n",
        "\n",
        "os.makedirs('datasets', exist_ok=True)\n",
        "\n",
        "# บันทึก DataFrame เป็นไฟล์ CSV\n",
        "train_df.to_csv('datasets/train.csv', index=False)\n",
        "val_df.to_csv('datasets/val.csv', index=False)\n",
        "test_df.to_csv('datasets/test.csv', index=False)"
      ]
    },
    {
      "cell_type": "code",
      "execution_count": null,
      "metadata": {
        "id": "6R85RcBmCHbM"
      },
      "outputs": [],
      "source": [
        "import pandas as pd\n",
        "import re\n",
        "import pandas as pd\n",
        "import numpy as np\n",
        "from sklearn.preprocessing import LabelEncoder\n",
        "from sklearn.model_selection import train_test_split\n",
        "from sklearn.metrics import classification_report\n",
        "from sklearn.metrics import accuracy_score\n",
        "import math\n",
        "import nltk\n",
        "from sklearn.feature_extraction.text import CountVectorizer\n",
        "from collections import defaultdict"
      ]
    },
    {
      "cell_type": "code",
      "execution_count": null,
      "metadata": {
        "id": "gb5N8WIsCJK5"
      },
      "outputs": [],
      "source": [
        "# init_token_id = 1  #เริ่มต้นประโยค\n",
        "# pad_token_id = 0  #pad_id ตอนเทรนจะเติมเข้าไปกรณีบางประโยคสั้นกว่าประโยคอื่น\n",
        "# unk_token_id=2 # กรณีไม่พบคำศัพท์จะแทนด้วย 2 นี้\n",
        "# max_input_len = 512 # ความยาวสูงสุดที่โมเดลสามารภทำนายได้\n",
        "\n",
        "# #create vocab_dict\n",
        "# vocab = []\n",
        "# for i in range( train_sentences.shape[0]):\n",
        "#     ws = train_sentences[i].split(\" \")\n",
        "#     for w in ws:\n",
        "#         if w not in vocab:\n",
        "#             vocab.append(w)"
      ]
    },
    {
      "cell_type": "code",
      "execution_count": null,
      "metadata": {
        "colab": {
          "base_uri": "https://localhost:8080/"
        },
        "id": "K4QV77eBCi-f",
        "outputId": "fd785791-510f-480b-c7a4-08fe8966ca81"
      },
      "outputs": [
        {
          "output_type": "stream",
          "name": "stdout",
          "text": [
            "Warning: Element at index 711 is not a string: nan\n",
            "Warning: Element at index 993 is not a string: nan\n",
            "Warning: Element at index 1164 is not a string: nan\n"
          ]
        }
      ],
      "source": [
        "init_token_id = 1  #เริ่มต้นประโยค\n",
        "pad_token_id = 0  #pad_id ตอนเทรนจะเติมเข้าไปกรณีบางประโยคสั้นกว่าประโยคอื่น\n",
        "unk_token_id=2 # กรณีไม่พบคำศัพท์จะแทนด้วย 2 นี้\n",
        "max_input_len = 512 # ความยาวสูงสุดที่โมเดลสามารภทำนายได้\n",
        "\n",
        "#create vocab_dict\n",
        "vocab = []\n",
        "for i in range(train_sentences.shape[0]):\n",
        "    # Check if the element is a string before splitting\n",
        "    if isinstance(train_sentences[i], str):\n",
        "        ws = train_sentences[i].split(\" \")\n",
        "        for w in ws:\n",
        "            if w not in vocab:\n",
        "                vocab.append(w)\n",
        "    else:\n",
        "        # Handle non-string elements (e.g., print a warning or skip them)\n",
        "        print(f\"Warning: Element at index {i} is not a string: {train_sentences[i]}\")"
      ]
    },
    {
      "cell_type": "code",
      "execution_count": null,
      "metadata": {
        "id": "8Km0lgUJCLZn"
      },
      "outputs": [],
      "source": [
        "vocab.sort()\n",
        "start_word_id = 3\n",
        "token_to_id = {val: (i+start_word_id) for i, val in enumerate(vocab)}\n",
        "\n",
        "token_to_id.update({'init_id': init_token_id, 'pad_id':pad_token_id,'unk_id':unk_token_id})"
      ]
    },
    {
      "cell_type": "code",
      "execution_count": null,
      "metadata": {
        "id": "1fDX7eawCNnj"
      },
      "outputs": [],
      "source": [
        "import json\n",
        "vocab_json_object = json.dumps(token_to_id)\n",
        "with open(\"token2idx.json\", \"w\") as outfile:\n",
        "    outfile.write(vocab_json_object)"
      ]
    },
    {
      "cell_type": "code",
      "execution_count": null,
      "metadata": {
        "colab": {
          "base_uri": "https://localhost:8080/"
        },
        "id": "MjqcMTYRCPsm",
        "outputId": "0c0a8c42-a997-4f87-e6c8-b62806591906"
      },
      "outputs": [
        {
          "output_type": "stream",
          "name": "stdout",
          "text": [
            "Device available for running: \n",
            "cuda\n"
          ]
        }
      ],
      "source": [
        "device = torch.device(\"cuda\" if torch.cuda.is_available() else \"cpu\")\n",
        "print(\"Device available for running: \")\n",
        "print(device)"
      ]
    },
    {
      "cell_type": "code",
      "execution_count": null,
      "metadata": {
        "id": "CWNx1NVECRyL"
      },
      "outputs": [],
      "source": [
        "import json\n",
        "import numpy as np\n",
        "\n",
        "import time\n",
        "import random\n",
        "import functools\n",
        "import math\n",
        "\n",
        "from torchtext.data import Field, Dataset, Example,LabelField\n",
        "import pandas as pd # Make sure pandas is imported\n",
        "\n",
        "# Tokensize and crop sentence to 510 (for 1st and last token) instead of 512 (i.e. `max_input_len`)\n",
        "def tokenize_and_crop(sentence):\n",
        "  #print(sentence)\n",
        "  tokens = sentence.split(\" \")\n",
        "  tokens = tokens[:max_input_len - 2]\n",
        "  return tokens\n",
        "\n",
        "def convert_tokens_to_ids(tokens):\n",
        "    out_id = []\n",
        "    for w in tokens:\n",
        "        if w in token_to_id.keys():\n",
        "            out_id.append(token_to_id[w])\n",
        "        else:\n",
        "            out_id.append(unk_token_id) #unk word\n",
        "    if len(out_id)==0:\n",
        "        return [0]\n",
        "    return out_id\n",
        "\n",
        "def load_data():\n",
        "  text = Field(\n",
        "    batch_first=True,\n",
        "    use_vocab=False,\n",
        "    tokenize=tokenize_and_crop,\n",
        "    preprocessing=convert_tokens_to_ids,\n",
        "    init_token=init_token_id,\n",
        "    pad_token=pad_token_id,\n",
        "    unk_token=unk_token_id\n",
        "  )\n",
        "  # Load the cleaned data CSV into a DataFrame\n",
        "  cleaned_data_df = pd.read_csv('cleaned_data.csv')  # Load the preprocessed data\n",
        "\n",
        "  label = LabelField(dtype=torch.long)\n",
        "\n",
        "  # label = torchtext.data.LabelField(dtype=torch.float)\n",
        "\n",
        "  fields = { 'cleaned_review' : text, 'label' : label }\n",
        "\n",
        "  # Change 'data' to 'cleaned_data_df' to reference the DataFrame\n",
        "  cleaned_data_df['cleaned_review'] = cleaned_data_df['cleaned_review'].astype(str)  # Convert to string\n",
        "  examples = cleaned_data_df.apply(lambda row: SeriesExample.fromSeries(row, fields), axis=1).tolist()\n",
        "\n",
        "  # Update train_ds to use the cleaned data\n",
        "  train_ds = Dataset(examples, fields) # Pass examples directly instead of creating a DataFrameDataset with `cleaned_data_df`\n",
        "\n",
        "  # Use 'cleaned_data_df' for stratification instead of 'data'\n",
        "  train_examples, test_examples = train_test_split(examples, test_size=0.2, random_state=1234, stratify=cleaned_data_df['label'])\n",
        "  train_examples, val_examples = train_test_split(train_examples, test_size=1/8, random_state=1234, stratify = [example.label for example in train_examples])\n",
        "\n",
        "  # Create datasets from the split examples\n",
        "  _train_data = Dataset(train_examples, fields)\n",
        "  _test_data = Dataset(test_examples, fields)\n",
        "  _valid_data = Dataset(val_examples, fields)\n",
        "\n",
        "\n",
        "  print(f\"training examples count: {len(_train_data)}\")\n",
        "  print(f\"test examples count: {len(_test_data)}\")\n",
        "  print(f\"validation examples count: {len(_valid_data)}\")\n",
        "\n",
        "  label.build_vocab(_train_data)\n",
        "\n",
        "  lab_data = {v: k for k, v in label.vocab.stoi.items()}\n",
        "  with open('idx2lab.json', 'w') as f:\n",
        "      json.dump(lab_data, f)\n",
        "\n",
        "\n",
        "\n",
        "  # Use torchtext.data.BucketIterator directly\n",
        "  # Change from data.BucketIterator to torchtext.data.BucketIterator\n",
        "  train_iter, valid_iter, test_iter = torchtext.data.BucketIterator.splits(\n",
        "    (_train_data, _valid_data, _test_data),\n",
        "    batch_size=BATCH_SIZE,\n",
        "    device=device,\n",
        "    sort_key = lambda x: len(x.cleaned_review),\n",
        "    sort_within_batch=True\n",
        "  )\n",
        "\n",
        "  return train_iter, valid_iter, test_iter"
      ]
    },
    {
      "cell_type": "code",
      "execution_count": null,
      "metadata": {
        "id": "rRGYVnZFOqRV"
      },
      "outputs": [],
      "source": [
        "# load_data()"
      ]
    },
    {
      "cell_type": "code",
      "execution_count": null,
      "metadata": {
        "id": "LJ823dDjCVAK"
      },
      "outputs": [],
      "source": [
        "# # Sentiment model contrain two-GRU layers for analyzing hidden representation\n",
        "# # and a linear layer for classfification (the sigmoid is applied by the criterion during training).\n",
        "# import torch.nn as nn\n",
        "\n",
        "# class SentimentModel(nn.Module):\n",
        "#   def __init__(\n",
        "#     self,\n",
        "#     vocab_size,\n",
        "#     embedding_dim,\n",
        "#     hidden_dim,\n",
        "#     output_dim,\n",
        "#     n_layers,\n",
        "#     bidirectional,\n",
        "#     dropout,\n",
        "#     padding_id=0\n",
        "#   ):\n",
        "\n",
        "#     super(SentimentModel, self).__init__()\n",
        "\n",
        "#     embedding_dim = embedding_dim\n",
        "#     self.embedding = nn.Embedding(vocab_size, embedding_dim, padding_idx=padding_id)\n",
        "\n",
        "#     self.gru = nn.GRU(\n",
        "#       embedding_dim,\n",
        "#       hidden_dim,\n",
        "#       num_layers=n_layers,\n",
        "#       bidirectional=bidirectional,\n",
        "#       batch_first=True,\n",
        "#       dropout=0 if n_layers < 2 else dropout\n",
        "#     )\n",
        "#     self.out = nn.Linear(hidden_dim * 2 if bidirectional else hidden_dim, output_dim)\n",
        "#     self.dropout = nn.Dropout(dropout)\n",
        "\n",
        "#   def forward(self, text):\n",
        "\n",
        "#     embedded = self.embedding(text)\n",
        "#     _, hidden = self.gru(embedded)\n",
        "\n",
        "#     if self.gru.bidirectional:\n",
        "#       hidden = self.dropout(torch.cat((hidden[-2,:,:], hidden[-1,:,:]), dim = 1))\n",
        "#     else:\n",
        "#       hidden = self.dropout(hidden[-1,:,:])\n",
        "\n",
        "#     output = self.out(hidden)\n",
        "#     return output"
      ]
    },
    {
      "cell_type": "code",
      "execution_count": null,
      "metadata": {
        "id": "lDDOWwEjCWU9"
      },
      "outputs": [],
      "source": [
        "# load_data()"
      ]
    },
    {
      "cell_type": "code",
      "execution_count": null,
      "metadata": {
        "id": "frNFaifXCY0F"
      },
      "outputs": [],
      "source": [
        "# Sentiment model contrain two-GRU layers for analyzing hidden representation\n",
        "# and a linear layer for classfification (the sigmoid is applied by the criterion during training).\n",
        "import torch.nn as nn\n",
        "\n",
        "class SentimentModel(nn.Module):\n",
        "  def __init__(\n",
        "    self,\n",
        "    vocab_size,\n",
        "    embedding_dim,\n",
        "    hidden_dim,\n",
        "    output_dim,\n",
        "    n_layers,\n",
        "    bidirectional,\n",
        "    dropout,\n",
        "    padding_id=0\n",
        "  ):\n",
        "\n",
        "    super(SentimentModel, self).__init__()\n",
        "\n",
        "    embedding_dim = embedding_dim\n",
        "    self.embedding = nn.Embedding(vocab_size, embedding_dim, padding_idx=padding_id)\n",
        "    self.gru = nn.GRU(\n",
        "         embedding_dim,\n",
        "         hidden_dim,\n",
        "         num_layers=n_layers,\n",
        "         bidirectional=bidirectional,\n",
        "         batch_first=True,\n",
        "         dropout=0 if n_layers < 2 else dropout\n",
        "           )\n",
        "\n",
        "\n",
        "    self.out = nn.Linear(hidden_dim * 2 if bidirectional else hidden_dim, output_dim)\n",
        "    self.dropout = nn.Dropout(dropout)\n",
        "\n",
        "  def forward(self, text): # Define forward inside the class\n",
        "\n",
        "    embedded = self.embedding(text)\n",
        "    _, hidden = self.gru(embedded)\n",
        "\n",
        "    # Change 'self.rnn.bidirectional' to 'self.gru.bidirectional'\n",
        "    if self.gru.bidirectional:  # Correct GRU access\n",
        "      hidden = self.dropout(torch.cat((hidden[-2,:,:], hidden[-1,:,:]), dim = 1))\n",
        "    else:\n",
        "      hidden = self.dropout(hidden[-1,:,:])\n",
        "\n",
        "    output = self.out(hidden)\n",
        "    return output"
      ]
    },
    {
      "cell_type": "code",
      "execution_count": null,
      "metadata": {
        "id": "GsvH70LnCbLE"
      },
      "outputs": [],
      "source": [
        "vocab_size = len(vocab) + 3"
      ]
    },
    {
      "cell_type": "code",
      "execution_count": null,
      "metadata": {
        "colab": {
          "base_uri": "https://localhost:8080/"
        },
        "id": "XQR2Mqg7CdVe",
        "outputId": "e0d59c18-8b4c-4bda-b3a7-808342af41d3"
      },
      "outputs": [
        {
          "output_type": "stream",
          "name": "stdout",
          "text": [
            "SentimentModel(\n",
            "  (embedding): Embedding(4483, 128, padding_idx=0)\n",
            "  (gru): GRU(128, 512, num_layers=2, batch_first=True, dropout=0.25, bidirectional=True)\n",
            "  (out): Linear(in_features=1024, out_features=6, bias=True)\n",
            "  (dropout): Dropout(p=0.25, inplace=False)\n",
            ")\n"
          ]
        },
        {
          "output_type": "execute_result",
          "data": {
            "text/plain": [
              "7276934"
            ]
          },
          "metadata": {},
          "execution_count": 35
        }
      ],
      "source": [
        "model = SentimentModel(\n",
        "  vocab_size,\n",
        "  EMBEDDING_DIM,\n",
        "  HIDDEN_DIM,\n",
        "  OUTPUT_DIM,\n",
        "  N_LAYERS,\n",
        "  BIDIRECTIONAL,\n",
        "  DROPOUT\n",
        ")\n",
        "print(model)\n",
        "pytorch_total_params = sum(p.numel() for p in model.parameters())\n",
        "pytorch_total_params"
      ]
    },
    {
      "cell_type": "code",
      "execution_count": null,
      "metadata": {
        "id": "twUjLuYuCfYM"
      },
      "outputs": [],
      "source": [
        "from tqdm import tqdm\n",
        "# time taken for single epoch\n",
        "def epoch_time(start_time, end_time):\n",
        "  elapsed_time = end_time - start_time\n",
        "  elapsed_mins = int(elapsed_time / 60)\n",
        "  elapsed_secs = int(elapsed_time - (elapsed_mins * 60))\n",
        "  return elapsed_mins, elapsed_secs\n",
        "\n",
        "# computes accuracy\n",
        "def calculate_accuracy2(y_pred,y_true):\n",
        "  y_pred = torch.round(y_pred)\n",
        "  #print(y_pred.argmax(-1))\n",
        "  correct = (y_true == y_pred.argmax(-1)).float()\n",
        "  acc = correct.sum() / len(correct)\n",
        "  return acc\n",
        "\n",
        "# def binary_accuracy(preds, y):\n",
        "#   rounded_preds = torch.round(torch.sigmoid(preds))\n",
        "#   correct = (rounded_preds == y).float()\n",
        "#   acc = correct.sum() / len(correct)\n",
        "#   return acc\n",
        "\n",
        "# training step\n",
        "def train(model, iterator, optimizer, criterion):\n",
        "  # stats\n",
        "  epoch_loss = 0\n",
        "  epoch_acc = 0\n",
        "  # train mode\n",
        "  model.train()\n",
        "\n",
        "  for batch in tqdm(iterator):\n",
        "    # train step\n",
        "    optimizer.zero_grad()\n",
        "    #print(batch.review)\n",
        "    predictions = model(batch.cleaned_review).squeeze(1)\n",
        "    loss = criterion(predictions, batch.label)\n",
        "    acc = calculate_accuracy2(predictions, batch.label)\n",
        "    loss.backward()\n",
        "    optimizer.step()\n",
        "    # stats\n",
        "    epoch_loss += loss.item()\n",
        "    epoch_acc += acc.item()\n",
        "\n",
        "  return epoch_loss / len(iterator), epoch_acc / len(iterator)\n",
        "\n",
        "# evaluates the model on given iterator (either\n",
        "# train_iter, valid_iter, or test_iter)\n",
        "def evaluate(model, iterator, criterion, encoder): # Add encoder as an argument\n",
        "\n",
        "  epoch_loss = 0\n",
        "  epoch_acc = 0\n",
        "  # evaluation mode\n",
        "  model.eval()\n",
        "  y_true = []\n",
        "  y_pred = []\n",
        "\n",
        "  with torch.no_grad():\n",
        "    for batch in iterator:\n",
        "       #print(batch.text.shape)\n",
        "       predictions = model(batch.cleaned_review).squeeze(1)\n",
        "       loss = criterion(predictions, batch.label)\n",
        "       acc = calculate_accuracy2(predictions, batch.label)\n",
        "       epoch_loss += loss.item()\n",
        "       epoch_acc += acc.item()\n",
        "\n",
        "       y_true.extend(batch.label.cpu().numpy())  # Move to CPU and convert to NumPy\n",
        "       y_pred.extend(predictions.argmax(-1).cpu().numpy())\n",
        "\n",
        "       # No need to convert labels here, as we'll use classification_report later\n",
        "       # for i in range(len(batch.label)):\n",
        "       #          true_label = encoder.classes_[batch.label[i].item()]  # Use encoder.classes_ for labels\n",
        "       #          pred_label = encoder.classes_[predictions[i].argmax().item()]  # Use encoder.classes_ for labels\n",
        "       #          if true_label != pred_label:\n",
        "       #              # Decode batch.text[i] to original text\n",
        "       #              original_text = \" \".join([k for k, v in token_to_id.items() if v in batch.text[i].tolist() and v not in [0, 1, 2]])\n",
        "       #              # Print the results\n",
        "       #              # print(f\"Original Text: {original_text}\")\n",
        "       #              # print(f\"True Label: {true_label}, Predicted Label: {pred_label}\\n\")\n",
        "\n",
        "  return epoch_loss / len(iterator), epoch_acc / len(iterator), y_true, y_pred # Modified return statement to include y_true and y_pred\n",
        "\n",
        "def reset_weights(m):\n",
        "  '''\n",
        "    Try resetting model weights to avoid\n",
        "    weight leakage.\n",
        "  '''\n",
        "  for layer in m.children():\n",
        "   if hasattr(layer, 'reset_parameters'):\n",
        "    print(f'Reset trainable parameters of layer = {layer}')\n",
        "    layer.reset_parameters()"
      ]
    },
    {
      "cell_type": "code",
      "execution_count": null,
      "metadata": {
        "colab": {
          "base_uri": "https://localhost:8080/"
        },
        "id": "LrGyuEIVBcvJ",
        "outputId": "09c500bc-2c63-4853-86c5-09d21677dcb7"
      },
      "outputs": [
        {
          "output_type": "execute_result",
          "data": {
            "text/plain": [
              "array([1, 1, 0, ..., 2, 0, 2])"
            ]
          },
          "metadata": {},
          "execution_count": 37
        }
      ],
      "source": [
        "train_labels"
      ]
    },
    {
      "cell_type": "code",
      "execution_count": null,
      "metadata": {
        "colab": {
          "base_uri": "https://localhost:8080/"
        },
        "id": "JUQz0Q8aAerZ",
        "outputId": "50f6cd1d-d3b6-44b0-8064-8a560516562c"
      },
      "outputs": [
        {
          "output_type": "stream",
          "name": "stdout",
          "text": [
            "{0: 0.6552706552706553, 1: 0.7131782945736435, 2: 0.7628524046434494, 3: 1.564625850340136, 4: 1.6666666666666667, 5: 1.9166666666666667}\n"
          ]
        }
      ],
      "source": [
        "from collections import Counter\n",
        "from sklearn.utils.class_weight import compute_class_weight\n",
        "\n",
        "   # นับจำนวนข้อมูลในแต่ละคลาส\n",
        "label_counts = Counter(train_labels) # แทน train_labels ด้วย labels ของข้อมูล train\n",
        "\n",
        "   # คำนวณน้ำหนักคลาส\n",
        "class_weights = compute_class_weight(class_weight='balanced', classes=np.unique(train_labels), y=train_labels)\n",
        "\n",
        "   # แปลงเป็น dictionary\n",
        "class_weight_dict = dict(zip(np.unique(train_labels), class_weights))\n",
        "print(class_weight_dict)"
      ]
    },
    {
      "cell_type": "code",
      "execution_count": null,
      "metadata": {
        "colab": {
          "base_uri": "https://localhost:8080/"
        },
        "id": "sA_lV4jnChni",
        "outputId": "c93b333a-4318-4ad5-8293-d2ca82a92345"
      },
      "outputs": [
        {
          "output_type": "stream",
          "name": "stdout",
          "text": [
            "training examples count: 1610\n",
            "test examples count: 460\n",
            "validation examples count: 230\n"
          ]
        },
        {
          "output_type": "stream",
          "name": "stderr",
          "text": [
            "100%|██████████| 51/51 [00:02<00:00, 24.89it/s]\n"
          ]
        },
        {
          "output_type": "stream",
          "name": "stdout",
          "text": [
            "Best model saved at epoch 0 with validation loss: 1.7830\n",
            "Epoch: 01/200 | Epoch Time: 0m 2s\n",
            "\tTrain Loss: 1.788 | Train Acc: 25.87%\n",
            "\t Val. Loss: 1.783 |  Val. Acc: 28.12%\n"
          ]
        },
        {
          "output_type": "stream",
          "name": "stderr",
          "text": [
            "100%|██████████| 51/51 [00:00<00:00, 53.32it/s]\n"
          ]
        },
        {
          "output_type": "stream",
          "name": "stdout",
          "text": [
            "Best model saved at epoch 1 with validation loss: 1.7749\n",
            "Epoch: 02/200 | Epoch Time: 0m 1s\n",
            "\tTrain Loss: 1.780 | Train Acc: 25.87%\n",
            "\t Val. Loss: 1.775 |  Val. Acc: 28.12%\n"
          ]
        },
        {
          "output_type": "stream",
          "name": "stderr",
          "text": [
            "100%|██████████| 51/51 [00:00<00:00, 87.03it/s]\n"
          ]
        },
        {
          "output_type": "stream",
          "name": "stdout",
          "text": [
            "Best model saved at epoch 2 with validation loss: 1.7669\n",
            "Epoch: 03/200 | Epoch Time: 0m 0s\n",
            "\tTrain Loss: 1.770 | Train Acc: 25.87%\n",
            "\t Val. Loss: 1.767 |  Val. Acc: 28.12%\n"
          ]
        },
        {
          "output_type": "stream",
          "name": "stderr",
          "text": [
            "100%|██████████| 51/51 [00:00<00:00, 83.06it/s]\n"
          ]
        },
        {
          "output_type": "stream",
          "name": "stdout",
          "text": [
            "Best model saved at epoch 3 with validation loss: 1.7585\n",
            "Epoch: 04/200 | Epoch Time: 0m 0s\n",
            "\tTrain Loss: 1.759 | Train Acc: 25.87%\n",
            "\t Val. Loss: 1.759 |  Val. Acc: 28.12%\n"
          ]
        },
        {
          "output_type": "stream",
          "name": "stderr",
          "text": [
            "100%|██████████| 51/51 [00:00<00:00, 87.17it/s]\n"
          ]
        },
        {
          "output_type": "stream",
          "name": "stdout",
          "text": [
            "Best model saved at epoch 4 with validation loss: 1.7504\n",
            "Epoch: 05/200 | Epoch Time: 0m 0s\n",
            "\tTrain Loss: 1.746 | Train Acc: 25.87%\n",
            "\t Val. Loss: 1.750 |  Val. Acc: 28.12%\n"
          ]
        },
        {
          "output_type": "stream",
          "name": "stderr",
          "text": [
            "100%|██████████| 51/51 [00:00<00:00, 64.38it/s]\n"
          ]
        },
        {
          "output_type": "stream",
          "name": "stdout",
          "text": [
            "Best model saved at epoch 5 with validation loss: 1.7421\n",
            "Epoch: 06/200 | Epoch Time: 0m 0s\n",
            "\tTrain Loss: 1.738 | Train Acc: 25.87%\n",
            "\t Val. Loss: 1.742 |  Val. Acc: 28.12%\n"
          ]
        },
        {
          "output_type": "stream",
          "name": "stderr",
          "text": [
            "100%|██████████| 51/51 [00:00<00:00, 72.74it/s]\n"
          ]
        },
        {
          "output_type": "stream",
          "name": "stdout",
          "text": [
            "Best model saved at epoch 6 with validation loss: 1.7340\n",
            "Epoch: 07/200 | Epoch Time: 0m 0s\n",
            "\tTrain Loss: 1.726 | Train Acc: 25.87%\n",
            "\t Val. Loss: 1.734 |  Val. Acc: 28.12%\n"
          ]
        },
        {
          "output_type": "stream",
          "name": "stderr",
          "text": [
            "100%|██████████| 51/51 [00:00<00:00, 86.01it/s]\n"
          ]
        },
        {
          "output_type": "stream",
          "name": "stdout",
          "text": [
            "Best model saved at epoch 7 with validation loss: 1.7254\n",
            "Epoch: 08/200 | Epoch Time: 0m 0s\n",
            "\tTrain Loss: 1.716 | Train Acc: 25.99%\n",
            "\t Val. Loss: 1.725 |  Val. Acc: 28.12%\n"
          ]
        },
        {
          "output_type": "stream",
          "name": "stderr",
          "text": [
            "100%|██████████| 51/51 [00:00<00:00, 85.90it/s]\n"
          ]
        },
        {
          "output_type": "stream",
          "name": "stdout",
          "text": [
            "Best model saved at epoch 8 with validation loss: 1.7165\n",
            "Epoch: 09/200 | Epoch Time: 0m 0s\n",
            "\tTrain Loss: 1.704 | Train Acc: 26.36%\n",
            "\t Val. Loss: 1.717 |  Val. Acc: 29.30%\n"
          ]
        },
        {
          "output_type": "stream",
          "name": "stderr",
          "text": [
            "100%|██████████| 51/51 [00:00<00:00, 78.01it/s]\n"
          ]
        },
        {
          "output_type": "stream",
          "name": "stdout",
          "text": [
            "Best model saved at epoch 9 with validation loss: 1.7075\n",
            "Epoch: 10/200 | Epoch Time: 0m 0s\n",
            "\tTrain Loss: 1.691 | Train Acc: 26.73%\n",
            "\t Val. Loss: 1.708 |  Val. Acc: 29.69%\n"
          ]
        },
        {
          "output_type": "stream",
          "name": "stderr",
          "text": [
            "100%|██████████| 51/51 [00:00<00:00, 78.02it/s]\n"
          ]
        },
        {
          "output_type": "stream",
          "name": "stdout",
          "text": [
            "Best model saved at epoch 10 with validation loss: 1.6979\n",
            "Epoch: 11/200 | Epoch Time: 0m 0s\n",
            "\tTrain Loss: 1.681 | Train Acc: 27.34%\n",
            "\t Val. Loss: 1.698 |  Val. Acc: 30.47%\n"
          ]
        },
        {
          "output_type": "stream",
          "name": "stderr",
          "text": [
            "100%|██████████| 51/51 [00:00<00:00, 95.24it/s] \n"
          ]
        },
        {
          "output_type": "stream",
          "name": "stdout",
          "text": [
            "Best model saved at epoch 11 with validation loss: 1.6880\n",
            "Epoch: 12/200 | Epoch Time: 0m 0s\n",
            "\tTrain Loss: 1.667 | Train Acc: 27.83%\n",
            "\t Val. Loss: 1.688 |  Val. Acc: 30.86%\n"
          ]
        },
        {
          "output_type": "stream",
          "name": "stderr",
          "text": [
            "100%|██████████| 51/51 [00:00<00:00, 92.78it/s]\n"
          ]
        },
        {
          "output_type": "stream",
          "name": "stdout",
          "text": [
            "Best model saved at epoch 12 with validation loss: 1.6774\n",
            "Epoch: 13/200 | Epoch Time: 0m 0s\n",
            "\tTrain Loss: 1.653 | Train Acc: 28.44%\n",
            "\t Val. Loss: 1.677 |  Val. Acc: 31.25%\n"
          ]
        },
        {
          "output_type": "stream",
          "name": "stderr",
          "text": [
            "100%|██████████| 51/51 [00:00<00:00, 94.45it/s]\n"
          ]
        },
        {
          "output_type": "stream",
          "name": "stdout",
          "text": [
            "Best model saved at epoch 13 with validation loss: 1.6666\n",
            "Epoch: 14/200 | Epoch Time: 0m 0s\n",
            "\tTrain Loss: 1.639 | Train Acc: 29.42%\n",
            "\t Val. Loss: 1.667 |  Val. Acc: 31.25%\n"
          ]
        },
        {
          "output_type": "stream",
          "name": "stderr",
          "text": [
            "100%|██████████| 51/51 [00:00<00:00, 92.75it/s] \n"
          ]
        },
        {
          "output_type": "stream",
          "name": "stdout",
          "text": [
            "Best model saved at epoch 14 with validation loss: 1.6551\n",
            "Epoch: 15/200 | Epoch Time: 0m 0s\n",
            "\tTrain Loss: 1.626 | Train Acc: 30.65%\n",
            "\t Val. Loss: 1.655 |  Val. Acc: 31.64%\n"
          ]
        },
        {
          "output_type": "stream",
          "name": "stderr",
          "text": [
            "100%|██████████| 51/51 [00:00<00:00, 86.00it/s]\n"
          ]
        },
        {
          "output_type": "stream",
          "name": "stdout",
          "text": [
            "Best model saved at epoch 15 with validation loss: 1.6426\n",
            "Epoch: 16/200 | Epoch Time: 0m 0s\n",
            "\tTrain Loss: 1.609 | Train Acc: 31.94%\n",
            "\t Val. Loss: 1.643 |  Val. Acc: 32.03%\n"
          ]
        },
        {
          "output_type": "stream",
          "name": "stderr",
          "text": [
            "100%|██████████| 51/51 [00:00<00:00, 85.02it/s]\n"
          ]
        },
        {
          "output_type": "stream",
          "name": "stdout",
          "text": [
            "Best model saved at epoch 16 with validation loss: 1.6299\n",
            "Epoch: 17/200 | Epoch Time: 0m 0s\n",
            "\tTrain Loss: 1.594 | Train Acc: 33.84%\n",
            "\t Val. Loss: 1.630 |  Val. Acc: 33.20%\n"
          ]
        },
        {
          "output_type": "stream",
          "name": "stderr",
          "text": [
            "100%|██████████| 51/51 [00:00<00:00, 85.86it/s]\n"
          ]
        },
        {
          "output_type": "stream",
          "name": "stdout",
          "text": [
            "Best model saved at epoch 17 with validation loss: 1.6162\n",
            "Epoch: 18/200 | Epoch Time: 0m 0s\n",
            "\tTrain Loss: 1.575 | Train Acc: 36.47%\n",
            "\t Val. Loss: 1.616 |  Val. Acc: 34.77%\n"
          ]
        },
        {
          "output_type": "stream",
          "name": "stderr",
          "text": [
            "100%|██████████| 51/51 [00:00<00:00, 92.99it/s]\n"
          ]
        },
        {
          "output_type": "stream",
          "name": "stdout",
          "text": [
            "Best model saved at epoch 18 with validation loss: 1.6015\n",
            "Epoch: 19/200 | Epoch Time: 0m 0s\n",
            "\tTrain Loss: 1.556 | Train Acc: 38.19%\n",
            "\t Val. Loss: 1.602 |  Val. Acc: 35.55%\n"
          ]
        },
        {
          "output_type": "stream",
          "name": "stderr",
          "text": [
            "100%|██████████| 51/51 [00:00<00:00, 93.46it/s]\n"
          ]
        },
        {
          "output_type": "stream",
          "name": "stdout",
          "text": [
            "Best model saved at epoch 19 with validation loss: 1.5865\n",
            "Epoch: 20/200 | Epoch Time: 0m 0s\n",
            "\tTrain Loss: 1.537 | Train Acc: 41.58%\n",
            "\t Val. Loss: 1.586 |  Val. Acc: 40.36%\n"
          ]
        },
        {
          "output_type": "stream",
          "name": "stderr",
          "text": [
            "100%|██████████| 51/51 [00:00<00:00, 92.69it/s] \n"
          ]
        },
        {
          "output_type": "stream",
          "name": "stdout",
          "text": [
            "Best model saved at epoch 20 with validation loss: 1.5702\n",
            "Epoch: 21/200 | Epoch Time: 0m 0s\n",
            "\tTrain Loss: 1.519 | Train Acc: 43.90%\n",
            "\t Val. Loss: 1.570 |  Val. Acc: 42.32%\n"
          ]
        },
        {
          "output_type": "stream",
          "name": "stderr",
          "text": [
            "100%|██████████| 51/51 [00:00<00:00, 91.31it/s]\n"
          ]
        },
        {
          "output_type": "stream",
          "name": "stdout",
          "text": [
            "Best model saved at epoch 21 with validation loss: 1.5531\n",
            "Epoch: 22/200 | Epoch Time: 0m 0s\n",
            "\tTrain Loss: 1.496 | Train Acc: 45.23%\n",
            "\t Val. Loss: 1.553 |  Val. Acc: 45.44%\n"
          ]
        },
        {
          "output_type": "stream",
          "name": "stderr",
          "text": [
            "100%|██████████| 51/51 [00:00<00:00, 91.76it/s]\n"
          ]
        },
        {
          "output_type": "stream",
          "name": "stdout",
          "text": [
            "Best model saved at epoch 22 with validation loss: 1.5354\n",
            "Epoch: 23/200 | Epoch Time: 0m 0s\n",
            "\tTrain Loss: 1.471 | Train Acc: 47.44%\n",
            "\t Val. Loss: 1.535 |  Val. Acc: 46.09%\n"
          ]
        },
        {
          "output_type": "stream",
          "name": "stderr",
          "text": [
            "100%|██████████| 51/51 [00:00<00:00, 92.61it/s]\n"
          ]
        },
        {
          "output_type": "stream",
          "name": "stdout",
          "text": [
            "Best model saved at epoch 23 with validation loss: 1.5170\n",
            "Epoch: 24/200 | Epoch Time: 0m 0s\n",
            "\tTrain Loss: 1.447 | Train Acc: 48.05%\n",
            "\t Val. Loss: 1.517 |  Val. Acc: 48.96%\n"
          ]
        },
        {
          "output_type": "stream",
          "name": "stderr",
          "text": [
            "100%|██████████| 51/51 [00:00<00:00, 92.52it/s]\n"
          ]
        },
        {
          "output_type": "stream",
          "name": "stdout",
          "text": [
            "Best model saved at epoch 24 with validation loss: 1.4980\n",
            "Epoch: 25/200 | Epoch Time: 0m 0s\n",
            "\tTrain Loss: 1.422 | Train Acc: 49.87%\n",
            "\t Val. Loss: 1.498 |  Val. Acc: 47.27%\n"
          ]
        },
        {
          "output_type": "stream",
          "name": "stderr",
          "text": [
            "100%|██████████| 51/51 [00:00<00:00, 93.60it/s]\n"
          ]
        },
        {
          "output_type": "stream",
          "name": "stdout",
          "text": [
            "Best model saved at epoch 25 with validation loss: 1.4781\n",
            "Epoch: 26/200 | Epoch Time: 0m 0s\n",
            "\tTrain Loss: 1.398 | Train Acc: 48.87%\n",
            "\t Val. Loss: 1.478 |  Val. Acc: 44.01%\n"
          ]
        },
        {
          "output_type": "stream",
          "name": "stderr",
          "text": [
            "100%|██████████| 51/51 [00:00<00:00, 92.17it/s]\n"
          ]
        },
        {
          "output_type": "stream",
          "name": "stdout",
          "text": [
            "Best model saved at epoch 26 with validation loss: 1.4592\n",
            "Epoch: 27/200 | Epoch Time: 0m 0s\n",
            "\tTrain Loss: 1.372 | Train Acc: 49.73%\n",
            "\t Val. Loss: 1.459 |  Val. Acc: 44.01%\n"
          ]
        },
        {
          "output_type": "stream",
          "name": "stderr",
          "text": [
            "100%|██████████| 51/51 [00:00<00:00, 94.53it/s] \n"
          ]
        },
        {
          "output_type": "stream",
          "name": "stdout",
          "text": [
            "Best model saved at epoch 27 with validation loss: 1.4406\n",
            "Epoch: 28/200 | Epoch Time: 0m 0s\n",
            "\tTrain Loss: 1.344 | Train Acc: 50.96%\n",
            "\t Val. Loss: 1.441 |  Val. Acc: 43.23%\n"
          ]
        },
        {
          "output_type": "stream",
          "name": "stderr",
          "text": [
            "100%|██████████| 51/51 [00:00<00:00, 93.21it/s] \n"
          ]
        },
        {
          "output_type": "stream",
          "name": "stdout",
          "text": [
            "Best model saved at epoch 28 with validation loss: 1.4225\n",
            "Epoch: 29/200 | Epoch Time: 0m 0s\n",
            "\tTrain Loss: 1.319 | Train Acc: 51.94%\n",
            "\t Val. Loss: 1.423 |  Val. Acc: 43.23%\n"
          ]
        },
        {
          "output_type": "stream",
          "name": "stderr",
          "text": [
            "100%|██████████| 51/51 [00:00<00:00, 92.67it/s] \n"
          ]
        },
        {
          "output_type": "stream",
          "name": "stdout",
          "text": [
            "Best model saved at epoch 29 with validation loss: 1.4059\n",
            "Epoch: 30/200 | Epoch Time: 0m 0s\n",
            "\tTrain Loss: 1.296 | Train Acc: 52.37%\n",
            "\t Val. Loss: 1.406 |  Val. Acc: 40.76%\n"
          ]
        },
        {
          "output_type": "stream",
          "name": "stderr",
          "text": [
            "100%|██████████| 51/51 [00:00<00:00, 91.23it/s]\n"
          ]
        },
        {
          "output_type": "stream",
          "name": "stdout",
          "text": [
            "Best model saved at epoch 30 with validation loss: 1.3912\n",
            "Epoch: 31/200 | Epoch Time: 0m 0s\n",
            "\tTrain Loss: 1.273 | Train Acc: 52.19%\n",
            "\t Val. Loss: 1.391 |  Val. Acc: 41.15%\n"
          ]
        },
        {
          "output_type": "stream",
          "name": "stderr",
          "text": [
            "100%|██████████| 51/51 [00:00<00:00, 93.82it/s]\n"
          ]
        },
        {
          "output_type": "stream",
          "name": "stdout",
          "text": [
            "Best model saved at epoch 31 with validation loss: 1.3774\n",
            "Epoch: 32/200 | Epoch Time: 0m 0s\n",
            "\tTrain Loss: 1.258 | Train Acc: 53.15%\n",
            "\t Val. Loss: 1.377 |  Val. Acc: 40.10%\n"
          ]
        },
        {
          "output_type": "stream",
          "name": "stderr",
          "text": [
            "100%|██████████| 51/51 [00:00<00:00, 93.46it/s] \n"
          ]
        },
        {
          "output_type": "stream",
          "name": "stdout",
          "text": [
            "Best model saved at epoch 32 with validation loss: 1.3657\n",
            "Epoch: 33/200 | Epoch Time: 0m 0s\n",
            "\tTrain Loss: 1.234 | Train Acc: 52.84%\n",
            "\t Val. Loss: 1.366 |  Val. Acc: 38.54%\n"
          ]
        },
        {
          "output_type": "stream",
          "name": "stderr",
          "text": [
            "100%|██████████| 51/51 [00:00<00:00, 86.49it/s]\n"
          ]
        },
        {
          "output_type": "stream",
          "name": "stdout",
          "text": [
            "Best model saved at epoch 33 with validation loss: 1.3555\n",
            "Epoch: 34/200 | Epoch Time: 0m 0s\n",
            "\tTrain Loss: 1.211 | Train Acc: 53.55%\n",
            "\t Val. Loss: 1.355 |  Val. Acc: 36.85%\n"
          ]
        },
        {
          "output_type": "stream",
          "name": "stderr",
          "text": [
            "100%|██████████| 51/51 [00:00<00:00, 86.78it/s]\n"
          ]
        },
        {
          "output_type": "stream",
          "name": "stdout",
          "text": [
            "Best model saved at epoch 34 with validation loss: 1.3456\n",
            "Epoch: 35/200 | Epoch Time: 0m 0s\n",
            "\tTrain Loss: 1.197 | Train Acc: 52.68%\n",
            "\t Val. Loss: 1.346 |  Val. Acc: 42.32%\n"
          ]
        },
        {
          "output_type": "stream",
          "name": "stderr",
          "text": [
            "100%|██████████| 51/51 [00:00<00:00, 86.75it/s]\n"
          ]
        },
        {
          "output_type": "stream",
          "name": "stdout",
          "text": [
            "Best model saved at epoch 35 with validation loss: 1.3373\n",
            "Epoch: 36/200 | Epoch Time: 0m 0s\n",
            "\tTrain Loss: 1.180 | Train Acc: 52.81%\n",
            "\t Val. Loss: 1.337 |  Val. Acc: 44.66%\n"
          ]
        },
        {
          "output_type": "stream",
          "name": "stderr",
          "text": [
            "100%|██████████| 51/51 [00:00<00:00, 88.89it/s]\n"
          ]
        },
        {
          "output_type": "stream",
          "name": "stdout",
          "text": [
            "Best model saved at epoch 36 with validation loss: 1.3295\n",
            "Epoch: 37/200 | Epoch Time: 0m 0s\n",
            "\tTrain Loss: 1.165 | Train Acc: 54.03%\n",
            "\t Val. Loss: 1.330 |  Val. Acc: 43.36%\n"
          ]
        },
        {
          "output_type": "stream",
          "name": "stderr",
          "text": [
            "100%|██████████| 51/51 [00:00<00:00, 92.44it/s]\n"
          ]
        },
        {
          "output_type": "stream",
          "name": "stdout",
          "text": [
            "Best model saved at epoch 37 with validation loss: 1.3227\n",
            "Epoch: 38/200 | Epoch Time: 0m 0s\n",
            "\tTrain Loss: 1.151 | Train Acc: 54.26%\n",
            "\t Val. Loss: 1.323 |  Val. Acc: 44.01%\n"
          ]
        },
        {
          "output_type": "stream",
          "name": "stderr",
          "text": [
            "100%|██████████| 51/51 [00:00<00:00, 90.73it/s] \n"
          ]
        },
        {
          "output_type": "stream",
          "name": "stdout",
          "text": [
            "Best model saved at epoch 38 with validation loss: 1.3156\n",
            "Epoch: 39/200 | Epoch Time: 0m 0s\n",
            "\tTrain Loss: 1.139 | Train Acc: 53.59%\n",
            "\t Val. Loss: 1.316 |  Val. Acc: 44.40%\n"
          ]
        },
        {
          "output_type": "stream",
          "name": "stderr",
          "text": [
            "100%|██████████| 51/51 [00:00<00:00, 91.51it/s]\n"
          ]
        },
        {
          "output_type": "stream",
          "name": "stdout",
          "text": [
            "Best model saved at epoch 39 with validation loss: 1.3091\n",
            "Epoch: 40/200 | Epoch Time: 0m 0s\n",
            "\tTrain Loss: 1.128 | Train Acc: 54.08%\n",
            "\t Val. Loss: 1.309 |  Val. Acc: 45.18%\n"
          ]
        },
        {
          "output_type": "stream",
          "name": "stderr",
          "text": [
            "100%|██████████| 51/51 [00:00<00:00, 93.08it/s]\n"
          ]
        },
        {
          "output_type": "stream",
          "name": "stdout",
          "text": [
            "Best model saved at epoch 40 with validation loss: 1.3021\n",
            "Epoch: 41/200 | Epoch Time: 0m 0s\n",
            "\tTrain Loss: 1.106 | Train Acc: 55.06%\n",
            "\t Val. Loss: 1.302 |  Val. Acc: 46.74%\n"
          ]
        },
        {
          "output_type": "stream",
          "name": "stderr",
          "text": [
            "100%|██████████| 51/51 [00:00<00:00, 92.65it/s]\n"
          ]
        },
        {
          "output_type": "stream",
          "name": "stdout",
          "text": [
            "Best model saved at epoch 41 with validation loss: 1.2973\n",
            "Epoch: 42/200 | Epoch Time: 0m 0s\n",
            "\tTrain Loss: 1.094 | Train Acc: 55.74%\n",
            "\t Val. Loss: 1.297 |  Val. Acc: 47.92%\n"
          ]
        },
        {
          "output_type": "stream",
          "name": "stderr",
          "text": [
            "100%|██████████| 51/51 [00:00<00:00, 93.28it/s] \n"
          ]
        },
        {
          "output_type": "stream",
          "name": "stdout",
          "text": [
            "Best model saved at epoch 42 with validation loss: 1.2910\n",
            "Epoch: 43/200 | Epoch Time: 0m 0s\n",
            "\tTrain Loss: 1.086 | Train Acc: 56.04%\n",
            "\t Val. Loss: 1.291 |  Val. Acc: 47.92%\n"
          ]
        },
        {
          "output_type": "stream",
          "name": "stderr",
          "text": [
            "100%|██████████| 51/51 [00:00<00:00, 91.59it/s]\n"
          ]
        },
        {
          "output_type": "stream",
          "name": "stdout",
          "text": [
            "Best model saved at epoch 43 with validation loss: 1.2857\n",
            "Epoch: 44/200 | Epoch Time: 0m 0s\n",
            "\tTrain Loss: 1.070 | Train Acc: 56.36%\n",
            "\t Val. Loss: 1.286 |  Val. Acc: 47.53%\n"
          ]
        },
        {
          "output_type": "stream",
          "name": "stderr",
          "text": [
            "100%|██████████| 51/51 [00:00<00:00, 93.01it/s]\n"
          ]
        },
        {
          "output_type": "stream",
          "name": "stdout",
          "text": [
            "Best model saved at epoch 44 with validation loss: 1.2809\n",
            "Epoch: 45/200 | Epoch Time: 0m 0s\n",
            "\tTrain Loss: 1.055 | Train Acc: 57.59%\n",
            "\t Val. Loss: 1.281 |  Val. Acc: 46.35%\n"
          ]
        },
        {
          "output_type": "stream",
          "name": "stderr",
          "text": [
            "100%|██████████| 51/51 [00:00<00:00, 92.93it/s]\n"
          ]
        },
        {
          "output_type": "stream",
          "name": "stdout",
          "text": [
            "Best model saved at epoch 45 with validation loss: 1.2761\n",
            "Epoch: 46/200 | Epoch Time: 0m 0s\n",
            "\tTrain Loss: 1.050 | Train Acc: 57.35%\n",
            "\t Val. Loss: 1.276 |  Val. Acc: 45.96%\n"
          ]
        },
        {
          "output_type": "stream",
          "name": "stderr",
          "text": [
            "100%|██████████| 51/51 [00:00<00:00, 89.27it/s]\n"
          ]
        },
        {
          "output_type": "stream",
          "name": "stdout",
          "text": [
            "Best model saved at epoch 46 with validation loss: 1.2734\n",
            "Epoch: 47/200 | Epoch Time: 0m 0s\n",
            "\tTrain Loss: 1.032 | Train Acc: 57.23%\n",
            "\t Val. Loss: 1.273 |  Val. Acc: 47.92%\n"
          ]
        },
        {
          "output_type": "stream",
          "name": "stderr",
          "text": [
            "100%|██████████| 51/51 [00:00<00:00, 91.52it/s]\n"
          ]
        },
        {
          "output_type": "stream",
          "name": "stdout",
          "text": [
            "Best model saved at epoch 47 with validation loss: 1.2671\n",
            "Epoch: 48/200 | Epoch Time: 0m 0s\n",
            "\tTrain Loss: 1.027 | Train Acc: 57.97%\n",
            "\t Val. Loss: 1.267 |  Val. Acc: 47.53%\n"
          ]
        },
        {
          "output_type": "stream",
          "name": "stderr",
          "text": [
            "100%|██████████| 51/51 [00:00<00:00, 92.13it/s]\n"
          ]
        },
        {
          "output_type": "stream",
          "name": "stdout",
          "text": [
            "Best model saved at epoch 48 with validation loss: 1.2624\n",
            "Epoch: 49/200 | Epoch Time: 0m 0s\n",
            "\tTrain Loss: 1.016 | Train Acc: 58.38%\n",
            "\t Val. Loss: 1.262 |  Val. Acc: 46.74%\n"
          ]
        },
        {
          "output_type": "stream",
          "name": "stderr",
          "text": [
            "100%|██████████| 51/51 [00:00<00:00, 91.94it/s]\n"
          ]
        },
        {
          "output_type": "stream",
          "name": "stdout",
          "text": [
            "Best model saved at epoch 49 with validation loss: 1.2600\n",
            "Epoch: 50/200 | Epoch Time: 0m 0s\n",
            "\tTrain Loss: 1.005 | Train Acc: 59.31%\n",
            "\t Val. Loss: 1.260 |  Val. Acc: 45.18%\n"
          ]
        },
        {
          "output_type": "stream",
          "name": "stderr",
          "text": [
            "100%|██████████| 51/51 [00:00<00:00, 91.15it/s]\n"
          ]
        },
        {
          "output_type": "stream",
          "name": "stdout",
          "text": [
            "Best model saved at epoch 50 with validation loss: 1.2553\n",
            "Epoch: 51/200 | Epoch Time: 0m 0s\n",
            "\tTrain Loss: 0.993 | Train Acc: 60.39%\n",
            "\t Val. Loss: 1.255 |  Val. Acc: 46.35%\n"
          ]
        },
        {
          "output_type": "stream",
          "name": "stderr",
          "text": [
            "100%|██████████| 51/51 [00:00<00:00, 89.65it/s]\n"
          ]
        },
        {
          "output_type": "stream",
          "name": "stdout",
          "text": [
            "Best model saved at epoch 51 with validation loss: 1.2515\n",
            "Epoch: 52/200 | Epoch Time: 0m 0s\n",
            "\tTrain Loss: 0.985 | Train Acc: 60.07%\n",
            "\t Val. Loss: 1.252 |  Val. Acc: 49.61%\n"
          ]
        },
        {
          "output_type": "stream",
          "name": "stderr",
          "text": [
            "100%|██████████| 51/51 [00:00<00:00, 85.37it/s]\n"
          ]
        },
        {
          "output_type": "stream",
          "name": "stdout",
          "text": [
            "Best model saved at epoch 52 with validation loss: 1.2501\n",
            "Epoch: 53/200 | Epoch Time: 0m 0s\n",
            "\tTrain Loss: 0.968 | Train Acc: 60.94%\n",
            "\t Val. Loss: 1.250 |  Val. Acc: 45.57%\n"
          ]
        },
        {
          "output_type": "stream",
          "name": "stderr",
          "text": [
            "100%|██████████| 51/51 [00:00<00:00, 85.63it/s]\n"
          ]
        },
        {
          "output_type": "stream",
          "name": "stdout",
          "text": [
            "Best model saved at epoch 53 with validation loss: 1.2460\n",
            "Epoch: 54/200 | Epoch Time: 0m 0s\n",
            "\tTrain Loss: 0.961 | Train Acc: 60.77%\n",
            "\t Val. Loss: 1.246 |  Val. Acc: 46.74%\n"
          ]
        },
        {
          "output_type": "stream",
          "name": "stderr",
          "text": [
            "100%|██████████| 51/51 [00:00<00:00, 83.64it/s]\n"
          ]
        },
        {
          "output_type": "stream",
          "name": "stdout",
          "text": [
            "Best model saved at epoch 54 with validation loss: 1.2424\n",
            "Epoch: 55/200 | Epoch Time: 0m 0s\n",
            "\tTrain Loss: 0.951 | Train Acc: 61.18%\n",
            "\t Val. Loss: 1.242 |  Val. Acc: 43.49%\n"
          ]
        },
        {
          "output_type": "stream",
          "name": "stderr",
          "text": [
            "100%|██████████| 51/51 [00:00<00:00, 91.19it/s]\n"
          ]
        },
        {
          "output_type": "stream",
          "name": "stdout",
          "text": [
            "Best model saved at epoch 55 with validation loss: 1.2397\n",
            "Epoch: 56/200 | Epoch Time: 0m 0s\n",
            "\tTrain Loss: 0.947 | Train Acc: 60.72%\n",
            "\t Val. Loss: 1.240 |  Val. Acc: 43.49%\n"
          ]
        },
        {
          "output_type": "stream",
          "name": "stderr",
          "text": [
            "100%|██████████| 51/51 [00:00<00:00, 93.60it/s] \n"
          ]
        },
        {
          "output_type": "stream",
          "name": "stdout",
          "text": [
            "Epoch: 57/200 | Epoch Time: 0m 0s\n",
            "\tTrain Loss: 0.931 | Train Acc: 62.28%\n",
            "\t Val. Loss: 1.240 |  Val. Acc: 45.18%\n"
          ]
        },
        {
          "output_type": "stream",
          "name": "stderr",
          "text": [
            "100%|██████████| 51/51 [00:00<00:00, 92.25it/s]\n"
          ]
        },
        {
          "output_type": "stream",
          "name": "stdout",
          "text": [
            "Best model saved at epoch 57 with validation loss: 1.2370\n",
            "Epoch: 58/200 | Epoch Time: 0m 0s\n",
            "\tTrain Loss: 0.926 | Train Acc: 62.46%\n",
            "\t Val. Loss: 1.237 |  Val. Acc: 45.18%\n"
          ]
        },
        {
          "output_type": "stream",
          "name": "stderr",
          "text": [
            "100%|██████████| 51/51 [00:00<00:00, 92.66it/s]\n"
          ]
        },
        {
          "output_type": "stream",
          "name": "stdout",
          "text": [
            "Best model saved at epoch 58 with validation loss: 1.2363\n",
            "Epoch: 59/200 | Epoch Time: 0m 0s\n",
            "\tTrain Loss: 0.912 | Train Acc: 63.21%\n",
            "\t Val. Loss: 1.236 |  Val. Acc: 45.57%\n"
          ]
        },
        {
          "output_type": "stream",
          "name": "stderr",
          "text": [
            "100%|██████████| 51/51 [00:00<00:00, 91.69it/s] \n"
          ]
        },
        {
          "output_type": "stream",
          "name": "stdout",
          "text": [
            "Epoch: 60/200 | Epoch Time: 0m 0s\n",
            "\tTrain Loss: 0.907 | Train Acc: 62.93%\n",
            "\t Val. Loss: 1.237 |  Val. Acc: 46.35%\n"
          ]
        },
        {
          "output_type": "stream",
          "name": "stderr",
          "text": [
            "100%|██████████| 51/51 [00:00<00:00, 92.27it/s]\n"
          ]
        },
        {
          "output_type": "stream",
          "name": "stdout",
          "text": [
            "Best model saved at epoch 60 with validation loss: 1.2350\n",
            "Epoch: 61/200 | Epoch Time: 0m 0s\n",
            "\tTrain Loss: 0.901 | Train Acc: 63.14%\n",
            "\t Val. Loss: 1.235 |  Val. Acc: 46.74%\n"
          ]
        },
        {
          "output_type": "stream",
          "name": "stderr",
          "text": [
            "100%|██████████| 51/51 [00:00<00:00, 91.79it/s]\n"
          ]
        },
        {
          "output_type": "stream",
          "name": "stdout",
          "text": [
            "Best model saved at epoch 61 with validation loss: 1.2345\n",
            "Epoch: 62/200 | Epoch Time: 0m 0s\n",
            "\tTrain Loss: 0.893 | Train Acc: 63.74%\n",
            "\t Val. Loss: 1.235 |  Val. Acc: 47.92%\n"
          ]
        },
        {
          "output_type": "stream",
          "name": "stderr",
          "text": [
            "100%|██████████| 51/51 [00:00<00:00, 91.85it/s]\n"
          ]
        },
        {
          "output_type": "stream",
          "name": "stdout",
          "text": [
            "Best model saved at epoch 62 with validation loss: 1.2344\n",
            "Epoch: 63/200 | Epoch Time: 0m 0s\n",
            "\tTrain Loss: 0.882 | Train Acc: 63.17%\n",
            "\t Val. Loss: 1.234 |  Val. Acc: 47.53%\n"
          ]
        },
        {
          "output_type": "stream",
          "name": "stderr",
          "text": [
            "100%|██████████| 51/51 [00:00<00:00, 92.00it/s]\n"
          ]
        },
        {
          "output_type": "stream",
          "name": "stdout",
          "text": [
            "Best model saved at epoch 63 with validation loss: 1.2343\n",
            "Epoch: 64/200 | Epoch Time: 0m 0s\n",
            "\tTrain Loss: 0.880 | Train Acc: 63.62%\n",
            "\t Val. Loss: 1.234 |  Val. Acc: 47.14%\n"
          ]
        },
        {
          "output_type": "stream",
          "name": "stderr",
          "text": [
            "100%|██████████| 51/51 [00:00<00:00, 91.99it/s]\n"
          ]
        },
        {
          "output_type": "stream",
          "name": "stdout",
          "text": [
            "Best model saved at epoch 64 with validation loss: 1.2306\n",
            "Epoch: 65/200 | Epoch Time: 0m 0s\n",
            "\tTrain Loss: 0.872 | Train Acc: 62.99%\n",
            "\t Val. Loss: 1.231 |  Val. Acc: 47.14%\n"
          ]
        },
        {
          "output_type": "stream",
          "name": "stderr",
          "text": [
            "100%|██████████| 51/51 [00:00<00:00, 92.30it/s]\n"
          ]
        },
        {
          "output_type": "stream",
          "name": "stdout",
          "text": [
            "Epoch: 66/200 | Epoch Time: 0m 0s\n",
            "\tTrain Loss: 0.859 | Train Acc: 64.83%\n",
            "\t Val. Loss: 1.234 |  Val. Acc: 47.92%\n"
          ]
        },
        {
          "output_type": "stream",
          "name": "stderr",
          "text": [
            "100%|██████████| 51/51 [00:00<00:00, 90.95it/s]\n"
          ]
        },
        {
          "output_type": "stream",
          "name": "stdout",
          "text": [
            "Epoch: 67/200 | Epoch Time: 0m 0s\n",
            "\tTrain Loss: 0.851 | Train Acc: 65.15%\n",
            "\t Val. Loss: 1.234 |  Val. Acc: 47.53%\n"
          ]
        },
        {
          "output_type": "stream",
          "name": "stderr",
          "text": [
            "100%|██████████| 51/51 [00:00<00:00, 91.89it/s]\n"
          ]
        },
        {
          "output_type": "stream",
          "name": "stdout",
          "text": [
            "Epoch: 68/200 | Epoch Time: 0m 0s\n",
            "\tTrain Loss: 0.848 | Train Acc: 65.02%\n",
            "\t Val. Loss: 1.232 |  Val. Acc: 47.14%\n"
          ]
        },
        {
          "output_type": "stream",
          "name": "stderr",
          "text": [
            "100%|██████████| 51/51 [00:00<00:00, 90.85it/s]\n"
          ]
        },
        {
          "output_type": "stream",
          "name": "stdout",
          "text": [
            "Epoch: 69/200 | Epoch Time: 0m 0s\n",
            "\tTrain Loss: 0.839 | Train Acc: 63.75%\n",
            "\t Val. Loss: 1.235 |  Val. Acc: 48.31%\n"
          ]
        },
        {
          "output_type": "stream",
          "name": "stderr",
          "text": [
            "100%|██████████| 51/51 [00:00<00:00, 89.64it/s]\n"
          ]
        },
        {
          "output_type": "stream",
          "name": "stdout",
          "text": [
            "Epoch: 70/200 | Epoch Time: 0m 0s\n",
            "\tTrain Loss: 0.831 | Train Acc: 66.43%\n",
            "\t Val. Loss: 1.235 |  Val. Acc: 50.78%\n"
          ]
        },
        {
          "output_type": "stream",
          "name": "stderr",
          "text": [
            "100%|██████████| 51/51 [00:00<00:00, 89.67it/s]\n"
          ]
        },
        {
          "output_type": "stream",
          "name": "stdout",
          "text": [
            "Epoch: 71/200 | Epoch Time: 0m 0s\n",
            "\tTrain Loss: 0.823 | Train Acc: 65.21%\n",
            "\t Val. Loss: 1.234 |  Val. Acc: 50.39%\n"
          ]
        },
        {
          "output_type": "stream",
          "name": "stderr",
          "text": [
            "100%|██████████| 51/51 [00:00<00:00, 84.87it/s]\n"
          ]
        },
        {
          "output_type": "stream",
          "name": "stdout",
          "text": [
            "Epoch: 72/200 | Epoch Time: 0m 0s\n",
            "\tTrain Loss: 0.815 | Train Acc: 65.01%\n",
            "\t Val. Loss: 1.238 |  Val. Acc: 51.17%\n"
          ]
        },
        {
          "output_type": "stream",
          "name": "stderr",
          "text": [
            "100%|██████████| 51/51 [00:00<00:00, 87.94it/s] \n"
          ]
        },
        {
          "output_type": "stream",
          "name": "stdout",
          "text": [
            "Epoch: 73/200 | Epoch Time: 0m 0s\n",
            "\tTrain Loss: 0.814 | Train Acc: 64.66%\n",
            "\t Val. Loss: 1.239 |  Val. Acc: 51.17%\n"
          ]
        },
        {
          "output_type": "stream",
          "name": "stderr",
          "text": [
            "100%|██████████| 51/51 [00:00<00:00, 83.96it/s]\n"
          ]
        },
        {
          "output_type": "stream",
          "name": "stdout",
          "text": [
            "Epoch: 74/200 | Epoch Time: 0m 0s\n",
            "\tTrain Loss: 0.806 | Train Acc: 65.50%\n",
            "\t Val. Loss: 1.236 |  Val. Acc: 51.95%\n"
          ]
        },
        {
          "output_type": "stream",
          "name": "stderr",
          "text": [
            "100%|██████████| 51/51 [00:00<00:00, 87.80it/s]\n"
          ]
        },
        {
          "output_type": "stream",
          "name": "stdout",
          "text": [
            "Epoch: 75/200 | Epoch Time: 0m 0s\n",
            "\tTrain Loss: 0.795 | Train Acc: 66.63%\n",
            "\t Val. Loss: 1.238 |  Val. Acc: 52.73%\n"
          ]
        },
        {
          "output_type": "stream",
          "name": "stderr",
          "text": [
            "100%|██████████| 51/51 [00:00<00:00, 91.85it/s]\n"
          ]
        },
        {
          "output_type": "stream",
          "name": "stdout",
          "text": [
            "Epoch: 76/200 | Epoch Time: 0m 0s\n",
            "\tTrain Loss: 0.791 | Train Acc: 66.58%\n",
            "\t Val. Loss: 1.241 |  Val. Acc: 53.12%\n"
          ]
        },
        {
          "output_type": "stream",
          "name": "stderr",
          "text": [
            "100%|██████████| 51/51 [00:00<00:00, 90.05it/s] \n"
          ]
        },
        {
          "output_type": "stream",
          "name": "stdout",
          "text": [
            "Epoch: 77/200 | Epoch Time: 0m 0s\n",
            "\tTrain Loss: 0.790 | Train Acc: 66.26%\n",
            "\t Val. Loss: 1.243 |  Val. Acc: 53.12%\n"
          ]
        },
        {
          "output_type": "stream",
          "name": "stderr",
          "text": [
            "100%|██████████| 51/51 [00:00<00:00, 92.48it/s]\n"
          ]
        },
        {
          "output_type": "stream",
          "name": "stdout",
          "text": [
            "Epoch: 78/200 | Epoch Time: 0m 0s\n",
            "\tTrain Loss: 0.779 | Train Acc: 67.12%\n",
            "\t Val. Loss: 1.244 |  Val. Acc: 52.34%\n"
          ]
        },
        {
          "output_type": "stream",
          "name": "stderr",
          "text": [
            "100%|██████████| 51/51 [00:00<00:00, 90.74it/s] \n"
          ]
        },
        {
          "output_type": "stream",
          "name": "stdout",
          "text": [
            "Epoch: 79/200 | Epoch Time: 0m 0s\n",
            "\tTrain Loss: 0.766 | Train Acc: 67.98%\n",
            "\t Val. Loss: 1.247 |  Val. Acc: 52.73%\n"
          ]
        },
        {
          "output_type": "stream",
          "name": "stderr",
          "text": [
            "100%|██████████| 51/51 [00:00<00:00, 89.34it/s]\n"
          ]
        },
        {
          "output_type": "stream",
          "name": "stdout",
          "text": [
            "Epoch: 80/200 | Epoch Time: 0m 0s\n",
            "\tTrain Loss: 0.767 | Train Acc: 67.08%\n",
            "\t Val. Loss: 1.244 |  Val. Acc: 51.95%\n"
          ]
        },
        {
          "output_type": "stream",
          "name": "stderr",
          "text": [
            "100%|██████████| 51/51 [00:00<00:00, 91.04it/s]\n"
          ]
        },
        {
          "output_type": "stream",
          "name": "stdout",
          "text": [
            "Epoch: 81/200 | Epoch Time: 0m 0s\n",
            "\tTrain Loss: 0.758 | Train Acc: 67.88%\n",
            "\t Val. Loss: 1.248 |  Val. Acc: 52.34%\n"
          ]
        },
        {
          "output_type": "stream",
          "name": "stderr",
          "text": [
            "100%|██████████| 51/51 [00:00<00:00, 91.04it/s]\n"
          ]
        },
        {
          "output_type": "stream",
          "name": "stdout",
          "text": [
            "Epoch: 82/200 | Epoch Time: 0m 0s\n",
            "\tTrain Loss: 0.754 | Train Acc: 68.68%\n",
            "\t Val. Loss: 1.249 |  Val. Acc: 53.12%\n"
          ]
        },
        {
          "output_type": "stream",
          "name": "stderr",
          "text": [
            "100%|██████████| 51/51 [00:00<00:00, 91.81it/s]\n"
          ]
        },
        {
          "output_type": "stream",
          "name": "stdout",
          "text": [
            "Epoch: 83/200 | Epoch Time: 0m 0s\n",
            "\tTrain Loss: 0.748 | Train Acc: 68.31%\n",
            "\t Val. Loss: 1.250 |  Val. Acc: 52.73%\n"
          ]
        },
        {
          "output_type": "stream",
          "name": "stderr",
          "text": [
            "100%|██████████| 51/51 [00:00<00:00, 90.30it/s]\n"
          ]
        },
        {
          "output_type": "stream",
          "name": "stdout",
          "text": [
            "Epoch: 84/200 | Epoch Time: 0m 0s\n",
            "\tTrain Loss: 0.741 | Train Acc: 69.41%\n",
            "\t Val. Loss: 1.251 |  Val. Acc: 52.73%\n"
          ]
        },
        {
          "output_type": "stream",
          "name": "stderr",
          "text": [
            "100%|██████████| 51/51 [00:00<00:00, 91.35it/s]\n"
          ]
        },
        {
          "output_type": "stream",
          "name": "stdout",
          "text": [
            "Epoch: 85/200 | Epoch Time: 0m 0s\n",
            "\tTrain Loss: 0.733 | Train Acc: 69.11%\n",
            "\t Val. Loss: 1.256 |  Val. Acc: 52.73%\n"
          ]
        },
        {
          "output_type": "stream",
          "name": "stderr",
          "text": [
            "100%|██████████| 51/51 [00:00<00:00, 90.61it/s]\n"
          ]
        },
        {
          "output_type": "stream",
          "name": "stdout",
          "text": [
            "Epoch: 86/200 | Epoch Time: 0m 0s\n",
            "\tTrain Loss: 0.732 | Train Acc: 69.90%\n",
            "\t Val. Loss: 1.257 |  Val. Acc: 52.73%\n"
          ]
        },
        {
          "output_type": "stream",
          "name": "stderr",
          "text": [
            "100%|██████████| 51/51 [00:00<00:00, 90.64it/s]\n"
          ]
        },
        {
          "output_type": "stream",
          "name": "stdout",
          "text": [
            "Epoch: 87/200 | Epoch Time: 0m 0s\n",
            "\tTrain Loss: 0.727 | Train Acc: 69.66%\n",
            "\t Val. Loss: 1.260 |  Val. Acc: 52.73%\n"
          ]
        },
        {
          "output_type": "stream",
          "name": "stderr",
          "text": [
            "100%|██████████| 51/51 [00:00<00:00, 92.00it/s]\n"
          ]
        },
        {
          "output_type": "stream",
          "name": "stdout",
          "text": [
            "Epoch: 88/200 | Epoch Time: 0m 0s\n",
            "\tTrain Loss: 0.717 | Train Acc: 69.60%\n",
            "\t Val. Loss: 1.263 |  Val. Acc: 53.12%\n"
          ]
        },
        {
          "output_type": "stream",
          "name": "stderr",
          "text": [
            "100%|██████████| 51/51 [00:00<00:00, 91.24it/s]\n"
          ]
        },
        {
          "output_type": "stream",
          "name": "stdout",
          "text": [
            "Epoch: 89/200 | Epoch Time: 0m 0s\n",
            "\tTrain Loss: 0.711 | Train Acc: 70.58%\n",
            "\t Val. Loss: 1.262 |  Val. Acc: 53.12%\n"
          ]
        },
        {
          "output_type": "stream",
          "name": "stderr",
          "text": [
            "100%|██████████| 51/51 [00:00<00:00, 90.94it/s]\n"
          ]
        },
        {
          "output_type": "stream",
          "name": "stdout",
          "text": [
            "Epoch: 90/200 | Epoch Time: 0m 0s\n",
            "\tTrain Loss: 0.706 | Train Acc: 70.64%\n",
            "\t Val. Loss: 1.264 |  Val. Acc: 52.34%\n"
          ]
        },
        {
          "output_type": "stream",
          "name": "stderr",
          "text": [
            "100%|██████████| 51/51 [00:00<00:00, 89.95it/s]\n"
          ]
        },
        {
          "output_type": "stream",
          "name": "stdout",
          "text": [
            "Epoch: 91/200 | Epoch Time: 0m 0s\n",
            "\tTrain Loss: 0.697 | Train Acc: 70.33%\n",
            "\t Val. Loss: 1.272 |  Val. Acc: 52.34%\n"
          ]
        },
        {
          "output_type": "stream",
          "name": "stderr",
          "text": [
            "100%|██████████| 51/51 [00:00<00:00, 83.88it/s]\n"
          ]
        },
        {
          "output_type": "stream",
          "name": "stdout",
          "text": [
            "Epoch: 92/200 | Epoch Time: 0m 0s\n",
            "\tTrain Loss: 0.693 | Train Acc: 71.07%\n",
            "\t Val. Loss: 1.275 |  Val. Acc: 49.48%\n"
          ]
        },
        {
          "output_type": "stream",
          "name": "stderr",
          "text": [
            "100%|██████████| 51/51 [00:00<00:00, 87.69it/s]\n"
          ]
        },
        {
          "output_type": "stream",
          "name": "stdout",
          "text": [
            "Epoch: 93/200 | Epoch Time: 0m 0s\n",
            "\tTrain Loss: 0.690 | Train Acc: 71.00%\n",
            "\t Val. Loss: 1.276 |  Val. Acc: 49.87%\n"
          ]
        },
        {
          "output_type": "stream",
          "name": "stderr",
          "text": [
            "100%|██████████| 51/51 [00:00<00:00, 85.01it/s]\n"
          ]
        },
        {
          "output_type": "stream",
          "name": "stdout",
          "text": [
            "Epoch: 94/200 | Epoch Time: 0m 0s\n",
            "\tTrain Loss: 0.680 | Train Acc: 70.58%\n",
            "\t Val. Loss: 1.278 |  Val. Acc: 49.87%\n"
          ]
        },
        {
          "output_type": "stream",
          "name": "stderr",
          "text": [
            "100%|██████████| 51/51 [00:00<00:00, 84.53it/s]\n"
          ]
        },
        {
          "output_type": "stream",
          "name": "stdout",
          "text": [
            "Epoch: 95/200 | Epoch Time: 0m 0s\n",
            "\tTrain Loss: 0.674 | Train Acc: 71.68%\n",
            "\t Val. Loss: 1.288 |  Val. Acc: 50.65%\n"
          ]
        },
        {
          "output_type": "stream",
          "name": "stderr",
          "text": [
            "100%|██████████| 51/51 [00:00<00:00, 90.19it/s]\n"
          ]
        },
        {
          "output_type": "stream",
          "name": "stdout",
          "text": [
            "Epoch: 96/200 | Epoch Time: 0m 0s\n",
            "\tTrain Loss: 0.667 | Train Acc: 72.23%\n",
            "\t Val. Loss: 1.285 |  Val. Acc: 51.04%\n"
          ]
        },
        {
          "output_type": "stream",
          "name": "stderr",
          "text": [
            "100%|██████████| 51/51 [00:00<00:00, 90.26it/s] \n"
          ]
        },
        {
          "output_type": "stream",
          "name": "stdout",
          "text": [
            "Epoch: 97/200 | Epoch Time: 0m 0s\n",
            "\tTrain Loss: 0.660 | Train Acc: 71.86%\n",
            "\t Val. Loss: 1.296 |  Val. Acc: 52.60%\n"
          ]
        },
        {
          "output_type": "stream",
          "name": "stderr",
          "text": [
            "100%|██████████| 51/51 [00:00<00:00, 91.20it/s] \n"
          ]
        },
        {
          "output_type": "stream",
          "name": "stdout",
          "text": [
            "Epoch: 98/200 | Epoch Time: 0m 0s\n",
            "\tTrain Loss: 0.663 | Train Acc: 72.48%\n",
            "\t Val. Loss: 1.296 |  Val. Acc: 51.82%\n"
          ]
        },
        {
          "output_type": "stream",
          "name": "stderr",
          "text": [
            "100%|██████████| 51/51 [00:00<00:00, 88.47it/s]\n"
          ]
        },
        {
          "output_type": "stream",
          "name": "stdout",
          "text": [
            "Epoch: 99/200 | Epoch Time: 0m 0s\n",
            "\tTrain Loss: 0.652 | Train Acc: 72.97%\n",
            "\t Val. Loss: 1.295 |  Val. Acc: 52.60%\n"
          ]
        },
        {
          "output_type": "stream",
          "name": "stderr",
          "text": [
            "100%|██████████| 51/51 [00:00<00:00, 90.07it/s]\n"
          ]
        },
        {
          "output_type": "stream",
          "name": "stdout",
          "text": [
            "Epoch: 100/200 | Epoch Time: 0m 0s\n",
            "\tTrain Loss: 0.646 | Train Acc: 71.99%\n",
            "\t Val. Loss: 1.296 |  Val. Acc: 52.21%\n"
          ]
        },
        {
          "output_type": "stream",
          "name": "stderr",
          "text": [
            "100%|██████████| 51/51 [00:00<00:00, 90.80it/s]\n"
          ]
        },
        {
          "output_type": "stream",
          "name": "stdout",
          "text": [
            "Epoch: 101/200 | Epoch Time: 0m 0s\n",
            "\tTrain Loss: 0.642 | Train Acc: 72.41%\n",
            "\t Val. Loss: 1.306 |  Val. Acc: 55.08%\n"
          ]
        },
        {
          "output_type": "stream",
          "name": "stderr",
          "text": [
            "100%|██████████| 51/51 [00:00<00:00, 90.08it/s] \n"
          ]
        },
        {
          "output_type": "stream",
          "name": "stdout",
          "text": [
            "Epoch: 102/200 | Epoch Time: 0m 0s\n",
            "\tTrain Loss: 0.641 | Train Acc: 73.21%\n",
            "\t Val. Loss: 1.312 |  Val. Acc: 52.60%\n"
          ]
        },
        {
          "output_type": "stream",
          "name": "stderr",
          "text": [
            "100%|██████████| 51/51 [00:00<00:00, 90.09it/s]\n"
          ]
        },
        {
          "output_type": "stream",
          "name": "stdout",
          "text": [
            "Epoch: 103/200 | Epoch Time: 0m 0s\n",
            "\tTrain Loss: 0.631 | Train Acc: 73.57%\n",
            "\t Val. Loss: 1.309 |  Val. Acc: 55.86%\n"
          ]
        },
        {
          "output_type": "stream",
          "name": "stderr",
          "text": [
            "100%|██████████| 51/51 [00:00<00:00, 89.55it/s]\n"
          ]
        },
        {
          "output_type": "stream",
          "name": "stdout",
          "text": [
            "Epoch: 104/200 | Epoch Time: 0m 0s\n",
            "\tTrain Loss: 0.626 | Train Acc: 73.33%\n",
            "\t Val. Loss: 1.314 |  Val. Acc: 55.86%\n"
          ]
        },
        {
          "output_type": "stream",
          "name": "stderr",
          "text": [
            "100%|██████████| 51/51 [00:00<00:00, 89.68it/s]\n"
          ]
        },
        {
          "output_type": "stream",
          "name": "stdout",
          "text": [
            "Epoch: 105/200 | Epoch Time: 0m 0s\n",
            "\tTrain Loss: 0.619 | Train Acc: 74.38%\n",
            "\t Val. Loss: 1.324 |  Val. Acc: 55.47%\n"
          ]
        },
        {
          "output_type": "stream",
          "name": "stderr",
          "text": [
            "100%|██████████| 51/51 [00:00<00:00, 89.87it/s] \n"
          ]
        },
        {
          "output_type": "stream",
          "name": "stdout",
          "text": [
            "Epoch: 106/200 | Epoch Time: 0m 0s\n",
            "\tTrain Loss: 0.616 | Train Acc: 74.31%\n",
            "\t Val. Loss: 1.326 |  Val. Acc: 53.91%\n"
          ]
        },
        {
          "output_type": "stream",
          "name": "stderr",
          "text": [
            "100%|██████████| 51/51 [00:00<00:00, 90.13it/s]\n"
          ]
        },
        {
          "output_type": "stream",
          "name": "stdout",
          "text": [
            "Epoch: 107/200 | Epoch Time: 0m 0s\n",
            "\tTrain Loss: 0.611 | Train Acc: 74.38%\n",
            "\t Val. Loss: 1.326 |  Val. Acc: 54.69%\n"
          ]
        },
        {
          "output_type": "stream",
          "name": "stderr",
          "text": [
            "100%|██████████| 51/51 [00:00<00:00, 90.53it/s] \n"
          ]
        },
        {
          "output_type": "stream",
          "name": "stdout",
          "text": [
            "Epoch: 108/200 | Epoch Time: 0m 0s\n",
            "\tTrain Loss: 0.612 | Train Acc: 73.03%\n",
            "\t Val. Loss: 1.330 |  Val. Acc: 54.69%\n"
          ]
        },
        {
          "output_type": "stream",
          "name": "stderr",
          "text": [
            "100%|██████████| 51/51 [00:00<00:00, 88.64it/s]\n"
          ]
        },
        {
          "output_type": "stream",
          "name": "stdout",
          "text": [
            "Epoch: 109/200 | Epoch Time: 0m 0s\n",
            "\tTrain Loss: 0.600 | Train Acc: 75.16%\n",
            "\t Val. Loss: 1.335 |  Val. Acc: 54.69%\n"
          ]
        },
        {
          "output_type": "stream",
          "name": "stderr",
          "text": [
            "100%|██████████| 51/51 [00:00<00:00, 90.95it/s]\n"
          ]
        },
        {
          "output_type": "stream",
          "name": "stdout",
          "text": [
            "Epoch: 110/200 | Epoch Time: 0m 0s\n",
            "\tTrain Loss: 0.597 | Train Acc: 74.62%\n",
            "\t Val. Loss: 1.339 |  Val. Acc: 54.69%\n"
          ]
        },
        {
          "output_type": "stream",
          "name": "stderr",
          "text": [
            "100%|██████████| 51/51 [00:00<00:00, 89.49it/s]\n"
          ]
        },
        {
          "output_type": "stream",
          "name": "stdout",
          "text": [
            "Epoch: 111/200 | Epoch Time: 0m 0s\n",
            "\tTrain Loss: 0.590 | Train Acc: 74.44%\n",
            "\t Val. Loss: 1.345 |  Val. Acc: 54.69%\n"
          ]
        },
        {
          "output_type": "stream",
          "name": "stderr",
          "text": [
            "100%|██████████| 51/51 [00:00<00:00, 84.68it/s]\n"
          ]
        },
        {
          "output_type": "stream",
          "name": "stdout",
          "text": [
            "Epoch: 112/200 | Epoch Time: 0m 0s\n",
            "\tTrain Loss: 0.585 | Train Acc: 75.11%\n",
            "\t Val. Loss: 1.359 |  Val. Acc: 54.69%\n"
          ]
        },
        {
          "output_type": "stream",
          "name": "stderr",
          "text": [
            "100%|██████████| 51/51 [00:00<00:00, 86.97it/s]\n"
          ]
        },
        {
          "output_type": "stream",
          "name": "stdout",
          "text": [
            "Epoch: 113/200 | Epoch Time: 0m 0s\n",
            "\tTrain Loss: 0.586 | Train Acc: 74.67%\n",
            "\t Val. Loss: 1.358 |  Val. Acc: 53.91%\n"
          ]
        },
        {
          "output_type": "stream",
          "name": "stderr",
          "text": [
            "100%|██████████| 51/51 [00:00<00:00, 85.71it/s]\n"
          ]
        },
        {
          "output_type": "stream",
          "name": "stdout",
          "text": [
            "Epoch: 114/200 | Epoch Time: 0m 0s\n",
            "\tTrain Loss: 0.575 | Train Acc: 75.85%\n",
            "\t Val. Loss: 1.355 |  Val. Acc: 51.95%\n"
          ]
        },
        {
          "output_type": "stream",
          "name": "stderr",
          "text": [
            "100%|██████████| 51/51 [00:00<00:00, 84.02it/s]\n"
          ]
        },
        {
          "output_type": "stream",
          "name": "stdout",
          "text": [
            "Epoch: 115/200 | Epoch Time: 0m 0s\n",
            "\tTrain Loss: 0.575 | Train Acc: 74.67%\n",
            "\t Val. Loss: 1.364 |  Val. Acc: 52.34%\n"
          ]
        },
        {
          "output_type": "stream",
          "name": "stderr",
          "text": [
            "100%|██████████| 51/51 [00:00<00:00, 89.55it/s]\n"
          ]
        },
        {
          "output_type": "stream",
          "name": "stdout",
          "text": [
            "Epoch: 116/200 | Epoch Time: 0m 0s\n",
            "\tTrain Loss: 0.569 | Train Acc: 76.21%\n",
            "\t Val. Loss: 1.381 |  Val. Acc: 53.12%\n"
          ]
        },
        {
          "output_type": "stream",
          "name": "stderr",
          "text": [
            "100%|██████████| 51/51 [00:00<00:00, 90.42it/s]\n"
          ]
        },
        {
          "output_type": "stream",
          "name": "stdout",
          "text": [
            "Epoch: 117/200 | Epoch Time: 0m 0s\n",
            "\tTrain Loss: 0.565 | Train Acc: 76.40%\n",
            "\t Val. Loss: 1.380 |  Val. Acc: 53.52%\n"
          ]
        },
        {
          "output_type": "stream",
          "name": "stderr",
          "text": [
            "100%|██████████| 51/51 [00:00<00:00, 89.62it/s]\n"
          ]
        },
        {
          "output_type": "stream",
          "name": "stdout",
          "text": [
            "Epoch: 118/200 | Epoch Time: 0m 0s\n",
            "\tTrain Loss: 0.558 | Train Acc: 76.83%\n",
            "\t Val. Loss: 1.385 |  Val. Acc: 53.12%\n"
          ]
        },
        {
          "output_type": "stream",
          "name": "stderr",
          "text": [
            "100%|██████████| 51/51 [00:00<00:00, 89.63it/s]\n"
          ]
        },
        {
          "output_type": "stream",
          "name": "stdout",
          "text": [
            "Epoch: 119/200 | Epoch Time: 0m 0s\n",
            "\tTrain Loss: 0.553 | Train Acc: 76.27%\n",
            "\t Val. Loss: 1.398 |  Val. Acc: 53.12%\n"
          ]
        },
        {
          "output_type": "stream",
          "name": "stderr",
          "text": [
            "100%|██████████| 51/51 [00:00<00:00, 90.16it/s]\n"
          ]
        },
        {
          "output_type": "stream",
          "name": "stdout",
          "text": [
            "Epoch: 120/200 | Epoch Time: 0m 0s\n",
            "\tTrain Loss: 0.554 | Train Acc: 76.64%\n",
            "\t Val. Loss: 1.400 |  Val. Acc: 51.56%\n"
          ]
        },
        {
          "output_type": "stream",
          "name": "stderr",
          "text": [
            "100%|██████████| 51/51 [00:00<00:00, 90.80it/s] \n"
          ]
        },
        {
          "output_type": "stream",
          "name": "stdout",
          "text": [
            "Epoch: 121/200 | Epoch Time: 0m 0s\n",
            "\tTrain Loss: 0.545 | Train Acc: 76.09%\n",
            "\t Val. Loss: 1.423 |  Val. Acc: 51.95%\n"
          ]
        },
        {
          "output_type": "stream",
          "name": "stderr",
          "text": [
            "100%|██████████| 51/51 [00:00<00:00, 89.80it/s]\n"
          ]
        },
        {
          "output_type": "stream",
          "name": "stdout",
          "text": [
            "Epoch: 122/200 | Epoch Time: 0m 0s\n",
            "\tTrain Loss: 0.538 | Train Acc: 76.46%\n",
            "\t Val. Loss: 1.413 |  Val. Acc: 53.12%\n"
          ]
        },
        {
          "output_type": "stream",
          "name": "stderr",
          "text": [
            "100%|██████████| 51/51 [00:00<00:00, 89.63it/s]\n"
          ]
        },
        {
          "output_type": "stream",
          "name": "stdout",
          "text": [
            "Epoch: 123/200 | Epoch Time: 0m 0s\n",
            "\tTrain Loss: 0.533 | Train Acc: 76.95%\n",
            "\t Val. Loss: 1.425 |  Val. Acc: 53.91%\n"
          ]
        },
        {
          "output_type": "stream",
          "name": "stderr",
          "text": [
            "100%|██████████| 51/51 [00:00<00:00, 89.14it/s]\n"
          ]
        },
        {
          "output_type": "stream",
          "name": "stdout",
          "text": [
            "Epoch: 124/200 | Epoch Time: 0m 0s\n",
            "\tTrain Loss: 0.532 | Train Acc: 76.89%\n",
            "\t Val. Loss: 1.434 |  Val. Acc: 53.91%\n"
          ]
        },
        {
          "output_type": "stream",
          "name": "stderr",
          "text": [
            "100%|██████████| 51/51 [00:00<00:00, 90.44it/s]\n"
          ]
        },
        {
          "output_type": "stream",
          "name": "stdout",
          "text": [
            "Epoch: 125/200 | Epoch Time: 0m 0s\n",
            "\tTrain Loss: 0.523 | Train Acc: 77.07%\n",
            "\t Val. Loss: 1.423 |  Val. Acc: 53.12%\n"
          ]
        },
        {
          "output_type": "stream",
          "name": "stderr",
          "text": [
            "100%|██████████| 51/51 [00:00<00:00, 89.30it/s]\n"
          ]
        },
        {
          "output_type": "stream",
          "name": "stdout",
          "text": [
            "Epoch: 126/200 | Epoch Time: 0m 0s\n",
            "\tTrain Loss: 0.519 | Train Acc: 76.90%\n",
            "\t Val. Loss: 1.433 |  Val. Acc: 53.52%\n"
          ]
        },
        {
          "output_type": "stream",
          "name": "stderr",
          "text": [
            "100%|██████████| 51/51 [00:00<00:00, 90.36it/s] \n"
          ]
        },
        {
          "output_type": "stream",
          "name": "stdout",
          "text": [
            "Epoch: 127/200 | Epoch Time: 0m 0s\n",
            "\tTrain Loss: 0.520 | Train Acc: 77.75%\n",
            "\t Val. Loss: 1.439 |  Val. Acc: 53.91%\n"
          ]
        },
        {
          "output_type": "stream",
          "name": "stderr",
          "text": [
            "100%|██████████| 51/51 [00:00<00:00, 88.97it/s]\n"
          ]
        },
        {
          "output_type": "stream",
          "name": "stdout",
          "text": [
            "Epoch: 128/200 | Epoch Time: 0m 0s\n",
            "\tTrain Loss: 0.520 | Train Acc: 76.58%\n",
            "\t Val. Loss: 1.453 |  Val. Acc: 53.52%\n"
          ]
        },
        {
          "output_type": "stream",
          "name": "stderr",
          "text": [
            "100%|██████████| 51/51 [00:00<00:00, 88.69it/s] \n"
          ]
        },
        {
          "output_type": "stream",
          "name": "stdout",
          "text": [
            "Epoch: 129/200 | Epoch Time: 0m 0s\n",
            "\tTrain Loss: 0.508 | Train Acc: 77.88%\n",
            "\t Val. Loss: 1.453 |  Val. Acc: 53.91%\n"
          ]
        },
        {
          "output_type": "stream",
          "name": "stderr",
          "text": [
            "100%|██████████| 51/51 [00:00<00:00, 89.93it/s]\n"
          ]
        },
        {
          "output_type": "stream",
          "name": "stdout",
          "text": [
            "Epoch: 130/200 | Epoch Time: 0m 0s\n",
            "\tTrain Loss: 0.512 | Train Acc: 77.70%\n",
            "\t Val. Loss: 1.456 |  Val. Acc: 53.91%\n"
          ]
        },
        {
          "output_type": "stream",
          "name": "stderr",
          "text": [
            "100%|██████████| 51/51 [00:00<00:00, 87.38it/s]\n"
          ]
        },
        {
          "output_type": "stream",
          "name": "stdout",
          "text": [
            "Epoch: 131/200 | Epoch Time: 0m 0s\n",
            "\tTrain Loss: 0.508 | Train Acc: 77.39%\n",
            "\t Val. Loss: 1.455 |  Val. Acc: 54.30%\n"
          ]
        },
        {
          "output_type": "stream",
          "name": "stderr",
          "text": [
            "100%|██████████| 51/51 [00:00<00:00, 85.07it/s]\n"
          ]
        },
        {
          "output_type": "stream",
          "name": "stdout",
          "text": [
            "Epoch: 132/200 | Epoch Time: 0m 0s\n",
            "\tTrain Loss: 0.497 | Train Acc: 77.39%\n",
            "\t Val. Loss: 1.468 |  Val. Acc: 52.99%\n"
          ]
        },
        {
          "output_type": "stream",
          "name": "stderr",
          "text": [
            "100%|██████████| 51/51 [00:00<00:00, 87.75it/s]\n"
          ]
        },
        {
          "output_type": "stream",
          "name": "stdout",
          "text": [
            "Epoch: 133/200 | Epoch Time: 0m 0s\n",
            "\tTrain Loss: 0.495 | Train Acc: 77.94%\n",
            "\t Val. Loss: 1.473 |  Val. Acc: 52.99%\n"
          ]
        },
        {
          "output_type": "stream",
          "name": "stderr",
          "text": [
            "100%|██████████| 51/51 [00:00<00:00, 85.48it/s]\n"
          ]
        },
        {
          "output_type": "stream",
          "name": "stdout",
          "text": [
            "Epoch: 134/200 | Epoch Time: 0m 0s\n",
            "\tTrain Loss: 0.490 | Train Acc: 77.56%\n",
            "\t Val. Loss: 1.481 |  Val. Acc: 52.99%\n"
          ]
        },
        {
          "output_type": "stream",
          "name": "stderr",
          "text": [
            "100%|██████████| 51/51 [00:00<00:00, 83.49it/s]\n"
          ]
        },
        {
          "output_type": "stream",
          "name": "stdout",
          "text": [
            "Epoch: 135/200 | Epoch Time: 0m 0s\n",
            "\tTrain Loss: 0.481 | Train Acc: 78.74%\n",
            "\t Val. Loss: 1.497 |  Val. Acc: 52.60%\n"
          ]
        },
        {
          "output_type": "stream",
          "name": "stderr",
          "text": [
            "100%|██████████| 51/51 [00:00<00:00, 89.06it/s]\n"
          ]
        },
        {
          "output_type": "stream",
          "name": "stdout",
          "text": [
            "Epoch: 136/200 | Epoch Time: 0m 0s\n",
            "\tTrain Loss: 0.480 | Train Acc: 78.98%\n",
            "\t Val. Loss: 1.502 |  Val. Acc: 53.39%\n"
          ]
        },
        {
          "output_type": "stream",
          "name": "stderr",
          "text": [
            "100%|██████████| 51/51 [00:00<00:00, 89.82it/s]\n"
          ]
        },
        {
          "output_type": "stream",
          "name": "stdout",
          "text": [
            "Epoch: 137/200 | Epoch Time: 0m 0s\n",
            "\tTrain Loss: 0.476 | Train Acc: 77.93%\n",
            "\t Val. Loss: 1.494 |  Val. Acc: 52.60%\n"
          ]
        },
        {
          "output_type": "stream",
          "name": "stderr",
          "text": [
            "100%|██████████| 51/51 [00:00<00:00, 55.98it/s]\n"
          ]
        },
        {
          "output_type": "stream",
          "name": "stdout",
          "text": [
            "Epoch: 138/200 | Epoch Time: 0m 0s\n",
            "\tTrain Loss: 0.473 | Train Acc: 78.86%\n",
            "\t Val. Loss: 1.490 |  Val. Acc: 52.21%\n"
          ]
        },
        {
          "output_type": "stream",
          "name": "stderr",
          "text": [
            "100%|██████████| 51/51 [00:00<00:00, 64.76it/s]\n"
          ]
        },
        {
          "output_type": "stream",
          "name": "stdout",
          "text": [
            "Epoch: 139/200 | Epoch Time: 0m 0s\n",
            "\tTrain Loss: 0.468 | Train Acc: 79.47%\n",
            "\t Val. Loss: 1.520 |  Val. Acc: 52.21%\n"
          ]
        },
        {
          "output_type": "stream",
          "name": "stderr",
          "text": [
            "100%|██████████| 51/51 [00:00<00:00, 74.98it/s]\n"
          ]
        },
        {
          "output_type": "stream",
          "name": "stdout",
          "text": [
            "Epoch: 140/200 | Epoch Time: 0m 0s\n",
            "\tTrain Loss: 0.466 | Train Acc: 79.95%\n",
            "\t Val. Loss: 1.521 |  Val. Acc: 51.43%\n"
          ]
        },
        {
          "output_type": "stream",
          "name": "stderr",
          "text": [
            "100%|██████████| 51/51 [00:00<00:00, 61.71it/s]\n"
          ]
        },
        {
          "output_type": "stream",
          "name": "stdout",
          "text": [
            "Epoch: 141/200 | Epoch Time: 0m 0s\n",
            "\tTrain Loss: 0.461 | Train Acc: 79.28%\n",
            "\t Val. Loss: 1.519 |  Val. Acc: 52.60%\n"
          ]
        },
        {
          "output_type": "stream",
          "name": "stderr",
          "text": [
            "100%|██████████| 51/51 [00:00<00:00, 89.04it/s]\n"
          ]
        },
        {
          "output_type": "stream",
          "name": "stdout",
          "text": [
            "Epoch: 142/200 | Epoch Time: 0m 0s\n",
            "\tTrain Loss: 0.458 | Train Acc: 79.90%\n",
            "\t Val. Loss: 1.527 |  Val. Acc: 52.21%\n"
          ]
        },
        {
          "output_type": "stream",
          "name": "stderr",
          "text": [
            "100%|██████████| 51/51 [00:00<00:00, 88.57it/s]\n"
          ]
        },
        {
          "output_type": "stream",
          "name": "stdout",
          "text": [
            "Epoch: 143/200 | Epoch Time: 0m 0s\n",
            "\tTrain Loss: 0.450 | Train Acc: 79.53%\n",
            "\t Val. Loss: 1.533 |  Val. Acc: 52.60%\n"
          ]
        },
        {
          "output_type": "stream",
          "name": "stderr",
          "text": [
            "100%|██████████| 51/51 [00:00<00:00, 88.47it/s]\n"
          ]
        },
        {
          "output_type": "stream",
          "name": "stdout",
          "text": [
            "Epoch: 144/200 | Epoch Time: 0m 0s\n",
            "\tTrain Loss: 0.446 | Train Acc: 81.00%\n",
            "\t Val. Loss: 1.541 |  Val. Acc: 52.21%\n"
          ]
        },
        {
          "output_type": "stream",
          "name": "stderr",
          "text": [
            "100%|██████████| 51/51 [00:00<00:00, 88.06it/s]\n"
          ]
        },
        {
          "output_type": "stream",
          "name": "stdout",
          "text": [
            "Epoch: 145/200 | Epoch Time: 0m 0s\n",
            "\tTrain Loss: 0.440 | Train Acc: 79.78%\n",
            "\t Val. Loss: 1.540 |  Val. Acc: 52.60%\n"
          ]
        },
        {
          "output_type": "stream",
          "name": "stderr",
          "text": [
            "100%|██████████| 51/51 [00:00<00:00, 86.73it/s]\n"
          ]
        },
        {
          "output_type": "stream",
          "name": "stdout",
          "text": [
            "Epoch: 146/200 | Epoch Time: 0m 0s\n",
            "\tTrain Loss: 0.440 | Train Acc: 81.43%\n",
            "\t Val. Loss: 1.545 |  Val. Acc: 52.60%\n"
          ]
        },
        {
          "output_type": "stream",
          "name": "stderr",
          "text": [
            "100%|██████████| 51/51 [00:00<00:00, 88.07it/s]\n"
          ]
        },
        {
          "output_type": "stream",
          "name": "stdout",
          "text": [
            "Epoch: 147/200 | Epoch Time: 0m 0s\n",
            "\tTrain Loss: 0.444 | Train Acc: 79.77%\n",
            "\t Val. Loss: 1.532 |  Val. Acc: 52.60%\n"
          ]
        },
        {
          "output_type": "stream",
          "name": "stderr",
          "text": [
            "100%|██████████| 51/51 [00:00<00:00, 89.23it/s]\n"
          ]
        },
        {
          "output_type": "stream",
          "name": "stdout",
          "text": [
            "Epoch: 148/200 | Epoch Time: 0m 0s\n",
            "\tTrain Loss: 0.434 | Train Acc: 81.13%\n",
            "\t Val. Loss: 1.558 |  Val. Acc: 52.99%\n"
          ]
        },
        {
          "output_type": "stream",
          "name": "stderr",
          "text": [
            "100%|██████████| 51/51 [00:00<00:00, 88.82it/s]\n"
          ]
        },
        {
          "output_type": "stream",
          "name": "stdout",
          "text": [
            "Epoch: 149/200 | Epoch Time: 0m 0s\n",
            "\tTrain Loss: 0.427 | Train Acc: 81.56%\n",
            "\t Val. Loss: 1.588 |  Val. Acc: 52.99%\n"
          ]
        },
        {
          "output_type": "stream",
          "name": "stderr",
          "text": [
            "100%|██████████| 51/51 [00:00<00:00, 84.60it/s]\n"
          ]
        },
        {
          "output_type": "stream",
          "name": "stdout",
          "text": [
            "Epoch: 150/200 | Epoch Time: 0m 0s\n",
            "\tTrain Loss: 0.430 | Train Acc: 80.94%\n",
            "\t Val. Loss: 1.568 |  Val. Acc: 53.39%\n"
          ]
        },
        {
          "output_type": "stream",
          "name": "stderr",
          "text": [
            "100%|██████████| 51/51 [00:00<00:00, 85.17it/s]\n"
          ]
        },
        {
          "output_type": "stream",
          "name": "stdout",
          "text": [
            "Epoch: 151/200 | Epoch Time: 0m 0s\n",
            "\tTrain Loss: 0.425 | Train Acc: 81.74%\n",
            "\t Val. Loss: 1.571 |  Val. Acc: 53.39%\n"
          ]
        },
        {
          "output_type": "stream",
          "name": "stderr",
          "text": [
            "100%|██████████| 51/51 [00:00<00:00, 83.67it/s]\n"
          ]
        },
        {
          "output_type": "stream",
          "name": "stdout",
          "text": [
            "Epoch: 152/200 | Epoch Time: 0m 0s\n",
            "\tTrain Loss: 0.415 | Train Acc: 81.56%\n",
            "\t Val. Loss: 1.568 |  Val. Acc: 53.39%\n"
          ]
        },
        {
          "output_type": "stream",
          "name": "stderr",
          "text": [
            "100%|██████████| 51/51 [00:00<00:00, 83.25it/s]\n"
          ]
        },
        {
          "output_type": "stream",
          "name": "stdout",
          "text": [
            "Epoch: 153/200 | Epoch Time: 0m 0s\n",
            "\tTrain Loss: 0.418 | Train Acc: 82.60%\n",
            "\t Val. Loss: 1.579 |  Val. Acc: 52.99%\n"
          ]
        },
        {
          "output_type": "stream",
          "name": "stderr",
          "text": [
            "100%|██████████| 51/51 [00:00<00:00, 88.86it/s]\n"
          ]
        },
        {
          "output_type": "stream",
          "name": "stdout",
          "text": [
            "Epoch: 154/200 | Epoch Time: 0m 0s\n",
            "\tTrain Loss: 0.412 | Train Acc: 82.17%\n",
            "\t Val. Loss: 1.591 |  Val. Acc: 53.39%\n"
          ]
        },
        {
          "output_type": "stream",
          "name": "stderr",
          "text": [
            "100%|██████████| 51/51 [00:00<00:00, 89.00it/s]\n"
          ]
        },
        {
          "output_type": "stream",
          "name": "stdout",
          "text": [
            "Epoch: 155/200 | Epoch Time: 0m 0s\n",
            "\tTrain Loss: 0.409 | Train Acc: 82.66%\n",
            "\t Val. Loss: 1.597 |  Val. Acc: 53.39%\n"
          ]
        },
        {
          "output_type": "stream",
          "name": "stderr",
          "text": [
            "100%|██████████| 51/51 [00:00<00:00, 88.81it/s]\n"
          ]
        },
        {
          "output_type": "stream",
          "name": "stdout",
          "text": [
            "Epoch: 156/200 | Epoch Time: 0m 0s\n",
            "\tTrain Loss: 0.409 | Train Acc: 81.80%\n",
            "\t Val. Loss: 1.600 |  Val. Acc: 52.60%\n"
          ]
        },
        {
          "output_type": "stream",
          "name": "stderr",
          "text": [
            "100%|██████████| 51/51 [00:00<00:00, 87.50it/s]\n"
          ]
        },
        {
          "output_type": "stream",
          "name": "stdout",
          "text": [
            "Epoch: 157/200 | Epoch Time: 0m 0s\n",
            "\tTrain Loss: 0.397 | Train Acc: 82.29%\n",
            "\t Val. Loss: 1.606 |  Val. Acc: 52.60%\n"
          ]
        },
        {
          "output_type": "stream",
          "name": "stderr",
          "text": [
            "100%|██████████| 51/51 [00:00<00:00, 87.74it/s]\n"
          ]
        },
        {
          "output_type": "stream",
          "name": "stdout",
          "text": [
            "Epoch: 158/200 | Epoch Time: 0m 0s\n",
            "\tTrain Loss: 0.396 | Train Acc: 83.09%\n",
            "\t Val. Loss: 1.634 |  Val. Acc: 51.82%\n"
          ]
        },
        {
          "output_type": "stream",
          "name": "stderr",
          "text": [
            "100%|██████████| 51/51 [00:00<00:00, 87.90it/s]\n"
          ]
        },
        {
          "output_type": "stream",
          "name": "stdout",
          "text": [
            "Epoch: 159/200 | Epoch Time: 0m 0s\n",
            "\tTrain Loss: 0.391 | Train Acc: 82.78%\n",
            "\t Val. Loss: 1.633 |  Val. Acc: 52.21%\n"
          ]
        },
        {
          "output_type": "stream",
          "name": "stderr",
          "text": [
            "100%|██████████| 51/51 [00:00<00:00, 87.57it/s]\n"
          ]
        },
        {
          "output_type": "stream",
          "name": "stdout",
          "text": [
            "Epoch: 160/200 | Epoch Time: 0m 0s\n",
            "\tTrain Loss: 0.389 | Train Acc: 83.64%\n",
            "\t Val. Loss: 1.633 |  Val. Acc: 51.82%\n"
          ]
        },
        {
          "output_type": "stream",
          "name": "stderr",
          "text": [
            "100%|██████████| 51/51 [00:00<00:00, 87.80it/s]\n"
          ]
        },
        {
          "output_type": "stream",
          "name": "stdout",
          "text": [
            "Epoch: 161/200 | Epoch Time: 0m 0s\n",
            "\tTrain Loss: 0.388 | Train Acc: 83.76%\n",
            "\t Val. Loss: 1.621 |  Val. Acc: 52.21%\n"
          ]
        },
        {
          "output_type": "stream",
          "name": "stderr",
          "text": [
            "100%|██████████| 51/51 [00:00<00:00, 88.08it/s]\n"
          ]
        },
        {
          "output_type": "stream",
          "name": "stdout",
          "text": [
            "Epoch: 162/200 | Epoch Time: 0m 0s\n",
            "\tTrain Loss: 0.384 | Train Acc: 83.03%\n",
            "\t Val. Loss: 1.636 |  Val. Acc: 51.43%\n"
          ]
        },
        {
          "output_type": "stream",
          "name": "stderr",
          "text": [
            "100%|██████████| 51/51 [00:00<00:00, 88.26it/s] \n"
          ]
        },
        {
          "output_type": "stream",
          "name": "stdout",
          "text": [
            "Epoch: 163/200 | Epoch Time: 0m 0s\n",
            "\tTrain Loss: 0.380 | Train Acc: 82.35%\n",
            "\t Val. Loss: 1.644 |  Val. Acc: 52.21%\n"
          ]
        },
        {
          "output_type": "stream",
          "name": "stderr",
          "text": [
            "100%|██████████| 51/51 [00:00<00:00, 87.69it/s]\n"
          ]
        },
        {
          "output_type": "stream",
          "name": "stdout",
          "text": [
            "Epoch: 164/200 | Epoch Time: 0m 0s\n",
            "\tTrain Loss: 0.376 | Train Acc: 83.39%\n",
            "\t Val. Loss: 1.655 |  Val. Acc: 52.60%\n"
          ]
        },
        {
          "output_type": "stream",
          "name": "stderr",
          "text": [
            "100%|██████████| 51/51 [00:00<00:00, 87.62it/s]\n"
          ]
        },
        {
          "output_type": "stream",
          "name": "stdout",
          "text": [
            "Epoch: 165/200 | Epoch Time: 0m 0s\n",
            "\tTrain Loss: 0.369 | Train Acc: 84.44%\n",
            "\t Val. Loss: 1.657 |  Val. Acc: 51.82%\n"
          ]
        },
        {
          "output_type": "stream",
          "name": "stderr",
          "text": [
            "100%|██████████| 51/51 [00:00<00:00, 87.56it/s]\n"
          ]
        },
        {
          "output_type": "stream",
          "name": "stdout",
          "text": [
            "Epoch: 166/200 | Epoch Time: 0m 0s\n",
            "\tTrain Loss: 0.374 | Train Acc: 83.58%\n",
            "\t Val. Loss: 1.645 |  Val. Acc: 52.60%\n"
          ]
        },
        {
          "output_type": "stream",
          "name": "stderr",
          "text": [
            "100%|██████████| 51/51 [00:00<00:00, 87.67it/s]\n"
          ]
        },
        {
          "output_type": "stream",
          "name": "stdout",
          "text": [
            "Epoch: 167/200 | Epoch Time: 0m 0s\n",
            "\tTrain Loss: 0.367 | Train Acc: 83.70%\n",
            "\t Val. Loss: 1.654 |  Val. Acc: 52.21%\n"
          ]
        },
        {
          "output_type": "stream",
          "name": "stderr",
          "text": [
            "100%|██████████| 51/51 [00:00<00:00, 87.88it/s]\n"
          ]
        },
        {
          "output_type": "stream",
          "name": "stdout",
          "text": [
            "Epoch: 168/200 | Epoch Time: 0m 0s\n",
            "\tTrain Loss: 0.364 | Train Acc: 84.19%\n",
            "\t Val. Loss: 1.669 |  Val. Acc: 52.99%\n"
          ]
        },
        {
          "output_type": "stream",
          "name": "stderr",
          "text": [
            "100%|██████████| 51/51 [00:00<00:00, 85.78it/s]\n"
          ]
        },
        {
          "output_type": "stream",
          "name": "stdout",
          "text": [
            "Epoch: 169/200 | Epoch Time: 0m 0s\n",
            "\tTrain Loss: 0.363 | Train Acc: 84.56%\n",
            "\t Val. Loss: 1.686 |  Val. Acc: 52.60%\n"
          ]
        },
        {
          "output_type": "stream",
          "name": "stderr",
          "text": [
            "100%|██████████| 51/51 [00:00<00:00, 83.39it/s]\n"
          ]
        },
        {
          "output_type": "stream",
          "name": "stdout",
          "text": [
            "Epoch: 170/200 | Epoch Time: 0m 0s\n",
            "\tTrain Loss: 0.357 | Train Acc: 84.74%\n",
            "\t Val. Loss: 1.683 |  Val. Acc: 52.99%\n"
          ]
        },
        {
          "output_type": "stream",
          "name": "stderr",
          "text": [
            "100%|██████████| 51/51 [00:00<00:00, 82.44it/s]\n"
          ]
        },
        {
          "output_type": "stream",
          "name": "stdout",
          "text": [
            "Epoch: 171/200 | Epoch Time: 0m 0s\n",
            "\tTrain Loss: 0.350 | Train Acc: 84.93%\n",
            "\t Val. Loss: 1.690 |  Val. Acc: 53.39%\n"
          ]
        },
        {
          "output_type": "stream",
          "name": "stderr",
          "text": [
            "100%|██████████| 51/51 [00:00<00:00, 80.76it/s]\n"
          ]
        },
        {
          "output_type": "stream",
          "name": "stdout",
          "text": [
            "Epoch: 172/200 | Epoch Time: 0m 0s\n",
            "\tTrain Loss: 0.347 | Train Acc: 84.87%\n",
            "\t Val. Loss: 1.692 |  Val. Acc: 52.99%\n"
          ]
        },
        {
          "output_type": "stream",
          "name": "stderr",
          "text": [
            "100%|██████████| 51/51 [00:00<00:00, 84.47it/s]\n"
          ]
        },
        {
          "output_type": "stream",
          "name": "stdout",
          "text": [
            "Epoch: 173/200 | Epoch Time: 0m 0s\n",
            "\tTrain Loss: 0.348 | Train Acc: 85.42%\n",
            "\t Val. Loss: 1.686 |  Val. Acc: 52.60%\n"
          ]
        },
        {
          "output_type": "stream",
          "name": "stderr",
          "text": [
            "100%|██████████| 51/51 [00:00<00:00, 86.63it/s]\n"
          ]
        },
        {
          "output_type": "stream",
          "name": "stdout",
          "text": [
            "Epoch: 174/200 | Epoch Time: 0m 0s\n",
            "\tTrain Loss: 0.343 | Train Acc: 84.99%\n",
            "\t Val. Loss: 1.718 |  Val. Acc: 52.60%\n"
          ]
        },
        {
          "output_type": "stream",
          "name": "stderr",
          "text": [
            "100%|██████████| 51/51 [00:00<00:00, 87.00it/s]\n"
          ]
        },
        {
          "output_type": "stream",
          "name": "stdout",
          "text": [
            "Epoch: 175/200 | Epoch Time: 0m 0s\n",
            "\tTrain Loss: 0.343 | Train Acc: 85.17%\n",
            "\t Val. Loss: 1.722 |  Val. Acc: 52.99%\n"
          ]
        },
        {
          "output_type": "stream",
          "name": "stderr",
          "text": [
            "100%|██████████| 51/51 [00:00<00:00, 87.59it/s]\n"
          ]
        },
        {
          "output_type": "stream",
          "name": "stdout",
          "text": [
            "Epoch: 176/200 | Epoch Time: 0m 0s\n",
            "\tTrain Loss: 0.336 | Train Acc: 85.42%\n",
            "\t Val. Loss: 1.723 |  Val. Acc: 52.60%\n"
          ]
        },
        {
          "output_type": "stream",
          "name": "stderr",
          "text": [
            "100%|██████████| 51/51 [00:00<00:00, 87.97it/s]\n"
          ]
        },
        {
          "output_type": "stream",
          "name": "stdout",
          "text": [
            "Epoch: 177/200 | Epoch Time: 0m 0s\n",
            "\tTrain Loss: 0.336 | Train Acc: 85.29%\n",
            "\t Val. Loss: 1.736 |  Val. Acc: 53.39%\n"
          ]
        },
        {
          "output_type": "stream",
          "name": "stderr",
          "text": [
            "100%|██████████| 51/51 [00:00<00:00, 88.78it/s]\n"
          ]
        },
        {
          "output_type": "stream",
          "name": "stdout",
          "text": [
            "Epoch: 178/200 | Epoch Time: 0m 0s\n",
            "\tTrain Loss: 0.335 | Train Acc: 85.48%\n",
            "\t Val. Loss: 1.743 |  Val. Acc: 52.21%\n"
          ]
        },
        {
          "output_type": "stream",
          "name": "stderr",
          "text": [
            "100%|██████████| 51/51 [00:00<00:00, 88.63it/s]\n"
          ]
        },
        {
          "output_type": "stream",
          "name": "stdout",
          "text": [
            "Epoch: 179/200 | Epoch Time: 0m 0s\n",
            "\tTrain Loss: 0.329 | Train Acc: 86.58%\n",
            "\t Val. Loss: 1.757 |  Val. Acc: 51.43%\n"
          ]
        },
        {
          "output_type": "stream",
          "name": "stderr",
          "text": [
            "100%|██████████| 51/51 [00:00<00:00, 87.94it/s]\n"
          ]
        },
        {
          "output_type": "stream",
          "name": "stdout",
          "text": [
            "Epoch: 180/200 | Epoch Time: 0m 0s\n",
            "\tTrain Loss: 0.328 | Train Acc: 86.27%\n",
            "\t Val. Loss: 1.698 |  Val. Acc: 52.60%\n"
          ]
        },
        {
          "output_type": "stream",
          "name": "stderr",
          "text": [
            "100%|██████████| 51/51 [00:00<00:00, 86.87it/s]\n"
          ]
        },
        {
          "output_type": "stream",
          "name": "stdout",
          "text": [
            "Epoch: 181/200 | Epoch Time: 0m 0s\n",
            "\tTrain Loss: 0.317 | Train Acc: 86.52%\n",
            "\t Val. Loss: 1.773 |  Val. Acc: 51.82%\n"
          ]
        },
        {
          "output_type": "stream",
          "name": "stderr",
          "text": [
            "100%|██████████| 51/51 [00:00<00:00, 88.13it/s]\n"
          ]
        },
        {
          "output_type": "stream",
          "name": "stdout",
          "text": [
            "Epoch: 182/200 | Epoch Time: 0m 0s\n",
            "\tTrain Loss: 0.320 | Train Acc: 87.07%\n",
            "\t Val. Loss: 1.756 |  Val. Acc: 53.39%\n"
          ]
        },
        {
          "output_type": "stream",
          "name": "stderr",
          "text": [
            "100%|██████████| 51/51 [00:00<00:00, 88.71it/s]\n"
          ]
        },
        {
          "output_type": "stream",
          "name": "stdout",
          "text": [
            "Epoch: 183/200 | Epoch Time: 0m 0s\n",
            "\tTrain Loss: 0.318 | Train Acc: 86.83%\n",
            "\t Val. Loss: 1.759 |  Val. Acc: 53.39%\n"
          ]
        },
        {
          "output_type": "stream",
          "name": "stderr",
          "text": [
            "100%|██████████| 51/51 [00:00<00:00, 86.91it/s]\n"
          ]
        },
        {
          "output_type": "stream",
          "name": "stdout",
          "text": [
            "Epoch: 184/200 | Epoch Time: 0m 0s\n",
            "\tTrain Loss: 0.312 | Train Acc: 86.64%\n",
            "\t Val. Loss: 1.752 |  Val. Acc: 52.60%\n"
          ]
        },
        {
          "output_type": "stream",
          "name": "stderr",
          "text": [
            "100%|██████████| 51/51 [00:00<00:00, 89.26it/s]\n"
          ]
        },
        {
          "output_type": "stream",
          "name": "stdout",
          "text": [
            "Epoch: 185/200 | Epoch Time: 0m 0s\n",
            "\tTrain Loss: 0.312 | Train Acc: 87.13%\n",
            "\t Val. Loss: 1.779 |  Val. Acc: 53.39%\n"
          ]
        },
        {
          "output_type": "stream",
          "name": "stderr",
          "text": [
            "100%|██████████| 51/51 [00:00<00:00, 87.35it/s]\n"
          ]
        },
        {
          "output_type": "stream",
          "name": "stdout",
          "text": [
            "Epoch: 186/200 | Epoch Time: 0m 0s\n",
            "\tTrain Loss: 0.309 | Train Acc: 87.07%\n",
            "\t Val. Loss: 1.721 |  Val. Acc: 54.95%\n"
          ]
        },
        {
          "output_type": "stream",
          "name": "stderr",
          "text": [
            "100%|██████████| 51/51 [00:00<00:00, 84.13it/s]\n"
          ]
        },
        {
          "output_type": "stream",
          "name": "stdout",
          "text": [
            "Epoch: 187/200 | Epoch Time: 0m 0s\n",
            "\tTrain Loss: 0.308 | Train Acc: 87.50%\n",
            "\t Val. Loss: 1.785 |  Val. Acc: 52.21%\n"
          ]
        },
        {
          "output_type": "stream",
          "name": "stderr",
          "text": [
            "100%|██████████| 51/51 [00:00<00:00, 59.73it/s]\n"
          ]
        },
        {
          "output_type": "stream",
          "name": "stdout",
          "text": [
            "Epoch: 188/200 | Epoch Time: 0m 0s\n",
            "\tTrain Loss: 0.301 | Train Acc: 87.81%\n",
            "\t Val. Loss: 1.798 |  Val. Acc: 52.21%\n"
          ]
        },
        {
          "output_type": "stream",
          "name": "stderr",
          "text": [
            "100%|██████████| 51/51 [00:00<00:00, 84.42it/s]\n"
          ]
        },
        {
          "output_type": "stream",
          "name": "stdout",
          "text": [
            "Epoch: 189/200 | Epoch Time: 0m 0s\n",
            "\tTrain Loss: 0.300 | Train Acc: 86.70%\n",
            "\t Val. Loss: 1.773 |  Val. Acc: 53.39%\n"
          ]
        },
        {
          "output_type": "stream",
          "name": "stderr",
          "text": [
            "100%|██████████| 51/51 [00:00<00:00, 84.66it/s]\n"
          ]
        },
        {
          "output_type": "stream",
          "name": "stdout",
          "text": [
            "Epoch: 190/200 | Epoch Time: 0m 0s\n",
            "\tTrain Loss: 0.297 | Train Acc: 87.68%\n",
            "\t Val. Loss: 1.797 |  Val. Acc: 52.99%\n"
          ]
        },
        {
          "output_type": "stream",
          "name": "stderr",
          "text": [
            "100%|██████████| 51/51 [00:00<00:00, 82.19it/s]\n"
          ]
        },
        {
          "output_type": "stream",
          "name": "stdout",
          "text": [
            "Epoch: 191/200 | Epoch Time: 0m 0s\n",
            "\tTrain Loss: 0.295 | Train Acc: 87.62%\n",
            "\t Val. Loss: 1.812 |  Val. Acc: 52.99%\n"
          ]
        },
        {
          "output_type": "stream",
          "name": "stderr",
          "text": [
            "100%|██████████| 51/51 [00:00<00:00, 86.40it/s]\n"
          ]
        },
        {
          "output_type": "stream",
          "name": "stdout",
          "text": [
            "Epoch: 192/200 | Epoch Time: 0m 0s\n",
            "\tTrain Loss: 0.289 | Train Acc: 88.36%\n",
            "\t Val. Loss: 1.819 |  Val. Acc: 53.39%\n"
          ]
        },
        {
          "output_type": "stream",
          "name": "stderr",
          "text": [
            "100%|██████████| 51/51 [00:00<00:00, 88.63it/s]\n"
          ]
        },
        {
          "output_type": "stream",
          "name": "stdout",
          "text": [
            "Epoch: 193/200 | Epoch Time: 0m 0s\n",
            "\tTrain Loss: 0.289 | Train Acc: 88.30%\n",
            "\t Val. Loss: 1.830 |  Val. Acc: 53.39%\n"
          ]
        },
        {
          "output_type": "stream",
          "name": "stderr",
          "text": [
            "100%|██████████| 51/51 [00:00<00:00, 89.29it/s]\n"
          ]
        },
        {
          "output_type": "stream",
          "name": "stdout",
          "text": [
            "Epoch: 194/200 | Epoch Time: 0m 0s\n",
            "\tTrain Loss: 0.290 | Train Acc: 87.56%\n",
            "\t Val. Loss: 1.863 |  Val. Acc: 52.99%\n"
          ]
        },
        {
          "output_type": "stream",
          "name": "stderr",
          "text": [
            "100%|██████████| 51/51 [00:00<00:00, 88.68it/s]\n"
          ]
        },
        {
          "output_type": "stream",
          "name": "stdout",
          "text": [
            "Epoch: 195/200 | Epoch Time: 0m 0s\n",
            "\tTrain Loss: 0.284 | Train Acc: 88.11%\n",
            "\t Val. Loss: 1.826 |  Val. Acc: 53.39%\n"
          ]
        },
        {
          "output_type": "stream",
          "name": "stderr",
          "text": [
            "100%|██████████| 51/51 [00:00<00:00, 88.97it/s]\n"
          ]
        },
        {
          "output_type": "stream",
          "name": "stdout",
          "text": [
            "Epoch: 196/200 | Epoch Time: 0m 0s\n",
            "\tTrain Loss: 0.283 | Train Acc: 87.93%\n",
            "\t Val. Loss: 1.836 |  Val. Acc: 53.78%\n"
          ]
        },
        {
          "output_type": "stream",
          "name": "stderr",
          "text": [
            "100%|██████████| 51/51 [00:00<00:00, 87.25it/s] \n"
          ]
        },
        {
          "output_type": "stream",
          "name": "stdout",
          "text": [
            "Epoch: 197/200 | Epoch Time: 0m 0s\n",
            "\tTrain Loss: 0.277 | Train Acc: 88.66%\n",
            "\t Val. Loss: 1.863 |  Val. Acc: 53.78%\n"
          ]
        },
        {
          "output_type": "stream",
          "name": "stderr",
          "text": [
            "100%|██████████| 51/51 [00:00<00:00, 89.18it/s]\n"
          ]
        },
        {
          "output_type": "stream",
          "name": "stdout",
          "text": [
            "Epoch: 198/200 | Epoch Time: 0m 0s\n",
            "\tTrain Loss: 0.278 | Train Acc: 88.60%\n",
            "\t Val. Loss: 1.857 |  Val. Acc: 53.39%\n"
          ]
        },
        {
          "output_type": "stream",
          "name": "stderr",
          "text": [
            "100%|██████████| 51/51 [00:00<00:00, 88.87it/s] \n"
          ]
        },
        {
          "output_type": "stream",
          "name": "stdout",
          "text": [
            "Epoch: 199/200 | Epoch Time: 0m 0s\n",
            "\tTrain Loss: 0.270 | Train Acc: 89.34%\n",
            "\t Val. Loss: 1.854 |  Val. Acc: 54.56%\n"
          ]
        },
        {
          "output_type": "stream",
          "name": "stderr",
          "text": [
            "100%|██████████| 51/51 [00:00<00:00, 88.41it/s]\n"
          ]
        },
        {
          "output_type": "stream",
          "name": "stdout",
          "text": [
            "Epoch: 200/200 | Epoch Time: 0m 0s\n",
            "\tTrain Loss: 0.269 | Train Acc: 88.97%\n",
            "\t Val. Loss: 1.866 |  Val. Acc: 54.17%\n"
          ]
        }
      ],
      "source": [
        "from sklearn.metrics import confusion_matrix\n",
        "import seaborn as sns\n",
        "import matplotlib.pyplot as plt\n",
        "import pandas as pd # Import pandas for data loading\n",
        "from sklearn.preprocessing import LabelEncoder\n",
        "\n",
        "encoder = LabelEncoder()\n",
        "# Fit the encoder on your labels\n",
        "encoder.fit(df['label']) # assuming 'df' is your DataFrame containing the original labels\n",
        "\n",
        "train_losses = []\n",
        "valid_losses = []\n",
        "train_accs = []\n",
        "valid_accs = []\n",
        "\n",
        "all_y_true = []\n",
        "all_y_pred = []\n",
        "\n",
        "train_iter, valid_iter, test_iter = load_data()\n",
        "\n",
        "optimizer = optim.Adam(model.parameters(),lr=0.000005)\n",
        "class_weights_tensor = torch.tensor(list(class_weight_dict.values()), dtype=torch.float).to(device)\n",
        "criterion = nn.CrossEntropyLoss(weight=class_weights_tensor)\n",
        "\n",
        "# criterion = nn.CrossEntropyLoss().to(device)\n",
        "model = model.to(device)\n",
        "# model.apply(reset_weights)\n",
        "\n",
        "best_valid_loss = float('inf')\n",
        "\n",
        "train_data = train\n",
        "\n",
        "for epoch in range(N_EPOCHS):\n",
        "  # start time\n",
        "  start_time = time.time()\n",
        "  # train for an epoch\n",
        "  # train_loss, train_acc = train(model, train_iter, optimizer, criterion)\n",
        "  # valid_loss, valid_acc, _, _ = evaluate(model, valid_iter, criterion)\n",
        "\n",
        "  train_loss, train_acc = train(model, train_iter, optimizer, criterion)\n",
        "  valid_loss, valid_acc, y_true, y_pred = evaluate(model, valid_iter, criterion, encoder)\n",
        "\n",
        "  all_y_true.extend(y_true)\n",
        "  all_y_pred.extend(y_pred)\n",
        "\n",
        "  # end time\n",
        "  end_time = time.time()\n",
        "  # stats\n",
        "  epoch_mins, epoch_secs = epoch_time(start_time, end_time)\n",
        "  # เก็บข้อมูลการสูญเสียและความแม่นยำ\n",
        "  train_losses.append(train_loss)\n",
        "  valid_losses.append(valid_loss)\n",
        "  train_accs.append(train_acc)\n",
        "  valid_accs.append(valid_acc)\n",
        "  # save model if has validation loss\n",
        "  # better than last one\n",
        "  if valid_loss < best_valid_loss:\n",
        "    best_valid_loss = valid_loss\n",
        "    torch.save(model.state_dict(), 'sentiment_model_gru.pt')\n",
        "    print(f\"Best model saved at epoch {epoch} with validation loss: {valid_loss:.4f}\")\n",
        "  # stats\n",
        "  print(f'Epoch: {epoch+1:02}/{N_EPOCHS} | Epoch Time: {epoch_mins}m {epoch_secs}s')\n",
        "  print(f'\\tTrain Loss: {train_loss:.3f} | Train Acc: {train_acc*100:.2f}%')\n",
        "  print(f'\\t Val. Loss: {valid_loss:.3f} |  Val. Acc: {valid_acc*100:.2f}%')\n"
      ]
    },
    {
      "cell_type": "code",
      "execution_count": null,
      "metadata": {
        "colab": {
          "base_uri": "https://localhost:8080/"
        },
        "id": "fsNm7Z3bSiQ-",
        "outputId": "09c95787-0797-4450-beb2-1d4d2e50ed03"
      },
      "outputs": [
        {
          "output_type": "execute_result",
          "data": {
            "text/plain": [
              "array([1, 1, 0, ..., 2, 0, 2])"
            ]
          },
          "metadata": {},
          "execution_count": 40
        }
      ],
      "source": [
        "train_labels"
      ]
    },
    {
      "cell_type": "code",
      "execution_count": null,
      "metadata": {
        "colab": {
          "base_uri": "https://localhost:8080/"
        },
        "id": "FzLV1D2YuLdm",
        "outputId": "7e14c636-ea82-4578-b5f8-1fa69137b951"
      },
      "outputs": [
        {
          "output_type": "execute_result",
          "data": {
            "text/plain": [
              "SentimentModel(\n",
              "  (embedding): Embedding(4483, 128, padding_idx=0)\n",
              "  (gru): GRU(128, 512, num_layers=2, batch_first=True, dropout=0.25, bidirectional=True)\n",
              "  (out): Linear(in_features=1024, out_features=6, bias=True)\n",
              "  (dropout): Dropout(p=0.25, inplace=False)\n",
              ")"
            ]
          },
          "metadata": {},
          "execution_count": 41
        }
      ],
      "source": [
        "model.load_state_dict(torch.load('sentiment_model_gru.pt', map_location=device))\n",
        "model.eval() #ต้องเรียก .eval() เมื่อต้องการทดสอบโมเดลเพื่อไม่ให้เอาข้อมูลเราทดสอบไปเทรน"
      ]
    },
    {
      "cell_type": "code",
      "source": [
        "for name, layer in model.named_modules(): # วนลูปผ่าน layer ทั้งหมดในโมเดล\n",
        "    if isinstance(layer, torch.nn.GRU): # ตรวจสอบว่า layer เป็น GRU หรือไม่\n",
        "        print(name, layer) # ปริ้นชื่อ layer และรายละเอียดของ layer"
      ],
      "metadata": {
        "colab": {
          "base_uri": "https://localhost:8080/"
        },
        "id": "q3pnSmUSxQAB",
        "outputId": "09f53295-2c51-4023-f87b-76796aebd524"
      },
      "execution_count": null,
      "outputs": [
        {
          "output_type": "stream",
          "name": "stdout",
          "text": [
            "gru GRU(128, 512, num_layers=2, batch_first=True, dropout=0.25, bidirectional=True)\n"
          ]
        }
      ]
    },
    {
      "cell_type": "code",
      "execution_count": null,
      "metadata": {
        "id": "DoGnqXwOvd0k"
      },
      "outputs": [],
      "source": [
        "import torch\n",
        "\n",
        "def predict_sentiment(model, TEXT):\n",
        "    \"\"\"Predicts the sentiment of a given text using the provided model.\n",
        "\n",
        "    Args:\n",
        "        model: The trained sentiment analysis model.\n",
        "        TEXT: The input text for sentiment prediction.\n",
        "\n",
        "    Returns:\n",
        "        A PyTorch tensor containing the predicted sentiment probabilities.\n",
        "    \"\"\"\n",
        "\n",
        "    model.eval()  # Set the model to evaluation mode\n",
        "\n",
        "    # Preprocess the text\n",
        "    tokens = TEXT.split(\" \")  # Tokenize using space as delimiter\n",
        "    tokens = tokens[:max_input_len - 2]  # Crop to max length\n",
        "    ids = convert_tokens_to_ids(tokens)  # Convert tokens to IDs\n",
        "    tensor_input = torch.LongTensor([ids]).to(device)  # Convert to tensor\n",
        "\n",
        "    # Make prediction\n",
        "    with torch.no_grad():\n",
        "        output = model(tensor_input)\n",
        "\n",
        "    return output"
      ]
    },
    {
      "cell_type": "code",
      "execution_count": null,
      "metadata": {
        "colab": {
          "base_uri": "https://localhost:8080/"
        },
        "id": "uK9pcJEvwVbg",
        "outputId": "dae4bdd5-4277-4e41-dfb6-78d309e2e55b"
      },
      "outputs": [
        {
          "output_type": "stream",
          "name": "stdout",
          "text": [
            "tensor([[-0.3470,  0.8363,  0.2527, -0.3383, -0.0666, -0.2682]],\n",
            "       device='cuda:0')\n",
            "Predicted Class Index: 1\n",
            "Predicted Class Label: คำทั่วไปทางการชม\n"
          ]
        }
      ],
      "source": [
        "TEXT = \"หัวควยจริงๆ ไอ้กระโหลก\"\n",
        "sentiment = predict_sentiment(model, TEXT)  # Call predict_sentiment\n",
        "print(sentiment)\n",
        "predicted_class_index = torch.argmax(sentiment).item()  # Get the predicted class index\n",
        "print(\"Predicted Class Index:\", predicted_class_index)\n",
        "# assuming you have an encoder for mapping index to labels\n",
        "with open('idx2lab.json', 'r') as f: # load the mapping from json file you saved\n",
        "    idx2lab = json.load(f)\n",
        "predicted_class_label = idx2lab[str(predicted_class_index)]  # Use encoder to get label\n",
        "print(\"Predicted Class Label:\", predicted_class_label)"
      ]
    },
    {
      "cell_type": "code",
      "execution_count": null,
      "metadata": {
        "colab": {
          "base_uri": "https://localhost:8080/"
        },
        "id": "znHp98MHDwzd",
        "outputId": "94c08704-86de-451a-d6e4-91147168896e"
      },
      "outputs": [
        {
          "output_type": "stream",
          "name": "stdout",
          "text": [
            "              precision    recall  f1-score   support\n",
            "\n",
            "    Positive       0.49      0.15      0.23       117\n",
            "     Neutral       0.45      0.61      0.51       107\n",
            "    Negative       0.49      0.63      0.55       101\n",
            "Body shaming       0.40      0.41      0.40        49\n",
            "    Classism       0.54      0.63      0.58        46\n",
            "      Sexism       0.69      0.72      0.71        40\n",
            "\n",
            "    accuracy                           0.49       460\n",
            "   macro avg       0.51      0.53      0.50       460\n",
            "weighted avg       0.49      0.49      0.46       460\n",
            "\n"
          ]
        }
      ],
      "source": [
        "import torch\n",
        "from sklearn.metrics import classification_report  # Import classification_report\n",
        "\n",
        "# ... (your existing code) ...\n",
        "\n",
        "model.load_state_dict(torch.load('sentiment_model_gru.pt', map_location=device))\n",
        "model.eval()  # ต้องเรียก .eval() เมื่อต้องการทดสอบโมเดลเพื่อไม่ให้เอาข้อมูลเราทดสอบไปเทรน\n",
        "\n",
        "\n",
        "# Assuming test_iter is your test data iterator\n",
        "_, _, y_true_test, y_pred_test = evaluate(model, test_iter, criterion, encoder) # Get true and predicted labels for test set\n",
        "\n",
        "\n",
        "\n",
        "target_names = ['Positive','Neutral','Negative', 'Body shaming', 'Classism', 'Sexism']\n",
        "report = classification_report(y_true_test, y_pred_test, target_names=target_names)  # Use y_true_test and y_pred_test\n",
        "print(report)"
      ]
    },
    {
      "cell_type": "code",
      "execution_count": null,
      "metadata": {
        "colab": {
          "base_uri": "https://localhost:8080/",
          "height": 715
        },
        "id": "5T0vbY72rM-z",
        "outputId": "2d8d6da6-c6b5-40a1-bacb-c9269b56c273"
      },
      "outputs": [
        {
          "output_type": "display_data",
          "data": {
            "text/plain": [
              "<Figure size 1000x800 with 2 Axes>"
            ],
            "image/png": "[encoded data removed]"
          },
          "metadata": {}
        }
      ],
      "source": [
        "model.load_state_dict(torch.load('sentiment_model_gru.pt', map_location=device))\n",
        "model.eval()\n",
        "_, _, y_true_test, y_pred_test = evaluate(model, test_iter, criterion, encoder)\n",
        "\n",
        "# Create the confusion matrix using the test data\n",
        "cm = confusion_matrix(y_true_test, y_pred_test)\n",
        "\n",
        "# Plot the confusion matrix\n",
        "plt.figure(figsize=(10, 8))\n",
        "sns.heatmap(cm, annot=True, fmt='d', cmap='Blues',\n",
        "            xticklabels=target_names, yticklabels=target_names)\n",
        "plt.xlabel('Predicted Label')\n",
        "plt.ylabel('True Label')\n",
        "plt.title('Confusion Matrix')\n",
        "plt.savefig('Confusion_Matrix.png')\n",
        "\n",
        "plt.show()"
      ]
    },
    {
      "cell_type": "code",
      "execution_count": null,
      "metadata": {
        "id": "7tgftIhuRSjA",
        "colab": {
          "base_uri": "https://localhost:8080/"
        },
        "outputId": "02f96b4e-ff68-433c-b2e5-fa8a51510d6b"
      },
      "outputs": [
        {
          "output_type": "stream",
          "name": "stdout",
          "text": [
            "[[18 42 38  9  7  3]\n",
            " [ 8 65 15 12  5  2]\n",
            " [ 5 21 64  4  4  3]\n",
            " [ 3  8  8 20  8  2]\n",
            " [ 1  6  4  3 29  3]\n",
            " [ 2  4  2  2  1 29]]\n"
          ]
        }
      ],
      "source": [
        "print(cm)"
      ]
    },
    {
      "cell_type": "code",
      "execution_count": null,
      "metadata": {
        "id": "ILukBCNValf3",
        "colab": {
          "base_uri": "https://localhost:8080/",
          "height": 402
        },
        "outputId": "1ba7cf89-7dd9-4121-8214-de6dfd895f63"
      },
      "outputs": [
        {
          "output_type": "display_data",
          "data": {
            "text/plain": [
              "<Figure size 1200x600 with 2 Axes>"
            ],
            "image/png": "[encoded data removed]"
          },
          "metadata": {}
        }
      ],
      "source": [
        "import matplotlib.pyplot as plt\n",
        "\n",
        "plt.figure(figsize=(12, 6))\n",
        "\n",
        "# Plot losses\n",
        "plt.subplot(1, 2, 1)\n",
        "plt.plot(train_losses, label='Train Loss')\n",
        "plt.plot(valid_losses, label='Validation Loss')\n",
        "plt.title('Training and Validation Loss')\n",
        "plt.xlabel('Epoch')\n",
        "plt.ylabel('Loss')\n",
        "plt.legend()\n",
        "\n",
        "# Plot accuracies\n",
        "plt.subplot(1, 2, 2)\n",
        "plt.plot(train_accs, label='Train Accuracy')\n",
        "plt.plot(valid_accs, label='Validation Accuracy')\n",
        "plt.title('Training and Validation Accuracy')\n",
        "plt.xlabel('Epoch')\n",
        "plt.ylabel('Accuracy')\n",
        "plt.legend()\n",
        "\n",
        "plt.tight_layout()\n",
        "plt.show()"
      ]
    },
    {
      "cell_type": "code",
      "source": [
        "from sklearn.metrics import classification_report\n",
        "\n",
        "# Assuming `test_iter` is your test data iterator from the training code\n",
        "# and `model` is your trained model\n",
        "all_y_true = []\n",
        "all_y_pred = []\n",
        "\n",
        "# Iterate over your test data and collect predictions\n",
        "with torch.no_grad():\n",
        "    for batch in test_iter:\n",
        "        predictions = model(batch.cleaned_review)\n",
        "        y_pred = torch.argmax(predictions, dim=1).cpu().numpy()  # Get predicted labels\n",
        "        y_true = batch.label.cpu().numpy()  # Get true labels\n",
        "        all_y_true.extend(y_true)\n",
        "        all_y_pred.extend(y_pred)\n",
        "\n",
        "# Define target names (replace with your actual target names)\n",
        "target_names = ['Positive','Neutral', 'Negative', 'Body shaming', 'Classism', 'Sexism']\n",
        "\n",
        "# Generate classification report\n",
        "report = classification_report(all_y_true, all_y_pred, target_names=target_names)\n",
        "print(report)"
      ],
      "metadata": {
        "colab": {
          "base_uri": "https://localhost:8080/"
        },
        "id": "BdEzMi5xYIVv",
        "outputId": "a3f41ee0-5403-4b5e-9e4a-c8c3bc2bce5b"
      },
      "execution_count": null,
      "outputs": [
        {
          "output_type": "stream",
          "name": "stdout",
          "text": [
            "              precision    recall  f1-score   support\n",
            "\n",
            "    Positive       0.49      0.15      0.23       117\n",
            "     Neutral       0.45      0.61      0.51       107\n",
            "    Negative       0.49      0.63      0.55       101\n",
            "Body shaming       0.40      0.41      0.40        49\n",
            "    Classism       0.54      0.63      0.58        46\n",
            "      Sexism       0.69      0.72      0.71        40\n",
            "\n",
            "    accuracy                           0.49       460\n",
            "   macro avg       0.51      0.53      0.50       460\n",
            "weighted avg       0.49      0.49      0.46       460\n",
            "\n"
          ]
        }
      ]
    },
    {
      "cell_type": "code",
      "source": [
        "import torch\n",
        "import torch.nn as nn\n",
        "from pythainlp.tokenize import word_tokenize\n",
        "\n",
        "# Define the GRU model\n",
        "class GRUSentimentModel(nn.Module):\n",
        "    def __init__(self, vocab_size, embedding_dim, hidden_dim, output_dim, n_layers, bidirectional, dropout):\n",
        "        super(GRUSentimentModel, self).__init__()\n",
        "        self.embedding = nn.Embedding(vocab_size, embedding_dim)\n",
        "        self.gru = nn.GRU(embedding_dim, hidden_dim, num_layers=n_layers, bidirectional=bidirectional, batch_first=True, dropout=dropout)\n",
        "        self.fc = nn.Linear(hidden_dim * 2 if bidirectional else hidden_dim, output_dim)  # Output layer\n",
        "        self.dropout = nn.Dropout(dropout)\n",
        "\n",
        "    def forward(self, text):\n",
        "        embedded = self.embedding(text)\n",
        "        output, hidden = self.gru(embedded)\n",
        "        hidden = self.dropout(torch.cat((hidden[-2, :, :], hidden[-1, :, :]), dim=1) if self.gru.bidirectional else hidden[-1, :, :])\n",
        "        output = self.fc(hidden)  # Pass through the output layer\n",
        "        return output\n",
        "\n",
        "# Example usage\n",
        "# ... (Your existing code for tokenization and vocabulary creation) ...\n",
        "\n",
        "# Create GRU model instance\n",
        "model = GRUSentimentModel(vocab_size, embedding_dim=128, hidden_dim=256, output_dim=6,  # Adjust output_dim to your number of classes\n",
        "                         n_layers=2, bidirectional=True, dropout=0.25)\n",
        "\n",
        "# Example input text\n",
        "text = \"นี่คือประโยคตัวอย่าง\"\n",
        "\n",
        "# Tokenize the text\n",
        "tokens = word_tokenize(text)\n",
        "# Convert tokens to numerical IDs using your vocabulary mapping\n",
        "input_ids = [token_to_id.get(token, unk_token_id) for token in tokens]\n",
        "input_ids = torch.tensor([input_ids])  # Convert to PyTorch tensor\n",
        "\n",
        "# Get GRU model output\n",
        "with torch.no_grad():\n",
        "    outputs = model(input_ids)\n",
        "\n",
        "# Print the output shape\n",
        "print(\"Output shape:\", outputs.shape)"
      ],
      "metadata": {
        "colab": {
          "base_uri": "https://localhost:8080/"
        },
        "id": "Inuk-GSNYSxj",
        "outputId": "2f38eea1-130b-4d2e-8190-69ead7c7ac10"
      },
      "execution_count": null,
      "outputs": [
        {
          "output_type": "stream",
          "name": "stdout",
          "text": [
            "Output shape: torch.Size([1, 6])\n"
          ]
        }
      ]
    },
    {
      "cell_type": "code",
      "source": [
        "import torch\n",
        "import torch.nn as nn\n",
        "from pythainlp.tokenize import word_tokenize\n",
        "\n",
        "# Define the GRU model - match this to the original model architecture used for training\n",
        "class SentimentModel(nn.Module): # Change the class name back to SentimentModel\n",
        "    def __init__(self, vocab_size, embedding_dim, hidden_dim, output_dim, n_layers, bidirectional, dropout, padding_id=0):\n",
        "        super(SentimentModel, self).__init__()\n",
        "        self.embedding = nn.Embedding(vocab_size, embedding_dim, padding_idx=padding_id)\n",
        "        self.gru = nn.GRU(embedding_dim, hidden_dim, num_layers=n_layers, bidirectional=bidirectional, batch_first=True, dropout=0 if n_layers < 2 else dropout)\n",
        "        self.out = nn.Linear(hidden_dim * 2 if bidirectional else hidden_dim, output_dim) # Use 'out' instead of 'fc'\n",
        "        self.dropout = nn.Dropout(dropout)\n",
        "\n",
        "    def forward(self, text):\n",
        "        embedded = self.embedding(text)\n",
        "        output, hidden = self.gru(embedded)\n",
        "        hidden = self.dropout(torch.cat((hidden[-2, :, :], hidden[-1, :, :]), dim=1) if self.gru.bidirectional else hidden[-1, :, :])\n",
        "        output = self.out(hidden) # Use 'out' instead of 'fc'\n",
        "        return output\n",
        "\n",
        "# ... (Your existing code for tokenization and vocabulary creation) ...\n",
        "\n",
        "# Create the model instance with the correct parameters:\n",
        "model = SentimentModel(vocab_size, EMBEDDING_DIM, HIDDEN_DIM, OUTPUT_DIM, N_LAYERS, BIDIRECTIONAL, DROPOUT) # Use your existing EMBEDDING_DIM, HIDDEN_DIM, etc.\n",
        "\n",
        "# Load the saved state dictionary:\n",
        "model.load_state_dict(torch.load('sentiment_model_gru.pt', map_location=device))\n",
        "\n",
        "# ... (Rest of your code) ..."
      ],
      "metadata": {
        "colab": {
          "base_uri": "https://localhost:8080/"
        },
        "id": "rzc6TE9wZehp",
        "outputId": "f0638f60-041c-439a-f8f2-1146a7b15ad2"
      },
      "execution_count": null,
      "outputs": [
        {
          "output_type": "execute_result",
          "data": {
            "text/plain": [
              "<All keys matched successfully>"
            ]
          },
          "metadata": {},
          "execution_count": 69
        }
      ]
    },
    {
      "cell_type": "code",
      "source": [
        "import torch\n",
        "import json\n",
        "\n",
        "class SentimentPredictor:\n",
        "    def __init__(self, model_path, token2idx_path, idx2lab_path, max_input_len=512, device='cuda'):\n",
        "        \"\"\"\n",
        "        Initializes the SentimentPredictor.\n",
        "\n",
        "        Args:\n",
        "            model_path (str): Path to the saved model file.\n",
        "            token2idx_path (str): Path to the token-to-index mapping file.\n",
        "            idx2lab_path (str): Path to the index-to-label mapping file.\n",
        "            max_input_len (int, optional): Maximum input sequence length. Defaults to 512.\n",
        "            device (str, optional): Device to run the model on ('cuda' or 'cpu'). Defaults to 'cuda'.\n",
        "        \"\"\"\n",
        "        self.model = SentimentModel(vocab_size, EMBEDDING_DIM, HIDDEN_DIM, OUTPUT_DIM, N_LAYERS, BIDIRECTIONAL, DROPOUT)\n",
        "        self.model.load_state_dict(torch.load(model_path, map_location=device))\n",
        "        self.model.eval()\n",
        "        self.model.to(device)\n",
        "\n",
        "        with open(token2idx_path, 'r') as f:\n",
        "            self.token2idx = json.load(f)\n",
        "        with open(idx2lab_path, 'r') as f:\n",
        "            self.idx2lab = json.load(f)\n",
        "        self.max_input_len = max_input_len\n",
        "        self.device = device\n",
        "\n",
        "    def predict(self, text):\n",
        "        \"\"\"\n",
        "        Predicts the sentiment of the given text.\n",
        "\n",
        "        Args:\n",
        "            text (str): Input text.\n",
        "\n",
        "        Returns:\n",
        "            tuple: Predicted class index, predicted class label, and prediction tensor.\n",
        "        \"\"\"\n",
        "        tokens = text.split(\" \")\n",
        "        tokens = tokens[:self.max_input_len - 2]\n",
        "        ids = self.convert_tokens_to_ids(tokens)\n",
        "        tensor_input = torch.LongTensor([ids]).to(self.device)\n",
        "\n",
        "        with torch.no_grad():\n",
        "            output = self.model(tensor_input)\n",
        "\n",
        "            # Get the word embeddings\n",
        "            word_embeddings = self.model.embedding(tensor_input)  # Access the embedding layer\n",
        "\n",
        "        predicted_class_index = torch.argmax(output).item()\n",
        "        predicted_class_label = self.idx2lab[str(predicted_class_index)]\n",
        "\n",
        "        print(\"\\nผลการวิเคราะห์:\")\n",
        "        print(\"Predicted Class Index:\", predicted_class_index)\n",
        "        print(\"Predicted Class Label:\", predicted_class_label)\n",
        "        print(\"\\n**Word Embeddings:**\")\n",
        "        print(\"Shape of embeddings:\", word_embeddings.shape)\n",
        "        print(f\"Number of tokens: {len(tokens)}\")\n",
        "\n",
        "        return predicted_class_index, predicted_class_label, output\n",
        "\n",
        "    def convert_tokens_to_ids(self, tokens):\n",
        "        \"\"\"\n",
        "        Converts tokens to numerical IDs.\n",
        "\n",
        "        Args:\n",
        "            tokens (list): List of tokens.\n",
        "\n",
        "        Returns:\n",
        "            list: List of numerical IDs.\n",
        "        \"\"\"\n",
        "        out_id = []\n",
        "        for w in tokens:\n",
        "            if w in self.token2idx.keys():\n",
        "                out_id.append(self.token2idx[w])\n",
        "            else:\n",
        "                out_id.append(unk_token_id) #unk word\n",
        "        if len(out_id)==0:\n",
        "            return [0]\n",
        "        return out_id"
      ],
      "metadata": {
        "id": "IVlGdGiaaHMM"
      },
      "execution_count": null,
      "outputs": []
    },
    {
      "cell_type": "code",
      "source": [
        "import json\n",
        "\n",
        "with open('idx2lab.json', 'r') as f:\n",
        "    idx2lab = json.load(f)\n",
        "\n",
        "print(idx2lab)"
      ],
      "metadata": {
        "colab": {
          "base_uri": "https://localhost:8080/"
        },
        "id": "_QzRYf5QebjB",
        "outputId": "6bbbbbf3-031f-4232-a14c-ae6197716e85"
      },
      "execution_count": null,
      "outputs": [
        {
          "output_type": "stream",
          "name": "stdout",
          "text": [
            "{'0': 'คำทั่วไป', '1': 'คำทั่วไปทางการชม', '2': 'คำหยาบปกติ', '3': 'เหยียดชนชั้น', '4': 'เหยียดรูปร่าง', '5': 'เหยียดเพศ'}\n"
          ]
        }
      ]
    },
    {
      "cell_type": "code",
      "source": [
        "# Architecture\n",
        "OUTPUT_DIM = 6"
      ],
      "metadata": {
        "id": "satNpW0bedWT"
      },
      "execution_count": null,
      "outputs": []
    },
    {
      "cell_type": "code",
      "source": [
        "predictor = SentimentPredictor(model_path='sentiment_model_gru.pt', token2idx_path='token2idx.json', idx2lab_path='idx2lab.json')"
      ],
      "metadata": {
        "id": "JXgsibFSaJLQ"
      },
      "execution_count": null,
      "outputs": []
    },
    {
      "cell_type": "code",
      "source": [
        "def analyze_user_input():\n",
        "    # Get user input\n",
        "    user_text = input(\"กรุณาใส่ข้อความที่ต้องการวิเคราะห์ความรู้สึก: \")\n",
        "\n",
        "    # Make prediction\n",
        "    # sentiment, tokenized_inputs = predict_sentiment(model, tokenizer, user_text)\n",
        "    # print(\"Raw prediction tensor:\", sentiment)\n",
        "\n",
        "    # Get predicted class index\n",
        "    predicted_class_index = torch.argmax(sentiment).item()\n",
        "    # predicted_class_index = min(predicted_class_index, len(class_labels) - 1)  # Clamp the index #removed\n",
        "\n",
        "    # Get predicted class label\n",
        "    # predicted_class_label = class_labels[predicted_class_index]\n",
        "\n",
        "    # Display results\n",
        "    print(\"\\nผลการวิเคราะห์:\")\n",
        "    # print(\"Predicted Class Index:\", predicted_class_index)\n",
        "    print(\"Predicted Class Label:\", predicted_class_label)\n",
        "\n",
        "    # Display probability distribution\n",
        "    print(\"\\nProbability distribution:\")\n",
        "    for i, label in enumerate(class_labels):\n",
        "        #print(f\"{label}: {sentiment[0][i].item():.4f}\")\n",
        "        print(f\"{label}: {sentiment[0][i].item():.4f}\") # Access elements using correct indexing\n",
        "\n",
        "    # Get and display word embeddings\n",
        "    # word_embeddings = get_word_embeddings(model, tokenized_inputs)\n",
        "\n",
        "    # Print token IDs and their corresponding words\n",
        "    # input_ids = tokenized_inputs['input_ids'][0]\n",
        "    tokens = tokenizer.convert_ids_to_tokens(input_ids)\n",
        "\n",
        "    print(\"\\n**Word Embeddings:**\")\n",
        "    print(\"Shape of embeddings:\", word_embeddings.shape)\n",
        "    print(f\"Number of tokens: {len(tokens)}\")\n",
        "\n",
        "    # Print tokens and first few dimensions of their embeddings\n",
        "    for i, token in enumerate(tokens):\n",
        "        if token in tokenizer.all_special_tokens:\n",
        "            continue  # Skip special tokens like [CLS], [SEP], etc.\n",
        "\n",
        "        # Print token and a sample of its embedding (first 5 dimensions)\n",
        "        embedding_sample = word_embeddings[0, i, :5].tolist()  # First 5 dimensions as example\n",
        "        print(f\"Token: '{token}', Embedding (first 5 dims): {embedding_sample}\")\n",
        "\n",
        "# Run the analysis\n",
        "if __name__ == \"__main__\":\n",
        "    print(\"==== Thai Sentiment Analysis ====\")\n",
        "    analyze_user_input()"
      ],
      "metadata": {
        "colab": {
          "base_uri": "https://localhost:8080/",
          "height": 564
        },
        "id": "qXRn2wy8a_4f",
        "outputId": "c1600cb4-1cc8-4d24-b317-0858efd008e8"
      },
      "execution_count": null,
      "outputs": [
        {
          "output_type": "stream",
          "name": "stdout",
          "text": [
            "==== Thai Sentiment Analysis ====\n",
            "กรุณาใส่ข้อความที่ต้องการวิเคราะห์ความรู้สึก: โง่แล้วยังจะมาเรียน\n",
            "\n",
            "ผลการวิเคราะห์:\n",
            "Predicted Class Label: คำทั่วไปทางการชม\n",
            "\n",
            "Probability distribution:\n",
            "คำทั่วไปทางการชม: -0.3470\n",
            "คำทั่วไป: 0.8363\n",
            "คำหยาบปกติ: 0.2527\n",
            "เหยียดรูปร่าง: -0.3383\n",
            "เหยียดชนชั้น: -0.0666\n",
            "เหยียดเพศ: -0.2682\n"
          ]
        },
        {
          "output_type": "error",
          "ename": "ValueError",
          "evalue": "only one element tensors can be converted to Python scalars",
          "traceback": [
            "\u001b[0;31m---------------------------------------------------------------------------\u001b[0m",
            "\u001b[0;31mValueError\u001b[0m                                Traceback (most recent call last)",
            "\u001b[0;32m<ipython-input-134-35cef29a3d45>\u001b[0m in \u001b[0;36m<cell line: 0>\u001b[0;34m()\u001b[0m\n\u001b[1;32m     48\u001b[0m \u001b[0;32mif\u001b[0m \u001b[0m__name__\u001b[0m \u001b[0;34m==\u001b[0m \u001b[0;34m\"__main__\"\u001b[0m\u001b[0;34m:\u001b[0m\u001b[0;34m\u001b[0m\u001b[0;34m\u001b[0m\u001b[0m\n\u001b[1;32m     49\u001b[0m     \u001b[0mprint\u001b[0m\u001b[0;34m(\u001b[0m\u001b[0;34m\"==== Thai Sentiment Analysis ====\"\u001b[0m\u001b[0;34m)\u001b[0m\u001b[0;34m\u001b[0m\u001b[0;34m\u001b[0m\u001b[0m\n\u001b[0;32m---> 50\u001b[0;31m     \u001b[0manalyze_user_input\u001b[0m\u001b[0;34m(\u001b[0m\u001b[0;34m)\u001b[0m\u001b[0;34m\u001b[0m\u001b[0;34m\u001b[0m\u001b[0m\n\u001b[0m",
            "\u001b[0;32m<ipython-input-134-35cef29a3d45>\u001b[0m in \u001b[0;36manalyze_user_input\u001b[0;34m()\u001b[0m\n\u001b[1;32m     30\u001b[0m     \u001b[0;31m# Print token IDs and their corresponding words\u001b[0m\u001b[0;34m\u001b[0m\u001b[0;34m\u001b[0m\u001b[0m\n\u001b[1;32m     31\u001b[0m     \u001b[0;31m# input_ids = tokenized_inputs['input_ids'][0]\u001b[0m\u001b[0;34m\u001b[0m\u001b[0;34m\u001b[0m\u001b[0m\n\u001b[0;32m---> 32\u001b[0;31m     \u001b[0mtokens\u001b[0m \u001b[0;34m=\u001b[0m \u001b[0mtokenizer\u001b[0m\u001b[0;34m.\u001b[0m\u001b[0mconvert_ids_to_tokens\u001b[0m\u001b[0;34m(\u001b[0m\u001b[0minput_ids\u001b[0m\u001b[0;34m)\u001b[0m\u001b[0;34m\u001b[0m\u001b[0;34m\u001b[0m\u001b[0m\n\u001b[0m\u001b[1;32m     33\u001b[0m \u001b[0;34m\u001b[0m\u001b[0m\n\u001b[1;32m     34\u001b[0m     \u001b[0mprint\u001b[0m\u001b[0;34m(\u001b[0m\u001b[0;34m\"\\n**Word Embeddings:**\"\u001b[0m\u001b[0;34m)\u001b[0m\u001b[0;34m\u001b[0m\u001b[0;34m\u001b[0m\u001b[0m\n",
            "\u001b[0;32m/usr/local/lib/python3.11/dist-packages/transformers/tokenization_utils_fast.py\u001b[0m in \u001b[0;36mconvert_ids_to_tokens\u001b[0;34m(self, ids, skip_special_tokens)\u001b[0m\n\u001b[1;32m    412\u001b[0m         \u001b[0mtokens\u001b[0m \u001b[0;34m=\u001b[0m \u001b[0;34m[\u001b[0m\u001b[0;34m]\u001b[0m\u001b[0;34m\u001b[0m\u001b[0;34m\u001b[0m\u001b[0m\n\u001b[1;32m    413\u001b[0m         \u001b[0;32mfor\u001b[0m \u001b[0mindex\u001b[0m \u001b[0;32min\u001b[0m \u001b[0mids\u001b[0m\u001b[0;34m:\u001b[0m\u001b[0;34m\u001b[0m\u001b[0;34m\u001b[0m\u001b[0m\n\u001b[0;32m--> 414\u001b[0;31m             \u001b[0mindex\u001b[0m \u001b[0;34m=\u001b[0m \u001b[0mint\u001b[0m\u001b[0;34m(\u001b[0m\u001b[0mindex\u001b[0m\u001b[0;34m)\u001b[0m\u001b[0;34m\u001b[0m\u001b[0;34m\u001b[0m\u001b[0m\n\u001b[0m\u001b[1;32m    415\u001b[0m             \u001b[0;32mif\u001b[0m \u001b[0mskip_special_tokens\u001b[0m \u001b[0;32mand\u001b[0m \u001b[0mindex\u001b[0m \u001b[0;32min\u001b[0m \u001b[0mself\u001b[0m\u001b[0;34m.\u001b[0m\u001b[0mall_special_ids\u001b[0m\u001b[0;34m:\u001b[0m\u001b[0;34m\u001b[0m\u001b[0;34m\u001b[0m\u001b[0m\n\u001b[1;32m    416\u001b[0m                 \u001b[0;32mcontinue\u001b[0m\u001b[0;34m\u001b[0m\u001b[0;34m\u001b[0m\u001b[0m\n",
            "\u001b[0;31mValueError\u001b[0m: only one element tensors can be converted to Python scalars"
          ]
        }
      ]
    },
    {
      "cell_type": "code",
      "source": [
        "max_input_len = 1024  # หรือค่าอื่นๆ ที่เหมาะสม"
      ],
      "metadata": {
        "id": "IYpHW_D7fv20"
      },
      "execution_count": null,
      "outputs": []
    },
    {
      "cell_type": "code",
      "source": [
        "# text = \"น้องพั้นน่ารัก\"\n",
        "# predicted_class_index, predicted_class_label, prediction_tensor = predictor.predict(text)\n",
        "\n",
        "text = \"้มีอะไรให้ช่วยไหม\"\n",
        "predicted_class_index, predicted_class_label, prediction_tensor = predictor.predict(text)\n",
        "\n",
        "print(\"\\nผลการวิเคราะห์:\")\n",
        "print(\"Predicted Class Index:\", predicted_class_index)\n",
        "print(\"Predicted Class Label:\", predicted_class_label)\n",
        "print(\"Prediction Tensor:\", prediction_tensor) # print tensor\n",
        "\n",
        "# Remove these lines or access them differently\n",
        "# print(\"\\n**Word Embeddings:**\")\n",
        "# print(\"Shape of embeddings:\", word_embeddings.shape)\n",
        "# print(f\"Number of tokens: {len(tokens)}\")\n"
      ],
      "metadata": {
        "colab": {
          "base_uri": "https://localhost:8080/"
        },
        "id": "qRPeYHn9aKbr",
        "outputId": "148da9f5-58c0-4a7a-fd09-a1b10fd7b7e1"
      },
      "execution_count": null,
      "outputs": [
        {
          "output_type": "stream",
          "name": "stdout",
          "text": [
            "\n",
            "ผลการวิเคราะห์:\n",
            "Predicted Class Index: 1\n",
            "Predicted Class Label: คำทั่วไปทางการชม\n",
            "\n",
            "**Word Embeddings:**\n",
            "Shape of embeddings: torch.Size([1, 1, 128])\n",
            "Number of tokens: 1\n",
            "\n",
            "ผลการวิเคราะห์:\n",
            "Predicted Class Index: 1\n",
            "Predicted Class Label: คำทั่วไปทางการชม\n",
            "Prediction Tensor: tensor([[-0.1685,  0.3947,  0.0587, -0.1297, -0.0046, -0.1164]],\n",
            "       device='cuda:0')\n"
          ]
        }
      ]
    },
    {
      "cell_type": "code",
      "source": [],
      "metadata": {
        "colab": {
          "base_uri": "https://localhost:8080/",
          "height": 141
        },
        "id": "A5JPkCYHaffg",
        "outputId": "c03c7c54-39a0-4313-8616-724dc16cb237"
      },
      "execution_count": null,
      "outputs": [
        {
          "output_type": "error",
          "ename": "NameError",
          "evalue": "name 'self' is not defined",
          "traceback": [
            "\u001b[0;31m---------------------------------------------------------------------------\u001b[0m",
            "\u001b[0;31mNameError\u001b[0m                                 Traceback (most recent call last)",
            "\u001b[0;32m<ipython-input-76-9310cc1589b1>\u001b[0m in \u001b[0;36m<cell line: 0>\u001b[0;34m()\u001b[0m\n\u001b[0;32m----> 1\u001b[0;31m \u001b[0mword_embeddings\u001b[0m \u001b[0;34m=\u001b[0m \u001b[0mself\u001b[0m\u001b[0;34m.\u001b[0m\u001b[0mmodel\u001b[0m\u001b[0;34m.\u001b[0m\u001b[0membedding\u001b[0m\u001b[0;34m(\u001b[0m\u001b[0mtensor_input\u001b[0m\u001b[0;34m)\u001b[0m\u001b[0;34m\u001b[0m\u001b[0;34m\u001b[0m\u001b[0m\n\u001b[0m",
            "\u001b[0;31mNameError\u001b[0m: name 'self' is not defined"
          ]
        }
      ]
    }
  ],
  "metadata": {
    "accelerator": "GPU",
    "colab": {
      "gpuType": "T4",
      "provenance": []
    },
    "kernelspec": {
      "display_name": "Python 3",
      "name": "python3"
    },
    "language_info": {
      "name": "python"
    }
  },
  "nbformat": 4,
  "nbformat_minor": 0
}