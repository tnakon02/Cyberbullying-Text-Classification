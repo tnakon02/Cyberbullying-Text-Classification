{
  "cells": [
    {
      "cell_type": "markdown",
      "metadata": {
        "id": "bw7MbuIemZtu"
      },
      "source": [
        "# ติดตั้ง Tool\n",
        "\n",
        "---\n",
        "\n"
      ]
    },
    {
      "cell_type": "code",
      "execution_count": null,
      "metadata": {
        "colab": {
          "base_uri": "https://localhost:8080/",
          "height": 1000
        },
        "id": "pspQtfHVkLUd",
        "outputId": "31fc2e0b-1d0e-4b44-a2ef-1ca283095be7"
      },
      "outputs": [
        {
          "output_type": "stream",
          "name": "stdout",
          "text": [
            "Collecting pythainlp\n",
            "  Downloading pythainlp-5.1.0-py3-none-any.whl.metadata (8.0 kB)\n",
            "Requirement already satisfied: requests>=2.31 in /usr/local/lib/python3.11/dist-packages (from pythainlp) (2.32.3)\n",
            "Requirement already satisfied: charset-normalizer<4,>=2 in /usr/local/lib/python3.11/dist-packages (from requests>=2.31->pythainlp) (3.4.1)\n",
            "Requirement already satisfied: idna<4,>=2.5 in /usr/local/lib/python3.11/dist-packages (from requests>=2.31->pythainlp) (3.10)\n",
            "Requirement already satisfied: urllib3<3,>=1.21.1 in /usr/local/lib/python3.11/dist-packages (from requests>=2.31->pythainlp) (2.3.0)\n",
            "Requirement already satisfied: certifi>=2017.4.17 in /usr/local/lib/python3.11/dist-packages (from requests>=2.31->pythainlp) (2025.1.31)\n",
            "Downloading pythainlp-5.1.0-py3-none-any.whl (19.3 MB)\n",
            "\u001b[2K   \u001b[90m━━━━━━━━━━━━━━━━━━━━━━━━━━━━━━━━━━━━━━━━\u001b[0m \u001b[32m19.3/19.3 MB\u001b[0m \u001b[31m92.2 MB/s\u001b[0m eta \u001b[36m0:00:00\u001b[0m\n",
            "\u001b[?25hInstalling collected packages: pythainlp\n",
            "Successfully installed pythainlp-5.1.0\n",
            "Collecting torch==1.13.1\n",
            "  Downloading torch-1.13.1-cp311-cp311-manylinux1_x86_64.whl.metadata (24 kB)\n",
            "Requirement already satisfied: typing-extensions in /usr/local/lib/python3.11/dist-packages (from torch==1.13.1) (4.12.2)\n",
            "Collecting nvidia-cuda-runtime-cu11==11.7.99 (from torch==1.13.1)\n",
            "  Downloading nvidia_cuda_runtime_cu11-11.7.99-py3-none-manylinux1_x86_64.whl.metadata (1.6 kB)\n",
            "Collecting nvidia-cudnn-cu11==8.5.0.96 (from torch==1.13.1)\n",
            "  Downloading nvidia_cudnn_cu11-8.5.0.96-2-py3-none-manylinux1_x86_64.whl.metadata (1.6 kB)\n",
            "Collecting nvidia-cublas-cu11==11.10.3.66 (from torch==1.13.1)\n",
            "  Downloading nvidia_cublas_cu11-11.10.3.66-py3-none-manylinux1_x86_64.whl.metadata (1.6 kB)\n",
            "Collecting nvidia-cuda-nvrtc-cu11==11.7.99 (from torch==1.13.1)\n",
            "  Downloading nvidia_cuda_nvrtc_cu11-11.7.99-2-py3-none-manylinux1_x86_64.whl.metadata (1.5 kB)\n",
            "Requirement already satisfied: setuptools in /usr/local/lib/python3.11/dist-packages (from nvidia-cublas-cu11==11.10.3.66->torch==1.13.1) (75.1.0)\n",
            "Requirement already satisfied: wheel in /usr/local/lib/python3.11/dist-packages (from nvidia-cublas-cu11==11.10.3.66->torch==1.13.1) (0.45.1)\n",
            "Downloading torch-1.13.1-cp311-cp311-manylinux1_x86_64.whl (887.4 MB)\n",
            "\u001b[2K   \u001b[90m━━━━━━━━━━━━━━━━━━━━━━━━━━━━━━━━━━━━━━━━\u001b[0m \u001b[32m887.4/887.4 MB\u001b[0m \u001b[31m1.6 MB/s\u001b[0m eta \u001b[36m0:00:00\u001b[0m\n",
            "\u001b[?25hDownloading nvidia_cublas_cu11-11.10.3.66-py3-none-manylinux1_x86_64.whl (317.1 MB)\n",
            "\u001b[2K   \u001b[90m━━━━━━━━━━━━━━━━━━━━━━━━━━━━━━━━━━━━━━━━\u001b[0m \u001b[32m317.1/317.1 MB\u001b[0m \u001b[31m6.0 MB/s\u001b[0m eta \u001b[36m0:00:00\u001b[0m\n",
            "\u001b[?25hDownloading nvidia_cuda_nvrtc_cu11-11.7.99-2-py3-none-manylinux1_x86_64.whl (21.0 MB)\n",
            "\u001b[2K   \u001b[90m━━━━━━━━━━━━━━━━━━━━━━━━━━━━━━━━━━━━━━━━\u001b[0m \u001b[32m21.0/21.0 MB\u001b[0m \u001b[31m98.1 MB/s\u001b[0m eta \u001b[36m0:00:00\u001b[0m\n",
            "\u001b[?25hDownloading nvidia_cuda_runtime_cu11-11.7.99-py3-none-manylinux1_x86_64.whl (849 kB)\n",
            "\u001b[2K   \u001b[90m━━━━━━━━━━━━━━━━━━━━━━━━━━━━━━━━━━━━━━━━\u001b[0m \u001b[32m849.3/849.3 kB\u001b[0m \u001b[31m54.4 MB/s\u001b[0m eta \u001b[36m0:00:00\u001b[0m\n",
            "\u001b[?25hDownloading nvidia_cudnn_cu11-8.5.0.96-2-py3-none-manylinux1_x86_64.whl (557.1 MB)\n",
            "\u001b[2K   \u001b[90m━━━━━━━━━━━━━━━━━━━━━━━━━━━━━━━━━━━━━━━━\u001b[0m \u001b[32m557.1/557.1 MB\u001b[0m \u001b[31m3.0 MB/s\u001b[0m eta \u001b[36m0:00:00\u001b[0m\n",
            "\u001b[?25hInstalling collected packages: nvidia-cuda-runtime-cu11, nvidia-cuda-nvrtc-cu11, nvidia-cublas-cu11, nvidia-cudnn-cu11, torch\n",
            "  Attempting uninstall: torch\n",
            "    Found existing installation: torch 2.6.0+cu124\n",
            "    Uninstalling torch-2.6.0+cu124:\n",
            "      Successfully uninstalled torch-2.6.0+cu124\n",
            "\u001b[31mERROR: pip's dependency resolver does not currently take into account all the packages that are installed. This behaviour is the source of the following dependency conflicts.\n",
            "torchaudio 2.6.0+cu124 requires torch==2.6.0, but you have torch 1.13.1 which is incompatible.\n",
            "accelerate 1.3.0 requires torch>=2.0.0, but you have torch 1.13.1 which is incompatible.\n",
            "torchvision 0.21.0+cu124 requires torch==2.6.0, but you have torch 1.13.1 which is incompatible.\u001b[0m\u001b[31m\n",
            "\u001b[0mSuccessfully installed nvidia-cublas-cu11-11.10.3.66 nvidia-cuda-nvrtc-cu11-11.7.99 nvidia-cuda-runtime-cu11-11.7.99 nvidia-cudnn-cu11-8.5.0.96 torch-1.13.1\n",
            "Collecting torchtext==0.6.0\n",
            "  Downloading torchtext-0.6.0-py3-none-any.whl.metadata (6.3 kB)\n",
            "Requirement already satisfied: tqdm in /usr/local/lib/python3.11/dist-packages (from torchtext==0.6.0) (4.67.1)\n",
            "Requirement already satisfied: requests in /usr/local/lib/python3.11/dist-packages (from torchtext==0.6.0) (2.32.3)\n",
            "Requirement already satisfied: torch in /usr/local/lib/python3.11/dist-packages (from torchtext==0.6.0) (1.13.1)\n",
            "Requirement already satisfied: numpy in /usr/local/lib/python3.11/dist-packages (from torchtext==0.6.0) (1.26.4)\n",
            "Requirement already satisfied: six in /usr/local/lib/python3.11/dist-packages (from torchtext==0.6.0) (1.17.0)\n",
            "Requirement already satisfied: sentencepiece in /usr/local/lib/python3.11/dist-packages (from torchtext==0.6.0) (0.2.0)\n",
            "Requirement already satisfied: charset-normalizer<4,>=2 in /usr/local/lib/python3.11/dist-packages (from requests->torchtext==0.6.0) (3.4.1)\n",
            "Requirement already satisfied: idna<4,>=2.5 in /usr/local/lib/python3.11/dist-packages (from requests->torchtext==0.6.0) (3.10)\n",
            "Requirement already satisfied: urllib3<3,>=1.21.1 in /usr/local/lib/python3.11/dist-packages (from requests->torchtext==0.6.0) (2.3.0)\n",
            "Requirement already satisfied: certifi>=2017.4.17 in /usr/local/lib/python3.11/dist-packages (from requests->torchtext==0.6.0) (2025.1.31)\n",
            "Requirement already satisfied: typing-extensions in /usr/local/lib/python3.11/dist-packages (from torch->torchtext==0.6.0) (4.12.2)\n",
            "Requirement already satisfied: nvidia-cuda-runtime-cu11==11.7.99 in /usr/local/lib/python3.11/dist-packages (from torch->torchtext==0.6.0) (11.7.99)\n",
            "Requirement already satisfied: nvidia-cudnn-cu11==8.5.0.96 in /usr/local/lib/python3.11/dist-packages (from torch->torchtext==0.6.0) (8.5.0.96)\n",
            "Requirement already satisfied: nvidia-cublas-cu11==11.10.3.66 in /usr/local/lib/python3.11/dist-packages (from torch->torchtext==0.6.0) (11.10.3.66)\n",
            "Requirement already satisfied: nvidia-cuda-nvrtc-cu11==11.7.99 in /usr/local/lib/python3.11/dist-packages (from torch->torchtext==0.6.0) (11.7.99)\n",
            "Requirement already satisfied: setuptools in /usr/local/lib/python3.11/dist-packages (from nvidia-cublas-cu11==11.10.3.66->torch->torchtext==0.6.0) (75.1.0)\n",
            "Requirement already satisfied: wheel in /usr/local/lib/python3.11/dist-packages (from nvidia-cublas-cu11==11.10.3.66->torch->torchtext==0.6.0) (0.45.1)\n",
            "Downloading torchtext-0.6.0-py3-none-any.whl (64 kB)\n",
            "\u001b[2K   \u001b[90m━━━━━━━━━━━━━━━━━━━━━━━━━━━━━━━━━━━━━━━━\u001b[0m \u001b[32m64.2/64.2 kB\u001b[0m \u001b[31m2.8 MB/s\u001b[0m eta \u001b[36m0:00:00\u001b[0m\n",
            "\u001b[?25hInstalling collected packages: torchtext\n",
            "Successfully installed torchtext-0.6.0\n"
          ]
        },
        {
          "output_type": "execute_result",
          "data": {
            "text/plain": [
              "'0.6.0'"
            ],
            "application/vnd.google.colaboratory.intrinsic+json": {
              "type": "string"
            }
          },
          "metadata": {},
          "execution_count": 1
        }
      ],
      "source": [
        "!pip install pythainlp\n",
        "!pip install torch==1.13.1\n",
        "!pip install torchtext==0.6.0\n",
        "\n",
        "import torchtext\n",
        "torchtext.__version__"
      ]
    },
    {
      "cell_type": "markdown",
      "metadata": {
        "id": "AZwtFfPWmdw3"
      },
      "source": [
        "# Prepare Dataset\n",
        "\n",
        "---\n"
      ]
    },
    {
      "cell_type": "code",
      "execution_count": null,
      "metadata": {
        "colab": {
          "base_uri": "https://localhost:8080/"
        },
        "id": "3Zl2c6j_SmTQ",
        "outputId": "e21d6020-0957-4266-d87d-7072f4cbfe46"
      },
      "outputs": [
        {
          "output_type": "stream",
          "name": "stdout",
          "text": [
            "/usr/local/lib/python3.11/dist-packages/gdown/__main__.py:140: FutureWarning: Option `--id` was deprecated in version 4.3.1 and will be removed in 5.0. You don't need to pass it anymore to use a file ID.\n",
            "  warnings.warn(\n",
            "Downloading...\n",
            "From: https://drive.google.com/uc?id=1xGvtr_HZLKHj4Emd4cbmndW3UBSkZfE8\n",
            "To: /content/TextClass.csv\n",
            "100% 132k/132k [00:00<00:00, 4.43MB/s]\n",
            "/usr/local/lib/python3.11/dist-packages/gdown/__main__.py:140: FutureWarning: Option `--id` was deprecated in version 4.3.1 and will be removed in 5.0. You don't need to pass it anymore to use a file ID.\n",
            "  warnings.warn(\n",
            "Downloading...\n",
            "From: https://drive.google.com/uc?id=1Dmn0eyYwy9Z8r94Xy7eVdyWTBxG-1RIo\n",
            "To: /content/pos.txt\n",
            "100% 761k/761k [00:00<00:00, 7.45MB/s]\n",
            "/usr/local/lib/python3.11/dist-packages/gdown/__main__.py:140: FutureWarning: Option `--id` was deprecated in version 4.3.1 and will be removed in 5.0. You don't need to pass it anymore to use a file ID.\n",
            "  warnings.warn(\n",
            "Downloading...\n",
            "From: https://drive.google.com/uc?id=1EX6IckcRLeKxhpJW4Cr7ItamonDdlyvN\n",
            "To: /content/neu.txt\n",
            "100% 3.81M/3.81M [00:00<00:00, 25.6MB/s]\n",
            "/usr/local/lib/python3.11/dist-packages/gdown/__main__.py:140: FutureWarning: Option `--id` was deprecated in version 4.3.1 and will be removed in 5.0. You don't need to pass it anymore to use a file ID.\n",
            "  warnings.warn(\n",
            "Downloading...\n",
            "From: https://drive.google.com/uc?id=1ahlb_JE4TtrrEtkX65yLOoYEtcsxkj6m\n",
            "To: /content/neg.txt\n",
            "100% 1.68M/1.68M [00:00<00:00, 12.4MB/s]\n"
          ]
        }
      ],
      "source": [
        "! gdown --id 1xGvtr_HZLKHj4Emd4cbmndW3UBSkZfE8\n",
        "! gdown --id 1Dmn0eyYwy9Z8r94Xy7eVdyWTBxG-1RIo\n",
        "! gdown --id 1EX6IckcRLeKxhpJW4Cr7ItamonDdlyvN\n",
        "! gdown --id 1ahlb_JE4TtrrEtkX65yLOoYEtcsxkj6m"
      ]
    },
    {
      "cell_type": "code",
      "execution_count": null,
      "metadata": {
        "colab": {
          "base_uri": "https://localhost:8080/"
        },
        "id": "NSelvNrdBbKO",
        "outputId": "c7005489-5dba-462c-d109-2adee49f7f1b"
      },
      "outputs": [
        {
          "output_type": "stream",
          "name": "stdout",
          "text": [
            "Successfully created pos.csv\n"
          ]
        }
      ],
      "source": [
        "# prompt: ทำ pos.txt เป็นไฟล์ .csv โดยให้มหัวข้อเป็น text และ label เป็น 0 ทั้งหมด\n",
        "\n",
        "import pandas as pd\n",
        "\n",
        "try:\n",
        "    with open('pos.txt', 'r', encoding='utf-8') as f:  #แก้ไข encoding ให้รองรับภาษาไทย\n",
        "        lines = f.readlines()\n",
        "except FileNotFoundError:\n",
        "    print(\"Error: pos.txt not found.\")\n",
        "    exit()\n",
        "\n",
        "\n",
        "data = {'text': lines, 'label': [0] * len(lines)}\n",
        "df = pd.DataFrame(data)\n",
        "df.to_csv('pos.csv', index=False, encoding='utf-8') #แก้ไข encoding ให้รองรับภาษาไทย\n",
        "print(\"Successfully created pos.csv\")\n"
      ]
    },
    {
      "cell_type": "code",
      "execution_count": null,
      "metadata": {
        "colab": {
          "base_uri": "https://localhost:8080/"
        },
        "id": "H_12BonYCNCp",
        "outputId": "495d831a-a388-444c-85ad-d93245855a17"
      },
      "outputs": [
        {
          "output_type": "stream",
          "name": "stdout",
          "text": [
            "Successfully created neu.csv\n"
          ]
        }
      ],
      "source": [
        "# prompt: ทำ pos.txt เป็นไฟล์ .csv โดยให้มหัวข้อเป็น text และ label เป็น 0 ทั้งหมด\n",
        "\n",
        "import pandas as pd\n",
        "\n",
        "try:\n",
        "    with open('neu.txt', 'r', encoding='utf-8') as f:  #แก้ไข encoding ให้รองรับภาษาไทย\n",
        "        lines = f.readlines()\n",
        "except FileNotFoundError:\n",
        "    print(\"Error: neu.txt not found.\")\n",
        "    exit()\n",
        "\n",
        "\n",
        "data = {'text': lines, 'label': [1] * len(lines)}\n",
        "df = pd.DataFrame(data)\n",
        "df.to_csv('neu.csv', index=False, encoding='utf-8') #แก้ไข encoding ให้รองรับภาษาไทย\n",
        "print(\"Successfully created neu.csv\")\n"
      ]
    },
    {
      "cell_type": "code",
      "execution_count": null,
      "metadata": {
        "colab": {
          "base_uri": "https://localhost:8080/"
        },
        "id": "QzIsXietCNcb",
        "outputId": "91de850b-32c8-4879-efd7-a9a354368286"
      },
      "outputs": [
        {
          "output_type": "stream",
          "name": "stdout",
          "text": [
            "Successfully created neg.csv\n"
          ]
        }
      ],
      "source": [
        "# prompt: ทำ pos.txt เป็นไฟล์ .csv โดยให้มหัวข้อเป็น text และ label เป็น 0 ทั้งหมด\n",
        "\n",
        "import pandas as pd\n",
        "\n",
        "try:\n",
        "    with open('neg.txt', 'r', encoding='utf-8') as f:  #แก้ไข encoding ให้รองรับภาษาไทย\n",
        "        lines = f.readlines()\n",
        "except FileNotFoundError:\n",
        "    print(\"Error: neg.txt not found.\")\n",
        "    exit()\n",
        "\n",
        "\n",
        "data = {'text': lines, 'label': [2] * len(lines)}\n",
        "df = pd.DataFrame(data)\n",
        "df.to_csv('neg.csv', index=False, encoding='utf-8') #แก้ไข encoding ให้รองรับภาษาไทย\n",
        "print(\"Successfully created neg.csv\")\n"
      ]
    },
    {
      "cell_type": "code",
      "execution_count": null,
      "metadata": {
        "colab": {
          "base_uri": "https://localhost:8080/"
        },
        "id": "xQ2KDAP1COip",
        "outputId": "67c4ad35-b133-4773-ccda-7bb373239b53"
      },
      "outputs": [
        {
          "output_type": "stream",
          "name": "stdout",
          "text": [
            "Successfully created pos_reduced.csv with 1000 random samples.\n"
          ]
        }
      ],
      "source": [
        "# prompt: สุ่มลบข้อมูล pos.csv ให้เหลือ 1000 ข้อมูล\n",
        "\n",
        "import pandas as pd\n",
        "import random\n",
        "\n",
        "try:\n",
        "    df = pd.read_csv('pos.csv')\n",
        "except FileNotFoundError:\n",
        "    print(\"Error: pos.csv not found. Please run the previous code block first.\")\n",
        "    exit()\n",
        "\n",
        "# Shuffle the DataFrame\n",
        "df = df.sample(frac=1, random_state=42)\n",
        "\n",
        "# Reduce the DataFrame to 1000 rows\n",
        "df = df.head(250)\n",
        "\n",
        "# Save the reduced DataFrame to a new CSV file\n",
        "df.to_csv('pos_reduced.csv', index=False, encoding='utf-8')\n",
        "print(\"Successfully created pos_reduced.csv with 1000 random samples.\")\n"
      ]
    },
    {
      "cell_type": "code",
      "execution_count": null,
      "metadata": {
        "colab": {
          "base_uri": "https://localhost:8080/"
        },
        "id": "Ld3acVRNCQbt",
        "outputId": "35fa0065-932c-4b03-836d-2a7467859f88"
      },
      "outputs": [
        {
          "output_type": "stream",
          "name": "stdout",
          "text": [
            "Successfully created neu_reduced.csv with 1000 random samples.\n"
          ]
        }
      ],
      "source": [
        "# prompt: สุ่มลบข้อมูล pos.csv ให้เหลือ 1000 ข้อมูล\n",
        "\n",
        "import pandas as pd\n",
        "import random\n",
        "\n",
        "try:\n",
        "    df = pd.read_csv('neu.csv')\n",
        "except FileNotFoundError:\n",
        "    print(\"Error: pos.csv not found. Please run the previous code block first.\")\n",
        "    exit()\n",
        "\n",
        "# Shuffle the DataFrame\n",
        "df = df.sample(frac=1, random_state=42)\n",
        "\n",
        "# Reduce the DataFrame to 1000 rows\n",
        "df = df.head(200)\n",
        "\n",
        "# Save the reduced DataFrame to a new CSV file\n",
        "df.to_csv('neu_reduced.csv', index=False, encoding='utf-8')\n",
        "print(\"Successfully created neu_reduced.csv with 1000 random samples.\")\n"
      ]
    },
    {
      "cell_type": "code",
      "execution_count": null,
      "metadata": {
        "colab": {
          "base_uri": "https://localhost:8080/"
        },
        "id": "CYcjP-dcCTYJ",
        "outputId": "c8ad415d-f0f4-4a03-8248-1983e180d207"
      },
      "outputs": [
        {
          "output_type": "stream",
          "name": "stdout",
          "text": [
            "Successfully created neg_reduced.csv with 1000 random samples.\n"
          ]
        }
      ],
      "source": [
        "# prompt: สุ่มลบข้อมูล pos.csv ให้เหลือ 1000 ข้อมูล\n",
        "\n",
        "import pandas as pd\n",
        "import random\n",
        "\n",
        "try:\n",
        "    df = pd.read_csv('neg.csv')\n",
        "except FileNotFoundError:\n",
        "    print(\"Error: neg.csv not found. Please run the previous code block first.\")\n",
        "    exit()\n",
        "\n",
        "# Shuffle the DataFrame\n",
        "df = df.sample(frac=1, random_state=42)\n",
        "\n",
        "# Reduce the DataFrame to 1000 rows\n",
        "df = df.head(300)\n",
        "\n",
        "# Save the reduced DataFrame to a new CSV file\n",
        "df.to_csv('neg_reduced.csv', index=False, encoding='utf-8')\n",
        "print(\"Successfully created neg_reduced.csv with 1000 random samples.\")\n"
      ]
    },
    {
      "cell_type": "code",
      "execution_count": null,
      "metadata": {
        "colab": {
          "base_uri": "https://localhost:8080/"
        },
        "id": "oSYQ3TYOCT2U",
        "outputId": "fc972b2c-d1dc-48f4-b63b-d8db71ff3382"
      },
      "outputs": [
        {
          "output_type": "stream",
          "name": "stdout",
          "text": [
            "Successfully combined and saved to 'TextClass.csv'\n"
          ]
        }
      ],
      "source": [
        "# prompt: รวมไฟล์ textclass, pos.csv, neu.csv\n",
        "\n",
        "import pandas as pd\n",
        "\n",
        "# Assuming 'textclass.csv', 'pos.csv', and 'neu.csv' are in the current directory\n",
        "try:\n",
        "    df_textclass = pd.read_csv('TextClass.csv')\n",
        "    df_pos = pd.read_csv('pos_reduced.csv')\n",
        "    df_neu = pd.read_csv('neu_reduced.csv')\n",
        "    df_neg = pd.read_csv('neg_reduced.csv')\n",
        "\n",
        "    # Concatenate the DataFrames\n",
        "    combined_df = pd.concat([df_textclass, df_pos, df_neu, df_neg], ignore_index=True)\n",
        "\n",
        "    # Save the combined DataFrame to a new CSV file\n",
        "    combined_df.to_csv('TextClass.csv', index=False, encoding='utf-8')\n",
        "    print(\"Successfully combined and saved to 'TextClass.csv'\")\n",
        "\n",
        "except FileNotFoundError:\n",
        "    print(\"Error: One or more of the required CSV files not found.\")\n",
        "except Exception as e:\n",
        "    print(f\"An error occurred: {e}\")\n"
      ]
    },
    {
      "cell_type": "code",
      "execution_count": null,
      "metadata": {
        "colab": {
          "base_uri": "https://localhost:8080/",
          "height": 424
        },
        "id": "lZ3GsnUGTSaQ",
        "outputId": "6fd965ae-6b33-47aa-91da-4a414bc2dc6e"
      },
      "outputs": [
        {
          "output_type": "execute_result",
          "data": {
            "text/plain": [
              "                                                 review             label\n",
              "0                   พี่เบ๊บบี้จัดฟันแล้วน่ารักสุดๆๆๆๆๆๆ  คำทั่วไปทางการชม\n",
              "1                            พี่เบ๊บบี้จัดฟันน่ารักมากก  คำทั่วไปทางการชม\n",
              "2                                          พี่สวยมากค่ะ  คำทั่วไปทางการชม\n",
              "3                                     งามมากกลูกสาวววว💛  คำทั่วไปทางการชม\n",
              "4                                              คนสวย🥰🥰🥰  คำทั่วไปทางการชม\n",
              "...                                                 ...               ...\n",
              "2295  กูเขดและเน๊าะ โปรวันพุธ มะเติมของเลยต้องรอคิวเ...        คำหยาบปกติ\n",
              "2296    โห้ ไม่เคยเจอฟอร์จูน crv pajero ตามหลังเลยหรา\\n        คำหยาบปกติ\n",
              "2297  Mazda cx-3 ใหม่ คือไม่ไหวอะ เห็นละทนไม่ได้ สวย...        คำหยาบปกติ\n",
              "2298                        แดกเบียร์เหล้ากูเอียนสปาย\\n        คำหยาบปกติ\n",
              "2299  มีที่เขียนคิ้วอันไหนดีกว่าของอีทูดี้บ้าง คือน้...        คำหยาบปกติ\n",
              "\n",
              "[2300 rows x 2 columns]"
            ],
            "text/html": [
              "\n",
              "  <div id=\"df-2d1aff0b-afda-4f87-91e9-f248eeef75a4\" class=\"colab-df-container\">\n",
              "    <div>\n",
              "<style scoped>\n",
              "    .dataframe tbody tr th:only-of-type {\n",
              "        vertical-align: middle;\n",
              "    }\n",
              "\n",
              "    .dataframe tbody tr th {\n",
              "        vertical-align: top;\n",
              "    }\n",
              "\n",
              "    .dataframe thead th {\n",
              "        text-align: right;\n",
              "    }\n",
              "</style>\n",
              "<table border=\"1\" class=\"dataframe\">\n",
              "  <thead>\n",
              "    <tr style=\"text-align: right;\">\n",
              "      <th></th>\n",
              "      <th>review</th>\n",
              "      <th>label</th>\n",
              "    </tr>\n",
              "  </thead>\n",
              "  <tbody>\n",
              "    <tr>\n",
              "      <th>0</th>\n",
              "      <td>พี่เบ๊บบี้จัดฟันแล้วน่ารักสุดๆๆๆๆๆๆ</td>\n",
              "      <td>คำทั่วไปทางการชม</td>\n",
              "    </tr>\n",
              "    <tr>\n",
              "      <th>1</th>\n",
              "      <td>พี่เบ๊บบี้จัดฟันน่ารักมากก</td>\n",
              "      <td>คำทั่วไปทางการชม</td>\n",
              "    </tr>\n",
              "    <tr>\n",
              "      <th>2</th>\n",
              "      <td>พี่สวยมากค่ะ</td>\n",
              "      <td>คำทั่วไปทางการชม</td>\n",
              "    </tr>\n",
              "    <tr>\n",
              "      <th>3</th>\n",
              "      <td>งามมากกลูกสาวววว💛</td>\n",
              "      <td>คำทั่วไปทางการชม</td>\n",
              "    </tr>\n",
              "    <tr>\n",
              "      <th>4</th>\n",
              "      <td>คนสวย🥰🥰🥰</td>\n",
              "      <td>คำทั่วไปทางการชม</td>\n",
              "    </tr>\n",
              "    <tr>\n",
              "      <th>...</th>\n",
              "      <td>...</td>\n",
              "      <td>...</td>\n",
              "    </tr>\n",
              "    <tr>\n",
              "      <th>2295</th>\n",
              "      <td>กูเขดและเน๊าะ โปรวันพุธ มะเติมของเลยต้องรอคิวเ...</td>\n",
              "      <td>คำหยาบปกติ</td>\n",
              "    </tr>\n",
              "    <tr>\n",
              "      <th>2296</th>\n",
              "      <td>โห้ ไม่เคยเจอฟอร์จูน crv pajero ตามหลังเลยหรา\\n</td>\n",
              "      <td>คำหยาบปกติ</td>\n",
              "    </tr>\n",
              "    <tr>\n",
              "      <th>2297</th>\n",
              "      <td>Mazda cx-3 ใหม่ คือไม่ไหวอะ เห็นละทนไม่ได้ สวย...</td>\n",
              "      <td>คำหยาบปกติ</td>\n",
              "    </tr>\n",
              "    <tr>\n",
              "      <th>2298</th>\n",
              "      <td>แดกเบียร์เหล้ากูเอียนสปาย\\n</td>\n",
              "      <td>คำหยาบปกติ</td>\n",
              "    </tr>\n",
              "    <tr>\n",
              "      <th>2299</th>\n",
              "      <td>มีที่เขียนคิ้วอันไหนดีกว่าของอีทูดี้บ้าง คือน้...</td>\n",
              "      <td>คำหยาบปกติ</td>\n",
              "    </tr>\n",
              "  </tbody>\n",
              "</table>\n",
              "<p>2300 rows × 2 columns</p>\n",
              "</div>\n",
              "    <div class=\"colab-df-buttons\">\n",
              "\n",
              "  <div class=\"colab-df-container\">\n",
              "    <button class=\"colab-df-convert\" onclick=\"convertToInteractive('df-2d1aff0b-afda-4f87-91e9-f248eeef75a4')\"\n",
              "            title=\"Convert this dataframe to an interactive table.\"\n",
              "            style=\"display:none;\">\n",
              "\n",
              "  <svg xmlns=\"http://www.w3.org/2000/svg\" height=\"24px\" viewBox=\"0 -960 960 960\">\n",
              "    <path d=\"M120-120v-720h720v720H120Zm60-500h600v-160H180v160Zm220 220h160v-160H400v160Zm0 220h160v-160H400v160ZM180-400h160v-160H180v160Zm440 0h160v-160H620v160ZM180-180h160v-160H180v160Zm440 0h160v-160H620v160Z\"/>\n",
              "  </svg>\n",
              "    </button>\n",
              "\n",
              "  <style>\n",
              "    .colab-df-container {\n",
              "      display:flex;\n",
              "      gap: 12px;\n",
              "    }\n",
              "\n",
              "    .colab-df-convert {\n",
              "      background-color: #E8F0FE;\n",
              "      border: none;\n",
              "      border-radius: 50%;\n",
              "      cursor: pointer;\n",
              "      display: none;\n",
              "      fill: #1967D2;\n",
              "      height: 32px;\n",
              "      padding: 0 0 0 0;\n",
              "      width: 32px;\n",
              "    }\n",
              "\n",
              "    .colab-df-convert:hover {\n",
              "      background-color: #E2EBFA;\n",
              "      box-shadow: 0px 1px 2px rgba(60, 64, 67, 0.3), 0px 1px 3px 1px rgba(60, 64, 67, 0.15);\n",
              "      fill: #174EA6;\n",
              "    }\n",
              "\n",
              "    .colab-df-buttons div {\n",
              "      margin-bottom: 4px;\n",
              "    }\n",
              "\n",
              "    [theme=dark] .colab-df-convert {\n",
              "      background-color: #3B4455;\n",
              "      fill: #D2E3FC;\n",
              "    }\n",
              "\n",
              "    [theme=dark] .colab-df-convert:hover {\n",
              "      background-color: #434B5C;\n",
              "      box-shadow: 0px 1px 3px 1px rgba(0, 0, 0, 0.15);\n",
              "      filter: drop-shadow(0px 1px 2px rgba(0, 0, 0, 0.3));\n",
              "      fill: #FFFFFF;\n",
              "    }\n",
              "  </style>\n",
              "\n",
              "    <script>\n",
              "      const buttonEl =\n",
              "        document.querySelector('#df-2d1aff0b-afda-4f87-91e9-f248eeef75a4 button.colab-df-convert');\n",
              "      buttonEl.style.display =\n",
              "        google.colab.kernel.accessAllowed ? 'block' : 'none';\n",
              "\n",
              "      async function convertToInteractive(key) {\n",
              "        const element = document.querySelector('#df-2d1aff0b-afda-4f87-91e9-f248eeef75a4');\n",
              "        const dataTable =\n",
              "          await google.colab.kernel.invokeFunction('convertToInteractive',\n",
              "                                                    [key], {});\n",
              "        if (!dataTable) return;\n",
              "\n",
              "        const docLinkHtml = 'Like what you see? Visit the ' +\n",
              "          '<a target=\"_blank\" href=https://colab.research.google.com/notebooks/data_table.ipynb>data table notebook</a>'\n",
              "          + ' to learn more about interactive tables.';\n",
              "        element.innerHTML = '';\n",
              "        dataTable['output_type'] = 'display_data';\n",
              "        await google.colab.output.renderOutput(dataTable, element);\n",
              "        const docLink = document.createElement('div');\n",
              "        docLink.innerHTML = docLinkHtml;\n",
              "        element.appendChild(docLink);\n",
              "      }\n",
              "    </script>\n",
              "  </div>\n",
              "\n",
              "\n",
              "<div id=\"df-29906031-cc2c-4b1d-a6ed-1e815cfcd496\">\n",
              "  <button class=\"colab-df-quickchart\" onclick=\"quickchart('df-29906031-cc2c-4b1d-a6ed-1e815cfcd496')\"\n",
              "            title=\"Suggest charts\"\n",
              "            style=\"display:none;\">\n",
              "\n",
              "<svg xmlns=\"http://www.w3.org/2000/svg\" height=\"24px\"viewBox=\"0 0 24 24\"\n",
              "     width=\"24px\">\n",
              "    <g>\n",
              "        <path d=\"M19 3H5c-1.1 0-2 .9-2 2v14c0 1.1.9 2 2 2h14c1.1 0 2-.9 2-2V5c0-1.1-.9-2-2-2zM9 17H7v-7h2v7zm4 0h-2V7h2v10zm4 0h-2v-4h2v4z\"/>\n",
              "    </g>\n",
              "</svg>\n",
              "  </button>\n",
              "\n",
              "<style>\n",
              "  .colab-df-quickchart {\n",
              "      --bg-color: #E8F0FE;\n",
              "      --fill-color: #1967D2;\n",
              "      --hover-bg-color: #E2EBFA;\n",
              "      --hover-fill-color: #174EA6;\n",
              "      --disabled-fill-color: #AAA;\n",
              "      --disabled-bg-color: #DDD;\n",
              "  }\n",
              "\n",
              "  [theme=dark] .colab-df-quickchart {\n",
              "      --bg-color: #3B4455;\n",
              "      --fill-color: #D2E3FC;\n",
              "      --hover-bg-color: #434B5C;\n",
              "      --hover-fill-color: #FFFFFF;\n",
              "      --disabled-bg-color: #3B4455;\n",
              "      --disabled-fill-color: #666;\n",
              "  }\n",
              "\n",
              "  .colab-df-quickchart {\n",
              "    background-color: var(--bg-color);\n",
              "    border: none;\n",
              "    border-radius: 50%;\n",
              "    cursor: pointer;\n",
              "    display: none;\n",
              "    fill: var(--fill-color);\n",
              "    height: 32px;\n",
              "    padding: 0;\n",
              "    width: 32px;\n",
              "  }\n",
              "\n",
              "  .colab-df-quickchart:hover {\n",
              "    background-color: var(--hover-bg-color);\n",
              "    box-shadow: 0 1px 2px rgba(60, 64, 67, 0.3), 0 1px 3px 1px rgba(60, 64, 67, 0.15);\n",
              "    fill: var(--button-hover-fill-color);\n",
              "  }\n",
              "\n",
              "  .colab-df-quickchart-complete:disabled,\n",
              "  .colab-df-quickchart-complete:disabled:hover {\n",
              "    background-color: var(--disabled-bg-color);\n",
              "    fill: var(--disabled-fill-color);\n",
              "    box-shadow: none;\n",
              "  }\n",
              "\n",
              "  .colab-df-spinner {\n",
              "    border: 2px solid var(--fill-color);\n",
              "    border-color: transparent;\n",
              "    border-bottom-color: var(--fill-color);\n",
              "    animation:\n",
              "      spin 1s steps(1) infinite;\n",
              "  }\n",
              "\n",
              "  @keyframes spin {\n",
              "    0% {\n",
              "      border-color: transparent;\n",
              "      border-bottom-color: var(--fill-color);\n",
              "      border-left-color: var(--fill-color);\n",
              "    }\n",
              "    20% {\n",
              "      border-color: transparent;\n",
              "      border-left-color: var(--fill-color);\n",
              "      border-top-color: var(--fill-color);\n",
              "    }\n",
              "    30% {\n",
              "      border-color: transparent;\n",
              "      border-left-color: var(--fill-color);\n",
              "      border-top-color: var(--fill-color);\n",
              "      border-right-color: var(--fill-color);\n",
              "    }\n",
              "    40% {\n",
              "      border-color: transparent;\n",
              "      border-right-color: var(--fill-color);\n",
              "      border-top-color: var(--fill-color);\n",
              "    }\n",
              "    60% {\n",
              "      border-color: transparent;\n",
              "      border-right-color: var(--fill-color);\n",
              "    }\n",
              "    80% {\n",
              "      border-color: transparent;\n",
              "      border-right-color: var(--fill-color);\n",
              "      border-bottom-color: var(--fill-color);\n",
              "    }\n",
              "    90% {\n",
              "      border-color: transparent;\n",
              "      border-bottom-color: var(--fill-color);\n",
              "    }\n",
              "  }\n",
              "</style>\n",
              "\n",
              "  <script>\n",
              "    async function quickchart(key) {\n",
              "      const quickchartButtonEl =\n",
              "        document.querySelector('#' + key + ' button');\n",
              "      quickchartButtonEl.disabled = true;  // To prevent multiple clicks.\n",
              "      quickchartButtonEl.classList.add('colab-df-spinner');\n",
              "      try {\n",
              "        const charts = await google.colab.kernel.invokeFunction(\n",
              "            'suggestCharts', [key], {});\n",
              "      } catch (error) {\n",
              "        console.error('Error during call to suggestCharts:', error);\n",
              "      }\n",
              "      quickchartButtonEl.classList.remove('colab-df-spinner');\n",
              "      quickchartButtonEl.classList.add('colab-df-quickchart-complete');\n",
              "    }\n",
              "    (() => {\n",
              "      let quickchartButtonEl =\n",
              "        document.querySelector('#df-29906031-cc2c-4b1d-a6ed-1e815cfcd496 button');\n",
              "      quickchartButtonEl.style.display =\n",
              "        google.colab.kernel.accessAllowed ? 'block' : 'none';\n",
              "    })();\n",
              "  </script>\n",
              "</div>\n",
              "\n",
              "  <div id=\"id_31385dd5-606e-4c1c-a0e5-7bc50ca6f3ba\">\n",
              "    <style>\n",
              "      .colab-df-generate {\n",
              "        background-color: #E8F0FE;\n",
              "        border: none;\n",
              "        border-radius: 50%;\n",
              "        cursor: pointer;\n",
              "        display: none;\n",
              "        fill: #1967D2;\n",
              "        height: 32px;\n",
              "        padding: 0 0 0 0;\n",
              "        width: 32px;\n",
              "      }\n",
              "\n",
              "      .colab-df-generate:hover {\n",
              "        background-color: #E2EBFA;\n",
              "        box-shadow: 0px 1px 2px rgba(60, 64, 67, 0.3), 0px 1px 3px 1px rgba(60, 64, 67, 0.15);\n",
              "        fill: #174EA6;\n",
              "      }\n",
              "\n",
              "      [theme=dark] .colab-df-generate {\n",
              "        background-color: #3B4455;\n",
              "        fill: #D2E3FC;\n",
              "      }\n",
              "\n",
              "      [theme=dark] .colab-df-generate:hover {\n",
              "        background-color: #434B5C;\n",
              "        box-shadow: 0px 1px 3px 1px rgba(0, 0, 0, 0.15);\n",
              "        filter: drop-shadow(0px 1px 2px rgba(0, 0, 0, 0.3));\n",
              "        fill: #FFFFFF;\n",
              "      }\n",
              "    </style>\n",
              "    <button class=\"colab-df-generate\" onclick=\"generateWithVariable('data')\"\n",
              "            title=\"Generate code using this dataframe.\"\n",
              "            style=\"display:none;\">\n",
              "\n",
              "  <svg xmlns=\"http://www.w3.org/2000/svg\" height=\"24px\"viewBox=\"0 0 24 24\"\n",
              "       width=\"24px\">\n",
              "    <path d=\"M7,19H8.4L18.45,9,17,7.55,7,17.6ZM5,21V16.75L18.45,3.32a2,2,0,0,1,2.83,0l1.4,1.43a1.91,1.91,0,0,1,.58,1.4,1.91,1.91,0,0,1-.58,1.4L9.25,21ZM18.45,9,17,7.55Zm-12,3A5.31,5.31,0,0,0,4.9,8.1,5.31,5.31,0,0,0,1,6.5,5.31,5.31,0,0,0,4.9,4.9,5.31,5.31,0,0,0,6.5,1,5.31,5.31,0,0,0,8.1,4.9,5.31,5.31,0,0,0,12,6.5,5.46,5.46,0,0,0,6.5,12Z\"/>\n",
              "  </svg>\n",
              "    </button>\n",
              "    <script>\n",
              "      (() => {\n",
              "      const buttonEl =\n",
              "        document.querySelector('#id_31385dd5-606e-4c1c-a0e5-7bc50ca6f3ba button.colab-df-generate');\n",
              "      buttonEl.style.display =\n",
              "        google.colab.kernel.accessAllowed ? 'block' : 'none';\n",
              "\n",
              "      buttonEl.onclick = () => {\n",
              "        google.colab.notebook.generateWithVariable('data');\n",
              "      }\n",
              "      })();\n",
              "    </script>\n",
              "  </div>\n",
              "\n",
              "    </div>\n",
              "  </div>\n"
            ],
            "application/vnd.google.colaboratory.intrinsic+json": {
              "type": "dataframe",
              "variable_name": "data",
              "summary": "{\n  \"name\": \"data\",\n  \"rows\": 2300,\n  \"fields\": [\n    {\n      \"column\": \"review\",\n      \"properties\": {\n        \"dtype\": \"string\",\n        \"num_unique_values\": 2264,\n        \"samples\": [\n          \"\\u0e08\\u0e4b\\u0e32\\u0e25\\u0e39\\u0e01\\u0e2d\\u0e22\\u0e32\\u0e01\\u0e2b\\u0e25\\u0e32\\u0e27\\u0e40\\u0e2d\\u0e2d\\n\",\n          \"\\u0e2a\\u0e2b\\u0e20\\u0e32\\u0e1e\\u0e41\\u0e23\\u0e07\\u0e07\\u0e32\\u0e19 \\u0e40\\u0e2b\\u0e2d\\u0e30\\u0e46\",\n          \"\\u0e08\\u0e49\\u0e2d\\u0e19\\u0e19\\u0e46\"\n        ],\n        \"semantic_type\": \"\",\n        \"description\": \"\"\n      }\n    },\n    {\n      \"column\": \"label\",\n      \"properties\": {\n        \"dtype\": \"category\",\n        \"num_unique_values\": 6,\n        \"samples\": [\n          \"\\u0e04\\u0e33\\u0e17\\u0e31\\u0e48\\u0e27\\u0e44\\u0e1b\\u0e17\\u0e32\\u0e07\\u0e01\\u0e32\\u0e23\\u0e0a\\u0e21\",\n          \"\\u0e04\\u0e33\\u0e17\\u0e31\\u0e48\\u0e27\\u0e44\\u0e1b\",\n          \"\\u0e40\\u0e2b\\u0e22\\u0e35\\u0e22\\u0e14\\u0e40\\u0e1e\\u0e28\"\n        ],\n        \"semantic_type\": \"\",\n        \"description\": \"\"\n      }\n    }\n  ]\n}"
            }
          },
          "metadata": {},
          "execution_count": 10
        }
      ],
      "source": [
        "import pandas as pd\n",
        "\n",
        "# ตั้งค่า path ของไฟล์\n",
        "file_path = '/content/TextClass.csv'\n",
        "\n",
        "\n",
        "# โหลดไฟล์ CSV เป็น DataFrame\n",
        "data = pd.read_csv(file_path)\n",
        "\n",
        "\n",
        "#เปลี่ยนชื่อ labels\n",
        "new_labels = {\n",
        "    0: \"คำทั่วไปทางการชม\",\n",
        "    1: \"คำทั่วไป\",\n",
        "    2: \"คำหยาบปกติ\",\n",
        "    3: \"เหยียดรูปร่าง\",\n",
        "    4: \"เหยียดชนชั้น\",\n",
        "    5: \"เหยียดเพศ\"\n",
        "}\n",
        "\n",
        "data['label'] = data['label'].map(new_labels)\n",
        "data = data.rename(columns={'text': 'review'})\n",
        "# แสดงข้อมูล\n",
        "data"
      ]
    },
    {
      "cell_type": "code",
      "execution_count": null,
      "metadata": {
        "colab": {
          "base_uri": "https://localhost:8080/",
          "height": 424
        },
        "id": "53uA1NzdFWDB",
        "outputId": "a88b583a-f3e8-45b5-f4a0-312eee236bd0"
      },
      "outputs": [
        {
          "output_type": "execute_result",
          "data": {
            "text/plain": [
              "                                                 review             label\n",
              "0                   พี่เบ๊บบี้จัดฟันแล้วน่ารักสุดๆๆๆๆๆๆ  คำทั่วไปทางการชม\n",
              "1                            พี่เบ๊บบี้จัดฟันน่ารักมากก  คำทั่วไปทางการชม\n",
              "2                                          พี่สวยมากค่ะ  คำทั่วไปทางการชม\n",
              "3                                     งามมากกลูกสาวววว💛  คำทั่วไปทางการชม\n",
              "4                                              คนสวย🥰🥰🥰  คำทั่วไปทางการชม\n",
              "...                                                 ...               ...\n",
              "2295  กูเขดและเน๊าะ โปรวันพุธ มะเติมของเลยต้องรอคิวเ...        คำหยาบปกติ\n",
              "2296    โห้ ไม่เคยเจอฟอร์จูน crv pajero ตามหลังเลยหรา\\n        คำหยาบปกติ\n",
              "2297  Mazda cx-3 ใหม่ คือไม่ไหวอะ เห็นละทนไม่ได้ สวย...        คำหยาบปกติ\n",
              "2298                        แดกเบียร์เหล้ากูเอียนสปาย\\n        คำหยาบปกติ\n",
              "2299  มีที่เขียนคิ้วอันไหนดีกว่าของอีทูดี้บ้าง คือน้...        คำหยาบปกติ\n",
              "\n",
              "[2300 rows x 2 columns]"
            ],
            "text/html": [
              "\n",
              "  <div id=\"df-3e551f40-6a14-4baf-9d49-4bf55498f05d\" class=\"colab-df-container\">\n",
              "    <div>\n",
              "<style scoped>\n",
              "    .dataframe tbody tr th:only-of-type {\n",
              "        vertical-align: middle;\n",
              "    }\n",
              "\n",
              "    .dataframe tbody tr th {\n",
              "        vertical-align: top;\n",
              "    }\n",
              "\n",
              "    .dataframe thead th {\n",
              "        text-align: right;\n",
              "    }\n",
              "</style>\n",
              "<table border=\"1\" class=\"dataframe\">\n",
              "  <thead>\n",
              "    <tr style=\"text-align: right;\">\n",
              "      <th></th>\n",
              "      <th>review</th>\n",
              "      <th>label</th>\n",
              "    </tr>\n",
              "  </thead>\n",
              "  <tbody>\n",
              "    <tr>\n",
              "      <th>0</th>\n",
              "      <td>พี่เบ๊บบี้จัดฟันแล้วน่ารักสุดๆๆๆๆๆๆ</td>\n",
              "      <td>คำทั่วไปทางการชม</td>\n",
              "    </tr>\n",
              "    <tr>\n",
              "      <th>1</th>\n",
              "      <td>พี่เบ๊บบี้จัดฟันน่ารักมากก</td>\n",
              "      <td>คำทั่วไปทางการชม</td>\n",
              "    </tr>\n",
              "    <tr>\n",
              "      <th>2</th>\n",
              "      <td>พี่สวยมากค่ะ</td>\n",
              "      <td>คำทั่วไปทางการชม</td>\n",
              "    </tr>\n",
              "    <tr>\n",
              "      <th>3</th>\n",
              "      <td>งามมากกลูกสาวววว💛</td>\n",
              "      <td>คำทั่วไปทางการชม</td>\n",
              "    </tr>\n",
              "    <tr>\n",
              "      <th>4</th>\n",
              "      <td>คนสวย🥰🥰🥰</td>\n",
              "      <td>คำทั่วไปทางการชม</td>\n",
              "    </tr>\n",
              "    <tr>\n",
              "      <th>...</th>\n",
              "      <td>...</td>\n",
              "      <td>...</td>\n",
              "    </tr>\n",
              "    <tr>\n",
              "      <th>2295</th>\n",
              "      <td>กูเขดและเน๊าะ โปรวันพุธ มะเติมของเลยต้องรอคิวเ...</td>\n",
              "      <td>คำหยาบปกติ</td>\n",
              "    </tr>\n",
              "    <tr>\n",
              "      <th>2296</th>\n",
              "      <td>โห้ ไม่เคยเจอฟอร์จูน crv pajero ตามหลังเลยหรา\\n</td>\n",
              "      <td>คำหยาบปกติ</td>\n",
              "    </tr>\n",
              "    <tr>\n",
              "      <th>2297</th>\n",
              "      <td>Mazda cx-3 ใหม่ คือไม่ไหวอะ เห็นละทนไม่ได้ สวย...</td>\n",
              "      <td>คำหยาบปกติ</td>\n",
              "    </tr>\n",
              "    <tr>\n",
              "      <th>2298</th>\n",
              "      <td>แดกเบียร์เหล้ากูเอียนสปาย\\n</td>\n",
              "      <td>คำหยาบปกติ</td>\n",
              "    </tr>\n",
              "    <tr>\n",
              "      <th>2299</th>\n",
              "      <td>มีที่เขียนคิ้วอันไหนดีกว่าของอีทูดี้บ้าง คือน้...</td>\n",
              "      <td>คำหยาบปกติ</td>\n",
              "    </tr>\n",
              "  </tbody>\n",
              "</table>\n",
              "<p>2300 rows × 2 columns</p>\n",
              "</div>\n",
              "    <div class=\"colab-df-buttons\">\n",
              "\n",
              "  <div class=\"colab-df-container\">\n",
              "    <button class=\"colab-df-convert\" onclick=\"convertToInteractive('df-3e551f40-6a14-4baf-9d49-4bf55498f05d')\"\n",
              "            title=\"Convert this dataframe to an interactive table.\"\n",
              "            style=\"display:none;\">\n",
              "\n",
              "  <svg xmlns=\"http://www.w3.org/2000/svg\" height=\"24px\" viewBox=\"0 -960 960 960\">\n",
              "    <path d=\"M120-120v-720h720v720H120Zm60-500h600v-160H180v160Zm220 220h160v-160H400v160Zm0 220h160v-160H400v160ZM180-400h160v-160H180v160Zm440 0h160v-160H620v160ZM180-180h160v-160H180v160Zm440 0h160v-160H620v160Z\"/>\n",
              "  </svg>\n",
              "    </button>\n",
              "\n",
              "  <style>\n",
              "    .colab-df-container {\n",
              "      display:flex;\n",
              "      gap: 12px;\n",
              "    }\n",
              "\n",
              "    .colab-df-convert {\n",
              "      background-color: #E8F0FE;\n",
              "      border: none;\n",
              "      border-radius: 50%;\n",
              "      cursor: pointer;\n",
              "      display: none;\n",
              "      fill: #1967D2;\n",
              "      height: 32px;\n",
              "      padding: 0 0 0 0;\n",
              "      width: 32px;\n",
              "    }\n",
              "\n",
              "    .colab-df-convert:hover {\n",
              "      background-color: #E2EBFA;\n",
              "      box-shadow: 0px 1px 2px rgba(60, 64, 67, 0.3), 0px 1px 3px 1px rgba(60, 64, 67, 0.15);\n",
              "      fill: #174EA6;\n",
              "    }\n",
              "\n",
              "    .colab-df-buttons div {\n",
              "      margin-bottom: 4px;\n",
              "    }\n",
              "\n",
              "    [theme=dark] .colab-df-convert {\n",
              "      background-color: #3B4455;\n",
              "      fill: #D2E3FC;\n",
              "    }\n",
              "\n",
              "    [theme=dark] .colab-df-convert:hover {\n",
              "      background-color: #434B5C;\n",
              "      box-shadow: 0px 1px 3px 1px rgba(0, 0, 0, 0.15);\n",
              "      filter: drop-shadow(0px 1px 2px rgba(0, 0, 0, 0.3));\n",
              "      fill: #FFFFFF;\n",
              "    }\n",
              "  </style>\n",
              "\n",
              "    <script>\n",
              "      const buttonEl =\n",
              "        document.querySelector('#df-3e551f40-6a14-4baf-9d49-4bf55498f05d button.colab-df-convert');\n",
              "      buttonEl.style.display =\n",
              "        google.colab.kernel.accessAllowed ? 'block' : 'none';\n",
              "\n",
              "      async function convertToInteractive(key) {\n",
              "        const element = document.querySelector('#df-3e551f40-6a14-4baf-9d49-4bf55498f05d');\n",
              "        const dataTable =\n",
              "          await google.colab.kernel.invokeFunction('convertToInteractive',\n",
              "                                                    [key], {});\n",
              "        if (!dataTable) return;\n",
              "\n",
              "        const docLinkHtml = 'Like what you see? Visit the ' +\n",
              "          '<a target=\"_blank\" href=https://colab.research.google.com/notebooks/data_table.ipynb>data table notebook</a>'\n",
              "          + ' to learn more about interactive tables.';\n",
              "        element.innerHTML = '';\n",
              "        dataTable['output_type'] = 'display_data';\n",
              "        await google.colab.output.renderOutput(dataTable, element);\n",
              "        const docLink = document.createElement('div');\n",
              "        docLink.innerHTML = docLinkHtml;\n",
              "        element.appendChild(docLink);\n",
              "      }\n",
              "    </script>\n",
              "  </div>\n",
              "\n",
              "\n",
              "<div id=\"df-d4c88bb9-681f-4617-aea3-a697f24affc1\">\n",
              "  <button class=\"colab-df-quickchart\" onclick=\"quickchart('df-d4c88bb9-681f-4617-aea3-a697f24affc1')\"\n",
              "            title=\"Suggest charts\"\n",
              "            style=\"display:none;\">\n",
              "\n",
              "<svg xmlns=\"http://www.w3.org/2000/svg\" height=\"24px\"viewBox=\"0 0 24 24\"\n",
              "     width=\"24px\">\n",
              "    <g>\n",
              "        <path d=\"M19 3H5c-1.1 0-2 .9-2 2v14c0 1.1.9 2 2 2h14c1.1 0 2-.9 2-2V5c0-1.1-.9-2-2-2zM9 17H7v-7h2v7zm4 0h-2V7h2v10zm4 0h-2v-4h2v4z\"/>\n",
              "    </g>\n",
              "</svg>\n",
              "  </button>\n",
              "\n",
              "<style>\n",
              "  .colab-df-quickchart {\n",
              "      --bg-color: #E8F0FE;\n",
              "      --fill-color: #1967D2;\n",
              "      --hover-bg-color: #E2EBFA;\n",
              "      --hover-fill-color: #174EA6;\n",
              "      --disabled-fill-color: #AAA;\n",
              "      --disabled-bg-color: #DDD;\n",
              "  }\n",
              "\n",
              "  [theme=dark] .colab-df-quickchart {\n",
              "      --bg-color: #3B4455;\n",
              "      --fill-color: #D2E3FC;\n",
              "      --hover-bg-color: #434B5C;\n",
              "      --hover-fill-color: #FFFFFF;\n",
              "      --disabled-bg-color: #3B4455;\n",
              "      --disabled-fill-color: #666;\n",
              "  }\n",
              "\n",
              "  .colab-df-quickchart {\n",
              "    background-color: var(--bg-color);\n",
              "    border: none;\n",
              "    border-radius: 50%;\n",
              "    cursor: pointer;\n",
              "    display: none;\n",
              "    fill: var(--fill-color);\n",
              "    height: 32px;\n",
              "    padding: 0;\n",
              "    width: 32px;\n",
              "  }\n",
              "\n",
              "  .colab-df-quickchart:hover {\n",
              "    background-color: var(--hover-bg-color);\n",
              "    box-shadow: 0 1px 2px rgba(60, 64, 67, 0.3), 0 1px 3px 1px rgba(60, 64, 67, 0.15);\n",
              "    fill: var(--button-hover-fill-color);\n",
              "  }\n",
              "\n",
              "  .colab-df-quickchart-complete:disabled,\n",
              "  .colab-df-quickchart-complete:disabled:hover {\n",
              "    background-color: var(--disabled-bg-color);\n",
              "    fill: var(--disabled-fill-color);\n",
              "    box-shadow: none;\n",
              "  }\n",
              "\n",
              "  .colab-df-spinner {\n",
              "    border: 2px solid var(--fill-color);\n",
              "    border-color: transparent;\n",
              "    border-bottom-color: var(--fill-color);\n",
              "    animation:\n",
              "      spin 1s steps(1) infinite;\n",
              "  }\n",
              "\n",
              "  @keyframes spin {\n",
              "    0% {\n",
              "      border-color: transparent;\n",
              "      border-bottom-color: var(--fill-color);\n",
              "      border-left-color: var(--fill-color);\n",
              "    }\n",
              "    20% {\n",
              "      border-color: transparent;\n",
              "      border-left-color: var(--fill-color);\n",
              "      border-top-color: var(--fill-color);\n",
              "    }\n",
              "    30% {\n",
              "      border-color: transparent;\n",
              "      border-left-color: var(--fill-color);\n",
              "      border-top-color: var(--fill-color);\n",
              "      border-right-color: var(--fill-color);\n",
              "    }\n",
              "    40% {\n",
              "      border-color: transparent;\n",
              "      border-right-color: var(--fill-color);\n",
              "      border-top-color: var(--fill-color);\n",
              "    }\n",
              "    60% {\n",
              "      border-color: transparent;\n",
              "      border-right-color: var(--fill-color);\n",
              "    }\n",
              "    80% {\n",
              "      border-color: transparent;\n",
              "      border-right-color: var(--fill-color);\n",
              "      border-bottom-color: var(--fill-color);\n",
              "    }\n",
              "    90% {\n",
              "      border-color: transparent;\n",
              "      border-bottom-color: var(--fill-color);\n",
              "    }\n",
              "  }\n",
              "</style>\n",
              "\n",
              "  <script>\n",
              "    async function quickchart(key) {\n",
              "      const quickchartButtonEl =\n",
              "        document.querySelector('#' + key + ' button');\n",
              "      quickchartButtonEl.disabled = true;  // To prevent multiple clicks.\n",
              "      quickchartButtonEl.classList.add('colab-df-spinner');\n",
              "      try {\n",
              "        const charts = await google.colab.kernel.invokeFunction(\n",
              "            'suggestCharts', [key], {});\n",
              "      } catch (error) {\n",
              "        console.error('Error during call to suggestCharts:', error);\n",
              "      }\n",
              "      quickchartButtonEl.classList.remove('colab-df-spinner');\n",
              "      quickchartButtonEl.classList.add('colab-df-quickchart-complete');\n",
              "    }\n",
              "    (() => {\n",
              "      let quickchartButtonEl =\n",
              "        document.querySelector('#df-d4c88bb9-681f-4617-aea3-a697f24affc1 button');\n",
              "      quickchartButtonEl.style.display =\n",
              "        google.colab.kernel.accessAllowed ? 'block' : 'none';\n",
              "    })();\n",
              "  </script>\n",
              "</div>\n",
              "\n",
              "  <div id=\"id_de443fd5-45bd-4578-8f06-27d3cc8af0b2\">\n",
              "    <style>\n",
              "      .colab-df-generate {\n",
              "        background-color: #E8F0FE;\n",
              "        border: none;\n",
              "        border-radius: 50%;\n",
              "        cursor: pointer;\n",
              "        display: none;\n",
              "        fill: #1967D2;\n",
              "        height: 32px;\n",
              "        padding: 0 0 0 0;\n",
              "        width: 32px;\n",
              "      }\n",
              "\n",
              "      .colab-df-generate:hover {\n",
              "        background-color: #E2EBFA;\n",
              "        box-shadow: 0px 1px 2px rgba(60, 64, 67, 0.3), 0px 1px 3px 1px rgba(60, 64, 67, 0.15);\n",
              "        fill: #174EA6;\n",
              "      }\n",
              "\n",
              "      [theme=dark] .colab-df-generate {\n",
              "        background-color: #3B4455;\n",
              "        fill: #D2E3FC;\n",
              "      }\n",
              "\n",
              "      [theme=dark] .colab-df-generate:hover {\n",
              "        background-color: #434B5C;\n",
              "        box-shadow: 0px 1px 3px 1px rgba(0, 0, 0, 0.15);\n",
              "        filter: drop-shadow(0px 1px 2px rgba(0, 0, 0, 0.3));\n",
              "        fill: #FFFFFF;\n",
              "      }\n",
              "    </style>\n",
              "    <button class=\"colab-df-generate\" onclick=\"generateWithVariable('data')\"\n",
              "            title=\"Generate code using this dataframe.\"\n",
              "            style=\"display:none;\">\n",
              "\n",
              "  <svg xmlns=\"http://www.w3.org/2000/svg\" height=\"24px\"viewBox=\"0 0 24 24\"\n",
              "       width=\"24px\">\n",
              "    <path d=\"M7,19H8.4L18.45,9,17,7.55,7,17.6ZM5,21V16.75L18.45,3.32a2,2,0,0,1,2.83,0l1.4,1.43a1.91,1.91,0,0,1,.58,1.4,1.91,1.91,0,0,1-.58,1.4L9.25,21ZM18.45,9,17,7.55Zm-12,3A5.31,5.31,0,0,0,4.9,8.1,5.31,5.31,0,0,0,1,6.5,5.31,5.31,0,0,0,4.9,4.9,5.31,5.31,0,0,0,6.5,1,5.31,5.31,0,0,0,8.1,4.9,5.31,5.31,0,0,0,12,6.5,5.46,5.46,0,0,0,6.5,12Z\"/>\n",
              "  </svg>\n",
              "    </button>\n",
              "    <script>\n",
              "      (() => {\n",
              "      const buttonEl =\n",
              "        document.querySelector('#id_de443fd5-45bd-4578-8f06-27d3cc8af0b2 button.colab-df-generate');\n",
              "      buttonEl.style.display =\n",
              "        google.colab.kernel.accessAllowed ? 'block' : 'none';\n",
              "\n",
              "      buttonEl.onclick = () => {\n",
              "        google.colab.notebook.generateWithVariable('data');\n",
              "      }\n",
              "      })();\n",
              "    </script>\n",
              "  </div>\n",
              "\n",
              "    </div>\n",
              "  </div>\n"
            ],
            "application/vnd.google.colaboratory.intrinsic+json": {
              "type": "dataframe",
              "variable_name": "data",
              "summary": "{\n  \"name\": \"data\",\n  \"rows\": 2300,\n  \"fields\": [\n    {\n      \"column\": \"review\",\n      \"properties\": {\n        \"dtype\": \"string\",\n        \"num_unique_values\": 2264,\n        \"samples\": [\n          \"\\u0e08\\u0e4b\\u0e32\\u0e25\\u0e39\\u0e01\\u0e2d\\u0e22\\u0e32\\u0e01\\u0e2b\\u0e25\\u0e32\\u0e27\\u0e40\\u0e2d\\u0e2d\\n\",\n          \"\\u0e2a\\u0e2b\\u0e20\\u0e32\\u0e1e\\u0e41\\u0e23\\u0e07\\u0e07\\u0e32\\u0e19 \\u0e40\\u0e2b\\u0e2d\\u0e30\\u0e46\",\n          \"\\u0e08\\u0e49\\u0e2d\\u0e19\\u0e19\\u0e46\"\n        ],\n        \"semantic_type\": \"\",\n        \"description\": \"\"\n      }\n    },\n    {\n      \"column\": \"label\",\n      \"properties\": {\n        \"dtype\": \"category\",\n        \"num_unique_values\": 6,\n        \"samples\": [\n          \"\\u0e04\\u0e33\\u0e17\\u0e31\\u0e48\\u0e27\\u0e44\\u0e1b\\u0e17\\u0e32\\u0e07\\u0e01\\u0e32\\u0e23\\u0e0a\\u0e21\",\n          \"\\u0e04\\u0e33\\u0e17\\u0e31\\u0e48\\u0e27\\u0e44\\u0e1b\",\n          \"\\u0e40\\u0e2b\\u0e22\\u0e35\\u0e22\\u0e14\\u0e40\\u0e1e\\u0e28\"\n        ],\n        \"semantic_type\": \"\",\n        \"description\": \"\"\n      }\n    }\n  ]\n}"
            }
          },
          "metadata": {},
          "execution_count": 11
        }
      ],
      "source": [
        "data"
      ]
    },
    {
      "cell_type": "code",
      "execution_count": null,
      "metadata": {
        "id": "3H_SV03bi6nf"
      },
      "outputs": [],
      "source": [
        "# # Training configurations\n",
        "# SEED = 1234\n",
        "# TRAIN = False\n",
        "# BATCH_SIZE = 64\n",
        "# N_EPOCHS = 200\n",
        "\n",
        "# # Architecture\n",
        "# EMBEDDING_DIM = 128\n",
        "# HIDDEN_DIM = 512\n",
        "# OUTPUT_DIM = 6\n",
        "# N_LAYERS = 2\n",
        "# BIDIRECTIONAL = True\n",
        "# DROPOUT = 0.25"
      ]
    },
    {
      "cell_type": "code",
      "execution_count": null,
      "metadata": {
        "id": "jlamzkyAH8XS"
      },
      "outputs": [],
      "source": [
        "import pandas as pd\n",
        "import re\n",
        "import pandas as pd\n",
        "import numpy as np\n",
        "from sklearn.preprocessing import LabelEncoder\n",
        "from sklearn.model_selection import train_test_split\n",
        "from sklearn.metrics import classification_report\n",
        "from sklearn.metrics import accuracy_score\n",
        "import math\n",
        "import nltk\n",
        "from sklearn.feature_extraction.text import CountVectorizer\n",
        "from collections import defaultdict"
      ]
    },
    {
      "cell_type": "code",
      "execution_count": null,
      "metadata": {
        "id": "Q48fq11tlcRv"
      },
      "outputs": [],
      "source": [
        "# import torch\n",
        "# import torch.nn as nn\n",
        "# import torch.optim as optim\n",
        "# # Bert model and its tokenizer\n",
        "# # Text data\n",
        "# from torchtext import data, datasets\n",
        "# # Numerical computation\n",
        "# import numpy as np\n",
        "# # standard library\n",
        "# import random\n",
        "# import time\n",
        "# # Configuration\n",
        "# #from config import *\n",
        "\n",
        "# # Set random seed for reproducible experiments\n",
        "# random.seed(SEED)\n",
        "# np.random.seed(SEED)\n",
        "# torch.manual_seed(SEED)\n",
        "# torch.backends.cudnn.deterministic = True\n",
        "\n",
        "# import pandas as pd\n",
        "# import re\n",
        "# import pandas as pd\n",
        "# import numpy as np\n",
        "# from sklearn.preprocessing import LabelEncoder\n",
        "# from sklearn.model_selection import train_test_split\n",
        "# from sklearn.metrics import classification_report\n",
        "# from sklearn.metrics import accuracy_score\n",
        "# import math\n",
        "# import nltk\n",
        "# from sklearn.feature_extraction.text import CountVectorizer\n",
        "# from collections import defaultdict"
      ]
    },
    {
      "cell_type": "code",
      "execution_count": null,
      "metadata": {
        "colab": {
          "base_uri": "https://localhost:8080/"
        },
        "id": "16iJg8ocB_l0",
        "outputId": "6cfca5e4-7a6c-4c0f-bc13-b7147814d6cd"
      },
      "outputs": [
        {
          "output_type": "stream",
          "name": "stdout",
          "text": [
            "                                                 review             label  \\\n",
            "1169                                                ต่ำ      เหยียดชนชั้น   \n",
            "2242  ตอนนี้คือเบลนด์ เบลนด์คือเคยแดกแล้วแพ้นอนบนพื้...        คำหยาบปกติ   \n",
            "1559                                    แถวพระราม2ค่ะ\\n  คำทั่วไปทางการชม   \n",
            "549              มีแต่ของแดกลดเว้ยตูนเว้ย อัญชลี วงษ์ดี          คำทั่วไป   \n",
            "770   ข้างซองบุหรี่เขียนยาดองศพตัวเท่าควาย เสือกขายไ...        คำหยาบปกติ   \n",
            "\n",
            "                                         cleaned_review  \n",
            "1169                                                ต่ำ  \n",
            "2242  ตอนนี้ คือ เบลนด์ เบลนด์ คือ เคย แดก แล้ว แพ้ ...  \n",
            "1559                                     แถว พระราม ค่ะ  \n",
            "549      มี แต่ ของ แด กลด เว้ย ตูน เว้ย อัญชลี วงษ์ ดี  \n",
            "770   ข้าง ซองบุหรี่ เขียน ยาดอง ศพ ตัว เท่า ควาย เส...  \n"
          ]
        }
      ],
      "source": [
        "import re\n",
        "import pandas as pd\n",
        "from pythainlp.tokenize import word_tokenize\n",
        "from pythainlp.corpus.common import thai_stopwords\n",
        "\n",
        "# โหลดข้อมูล (ต้องระบุไฟล์ CSV ที่ใช้)\n",
        "\n",
        "def deEmojify(text):\n",
        "    \"\"\"ลบ Emoji ออกจากข้อความ\"\"\"\n",
        "    emoji_pattern = re.compile(\"[\"\n",
        "                               u\"\\U0001F600-\\U0001F64F\"  # emoticons\n",
        "                               u\"\\U0001F300-\\U0001F5FF\"  # symbols & pictographs\n",
        "                               u\"\\U0001F680-\\U0001F6FF\"  # transport & map symbols\n",
        "                               u\"\\U0001F700-\\U0001F77F\"  # alchemical symbols\n",
        "                               u\"\\U0001F780-\\U0001F7FF\"  # Geometric Shapes Extended\n",
        "                               u\"\\U0001F800-\\U0001F8FF\"  # Supplemental Arrows-C\n",
        "                               u\"\\U0001F900-\\U0001F9FF\"  # Supplemental Symbols and Pictographs\n",
        "                               u\"\\U0001FA00-\\U0001FA6F\"  # Chess Symbols, Symbols for Legacy Computing, etc.\n",
        "                               u\"\\U0001FA70-\\U0001FAFF\"  # Symbols and Pictographs Extended-A\n",
        "                               u\"\\U00002702-\\U000027B0\"  # Dingbats\n",
        "                               u\"\\U000024C2-\\U0001F251\"\n",
        "                               \"]+\", flags=re.UNICODE)\n",
        "    return emoji_pattern.sub(r'', text)\n",
        "\n",
        "def remove_stop_word(text):\n",
        "    \"\"\"ลบ stop words ออกจากข้อความ\"\"\"\n",
        "    stop_words = set(thai_stopwords())\n",
        "    return ' '.join([word for word in text.split() if word not in stop_words])\n",
        "\n",
        "def thai_clean_text(text):\n",
        "    \"\"\"ทำความสะอาดข้อความภาษาไทย\"\"\"\n",
        "    if not isinstance(text, str) or text.strip() == \"\":\n",
        "        return \"\"\n",
        "\n",
        "    # ลบ Emoji\n",
        "    text = deEmojify(text)\n",
        "\n",
        "    # ลบอักขระพิเศษ\n",
        "    text = re.sub(r'[.!@#%^&*()<>?/|}{~:]', '', text)\n",
        "\n",
        "    # ลบตัวเลข\n",
        "    text = re.sub(r'\\d+', '', text)\n",
        "\n",
        "    # ตัดคำ (Tokenization)\n",
        "    words = word_tokenize(text, keep_whitespace=False)\n",
        "\n",
        "    # ลบตัวอักษรที่ซ้ำกันเกิน 3 ตัว เช่น \"มากกกก\" → \"มากกก\"\n",
        "    words = [re.sub(r'([ก-ฮ])\\1{3,}', r'\\1\\1\\1', word) for word in words]\n",
        "\n",
        "    # ลบสระที่ซ้ำกันทิ้ง\n",
        "    words = [re.sub(r'([ะ-ูเ-ไ็-๋ๆ])\\1{2,}', r'\\1\\1', word) for word in words]\n",
        "\n",
        "    # ลบคำที่เหลือแต่ตัวอักษรซ้ำ เช่น \"นนนนนนน\" → ลบทิ้ง\n",
        "    words = [word for word in words if not re.fullmatch(r'([ก-ฮ])\\1+', word)]\n",
        "\n",
        "    # ลบ stop words\n",
        "    # words = [word for word in words if word not in thai_stopwords()]\n",
        "\n",
        "    return ' '.join(words).strip()\n",
        "\n",
        "# ทำความสะอาดคอลัมน์ review\n",
        "data['cleaned_review'] = data['review'].astype(str).apply(thai_clean_text)\n",
        "\n",
        "# บันทึกผลลัพธ์\n",
        "data.to_csv('cleaned_data.csv', index=False, encoding='utf-8')\n",
        "\n",
        "# แสดงตัวอย่างข้อมูลที่ทำความสะอาดแล้ว\n",
        "print(data.sample(5))\n"
      ]
    },
    {
      "cell_type": "code",
      "execution_count": null,
      "metadata": {
        "colab": {
          "base_uri": "https://localhost:8080/",
          "height": 424
        },
        "id": "w8osJbDkAE1O",
        "outputId": "3746d5ac-a8ce-4599-a40f-d663050cd467"
      },
      "outputs": [
        {
          "output_type": "execute_result",
          "data": {
            "text/plain": [
              "                                                 review             label  \\\n",
              "0                   พี่เบ๊บบี้จัดฟันแล้วน่ารักสุดๆๆๆๆๆๆ  คำทั่วไปทางการชม   \n",
              "1                            พี่เบ๊บบี้จัดฟันน่ารักมากก  คำทั่วไปทางการชม   \n",
              "2                                          พี่สวยมากค่ะ  คำทั่วไปทางการชม   \n",
              "3                                     งามมากกลูกสาวววว💛  คำทั่วไปทางการชม   \n",
              "4                                              คนสวย🥰🥰🥰  คำทั่วไปทางการชม   \n",
              "...                                                 ...               ...   \n",
              "2295  กูเขดและเน๊าะ โปรวันพุธ มะเติมของเลยต้องรอคิวเ...        คำหยาบปกติ   \n",
              "2296    โห้ ไม่เคยเจอฟอร์จูน crv pajero ตามหลังเลยหรา\\n        คำหยาบปกติ   \n",
              "2297  Mazda cx-3 ใหม่ คือไม่ไหวอะ เห็นละทนไม่ได้ สวย...        คำหยาบปกติ   \n",
              "2298                        แดกเบียร์เหล้ากูเอียนสปาย\\n        คำหยาบปกติ   \n",
              "2299  มีที่เขียนคิ้วอันไหนดีกว่าของอีทูดี้บ้าง คือน้...        คำหยาบปกติ   \n",
              "\n",
              "                                         cleaned_review  \n",
              "0               พี่ เบ๊บ บี้ จัด ฟัน แล้ว น่ารัก สุด ๆๆ  \n",
              "1                        พี่ เบ๊บ บี้ จัด ฟัน น่ารัก มา  \n",
              "2                                       พี่ สวย มาก ค่ะ  \n",
              "3                                         งาม มา ลูกสาว  \n",
              "4                                                 คนสวย  \n",
              "...                                                 ...  \n",
              "2295  กู เข ด และ เน๊าะ โปร วัน พุธ มะ เติม ของ เลย ...  \n",
              "2296  โห้ ไม่ เคย เจอ ฟอร์จูน crv pajero ตามหลัง เลย...  \n",
              "2297  Mazda cx- ใหม่ คือ ไม่ ไหว อะ เห็น ละ ทน ไม่ ไ...  \n",
              "2298                     แดก เบียร์ เหล้า กู เอียน สปาย  \n",
              "2299  มี ที่ เขียน คิ้ว อัน ไหน ดีกว่า ของ อี ทู ดี้...  \n",
              "\n",
              "[2300 rows x 3 columns]"
            ],
            "text/html": [
              "\n",
              "  <div id=\"df-819fa556-95db-4032-9edc-89b6fb65c94f\" class=\"colab-df-container\">\n",
              "    <div>\n",
              "<style scoped>\n",
              "    .dataframe tbody tr th:only-of-type {\n",
              "        vertical-align: middle;\n",
              "    }\n",
              "\n",
              "    .dataframe tbody tr th {\n",
              "        vertical-align: top;\n",
              "    }\n",
              "\n",
              "    .dataframe thead th {\n",
              "        text-align: right;\n",
              "    }\n",
              "</style>\n",
              "<table border=\"1\" class=\"dataframe\">\n",
              "  <thead>\n",
              "    <tr style=\"text-align: right;\">\n",
              "      <th></th>\n",
              "      <th>review</th>\n",
              "      <th>label</th>\n",
              "      <th>cleaned_review</th>\n",
              "    </tr>\n",
              "  </thead>\n",
              "  <tbody>\n",
              "    <tr>\n",
              "      <th>0</th>\n",
              "      <td>พี่เบ๊บบี้จัดฟันแล้วน่ารักสุดๆๆๆๆๆๆ</td>\n",
              "      <td>คำทั่วไปทางการชม</td>\n",
              "      <td>พี่ เบ๊บ บี้ จัด ฟัน แล้ว น่ารัก สุด ๆๆ</td>\n",
              "    </tr>\n",
              "    <tr>\n",
              "      <th>1</th>\n",
              "      <td>พี่เบ๊บบี้จัดฟันน่ารักมากก</td>\n",
              "      <td>คำทั่วไปทางการชม</td>\n",
              "      <td>พี่ เบ๊บ บี้ จัด ฟัน น่ารัก มา</td>\n",
              "    </tr>\n",
              "    <tr>\n",
              "      <th>2</th>\n",
              "      <td>พี่สวยมากค่ะ</td>\n",
              "      <td>คำทั่วไปทางการชม</td>\n",
              "      <td>พี่ สวย มาก ค่ะ</td>\n",
              "    </tr>\n",
              "    <tr>\n",
              "      <th>3</th>\n",
              "      <td>งามมากกลูกสาวววว💛</td>\n",
              "      <td>คำทั่วไปทางการชม</td>\n",
              "      <td>งาม มา ลูกสาว</td>\n",
              "    </tr>\n",
              "    <tr>\n",
              "      <th>4</th>\n",
              "      <td>คนสวย🥰🥰🥰</td>\n",
              "      <td>คำทั่วไปทางการชม</td>\n",
              "      <td>คนสวย</td>\n",
              "    </tr>\n",
              "    <tr>\n",
              "      <th>...</th>\n",
              "      <td>...</td>\n",
              "      <td>...</td>\n",
              "      <td>...</td>\n",
              "    </tr>\n",
              "    <tr>\n",
              "      <th>2295</th>\n",
              "      <td>กูเขดและเน๊าะ โปรวันพุธ มะเติมของเลยต้องรอคิวเ...</td>\n",
              "      <td>คำหยาบปกติ</td>\n",
              "      <td>กู เข ด และ เน๊าะ โปร วัน พุธ มะ เติม ของ เลย ...</td>\n",
              "    </tr>\n",
              "    <tr>\n",
              "      <th>2296</th>\n",
              "      <td>โห้ ไม่เคยเจอฟอร์จูน crv pajero ตามหลังเลยหรา\\n</td>\n",
              "      <td>คำหยาบปกติ</td>\n",
              "      <td>โห้ ไม่ เคย เจอ ฟอร์จูน crv pajero ตามหลัง เลย...</td>\n",
              "    </tr>\n",
              "    <tr>\n",
              "      <th>2297</th>\n",
              "      <td>Mazda cx-3 ใหม่ คือไม่ไหวอะ เห็นละทนไม่ได้ สวย...</td>\n",
              "      <td>คำหยาบปกติ</td>\n",
              "      <td>Mazda cx- ใหม่ คือ ไม่ ไหว อะ เห็น ละ ทน ไม่ ไ...</td>\n",
              "    </tr>\n",
              "    <tr>\n",
              "      <th>2298</th>\n",
              "      <td>แดกเบียร์เหล้ากูเอียนสปาย\\n</td>\n",
              "      <td>คำหยาบปกติ</td>\n",
              "      <td>แดก เบียร์ เหล้า กู เอียน สปาย</td>\n",
              "    </tr>\n",
              "    <tr>\n",
              "      <th>2299</th>\n",
              "      <td>มีที่เขียนคิ้วอันไหนดีกว่าของอีทูดี้บ้าง คือน้...</td>\n",
              "      <td>คำหยาบปกติ</td>\n",
              "      <td>มี ที่ เขียน คิ้ว อัน ไหน ดีกว่า ของ อี ทู ดี้...</td>\n",
              "    </tr>\n",
              "  </tbody>\n",
              "</table>\n",
              "<p>2300 rows × 3 columns</p>\n",
              "</div>\n",
              "    <div class=\"colab-df-buttons\">\n",
              "\n",
              "  <div class=\"colab-df-container\">\n",
              "    <button class=\"colab-df-convert\" onclick=\"convertToInteractive('df-819fa556-95db-4032-9edc-89b6fb65c94f')\"\n",
              "            title=\"Convert this dataframe to an interactive table.\"\n",
              "            style=\"display:none;\">\n",
              "\n",
              "  <svg xmlns=\"http://www.w3.org/2000/svg\" height=\"24px\" viewBox=\"0 -960 960 960\">\n",
              "    <path d=\"M120-120v-720h720v720H120Zm60-500h600v-160H180v160Zm220 220h160v-160H400v160Zm0 220h160v-160H400v160ZM180-400h160v-160H180v160Zm440 0h160v-160H620v160ZM180-180h160v-160H180v160Zm440 0h160v-160H620v160Z\"/>\n",
              "  </svg>\n",
              "    </button>\n",
              "\n",
              "  <style>\n",
              "    .colab-df-container {\n",
              "      display:flex;\n",
              "      gap: 12px;\n",
              "    }\n",
              "\n",
              "    .colab-df-convert {\n",
              "      background-color: #E8F0FE;\n",
              "      border: none;\n",
              "      border-radius: 50%;\n",
              "      cursor: pointer;\n",
              "      display: none;\n",
              "      fill: #1967D2;\n",
              "      height: 32px;\n",
              "      padding: 0 0 0 0;\n",
              "      width: 32px;\n",
              "    }\n",
              "\n",
              "    .colab-df-convert:hover {\n",
              "      background-color: #E2EBFA;\n",
              "      box-shadow: 0px 1px 2px rgba(60, 64, 67, 0.3), 0px 1px 3px 1px rgba(60, 64, 67, 0.15);\n",
              "      fill: #174EA6;\n",
              "    }\n",
              "\n",
              "    .colab-df-buttons div {\n",
              "      margin-bottom: 4px;\n",
              "    }\n",
              "\n",
              "    [theme=dark] .colab-df-convert {\n",
              "      background-color: #3B4455;\n",
              "      fill: #D2E3FC;\n",
              "    }\n",
              "\n",
              "    [theme=dark] .colab-df-convert:hover {\n",
              "      background-color: #434B5C;\n",
              "      box-shadow: 0px 1px 3px 1px rgba(0, 0, 0, 0.15);\n",
              "      filter: drop-shadow(0px 1px 2px rgba(0, 0, 0, 0.3));\n",
              "      fill: #FFFFFF;\n",
              "    }\n",
              "  </style>\n",
              "\n",
              "    <script>\n",
              "      const buttonEl =\n",
              "        document.querySelector('#df-819fa556-95db-4032-9edc-89b6fb65c94f button.colab-df-convert');\n",
              "      buttonEl.style.display =\n",
              "        google.colab.kernel.accessAllowed ? 'block' : 'none';\n",
              "\n",
              "      async function convertToInteractive(key) {\n",
              "        const element = document.querySelector('#df-819fa556-95db-4032-9edc-89b6fb65c94f');\n",
              "        const dataTable =\n",
              "          await google.colab.kernel.invokeFunction('convertToInteractive',\n",
              "                                                    [key], {});\n",
              "        if (!dataTable) return;\n",
              "\n",
              "        const docLinkHtml = 'Like what you see? Visit the ' +\n",
              "          '<a target=\"_blank\" href=https://colab.research.google.com/notebooks/data_table.ipynb>data table notebook</a>'\n",
              "          + ' to learn more about interactive tables.';\n",
              "        element.innerHTML = '';\n",
              "        dataTable['output_type'] = 'display_data';\n",
              "        await google.colab.output.renderOutput(dataTable, element);\n",
              "        const docLink = document.createElement('div');\n",
              "        docLink.innerHTML = docLinkHtml;\n",
              "        element.appendChild(docLink);\n",
              "      }\n",
              "    </script>\n",
              "  </div>\n",
              "\n",
              "\n",
              "<div id=\"df-14c7d469-3707-49cd-b922-1415f1a3cd9d\">\n",
              "  <button class=\"colab-df-quickchart\" onclick=\"quickchart('df-14c7d469-3707-49cd-b922-1415f1a3cd9d')\"\n",
              "            title=\"Suggest charts\"\n",
              "            style=\"display:none;\">\n",
              "\n",
              "<svg xmlns=\"http://www.w3.org/2000/svg\" height=\"24px\"viewBox=\"0 0 24 24\"\n",
              "     width=\"24px\">\n",
              "    <g>\n",
              "        <path d=\"M19 3H5c-1.1 0-2 .9-2 2v14c0 1.1.9 2 2 2h14c1.1 0 2-.9 2-2V5c0-1.1-.9-2-2-2zM9 17H7v-7h2v7zm4 0h-2V7h2v10zm4 0h-2v-4h2v4z\"/>\n",
              "    </g>\n",
              "</svg>\n",
              "  </button>\n",
              "\n",
              "<style>\n",
              "  .colab-df-quickchart {\n",
              "      --bg-color: #E8F0FE;\n",
              "      --fill-color: #1967D2;\n",
              "      --hover-bg-color: #E2EBFA;\n",
              "      --hover-fill-color: #174EA6;\n",
              "      --disabled-fill-color: #AAA;\n",
              "      --disabled-bg-color: #DDD;\n",
              "  }\n",
              "\n",
              "  [theme=dark] .colab-df-quickchart {\n",
              "      --bg-color: #3B4455;\n",
              "      --fill-color: #D2E3FC;\n",
              "      --hover-bg-color: #434B5C;\n",
              "      --hover-fill-color: #FFFFFF;\n",
              "      --disabled-bg-color: #3B4455;\n",
              "      --disabled-fill-color: #666;\n",
              "  }\n",
              "\n",
              "  .colab-df-quickchart {\n",
              "    background-color: var(--bg-color);\n",
              "    border: none;\n",
              "    border-radius: 50%;\n",
              "    cursor: pointer;\n",
              "    display: none;\n",
              "    fill: var(--fill-color);\n",
              "    height: 32px;\n",
              "    padding: 0;\n",
              "    width: 32px;\n",
              "  }\n",
              "\n",
              "  .colab-df-quickchart:hover {\n",
              "    background-color: var(--hover-bg-color);\n",
              "    box-shadow: 0 1px 2px rgba(60, 64, 67, 0.3), 0 1px 3px 1px rgba(60, 64, 67, 0.15);\n",
              "    fill: var(--button-hover-fill-color);\n",
              "  }\n",
              "\n",
              "  .colab-df-quickchart-complete:disabled,\n",
              "  .colab-df-quickchart-complete:disabled:hover {\n",
              "    background-color: var(--disabled-bg-color);\n",
              "    fill: var(--disabled-fill-color);\n",
              "    box-shadow: none;\n",
              "  }\n",
              "\n",
              "  .colab-df-spinner {\n",
              "    border: 2px solid var(--fill-color);\n",
              "    border-color: transparent;\n",
              "    border-bottom-color: var(--fill-color);\n",
              "    animation:\n",
              "      spin 1s steps(1) infinite;\n",
              "  }\n",
              "\n",
              "  @keyframes spin {\n",
              "    0% {\n",
              "      border-color: transparent;\n",
              "      border-bottom-color: var(--fill-color);\n",
              "      border-left-color: var(--fill-color);\n",
              "    }\n",
              "    20% {\n",
              "      border-color: transparent;\n",
              "      border-left-color: var(--fill-color);\n",
              "      border-top-color: var(--fill-color);\n",
              "    }\n",
              "    30% {\n",
              "      border-color: transparent;\n",
              "      border-left-color: var(--fill-color);\n",
              "      border-top-color: var(--fill-color);\n",
              "      border-right-color: var(--fill-color);\n",
              "    }\n",
              "    40% {\n",
              "      border-color: transparent;\n",
              "      border-right-color: var(--fill-color);\n",
              "      border-top-color: var(--fill-color);\n",
              "    }\n",
              "    60% {\n",
              "      border-color: transparent;\n",
              "      border-right-color: var(--fill-color);\n",
              "    }\n",
              "    80% {\n",
              "      border-color: transparent;\n",
              "      border-right-color: var(--fill-color);\n",
              "      border-bottom-color: var(--fill-color);\n",
              "    }\n",
              "    90% {\n",
              "      border-color: transparent;\n",
              "      border-bottom-color: var(--fill-color);\n",
              "    }\n",
              "  }\n",
              "</style>\n",
              "\n",
              "  <script>\n",
              "    async function quickchart(key) {\n",
              "      const quickchartButtonEl =\n",
              "        document.querySelector('#' + key + ' button');\n",
              "      quickchartButtonEl.disabled = true;  // To prevent multiple clicks.\n",
              "      quickchartButtonEl.classList.add('colab-df-spinner');\n",
              "      try {\n",
              "        const charts = await google.colab.kernel.invokeFunction(\n",
              "            'suggestCharts', [key], {});\n",
              "      } catch (error) {\n",
              "        console.error('Error during call to suggestCharts:', error);\n",
              "      }\n",
              "      quickchartButtonEl.classList.remove('colab-df-spinner');\n",
              "      quickchartButtonEl.classList.add('colab-df-quickchart-complete');\n",
              "    }\n",
              "    (() => {\n",
              "      let quickchartButtonEl =\n",
              "        document.querySelector('#df-14c7d469-3707-49cd-b922-1415f1a3cd9d button');\n",
              "      quickchartButtonEl.style.display =\n",
              "        google.colab.kernel.accessAllowed ? 'block' : 'none';\n",
              "    })();\n",
              "  </script>\n",
              "</div>\n",
              "\n",
              "  <div id=\"id_9165fd19-b970-43db-84e1-09ccb5715504\">\n",
              "    <style>\n",
              "      .colab-df-generate {\n",
              "        background-color: #E8F0FE;\n",
              "        border: none;\n",
              "        border-radius: 50%;\n",
              "        cursor: pointer;\n",
              "        display: none;\n",
              "        fill: #1967D2;\n",
              "        height: 32px;\n",
              "        padding: 0 0 0 0;\n",
              "        width: 32px;\n",
              "      }\n",
              "\n",
              "      .colab-df-generate:hover {\n",
              "        background-color: #E2EBFA;\n",
              "        box-shadow: 0px 1px 2px rgba(60, 64, 67, 0.3), 0px 1px 3px 1px rgba(60, 64, 67, 0.15);\n",
              "        fill: #174EA6;\n",
              "      }\n",
              "\n",
              "      [theme=dark] .colab-df-generate {\n",
              "        background-color: #3B4455;\n",
              "        fill: #D2E3FC;\n",
              "      }\n",
              "\n",
              "      [theme=dark] .colab-df-generate:hover {\n",
              "        background-color: #434B5C;\n",
              "        box-shadow: 0px 1px 3px 1px rgba(0, 0, 0, 0.15);\n",
              "        filter: drop-shadow(0px 1px 2px rgba(0, 0, 0, 0.3));\n",
              "        fill: #FFFFFF;\n",
              "      }\n",
              "    </style>\n",
              "    <button class=\"colab-df-generate\" onclick=\"generateWithVariable('data')\"\n",
              "            title=\"Generate code using this dataframe.\"\n",
              "            style=\"display:none;\">\n",
              "\n",
              "  <svg xmlns=\"http://www.w3.org/2000/svg\" height=\"24px\"viewBox=\"0 0 24 24\"\n",
              "       width=\"24px\">\n",
              "    <path d=\"M7,19H8.4L18.45,9,17,7.55,7,17.6ZM5,21V16.75L18.45,3.32a2,2,0,0,1,2.83,0l1.4,1.43a1.91,1.91,0,0,1,.58,1.4,1.91,1.91,0,0,1-.58,1.4L9.25,21ZM18.45,9,17,7.55Zm-12,3A5.31,5.31,0,0,0,4.9,8.1,5.31,5.31,0,0,0,1,6.5,5.31,5.31,0,0,0,4.9,4.9,5.31,5.31,0,0,0,6.5,1,5.31,5.31,0,0,0,8.1,4.9,5.31,5.31,0,0,0,12,6.5,5.46,5.46,0,0,0,6.5,12Z\"/>\n",
              "  </svg>\n",
              "    </button>\n",
              "    <script>\n",
              "      (() => {\n",
              "      const buttonEl =\n",
              "        document.querySelector('#id_9165fd19-b970-43db-84e1-09ccb5715504 button.colab-df-generate');\n",
              "      buttonEl.style.display =\n",
              "        google.colab.kernel.accessAllowed ? 'block' : 'none';\n",
              "\n",
              "      buttonEl.onclick = () => {\n",
              "        google.colab.notebook.generateWithVariable('data');\n",
              "      }\n",
              "      })();\n",
              "    </script>\n",
              "  </div>\n",
              "\n",
              "    </div>\n",
              "  </div>\n"
            ],
            "application/vnd.google.colaboratory.intrinsic+json": {
              "type": "dataframe",
              "variable_name": "data",
              "summary": "{\n  \"name\": \"data\",\n  \"rows\": 2300,\n  \"fields\": [\n    {\n      \"column\": \"review\",\n      \"properties\": {\n        \"dtype\": \"string\",\n        \"num_unique_values\": 2264,\n        \"samples\": [\n          \"\\u0e08\\u0e4b\\u0e32\\u0e25\\u0e39\\u0e01\\u0e2d\\u0e22\\u0e32\\u0e01\\u0e2b\\u0e25\\u0e32\\u0e27\\u0e40\\u0e2d\\u0e2d\\n\",\n          \"\\u0e2a\\u0e2b\\u0e20\\u0e32\\u0e1e\\u0e41\\u0e23\\u0e07\\u0e07\\u0e32\\u0e19 \\u0e40\\u0e2b\\u0e2d\\u0e30\\u0e46\",\n          \"\\u0e08\\u0e49\\u0e2d\\u0e19\\u0e19\\u0e46\"\n        ],\n        \"semantic_type\": \"\",\n        \"description\": \"\"\n      }\n    },\n    {\n      \"column\": \"label\",\n      \"properties\": {\n        \"dtype\": \"category\",\n        \"num_unique_values\": 6,\n        \"samples\": [\n          \"\\u0e04\\u0e33\\u0e17\\u0e31\\u0e48\\u0e27\\u0e44\\u0e1b\\u0e17\\u0e32\\u0e07\\u0e01\\u0e32\\u0e23\\u0e0a\\u0e21\",\n          \"\\u0e04\\u0e33\\u0e17\\u0e31\\u0e48\\u0e27\\u0e44\\u0e1b\",\n          \"\\u0e40\\u0e2b\\u0e22\\u0e35\\u0e22\\u0e14\\u0e40\\u0e1e\\u0e28\"\n        ],\n        \"semantic_type\": \"\",\n        \"description\": \"\"\n      }\n    },\n    {\n      \"column\": \"cleaned_review\",\n      \"properties\": {\n        \"dtype\": \"string\",\n        \"num_unique_values\": 2235,\n        \"samples\": [\n          \"\\u0e44\\u0e21\\u0e48 \\u0e21\\u0e35 \\u0e1b\\u0e49\\u0e32\\u0e22 \\u0e1a\\u0e2d\\u0e01 \\u0e2b\\u0e19\\u0e49\\u0e32 \\u0e17\\u0e32\\u0e07\\u0e40\\u0e02\\u0e49\\u0e32 \\u0e0b\\u0e2d\\u0e22 \\u0e2b\\u0e49\\u0e2d\\u0e07\\u0e19\\u0e49\\u0e33 \\u0e44\\u0e21\\u0e48\\u0e04\\u0e48\\u0e2d\\u0e22 \\u0e2a\\u0e30\\u0e2d\\u0e32\\u0e14 \\u0e40\\u0e04\\u0e23\\u0e37\\u0e48\\u0e2d\\u0e07\\u0e17\\u0e33\\u0e19\\u0e49\\u0e33\\u0e2d\\u0e38\\u0e48\\u0e19 \\u0e19\\u0e49\\u0e33 \\u0e44\\u0e21\\u0e48 \\u0e2d\\u0e38\\u0e48\\u0e19 \\u0e04\\u0e32\\u0e14 \\u0e27\\u0e48\\u0e32 \\u0e40\\u0e1e\\u0e23\\u0e32\\u0e30 \\u0e2d\\u0e32\\u0e01\\u0e32\\u0e28 \\u0e04\\u0e48\\u0e2d\\u0e19\\u0e02\\u0e49\\u0e32\\u0e07 \\u0e40\\u0e22\\u0e47\\u0e19 \\u0e1e\\u0e31\\u0e01 \\u0e0a\\u0e48\\u0e27\\u0e07 \\u0e1b\\u0e35\\u0e43\\u0e2b\\u0e21\\u0e48\",\n          \"\\u0e1a\\u0e38\\u0e2b\\u0e23\\u0e35\\u0e48 \\u0e44\\u0e1f\\u0e1f\\u0e49\\u0e32 \\u0e1b\\u0e23\\u0e30\\u0e01\\u0e31\\u0e19\\u0e15\\u0e31\\u0e27 \\u0e41\\u0e2a\\u0e19 \\u0e19\\u0e36\\u0e07 \\u0e1e\\u0e23\\u0e30\\u0e40\\u0e08\\u0e49\\u0e32\",\n          \"\\u0e1a\\u0e49\\u0e32\\u0e19\\u0e19\\u0e2d\\u0e01 \\u0e40\\u0e02\\u0e49\\u0e32 \\u0e01\\u0e23\\u0e38\\u0e07 \\u0e2b\\u0e23\\u0e2d \\u0e40\\u0e18\\u0e2d\"\n        ],\n        \"semantic_type\": \"\",\n        \"description\": \"\"\n      }\n    }\n  ]\n}"
            }
          },
          "metadata": {},
          "execution_count": 16
        }
      ],
      "source": [
        "data"
      ]
    },
    {
      "cell_type": "code",
      "execution_count": null,
      "metadata": {
        "id": "oqyiO5dUMznR"
      },
      "outputs": [],
      "source": [
        "# Training configurations\n",
        "SEED = 1234\n",
        "TRAIN = False\n",
        "BATCH_SIZE = 32\n",
        "N_EPOCHS = 200\n",
        "\n",
        "# Architecture\n",
        "EMBEDDING_DIM = 128\n",
        "HIDDEN_DIM = 512\n",
        "OUTPUT_DIM = 6\n",
        "N_LAYERS = 2\n",
        "BIDIRECTIONAL = True\n",
        "DROPOUT = 0.25"
      ]
    },
    {
      "cell_type": "code",
      "execution_count": null,
      "metadata": {
        "id": "hvy9WRCVMuRT"
      },
      "outputs": [],
      "source": [
        "import torch\n",
        "import torch.nn as nn\n",
        "import torch.optim as optim\n",
        "# Bert model and its tokenizer\n",
        "# Text data\n",
        "from torchtext import data, datasets\n",
        "# Numerical computation\n",
        "import numpy as np\n",
        "# standard library\n",
        "import random\n",
        "import time\n",
        "# Configuration\n",
        "#from config import *\n",
        "\n",
        "# Set random seed for reproducible experiments\n",
        "random.seed(SEED)\n",
        "np.random.seed(SEED)\n",
        "torch.manual_seed(SEED)\n",
        "torch.backends.cudnn.deterministic = True\n",
        "\n",
        "import pandas as pd\n",
        "import re\n",
        "import pandas as pd\n",
        "import numpy as np\n",
        "from sklearn.preprocessing import LabelEncoder\n",
        "from sklearn.model_selection import train_test_split\n",
        "from sklearn.metrics import classification_report\n",
        "from sklearn.metrics import accuracy_score\n",
        "import math\n",
        "import nltk\n",
        "from sklearn.feature_extraction.text import CountVectorizer\n",
        "from collections import defaultdict"
      ]
    },
    {
      "cell_type": "code",
      "execution_count": null,
      "metadata": {
        "id": "fOq5qfdeCDZH"
      },
      "outputs": [],
      "source": [
        "import numpy as np\n",
        "\n",
        "import time\n",
        "import random\n",
        "import functools\n",
        "import math\n",
        "\n",
        "from torchtext.data import Field, Dataset, Example\n",
        "import pandas as pd\n",
        "\n",
        "class DataFrameDataset(Dataset):\n",
        "    \"\"\"Class for using pandas DataFrames as a datasource\"\"\"\n",
        "    def __init__(self, examples, fields, filter_pred=None):\n",
        "        \"\"\"\n",
        "        Create a dataset from a pandas dataframe of examples and Fields\n",
        "        Arguments:\n",
        "            examples pd.DataFrame: DataFrame of examples\n",
        "            fields {str: Field}: The Fields to use in this tuple. The\n",
        "                string is a field name, and the Field is the associated field.\n",
        "            filter_pred (callable or None): use only exanples for which\n",
        "                filter_pred(example) is true, or use all examples if None.\n",
        "                Default is None\n",
        "        \"\"\"\n",
        "        self.examples = examples.apply(SeriesExample.fromSeries, args=(fields,), axis=1).tolist()\n",
        "        if filter_pred is not None:\n",
        "            self.examples = filter(filter_pred, self.examples)\n",
        "        self.fields = dict(fields)\n",
        "        # Unpack field tuples\n",
        "        for n, f in list(self.fields.items()):\n",
        "            if isinstance(n, tuple):\n",
        "                self.fields.update(zip(n, f))\n",
        "                del self.fields[n]\n",
        "\n",
        "class SeriesExample(Example):\n",
        "    \"\"\"Class to convert a pandas Series to an Example\"\"\"\n",
        "\n",
        "    @classmethod\n",
        "    def fromSeries(cls, data, fields):\n",
        "        return cls.fromdict(data.to_dict(), fields)\n",
        "\n",
        "    @classmethod\n",
        "    def fromdict(cls, data, fields):\n",
        "        ex = cls()\n",
        "\n",
        "        for key, field in fields.items():\n",
        "            if key not in data:\n",
        "                raise ValueError(\"Specified key {} was not found in \"\n",
        "                \"the input data\".format(key))\n",
        "            if field is not None:\n",
        "                setattr(ex, key, field.preprocess(data[key]))\n",
        "            else:\n",
        "                setattr(ex, key, data[key])\n",
        "        return ex"
      ]
    },
    {
      "cell_type": "code",
      "execution_count": null,
      "metadata": {
        "id": "SSTWZMesCFx9"
      },
      "outputs": [],
      "source": [
        "import pandas as pd # Make sure pandas is imported\n",
        "\n",
        "# Load your data into a DataFrame, assuming your CSV file is named 'your_data.csv'\n",
        "data = pd.read_csv('cleaned_data.csv')\n",
        "\n",
        "reviews = data['cleaned_review'].values\n",
        "labels = data['label'].values\n",
        "encoder = LabelEncoder()\n",
        "encoded_labels = encoder.fit_transform(labels)\n",
        "\n",
        "train_sentences, test_sentences, train_labels, test_labels = train_test_split(reviews, encoded_labels, stratify = encoded_labels,test_size=0.2, random_state=1234)"
      ]
    },
    {
      "cell_type": "code",
      "execution_count": null,
      "metadata": {
        "colab": {
          "base_uri": "https://localhost:8080/"
        },
        "id": "2BO0be0xBhcz",
        "outputId": "504765b9-ff11-412d-8a9b-394ee5a96fd1"
      },
      "outputs": [
        {
          "output_type": "stream",
          "name": "stdout",
          "text": [
            "Train set: ['ปะ ๆ', 'ของ ที่ เดอะ ร็อค เล่น ก็ สนุก ที่ แผ่นดินไหว แล้ว มี สึนามิ', 'คน ไม่ ใช่ ก็ คง ต้อง รอ ต่อไป แอด หงส์ทอง', 'สวย จริงๆ ๆๆ คะ เด ืน ไม่ เบื่อ ผู้คน น่ารัก', 'อยาก']\n",
            "Validation set: ['ซี แก รม', 'อิ ตุ๊ด เอ้ย', 'อร่อย มาก ค่ะ คอนเฟิร์ม', 'เก็บ เงิน', 'ถึง']\n",
            "Test set: ['มัน เป็น ญาติ กับ ไอ้ ฤทธิ์ กิน เเบล็ค ใช่ มั้ย', 'ฟิน ค่ะ', 'มา ร่วมกัน ร่วม เล่น สนุก ขับ นิสสัน กัน เถอะ', 'ชี้ อ เหล้า ให้ มัน แดก อยู่ บ่อย กู รู้ แต่ เวลา มัน แดก เอง มัน ล่อ แสงโสม เวลา มัน ให้ กู ชี้ อให่ มัน แดก black lable สาด', 'แท็กซี่ คือ จะ เปิด แอร์ ให้ หนาว ตาย เลย ใช่ปะ ฝึก ความอดทน ถุก ปะ']\n",
            "Number of training examples: 1610\n",
            "Number of validation examples: 230\n",
            "Number of test examples: 460\n"
          ]
        }
      ],
      "source": [
        "from sklearn.model_selection import train_test_split\n",
        "import numpy as np\n",
        "\n",
        "val_size = int(len(test_sentences)/2)\n",
        "train = list(train_sentences)[:(len(train_sentences)-val_size)]\n",
        "val = list(train_sentences)[(len(train_sentences)-val_size):]\n",
        "test = list(test_sentences)\n",
        "\n",
        "print(\"Train set:\", train[:5])\n",
        "print(\"Validation set:\", val[:5])\n",
        "print(\"Test set:\", test[:5])\n",
        "print(\"Number of training examples:\", len(train))\n",
        "print(\"Number of validation examples:\", len(val))\n",
        "print(\"Number of test examples:\", len(test))"
      ]
    },
    {
      "cell_type": "code",
      "execution_count": null,
      "metadata": {
        "id": "jDH215_uElDs"
      },
      "outputs": [],
      "source": [
        "import pandas as pd\n",
        "import os\n",
        "\n",
        "# Assuming 'train_sentences', 'train_labels', 'val', 'test', 'test_labels' are still available from previous cells\n",
        "\n",
        "# สร้าง DataFrame สำหรับ train, val, test\n",
        "train_df = pd.DataFrame({'review': train_sentences, 'label': train_labels}) # Use train_sentences instead of train\n",
        "val_df = pd.DataFrame({'review': val, 'label': train_labels[len(train_sentences)-len(val):]})  # Use len(train_sentences) to index correctly\n",
        "test_df = pd.DataFrame({'review': test, 'label': test_labels})\n",
        "\n",
        "# รวมคอลัมน์ 'review' และ 'label' เพื่อระบุข้อมูลที่ซ้ำกัน\n",
        "train_df['combined'] = train_df['review'] + train_df['label'].astype(str)\n",
        "val_df['combined'] = val_df['review'] + val_df['label'].astype(str)\n",
        "\n",
        "# ลบข้อมูลที่ซ้ำกันใน train_df\n",
        "train_df = train_df[~train_df['combined'].isin(val_df['combined'])]\n",
        "\n",
        "# ลบคอลัมน์ 'combined' ออก\n",
        "train_df = train_df.drop(columns=['combined'])\n",
        "val_df = val_df.drop(columns=['combined'])\n",
        "\n",
        "os.makedirs('datasets', exist_ok=True)\n",
        "\n",
        "# บันทึก DataFrame เป็นไฟล์ CSV\n",
        "train_df.to_csv('datasets/train.csv', index=False)\n",
        "val_df.to_csv('datasets/val.csv', index=False)\n",
        "test_df.to_csv('datasets/test.csv', index=False)"
      ]
    },
    {
      "cell_type": "code",
      "execution_count": null,
      "metadata": {
        "id": "6R85RcBmCHbM"
      },
      "outputs": [],
      "source": [
        "import pandas as pd\n",
        "import re\n",
        "import pandas as pd\n",
        "import numpy as np\n",
        "from sklearn.preprocessing import LabelEncoder\n",
        "from sklearn.model_selection import train_test_split\n",
        "from sklearn.metrics import classification_report\n",
        "from sklearn.metrics import accuracy_score\n",
        "import math\n",
        "import nltk\n",
        "from sklearn.feature_extraction.text import CountVectorizer\n",
        "from collections import defaultdict"
      ]
    },
    {
      "cell_type": "code",
      "execution_count": null,
      "metadata": {
        "id": "gb5N8WIsCJK5"
      },
      "outputs": [],
      "source": [
        "# init_token_id = 1  #เริ่มต้นประโยค\n",
        "# pad_token_id = 0  #pad_id ตอนเทรนจะเติมเข้าไปกรณีบางประโยคสั้นกว่าประโยคอื่น\n",
        "# unk_token_id=2 # กรณีไม่พบคำศัพท์จะแทนด้วย 2 นี้\n",
        "# max_input_len = 512 # ความยาวสูงสุดที่โมเดลสามารภทำนายได้\n",
        "\n",
        "# #create vocab_dict\n",
        "# vocab = []\n",
        "# for i in range( train_sentences.shape[0]):\n",
        "#     ws = train_sentences[i].split(\" \")\n",
        "#     for w in ws:\n",
        "#         if w not in vocab:\n",
        "#             vocab.append(w)"
      ]
    },
    {
      "cell_type": "code",
      "execution_count": null,
      "metadata": {
        "colab": {
          "base_uri": "https://localhost:8080/"
        },
        "id": "K4QV77eBCi-f",
        "outputId": "a7176b4b-944f-4559-99e5-353d5ad23e6c"
      },
      "outputs": [
        {
          "output_type": "stream",
          "name": "stdout",
          "text": [
            "Warning: Element at index 711 is not a string: nan\n",
            "Warning: Element at index 993 is not a string: nan\n",
            "Warning: Element at index 1164 is not a string: nan\n"
          ]
        }
      ],
      "source": [
        "init_token_id = 1  #เริ่มต้นประโยค\n",
        "pad_token_id = 0  #pad_id ตอนเทรนจะเติมเข้าไปกรณีบางประโยคสั้นกว่าประโยคอื่น\n",
        "unk_token_id=2 # กรณีไม่พบคำศัพท์จะแทนด้วย 2 นี้\n",
        "max_input_len = 512 # ความยาวสูงสุดที่โมเดลสามารภทำนายได้\n",
        "\n",
        "#create vocab_dict\n",
        "vocab = []\n",
        "for i in range(train_sentences.shape[0]):\n",
        "    # Check if the element is a string before splitting\n",
        "    if isinstance(train_sentences[i], str):\n",
        "        ws = train_sentences[i].split(\" \")\n",
        "        for w in ws:\n",
        "            if w not in vocab:\n",
        "                vocab.append(w)\n",
        "    else:\n",
        "        # Handle non-string elements (e.g., print a warning or skip them)\n",
        "        print(f\"Warning: Element at index {i} is not a string: {train_sentences[i]}\")"
      ]
    },
    {
      "cell_type": "code",
      "execution_count": null,
      "metadata": {
        "id": "8Km0lgUJCLZn"
      },
      "outputs": [],
      "source": [
        "vocab.sort()\n",
        "start_word_id = 3\n",
        "token_to_id = {val: (i+start_word_id) for i, val in enumerate(vocab)}\n",
        "\n",
        "token_to_id.update({'init_id': init_token_id, 'pad_id':pad_token_id,'unk_id':unk_token_id})"
      ]
    },
    {
      "cell_type": "code",
      "execution_count": null,
      "metadata": {
        "id": "1fDX7eawCNnj"
      },
      "outputs": [],
      "source": [
        "import json\n",
        "vocab_json_object = json.dumps(token_to_id)\n",
        "with open(\"token2idx.json\", \"w\") as outfile:\n",
        "    outfile.write(vocab_json_object)"
      ]
    },
    {
      "cell_type": "code",
      "execution_count": null,
      "metadata": {
        "colab": {
          "base_uri": "https://localhost:8080/"
        },
        "id": "MjqcMTYRCPsm",
        "outputId": "b0e7d554-a542-400b-a32f-002d16f9d3e9"
      },
      "outputs": [
        {
          "output_type": "stream",
          "name": "stdout",
          "text": [
            "Device available for running: \n",
            "cuda\n"
          ]
        }
      ],
      "source": [
        "device = torch.device(\"cuda\" if torch.cuda.is_available() else \"cpu\")\n",
        "print(\"Device available for running: \")\n",
        "print(device)"
      ]
    },
    {
      "cell_type": "code",
      "execution_count": null,
      "metadata": {
        "id": "CWNx1NVECRyL"
      },
      "outputs": [],
      "source": [
        "import json\n",
        "import numpy as np\n",
        "\n",
        "import time\n",
        "import random\n",
        "import functools\n",
        "import math\n",
        "\n",
        "from torchtext.data import Field, Dataset, Example,LabelField\n",
        "import pandas as pd # Make sure pandas is imported\n",
        "\n",
        "# Tokensize and crop sentence to 510 (for 1st and last token) instead of 512 (i.e. `max_input_len`)\n",
        "def tokenize_and_crop(sentence):\n",
        "  #print(sentence)\n",
        "  tokens = sentence.split(\" \")\n",
        "  tokens = tokens[:max_input_len - 2]\n",
        "  return tokens\n",
        "\n",
        "def convert_tokens_to_ids(tokens):\n",
        "    out_id = []\n",
        "    for w in tokens:\n",
        "        if w in token_to_id.keys():\n",
        "            out_id.append(token_to_id[w])\n",
        "        else:\n",
        "            out_id.append(unk_token_id) #unk word\n",
        "    if len(out_id)==0:\n",
        "        return [0]\n",
        "    return out_id\n",
        "\n",
        "def load_data():\n",
        "  text = Field(\n",
        "    batch_first=True,\n",
        "    use_vocab=False,\n",
        "    tokenize=tokenize_and_crop,\n",
        "    preprocessing=convert_tokens_to_ids,\n",
        "    init_token=init_token_id,\n",
        "    pad_token=pad_token_id,\n",
        "    unk_token=unk_token_id\n",
        "  )\n",
        "  # Load the cleaned data CSV into a DataFrame\n",
        "  cleaned_data_df = pd.read_csv('cleaned_data.csv')  # Load the preprocessed data\n",
        "\n",
        "  label = LabelField(dtype=torch.long)\n",
        "\n",
        "  # label = torchtext.data.LabelField(dtype=torch.float)\n",
        "\n",
        "  fields = { 'cleaned_review' : text, 'label' : label }\n",
        "\n",
        "  # Change 'data' to 'cleaned_data_df' to reference the DataFrame\n",
        "  cleaned_data_df['cleaned_review'] = cleaned_data_df['cleaned_review'].astype(str)  # Convert to string\n",
        "  examples = cleaned_data_df.apply(lambda row: SeriesExample.fromSeries(row, fields), axis=1).tolist()\n",
        "\n",
        "  # Update train_ds to use the cleaned data\n",
        "  train_ds = Dataset(examples, fields) # Pass examples directly instead of creating a DataFrameDataset with `cleaned_data_df`\n",
        "\n",
        "  # Use 'cleaned_data_df' for stratification instead of 'data'\n",
        "  train_examples, test_examples = train_test_split(examples, test_size=0.2, random_state=1234, stratify=cleaned_data_df['label'])\n",
        "  train_examples, val_examples = train_test_split(train_examples, test_size=1/8, random_state=1234, stratify = [example.label for example in train_examples])\n",
        "\n",
        "  # Create datasets from the split examples\n",
        "  _train_data = Dataset(train_examples, fields)\n",
        "  _test_data = Dataset(test_examples, fields)\n",
        "  _valid_data = Dataset(val_examples, fields)\n",
        "\n",
        "\n",
        "  print(f\"training examples count: {len(_train_data)}\")\n",
        "  print(f\"test examples count: {len(_test_data)}\")\n",
        "  print(f\"validation examples count: {len(_valid_data)}\")\n",
        "\n",
        "  label.build_vocab(_train_data)\n",
        "\n",
        "  lab_data = {v: k for k, v in label.vocab.stoi.items()}\n",
        "  with open('idx2lab.json', 'w') as f:\n",
        "      json.dump(lab_data, f)\n",
        "\n",
        "\n",
        "\n",
        "  # Use torchtext.data.BucketIterator directly\n",
        "  # Change from data.BucketIterator to torchtext.data.BucketIterator\n",
        "  train_iter, valid_iter, test_iter = torchtext.data.BucketIterator.splits(\n",
        "    (_train_data, _valid_data, _test_data),\n",
        "    batch_size=BATCH_SIZE,\n",
        "    device=device,\n",
        "    sort_key = lambda x: len(x.cleaned_review),\n",
        "    sort_within_batch=True\n",
        "  )\n",
        "\n",
        "  return train_iter, valid_iter, test_iter"
      ]
    },
    {
      "cell_type": "code",
      "execution_count": null,
      "metadata": {
        "id": "rRGYVnZFOqRV"
      },
      "outputs": [],
      "source": [
        "# load_data()"
      ]
    },
    {
      "cell_type": "code",
      "execution_count": null,
      "metadata": {
        "id": "LJ823dDjCVAK"
      },
      "outputs": [],
      "source": [
        "# # Sentiment model contrain two-GRU layers for analyzing hidden representation\n",
        "# # and a linear layer for classfification (the sigmoid is applied by the criterion during training).\n",
        "# import torch.nn as nn\n",
        "\n",
        "# class SentimentModel(nn.Module):\n",
        "#   def __init__(\n",
        "#     self,\n",
        "#     vocab_size,\n",
        "#     embedding_dim,\n",
        "#     hidden_dim,\n",
        "#     output_dim,\n",
        "#     n_layers,\n",
        "#     bidirectional,\n",
        "#     dropout,\n",
        "#     padding_id=0\n",
        "#   ):\n",
        "\n",
        "#     super(SentimentModel, self).__init__()\n",
        "\n",
        "#     embedding_dim = embedding_dim\n",
        "#     self.embedding = nn.Embedding(vocab_size, embedding_dim, padding_idx=padding_id)\n",
        "\n",
        "#     self.gru = nn.GRU(\n",
        "#       embedding_dim,\n",
        "#       hidden_dim,\n",
        "#       num_layers=n_layers,\n",
        "#       bidirectional=bidirectional,\n",
        "#       batch_first=True,\n",
        "#       dropout=0 if n_layers < 2 else dropout\n",
        "#     )\n",
        "#     self.out = nn.Linear(hidden_dim * 2 if bidirectional else hidden_dim, output_dim)\n",
        "#     self.dropout = nn.Dropout(dropout)\n",
        "\n",
        "#   def forward(self, text):\n",
        "\n",
        "#     embedded = self.embedding(text)\n",
        "#     _, hidden = self.gru(embedded)\n",
        "\n",
        "#     if self.gru.bidirectional:\n",
        "#       hidden = self.dropout(torch.cat((hidden[-2,:,:], hidden[-1,:,:]), dim = 1))\n",
        "#     else:\n",
        "#       hidden = self.dropout(hidden[-1,:,:])\n",
        "\n",
        "#     output = self.out(hidden)\n",
        "#     return output"
      ]
    },
    {
      "cell_type": "code",
      "execution_count": null,
      "metadata": {
        "id": "lDDOWwEjCWU9"
      },
      "outputs": [],
      "source": [
        "# load_data()"
      ]
    },
    {
      "cell_type": "code",
      "execution_count": null,
      "metadata": {
        "id": "frNFaifXCY0F"
      },
      "outputs": [],
      "source": [
        "# Sentiment model contrain two-GRU layers for analyzing hidden representation\n",
        "# and a linear layer for classfification (the sigmoid is applied by the criterion during training).\n",
        "import torch.nn as nn\n",
        "\n",
        "class SentimentModel(nn.Module):\n",
        "  def __init__(\n",
        "    self,\n",
        "    vocab_size,\n",
        "    embedding_dim,\n",
        "    hidden_dim,\n",
        "    output_dim,\n",
        "    n_layers,\n",
        "    bidirectional,\n",
        "    dropout,\n",
        "    padding_id=0\n",
        "  ):\n",
        "\n",
        "    super(SentimentModel, self).__init__()\n",
        "\n",
        "    embedding_dim = embedding_dim\n",
        "    self.embedding = nn.Embedding(vocab_size, embedding_dim, padding_idx=padding_id)\n",
        "\n",
        "    self.rnn = nn.RNN(\n",
        "      embedding_dim,\n",
        "      hidden_dim,\n",
        "      num_layers=n_layers,\n",
        "      bidirectional=bidirectional,\n",
        "      batch_first=True,\n",
        "      dropout=0 if n_layers < 2 else dropout\n",
        "    )\n",
        "    self.out = nn.Linear(hidden_dim * 2 if bidirectional else hidden_dim, output_dim)\n",
        "    self.dropout = nn.Dropout(dropout)\n",
        "\n",
        "  def forward(self, text):\n",
        "\n",
        "    embedded = self.embedding(text)\n",
        "    _, hidden = self.rnn(embedded)\n",
        "\n",
        "    if self.rnn.bidirectional:\n",
        "      hidden = self.dropout(torch.cat((hidden[-2,:,:], hidden[-1,:,:]), dim = 1))\n",
        "    else:\n",
        "      hidden = self.dropout(hidden[-1,:,:])\n",
        "\n",
        "    output = self.out(hidden)\n",
        "    return output"
      ]
    },
    {
      "cell_type": "code",
      "execution_count": null,
      "metadata": {
        "id": "GsvH70LnCbLE"
      },
      "outputs": [],
      "source": [
        "vocab_size = len(vocab) + 3"
      ]
    },
    {
      "cell_type": "code",
      "execution_count": null,
      "metadata": {
        "colab": {
          "base_uri": "https://localhost:8080/"
        },
        "id": "XQR2Mqg7CdVe",
        "outputId": "5f4b9de0-7d9b-4d36-8451-a073c498df02"
      },
      "outputs": [
        {
          "output_type": "stream",
          "name": "stdout",
          "text": [
            "SentimentModel(\n",
            "  (embedding): Embedding(4483, 128, padding_idx=0)\n",
            "  (rnn): RNN(128, 512, num_layers=2, batch_first=True, dropout=0.25, bidirectional=True)\n",
            "  (out): Linear(in_features=1024, out_features=6, bias=True)\n",
            "  (dropout): Dropout(p=0.25, inplace=False)\n",
            ")\n"
          ]
        },
        {
          "output_type": "execute_result",
          "data": {
            "text/plain": [
              "2812294"
            ]
          },
          "metadata": {},
          "execution_count": 35
        }
      ],
      "source": [
        "model = SentimentModel(\n",
        "  vocab_size,\n",
        "  EMBEDDING_DIM,\n",
        "  HIDDEN_DIM,\n",
        "  OUTPUT_DIM,\n",
        "  N_LAYERS,\n",
        "  BIDIRECTIONAL,\n",
        "  DROPOUT\n",
        ")\n",
        "print(model)\n",
        "pytorch_total_params = sum(p.numel() for p in model.parameters())\n",
        "pytorch_total_params"
      ]
    },
    {
      "cell_type": "code",
      "execution_count": null,
      "metadata": {
        "id": "twUjLuYuCfYM"
      },
      "outputs": [],
      "source": [
        "from tqdm import tqdm\n",
        "# time taken for single epoch\n",
        "def epoch_time(start_time, end_time):\n",
        "  elapsed_time = end_time - start_time\n",
        "  elapsed_mins = int(elapsed_time / 60)\n",
        "  elapsed_secs = int(elapsed_time - (elapsed_mins * 60))\n",
        "  return elapsed_mins, elapsed_secs\n",
        "\n",
        "# computes accuracy\n",
        "def calculate_accuracy2(y_pred,y_true):\n",
        "  y_pred = torch.round(y_pred)\n",
        "  #print(y_pred.argmax(-1))\n",
        "  correct = (y_true == y_pred.argmax(-1)).float()\n",
        "  acc = correct.sum() / len(correct)\n",
        "  return acc\n",
        "\n",
        "# def binary_accuracy(preds, y):\n",
        "#   rounded_preds = torch.round(torch.sigmoid(preds))\n",
        "#   correct = (rounded_preds == y).float()\n",
        "#   acc = correct.sum() / len(correct)\n",
        "#   return acc\n",
        "\n",
        "# training step\n",
        "def train(model, iterator, optimizer, criterion):\n",
        "  # stats\n",
        "  epoch_loss = 0\n",
        "  epoch_acc = 0\n",
        "  # train mode\n",
        "  model.train()\n",
        "\n",
        "  for batch in tqdm(iterator):\n",
        "    # train step\n",
        "    optimizer.zero_grad()\n",
        "    #print(batch.review)\n",
        "    predictions = model(batch.cleaned_review).squeeze(1)\n",
        "    loss = criterion(predictions, batch.label)\n",
        "    acc = calculate_accuracy2(predictions, batch.label)\n",
        "    loss.backward()\n",
        "    optimizer.step()\n",
        "    # stats\n",
        "    epoch_loss += loss.item()\n",
        "    epoch_acc += acc.item()\n",
        "\n",
        "  return epoch_loss / len(iterator), epoch_acc / len(iterator)\n",
        "\n",
        "# evaluates the model on given iterator (either\n",
        "# train_iter, valid_iter, or test_iter)\n",
        "def evaluate(model, iterator, criterion, encoder): # Add encoder as an argument\n",
        "\n",
        "  epoch_loss = 0\n",
        "  epoch_acc = 0\n",
        "  # evaluation mode\n",
        "  model.eval()\n",
        "  y_true = []\n",
        "  y_pred = []\n",
        "\n",
        "  with torch.no_grad():\n",
        "    for batch in iterator:\n",
        "       #print(batch.text.shape)\n",
        "       predictions = model(batch.cleaned_review).squeeze(1)\n",
        "       loss = criterion(predictions, batch.label)\n",
        "       acc = calculate_accuracy2(predictions, batch.label)\n",
        "       epoch_loss += loss.item()\n",
        "       epoch_acc += acc.item()\n",
        "\n",
        "       y_true.extend(batch.label.cpu().numpy())  # Move to CPU and convert to NumPy\n",
        "       y_pred.extend(predictions.argmax(-1).cpu().numpy())\n",
        "\n",
        "       # No need to convert labels here, as we'll use classification_report later\n",
        "       # for i in range(len(batch.label)):\n",
        "       #          true_label = encoder.classes_[batch.label[i].item()]  # Use encoder.classes_ for labels\n",
        "       #          pred_label = encoder.classes_[predictions[i].argmax().item()]  # Use encoder.classes_ for labels\n",
        "       #          if true_label != pred_label:\n",
        "       #              # Decode batch.text[i] to original text\n",
        "       #              original_text = \" \".join([k for k, v in token_to_id.items() if v in batch.text[i].tolist() and v not in [0, 1, 2]])\n",
        "       #              # Print the results\n",
        "       #              # print(f\"Original Text: {original_text}\")\n",
        "       #              # print(f\"True Label: {true_label}, Predicted Label: {pred_label}\\n\")\n",
        "\n",
        "  return epoch_loss / len(iterator), epoch_acc / len(iterator), y_true, y_pred # Modified return statement to include y_true and y_pred\n",
        "\n",
        "def reset_weights(m):\n",
        "  '''\n",
        "    Try resetting model weights to avoid\n",
        "    weight leakage.\n",
        "  '''\n",
        "  for layer in m.children():\n",
        "   if hasattr(layer, 'reset_parameters'):\n",
        "    print(f'Reset trainable parameters of layer = {layer}')\n",
        "    layer.reset_parameters()"
      ]
    },
    {
      "cell_type": "code",
      "execution_count": null,
      "metadata": {
        "colab": {
          "base_uri": "https://localhost:8080/"
        },
        "id": "LrGyuEIVBcvJ",
        "outputId": "e1c9cb3c-fdac-4bab-fd43-73d41ad27ae6"
      },
      "outputs": [
        {
          "output_type": "execute_result",
          "data": {
            "text/plain": [
              "array([1, 1, 0, ..., 2, 0, 2])"
            ]
          },
          "metadata": {},
          "execution_count": 37
        }
      ],
      "source": [
        "train_labels"
      ]
    },
    {
      "cell_type": "code",
      "execution_count": null,
      "metadata": {
        "colab": {
          "base_uri": "https://localhost:8080/"
        },
        "id": "JUQz0Q8aAerZ",
        "outputId": "1ba21983-c8ce-489a-f982-57a5636e9eb6"
      },
      "outputs": [
        {
          "output_type": "stream",
          "name": "stdout",
          "text": [
            "{0: 0.6552706552706553, 1: 0.7131782945736435, 2: 0.7628524046434494, 3: 1.564625850340136, 4: 1.6666666666666667, 5: 1.9166666666666667}\n"
          ]
        }
      ],
      "source": [
        "from collections import Counter\n",
        "from sklearn.utils.class_weight import compute_class_weight\n",
        "\n",
        "   # นับจำนวนข้อมูลในแต่ละคลาส\n",
        "label_counts = Counter(train_labels) # แทน train_labels ด้วย labels ของข้อมูล train\n",
        "\n",
        "   # คำนวณน้ำหนักคลาส\n",
        "class_weights = compute_class_weight(class_weight='balanced', classes=np.unique(train_labels), y=train_labels)\n",
        "\n",
        "   # แปลงเป็น dictionary\n",
        "class_weight_dict = dict(zip(np.unique(train_labels), class_weights))\n",
        "print(class_weight_dict)"
      ]
    },
    {
      "cell_type": "code",
      "execution_count": null,
      "metadata": {
        "colab": {
          "base_uri": "https://localhost:8080/"
        },
        "id": "sA_lV4jnChni",
        "outputId": "f35600a5-4c11-43b0-8055-0db8bff11134"
      },
      "outputs": [
        {
          "output_type": "stream",
          "name": "stdout",
          "text": [
            "training examples count: 1610\n",
            "test examples count: 460\n",
            "validation examples count: 230\n"
          ]
        },
        {
          "output_type": "stream",
          "name": "stderr",
          "text": [
            "100%|██████████| 51/51 [00:01<00:00, 29.27it/s]\n"
          ]
        },
        {
          "output_type": "stream",
          "name": "stdout",
          "text": [
            "Best model saved at epoch 0 with validation loss: 1.7912\n",
            "Epoch: 01/200 | Epoch Time: 0m 1s\n",
            "\tTrain Loss: 1.801 | Train Acc: 25.50%\n",
            "\t Val. Loss: 1.791 |  Val. Acc: 28.12%\n"
          ]
        },
        {
          "output_type": "stream",
          "name": "stderr",
          "text": [
            "100%|██████████| 51/51 [00:00<00:00, 70.35it/s]\n"
          ]
        },
        {
          "output_type": "stream",
          "name": "stdout",
          "text": [
            "Best model saved at epoch 1 with validation loss: 1.7800\n",
            "Epoch: 02/200 | Epoch Time: 0m 0s\n",
            "\tTrain Loss: 1.783 | Train Acc: 25.87%\n",
            "\t Val. Loss: 1.780 |  Val. Acc: 28.12%\n"
          ]
        },
        {
          "output_type": "stream",
          "name": "stderr",
          "text": [
            "100%|██████████| 51/51 [00:00<00:00, 94.13it/s]\n"
          ]
        },
        {
          "output_type": "stream",
          "name": "stdout",
          "text": [
            "Best model saved at epoch 2 with validation loss: 1.7686\n",
            "Epoch: 03/200 | Epoch Time: 0m 0s\n",
            "\tTrain Loss: 1.769 | Train Acc: 25.93%\n",
            "\t Val. Loss: 1.769 |  Val. Acc: 28.12%\n"
          ]
        },
        {
          "output_type": "stream",
          "name": "stderr",
          "text": [
            "100%|██████████| 51/51 [00:00<00:00, 96.20it/s]\n"
          ]
        },
        {
          "output_type": "stream",
          "name": "stdout",
          "text": [
            "Best model saved at epoch 3 with validation loss: 1.7575\n",
            "Epoch: 04/200 | Epoch Time: 0m 0s\n",
            "\tTrain Loss: 1.755 | Train Acc: 26.12%\n",
            "\t Val. Loss: 1.757 |  Val. Acc: 27.73%\n"
          ]
        },
        {
          "output_type": "stream",
          "name": "stderr",
          "text": [
            "100%|██████████| 51/51 [00:00<00:00, 82.58it/s]\n"
          ]
        },
        {
          "output_type": "stream",
          "name": "stdout",
          "text": [
            "Best model saved at epoch 4 with validation loss: 1.7471\n",
            "Epoch: 05/200 | Epoch Time: 0m 0s\n",
            "\tTrain Loss: 1.741 | Train Acc: 26.85%\n",
            "\t Val. Loss: 1.747 |  Val. Acc: 27.73%\n"
          ]
        },
        {
          "output_type": "stream",
          "name": "stderr",
          "text": [
            "100%|██████████| 51/51 [00:00<00:00, 75.53it/s]\n"
          ]
        },
        {
          "output_type": "stream",
          "name": "stdout",
          "text": [
            "Best model saved at epoch 5 with validation loss: 1.7365\n",
            "Epoch: 06/200 | Epoch Time: 0m 0s\n",
            "\tTrain Loss: 1.723 | Train Acc: 27.46%\n",
            "\t Val. Loss: 1.737 |  Val. Acc: 28.12%\n"
          ]
        },
        {
          "output_type": "stream",
          "name": "stderr",
          "text": [
            "100%|██████████| 51/51 [00:00<00:00, 88.67it/s]\n"
          ]
        },
        {
          "output_type": "stream",
          "name": "stdout",
          "text": [
            "Best model saved at epoch 6 with validation loss: 1.7267\n",
            "Epoch: 07/200 | Epoch Time: 0m 0s\n",
            "\tTrain Loss: 1.701 | Train Acc: 28.08%\n",
            "\t Val. Loss: 1.727 |  Val. Acc: 28.52%\n"
          ]
        },
        {
          "output_type": "stream",
          "name": "stderr",
          "text": [
            "100%|██████████| 51/51 [00:00<00:00, 92.26it/s]\n"
          ]
        },
        {
          "output_type": "stream",
          "name": "stdout",
          "text": [
            "Best model saved at epoch 7 with validation loss: 1.7163\n",
            "Epoch: 08/200 | Epoch Time: 0m 0s\n",
            "\tTrain Loss: 1.690 | Train Acc: 29.00%\n",
            "\t Val. Loss: 1.716 |  Val. Acc: 29.30%\n"
          ]
        },
        {
          "output_type": "stream",
          "name": "stderr",
          "text": [
            "100%|██████████| 51/51 [00:00<00:00, 86.33it/s]\n"
          ]
        },
        {
          "output_type": "stream",
          "name": "stdout",
          "text": [
            "Best model saved at epoch 8 with validation loss: 1.7060\n",
            "Epoch: 09/200 | Epoch Time: 0m 0s\n",
            "\tTrain Loss: 1.670 | Train Acc: 29.73%\n",
            "\t Val. Loss: 1.706 |  Val. Acc: 29.69%\n"
          ]
        },
        {
          "output_type": "stream",
          "name": "stderr",
          "text": [
            "100%|██████████| 51/51 [00:00<00:00, 94.03it/s]\n"
          ]
        },
        {
          "output_type": "stream",
          "name": "stdout",
          "text": [
            "Best model saved at epoch 9 with validation loss: 1.6959\n",
            "Epoch: 10/200 | Epoch Time: 0m 0s\n",
            "\tTrain Loss: 1.659 | Train Acc: 31.20%\n",
            "\t Val. Loss: 1.696 |  Val. Acc: 30.08%\n"
          ]
        },
        {
          "output_type": "stream",
          "name": "stderr",
          "text": [
            "100%|██████████| 51/51 [00:00<00:00, 84.42it/s]\n"
          ]
        },
        {
          "output_type": "stream",
          "name": "stdout",
          "text": [
            "Best model saved at epoch 10 with validation loss: 1.6849\n",
            "Epoch: 11/200 | Epoch Time: 0m 0s\n",
            "\tTrain Loss: 1.641 | Train Acc: 32.44%\n",
            "\t Val. Loss: 1.685 |  Val. Acc: 30.86%\n"
          ]
        },
        {
          "output_type": "stream",
          "name": "stderr",
          "text": [
            "100%|██████████| 51/51 [00:00<00:00, 100.32it/s]\n"
          ]
        },
        {
          "output_type": "stream",
          "name": "stdout",
          "text": [
            "Best model saved at epoch 11 with validation loss: 1.6740\n",
            "Epoch: 12/200 | Epoch Time: 0m 0s\n",
            "\tTrain Loss: 1.619 | Train Acc: 34.22%\n",
            "\t Val. Loss: 1.674 |  Val. Acc: 31.25%\n"
          ]
        },
        {
          "output_type": "stream",
          "name": "stderr",
          "text": [
            "100%|██████████| 51/51 [00:00<00:00, 83.56it/s]\n"
          ]
        },
        {
          "output_type": "stream",
          "name": "stdout",
          "text": [
            "Best model saved at epoch 12 with validation loss: 1.6630\n",
            "Epoch: 13/200 | Epoch Time: 0m 0s\n",
            "\tTrain Loss: 1.607 | Train Acc: 35.75%\n",
            "\t Val. Loss: 1.663 |  Val. Acc: 31.25%\n"
          ]
        },
        {
          "output_type": "stream",
          "name": "stderr",
          "text": [
            "100%|██████████| 51/51 [00:00<00:00, 58.12it/s]\n"
          ]
        },
        {
          "output_type": "stream",
          "name": "stdout",
          "text": [
            "Best model saved at epoch 13 with validation loss: 1.6521\n",
            "Epoch: 14/200 | Epoch Time: 0m 0s\n",
            "\tTrain Loss: 1.587 | Train Acc: 36.78%\n",
            "\t Val. Loss: 1.652 |  Val. Acc: 32.42%\n"
          ]
        },
        {
          "output_type": "stream",
          "name": "stderr",
          "text": [
            "100%|██████████| 51/51 [00:00<00:00, 65.85it/s]\n"
          ]
        },
        {
          "output_type": "stream",
          "name": "stdout",
          "text": [
            "Best model saved at epoch 14 with validation loss: 1.6408\n",
            "Epoch: 15/200 | Epoch Time: 0m 0s\n",
            "\tTrain Loss: 1.575 | Train Acc: 38.93%\n",
            "\t Val. Loss: 1.641 |  Val. Acc: 32.42%\n"
          ]
        },
        {
          "output_type": "stream",
          "name": "stderr",
          "text": [
            "100%|██████████| 51/51 [00:00<00:00, 58.84it/s]\n"
          ]
        },
        {
          "output_type": "stream",
          "name": "stdout",
          "text": [
            "Best model saved at epoch 15 with validation loss: 1.6288\n",
            "Epoch: 16/200 | Epoch Time: 0m 0s\n",
            "\tTrain Loss: 1.551 | Train Acc: 39.33%\n",
            "\t Val. Loss: 1.629 |  Val. Acc: 33.59%\n"
          ]
        },
        {
          "output_type": "stream",
          "name": "stderr",
          "text": [
            "100%|██████████| 51/51 [00:00<00:00, 75.97it/s]\n"
          ]
        },
        {
          "output_type": "stream",
          "name": "stdout",
          "text": [
            "Best model saved at epoch 16 with validation loss: 1.6173\n",
            "Epoch: 17/200 | Epoch Time: 0m 0s\n",
            "\tTrain Loss: 1.536 | Train Acc: 42.50%\n",
            "\t Val. Loss: 1.617 |  Val. Acc: 33.98%\n"
          ]
        },
        {
          "output_type": "stream",
          "name": "stderr",
          "text": [
            "100%|██████████| 51/51 [00:00<00:00, 86.70it/s]\n"
          ]
        },
        {
          "output_type": "stream",
          "name": "stdout",
          "text": [
            "Best model saved at epoch 17 with validation loss: 1.6050\n",
            "Epoch: 18/200 | Epoch Time: 0m 0s\n",
            "\tTrain Loss: 1.514 | Train Acc: 42.11%\n",
            "\t Val. Loss: 1.605 |  Val. Acc: 35.16%\n"
          ]
        },
        {
          "output_type": "stream",
          "name": "stderr",
          "text": [
            "100%|██████████| 51/51 [00:00<00:00, 135.16it/s]\n"
          ]
        },
        {
          "output_type": "stream",
          "name": "stdout",
          "text": [
            "Best model saved at epoch 18 with validation loss: 1.5922\n",
            "Epoch: 19/200 | Epoch Time: 0m 0s\n",
            "\tTrain Loss: 1.502 | Train Acc: 44.06%\n",
            "\t Val. Loss: 1.592 |  Val. Acc: 37.11%\n"
          ]
        },
        {
          "output_type": "stream",
          "name": "stderr",
          "text": [
            "100%|██████████| 51/51 [00:00<00:00, 144.08it/s]\n"
          ]
        },
        {
          "output_type": "stream",
          "name": "stdout",
          "text": [
            "Best model saved at epoch 19 with validation loss: 1.5791\n",
            "Epoch: 20/200 | Epoch Time: 0m 0s\n",
            "\tTrain Loss: 1.478 | Train Acc: 47.63%\n",
            "\t Val. Loss: 1.579 |  Val. Acc: 39.06%\n"
          ]
        },
        {
          "output_type": "stream",
          "name": "stderr",
          "text": [
            "100%|██████████| 51/51 [00:00<00:00, 140.93it/s]\n"
          ]
        },
        {
          "output_type": "stream",
          "name": "stdout",
          "text": [
            "Best model saved at epoch 20 with validation loss: 1.5652\n",
            "Epoch: 21/200 | Epoch Time: 0m 0s\n",
            "\tTrain Loss: 1.466 | Train Acc: 46.69%\n",
            "\t Val. Loss: 1.565 |  Val. Acc: 38.93%\n"
          ]
        },
        {
          "output_type": "stream",
          "name": "stderr",
          "text": [
            "100%|██████████| 51/51 [00:00<00:00, 134.14it/s]\n"
          ]
        },
        {
          "output_type": "stream",
          "name": "stdout",
          "text": [
            "Best model saved at epoch 21 with validation loss: 1.5510\n",
            "Epoch: 22/200 | Epoch Time: 0m 0s\n",
            "\tTrain Loss: 1.441 | Train Acc: 48.68%\n",
            "\t Val. Loss: 1.551 |  Val. Acc: 42.45%\n"
          ]
        },
        {
          "output_type": "stream",
          "name": "stderr",
          "text": [
            "100%|██████████| 51/51 [00:00<00:00, 135.97it/s]\n"
          ]
        },
        {
          "output_type": "stream",
          "name": "stdout",
          "text": [
            "Best model saved at epoch 22 with validation loss: 1.5359\n",
            "Epoch: 23/200 | Epoch Time: 0m 0s\n",
            "\tTrain Loss: 1.423 | Train Acc: 50.81%\n",
            "\t Val. Loss: 1.536 |  Val. Acc: 46.09%\n"
          ]
        },
        {
          "output_type": "stream",
          "name": "stderr",
          "text": [
            "100%|██████████| 51/51 [00:00<00:00, 137.74it/s]\n"
          ]
        },
        {
          "output_type": "stream",
          "name": "stdout",
          "text": [
            "Best model saved at epoch 23 with validation loss: 1.5198\n",
            "Epoch: 24/200 | Epoch Time: 0m 0s\n",
            "\tTrain Loss: 1.398 | Train Acc: 49.90%\n",
            "\t Val. Loss: 1.520 |  Val. Acc: 44.79%\n"
          ]
        },
        {
          "output_type": "stream",
          "name": "stderr",
          "text": [
            "100%|██████████| 51/51 [00:00<00:00, 139.71it/s]\n"
          ]
        },
        {
          "output_type": "stream",
          "name": "stdout",
          "text": [
            "Best model saved at epoch 24 with validation loss: 1.5031\n",
            "Epoch: 25/200 | Epoch Time: 0m 0s\n",
            "\tTrain Loss: 1.371 | Train Acc: 52.33%\n",
            "\t Val. Loss: 1.503 |  Val. Acc: 43.10%\n"
          ]
        },
        {
          "output_type": "stream",
          "name": "stderr",
          "text": [
            "100%|██████████| 51/51 [00:00<00:00, 137.37it/s]\n"
          ]
        },
        {
          "output_type": "stream",
          "name": "stdout",
          "text": [
            "Best model saved at epoch 25 with validation loss: 1.4836\n",
            "Epoch: 26/200 | Epoch Time: 0m 0s\n",
            "\tTrain Loss: 1.361 | Train Acc: 50.34%\n",
            "\t Val. Loss: 1.484 |  Val. Acc: 43.10%\n"
          ]
        },
        {
          "output_type": "stream",
          "name": "stderr",
          "text": [
            "100%|██████████| 51/51 [00:00<00:00, 130.72it/s]\n"
          ]
        },
        {
          "output_type": "stream",
          "name": "stdout",
          "text": [
            "Best model saved at epoch 26 with validation loss: 1.4643\n",
            "Epoch: 27/200 | Epoch Time: 0m 0s\n",
            "\tTrain Loss: 1.325 | Train Acc: 52.22%\n",
            "\t Val. Loss: 1.464 |  Val. Acc: 42.32%\n"
          ]
        },
        {
          "output_type": "stream",
          "name": "stderr",
          "text": [
            "100%|██████████| 51/51 [00:00<00:00, 139.23it/s]\n"
          ]
        },
        {
          "output_type": "stream",
          "name": "stdout",
          "text": [
            "Best model saved at epoch 27 with validation loss: 1.4454\n",
            "Epoch: 28/200 | Epoch Time: 0m 0s\n",
            "\tTrain Loss: 1.298 | Train Acc: 53.88%\n",
            "\t Val. Loss: 1.445 |  Val. Acc: 39.84%\n"
          ]
        },
        {
          "output_type": "stream",
          "name": "stderr",
          "text": [
            "100%|██████████| 51/51 [00:00<00:00, 133.84it/s]\n"
          ]
        },
        {
          "output_type": "stream",
          "name": "stdout",
          "text": [
            "Best model saved at epoch 28 with validation loss: 1.4281\n",
            "Epoch: 29/200 | Epoch Time: 0m 0s\n",
            "\tTrain Loss: 1.280 | Train Acc: 52.33%\n",
            "\t Val. Loss: 1.428 |  Val. Acc: 44.40%\n"
          ]
        },
        {
          "output_type": "stream",
          "name": "stderr",
          "text": [
            "100%|██████████| 51/51 [00:00<00:00, 130.40it/s]\n"
          ]
        },
        {
          "output_type": "stream",
          "name": "stdout",
          "text": [
            "Best model saved at epoch 29 with validation loss: 1.4126\n",
            "Epoch: 30/200 | Epoch Time: 0m 0s\n",
            "\tTrain Loss: 1.255 | Train Acc: 52.05%\n",
            "\t Val. Loss: 1.413 |  Val. Acc: 41.67%\n"
          ]
        },
        {
          "output_type": "stream",
          "name": "stderr",
          "text": [
            "100%|██████████| 51/51 [00:00<00:00, 133.63it/s]\n"
          ]
        },
        {
          "output_type": "stream",
          "name": "stdout",
          "text": [
            "Best model saved at epoch 30 with validation loss: 1.4012\n",
            "Epoch: 31/200 | Epoch Time: 0m 0s\n",
            "\tTrain Loss: 1.223 | Train Acc: 55.49%\n",
            "\t Val. Loss: 1.401 |  Val. Acc: 44.92%\n"
          ]
        },
        {
          "output_type": "stream",
          "name": "stderr",
          "text": [
            "100%|██████████| 51/51 [00:00<00:00, 135.70it/s]\n"
          ]
        },
        {
          "output_type": "stream",
          "name": "stdout",
          "text": [
            "Best model saved at epoch 31 with validation loss: 1.3900\n",
            "Epoch: 32/200 | Epoch Time: 0m 0s\n",
            "\tTrain Loss: 1.203 | Train Acc: 55.45%\n",
            "\t Val. Loss: 1.390 |  Val. Acc: 44.40%\n"
          ]
        },
        {
          "output_type": "stream",
          "name": "stderr",
          "text": [
            "100%|██████████| 51/51 [00:00<00:00, 138.64it/s]\n"
          ]
        },
        {
          "output_type": "stream",
          "name": "stdout",
          "text": [
            "Best model saved at epoch 32 with validation loss: 1.3810\n",
            "Epoch: 33/200 | Epoch Time: 0m 0s\n",
            "\tTrain Loss: 1.189 | Train Acc: 54.09%\n",
            "\t Val. Loss: 1.381 |  Val. Acc: 45.18%\n"
          ]
        },
        {
          "output_type": "stream",
          "name": "stderr",
          "text": [
            "100%|██████████| 51/51 [00:00<00:00, 135.40it/s]\n"
          ]
        },
        {
          "output_type": "stream",
          "name": "stdout",
          "text": [
            "Best model saved at epoch 33 with validation loss: 1.3724\n",
            "Epoch: 34/200 | Epoch Time: 0m 0s\n",
            "\tTrain Loss: 1.163 | Train Acc: 56.05%\n",
            "\t Val. Loss: 1.372 |  Val. Acc: 46.35%\n"
          ]
        },
        {
          "output_type": "stream",
          "name": "stderr",
          "text": [
            "100%|██████████| 51/51 [00:00<00:00, 136.08it/s]\n"
          ]
        },
        {
          "output_type": "stream",
          "name": "stdout",
          "text": [
            "Best model saved at epoch 34 with validation loss: 1.3641\n",
            "Epoch: 35/200 | Epoch Time: 0m 0s\n",
            "\tTrain Loss: 1.146 | Train Acc: 56.04%\n",
            "\t Val. Loss: 1.364 |  Val. Acc: 47.14%\n"
          ]
        },
        {
          "output_type": "stream",
          "name": "stderr",
          "text": [
            "100%|██████████| 51/51 [00:00<00:00, 137.37it/s]\n"
          ]
        },
        {
          "output_type": "stream",
          "name": "stdout",
          "text": [
            "Best model saved at epoch 35 with validation loss: 1.3572\n",
            "Epoch: 36/200 | Epoch Time: 0m 0s\n",
            "\tTrain Loss: 1.125 | Train Acc: 57.02%\n",
            "\t Val. Loss: 1.357 |  Val. Acc: 47.14%\n"
          ]
        },
        {
          "output_type": "stream",
          "name": "stderr",
          "text": [
            "100%|██████████| 51/51 [00:00<00:00, 141.83it/s]\n"
          ]
        },
        {
          "output_type": "stream",
          "name": "stdout",
          "text": [
            "Best model saved at epoch 36 with validation loss: 1.3510\n",
            "Epoch: 37/200 | Epoch Time: 0m 0s\n",
            "\tTrain Loss: 1.108 | Train Acc: 56.29%\n",
            "\t Val. Loss: 1.351 |  Val. Acc: 48.31%\n"
          ]
        },
        {
          "output_type": "stream",
          "name": "stderr",
          "text": [
            "100%|██████████| 51/51 [00:00<00:00, 138.06it/s]\n"
          ]
        },
        {
          "output_type": "stream",
          "name": "stdout",
          "text": [
            "Best model saved at epoch 37 with validation loss: 1.3459\n",
            "Epoch: 38/200 | Epoch Time: 0m 0s\n",
            "\tTrain Loss: 1.099 | Train Acc: 57.21%\n",
            "\t Val. Loss: 1.346 |  Val. Acc: 48.31%\n"
          ]
        },
        {
          "output_type": "stream",
          "name": "stderr",
          "text": [
            "100%|██████████| 51/51 [00:00<00:00, 98.82it/s] \n"
          ]
        },
        {
          "output_type": "stream",
          "name": "stdout",
          "text": [
            "Best model saved at epoch 38 with validation loss: 1.3407\n",
            "Epoch: 39/200 | Epoch Time: 0m 0s\n",
            "\tTrain Loss: 1.071 | Train Acc: 57.94%\n",
            "\t Val. Loss: 1.341 |  Val. Acc: 48.31%\n"
          ]
        },
        {
          "output_type": "stream",
          "name": "stderr",
          "text": [
            "100%|██████████| 51/51 [00:00<00:00, 100.43it/s]\n"
          ]
        },
        {
          "output_type": "stream",
          "name": "stdout",
          "text": [
            "Best model saved at epoch 39 with validation loss: 1.3356\n",
            "Epoch: 40/200 | Epoch Time: 0m 0s\n",
            "\tTrain Loss: 1.062 | Train Acc: 59.44%\n",
            "\t Val. Loss: 1.336 |  Val. Acc: 47.14%\n"
          ]
        },
        {
          "output_type": "stream",
          "name": "stderr",
          "text": [
            "100%|██████████| 51/51 [00:00<00:00, 105.50it/s]\n"
          ]
        },
        {
          "output_type": "stream",
          "name": "stdout",
          "text": [
            "Best model saved at epoch 40 with validation loss: 1.3299\n",
            "Epoch: 41/200 | Epoch Time: 0m 0s\n",
            "\tTrain Loss: 1.046 | Train Acc: 59.91%\n",
            "\t Val. Loss: 1.330 |  Val. Acc: 46.35%\n"
          ]
        },
        {
          "output_type": "stream",
          "name": "stderr",
          "text": [
            "100%|██████████| 51/51 [00:00<00:00, 95.44it/s]\n"
          ]
        },
        {
          "output_type": "stream",
          "name": "stdout",
          "text": [
            "Best model saved at epoch 41 with validation loss: 1.3252\n",
            "Epoch: 42/200 | Epoch Time: 0m 0s\n",
            "\tTrain Loss: 1.035 | Train Acc: 60.25%\n",
            "\t Val. Loss: 1.325 |  Val. Acc: 46.74%\n"
          ]
        },
        {
          "output_type": "stream",
          "name": "stderr",
          "text": [
            "100%|██████████| 51/51 [00:00<00:00, 123.87it/s]\n"
          ]
        },
        {
          "output_type": "stream",
          "name": "stdout",
          "text": [
            "Best model saved at epoch 42 with validation loss: 1.3196\n",
            "Epoch: 43/200 | Epoch Time: 0m 0s\n",
            "\tTrain Loss: 1.018 | Train Acc: 60.86%\n",
            "\t Val. Loss: 1.320 |  Val. Acc: 44.66%\n"
          ]
        },
        {
          "output_type": "stream",
          "name": "stderr",
          "text": [
            "100%|██████████| 51/51 [00:00<00:00, 134.14it/s]\n"
          ]
        },
        {
          "output_type": "stream",
          "name": "stdout",
          "text": [
            "Best model saved at epoch 43 with validation loss: 1.3140\n",
            "Epoch: 44/200 | Epoch Time: 0m 0s\n",
            "\tTrain Loss: 1.004 | Train Acc: 61.97%\n",
            "\t Val. Loss: 1.314 |  Val. Acc: 43.88%\n"
          ]
        },
        {
          "output_type": "stream",
          "name": "stderr",
          "text": [
            "100%|██████████| 51/51 [00:00<00:00, 128.93it/s]\n"
          ]
        },
        {
          "output_type": "stream",
          "name": "stdout",
          "text": [
            "Best model saved at epoch 44 with validation loss: 1.3099\n",
            "Epoch: 45/200 | Epoch Time: 0m 0s\n",
            "\tTrain Loss: 0.991 | Train Acc: 61.69%\n",
            "\t Val. Loss: 1.310 |  Val. Acc: 45.18%\n"
          ]
        },
        {
          "output_type": "stream",
          "name": "stderr",
          "text": [
            "100%|██████████| 51/51 [00:00<00:00, 142.60it/s]\n"
          ]
        },
        {
          "output_type": "stream",
          "name": "stdout",
          "text": [
            "Best model saved at epoch 45 with validation loss: 1.3064\n",
            "Epoch: 46/200 | Epoch Time: 0m 0s\n",
            "\tTrain Loss: 0.983 | Train Acc: 62.12%\n",
            "\t Val. Loss: 1.306 |  Val. Acc: 47.53%\n"
          ]
        },
        {
          "output_type": "stream",
          "name": "stderr",
          "text": [
            "100%|██████████| 51/51 [00:00<00:00, 135.11it/s]\n"
          ]
        },
        {
          "output_type": "stream",
          "name": "stdout",
          "text": [
            "Best model saved at epoch 46 with validation loss: 1.3051\n",
            "Epoch: 47/200 | Epoch Time: 0m 0s\n",
            "\tTrain Loss: 0.968 | Train Acc: 62.89%\n",
            "\t Val. Loss: 1.305 |  Val. Acc: 47.92%\n"
          ]
        },
        {
          "output_type": "stream",
          "name": "stderr",
          "text": [
            "100%|██████████| 51/51 [00:00<00:00, 139.83it/s]\n"
          ]
        },
        {
          "output_type": "stream",
          "name": "stdout",
          "text": [
            "Best model saved at epoch 47 with validation loss: 1.2991\n",
            "Epoch: 48/200 | Epoch Time: 0m 0s\n",
            "\tTrain Loss: 0.959 | Train Acc: 62.27%\n",
            "\t Val. Loss: 1.299 |  Val. Acc: 47.53%\n"
          ]
        },
        {
          "output_type": "stream",
          "name": "stderr",
          "text": [
            "100%|██████████| 51/51 [00:00<00:00, 135.94it/s]\n"
          ]
        },
        {
          "output_type": "stream",
          "name": "stdout",
          "text": [
            "Best model saved at epoch 48 with validation loss: 1.2957\n",
            "Epoch: 49/200 | Epoch Time: 0m 0s\n",
            "\tTrain Loss: 0.948 | Train Acc: 62.79%\n",
            "\t Val. Loss: 1.296 |  Val. Acc: 45.57%\n"
          ]
        },
        {
          "output_type": "stream",
          "name": "stderr",
          "text": [
            "100%|██████████| 51/51 [00:00<00:00, 139.51it/s]\n"
          ]
        },
        {
          "output_type": "stream",
          "name": "stdout",
          "text": [
            "Best model saved at epoch 49 with validation loss: 1.2942\n",
            "Epoch: 50/200 | Epoch Time: 0m 0s\n",
            "\tTrain Loss: 0.934 | Train Acc: 63.39%\n",
            "\t Val. Loss: 1.294 |  Val. Acc: 46.74%\n"
          ]
        },
        {
          "output_type": "stream",
          "name": "stderr",
          "text": [
            "100%|██████████| 51/51 [00:00<00:00, 136.69it/s]\n"
          ]
        },
        {
          "output_type": "stream",
          "name": "stdout",
          "text": [
            "Best model saved at epoch 50 with validation loss: 1.2915\n",
            "Epoch: 51/200 | Epoch Time: 0m 0s\n",
            "\tTrain Loss: 0.921 | Train Acc: 64.38%\n",
            "\t Val. Loss: 1.291 |  Val. Acc: 45.96%\n"
          ]
        },
        {
          "output_type": "stream",
          "name": "stderr",
          "text": [
            "100%|██████████| 51/51 [00:00<00:00, 138.29it/s]\n"
          ]
        },
        {
          "output_type": "stream",
          "name": "stdout",
          "text": [
            "Best model saved at epoch 51 with validation loss: 1.2865\n",
            "Epoch: 52/200 | Epoch Time: 0m 0s\n",
            "\tTrain Loss: 0.914 | Train Acc: 64.03%\n",
            "\t Val. Loss: 1.287 |  Val. Acc: 44.79%\n"
          ]
        },
        {
          "output_type": "stream",
          "name": "stderr",
          "text": [
            "100%|██████████| 51/51 [00:00<00:00, 144.98it/s]\n"
          ]
        },
        {
          "output_type": "stream",
          "name": "stdout",
          "text": [
            "Best model saved at epoch 52 with validation loss: 1.2864\n",
            "Epoch: 53/200 | Epoch Time: 0m 0s\n",
            "\tTrain Loss: 0.897 | Train Acc: 63.71%\n",
            "\t Val. Loss: 1.286 |  Val. Acc: 46.74%\n"
          ]
        },
        {
          "output_type": "stream",
          "name": "stderr",
          "text": [
            "100%|██████████| 51/51 [00:00<00:00, 117.97it/s]\n"
          ]
        },
        {
          "output_type": "stream",
          "name": "stdout",
          "text": [
            "Best model saved at epoch 53 with validation loss: 1.2803\n",
            "Epoch: 54/200 | Epoch Time: 0m 0s\n",
            "\tTrain Loss: 0.894 | Train Acc: 64.01%\n",
            "\t Val. Loss: 1.280 |  Val. Acc: 46.35%\n"
          ]
        },
        {
          "output_type": "stream",
          "name": "stderr",
          "text": [
            "100%|██████████| 51/51 [00:00<00:00, 135.59it/s]\n"
          ]
        },
        {
          "output_type": "stream",
          "name": "stdout",
          "text": [
            "Best model saved at epoch 54 with validation loss: 1.2770\n",
            "Epoch: 55/200 | Epoch Time: 0m 0s\n",
            "\tTrain Loss: 0.871 | Train Acc: 65.89%\n",
            "\t Val. Loss: 1.277 |  Val. Acc: 48.31%\n"
          ]
        },
        {
          "output_type": "stream",
          "name": "stderr",
          "text": [
            "100%|██████████| 51/51 [00:00<00:00, 140.77it/s]\n"
          ]
        },
        {
          "output_type": "stream",
          "name": "stdout",
          "text": [
            "Epoch: 56/200 | Epoch Time: 0m 0s\n",
            "\tTrain Loss: 0.871 | Train Acc: 64.60%\n",
            "\t Val. Loss: 1.277 |  Val. Acc: 48.31%\n"
          ]
        },
        {
          "output_type": "stream",
          "name": "stderr",
          "text": [
            "100%|██████████| 51/51 [00:00<00:00, 137.65it/s]\n"
          ]
        },
        {
          "output_type": "stream",
          "name": "stdout",
          "text": [
            "Epoch: 57/200 | Epoch Time: 0m 0s\n",
            "\tTrain Loss: 0.862 | Train Acc: 67.07%\n",
            "\t Val. Loss: 1.277 |  Val. Acc: 49.09%\n"
          ]
        },
        {
          "output_type": "stream",
          "name": "stderr",
          "text": [
            "100%|██████████| 51/51 [00:00<00:00, 143.98it/s]\n"
          ]
        },
        {
          "output_type": "stream",
          "name": "stdout",
          "text": [
            "Best model saved at epoch 57 with validation loss: 1.2739\n",
            "Epoch: 58/200 | Epoch Time: 0m 0s\n",
            "\tTrain Loss: 0.850 | Train Acc: 65.51%\n",
            "\t Val. Loss: 1.274 |  Val. Acc: 48.70%\n"
          ]
        },
        {
          "output_type": "stream",
          "name": "stderr",
          "text": [
            "100%|██████████| 51/51 [00:00<00:00, 133.20it/s]\n"
          ]
        },
        {
          "output_type": "stream",
          "name": "stdout",
          "text": [
            "Best model saved at epoch 58 with validation loss: 1.2730\n",
            "Epoch: 59/200 | Epoch Time: 0m 0s\n",
            "\tTrain Loss: 0.838 | Train Acc: 66.09%\n",
            "\t Val. Loss: 1.273 |  Val. Acc: 50.78%\n"
          ]
        },
        {
          "output_type": "stream",
          "name": "stderr",
          "text": [
            "100%|██████████| 51/51 [00:00<00:00, 138.11it/s]\n"
          ]
        },
        {
          "output_type": "stream",
          "name": "stdout",
          "text": [
            "Best model saved at epoch 59 with validation loss: 1.2730\n",
            "Epoch: 60/200 | Epoch Time: 0m 0s\n",
            "\tTrain Loss: 0.835 | Train Acc: 66.87%\n",
            "\t Val. Loss: 1.273 |  Val. Acc: 50.26%\n"
          ]
        },
        {
          "output_type": "stream",
          "name": "stderr",
          "text": [
            "100%|██████████| 51/51 [00:00<00:00, 141.56it/s]\n"
          ]
        },
        {
          "output_type": "stream",
          "name": "stdout",
          "text": [
            "Best model saved at epoch 60 with validation loss: 1.2715\n",
            "Epoch: 61/200 | Epoch Time: 0m 0s\n",
            "\tTrain Loss: 0.830 | Train Acc: 66.75%\n",
            "\t Val. Loss: 1.272 |  Val. Acc: 51.04%\n"
          ]
        },
        {
          "output_type": "stream",
          "name": "stderr",
          "text": [
            "100%|██████████| 51/51 [00:00<00:00, 132.83it/s]\n"
          ]
        },
        {
          "output_type": "stream",
          "name": "stdout",
          "text": [
            "Best model saved at epoch 61 with validation loss: 1.2710\n",
            "Epoch: 62/200 | Epoch Time: 0m 0s\n",
            "\tTrain Loss: 0.817 | Train Acc: 67.55%\n",
            "\t Val. Loss: 1.271 |  Val. Acc: 51.04%\n"
          ]
        },
        {
          "output_type": "stream",
          "name": "stderr",
          "text": [
            "100%|██████████| 51/51 [00:00<00:00, 143.67it/s]\n"
          ]
        },
        {
          "output_type": "stream",
          "name": "stdout",
          "text": [
            "Best model saved at epoch 62 with validation loss: 1.2679\n",
            "Epoch: 63/200 | Epoch Time: 0m 0s\n",
            "\tTrain Loss: 0.807 | Train Acc: 67.23%\n",
            "\t Val. Loss: 1.268 |  Val. Acc: 50.65%\n"
          ]
        },
        {
          "output_type": "stream",
          "name": "stderr",
          "text": [
            "100%|██████████| 51/51 [00:00<00:00, 132.89it/s]\n"
          ]
        },
        {
          "output_type": "stream",
          "name": "stdout",
          "text": [
            "Epoch: 64/200 | Epoch Time: 0m 0s\n",
            "\tTrain Loss: 0.792 | Train Acc: 69.82%\n",
            "\t Val. Loss: 1.273 |  Val. Acc: 51.43%\n"
          ]
        },
        {
          "output_type": "stream",
          "name": "stderr",
          "text": [
            "100%|██████████| 51/51 [00:00<00:00, 140.83it/s]\n"
          ]
        },
        {
          "output_type": "stream",
          "name": "stdout",
          "text": [
            "Best model saved at epoch 64 with validation loss: 1.2661\n",
            "Epoch: 65/200 | Epoch Time: 0m 0s\n",
            "\tTrain Loss: 0.793 | Train Acc: 68.59%\n",
            "\t Val. Loss: 1.266 |  Val. Acc: 48.18%\n"
          ]
        },
        {
          "output_type": "stream",
          "name": "stderr",
          "text": [
            "100%|██████████| 51/51 [00:00<00:00, 133.09it/s]\n"
          ]
        },
        {
          "output_type": "stream",
          "name": "stdout",
          "text": [
            "Epoch: 66/200 | Epoch Time: 0m 0s\n",
            "\tTrain Loss: 0.785 | Train Acc: 68.65%\n",
            "\t Val. Loss: 1.271 |  Val. Acc: 50.65%\n"
          ]
        },
        {
          "output_type": "stream",
          "name": "stderr",
          "text": [
            "100%|██████████| 51/51 [00:00<00:00, 96.55it/s]\n"
          ]
        },
        {
          "output_type": "stream",
          "name": "stdout",
          "text": [
            "Epoch: 67/200 | Epoch Time: 0m 0s\n",
            "\tTrain Loss: 0.775 | Train Acc: 70.58%\n",
            "\t Val. Loss: 1.268 |  Val. Acc: 51.04%\n"
          ]
        },
        {
          "output_type": "stream",
          "name": "stderr",
          "text": [
            "100%|██████████| 51/51 [00:00<00:00, 103.19it/s]\n"
          ]
        },
        {
          "output_type": "stream",
          "name": "stdout",
          "text": [
            "Best model saved at epoch 67 with validation loss: 1.2616\n",
            "Epoch: 68/200 | Epoch Time: 0m 0s\n",
            "\tTrain Loss: 0.772 | Train Acc: 69.64%\n",
            "\t Val. Loss: 1.262 |  Val. Acc: 50.65%\n"
          ]
        },
        {
          "output_type": "stream",
          "name": "stderr",
          "text": [
            "100%|██████████| 51/51 [00:00<00:00, 107.93it/s]\n"
          ]
        },
        {
          "output_type": "stream",
          "name": "stdout",
          "text": [
            "Epoch: 69/200 | Epoch Time: 0m 0s\n",
            "\tTrain Loss: 0.757 | Train Acc: 70.39%\n",
            "\t Val. Loss: 1.263 |  Val. Acc: 51.82%\n"
          ]
        },
        {
          "output_type": "stream",
          "name": "stderr",
          "text": [
            "100%|██████████| 51/51 [00:00<00:00, 94.66it/s]\n"
          ]
        },
        {
          "output_type": "stream",
          "name": "stdout",
          "text": [
            "Epoch: 70/200 | Epoch Time: 0m 0s\n",
            "\tTrain Loss: 0.754 | Train Acc: 70.26%\n",
            "\t Val. Loss: 1.265 |  Val. Acc: 54.30%\n"
          ]
        },
        {
          "output_type": "stream",
          "name": "stderr",
          "text": [
            "100%|██████████| 51/51 [00:00<00:00, 100.04it/s]\n"
          ]
        },
        {
          "output_type": "stream",
          "name": "stdout",
          "text": [
            "Best model saved at epoch 70 with validation loss: 1.2614\n",
            "Epoch: 71/200 | Epoch Time: 0m 0s\n",
            "\tTrain Loss: 0.742 | Train Acc: 69.40%\n",
            "\t Val. Loss: 1.261 |  Val. Acc: 50.65%\n"
          ]
        },
        {
          "output_type": "stream",
          "name": "stderr",
          "text": [
            "100%|██████████| 51/51 [00:00<00:00, 138.67it/s]\n"
          ]
        },
        {
          "output_type": "stream",
          "name": "stdout",
          "text": [
            "Epoch: 72/200 | Epoch Time: 0m 0s\n",
            "\tTrain Loss: 0.732 | Train Acc: 71.45%\n",
            "\t Val. Loss: 1.266 |  Val. Acc: 51.04%\n"
          ]
        },
        {
          "output_type": "stream",
          "name": "stderr",
          "text": [
            "100%|██████████| 51/51 [00:00<00:00, 134.46it/s]\n"
          ]
        },
        {
          "output_type": "stream",
          "name": "stdout",
          "text": [
            "Epoch: 73/200 | Epoch Time: 0m 0s\n",
            "\tTrain Loss: 0.726 | Train Acc: 71.50%\n",
            "\t Val. Loss: 1.269 |  Val. Acc: 52.34%\n"
          ]
        },
        {
          "output_type": "stream",
          "name": "stderr",
          "text": [
            "100%|██████████| 51/51 [00:00<00:00, 139.67it/s]\n"
          ]
        },
        {
          "output_type": "stream",
          "name": "stdout",
          "text": [
            "Epoch: 74/200 | Epoch Time: 0m 0s\n",
            "\tTrain Loss: 0.726 | Train Acc: 70.49%\n",
            "\t Val. Loss: 1.267 |  Val. Acc: 49.87%\n"
          ]
        },
        {
          "output_type": "stream",
          "name": "stderr",
          "text": [
            "100%|██████████| 51/51 [00:00<00:00, 132.91it/s]\n"
          ]
        },
        {
          "output_type": "stream",
          "name": "stdout",
          "text": [
            "Epoch: 75/200 | Epoch Time: 0m 0s\n",
            "\tTrain Loss: 0.716 | Train Acc: 70.64%\n",
            "\t Val. Loss: 1.263 |  Val. Acc: 49.48%\n"
          ]
        },
        {
          "output_type": "stream",
          "name": "stderr",
          "text": [
            "100%|██████████| 51/51 [00:00<00:00, 141.95it/s]\n"
          ]
        },
        {
          "output_type": "stream",
          "name": "stdout",
          "text": [
            "Epoch: 76/200 | Epoch Time: 0m 0s\n",
            "\tTrain Loss: 0.712 | Train Acc: 71.31%\n",
            "\t Val. Loss: 1.265 |  Val. Acc: 49.09%\n"
          ]
        },
        {
          "output_type": "stream",
          "name": "stderr",
          "text": [
            "100%|██████████| 51/51 [00:00<00:00, 142.43it/s]\n"
          ]
        },
        {
          "output_type": "stream",
          "name": "stdout",
          "text": [
            "Epoch: 77/200 | Epoch Time: 0m 0s\n",
            "\tTrain Loss: 0.700 | Train Acc: 71.99%\n",
            "\t Val. Loss: 1.267 |  Val. Acc: 48.31%\n"
          ]
        },
        {
          "output_type": "stream",
          "name": "stderr",
          "text": [
            "100%|██████████| 51/51 [00:00<00:00, 137.84it/s]\n"
          ]
        },
        {
          "output_type": "stream",
          "name": "stdout",
          "text": [
            "Epoch: 78/200 | Epoch Time: 0m 0s\n",
            "\tTrain Loss: 0.695 | Train Acc: 72.89%\n",
            "\t Val. Loss: 1.270 |  Val. Acc: 51.17%\n"
          ]
        },
        {
          "output_type": "stream",
          "name": "stderr",
          "text": [
            "100%|██████████| 51/51 [00:00<00:00, 141.55it/s]\n"
          ]
        },
        {
          "output_type": "stream",
          "name": "stdout",
          "text": [
            "Epoch: 79/200 | Epoch Time: 0m 0s\n",
            "\tTrain Loss: 0.682 | Train Acc: 72.60%\n",
            "\t Val. Loss: 1.269 |  Val. Acc: 48.70%\n"
          ]
        },
        {
          "output_type": "stream",
          "name": "stderr",
          "text": [
            "100%|██████████| 51/51 [00:00<00:00, 132.49it/s]\n"
          ]
        },
        {
          "output_type": "stream",
          "name": "stdout",
          "text": [
            "Epoch: 80/200 | Epoch Time: 0m 0s\n",
            "\tTrain Loss: 0.680 | Train Acc: 72.92%\n",
            "\t Val. Loss: 1.268 |  Val. Acc: 48.70%\n"
          ]
        },
        {
          "output_type": "stream",
          "name": "stderr",
          "text": [
            "100%|██████████| 51/51 [00:00<00:00, 139.37it/s]\n"
          ]
        },
        {
          "output_type": "stream",
          "name": "stdout",
          "text": [
            "Epoch: 81/200 | Epoch Time: 0m 0s\n",
            "\tTrain Loss: 0.677 | Train Acc: 73.21%\n",
            "\t Val. Loss: 1.270 |  Val. Acc: 47.92%\n"
          ]
        },
        {
          "output_type": "stream",
          "name": "stderr",
          "text": [
            "100%|██████████| 51/51 [00:00<00:00, 141.58it/s]\n"
          ]
        },
        {
          "output_type": "stream",
          "name": "stdout",
          "text": [
            "Epoch: 82/200 | Epoch Time: 0m 0s\n",
            "\tTrain Loss: 0.664 | Train Acc: 74.51%\n",
            "\t Val. Loss: 1.271 |  Val. Acc: 48.70%\n"
          ]
        },
        {
          "output_type": "stream",
          "name": "stderr",
          "text": [
            "100%|██████████| 51/51 [00:00<00:00, 138.58it/s]\n"
          ]
        },
        {
          "output_type": "stream",
          "name": "stdout",
          "text": [
            "Epoch: 83/200 | Epoch Time: 0m 0s\n",
            "\tTrain Loss: 0.665 | Train Acc: 74.88%\n",
            "\t Val. Loss: 1.270 |  Val. Acc: 47.53%\n"
          ]
        },
        {
          "output_type": "stream",
          "name": "stderr",
          "text": [
            "100%|██████████| 51/51 [00:00<00:00, 147.25it/s]\n"
          ]
        },
        {
          "output_type": "stream",
          "name": "stdout",
          "text": [
            "Epoch: 84/200 | Epoch Time: 0m 0s\n",
            "\tTrain Loss: 0.653 | Train Acc: 74.57%\n",
            "\t Val. Loss: 1.280 |  Val. Acc: 47.92%\n"
          ]
        },
        {
          "output_type": "stream",
          "name": "stderr",
          "text": [
            "100%|██████████| 51/51 [00:00<00:00, 138.65it/s]\n"
          ]
        },
        {
          "output_type": "stream",
          "name": "stdout",
          "text": [
            "Epoch: 85/200 | Epoch Time: 0m 0s\n",
            "\tTrain Loss: 0.646 | Train Acc: 74.88%\n",
            "\t Val. Loss: 1.283 |  Val. Acc: 50.39%\n"
          ]
        },
        {
          "output_type": "stream",
          "name": "stderr",
          "text": [
            "100%|██████████| 51/51 [00:00<00:00, 139.26it/s]\n"
          ]
        },
        {
          "output_type": "stream",
          "name": "stdout",
          "text": [
            "Epoch: 86/200 | Epoch Time: 0m 0s\n",
            "\tTrain Loss: 0.643 | Train Acc: 76.04%\n",
            "\t Val. Loss: 1.282 |  Val. Acc: 47.53%\n"
          ]
        },
        {
          "output_type": "stream",
          "name": "stderr",
          "text": [
            "100%|██████████| 51/51 [00:00<00:00, 145.73it/s]\n"
          ]
        },
        {
          "output_type": "stream",
          "name": "stdout",
          "text": [
            "Epoch: 87/200 | Epoch Time: 0m 0s\n",
            "\tTrain Loss: 0.636 | Train Acc: 74.75%\n",
            "\t Val. Loss: 1.283 |  Val. Acc: 48.70%\n"
          ]
        },
        {
          "output_type": "stream",
          "name": "stderr",
          "text": [
            "100%|██████████| 51/51 [00:00<00:00, 137.88it/s]\n"
          ]
        },
        {
          "output_type": "stream",
          "name": "stdout",
          "text": [
            "Epoch: 88/200 | Epoch Time: 0m 0s\n",
            "\tTrain Loss: 0.627 | Train Acc: 75.61%\n",
            "\t Val. Loss: 1.285 |  Val. Acc: 47.53%\n"
          ]
        },
        {
          "output_type": "stream",
          "name": "stderr",
          "text": [
            "100%|██████████| 51/51 [00:00<00:00, 148.81it/s]\n"
          ]
        },
        {
          "output_type": "stream",
          "name": "stdout",
          "text": [
            "Epoch: 89/200 | Epoch Time: 0m 0s\n",
            "\tTrain Loss: 0.621 | Train Acc: 76.04%\n",
            "\t Val. Loss: 1.284 |  Val. Acc: 48.31%\n"
          ]
        },
        {
          "output_type": "stream",
          "name": "stderr",
          "text": [
            "100%|██████████| 51/51 [00:00<00:00, 140.92it/s]\n"
          ]
        },
        {
          "output_type": "stream",
          "name": "stdout",
          "text": [
            "Epoch: 90/200 | Epoch Time: 0m 0s\n",
            "\tTrain Loss: 0.622 | Train Acc: 75.60%\n",
            "\t Val. Loss: 1.291 |  Val. Acc: 49.09%\n"
          ]
        },
        {
          "output_type": "stream",
          "name": "stderr",
          "text": [
            "100%|██████████| 51/51 [00:00<00:00, 141.27it/s]\n"
          ]
        },
        {
          "output_type": "stream",
          "name": "stdout",
          "text": [
            "Epoch: 91/200 | Epoch Time: 0m 0s\n",
            "\tTrain Loss: 0.604 | Train Acc: 76.41%\n",
            "\t Val. Loss: 1.288 |  Val. Acc: 47.92%\n"
          ]
        },
        {
          "output_type": "stream",
          "name": "stderr",
          "text": [
            "100%|██████████| 51/51 [00:00<00:00, 144.83it/s]\n"
          ]
        },
        {
          "output_type": "stream",
          "name": "stdout",
          "text": [
            "Epoch: 92/200 | Epoch Time: 0m 0s\n",
            "\tTrain Loss: 0.594 | Train Acc: 78.00%\n",
            "\t Val. Loss: 1.295 |  Val. Acc: 48.70%\n"
          ]
        },
        {
          "output_type": "stream",
          "name": "stderr",
          "text": [
            "100%|██████████| 51/51 [00:00<00:00, 136.83it/s]\n"
          ]
        },
        {
          "output_type": "stream",
          "name": "stdout",
          "text": [
            "Epoch: 93/200 | Epoch Time: 0m 0s\n",
            "\tTrain Loss: 0.597 | Train Acc: 75.98%\n",
            "\t Val. Loss: 1.295 |  Val. Acc: 48.70%\n"
          ]
        },
        {
          "output_type": "stream",
          "name": "stderr",
          "text": [
            "100%|██████████| 51/51 [00:00<00:00, 136.47it/s]\n"
          ]
        },
        {
          "output_type": "stream",
          "name": "stdout",
          "text": [
            "Epoch: 94/200 | Epoch Time: 0m 0s\n",
            "\tTrain Loss: 0.591 | Train Acc: 76.53%\n",
            "\t Val. Loss: 1.300 |  Val. Acc: 49.48%\n"
          ]
        },
        {
          "output_type": "stream",
          "name": "stderr",
          "text": [
            "100%|██████████| 51/51 [00:00<00:00, 138.13it/s]\n"
          ]
        },
        {
          "output_type": "stream",
          "name": "stdout",
          "text": [
            "Epoch: 95/200 | Epoch Time: 0m 0s\n",
            "\tTrain Loss: 0.585 | Train Acc: 77.63%\n",
            "\t Val. Loss: 1.307 |  Val. Acc: 49.09%\n"
          ]
        },
        {
          "output_type": "stream",
          "name": "stderr",
          "text": [
            "100%|██████████| 51/51 [00:00<00:00, 137.89it/s]\n"
          ]
        },
        {
          "output_type": "stream",
          "name": "stdout",
          "text": [
            "Epoch: 96/200 | Epoch Time: 0m 0s\n",
            "\tTrain Loss: 0.573 | Train Acc: 77.88%\n",
            "\t Val. Loss: 1.301 |  Val. Acc: 49.09%\n"
          ]
        },
        {
          "output_type": "stream",
          "name": "stderr",
          "text": [
            "100%|██████████| 51/51 [00:00<00:00, 102.29it/s]\n"
          ]
        },
        {
          "output_type": "stream",
          "name": "stdout",
          "text": [
            "Epoch: 97/200 | Epoch Time: 0m 0s\n",
            "\tTrain Loss: 0.573 | Train Acc: 78.19%\n",
            "\t Val. Loss: 1.310 |  Val. Acc: 49.09%\n"
          ]
        },
        {
          "output_type": "stream",
          "name": "stderr",
          "text": [
            "100%|██████████| 51/51 [00:00<00:00, 104.56it/s]\n"
          ]
        },
        {
          "output_type": "stream",
          "name": "stdout",
          "text": [
            "Epoch: 98/200 | Epoch Time: 0m 0s\n",
            "\tTrain Loss: 0.576 | Train Acc: 77.25%\n",
            "\t Val. Loss: 1.310 |  Val. Acc: 50.26%\n"
          ]
        },
        {
          "output_type": "stream",
          "name": "stderr",
          "text": [
            "100%|██████████| 51/51 [00:00<00:00, 106.79it/s]\n"
          ]
        },
        {
          "output_type": "stream",
          "name": "stdout",
          "text": [
            "Epoch: 99/200 | Epoch Time: 0m 0s\n",
            "\tTrain Loss: 0.564 | Train Acc: 76.70%\n",
            "\t Val. Loss: 1.316 |  Val. Acc: 49.09%\n"
          ]
        },
        {
          "output_type": "stream",
          "name": "stderr",
          "text": [
            "100%|██████████| 51/51 [00:00<00:00, 100.77it/s]\n"
          ]
        },
        {
          "output_type": "stream",
          "name": "stdout",
          "text": [
            "Epoch: 100/200 | Epoch Time: 0m 0s\n",
            "\tTrain Loss: 0.563 | Train Acc: 77.50%\n",
            "\t Val. Loss: 1.319 |  Val. Acc: 49.48%\n"
          ]
        },
        {
          "output_type": "stream",
          "name": "stderr",
          "text": [
            "100%|██████████| 51/51 [00:00<00:00, 94.30it/s]\n"
          ]
        },
        {
          "output_type": "stream",
          "name": "stdout",
          "text": [
            "Epoch: 101/200 | Epoch Time: 0m 0s\n",
            "\tTrain Loss: 0.557 | Train Acc: 77.19%\n",
            "\t Val. Loss: 1.318 |  Val. Acc: 48.70%\n"
          ]
        },
        {
          "output_type": "stream",
          "name": "stderr",
          "text": [
            "100%|██████████| 51/51 [00:00<00:00, 131.65it/s]\n"
          ]
        },
        {
          "output_type": "stream",
          "name": "stdout",
          "text": [
            "Epoch: 102/200 | Epoch Time: 0m 0s\n",
            "\tTrain Loss: 0.555 | Train Acc: 79.15%\n",
            "\t Val. Loss: 1.322 |  Val. Acc: 48.31%\n"
          ]
        },
        {
          "output_type": "stream",
          "name": "stderr",
          "text": [
            "100%|██████████| 51/51 [00:00<00:00, 138.81it/s]\n"
          ]
        },
        {
          "output_type": "stream",
          "name": "stdout",
          "text": [
            "Epoch: 103/200 | Epoch Time: 0m 0s\n",
            "\tTrain Loss: 0.538 | Train Acc: 78.55%\n",
            "\t Val. Loss: 1.325 |  Val. Acc: 46.61%\n"
          ]
        },
        {
          "output_type": "stream",
          "name": "stderr",
          "text": [
            "100%|██████████| 51/51 [00:00<00:00, 141.20it/s]\n"
          ]
        },
        {
          "output_type": "stream",
          "name": "stdout",
          "text": [
            "Epoch: 104/200 | Epoch Time: 0m 0s\n",
            "\tTrain Loss: 0.538 | Train Acc: 78.60%\n",
            "\t Val. Loss: 1.332 |  Val. Acc: 51.17%\n"
          ]
        },
        {
          "output_type": "stream",
          "name": "stderr",
          "text": [
            "100%|██████████| 51/51 [00:00<00:00, 137.35it/s]\n"
          ]
        },
        {
          "output_type": "stream",
          "name": "stdout",
          "text": [
            "Epoch: 105/200 | Epoch Time: 0m 0s\n",
            "\tTrain Loss: 0.538 | Train Acc: 78.05%\n",
            "\t Val. Loss: 1.329 |  Val. Acc: 47.01%\n"
          ]
        },
        {
          "output_type": "stream",
          "name": "stderr",
          "text": [
            "100%|██████████| 51/51 [00:00<00:00, 136.07it/s]\n"
          ]
        },
        {
          "output_type": "stream",
          "name": "stdout",
          "text": [
            "Epoch: 106/200 | Epoch Time: 0m 0s\n",
            "\tTrain Loss: 0.529 | Train Acc: 80.27%\n",
            "\t Val. Loss: 1.335 |  Val. Acc: 48.70%\n"
          ]
        },
        {
          "output_type": "stream",
          "name": "stderr",
          "text": [
            "100%|██████████| 51/51 [00:00<00:00, 139.35it/s]\n"
          ]
        },
        {
          "output_type": "stream",
          "name": "stdout",
          "text": [
            "Epoch: 107/200 | Epoch Time: 0m 0s\n",
            "\tTrain Loss: 0.514 | Train Acc: 80.76%\n",
            "\t Val. Loss: 1.342 |  Val. Acc: 50.78%\n"
          ]
        },
        {
          "output_type": "stream",
          "name": "stderr",
          "text": [
            "100%|██████████| 51/51 [00:00<00:00, 141.76it/s]\n"
          ]
        },
        {
          "output_type": "stream",
          "name": "stdout",
          "text": [
            "Epoch: 108/200 | Epoch Time: 0m 0s\n",
            "\tTrain Loss: 0.521 | Train Acc: 79.53%\n",
            "\t Val. Loss: 1.344 |  Val. Acc: 49.48%\n"
          ]
        },
        {
          "output_type": "stream",
          "name": "stderr",
          "text": [
            "100%|██████████| 51/51 [00:00<00:00, 140.33it/s]\n"
          ]
        },
        {
          "output_type": "stream",
          "name": "stdout",
          "text": [
            "Epoch: 109/200 | Epoch Time: 0m 0s\n",
            "\tTrain Loss: 0.513 | Train Acc: 79.78%\n",
            "\t Val. Loss: 1.342 |  Val. Acc: 52.34%\n"
          ]
        },
        {
          "output_type": "stream",
          "name": "stderr",
          "text": [
            "100%|██████████| 51/51 [00:00<00:00, 133.93it/s]\n"
          ]
        },
        {
          "output_type": "stream",
          "name": "stdout",
          "text": [
            "Epoch: 110/200 | Epoch Time: 0m 0s\n",
            "\tTrain Loss: 0.504 | Train Acc: 80.51%\n",
            "\t Val. Loss: 1.351 |  Val. Acc: 52.34%\n"
          ]
        },
        {
          "output_type": "stream",
          "name": "stderr",
          "text": [
            "100%|██████████| 51/51 [00:00<00:00, 139.25it/s]\n"
          ]
        },
        {
          "output_type": "stream",
          "name": "stdout",
          "text": [
            "Epoch: 111/200 | Epoch Time: 0m 0s\n",
            "\tTrain Loss: 0.508 | Train Acc: 80.02%\n",
            "\t Val. Loss: 1.349 |  Val. Acc: 48.57%\n"
          ]
        },
        {
          "output_type": "stream",
          "name": "stderr",
          "text": [
            "100%|██████████| 51/51 [00:00<00:00, 143.24it/s]\n"
          ]
        },
        {
          "output_type": "stream",
          "name": "stdout",
          "text": [
            "Epoch: 112/200 | Epoch Time: 0m 0s\n",
            "\tTrain Loss: 0.495 | Train Acc: 80.51%\n",
            "\t Val. Loss: 1.360 |  Val. Acc: 51.95%\n"
          ]
        },
        {
          "output_type": "stream",
          "name": "stderr",
          "text": [
            "100%|██████████| 51/51 [00:00<00:00, 137.96it/s]\n"
          ]
        },
        {
          "output_type": "stream",
          "name": "stdout",
          "text": [
            "Epoch: 113/200 | Epoch Time: 0m 0s\n",
            "\tTrain Loss: 0.485 | Train Acc: 81.25%\n",
            "\t Val. Loss: 1.360 |  Val. Acc: 52.34%\n"
          ]
        },
        {
          "output_type": "stream",
          "name": "stderr",
          "text": [
            "100%|██████████| 51/51 [00:00<00:00, 139.51it/s]\n"
          ]
        },
        {
          "output_type": "stream",
          "name": "stdout",
          "text": [
            "Epoch: 114/200 | Epoch Time: 0m 0s\n",
            "\tTrain Loss: 0.485 | Train Acc: 80.15%\n",
            "\t Val. Loss: 1.363 |  Val. Acc: 49.87%\n"
          ]
        },
        {
          "output_type": "stream",
          "name": "stderr",
          "text": [
            "100%|██████████| 51/51 [00:00<00:00, 136.61it/s]\n"
          ]
        },
        {
          "output_type": "stream",
          "name": "stdout",
          "text": [
            "Epoch: 115/200 | Epoch Time: 0m 0s\n",
            "\tTrain Loss: 0.484 | Train Acc: 81.43%\n",
            "\t Val. Loss: 1.368 |  Val. Acc: 51.95%\n"
          ]
        },
        {
          "output_type": "stream",
          "name": "stderr",
          "text": [
            "100%|██████████| 51/51 [00:00<00:00, 134.33it/s]\n"
          ]
        },
        {
          "output_type": "stream",
          "name": "stdout",
          "text": [
            "Epoch: 116/200 | Epoch Time: 0m 0s\n",
            "\tTrain Loss: 0.472 | Train Acc: 81.74%\n",
            "\t Val. Loss: 1.368 |  Val. Acc: 46.61%\n"
          ]
        },
        {
          "output_type": "stream",
          "name": "stderr",
          "text": [
            "100%|██████████| 51/51 [00:00<00:00, 139.09it/s]\n"
          ]
        },
        {
          "output_type": "stream",
          "name": "stdout",
          "text": [
            "Epoch: 117/200 | Epoch Time: 0m 0s\n",
            "\tTrain Loss: 0.479 | Train Acc: 81.50%\n",
            "\t Val. Loss: 1.368 |  Val. Acc: 49.87%\n"
          ]
        },
        {
          "output_type": "stream",
          "name": "stderr",
          "text": [
            "100%|██████████| 51/51 [00:00<00:00, 132.46it/s]\n"
          ]
        },
        {
          "output_type": "stream",
          "name": "stdout",
          "text": [
            "Epoch: 118/200 | Epoch Time: 0m 0s\n",
            "\tTrain Loss: 0.465 | Train Acc: 81.86%\n",
            "\t Val. Loss: 1.373 |  Val. Acc: 47.40%\n"
          ]
        },
        {
          "output_type": "stream",
          "name": "stderr",
          "text": [
            "100%|██████████| 51/51 [00:00<00:00, 137.27it/s]\n"
          ]
        },
        {
          "output_type": "stream",
          "name": "stdout",
          "text": [
            "Epoch: 119/200 | Epoch Time: 0m 0s\n",
            "\tTrain Loss: 0.458 | Train Acc: 82.90%\n",
            "\t Val. Loss: 1.382 |  Val. Acc: 50.26%\n"
          ]
        },
        {
          "output_type": "stream",
          "name": "stderr",
          "text": [
            "100%|██████████| 51/51 [00:00<00:00, 133.79it/s]\n"
          ]
        },
        {
          "output_type": "stream",
          "name": "stdout",
          "text": [
            "Epoch: 120/200 | Epoch Time: 0m 0s\n",
            "\tTrain Loss: 0.457 | Train Acc: 82.48%\n",
            "\t Val. Loss: 1.390 |  Val. Acc: 52.73%\n"
          ]
        },
        {
          "output_type": "stream",
          "name": "stderr",
          "text": [
            "100%|██████████| 51/51 [00:00<00:00, 137.20it/s]\n"
          ]
        },
        {
          "output_type": "stream",
          "name": "stdout",
          "text": [
            "Epoch: 121/200 | Epoch Time: 0m 0s\n",
            "\tTrain Loss: 0.448 | Train Acc: 82.72%\n",
            "\t Val. Loss: 1.398 |  Val. Acc: 49.87%\n"
          ]
        },
        {
          "output_type": "stream",
          "name": "stderr",
          "text": [
            "100%|██████████| 51/51 [00:00<00:00, 137.43it/s]\n"
          ]
        },
        {
          "output_type": "stream",
          "name": "stdout",
          "text": [
            "Epoch: 122/200 | Epoch Time: 0m 0s\n",
            "\tTrain Loss: 0.445 | Train Acc: 82.17%\n",
            "\t Val. Loss: 1.387 |  Val. Acc: 50.26%\n"
          ]
        },
        {
          "output_type": "stream",
          "name": "stderr",
          "text": [
            "100%|██████████| 51/51 [00:00<00:00, 134.09it/s]\n"
          ]
        },
        {
          "output_type": "stream",
          "name": "stdout",
          "text": [
            "Epoch: 123/200 | Epoch Time: 0m 0s\n",
            "\tTrain Loss: 0.438 | Train Acc: 83.15%\n",
            "\t Val. Loss: 1.409 |  Val. Acc: 51.95%\n"
          ]
        },
        {
          "output_type": "stream",
          "name": "stderr",
          "text": [
            "100%|██████████| 51/51 [00:00<00:00, 140.24it/s]\n"
          ]
        },
        {
          "output_type": "stream",
          "name": "stdout",
          "text": [
            "Epoch: 124/200 | Epoch Time: 0m 0s\n",
            "\tTrain Loss: 0.436 | Train Acc: 83.58%\n",
            "\t Val. Loss: 1.396 |  Val. Acc: 51.43%\n"
          ]
        },
        {
          "output_type": "stream",
          "name": "stderr",
          "text": [
            "100%|██████████| 51/51 [00:00<00:00, 131.71it/s]\n"
          ]
        },
        {
          "output_type": "stream",
          "name": "stdout",
          "text": [
            "Epoch: 125/200 | Epoch Time: 0m 0s\n",
            "\tTrain Loss: 0.431 | Train Acc: 82.60%\n",
            "\t Val. Loss: 1.413 |  Val. Acc: 52.73%\n"
          ]
        },
        {
          "output_type": "stream",
          "name": "stderr",
          "text": [
            "100%|██████████| 51/51 [00:00<00:00, 118.54it/s]\n"
          ]
        },
        {
          "output_type": "stream",
          "name": "stdout",
          "text": [
            "Epoch: 126/200 | Epoch Time: 0m 0s\n",
            "\tTrain Loss: 0.423 | Train Acc: 83.88%\n",
            "\t Val. Loss: 1.403 |  Val. Acc: 50.26%\n"
          ]
        },
        {
          "output_type": "stream",
          "name": "stderr",
          "text": [
            "100%|██████████| 51/51 [00:00<00:00, 99.01it/s] \n"
          ]
        },
        {
          "output_type": "stream",
          "name": "stdout",
          "text": [
            "Epoch: 127/200 | Epoch Time: 0m 0s\n",
            "\tTrain Loss: 0.420 | Train Acc: 84.50%\n",
            "\t Val. Loss: 1.420 |  Val. Acc: 52.34%\n"
          ]
        },
        {
          "output_type": "stream",
          "name": "stderr",
          "text": [
            "100%|██████████| 51/51 [00:00<00:00, 102.93it/s]\n"
          ]
        },
        {
          "output_type": "stream",
          "name": "stdout",
          "text": [
            "Epoch: 128/200 | Epoch Time: 0m 0s\n",
            "\tTrain Loss: 0.424 | Train Acc: 83.70%\n",
            "\t Val. Loss: 1.449 |  Val. Acc: 49.87%\n"
          ]
        },
        {
          "output_type": "stream",
          "name": "stderr",
          "text": [
            "100%|██████████| 51/51 [00:00<00:00, 99.64it/s] \n"
          ]
        },
        {
          "output_type": "stream",
          "name": "stdout",
          "text": [
            "Epoch: 129/200 | Epoch Time: 0m 0s\n",
            "\tTrain Loss: 0.414 | Train Acc: 84.38%\n",
            "\t Val. Loss: 1.425 |  Val. Acc: 49.35%\n"
          ]
        },
        {
          "output_type": "stream",
          "name": "stderr",
          "text": [
            "100%|██████████| 51/51 [00:00<00:00, 97.35it/s]\n"
          ]
        },
        {
          "output_type": "stream",
          "name": "stdout",
          "text": [
            "Epoch: 130/200 | Epoch Time: 0m 0s\n",
            "\tTrain Loss: 0.407 | Train Acc: 84.93%\n",
            "\t Val. Loss: 1.479 |  Val. Acc: 51.04%\n"
          ]
        },
        {
          "output_type": "stream",
          "name": "stderr",
          "text": [
            "100%|██████████| 51/51 [00:00<00:00, 110.58it/s]\n"
          ]
        },
        {
          "output_type": "stream",
          "name": "stdout",
          "text": [
            "Epoch: 131/200 | Epoch Time: 0m 0s\n",
            "\tTrain Loss: 0.406 | Train Acc: 84.56%\n",
            "\t Val. Loss: 1.428 |  Val. Acc: 50.26%\n"
          ]
        },
        {
          "output_type": "stream",
          "name": "stderr",
          "text": [
            "100%|██████████| 51/51 [00:00<00:00, 144.27it/s]\n"
          ]
        },
        {
          "output_type": "stream",
          "name": "stdout",
          "text": [
            "Epoch: 132/200 | Epoch Time: 0m 0s\n",
            "\tTrain Loss: 0.400 | Train Acc: 84.93%\n",
            "\t Val. Loss: 1.427 |  Val. Acc: 49.87%\n"
          ]
        },
        {
          "output_type": "stream",
          "name": "stderr",
          "text": [
            "100%|██████████| 51/51 [00:00<00:00, 145.46it/s]\n"
          ]
        },
        {
          "output_type": "stream",
          "name": "stdout",
          "text": [
            "Epoch: 133/200 | Epoch Time: 0m 0s\n",
            "\tTrain Loss: 0.391 | Train Acc: 85.48%\n",
            "\t Val. Loss: 1.436 |  Val. Acc: 49.48%\n"
          ]
        },
        {
          "output_type": "stream",
          "name": "stderr",
          "text": [
            "100%|██████████| 51/51 [00:00<00:00, 133.98it/s]\n"
          ]
        },
        {
          "output_type": "stream",
          "name": "stdout",
          "text": [
            "Epoch: 134/200 | Epoch Time: 0m 0s\n",
            "\tTrain Loss: 0.393 | Train Acc: 86.27%\n",
            "\t Val. Loss: 1.469 |  Val. Acc: 49.87%\n"
          ]
        },
        {
          "output_type": "stream",
          "name": "stderr",
          "text": [
            "100%|██████████| 51/51 [00:00<00:00, 139.22it/s]\n"
          ]
        },
        {
          "output_type": "stream",
          "name": "stdout",
          "text": [
            "Epoch: 135/200 | Epoch Time: 0m 0s\n",
            "\tTrain Loss: 0.386 | Train Acc: 86.03%\n",
            "\t Val. Loss: 1.449 |  Val. Acc: 48.70%\n"
          ]
        },
        {
          "output_type": "stream",
          "name": "stderr",
          "text": [
            "100%|██████████| 51/51 [00:00<00:00, 143.64it/s]\n"
          ]
        },
        {
          "output_type": "stream",
          "name": "stdout",
          "text": [
            "Epoch: 136/200 | Epoch Time: 0m 0s\n",
            "\tTrain Loss: 0.382 | Train Acc: 86.09%\n",
            "\t Val. Loss: 1.443 |  Val. Acc: 49.87%\n"
          ]
        },
        {
          "output_type": "stream",
          "name": "stderr",
          "text": [
            "100%|██████████| 51/51 [00:00<00:00, 130.32it/s]\n"
          ]
        },
        {
          "output_type": "stream",
          "name": "stdout",
          "text": [
            "Epoch: 137/200 | Epoch Time: 0m 0s\n",
            "\tTrain Loss: 0.380 | Train Acc: 86.15%\n",
            "\t Val. Loss: 1.460 |  Val. Acc: 49.48%\n"
          ]
        },
        {
          "output_type": "stream",
          "name": "stderr",
          "text": [
            "100%|██████████| 51/51 [00:00<00:00, 141.05it/s]\n"
          ]
        },
        {
          "output_type": "stream",
          "name": "stdout",
          "text": [
            "Epoch: 138/200 | Epoch Time: 0m 0s\n",
            "\tTrain Loss: 0.379 | Train Acc: 86.03%\n",
            "\t Val. Loss: 1.470 |  Val. Acc: 49.09%\n"
          ]
        },
        {
          "output_type": "stream",
          "name": "stderr",
          "text": [
            "100%|██████████| 51/51 [00:00<00:00, 135.22it/s]\n"
          ]
        },
        {
          "output_type": "stream",
          "name": "stdout",
          "text": [
            "Epoch: 139/200 | Epoch Time: 0m 0s\n",
            "\tTrain Loss: 0.364 | Train Acc: 86.95%\n",
            "\t Val. Loss: 1.501 |  Val. Acc: 52.73%\n"
          ]
        },
        {
          "output_type": "stream",
          "name": "stderr",
          "text": [
            "100%|██████████| 51/51 [00:00<00:00, 141.51it/s]\n"
          ]
        },
        {
          "output_type": "stream",
          "name": "stdout",
          "text": [
            "Epoch: 140/200 | Epoch Time: 0m 0s\n",
            "\tTrain Loss: 0.362 | Train Acc: 86.34%\n",
            "\t Val. Loss: 1.482 |  Val. Acc: 49.48%\n"
          ]
        },
        {
          "output_type": "stream",
          "name": "stderr",
          "text": [
            "100%|██████████| 51/51 [00:00<00:00, 141.04it/s]\n"
          ]
        },
        {
          "output_type": "stream",
          "name": "stdout",
          "text": [
            "Epoch: 141/200 | Epoch Time: 0m 0s\n",
            "\tTrain Loss: 0.359 | Train Acc: 88.04%\n",
            "\t Val. Loss: 1.474 |  Val. Acc: 50.26%\n"
          ]
        },
        {
          "output_type": "stream",
          "name": "stderr",
          "text": [
            "100%|██████████| 51/51 [00:00<00:00, 133.80it/s]\n"
          ]
        },
        {
          "output_type": "stream",
          "name": "stdout",
          "text": [
            "Epoch: 142/200 | Epoch Time: 0m 0s\n",
            "\tTrain Loss: 0.360 | Train Acc: 86.95%\n",
            "\t Val. Loss: 1.484 |  Val. Acc: 51.04%\n"
          ]
        },
        {
          "output_type": "stream",
          "name": "stderr",
          "text": [
            "100%|██████████| 51/51 [00:00<00:00, 138.16it/s]\n"
          ]
        },
        {
          "output_type": "stream",
          "name": "stdout",
          "text": [
            "Epoch: 143/200 | Epoch Time: 0m 0s\n",
            "\tTrain Loss: 0.354 | Train Acc: 86.95%\n",
            "\t Val. Loss: 1.503 |  Val. Acc: 51.04%\n"
          ]
        },
        {
          "output_type": "stream",
          "name": "stderr",
          "text": [
            "100%|██████████| 51/51 [00:00<00:00, 136.66it/s]\n"
          ]
        },
        {
          "output_type": "stream",
          "name": "stdout",
          "text": [
            "Epoch: 144/200 | Epoch Time: 0m 0s\n",
            "\tTrain Loss: 0.349 | Train Acc: 88.48%\n",
            "\t Val. Loss: 1.497 |  Val. Acc: 51.04%\n"
          ]
        },
        {
          "output_type": "stream",
          "name": "stderr",
          "text": [
            "100%|██████████| 51/51 [00:00<00:00, 138.59it/s]\n"
          ]
        },
        {
          "output_type": "stream",
          "name": "stdout",
          "text": [
            "Epoch: 145/200 | Epoch Time: 0m 0s\n",
            "\tTrain Loss: 0.342 | Train Acc: 87.32%\n",
            "\t Val. Loss: 1.513 |  Val. Acc: 53.52%\n"
          ]
        },
        {
          "output_type": "stream",
          "name": "stderr",
          "text": [
            "100%|██████████| 51/51 [00:00<00:00, 139.64it/s]\n"
          ]
        },
        {
          "output_type": "stream",
          "name": "stdout",
          "text": [
            "Epoch: 146/200 | Epoch Time: 0m 0s\n",
            "\tTrain Loss: 0.340 | Train Acc: 88.05%\n",
            "\t Val. Loss: 1.493 |  Val. Acc: 51.04%\n"
          ]
        },
        {
          "output_type": "stream",
          "name": "stderr",
          "text": [
            "100%|██████████| 51/51 [00:00<00:00, 134.51it/s]\n"
          ]
        },
        {
          "output_type": "stream",
          "name": "stdout",
          "text": [
            "Epoch: 147/200 | Epoch Time: 0m 0s\n",
            "\tTrain Loss: 0.334 | Train Acc: 89.58%\n",
            "\t Val. Loss: 1.535 |  Val. Acc: 51.95%\n"
          ]
        },
        {
          "output_type": "stream",
          "name": "stderr",
          "text": [
            "100%|██████████| 51/51 [00:00<00:00, 137.73it/s]\n"
          ]
        },
        {
          "output_type": "stream",
          "name": "stdout",
          "text": [
            "Epoch: 148/200 | Epoch Time: 0m 0s\n",
            "\tTrain Loss: 0.328 | Train Acc: 87.99%\n",
            "\t Val. Loss: 1.516 |  Val. Acc: 50.65%\n"
          ]
        },
        {
          "output_type": "stream",
          "name": "stderr",
          "text": [
            "100%|██████████| 51/51 [00:00<00:00, 138.59it/s]\n"
          ]
        },
        {
          "output_type": "stream",
          "name": "stdout",
          "text": [
            "Epoch: 149/200 | Epoch Time: 0m 0s\n",
            "\tTrain Loss: 0.333 | Train Acc: 88.66%\n",
            "\t Val. Loss: 1.514 |  Val. Acc: 51.04%\n"
          ]
        },
        {
          "output_type": "stream",
          "name": "stderr",
          "text": [
            "100%|██████████| 51/51 [00:00<00:00, 133.40it/s]\n"
          ]
        },
        {
          "output_type": "stream",
          "name": "stdout",
          "text": [
            "Epoch: 150/200 | Epoch Time: 0m 0s\n",
            "\tTrain Loss: 0.326 | Train Acc: 88.11%\n",
            "\t Val. Loss: 1.517 |  Val. Acc: 49.87%\n"
          ]
        },
        {
          "output_type": "stream",
          "name": "stderr",
          "text": [
            "100%|██████████| 51/51 [00:00<00:00, 139.09it/s]\n"
          ]
        },
        {
          "output_type": "stream",
          "name": "stdout",
          "text": [
            "Epoch: 151/200 | Epoch Time: 0m 0s\n",
            "\tTrain Loss: 0.318 | Train Acc: 88.42%\n",
            "\t Val. Loss: 1.546 |  Val. Acc: 52.73%\n"
          ]
        },
        {
          "output_type": "stream",
          "name": "stderr",
          "text": [
            "100%|██████████| 51/51 [00:00<00:00, 131.34it/s]\n"
          ]
        },
        {
          "output_type": "stream",
          "name": "stdout",
          "text": [
            "Epoch: 152/200 | Epoch Time: 0m 0s\n",
            "\tTrain Loss: 0.315 | Train Acc: 89.15%\n",
            "\t Val. Loss: 1.535 |  Val. Acc: 49.87%\n"
          ]
        },
        {
          "output_type": "stream",
          "name": "stderr",
          "text": [
            "100%|██████████| 51/51 [00:00<00:00, 137.07it/s]\n"
          ]
        },
        {
          "output_type": "stream",
          "name": "stdout",
          "text": [
            "Epoch: 153/200 | Epoch Time: 0m 0s\n",
            "\tTrain Loss: 0.314 | Train Acc: 88.79%\n",
            "\t Val. Loss: 1.533 |  Val. Acc: 50.26%\n"
          ]
        },
        {
          "output_type": "stream",
          "name": "stderr",
          "text": [
            "100%|██████████| 51/51 [00:00<00:00, 137.52it/s]\n"
          ]
        },
        {
          "output_type": "stream",
          "name": "stdout",
          "text": [
            "Epoch: 154/200 | Epoch Time: 0m 0s\n",
            "\tTrain Loss: 0.310 | Train Acc: 88.48%\n",
            "\t Val. Loss: 1.553 |  Val. Acc: 49.87%\n"
          ]
        },
        {
          "output_type": "stream",
          "name": "stderr",
          "text": [
            "100%|██████████| 51/51 [00:00<00:00, 135.05it/s]\n"
          ]
        },
        {
          "output_type": "stream",
          "name": "stdout",
          "text": [
            "Epoch: 155/200 | Epoch Time: 0m 0s\n",
            "\tTrain Loss: 0.304 | Train Acc: 89.46%\n",
            "\t Val. Loss: 1.551 |  Val. Acc: 50.65%\n"
          ]
        },
        {
          "output_type": "stream",
          "name": "stderr",
          "text": [
            "100%|██████████| 51/51 [00:00<00:00, 119.22it/s]\n"
          ]
        },
        {
          "output_type": "stream",
          "name": "stdout",
          "text": [
            "Epoch: 156/200 | Epoch Time: 0m 0s\n",
            "\tTrain Loss: 0.304 | Train Acc: 90.13%\n",
            "\t Val. Loss: 1.550 |  Val. Acc: 48.18%\n"
          ]
        },
        {
          "output_type": "stream",
          "name": "stderr",
          "text": [
            "100%|██████████| 51/51 [00:00<00:00, 102.77it/s]\n"
          ]
        },
        {
          "output_type": "stream",
          "name": "stdout",
          "text": [
            "Epoch: 157/200 | Epoch Time: 0m 0s\n",
            "\tTrain Loss: 0.295 | Train Acc: 89.89%\n",
            "\t Val. Loss: 1.578 |  Val. Acc: 49.87%\n"
          ]
        },
        {
          "output_type": "stream",
          "name": "stderr",
          "text": [
            "100%|██████████| 51/51 [00:00<00:00, 105.52it/s]\n"
          ]
        },
        {
          "output_type": "stream",
          "name": "stdout",
          "text": [
            "Epoch: 158/200 | Epoch Time: 0m 0s\n",
            "\tTrain Loss: 0.292 | Train Acc: 90.13%\n",
            "\t Val. Loss: 1.568 |  Val. Acc: 51.43%\n"
          ]
        },
        {
          "output_type": "stream",
          "name": "stderr",
          "text": [
            "100%|██████████| 51/51 [00:00<00:00, 100.50it/s]\n"
          ]
        },
        {
          "output_type": "stream",
          "name": "stdout",
          "text": [
            "Epoch: 159/200 | Epoch Time: 0m 0s\n",
            "\tTrain Loss: 0.289 | Train Acc: 90.69%\n",
            "\t Val. Loss: 1.580 |  Val. Acc: 49.87%\n"
          ]
        },
        {
          "output_type": "stream",
          "name": "stderr",
          "text": [
            "100%|██████████| 51/51 [00:00<00:00, 97.27it/s]\n"
          ]
        },
        {
          "output_type": "stream",
          "name": "stdout",
          "text": [
            "Epoch: 160/200 | Epoch Time: 0m 0s\n",
            "\tTrain Loss: 0.288 | Train Acc: 90.99%\n",
            "\t Val. Loss: 1.581 |  Val. Acc: 49.87%\n"
          ]
        },
        {
          "output_type": "stream",
          "name": "stderr",
          "text": [
            "100%|██████████| 51/51 [00:00<00:00, 124.95it/s]\n"
          ]
        },
        {
          "output_type": "stream",
          "name": "stdout",
          "text": [
            "Epoch: 161/200 | Epoch Time: 0m 0s\n",
            "\tTrain Loss: 0.285 | Train Acc: 90.44%\n",
            "\t Val. Loss: 1.585 |  Val. Acc: 49.87%\n"
          ]
        },
        {
          "output_type": "stream",
          "name": "stderr",
          "text": [
            "100%|██████████| 51/51 [00:00<00:00, 136.94it/s]\n"
          ]
        },
        {
          "output_type": "stream",
          "name": "stdout",
          "text": [
            "Epoch: 162/200 | Epoch Time: 0m 0s\n",
            "\tTrain Loss: 0.279 | Train Acc: 90.87%\n",
            "\t Val. Loss: 1.622 |  Val. Acc: 51.56%\n"
          ]
        },
        {
          "output_type": "stream",
          "name": "stderr",
          "text": [
            "100%|██████████| 51/51 [00:00<00:00, 133.62it/s]\n"
          ]
        },
        {
          "output_type": "stream",
          "name": "stdout",
          "text": [
            "Epoch: 163/200 | Epoch Time: 0m 0s\n",
            "\tTrain Loss: 0.272 | Train Acc: 90.81%\n",
            "\t Val. Loss: 1.592 |  Val. Acc: 49.09%\n"
          ]
        },
        {
          "output_type": "stream",
          "name": "stderr",
          "text": [
            "100%|██████████| 51/51 [00:00<00:00, 140.33it/s]\n"
          ]
        },
        {
          "output_type": "stream",
          "name": "stdout",
          "text": [
            "Epoch: 164/200 | Epoch Time: 0m 0s\n",
            "\tTrain Loss: 0.273 | Train Acc: 90.38%\n",
            "\t Val. Loss: 1.637 |  Val. Acc: 50.39%\n"
          ]
        },
        {
          "output_type": "stream",
          "name": "stderr",
          "text": [
            "100%|██████████| 51/51 [00:00<00:00, 133.38it/s]\n"
          ]
        },
        {
          "output_type": "stream",
          "name": "stdout",
          "text": [
            "Epoch: 165/200 | Epoch Time: 0m 0s\n",
            "\tTrain Loss: 0.268 | Train Acc: 91.18%\n",
            "\t Val. Loss: 1.605 |  Val. Acc: 49.09%\n"
          ]
        },
        {
          "output_type": "stream",
          "name": "stderr",
          "text": [
            "100%|██████████| 51/51 [00:00<00:00, 137.07it/s]\n"
          ]
        },
        {
          "output_type": "stream",
          "name": "stdout",
          "text": [
            "Epoch: 166/200 | Epoch Time: 0m 0s\n",
            "\tTrain Loss: 0.262 | Train Acc: 91.24%\n",
            "\t Val. Loss: 1.618 |  Val. Acc: 49.09%\n"
          ]
        },
        {
          "output_type": "stream",
          "name": "stderr",
          "text": [
            "100%|██████████| 51/51 [00:00<00:00, 142.47it/s]\n"
          ]
        },
        {
          "output_type": "stream",
          "name": "stdout",
          "text": [
            "Epoch: 167/200 | Epoch Time: 0m 0s\n",
            "\tTrain Loss: 0.261 | Train Acc: 91.91%\n",
            "\t Val. Loss: 1.679 |  Val. Acc: 50.78%\n"
          ]
        },
        {
          "output_type": "stream",
          "name": "stderr",
          "text": [
            "100%|██████████| 51/51 [00:00<00:00, 143.08it/s]\n"
          ]
        },
        {
          "output_type": "stream",
          "name": "stdout",
          "text": [
            "Epoch: 168/200 | Epoch Time: 0m 0s\n",
            "\tTrain Loss: 0.257 | Train Acc: 91.54%\n",
            "\t Val. Loss: 1.640 |  Val. Acc: 50.26%\n"
          ]
        },
        {
          "output_type": "stream",
          "name": "stderr",
          "text": [
            "100%|██████████| 51/51 [00:00<00:00, 134.54it/s]\n"
          ]
        },
        {
          "output_type": "stream",
          "name": "stdout",
          "text": [
            "Epoch: 169/200 | Epoch Time: 0m 0s\n",
            "\tTrain Loss: 0.253 | Train Acc: 92.03%\n",
            "\t Val. Loss: 1.651 |  Val. Acc: 48.31%\n"
          ]
        },
        {
          "output_type": "stream",
          "name": "stderr",
          "text": [
            "100%|██████████| 51/51 [00:00<00:00, 136.36it/s]\n"
          ]
        },
        {
          "output_type": "stream",
          "name": "stdout",
          "text": [
            "Epoch: 170/200 | Epoch Time: 0m 0s\n",
            "\tTrain Loss: 0.249 | Train Acc: 92.03%\n",
            "\t Val. Loss: 1.645 |  Val. Acc: 50.78%\n"
          ]
        },
        {
          "output_type": "stream",
          "name": "stderr",
          "text": [
            "100%|██████████| 51/51 [00:00<00:00, 134.78it/s]\n"
          ]
        },
        {
          "output_type": "stream",
          "name": "stdout",
          "text": [
            "Epoch: 171/200 | Epoch Time: 0m 0s\n",
            "\tTrain Loss: 0.246 | Train Acc: 91.97%\n",
            "\t Val. Loss: 1.665 |  Val. Acc: 48.70%\n"
          ]
        },
        {
          "output_type": "stream",
          "name": "stderr",
          "text": [
            "100%|██████████| 51/51 [00:00<00:00, 139.06it/s]\n"
          ]
        },
        {
          "output_type": "stream",
          "name": "stdout",
          "text": [
            "Epoch: 172/200 | Epoch Time: 0m 0s\n",
            "\tTrain Loss: 0.243 | Train Acc: 93.32%\n",
            "\t Val. Loss: 1.692 |  Val. Acc: 50.78%\n"
          ]
        },
        {
          "output_type": "stream",
          "name": "stderr",
          "text": [
            "100%|██████████| 51/51 [00:00<00:00, 139.76it/s]\n"
          ]
        },
        {
          "output_type": "stream",
          "name": "stdout",
          "text": [
            "Epoch: 173/200 | Epoch Time: 0m 0s\n",
            "\tTrain Loss: 0.243 | Train Acc: 92.22%\n",
            "\t Val. Loss: 1.661 |  Val. Acc: 47.40%\n"
          ]
        },
        {
          "output_type": "stream",
          "name": "stderr",
          "text": [
            "100%|██████████| 51/51 [00:00<00:00, 133.26it/s]\n"
          ]
        },
        {
          "output_type": "stream",
          "name": "stdout",
          "text": [
            "Epoch: 174/200 | Epoch Time: 0m 0s\n",
            "\tTrain Loss: 0.239 | Train Acc: 92.83%\n",
            "\t Val. Loss: 1.691 |  Val. Acc: 48.31%\n"
          ]
        },
        {
          "output_type": "stream",
          "name": "stderr",
          "text": [
            "100%|██████████| 51/51 [00:00<00:00, 135.19it/s]\n"
          ]
        },
        {
          "output_type": "stream",
          "name": "stdout",
          "text": [
            "Epoch: 175/200 | Epoch Time: 0m 0s\n",
            "\tTrain Loss: 0.232 | Train Acc: 93.14%\n",
            "\t Val. Loss: 1.679 |  Val. Acc: 47.01%\n"
          ]
        },
        {
          "output_type": "stream",
          "name": "stderr",
          "text": [
            "100%|██████████| 51/51 [00:00<00:00, 136.71it/s]\n"
          ]
        },
        {
          "output_type": "stream",
          "name": "stdout",
          "text": [
            "Epoch: 176/200 | Epoch Time: 0m 0s\n",
            "\tTrain Loss: 0.230 | Train Acc: 93.26%\n",
            "\t Val. Loss: 1.705 |  Val. Acc: 51.17%\n"
          ]
        },
        {
          "output_type": "stream",
          "name": "stderr",
          "text": [
            "100%|██████████| 51/51 [00:00<00:00, 140.40it/s]\n"
          ]
        },
        {
          "output_type": "stream",
          "name": "stdout",
          "text": [
            "Epoch: 177/200 | Epoch Time: 0m 0s\n",
            "\tTrain Loss: 0.229 | Train Acc: 93.20%\n",
            "\t Val. Loss: 1.738 |  Val. Acc: 50.39%\n"
          ]
        },
        {
          "output_type": "stream",
          "name": "stderr",
          "text": [
            "100%|██████████| 51/51 [00:00<00:00, 139.43it/s]\n"
          ]
        },
        {
          "output_type": "stream",
          "name": "stdout",
          "text": [
            "Epoch: 178/200 | Epoch Time: 0m 0s\n",
            "\tTrain Loss: 0.224 | Train Acc: 92.83%\n",
            "\t Val. Loss: 1.733 |  Val. Acc: 50.39%\n"
          ]
        },
        {
          "output_type": "stream",
          "name": "stderr",
          "text": [
            "100%|██████████| 51/51 [00:00<00:00, 139.59it/s]\n"
          ]
        },
        {
          "output_type": "stream",
          "name": "stdout",
          "text": [
            "Epoch: 179/200 | Epoch Time: 0m 0s\n",
            "\tTrain Loss: 0.216 | Train Acc: 93.32%\n",
            "\t Val. Loss: 1.713 |  Val. Acc: 45.44%\n"
          ]
        },
        {
          "output_type": "stream",
          "name": "stderr",
          "text": [
            "100%|██████████| 51/51 [00:00<00:00, 138.60it/s]\n"
          ]
        },
        {
          "output_type": "stream",
          "name": "stdout",
          "text": [
            "Epoch: 180/200 | Epoch Time: 0m 0s\n",
            "\tTrain Loss: 0.215 | Train Acc: 93.93%\n",
            "\t Val. Loss: 1.732 |  Val. Acc: 49.61%\n"
          ]
        },
        {
          "output_type": "stream",
          "name": "stderr",
          "text": [
            "100%|██████████| 51/51 [00:00<00:00, 132.81it/s]\n"
          ]
        },
        {
          "output_type": "stream",
          "name": "stdout",
          "text": [
            "Epoch: 181/200 | Epoch Time: 0m 0s\n",
            "\tTrain Loss: 0.214 | Train Acc: 93.08%\n",
            "\t Val. Loss: 1.737 |  Val. Acc: 50.39%\n"
          ]
        },
        {
          "output_type": "stream",
          "name": "stderr",
          "text": [
            "100%|██████████| 51/51 [00:00<00:00, 138.77it/s]\n"
          ]
        },
        {
          "output_type": "stream",
          "name": "stdout",
          "text": [
            "Epoch: 182/200 | Epoch Time: 0m 0s\n",
            "\tTrain Loss: 0.208 | Train Acc: 93.87%\n",
            "\t Val. Loss: 1.780 |  Val. Acc: 50.39%\n"
          ]
        },
        {
          "output_type": "stream",
          "name": "stderr",
          "text": [
            "100%|██████████| 51/51 [00:00<00:00, 137.91it/s]\n"
          ]
        },
        {
          "output_type": "stream",
          "name": "stdout",
          "text": [
            "Epoch: 183/200 | Epoch Time: 0m 0s\n",
            "\tTrain Loss: 0.207 | Train Acc: 94.49%\n",
            "\t Val. Loss: 1.748 |  Val. Acc: 51.17%\n"
          ]
        },
        {
          "output_type": "stream",
          "name": "stderr",
          "text": [
            "100%|██████████| 51/51 [00:00<00:00, 136.37it/s]\n"
          ]
        },
        {
          "output_type": "stream",
          "name": "stdout",
          "text": [
            "Epoch: 184/200 | Epoch Time: 0m 0s\n",
            "\tTrain Loss: 0.204 | Train Acc: 93.93%\n",
            "\t Val. Loss: 1.772 |  Val. Acc: 50.39%\n"
          ]
        },
        {
          "output_type": "stream",
          "name": "stderr",
          "text": [
            "100%|██████████| 51/51 [00:00<00:00, 135.79it/s]\n"
          ]
        },
        {
          "output_type": "stream",
          "name": "stdout",
          "text": [
            "Epoch: 185/200 | Epoch Time: 0m 0s\n",
            "\tTrain Loss: 0.204 | Train Acc: 93.93%\n",
            "\t Val. Loss: 1.780 |  Val. Acc: 50.39%\n"
          ]
        },
        {
          "output_type": "stream",
          "name": "stderr",
          "text": [
            "100%|██████████| 51/51 [00:00<00:00, 102.45it/s]\n"
          ]
        },
        {
          "output_type": "stream",
          "name": "stdout",
          "text": [
            "Epoch: 186/200 | Epoch Time: 0m 0s\n",
            "\tTrain Loss: 0.199 | Train Acc: 94.42%\n",
            "\t Val. Loss: 1.769 |  Val. Acc: 48.31%\n"
          ]
        },
        {
          "output_type": "stream",
          "name": "stderr",
          "text": [
            "100%|██████████| 51/51 [00:00<00:00, 102.77it/s]\n"
          ]
        },
        {
          "output_type": "stream",
          "name": "stdout",
          "text": [
            "Epoch: 187/200 | Epoch Time: 0m 0s\n",
            "\tTrain Loss: 0.193 | Train Acc: 94.98%\n",
            "\t Val. Loss: 1.808 |  Val. Acc: 50.00%\n"
          ]
        },
        {
          "output_type": "stream",
          "name": "stderr",
          "text": [
            "100%|██████████| 51/51 [00:00<00:00, 101.19it/s]\n"
          ]
        },
        {
          "output_type": "stream",
          "name": "stdout",
          "text": [
            "Epoch: 188/200 | Epoch Time: 0m 0s\n",
            "\tTrain Loss: 0.196 | Train Acc: 93.75%\n",
            "\t Val. Loss: 1.803 |  Val. Acc: 49.61%\n"
          ]
        },
        {
          "output_type": "stream",
          "name": "stderr",
          "text": [
            "100%|██████████| 51/51 [00:00<00:00, 101.03it/s]\n"
          ]
        },
        {
          "output_type": "stream",
          "name": "stdout",
          "text": [
            "Epoch: 189/200 | Epoch Time: 0m 0s\n",
            "\tTrain Loss: 0.189 | Train Acc: 94.73%\n",
            "\t Val. Loss: 1.788 |  Val. Acc: 50.00%\n"
          ]
        },
        {
          "output_type": "stream",
          "name": "stderr",
          "text": [
            "100%|██████████| 51/51 [00:00<00:00, 92.20it/s]\n"
          ]
        },
        {
          "output_type": "stream",
          "name": "stdout",
          "text": [
            "Epoch: 190/200 | Epoch Time: 0m 0s\n",
            "\tTrain Loss: 0.193 | Train Acc: 94.18%\n",
            "\t Val. Loss: 1.794 |  Val. Acc: 50.00%\n"
          ]
        },
        {
          "output_type": "stream",
          "name": "stderr",
          "text": [
            "100%|██████████| 51/51 [00:00<00:00, 140.04it/s]\n"
          ]
        },
        {
          "output_type": "stream",
          "name": "stdout",
          "text": [
            "Epoch: 191/200 | Epoch Time: 0m 0s\n",
            "\tTrain Loss: 0.183 | Train Acc: 94.85%\n",
            "\t Val. Loss: 1.792 |  Val. Acc: 47.53%\n"
          ]
        },
        {
          "output_type": "stream",
          "name": "stderr",
          "text": [
            "100%|██████████| 51/51 [00:00<00:00, 146.27it/s]\n"
          ]
        },
        {
          "output_type": "stream",
          "name": "stdout",
          "text": [
            "Epoch: 192/200 | Epoch Time: 0m 0s\n",
            "\tTrain Loss: 0.184 | Train Acc: 94.67%\n",
            "\t Val. Loss: 1.817 |  Val. Acc: 50.00%\n"
          ]
        },
        {
          "output_type": "stream",
          "name": "stderr",
          "text": [
            "100%|██████████| 51/51 [00:00<00:00, 133.83it/s]\n"
          ]
        },
        {
          "output_type": "stream",
          "name": "stdout",
          "text": [
            "Epoch: 193/200 | Epoch Time: 0m 0s\n",
            "\tTrain Loss: 0.181 | Train Acc: 94.91%\n",
            "\t Val. Loss: 1.826 |  Val. Acc: 50.00%\n"
          ]
        },
        {
          "output_type": "stream",
          "name": "stderr",
          "text": [
            "100%|██████████| 51/51 [00:00<00:00, 143.89it/s]\n"
          ]
        },
        {
          "output_type": "stream",
          "name": "stdout",
          "text": [
            "Epoch: 194/200 | Epoch Time: 0m 0s\n",
            "\tTrain Loss: 0.180 | Train Acc: 94.73%\n",
            "\t Val. Loss: 1.819 |  Val. Acc: 47.53%\n"
          ]
        },
        {
          "output_type": "stream",
          "name": "stderr",
          "text": [
            "100%|██████████| 51/51 [00:00<00:00, 136.72it/s]\n"
          ]
        },
        {
          "output_type": "stream",
          "name": "stdout",
          "text": [
            "Epoch: 195/200 | Epoch Time: 0m 0s\n",
            "\tTrain Loss: 0.172 | Train Acc: 95.34%\n",
            "\t Val. Loss: 1.840 |  Val. Acc: 50.39%\n"
          ]
        },
        {
          "output_type": "stream",
          "name": "stderr",
          "text": [
            "100%|██████████| 51/51 [00:00<00:00, 125.68it/s]\n"
          ]
        },
        {
          "output_type": "stream",
          "name": "stdout",
          "text": [
            "Epoch: 196/200 | Epoch Time: 0m 0s\n",
            "\tTrain Loss: 0.176 | Train Acc: 94.67%\n",
            "\t Val. Loss: 1.829 |  Val. Acc: 47.92%\n"
          ]
        },
        {
          "output_type": "stream",
          "name": "stderr",
          "text": [
            "100%|██████████| 51/51 [00:00<00:00, 139.15it/s]\n"
          ]
        },
        {
          "output_type": "stream",
          "name": "stdout",
          "text": [
            "Epoch: 197/200 | Epoch Time: 0m 0s\n",
            "\tTrain Loss: 0.170 | Train Acc: 94.91%\n",
            "\t Val. Loss: 1.842 |  Val. Acc: 47.53%\n"
          ]
        },
        {
          "output_type": "stream",
          "name": "stderr",
          "text": [
            "100%|██████████| 51/51 [00:00<00:00, 130.79it/s]\n"
          ]
        },
        {
          "output_type": "stream",
          "name": "stdout",
          "text": [
            "Epoch: 198/200 | Epoch Time: 0m 0s\n",
            "\tTrain Loss: 0.165 | Train Acc: 95.71%\n",
            "\t Val. Loss: 1.870 |  Val. Acc: 49.61%\n"
          ]
        },
        {
          "output_type": "stream",
          "name": "stderr",
          "text": [
            "100%|██████████| 51/51 [00:00<00:00, 142.45it/s]\n"
          ]
        },
        {
          "output_type": "stream",
          "name": "stdout",
          "text": [
            "Epoch: 199/200 | Epoch Time: 0m 0s\n",
            "\tTrain Loss: 0.158 | Train Acc: 95.96%\n",
            "\t Val. Loss: 1.876 |  Val. Acc: 48.83%\n"
          ]
        },
        {
          "output_type": "stream",
          "name": "stderr",
          "text": [
            "100%|██████████| 51/51 [00:00<00:00, 130.57it/s]"
          ]
        },
        {
          "output_type": "stream",
          "name": "stdout",
          "text": [
            "Epoch: 200/200 | Epoch Time: 0m 0s\n",
            "\tTrain Loss: 0.163 | Train Acc: 95.83%\n",
            "\t Val. Loss: 1.886 |  Val. Acc: 48.31%\n"
          ]
        },
        {
          "output_type": "stream",
          "name": "stderr",
          "text": [
            "\n"
          ]
        }
      ],
      "source": [
        "from sklearn.metrics import confusion_matrix\n",
        "import seaborn as sns\n",
        "import matplotlib.pyplot as plt\n",
        "import pandas as pd # Import pandas for data loading\n",
        "from sklearn.preprocessing import LabelEncoder\n",
        "\n",
        "encoder = LabelEncoder()\n",
        "# Fit the encoder on your labels\n",
        "encoder.fit(df['label']) # assuming 'df' is your DataFrame containing the original labels\n",
        "\n",
        "train_losses = []\n",
        "valid_losses = []\n",
        "train_accs = []\n",
        "valid_accs = []\n",
        "\n",
        "all_y_true = []\n",
        "all_y_pred = []\n",
        "\n",
        "train_iter, valid_iter, test_iter = load_data()\n",
        "\n",
        "optimizer = optim.Adam(model.parameters(),lr=0.000005)\n",
        "class_weights_tensor = torch.tensor(list(class_weight_dict.values()), dtype=torch.float).to(device)\n",
        "criterion = nn.CrossEntropyLoss(weight=class_weights_tensor)\n",
        "\n",
        "# criterion = nn.CrossEntropyLoss().to(device)\n",
        "model = model.to(device)\n",
        "# model.apply(reset_weights)\n",
        "\n",
        "best_valid_loss = float('inf')\n",
        "\n",
        "train_data = train\n",
        "\n",
        "for epoch in range(N_EPOCHS):\n",
        "  # start time\n",
        "  start_time = time.time()\n",
        "  # train for an epoch\n",
        "  # train_loss, train_acc = train(model, train_iter, optimizer, criterion)\n",
        "  # valid_loss, valid_acc, _, _ = evaluate(model, valid_iter, criterion)\n",
        "\n",
        "  train_loss, train_acc = train(model, train_iter, optimizer, criterion)\n",
        "  valid_loss, valid_acc, y_true, y_pred = evaluate(model, valid_iter, criterion, encoder)\n",
        "\n",
        "  all_y_true.extend(y_true)\n",
        "  all_y_pred.extend(y_pred)\n",
        "\n",
        "  # end time\n",
        "  end_time = time.time()\n",
        "  # stats\n",
        "  epoch_mins, epoch_secs = epoch_time(start_time, end_time)\n",
        "  # เก็บข้อมูลการสูญเสียและความแม่นยำ\n",
        "  train_losses.append(train_loss)\n",
        "  valid_losses.append(valid_loss)\n",
        "  train_accs.append(train_acc)\n",
        "  valid_accs.append(valid_acc)\n",
        "  # save model if has validation loss\n",
        "  # better than last one\n",
        "  if valid_loss < best_valid_loss:\n",
        "    best_valid_loss = valid_loss\n",
        "    torch.save(model.state_dict(), 'sentiment_model_gru.pt')\n",
        "    print(f\"Best model saved at epoch {epoch} with validation loss: {valid_loss:.4f}\")\n",
        "  # stats\n",
        "  print(f'Epoch: {epoch+1:02}/{N_EPOCHS} | Epoch Time: {epoch_mins}m {epoch_secs}s')\n",
        "  print(f'\\tTrain Loss: {train_loss:.3f} | Train Acc: {train_acc*100:.2f}%')\n",
        "  print(f'\\t Val. Loss: {valid_loss:.3f} |  Val. Acc: {valid_acc*100:.2f}%')\n"
      ]
    },
    {
      "cell_type": "code",
      "execution_count": null,
      "metadata": {
        "id": "Jf9O0Jh5JDPm"
      },
      "outputs": [],
      "source": [
        "import torchtext\n",
        "from sklearn.model_selection import train_test_split\n",
        "import pandas as pd\n",
        "import random\n",
        "\n",
        "# Tokenize and crop sentence to 510 (for 1st and last token) instead of 512 (i.e. `max_input_len`)\n",
        "def tokenize_and_crop(sentence):\n",
        "  #print(sentence)\n",
        "  tokens = tokenizer.tokenize(sentence)\n",
        "  tokens = tokens[:max_input_len - 2]\n",
        "  return tokens\n",
        "\n",
        "# Load the IMDB dataset and\n",
        "# return (train_iter, valid_iter, test_iter) tuple\n",
        "def load_data():\n",
        "    text = torchtext.data.Field(\n",
        "        batch_first=True,\n",
        "        use_vocab=False,\n",
        "        tokenize=tokenize_and_crop,\n",
        "        preprocessing=tokenizer.convert_tokens_to_ids,\n",
        "        init_token=init_token_id,\n",
        "        pad_token=pad_token_id,\n",
        "        unk_token=unk_token_id\n",
        "    )\n",
        "\n",
        "    label = torchtext.data.LabelField(dtype=torch.float)\n",
        "\n",
        "    fields = {'cleaned_review': text, 'label': label}\n",
        "\n",
        "    # Convert pandas DataFrame to a list of\n",
        "    data['cleaned_review'] = data['cleaned_review'].astype(str)  # Convert to string\n",
        "    examples = data.apply(lambda row: SeriesExample.fromSeries(row, fields), axis=1).tolist()\n",
        "\n",
        "    # Split the data into train, validation, and test sets\n",
        "    train_examples, test_examples = train_test_split(examples, test_size=0.2, random_state=1234, stratify=data['label'])\n",
        "    train_examples, val_examples = train_test_split(train_examples, test_size=1/8, random_state=1234, stratify = [example.label for example in train_examples]) # 1/8 of the total = 1/8 of 0.8 = 0.1\n",
        "\n",
        "\n",
        "    train_ds = torchtext.data.Dataset(train_examples, fields)\n",
        "    val_ds = torchtext.data.Dataset(val_examples, fields)\n",
        "    test_ds = torchtext.data.Dataset(test_examples, fields)\n",
        "\n",
        "    print(f\"training examples count: {len(train_ds)}\")\n",
        "    print(f\"validation examples count: {len(val_ds)}\")\n",
        "    print(f\"test examples count: {len(test_ds)}\")\n",
        "\n",
        "    label.build_vocab(train_ds)\n",
        "\n",
        "    train_iter, valid_iter, test_iter = torchtext.data.BucketIterator.splits(\n",
        "        (train_ds, val_ds, test_ds),\n",
        "        batch_size=BATCH_SIZE,\n",
        "        device=device,\n",
        "        sort_key=lambda x: len(x.cleaned_review),\n",
        "        sort_within_batch=False,\n",
        "    )\n",
        "    print(label.vocab.stoi)\n",
        "\n",
        "    return train_iter, valid_iter, test_iter"
      ]
    },
    {
      "cell_type": "code",
      "execution_count": null,
      "metadata": {
        "id": "XhwxSvcxxR0E"
      },
      "outputs": [],
      "source": [
        "import torchtext\n",
        "from sklearn.model_selection import train_test_split\n",
        "import pandas as pd\n",
        "import random\n",
        "\n",
        "# Tokenize and crop sentence to 510 (for 1st and last token) instead of 512 (i.e. `max_input_len`)\n",
        "def tokenize_and_crop(sentence):\n",
        "  #print(sentence)\n",
        "  tokens = tokenizer.tokenize(sentence)\n",
        "  tokens = tokens[:max_input_len - 2]\n",
        "  return tokens\n",
        "\n",
        "# Load the IMDB dataset and\n",
        "# return (train_iter, valid_iter, test_iter) tuple\n",
        "def load_data():\n",
        "    text = torchtext.data.Field(\n",
        "        batch_first=True,\n",
        "        use_vocab=False,\n",
        "        tokenize=tokenize_and_crop,\n",
        "        preprocessing=tokenizer.convert_tokens_to_ids,\n",
        "        init_token=init_token_id,\n",
        "        pad_token=pad_token_id,\n",
        "        unk_token=unk_token_id\n",
        "    )\n",
        "\n",
        "    label = torchtext.data.LabelField(dtype=torch.float)\n",
        "\n",
        "    fields = {'cleaned_review': text, 'label': label}\n",
        "\n",
        "    # Convert pandas DataFrame to a list of\n",
        "    data['cleaned_review'] = data['cleaned_review'].astype(str)  # Convert to string\n",
        "    examples = data.apply(lambda row: SeriesExample.fromSeries(row, fields), axis=1).tolist()\n",
        "\n",
        "    # Split the data into train, validation, and test sets\n",
        "    train_examples, test_examples = train_test_split(examples, test_size=0.2, random_state=1234, stratify=data['label'])\n",
        "    train_examples, val_examples = train_test_split(train_examples, test_size=1/8, random_state=1234, stratify = [example.label for example in train_examples]) # 1/8 of the total = 1/8 of 0.8 = 0.1\n",
        "\n",
        "\n",
        "    train_ds = torchtext.data.Dataset(train_examples, fields)\n",
        "    val_ds = torchtext.data.Dataset(val_examples, fields)\n",
        "    test_ds = torchtext.data.Dataset(test_examples, fields)\n",
        "\n",
        "    print(f\"training examples count: {len(train_ds)}\")\n",
        "    print(f\"validation examples count: {len(val_ds)}\")\n",
        "    print(f\"test examples count: {len(test_ds)}\")\n",
        "\n",
        "    label.build_vocab(train_ds)\n",
        "\n",
        "    train_iter, valid_iter, test_iter = torchtext.data.BucketIterator.splits(\n",
        "        (train_ds, val_ds, test_ds),\n",
        "        batch_size=BATCH_SIZE,\n",
        "        device=device,\n",
        "        sort_key=lambda x: len(x.cleaned_review),\n",
        "        sort_within_batch=False,\n",
        "    )\n",
        "    print(label.vocab.stoi)\n",
        "\n",
        "    return train_iter, valid_iter, test_iter"
      ]
    },
    {
      "cell_type": "code",
      "execution_count": null,
      "metadata": {
        "id": "JnmZ8CyyxSMG"
      },
      "outputs": [],
      "source": [
        "import torchtext\n",
        "from sklearn.model_selection import train_test_split\n",
        "import pandas as pd\n",
        "import random\n",
        "\n",
        "# Tokenize and crop sentence to 510 (for 1st and last token) instead of 512 (i.e. `max_input_len`)\n",
        "def tokenize_and_crop(sentence):\n",
        "  #print(sentence)\n",
        "  tokens = tokenizer.tokenize(sentence)\n",
        "  tokens = tokens[:max_input_len - 2]\n",
        "  return tokens\n",
        "\n",
        "# Load the IMDB dataset and\n",
        "# return (train_iter, valid_iter, test_iter) tuple\n",
        "def load_data():\n",
        "    text = torchtext.data.Field(\n",
        "        batch_first=True,\n",
        "        use_vocab=False,\n",
        "        tokenize=tokenize_and_crop,\n",
        "        preprocessing=tokenizer.convert_tokens_to_ids,\n",
        "        init_token=init_token_id,\n",
        "        pad_token=pad_token_id,\n",
        "        unk_token=unk_token_id\n",
        "    )\n",
        "\n",
        "    label = torchtext.data.LabelField(dtype=torch.float)\n",
        "\n",
        "    fields = {'cleaned_review': text, 'label': label}\n",
        "\n",
        "    # Convert pandas DataFrame to a list of\n",
        "    data['cleaned_review'] = data['cleaned_review'].astype(str)  # Convert to string\n",
        "    examples = data.apply(lambda row: SeriesExample.fromSeries(row, fields), axis=1).tolist()\n",
        "\n",
        "    # Split the data into train, validation, and test sets\n",
        "    train_examples, test_examples = train_test_split(examples, test_size=0.2, random_state=1234, stratify=data['label'])\n",
        "    train_examples, val_examples = train_test_split(train_examples, test_size=1/8, random_state=1234, stratify = [example.label for example in train_examples]) # 1/8 of the total = 1/8 of 0.8 = 0.1\n",
        "\n",
        "\n",
        "    train_ds = torchtext.data.Dataset(train_examples, fields)\n",
        "    val_ds = torchtext.data.Dataset(val_examples, fields)\n",
        "    test_ds = torchtext.data.Dataset(test_examples, fields)\n",
        "\n",
        "    print(f\"training examples count: {len(train_ds)}\")\n",
        "    print(f\"validation examples count: {len(val_ds)}\")\n",
        "    print(f\"test examples count: {len(test_ds)}\")\n",
        "\n",
        "    label.build_vocab(train_ds)\n",
        "\n",
        "    train_iter, valid_iter, test_iter = torchtext.data.BucketIterator.splits(\n",
        "        (train_ds, val_ds, test_ds),\n",
        "        batch_size=BATCH_SIZE,\n",
        "        device=device,\n",
        "        sort_key=lambda x: len(x.cleaned_review),\n",
        "        sort_within_batch=False,\n",
        "    )\n",
        "    print(label.vocab.stoi)\n",
        "\n",
        "    return train_iter, valid_iter, test_iter"
      ]
    },
    {
      "cell_type": "code",
      "execution_count": null,
      "metadata": {
        "id": "P1nOGFMrxStj"
      },
      "outputs": [],
      "source": [
        "import torchtext\n",
        "from sklearn.model_selection import train_test_split\n",
        "import pandas as pd\n",
        "import random\n",
        "\n",
        "# Tokenize and crop sentence to 510 (for 1st and last token) instead of 512 (i.e. `max_input_len`)\n",
        "def tokenize_and_crop(sentence):\n",
        "  #print(sentence)\n",
        "  tokens = tokenizer.tokenize(sentence)\n",
        "  tokens = tokens[:max_input_len - 2]\n",
        "  return tokens\n",
        "\n",
        "# Load the IMDB dataset and\n",
        "# return (train_iter, valid_iter, test_iter) tuple\n",
        "def load_data():\n",
        "    text = torchtext.data.Field(\n",
        "        batch_first=True,\n",
        "        use_vocab=False,\n",
        "        tokenize=tokenize_and_crop,\n",
        "        preprocessing=tokenizer.convert_tokens_to_ids,\n",
        "        init_token=init_token_id,\n",
        "        pad_token=pad_token_id,\n",
        "        unk_token=unk_token_id\n",
        "    )\n",
        "\n",
        "    label = torchtext.data.LabelField(dtype=torch.float)\n",
        "\n",
        "    fields = {'cleaned_review': text, 'label': label}\n",
        "\n",
        "    # Convert pandas DataFrame to a list of\n",
        "    data['cleaned_review'] = data['cleaned_review'].astype(str)  # Convert to string\n",
        "    examples = data.apply(lambda row: SeriesExample.fromSeries(row, fields), axis=1).tolist()\n",
        "\n",
        "    # Split the data into train, validation, and test sets\n",
        "    train_examples, test_examples = train_test_split(examples, test_size=0.2, random_state=1234, stratify=data['label'])\n",
        "    train_examples, val_examples = train_test_split(train_examples, test_size=1/8, random_state=1234, stratify = [example.label for example in train_examples]) # 1/8 of the total = 1/8 of 0.8 = 0.1\n",
        "\n",
        "\n",
        "    train_ds = torchtext.data.Dataset(train_examples, fields)\n",
        "    val_ds = torchtext.data.Dataset(val_examples, fields)\n",
        "    test_ds = torchtext.data.Dataset(test_examples, fields)\n",
        "\n",
        "    print(f\"training examples count: {len(train_ds)}\")\n",
        "    print(f\"validation examples count: {len(val_ds)}\")\n",
        "    print(f\"test examples count: {len(test_ds)}\")\n",
        "\n",
        "    label.build_vocab(train_ds)\n",
        "\n",
        "    train_iter, valid_iter, test_iter = torchtext.data.BucketIterator.splits(\n",
        "        (train_ds, val_ds, test_ds),\n",
        "        batch_size=BATCH_SIZE,\n",
        "        device=device,\n",
        "        sort_key=lambda x: len(x.cleaned_review),\n",
        "        sort_within_batch=False,\n",
        "    )\n",
        "    print(label.vocab.stoi)\n",
        "\n",
        "    return train_iter, valid_iter, test_iter"
      ]
    },
    {
      "cell_type": "code",
      "execution_count": null,
      "metadata": {
        "id": "9azqy6UjxU-g"
      },
      "outputs": [],
      "source": [
        "import torchtext\n",
        "from sklearn.model_selection import train_test_split\n",
        "import pandas as pd\n",
        "import random\n",
        "\n",
        "# Tokenize and crop sentence to 510 (for 1st and last token) instead of 512 (i.e. `max_input_len`)\n",
        "def tokenize_and_crop(sentence):\n",
        "  #print(sentence)\n",
        "  tokens = tokenizer.tokenize(sentence)\n",
        "  tokens = tokens[:max_input_len - 2]\n",
        "  return tokens\n",
        "\n",
        "# Load the IMDB dataset and\n",
        "# return (train_iter, valid_iter, test_iter) tuple\n",
        "def load_data():\n",
        "    text = torchtext.data.Field(\n",
        "        batch_first=True,\n",
        "        use_vocab=False,\n",
        "        tokenize=tokenize_and_crop,\n",
        "        preprocessing=tokenizer.convert_tokens_to_ids,\n",
        "        init_token=init_token_id,\n",
        "        pad_token=pad_token_id,\n",
        "        unk_token=unk_token_id\n",
        "    )\n",
        "\n",
        "    label = torchtext.data.LabelField(dtype=torch.float)\n",
        "\n",
        "    fields = {'cleaned_review': text, 'label': label}\n",
        "\n",
        "    # Convert pandas DataFrame to a list of\n",
        "    data['cleaned_review'] = data['cleaned_review'].astype(str)  # Convert to string\n",
        "    examples = data.apply(lambda row: SeriesExample.fromSeries(row, fields), axis=1).tolist()\n",
        "\n",
        "    # Split the data into train, validation, and test sets\n",
        "    train_examples, test_examples = train_test_split(examples, test_size=0.2, random_state=1234, stratify=data['label'])\n",
        "    train_examples, val_examples = train_test_split(train_examples, test_size=1/8, random_state=1234, stratify = [example.label for example in train_examples]) # 1/8 of the total = 1/8 of 0.8 = 0.1\n",
        "\n",
        "\n",
        "    train_ds = torchtext.data.Dataset(train_examples, fields)\n",
        "    val_ds = torchtext.data.Dataset(val_examples, fields)\n",
        "    test_ds = torchtext.data.Dataset(test_examples, fields)\n",
        "\n",
        "    print(f\"training examples count: {len(train_ds)}\")\n",
        "    print(f\"validation examples count: {len(val_ds)}\")\n",
        "    print(f\"test examples count: {len(test_ds)}\")\n",
        "\n",
        "    label.build_vocab(train_ds)\n",
        "\n",
        "    train_iter, valid_iter, test_iter = torchtext.data.BucketIterator.splits(\n",
        "        (train_ds, val_ds, test_ds),\n",
        "        batch_size=BATCH_SIZE,\n",
        "        device=device,\n",
        "        sort_key=lambda x: len(x.cleaned_review),\n",
        "        sort_within_batch=False,\n",
        "    )\n",
        "    print(label.vocab.stoi)\n",
        "\n",
        "    return train_iter, valid_iter, test_iter"
      ]
    },
    {
      "cell_type": "code",
      "execution_count": null,
      "metadata": {
        "id": "kjyliAkcxVwn"
      },
      "outputs": [],
      "source": [
        "import torchtext\n",
        "from sklearn.model_selection import train_test_split\n",
        "import pandas as pd\n",
        "import random\n",
        "\n",
        "# Tokenize and crop sentence to 510 (for 1st and last token) instead of 512 (i.e. `max_input_len`)\n",
        "def tokenize_and_crop(sentence):\n",
        "  #print(sentence)\n",
        "  tokens = tokenizer.tokenize(sentence)\n",
        "  tokens = tokens[:max_input_len - 2]\n",
        "  return tokens\n",
        "\n",
        "# Load the IMDB dataset and\n",
        "# return (train_iter, valid_iter, test_iter) tuple\n",
        "def load_data():\n",
        "    text = torchtext.data.Field(\n",
        "        batch_first=True,\n",
        "        use_vocab=False,\n",
        "        tokenize=tokenize_and_crop,\n",
        "        preprocessing=tokenizer.convert_tokens_to_ids,\n",
        "        init_token=init_token_id,\n",
        "        pad_token=pad_token_id,\n",
        "        unk_token=unk_token_id\n",
        "    )\n",
        "\n",
        "    label = torchtext.data.LabelField(dtype=torch.float)\n",
        "\n",
        "    fields = {'cleaned_review': text, 'label': label}\n",
        "\n",
        "    # Convert pandas DataFrame to a list of\n",
        "    data['cleaned_review'] = data['cleaned_review'].astype(str)  # Convert to string\n",
        "    examples = data.apply(lambda row: SeriesExample.fromSeries(row, fields), axis=1).tolist()\n",
        "\n",
        "    # Split the data into train, validation, and test sets\n",
        "    train_examples, test_examples = train_test_split(examples, test_size=0.2, random_state=1234, stratify=data['label'])\n",
        "    train_examples, val_examples = train_test_split(train_examples, test_size=1/8, random_state=1234, stratify = [example.label for example in train_examples]) # 1/8 of the total = 1/8 of 0.8 = 0.1\n",
        "\n",
        "\n",
        "    train_ds = torchtext.data.Dataset(train_examples, fields)\n",
        "    val_ds = torchtext.data.Dataset(val_examples, fields)\n",
        "    test_ds = torchtext.data.Dataset(test_examples, fields)\n",
        "\n",
        "    print(f\"training examples count: {len(train_ds)}\")\n",
        "    print(f\"validation examples count: {len(val_ds)}\")\n",
        "    print(f\"test examples count: {len(test_ds)}\")\n",
        "\n",
        "    label.build_vocab(train_ds)\n",
        "\n",
        "    train_iter, valid_iter, test_iter = torchtext.data.BucketIterator.splits(\n",
        "        (train_ds, val_ds, test_ds),\n",
        "        batch_size=BATCH_SIZE,\n",
        "        device=device,\n",
        "        sort_key=lambda x: len(x.cleaned_review),\n",
        "        sort_within_batch=False,\n",
        "    )\n",
        "    print(label.vocab.stoi)\n",
        "\n",
        "    return train_iter, valid_iter, test_iter"
      ]
    },
    {
      "cell_type": "code",
      "execution_count": null,
      "metadata": {
        "id": "P_v_S7nhxWAu"
      },
      "outputs": [],
      "source": [
        "import torchtext\n",
        "from sklearn.model_selection import train_test_split\n",
        "import pandas as pd\n",
        "import random\n",
        "\n",
        "# Tokenize and crop sentence to 510 (for 1st and last token) instead of 512 (i.e. `max_input_len`)\n",
        "def tokenize_and_crop(sentence):\n",
        "  #print(sentence)\n",
        "  tokens = tokenizer.tokenize(sentence)\n",
        "  tokens = tokens[:max_input_len - 2]\n",
        "  return tokens\n",
        "\n",
        "# Load the IMDB dataset and\n",
        "# return (train_iter, valid_iter, test_iter) tuple\n",
        "def load_data():\n",
        "    text = torchtext.data.Field(\n",
        "        batch_first=True,\n",
        "        use_vocab=False,\n",
        "        tokenize=tokenize_and_crop,\n",
        "        preprocessing=tokenizer.convert_tokens_to_ids,\n",
        "        init_token=init_token_id,\n",
        "        pad_token=pad_token_id,\n",
        "        unk_token=unk_token_id\n",
        "    )\n",
        "\n",
        "    label = torchtext.data.LabelField(dtype=torch.float)\n",
        "\n",
        "    fields = {'cleaned_review': text, 'label': label}\n",
        "\n",
        "    # Convert pandas DataFrame to a list of\n",
        "    data['cleaned_review'] = data['cleaned_review'].astype(str)  # Convert to string\n",
        "    examples = data.apply(lambda row: SeriesExample.fromSeries(row, fields), axis=1).tolist()\n",
        "\n",
        "    # Split the data into train, validation, and test sets\n",
        "    train_examples, test_examples = train_test_split(examples, test_size=0.2, random_state=1234, stratify=data['label'])\n",
        "    train_examples, val_examples = train_test_split(train_examples, test_size=1/8, random_state=1234, stratify = [example.label for example in train_examples]) # 1/8 of the total = 1/8 of 0.8 = 0.1\n",
        "\n",
        "\n",
        "    train_ds = torchtext.data.Dataset(train_examples, fields)\n",
        "    val_ds = torchtext.data.Dataset(val_examples, fields)\n",
        "    test_ds = torchtext.data.Dataset(test_examples, fields)\n",
        "\n",
        "    print(f\"training examples count: {len(train_ds)}\")\n",
        "    print(f\"validation examples count: {len(val_ds)}\")\n",
        "    print(f\"test examples count: {len(test_ds)}\")\n",
        "\n",
        "    label.build_vocab(train_ds)\n",
        "\n",
        "    train_iter, valid_iter, test_iter = torchtext.data.BucketIterator.splits(\n",
        "        (train_ds, val_ds, test_ds),\n",
        "        batch_size=BATCH_SIZE,\n",
        "        device=device,\n",
        "        sort_key=lambda x: len(x.cleaned_review),\n",
        "        sort_within_batch=False,\n",
        "    )\n",
        "    print(label.vocab.stoi)\n",
        "\n",
        "    return train_iter, valid_iter, test_iter"
      ]
    },
    {
      "cell_type": "code",
      "execution_count": null,
      "metadata": {
        "colab": {
          "base_uri": "https://localhost:8080/"
        },
        "id": "fsNm7Z3bSiQ-",
        "outputId": "438a3e3f-8ee8-4528-d276-a2d93799b95c"
      },
      "outputs": [
        {
          "output_type": "execute_result",
          "data": {
            "text/plain": [
              "array([1, 1, 0, ..., 2, 0, 2])"
            ]
          },
          "metadata": {},
          "execution_count": 40
        }
      ],
      "source": [
        "train_labels"
      ]
    },
    {
      "cell_type": "code",
      "execution_count": null,
      "metadata": {
        "colab": {
          "base_uri": "https://localhost:8080/"
        },
        "id": "FzLV1D2YuLdm",
        "outputId": "25e02749-f478-4902-8810-9dabdeb59540"
      },
      "outputs": [
        {
          "output_type": "execute_result",
          "data": {
            "text/plain": [
              "SentimentModel(\n",
              "  (embedding): Embedding(4483, 128, padding_idx=0)\n",
              "  (rnn): RNN(128, 512, num_layers=2, batch_first=True, dropout=0.25, bidirectional=True)\n",
              "  (out): Linear(in_features=1024, out_features=6, bias=True)\n",
              "  (dropout): Dropout(p=0.25, inplace=False)\n",
              ")"
            ]
          },
          "metadata": {},
          "execution_count": 41
        }
      ],
      "source": [
        "model.load_state_dict(torch.load('sentiment_model_gru.pt', map_location=device))\n",
        "model.eval() #ต้องเรียก .eval() เมื่อต้องการทดสอบโมเดลเพื่อไม่ให้เอาข้อมูลเราทดสอบไปเทรน"
      ]
    },
    {
      "cell_type": "code",
      "execution_count": null,
      "metadata": {
        "id": "DoGnqXwOvd0k"
      },
      "outputs": [],
      "source": [
        "import torch\n",
        "\n",
        "def predict_sentiment(model, TEXT):\n",
        "    \"\"\"Predicts the sentiment of a given text using the provided model.\n",
        "\n",
        "    Args:\n",
        "        model: The trained sentiment analysis model.\n",
        "        TEXT: The input text for sentiment prediction.\n",
        "\n",
        "    Returns:\n",
        "        A PyTorch tensor containing the predicted sentiment probabilities.\n",
        "    \"\"\"\n",
        "\n",
        "    model.eval()  # Set the model to evaluation mode\n",
        "\n",
        "    # Preprocess the text\n",
        "    tokens = TEXT.split(\" \")  # Tokenize using space as delimiter\n",
        "    tokens = tokens[:max_input_len - 2]  # Crop to max length\n",
        "    ids = convert_tokens_to_ids(tokens)  # Convert tokens to IDs\n",
        "    tensor_input = torch.LongTensor([ids]).to(device)  # Convert to tensor\n",
        "\n",
        "    # Make prediction\n",
        "    with torch.no_grad():\n",
        "        output = model(tensor_input)\n",
        "\n",
        "    return output"
      ]
    },
    {
      "cell_type": "code",
      "execution_count": null,
      "metadata": {
        "colab": {
          "base_uri": "https://localhost:8080/"
        },
        "id": "uK9pcJEvwVbg",
        "outputId": "95d44c98-b54c-4521-fd3b-3b6705f1320d"
      },
      "outputs": [
        {
          "output_type": "stream",
          "name": "stdout",
          "text": [
            "tensor([[-0.7434,  1.5586, -0.5146, -0.2058, -0.7138, -0.1602]],\n",
            "       device='cuda:0')\n",
            "Predicted Class Index: 1\n",
            "Predicted Class Label: คำทั่วไปทางการชม\n"
          ]
        }
      ],
      "source": [
        "TEXT = \"หัวควยจริงๆ ไอ้กระโหลก\"\n",
        "sentiment = predict_sentiment(model, TEXT)  # Call predict_sentiment\n",
        "print(sentiment)\n",
        "predicted_class_index = torch.argmax(sentiment).item()  # Get the predicted class index\n",
        "print(\"Predicted Class Index:\", predicted_class_index)\n",
        "# assuming you have an encoder for mapping index to labels\n",
        "with open('idx2lab.json', 'r') as f: # load the mapping from json file you saved\n",
        "    idx2lab = json.load(f)\n",
        "predicted_class_label = idx2lab[str(predicted_class_index)]  # Use encoder to get label\n",
        "print(\"Predicted Class Label:\", predicted_class_label)"
      ]
    },
    {
      "cell_type": "code",
      "execution_count": null,
      "metadata": {
        "colab": {
          "base_uri": "https://localhost:8080/"
        },
        "id": "znHp98MHDwzd",
        "outputId": "4de49e18-7955-4c8a-cd14-d5b09ea81295"
      },
      "outputs": [
        {
          "output_type": "stream",
          "name": "stdout",
          "text": [
            "              precision    recall  f1-score   support\n",
            "\n",
            "    Positive       0.52      0.19      0.28       117\n",
            "     Neutral       0.45      0.58      0.50       107\n",
            "    Negative       0.50      0.71      0.59       101\n",
            "Body shaming       0.41      0.35      0.38        49\n",
            "    Classism       0.60      0.59      0.59        46\n",
            "      Sexism       0.61      0.75      0.67        40\n",
            "\n",
            "    accuracy                           0.50       460\n",
            "   macro avg       0.52      0.53      0.50       460\n",
            "weighted avg       0.50      0.50      0.47       460\n",
            "\n"
          ]
        }
      ],
      "source": [
        "import torch\n",
        "from sklearn.metrics import classification_report  # Import classification_report\n",
        "\n",
        "# ... (your existing code) ...\n",
        "\n",
        "model.load_state_dict(torch.load('sentiment_model_gru.pt', map_location=device))\n",
        "model.eval()  # ต้องเรียก .eval() เมื่อต้องการทดสอบโมเดลเพื่อไม่ให้เอาข้อมูลเราทดสอบไปเทรน\n",
        "\n",
        "\n",
        "# Assuming test_iter is your test data iterator\n",
        "_, _, y_true_test, y_pred_test = evaluate(model, test_iter, criterion, encoder) # Get true and predicted labels for test set\n",
        "\n",
        "\n",
        "\n",
        "target_names = ['Positive','Neutral','Negative', 'Body shaming', 'Classism', 'Sexism']\n",
        "report = classification_report(y_true_test, y_pred_test, target_names=target_names)  # Use y_true_test and y_pred_test\n",
        "print(report)"
      ]
    },
    {
      "cell_type": "code",
      "execution_count": null,
      "metadata": {
        "colab": {
          "base_uri": "https://localhost:8080/",
          "height": 718
        },
        "id": "5T0vbY72rM-z",
        "outputId": "da59708d-592f-413a-a277-0e429ff88d14"
      },
      "outputs": [
        {
          "output_type": "display_data",
          "data": {
            "text/plain": [
              "<Figure size 1000x800 with 2 Axes>"
            ],
            "image/png": "[encoded data removed]"
          },
          "metadata": {}
        }
      ],
      "source": [
        "model.load_state_dict(torch.load('sentiment_model_gru.pt', map_location=device))\n",
        "model.eval()\n",
        "_, _, y_true_test, y_pred_test = evaluate(model, test_iter, criterion, encoder)\n",
        "\n",
        "# Create the confusion matrix using the test data\n",
        "cm = confusion_matrix(y_true_test, y_pred_test)\n",
        "\n",
        "# Plot the confusion matrix\n",
        "plt.figure(figsize=(10, 8))\n",
        "sns.heatmap(cm, annot=True, fmt='d', cmap='Blues',\n",
        "            xticklabels=target_names, yticklabels=target_names)\n",
        "plt.xlabel('Predicted Label')\n",
        "plt.ylabel('True Label')\n",
        "plt.title('Confusion Matrix')\n",
        "plt.savefig('Confusion_Matrix.png')\n",
        "\n",
        "plt.show()"
      ]
    },
    {
      "cell_type": "code",
      "execution_count": null,
      "metadata": {
        "colab": {
          "base_uri": "https://localhost:8080/",
          "height": 651
        },
        "id": "1rr601KQSAvn",
        "outputId": "e4042dff-75a7-4864-82c7-e636fe115985"
      },
      "outputs": [
        {
          "output_type": "stream",
          "name": "stdout",
          "text": [
            "                                  text  label\n",
            "0  พี่เบ๊บบี้จัดฟันแล้วน่ารักสุดๆๆๆๆๆๆ      0\n",
            "1           พี่เบ๊บบี้จัดฟันน่ารักมากก      0\n",
            "2                         พี่สวยมากค่ะ      0\n",
            "3                    งามมากกลูกสาวววว💛      0\n",
            "4                             คนสวย🥰🥰🥰      0\n"
          ]
        },
        {
          "output_type": "error",
          "ename": "KeyError",
          "evalue": "'review'",
          "traceback": [
            "\u001b[0;31m---------------------------------------------------------------------------\u001b[0m",
            "\u001b[0;31mKeyError\u001b[0m                                  Traceback (most recent call last)",
            "\u001b[0;32m/usr/local/lib/python3.11/dist-packages/pandas/core/indexes/base.py\u001b[0m in \u001b[0;36mget_loc\u001b[0;34m(self, key)\u001b[0m\n\u001b[1;32m   3804\u001b[0m         \u001b[0;32mtry\u001b[0m\u001b[0;34m:\u001b[0m\u001b[0;34m\u001b[0m\u001b[0;34m\u001b[0m\u001b[0m\n\u001b[0;32m-> 3805\u001b[0;31m             \u001b[0;32mreturn\u001b[0m \u001b[0mself\u001b[0m\u001b[0;34m.\u001b[0m\u001b[0m_engine\u001b[0m\u001b[0;34m.\u001b[0m\u001b[0mget_loc\u001b[0m\u001b[0;34m(\u001b[0m\u001b[0mcasted_key\u001b[0m\u001b[0;34m)\u001b[0m\u001b[0;34m\u001b[0m\u001b[0;34m\u001b[0m\u001b[0m\n\u001b[0m\u001b[1;32m   3806\u001b[0m         \u001b[0;32mexcept\u001b[0m \u001b[0mKeyError\u001b[0m \u001b[0;32mas\u001b[0m \u001b[0merr\u001b[0m\u001b[0;34m:\u001b[0m\u001b[0;34m\u001b[0m\u001b[0;34m\u001b[0m\u001b[0m\n",
            "\u001b[0;32mindex.pyx\u001b[0m in \u001b[0;36mpandas._libs.index.IndexEngine.get_loc\u001b[0;34m()\u001b[0m\n",
            "\u001b[0;32mindex.pyx\u001b[0m in \u001b[0;36mpandas._libs.index.IndexEngine.get_loc\u001b[0;34m()\u001b[0m\n",
            "\u001b[0;32mpandas/_libs/hashtable_class_helper.pxi\u001b[0m in \u001b[0;36mpandas._libs.hashtable.PyObjectHashTable.get_item\u001b[0;34m()\u001b[0m\n",
            "\u001b[0;32mpandas/_libs/hashtable_class_helper.pxi\u001b[0m in \u001b[0;36mpandas._libs.hashtable.PyObjectHashTable.get_item\u001b[0;34m()\u001b[0m\n",
            "\u001b[0;31mKeyError\u001b[0m: 'review'",
            "\nThe above exception was the direct cause of the following exception:\n",
            "\u001b[0;31mKeyError\u001b[0m                                  Traceback (most recent call last)",
            "\u001b[0;32m<ipython-input-46-fc5200542bba>\u001b[0m in \u001b[0;36m<cell line: 0>\u001b[0;34m()\u001b[0m\n\u001b[1;32m     23\u001b[0m \u001b[0;34m\u001b[0m\u001b[0m\n\u001b[1;32m     24\u001b[0m \u001b[0;31m# Apply prediction function to each row to create \"predicted_label\"\u001b[0m\u001b[0;34m\u001b[0m\u001b[0;34m\u001b[0m\u001b[0m\n\u001b[0;32m---> 25\u001b[0;31m \u001b[0mdf\u001b[0m\u001b[0;34m[\u001b[0m\u001b[0;34m'predicted_label'\u001b[0m\u001b[0;34m]\u001b[0m \u001b[0;34m=\u001b[0m \u001b[0mdf\u001b[0m\u001b[0;34m.\u001b[0m\u001b[0mapply\u001b[0m\u001b[0;34m(\u001b[0m\u001b[0mpredict_row\u001b[0m\u001b[0;34m,\u001b[0m \u001b[0maxis\u001b[0m\u001b[0;34m=\u001b[0m\u001b[0;36m1\u001b[0m\u001b[0;34m)\u001b[0m\u001b[0;34m\u001b[0m\u001b[0;34m\u001b[0m\u001b[0m\n\u001b[0m\u001b[1;32m     26\u001b[0m \u001b[0;34m\u001b[0m\u001b[0m\n\u001b[1;32m     27\u001b[0m \u001b[0;34m\u001b[0m\u001b[0m\n",
            "\u001b[0;32m/usr/local/lib/python3.11/dist-packages/pandas/core/frame.py\u001b[0m in \u001b[0;36mapply\u001b[0;34m(self, func, axis, raw, result_type, args, by_row, engine, engine_kwargs, **kwargs)\u001b[0m\n\u001b[1;32m  10372\u001b[0m             \u001b[0mkwargs\u001b[0m\u001b[0;34m=\u001b[0m\u001b[0mkwargs\u001b[0m\u001b[0;34m,\u001b[0m\u001b[0;34m\u001b[0m\u001b[0;34m\u001b[0m\u001b[0m\n\u001b[1;32m  10373\u001b[0m         )\n\u001b[0;32m> 10374\u001b[0;31m         \u001b[0;32mreturn\u001b[0m \u001b[0mop\u001b[0m\u001b[0;34m.\u001b[0m\u001b[0mapply\u001b[0m\u001b[0;34m(\u001b[0m\u001b[0;34m)\u001b[0m\u001b[0;34m.\u001b[0m\u001b[0m__finalize__\u001b[0m\u001b[0;34m(\u001b[0m\u001b[0mself\u001b[0m\u001b[0;34m,\u001b[0m \u001b[0mmethod\u001b[0m\u001b[0;34m=\u001b[0m\u001b[0;34m\"apply\"\u001b[0m\u001b[0;34m)\u001b[0m\u001b[0;34m\u001b[0m\u001b[0;34m\u001b[0m\u001b[0m\n\u001b[0m\u001b[1;32m  10375\u001b[0m \u001b[0;34m\u001b[0m\u001b[0m\n\u001b[1;32m  10376\u001b[0m     def map(\n",
            "\u001b[0;32m/usr/local/lib/python3.11/dist-packages/pandas/core/apply.py\u001b[0m in \u001b[0;36mapply\u001b[0;34m(self)\u001b[0m\n\u001b[1;32m    914\u001b[0m             \u001b[0;32mreturn\u001b[0m \u001b[0mself\u001b[0m\u001b[0;34m.\u001b[0m\u001b[0mapply_raw\u001b[0m\u001b[0;34m(\u001b[0m\u001b[0mengine\u001b[0m\u001b[0;34m=\u001b[0m\u001b[0mself\u001b[0m\u001b[0;34m.\u001b[0m\u001b[0mengine\u001b[0m\u001b[0;34m,\u001b[0m \u001b[0mengine_kwargs\u001b[0m\u001b[0;34m=\u001b[0m\u001b[0mself\u001b[0m\u001b[0;34m.\u001b[0m\u001b[0mengine_kwargs\u001b[0m\u001b[0;34m)\u001b[0m\u001b[0;34m\u001b[0m\u001b[0;34m\u001b[0m\u001b[0m\n\u001b[1;32m    915\u001b[0m \u001b[0;34m\u001b[0m\u001b[0m\n\u001b[0;32m--> 916\u001b[0;31m         \u001b[0;32mreturn\u001b[0m \u001b[0mself\u001b[0m\u001b[0;34m.\u001b[0m\u001b[0mapply_standard\u001b[0m\u001b[0;34m(\u001b[0m\u001b[0;34m)\u001b[0m\u001b[0;34m\u001b[0m\u001b[0;34m\u001b[0m\u001b[0m\n\u001b[0m\u001b[1;32m    917\u001b[0m \u001b[0;34m\u001b[0m\u001b[0m\n\u001b[1;32m    918\u001b[0m     \u001b[0;32mdef\u001b[0m \u001b[0magg\u001b[0m\u001b[0;34m(\u001b[0m\u001b[0mself\u001b[0m\u001b[0;34m)\u001b[0m\u001b[0;34m:\u001b[0m\u001b[0;34m\u001b[0m\u001b[0;34m\u001b[0m\u001b[0m\n",
            "\u001b[0;32m/usr/local/lib/python3.11/dist-packages/pandas/core/apply.py\u001b[0m in \u001b[0;36mapply_standard\u001b[0;34m(self)\u001b[0m\n\u001b[1;32m   1061\u001b[0m     \u001b[0;32mdef\u001b[0m \u001b[0mapply_standard\u001b[0m\u001b[0;34m(\u001b[0m\u001b[0mself\u001b[0m\u001b[0;34m)\u001b[0m\u001b[0;34m:\u001b[0m\u001b[0;34m\u001b[0m\u001b[0;34m\u001b[0m\u001b[0m\n\u001b[1;32m   1062\u001b[0m         \u001b[0;32mif\u001b[0m \u001b[0mself\u001b[0m\u001b[0;34m.\u001b[0m\u001b[0mengine\u001b[0m \u001b[0;34m==\u001b[0m \u001b[0;34m\"python\"\u001b[0m\u001b[0;34m:\u001b[0m\u001b[0;34m\u001b[0m\u001b[0;34m\u001b[0m\u001b[0m\n\u001b[0;32m-> 1063\u001b[0;31m             \u001b[0mresults\u001b[0m\u001b[0;34m,\u001b[0m \u001b[0mres_index\u001b[0m \u001b[0;34m=\u001b[0m \u001b[0mself\u001b[0m\u001b[0;34m.\u001b[0m\u001b[0mapply_series_generator\u001b[0m\u001b[0;34m(\u001b[0m\u001b[0;34m)\u001b[0m\u001b[0;34m\u001b[0m\u001b[0;34m\u001b[0m\u001b[0m\n\u001b[0m\u001b[1;32m   1064\u001b[0m         \u001b[0;32melse\u001b[0m\u001b[0;34m:\u001b[0m\u001b[0;34m\u001b[0m\u001b[0;34m\u001b[0m\u001b[0m\n\u001b[1;32m   1065\u001b[0m             \u001b[0mresults\u001b[0m\u001b[0;34m,\u001b[0m \u001b[0mres_index\u001b[0m \u001b[0;34m=\u001b[0m \u001b[0mself\u001b[0m\u001b[0;34m.\u001b[0m\u001b[0mapply_series_numba\u001b[0m\u001b[0;34m(\u001b[0m\u001b[0;34m)\u001b[0m\u001b[0;34m\u001b[0m\u001b[0;34m\u001b[0m\u001b[0m\n",
            "\u001b[0;32m/usr/local/lib/python3.11/dist-packages/pandas/core/apply.py\u001b[0m in \u001b[0;36mapply_series_generator\u001b[0;34m(self)\u001b[0m\n\u001b[1;32m   1079\u001b[0m             \u001b[0;32mfor\u001b[0m \u001b[0mi\u001b[0m\u001b[0;34m,\u001b[0m \u001b[0mv\u001b[0m \u001b[0;32min\u001b[0m \u001b[0menumerate\u001b[0m\u001b[0;34m(\u001b[0m\u001b[0mseries_gen\u001b[0m\u001b[0;34m)\u001b[0m\u001b[0;34m:\u001b[0m\u001b[0;34m\u001b[0m\u001b[0;34m\u001b[0m\u001b[0m\n\u001b[1;32m   1080\u001b[0m                 \u001b[0;31m# ignore SettingWithCopy here in case the user mutates\u001b[0m\u001b[0;34m\u001b[0m\u001b[0;34m\u001b[0m\u001b[0m\n\u001b[0;32m-> 1081\u001b[0;31m                 \u001b[0mresults\u001b[0m\u001b[0;34m[\u001b[0m\u001b[0mi\u001b[0m\u001b[0;34m]\u001b[0m \u001b[0;34m=\u001b[0m \u001b[0mself\u001b[0m\u001b[0;34m.\u001b[0m\u001b[0mfunc\u001b[0m\u001b[0;34m(\u001b[0m\u001b[0mv\u001b[0m\u001b[0;34m,\u001b[0m \u001b[0;34m*\u001b[0m\u001b[0mself\u001b[0m\u001b[0;34m.\u001b[0m\u001b[0margs\u001b[0m\u001b[0;34m,\u001b[0m \u001b[0;34m**\u001b[0m\u001b[0mself\u001b[0m\u001b[0;34m.\u001b[0m\u001b[0mkwargs\u001b[0m\u001b[0;34m)\u001b[0m\u001b[0;34m\u001b[0m\u001b[0;34m\u001b[0m\u001b[0m\n\u001b[0m\u001b[1;32m   1082\u001b[0m                 \u001b[0;32mif\u001b[0m \u001b[0misinstance\u001b[0m\u001b[0;34m(\u001b[0m\u001b[0mresults\u001b[0m\u001b[0;34m[\u001b[0m\u001b[0mi\u001b[0m\u001b[0;34m]\u001b[0m\u001b[0;34m,\u001b[0m \u001b[0mABCSeries\u001b[0m\u001b[0;34m)\u001b[0m\u001b[0;34m:\u001b[0m\u001b[0;34m\u001b[0m\u001b[0;34m\u001b[0m\u001b[0m\n\u001b[1;32m   1083\u001b[0m                     \u001b[0;31m# If we have a view on v, we need to make a copy because\u001b[0m\u001b[0;34m\u001b[0m\u001b[0;34m\u001b[0m\u001b[0m\n",
            "\u001b[0;32m<ipython-input-46-fc5200542bba>\u001b[0m in \u001b[0;36mpredict_row\u001b[0;34m(row)\u001b[0m\n\u001b[1;32m     17\u001b[0m \u001b[0;31m# Function to predict for a single row\u001b[0m\u001b[0;34m\u001b[0m\u001b[0;34m\u001b[0m\u001b[0m\n\u001b[1;32m     18\u001b[0m \u001b[0;32mdef\u001b[0m \u001b[0mpredict_row\u001b[0m\u001b[0;34m(\u001b[0m\u001b[0mrow\u001b[0m\u001b[0;34m)\u001b[0m\u001b[0;34m:\u001b[0m\u001b[0;34m\u001b[0m\u001b[0;34m\u001b[0m\u001b[0m\n\u001b[0;32m---> 19\u001b[0;31m     \u001b[0msentiment\u001b[0m \u001b[0;34m=\u001b[0m \u001b[0mpredict_sentiment\u001b[0m\u001b[0;34m(\u001b[0m\u001b[0mmodel\u001b[0m\u001b[0;34m,\u001b[0m \u001b[0mrow\u001b[0m\u001b[0;34m[\u001b[0m\u001b[0;34m'review'\u001b[0m\u001b[0;34m]\u001b[0m\u001b[0;34m)\u001b[0m\u001b[0;34m\u001b[0m\u001b[0;34m\u001b[0m\u001b[0m\n\u001b[0m\u001b[1;32m     20\u001b[0m     \u001b[0mpredicted_class_index\u001b[0m \u001b[0;34m=\u001b[0m \u001b[0mtorch\u001b[0m\u001b[0;34m.\u001b[0m\u001b[0margmax\u001b[0m\u001b[0;34m(\u001b[0m\u001b[0msentiment\u001b[0m\u001b[0;34m)\u001b[0m\u001b[0;34m.\u001b[0m\u001b[0mitem\u001b[0m\u001b[0;34m(\u001b[0m\u001b[0;34m)\u001b[0m\u001b[0;34m\u001b[0m\u001b[0;34m\u001b[0m\u001b[0m\n\u001b[1;32m     21\u001b[0m     \u001b[0mpredicted_class_label\u001b[0m \u001b[0;34m=\u001b[0m \u001b[0midx2lab\u001b[0m\u001b[0;34m[\u001b[0m\u001b[0mstr\u001b[0m\u001b[0;34m(\u001b[0m\u001b[0mpredicted_class_index\u001b[0m\u001b[0;34m)\u001b[0m\u001b[0;34m]\u001b[0m\u001b[0;34m\u001b[0m\u001b[0;34m\u001b[0m\u001b[0m\n",
            "\u001b[0;32m/usr/local/lib/python3.11/dist-packages/pandas/core/series.py\u001b[0m in \u001b[0;36m__getitem__\u001b[0;34m(self, key)\u001b[0m\n\u001b[1;32m   1119\u001b[0m \u001b[0;34m\u001b[0m\u001b[0m\n\u001b[1;32m   1120\u001b[0m         \u001b[0;32melif\u001b[0m \u001b[0mkey_is_scalar\u001b[0m\u001b[0;34m:\u001b[0m\u001b[0;34m\u001b[0m\u001b[0;34m\u001b[0m\u001b[0m\n\u001b[0;32m-> 1121\u001b[0;31m             \u001b[0;32mreturn\u001b[0m \u001b[0mself\u001b[0m\u001b[0;34m.\u001b[0m\u001b[0m_get_value\u001b[0m\u001b[0;34m(\u001b[0m\u001b[0mkey\u001b[0m\u001b[0;34m)\u001b[0m\u001b[0;34m\u001b[0m\u001b[0;34m\u001b[0m\u001b[0m\n\u001b[0m\u001b[1;32m   1122\u001b[0m \u001b[0;34m\u001b[0m\u001b[0m\n\u001b[1;32m   1123\u001b[0m         \u001b[0;31m# Convert generator to list before going through hashable part\u001b[0m\u001b[0;34m\u001b[0m\u001b[0;34m\u001b[0m\u001b[0m\n",
            "\u001b[0;32m/usr/local/lib/python3.11/dist-packages/pandas/core/series.py\u001b[0m in \u001b[0;36m_get_value\u001b[0;34m(self, label, takeable)\u001b[0m\n\u001b[1;32m   1235\u001b[0m \u001b[0;34m\u001b[0m\u001b[0m\n\u001b[1;32m   1236\u001b[0m         \u001b[0;31m# Similar to Index.get_value, but we do not fall back to positional\u001b[0m\u001b[0;34m\u001b[0m\u001b[0;34m\u001b[0m\u001b[0m\n\u001b[0;32m-> 1237\u001b[0;31m         \u001b[0mloc\u001b[0m \u001b[0;34m=\u001b[0m \u001b[0mself\u001b[0m\u001b[0;34m.\u001b[0m\u001b[0mindex\u001b[0m\u001b[0;34m.\u001b[0m\u001b[0mget_loc\u001b[0m\u001b[0;34m(\u001b[0m\u001b[0mlabel\u001b[0m\u001b[0;34m)\u001b[0m\u001b[0;34m\u001b[0m\u001b[0;34m\u001b[0m\u001b[0m\n\u001b[0m\u001b[1;32m   1238\u001b[0m \u001b[0;34m\u001b[0m\u001b[0m\n\u001b[1;32m   1239\u001b[0m         \u001b[0;32mif\u001b[0m \u001b[0mis_integer\u001b[0m\u001b[0;34m(\u001b[0m\u001b[0mloc\u001b[0m\u001b[0;34m)\u001b[0m\u001b[0;34m:\u001b[0m\u001b[0;34m\u001b[0m\u001b[0;34m\u001b[0m\u001b[0m\n",
            "\u001b[0;32m/usr/local/lib/python3.11/dist-packages/pandas/core/indexes/base.py\u001b[0m in \u001b[0;36mget_loc\u001b[0;34m(self, key)\u001b[0m\n\u001b[1;32m   3810\u001b[0m             ):\n\u001b[1;32m   3811\u001b[0m                 \u001b[0;32mraise\u001b[0m \u001b[0mInvalidIndexError\u001b[0m\u001b[0;34m(\u001b[0m\u001b[0mkey\u001b[0m\u001b[0;34m)\u001b[0m\u001b[0;34m\u001b[0m\u001b[0;34m\u001b[0m\u001b[0m\n\u001b[0;32m-> 3812\u001b[0;31m             \u001b[0;32mraise\u001b[0m \u001b[0mKeyError\u001b[0m\u001b[0;34m(\u001b[0m\u001b[0mkey\u001b[0m\u001b[0;34m)\u001b[0m \u001b[0;32mfrom\u001b[0m \u001b[0merr\u001b[0m\u001b[0;34m\u001b[0m\u001b[0;34m\u001b[0m\u001b[0m\n\u001b[0m\u001b[1;32m   3813\u001b[0m         \u001b[0;32mexcept\u001b[0m \u001b[0mTypeError\u001b[0m\u001b[0;34m:\u001b[0m\u001b[0;34m\u001b[0m\u001b[0;34m\u001b[0m\u001b[0m\n\u001b[1;32m   3814\u001b[0m             \u001b[0;31m# If we have a listlike key, _check_indexing_error will raise\u001b[0m\u001b[0;34m\u001b[0m\u001b[0;34m\u001b[0m\u001b[0m\n",
            "\u001b[0;31mKeyError\u001b[0m: 'review'"
          ]
        }
      ],
      "source": [
        "import pandas as pd\n",
        "import json  # Import json for loading idx2lab\n",
        "\n",
        "# โหลดข้อมูล (แก้ไข path ตามไฟล์ของคุณ)\n",
        "df = pd.read_csv(\"TextClass.csv\")  # ไฟล์ต้องมี columns: \"sentence\", \"true_label\", \"predicted_label\"\n",
        "\n",
        "# ดูตัวอย่างข้อมูล\n",
        "print(df.head())\n",
        "\n",
        "# Rename \"label\" column to \"true_label\"\n",
        "df = df.rename(columns={\"label\": \"true_label\"})\n",
        "\n",
        "# Add a new column \"predicted_label\" and fill it with predictions\n",
        "with open('idx2lab.json', 'r') as f:\n",
        "    idx2lab = json.load(f)\n",
        "\n",
        "# Function to predict for a single row\n",
        "def predict_row(row):\n",
        "    sentiment = predict_sentiment(model, row['review'])\n",
        "    predicted_class_index = torch.argmax(sentiment).item()\n",
        "    predicted_class_label = idx2lab[str(predicted_class_index)]\n",
        "    return predicted_class_label\n",
        "\n",
        "# Apply prediction function to each row to create \"predicted_label\"\n",
        "df['predicted_label'] = df.apply(predict_row, axis=1)\n",
        "\n",
        "\n",
        "# Now you can use this new column for filtering and error analysis\n",
        "print(df[(df[\"true_label\"] == \"Negative\") & (df[\"predicted_label\"] == \"Positive\")])\n",
        "\n",
        "# Initialize misclassified\n",
        "misclassified = df[(df[\"true_label\"] != df[\"predicted_label\"])]\n",
        "\n",
        "# Display the results\n",
        "print(\"ประโยคที่โมเดลทำนายผิดพลาด:\")\n",
        "print(misclassified)"
      ]
    },
    {
      "cell_type": "code",
      "execution_count": null,
      "metadata": {
        "id": "gRN3jdAaSjSo"
      },
      "outputs": [],
      "source": [
        "print(df[(df[\"true_label\"] == \"Negative\") & (df[\"predicted_label\"] == \"Positive\")])\n"
      ]
    },
    {
      "cell_type": "code",
      "execution_count": null,
      "metadata": {
        "id": "7tgftIhuRSjA"
      },
      "outputs": [],
      "source": [
        "print(cm)"
      ]
    },
    {
      "cell_type": "code",
      "execution_count": null,
      "metadata": {
        "colab": {
          "base_uri": "https://localhost:8080/",
          "height": 607
        },
        "id": "ILukBCNValf3",
        "outputId": "6b2573e5-ed18-4332-b943-bffdbf67f396"
      },
      "outputs": [
        {
          "output_type": "display_data",
          "data": {
            "text/plain": [
              "<Figure size 1200x600 with 2 Axes>"
            ],
            "image/png": "[encoded data removed]"
          },
          "metadata": {}
        }
      ],
      "source": [
        "import matplotlib.pyplot as plt\n",
        "\n",
        "plt.figure(figsize=(12, 6))\n",
        "\n",
        "# Plot losses\n",
        "plt.subplot(1, 2, 1)\n",
        "plt.plot(train_losses, label='Train Loss')\n",
        "plt.plot(valid_losses, label='Validation Loss')\n",
        "plt.title('Training and Validation Loss')\n",
        "plt.xlabel('Epoch')\n",
        "plt.ylabel('Loss')\n",
        "plt.legend()\n",
        "\n",
        "# Plot accuracies\n",
        "plt.subplot(1, 2, 2)\n",
        "plt.plot(train_accs, label='Train Accuracy')\n",
        "plt.plot(valid_accs, label='Validation Accuracy')\n",
        "plt.title('Training and Validation Accuracy')\n",
        "plt.xlabel('Epoch')\n",
        "plt.ylabel('Accuracy')\n",
        "plt.legend()\n",
        "\n",
        "plt.tight_layout()\n",
        "plt.show()"
      ]
    },
    {
      "cell_type": "code",
      "execution_count": null,
      "metadata": {
        "id": "KbswW3OTHk_m"
      },
      "outputs": [],
      "source": [
        "import torch\n",
        "from transformers import AutoTokenizer, AutoModelForSequenceClassification\n",
        "import numpy as np\n",
        "\n",
        "# Load pre-trained model and tokenizer (assuming you're using a Thai language model)\n",
        "model_name = \"airesearch/wangchanberta-base-att-spm-uncased\"  # Replace with your actual model\n",
        "tokenizer = AutoTokenizer.from_pretrained(model_name)\n",
        "model = AutoModelForSequenceClassification.from_pretrained(model_name, num_labels=len(class_labels)) #added num_labels\n",
        "\n",
        "# Define class labels - replace these with your actual class labels\n",
        "# For example: [\"negative\", \"neutral\", \"positive\"]\n",
        "class_labels = ['คำทั่วไปทางการชม', 'คำทั่วไป', 'คำหยาบปกติ', 'เหยียดรูปร่าง', 'เหยียดชนชั้น', 'เหยียดเพศ']\n",
        "\n",
        "def predict_sentiment(model, tokenizer, text):\n",
        "    # Tokenize the input text\n",
        "    inputs = tokenizer(text, return_tensors=\"pt\", truncation=True, padding=True, max_length=512)\n",
        "\n",
        "    # Get model prediction\n",
        "    with torch.no_grad():\n",
        "        outputs = model(**inputs)\n",
        "        logits = outputs.logits\n",
        "        probabilities = torch.nn.functional.softmax(logits, dim=1)\n",
        "\n",
        "    return probabilities, inputs\n",
        "\n",
        "def get_word_embeddings(model, tokenized_inputs):\n",
        "    # Extract embeddings from the model's embedding layer\n",
        "    with torch.no_grad():\n",
        "        # Access the embedding layer (this may need adjustment based on your model architecture)\n",
        "        embedding_layer = model.get_input_embeddings()\n",
        "        word_embeddings = embedding_layer(tokenized_inputs['input_ids'])\n",
        "\n",
        "    return word_embeddings\n",
        "\n",
        "# Function to get user input and display prediction\n",
        "def analyze_user_input():\n",
        "    # Get user input\n",
        "    user_text = input(\"กรุณาใส่ข้อความที่ต้องการวิเคราะห์ความรู้สึก: \")\n",
        "\n",
        "    # Make prediction\n",
        "    sentiment, tokenized_inputs = predict_sentiment(model, tokenizer, user_text)\n",
        "    print(\"Raw prediction tensor:\", sentiment)\n",
        "\n",
        "    # Get predicted class index\n",
        "    predicted_class_index = torch.argmax(sentiment).item()\n",
        "    # predicted_class_index = min(predicted_class_index, len(class_labels) - 1)  # Clamp the index #removed\n",
        "\n",
        "    # Get predicted class label\n",
        "    predicted_class_label = class_labels[predicted_class_index]\n",
        "\n",
        "    # Display results\n",
        "    print(\"\\nผลการวิเคราะห์:\")\n",
        "    print(\"Predicted Class Index:\", predicted_class_index)\n",
        "    print(\"Predicted Class Label:\", predicted_class_label)\n",
        "\n",
        "    # Display probability distribution\n",
        "    print(\"\\nProbability distribution:\")\n",
        "    for i, label in enumerate(class_labels):\n",
        "        #print(f\"{label}: {sentiment[0][i].item():.4f}\")\n",
        "        print(f\"{label}: {sentiment[0][i].item():.4f}\") # Access elements using correct indexing\n",
        "\n",
        "    # Get and display word embeddings\n",
        "    word_embeddings = get_word_embeddings(model, tokenized_inputs)\n",
        "\n",
        "    # Print token IDs and their corresponding words\n",
        "    input_ids = tokenized_inputs['input_ids'][0]\n",
        "    tokens = tokenizer.convert_ids_to_tokens(input_ids)\n",
        "\n",
        "    print(\"\\n**Word Embeddings:**\")\n",
        "    print(\"Shape of embeddings:\", word_embeddings.shape)\n",
        "    print(f\"Number of tokens: {len(tokens)}\")\n",
        "\n",
        "    # Print tokens and first few dimensions of their embeddings\n",
        "    for i, token in enumerate(tokens):\n",
        "        if token in tokenizer.all_special_tokens:\n",
        "            continue  # Skip special tokens like [CLS], [SEP], etc.\n",
        "\n",
        "        # Print token and a sample of its embedding (first 5 dimensions)\n",
        "        embedding_sample = word_embeddings[0, i, :5].tolist()  # First 5 dimensions as example\n",
        "        print(f\"Token: '{token}', Embedding (first 5 dims): {embedding_sample}\")\n",
        "\n",
        "# Run the analysis\n",
        "if __name__ == \"__main__\":\n",
        "    print(\"==== Thai Sentiment Analysis ====\")\n",
        "    analyze_user_input()"
      ]
    }
  ],
  "metadata": {
    "accelerator": "GPU",
    "colab": {
      "gpuType": "T4",
      "provenance": []
    },
    "kernelspec": {
      "display_name": "Python 3",
      "name": "python3"
    },
    "language_info": {
      "name": "python"
    }
  },
  "nbformat": 4,
  "nbformat_minor": 0
}