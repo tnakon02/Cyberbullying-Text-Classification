{
  "cells": [
    {
      "cell_type": "markdown",
      "metadata": {
        "id": "NNtiuKMW-qHa"
      },
      "source": [
        "# HW06 : Text Classification with Neural Networks\n",
        "\n",
        "ในหัวข้อนี้จะได้เรียนรู้การสร้างโมเดลสำหรับจำแนกข้อความ โดยใช้วิธีต่างๆ ดังนี้\n",
        "\n",
        "2) TF-IDF (used as input features) + Neural network\n",
        "\n",
        "3) Using Word embeding from ULMFit\n",
        "\n",
        "4) Fine-tuning BERT\n",
        "\n",
        "รวมไปถึงการประเมินประสิทธิภาพของแบบจำลอง\n"
      ]
    },
    {
      "cell_type": "markdown",
      "metadata": {
        "id": "_VLhhpYhAieG"
      },
      "source": [
        "# Data Preparation\n",
        "\n",
        "ในบทนี้เราจะใช้ข้อมูลของ Wongnai Sentiment Corpus มาใช้ในการสร้างแบบจำลอง\n",
        "\n"
      ]
    },
    {
      "cell_type": "code",
      "execution_count": null,
      "metadata": {
        "colab": {
          "base_uri": "https://localhost:8080/"
        },
        "id": "rSxm_UQzNgJp",
        "outputId": "6c038677-0945-4643-be06-fd332a9c2cfd"
      },
      "outputs": [
        {
          "output_type": "stream",
          "name": "stdout",
          "text": [
            "/usr/local/lib/python3.11/dist-packages/gdown/__main__.py:140: FutureWarning: Option `--id` was deprecated in version 4.3.1 and will be removed in 5.0. You don't need to pass it anymore to use a file ID.\n",
            "  warnings.warn(\n",
            "Downloading...\n",
            "From: https://drive.google.com/uc?id=1xGvtr_HZLKHj4Emd4cbmndW3UBSkZfE8\n",
            "To: /content/TextClass.csv\n",
            "100% 132k/132k [00:00<00:00, 123MB/s]\n",
            "/usr/local/lib/python3.11/dist-packages/gdown/__main__.py:140: FutureWarning: Option `--id` was deprecated in version 4.3.1 and will be removed in 5.0. You don't need to pass it anymore to use a file ID.\n",
            "  warnings.warn(\n",
            "Downloading...\n",
            "From: https://drive.google.com/uc?id=1Dmn0eyYwy9Z8r94Xy7eVdyWTBxG-1RIo\n",
            "To: /content/pos.txt\n",
            "100% 761k/761k [00:00<00:00, 140MB/s]\n",
            "/usr/local/lib/python3.11/dist-packages/gdown/__main__.py:140: FutureWarning: Option `--id` was deprecated in version 4.3.1 and will be removed in 5.0. You don't need to pass it anymore to use a file ID.\n",
            "  warnings.warn(\n",
            "Downloading...\n",
            "From: https://drive.google.com/uc?id=1EX6IckcRLeKxhpJW4Cr7ItamonDdlyvN\n",
            "To: /content/neu.txt\n",
            "100% 3.81M/3.81M [00:00<00:00, 271MB/s]\n",
            "/usr/local/lib/python3.11/dist-packages/gdown/__main__.py:140: FutureWarning: Option `--id` was deprecated in version 4.3.1 and will be removed in 5.0. You don't need to pass it anymore to use a file ID.\n",
            "  warnings.warn(\n",
            "Downloading...\n",
            "From: https://drive.google.com/uc?id=1ahlb_JE4TtrrEtkX65yLOoYEtcsxkj6m\n",
            "To: /content/neg.txt\n",
            "100% 1.68M/1.68M [00:00<00:00, 217MB/s]\n"
          ]
        }
      ],
      "source": [
        "! gdown --id 1xGvtr_HZLKHj4Emd4cbmndW3UBSkZfE8\n",
        "! gdown --id 1Dmn0eyYwy9Z8r94Xy7eVdyWTBxG-1RIo\n",
        "! gdown --id 1EX6IckcRLeKxhpJW4Cr7ItamonDdlyvN\n",
        "! gdown --id 1ahlb_JE4TtrrEtkX65yLOoYEtcsxkj6m\n"
      ]
    },
    {
      "cell_type": "code",
      "source": [
        "# import pandas as pd\n",
        "\n",
        "# df = pd.read_csv('TextClass.xlsx', header=None, encoding='cp874') # Added encoding='cp874'\n",
        "# df.columns = ['text', 'label']\n",
        "# df.to_csv('TextClass.csv', index=False, encoding='utf-8') # Added encoding='utf-8' to save in utf-8"
      ],
      "metadata": {
        "id": "Szi9flvL8-0m"
      },
      "execution_count": null,
      "outputs": []
    },
    {
      "cell_type": "code",
      "execution_count": null,
      "metadata": {
        "id": "-Zw_cGThKYDf"
      },
      "outputs": [],
      "source": [
        "# import pandas as pd\n",
        "# import os\n",
        "\n",
        "# data = pd.read_csv('TextClass.csv')  # เปลี่ยน 'TextClass.csv' เป็นชื่อไฟล์ของคุณ\n",
        "# os.makedirs('txt_files', exist_ok=True)\n",
        "# for label in data['label'].unique():\n",
        "#     label_data = data[data['label'] == label]['text']  # เลือกข้อมูลเฉพาะ label นั้นๆ\n",
        "#     filename = os.path.join('txt_files', f'{label}.txt')  # ตั้งชื่อไฟล์ตาม label\n",
        "#     label_data.to_csv(filename, index=False, header=False)  # บันทึกข้อมูลลงในไฟล์ TXT"
      ]
    },
    {
      "cell_type": "code",
      "execution_count": null,
      "metadata": {
        "colab": {
          "base_uri": "https://localhost:8080/"
        },
        "id": "uDJSGTJIMrKK",
        "outputId": "955803c6-239b-4f50-ca4e-05e958ea1113"
      },
      "outputs": [
        {
          "output_type": "stream",
          "name": "stdout",
          "text": [
            "Successfully created pos.csv\n"
          ]
        }
      ],
      "source": [
        "# prompt: ทำ pos.txt เป็นไฟล์ .csv โดยให้มหัวข้อเป็น text และ label เป็น 0 ทั้งหมด\n",
        "\n",
        "import pandas as pd\n",
        "\n",
        "try:\n",
        "    with open('pos.txt', 'r', encoding='utf-8') as f:  #แก้ไข encoding ให้รองรับภาษาไทย\n",
        "        lines = f.readlines()\n",
        "except FileNotFoundError:\n",
        "    print(\"Error: pos.txt not found.\")\n",
        "    exit()\n",
        "\n",
        "\n",
        "data = {'text': lines, 'label': [0] * len(lines)}\n",
        "df = pd.DataFrame(data)\n",
        "df.to_csv('pos.csv', index=False, encoding='utf-8') #แก้ไข encoding ให้รองรับภาษาไทย\n",
        "print(\"Successfully created pos.csv\")\n"
      ]
    },
    {
      "cell_type": "code",
      "execution_count": null,
      "metadata": {
        "colab": {
          "base_uri": "https://localhost:8080/"
        },
        "id": "RgsVsPqeM54k",
        "outputId": "01ca9697-8209-42e4-e46a-05aadcd6a571"
      },
      "outputs": [
        {
          "output_type": "stream",
          "name": "stdout",
          "text": [
            "Successfully created neu.csv\n"
          ]
        }
      ],
      "source": [
        "# prompt: ทำ pos.txt เป็นไฟล์ .csv โดยให้มหัวข้อเป็น text และ label เป็น 0 ทั้งหมด\n",
        "\n",
        "import pandas as pd\n",
        "\n",
        "try:\n",
        "    with open('neu.txt', 'r', encoding='utf-8') as f:  #แก้ไข encoding ให้รองรับภาษาไทย\n",
        "        lines = f.readlines()\n",
        "except FileNotFoundError:\n",
        "    print(\"Error: neu.txt not found.\")\n",
        "    exit()\n",
        "\n",
        "\n",
        "data = {'text': lines, 'label': [1] * len(lines)}\n",
        "df = pd.DataFrame(data)\n",
        "df.to_csv('neu.csv', index=False, encoding='utf-8') #แก้ไข encoding ให้รองรับภาษาไทย\n",
        "print(\"Successfully created neu.csv\")\n"
      ]
    },
    {
      "cell_type": "code",
      "source": [
        "# prompt: ทำ pos.txt เป็นไฟล์ .csv โดยให้มหัวข้อเป็น text และ label เป็น 0 ทั้งหมด\n",
        "\n",
        "import pandas as pd\n",
        "\n",
        "try:\n",
        "    with open('neg.txt', 'r', encoding='utf-8') as f:  #แก้ไข encoding ให้รองรับภาษาไทย\n",
        "        lines = f.readlines()\n",
        "except FileNotFoundError:\n",
        "    print(\"Error: neg.txt not found.\")\n",
        "    exit()\n",
        "\n",
        "\n",
        "data = {'text': lines, 'label': [2] * len(lines)}\n",
        "df = pd.DataFrame(data)\n",
        "df.to_csv('neg.csv', index=False, encoding='utf-8') #แก้ไข encoding ให้รองรับภาษาไทย\n",
        "print(\"Successfully created neg.csv\")\n"
      ],
      "metadata": {
        "colab": {
          "base_uri": "https://localhost:8080/"
        },
        "id": "75hUFKfXc5Bw",
        "outputId": "269a4c43-59c6-4fdb-b27b-09fa1a06a9fd"
      },
      "execution_count": null,
      "outputs": [
        {
          "output_type": "stream",
          "name": "stdout",
          "text": [
            "Successfully created neg.csv\n"
          ]
        }
      ]
    },
    {
      "cell_type": "code",
      "execution_count": null,
      "metadata": {
        "colab": {
          "base_uri": "https://localhost:8080/"
        },
        "id": "n33QzzXdO91t",
        "outputId": "38d7f845-e492-4730-d7c5-11e82edae4b7"
      },
      "outputs": [
        {
          "output_type": "stream",
          "name": "stdout",
          "text": [
            "Successfully created pos_reduced.csv with 1000 random samples.\n"
          ]
        }
      ],
      "source": [
        "# prompt: สุ่มลบข้อมูล pos.csv ให้เหลือ 1000 ข้อมูล\n",
        "\n",
        "import pandas as pd\n",
        "import random\n",
        "\n",
        "try:\n",
        "    df = pd.read_csv('pos.csv')\n",
        "except FileNotFoundError:\n",
        "    print(\"Error: pos.csv not found. Please run the previous code block first.\")\n",
        "    exit()\n",
        "\n",
        "# Shuffle the DataFrame\n",
        "df = df.sample(frac=1, random_state=42)\n",
        "\n",
        "# Reduce the DataFrame to 1000 rows\n",
        "df = df.head(250)\n",
        "\n",
        "# Save the reduced DataFrame to a new CSV file\n",
        "df.to_csv('pos_reduced.csv', index=False, encoding='utf-8')\n",
        "print(\"Successfully created pos_reduced.csv with 1000 random samples.\")\n"
      ]
    },
    {
      "cell_type": "code",
      "execution_count": null,
      "metadata": {
        "colab": {
          "base_uri": "https://localhost:8080/"
        },
        "id": "J0FtKSfWPKuQ",
        "outputId": "1373ba95-be24-4333-b8e7-598918b4de00"
      },
      "outputs": [
        {
          "output_type": "stream",
          "name": "stdout",
          "text": [
            "Successfully created neu_reduced.csv with 1000 random samples.\n"
          ]
        }
      ],
      "source": [
        "# prompt: สุ่มลบข้อมูล pos.csv ให้เหลือ 1000 ข้อมูล\n",
        "\n",
        "import pandas as pd\n",
        "import random\n",
        "\n",
        "try:\n",
        "    df = pd.read_csv('neu.csv')\n",
        "except FileNotFoundError:\n",
        "    print(\"Error: pos.csv not found. Please run the previous code block first.\")\n",
        "    exit()\n",
        "\n",
        "# Shuffle the DataFrame\n",
        "df = df.sample(frac=1, random_state=42)\n",
        "\n",
        "# Reduce the DataFrame to 1000 rows\n",
        "df = df.head(200)\n",
        "\n",
        "# Save the reduced DataFrame to a new CSV file\n",
        "df.to_csv('neu_reduced.csv', index=False, encoding='utf-8')\n",
        "print(\"Successfully created neu_reduced.csv with 1000 random samples.\")\n"
      ]
    },
    {
      "cell_type": "code",
      "source": [
        "# prompt: สุ่มลบข้อมูล pos.csv ให้เหลือ 1000 ข้อมูล\n",
        "\n",
        "import pandas as pd\n",
        "import random\n",
        "\n",
        "try:\n",
        "    df = pd.read_csv('neg.csv')\n",
        "except FileNotFoundError:\n",
        "    print(\"Error: neg.csv not found. Please run the previous code block first.\")\n",
        "    exit()\n",
        "\n",
        "# Shuffle the DataFrame\n",
        "df = df.sample(frac=1, random_state=42)\n",
        "\n",
        "# Reduce the DataFrame to 1000 rows\n",
        "df = df.head(300)\n",
        "\n",
        "# Save the reduced DataFrame to a new CSV file\n",
        "df.to_csv('neg_reduced.csv', index=False, encoding='utf-8')\n",
        "print(\"Successfully created neg_reduced.csv with 1000 random samples.\")\n"
      ],
      "metadata": {
        "colab": {
          "base_uri": "https://localhost:8080/"
        },
        "id": "xuN9wY2Hc9-R",
        "outputId": "4ad63b11-6e25-443c-b772-01f33d6c10a6"
      },
      "execution_count": null,
      "outputs": [
        {
          "output_type": "stream",
          "name": "stdout",
          "text": [
            "Successfully created neg_reduced.csv with 1000 random samples.\n"
          ]
        }
      ]
    },
    {
      "cell_type": "code",
      "execution_count": null,
      "metadata": {
        "colab": {
          "base_uri": "https://localhost:8080/"
        },
        "id": "w1Hp4k9zNAwm",
        "outputId": "76edee08-3f17-4d1a-bbc4-e0512a8b041f"
      },
      "outputs": [
        {
          "output_type": "stream",
          "name": "stdout",
          "text": [
            "Successfully combined and saved to 'TextClass.csv'\n"
          ]
        }
      ],
      "source": [
        "# prompt: รวมไฟล์ textclass, pos.csv, neu.csv\n",
        "\n",
        "import pandas as pd\n",
        "\n",
        "# Assuming 'textclass.csv', 'pos.csv', and 'neu.csv' are in the current directory\n",
        "try:\n",
        "    df_textclass = pd.read_csv('TextClass.csv')\n",
        "    df_pos = pd.read_csv('pos_reduced.csv')\n",
        "    df_neu = pd.read_csv('neu_reduced.csv')\n",
        "    df_neg = pd.read_csv('neg_reduced.csv')\n",
        "\n",
        "    # Concatenate the DataFrames\n",
        "    combined_df = pd.concat([df_textclass, df_pos, df_neu, df_neg], ignore_index=True)\n",
        "\n",
        "    # Save the combined DataFrame to a new CSV file\n",
        "    combined_df.to_csv('TextClass.csv', index=False, encoding='utf-8')\n",
        "    print(\"Successfully combined and saved to 'TextClass.csv'\")\n",
        "\n",
        "except FileNotFoundError:\n",
        "    print(\"Error: One or more of the required CSV files not found.\")\n",
        "except Exception as e:\n",
        "    print(f\"An error occurred: {e}\")\n"
      ]
    },
    {
      "cell_type": "code",
      "execution_count": null,
      "metadata": {
        "colab": {
          "base_uri": "https://localhost:8080/",
          "height": 423
        },
        "id": "ohE79HubL-1l",
        "outputId": "79fd9c66-2c94-4368-e300-babf64ebf1e0"
      },
      "outputs": [
        {
          "output_type": "execute_result",
          "data": {
            "text/plain": [
              "                                                 review             label\n",
              "0                   พี่เบ๊บบี้จัดฟันแล้วน่ารักสุดๆๆๆๆๆๆ  คำทั่วไปทางการชม\n",
              "1                            พี่เบ๊บบี้จัดฟันน่ารักมากก  คำทั่วไปทางการชม\n",
              "2                                          พี่สวยมากค่ะ  คำทั่วไปทางการชม\n",
              "3                                     งามมากกลูกสาวววว💛  คำทั่วไปทางการชม\n",
              "4                                              คนสวย🥰🥰🥰  คำทั่วไปทางการชม\n",
              "...                                                 ...               ...\n",
              "2295  กูเขดและเน๊าะ โปรวันพุธ มะเติมของเลยต้องรอคิวเ...        คำหยาบปกติ\n",
              "2296    โห้ ไม่เคยเจอฟอร์จูน crv pajero ตามหลังเลยหรา\\n        คำหยาบปกติ\n",
              "2297  Mazda cx-3 ใหม่ คือไม่ไหวอะ เห็นละทนไม่ได้ สวย...        คำหยาบปกติ\n",
              "2298                        แดกเบียร์เหล้ากูเอียนสปาย\\n        คำหยาบปกติ\n",
              "2299  มีที่เขียนคิ้วอันไหนดีกว่าของอีทูดี้บ้าง คือน้...        คำหยาบปกติ\n",
              "\n",
              "[2300 rows x 2 columns]"
            ],
            "text/html": [
              "\n",
              "  <div id=\"df-fa3eb699-eba3-4a42-b39f-a060488aa461\" class=\"colab-df-container\">\n",
              "    <div>\n",
              "<style scoped>\n",
              "    .dataframe tbody tr th:only-of-type {\n",
              "        vertical-align: middle;\n",
              "    }\n",
              "\n",
              "    .dataframe tbody tr th {\n",
              "        vertical-align: top;\n",
              "    }\n",
              "\n",
              "    .dataframe thead th {\n",
              "        text-align: right;\n",
              "    }\n",
              "</style>\n",
              "<table border=\"1\" class=\"dataframe\">\n",
              "  <thead>\n",
              "    <tr style=\"text-align: right;\">\n",
              "      <th></th>\n",
              "      <th>review</th>\n",
              "      <th>label</th>\n",
              "    </tr>\n",
              "  </thead>\n",
              "  <tbody>\n",
              "    <tr>\n",
              "      <th>0</th>\n",
              "      <td>พี่เบ๊บบี้จัดฟันแล้วน่ารักสุดๆๆๆๆๆๆ</td>\n",
              "      <td>คำทั่วไปทางการชม</td>\n",
              "    </tr>\n",
              "    <tr>\n",
              "      <th>1</th>\n",
              "      <td>พี่เบ๊บบี้จัดฟันน่ารักมากก</td>\n",
              "      <td>คำทั่วไปทางการชม</td>\n",
              "    </tr>\n",
              "    <tr>\n",
              "      <th>2</th>\n",
              "      <td>พี่สวยมากค่ะ</td>\n",
              "      <td>คำทั่วไปทางการชม</td>\n",
              "    </tr>\n",
              "    <tr>\n",
              "      <th>3</th>\n",
              "      <td>งามมากกลูกสาวววว💛</td>\n",
              "      <td>คำทั่วไปทางการชม</td>\n",
              "    </tr>\n",
              "    <tr>\n",
              "      <th>4</th>\n",
              "      <td>คนสวย🥰🥰🥰</td>\n",
              "      <td>คำทั่วไปทางการชม</td>\n",
              "    </tr>\n",
              "    <tr>\n",
              "      <th>...</th>\n",
              "      <td>...</td>\n",
              "      <td>...</td>\n",
              "    </tr>\n",
              "    <tr>\n",
              "      <th>2295</th>\n",
              "      <td>กูเขดและเน๊าะ โปรวันพุธ มะเติมของเลยต้องรอคิวเ...</td>\n",
              "      <td>คำหยาบปกติ</td>\n",
              "    </tr>\n",
              "    <tr>\n",
              "      <th>2296</th>\n",
              "      <td>โห้ ไม่เคยเจอฟอร์จูน crv pajero ตามหลังเลยหรา\\n</td>\n",
              "      <td>คำหยาบปกติ</td>\n",
              "    </tr>\n",
              "    <tr>\n",
              "      <th>2297</th>\n",
              "      <td>Mazda cx-3 ใหม่ คือไม่ไหวอะ เห็นละทนไม่ได้ สวย...</td>\n",
              "      <td>คำหยาบปกติ</td>\n",
              "    </tr>\n",
              "    <tr>\n",
              "      <th>2298</th>\n",
              "      <td>แดกเบียร์เหล้ากูเอียนสปาย\\n</td>\n",
              "      <td>คำหยาบปกติ</td>\n",
              "    </tr>\n",
              "    <tr>\n",
              "      <th>2299</th>\n",
              "      <td>มีที่เขียนคิ้วอันไหนดีกว่าของอีทูดี้บ้าง คือน้...</td>\n",
              "      <td>คำหยาบปกติ</td>\n",
              "    </tr>\n",
              "  </tbody>\n",
              "</table>\n",
              "<p>2300 rows × 2 columns</p>\n",
              "</div>\n",
              "    <div class=\"colab-df-buttons\">\n",
              "\n",
              "  <div class=\"colab-df-container\">\n",
              "    <button class=\"colab-df-convert\" onclick=\"convertToInteractive('df-fa3eb699-eba3-4a42-b39f-a060488aa461')\"\n",
              "            title=\"Convert this dataframe to an interactive table.\"\n",
              "            style=\"display:none;\">\n",
              "\n",
              "  <svg xmlns=\"http://www.w3.org/2000/svg\" height=\"24px\" viewBox=\"0 -960 960 960\">\n",
              "    <path d=\"M120-120v-720h720v720H120Zm60-500h600v-160H180v160Zm220 220h160v-160H400v160Zm0 220h160v-160H400v160ZM180-400h160v-160H180v160Zm440 0h160v-160H620v160ZM180-180h160v-160H180v160Zm440 0h160v-160H620v160Z\"/>\n",
              "  </svg>\n",
              "    </button>\n",
              "\n",
              "  <style>\n",
              "    .colab-df-container {\n",
              "      display:flex;\n",
              "      gap: 12px;\n",
              "    }\n",
              "\n",
              "    .colab-df-convert {\n",
              "      background-color: #E8F0FE;\n",
              "      border: none;\n",
              "      border-radius: 50%;\n",
              "      cursor: pointer;\n",
              "      display: none;\n",
              "      fill: #1967D2;\n",
              "      height: 32px;\n",
              "      padding: 0 0 0 0;\n",
              "      width: 32px;\n",
              "    }\n",
              "\n",
              "    .colab-df-convert:hover {\n",
              "      background-color: #E2EBFA;\n",
              "      box-shadow: 0px 1px 2px rgba(60, 64, 67, 0.3), 0px 1px 3px 1px rgba(60, 64, 67, 0.15);\n",
              "      fill: #174EA6;\n",
              "    }\n",
              "\n",
              "    .colab-df-buttons div {\n",
              "      margin-bottom: 4px;\n",
              "    }\n",
              "\n",
              "    [theme=dark] .colab-df-convert {\n",
              "      background-color: #3B4455;\n",
              "      fill: #D2E3FC;\n",
              "    }\n",
              "\n",
              "    [theme=dark] .colab-df-convert:hover {\n",
              "      background-color: #434B5C;\n",
              "      box-shadow: 0px 1px 3px 1px rgba(0, 0, 0, 0.15);\n",
              "      filter: drop-shadow(0px 1px 2px rgba(0, 0, 0, 0.3));\n",
              "      fill: #FFFFFF;\n",
              "    }\n",
              "  </style>\n",
              "\n",
              "    <script>\n",
              "      const buttonEl =\n",
              "        document.querySelector('#df-fa3eb699-eba3-4a42-b39f-a060488aa461 button.colab-df-convert');\n",
              "      buttonEl.style.display =\n",
              "        google.colab.kernel.accessAllowed ? 'block' : 'none';\n",
              "\n",
              "      async function convertToInteractive(key) {\n",
              "        const element = document.querySelector('#df-fa3eb699-eba3-4a42-b39f-a060488aa461');\n",
              "        const dataTable =\n",
              "          await google.colab.kernel.invokeFunction('convertToInteractive',\n",
              "                                                    [key], {});\n",
              "        if (!dataTable) return;\n",
              "\n",
              "        const docLinkHtml = 'Like what you see? Visit the ' +\n",
              "          '<a target=\"_blank\" href=https://colab.research.google.com/notebooks/data_table.ipynb>data table notebook</a>'\n",
              "          + ' to learn more about interactive tables.';\n",
              "        element.innerHTML = '';\n",
              "        dataTable['output_type'] = 'display_data';\n",
              "        await google.colab.output.renderOutput(dataTable, element);\n",
              "        const docLink = document.createElement('div');\n",
              "        docLink.innerHTML = docLinkHtml;\n",
              "        element.appendChild(docLink);\n",
              "      }\n",
              "    </script>\n",
              "  </div>\n",
              "\n",
              "\n",
              "<div id=\"df-e0155a7a-3cef-47b9-a9ab-2223db6fb350\">\n",
              "  <button class=\"colab-df-quickchart\" onclick=\"quickchart('df-e0155a7a-3cef-47b9-a9ab-2223db6fb350')\"\n",
              "            title=\"Suggest charts\"\n",
              "            style=\"display:none;\">\n",
              "\n",
              "<svg xmlns=\"http://www.w3.org/2000/svg\" height=\"24px\"viewBox=\"0 0 24 24\"\n",
              "     width=\"24px\">\n",
              "    <g>\n",
              "        <path d=\"M19 3H5c-1.1 0-2 .9-2 2v14c0 1.1.9 2 2 2h14c1.1 0 2-.9 2-2V5c0-1.1-.9-2-2-2zM9 17H7v-7h2v7zm4 0h-2V7h2v10zm4 0h-2v-4h2v4z\"/>\n",
              "    </g>\n",
              "</svg>\n",
              "  </button>\n",
              "\n",
              "<style>\n",
              "  .colab-df-quickchart {\n",
              "      --bg-color: #E8F0FE;\n",
              "      --fill-color: #1967D2;\n",
              "      --hover-bg-color: #E2EBFA;\n",
              "      --hover-fill-color: #174EA6;\n",
              "      --disabled-fill-color: #AAA;\n",
              "      --disabled-bg-color: #DDD;\n",
              "  }\n",
              "\n",
              "  [theme=dark] .colab-df-quickchart {\n",
              "      --bg-color: #3B4455;\n",
              "      --fill-color: #D2E3FC;\n",
              "      --hover-bg-color: #434B5C;\n",
              "      --hover-fill-color: #FFFFFF;\n",
              "      --disabled-bg-color: #3B4455;\n",
              "      --disabled-fill-color: #666;\n",
              "  }\n",
              "\n",
              "  .colab-df-quickchart {\n",
              "    background-color: var(--bg-color);\n",
              "    border: none;\n",
              "    border-radius: 50%;\n",
              "    cursor: pointer;\n",
              "    display: none;\n",
              "    fill: var(--fill-color);\n",
              "    height: 32px;\n",
              "    padding: 0;\n",
              "    width: 32px;\n",
              "  }\n",
              "\n",
              "  .colab-df-quickchart:hover {\n",
              "    background-color: var(--hover-bg-color);\n",
              "    box-shadow: 0 1px 2px rgba(60, 64, 67, 0.3), 0 1px 3px 1px rgba(60, 64, 67, 0.15);\n",
              "    fill: var(--button-hover-fill-color);\n",
              "  }\n",
              "\n",
              "  .colab-df-quickchart-complete:disabled,\n",
              "  .colab-df-quickchart-complete:disabled:hover {\n",
              "    background-color: var(--disabled-bg-color);\n",
              "    fill: var(--disabled-fill-color);\n",
              "    box-shadow: none;\n",
              "  }\n",
              "\n",
              "  .colab-df-spinner {\n",
              "    border: 2px solid var(--fill-color);\n",
              "    border-color: transparent;\n",
              "    border-bottom-color: var(--fill-color);\n",
              "    animation:\n",
              "      spin 1s steps(1) infinite;\n",
              "  }\n",
              "\n",
              "  @keyframes spin {\n",
              "    0% {\n",
              "      border-color: transparent;\n",
              "      border-bottom-color: var(--fill-color);\n",
              "      border-left-color: var(--fill-color);\n",
              "    }\n",
              "    20% {\n",
              "      border-color: transparent;\n",
              "      border-left-color: var(--fill-color);\n",
              "      border-top-color: var(--fill-color);\n",
              "    }\n",
              "    30% {\n",
              "      border-color: transparent;\n",
              "      border-left-color: var(--fill-color);\n",
              "      border-top-color: var(--fill-color);\n",
              "      border-right-color: var(--fill-color);\n",
              "    }\n",
              "    40% {\n",
              "      border-color: transparent;\n",
              "      border-right-color: var(--fill-color);\n",
              "      border-top-color: var(--fill-color);\n",
              "    }\n",
              "    60% {\n",
              "      border-color: transparent;\n",
              "      border-right-color: var(--fill-color);\n",
              "    }\n",
              "    80% {\n",
              "      border-color: transparent;\n",
              "      border-right-color: var(--fill-color);\n",
              "      border-bottom-color: var(--fill-color);\n",
              "    }\n",
              "    90% {\n",
              "      border-color: transparent;\n",
              "      border-bottom-color: var(--fill-color);\n",
              "    }\n",
              "  }\n",
              "</style>\n",
              "\n",
              "  <script>\n",
              "    async function quickchart(key) {\n",
              "      const quickchartButtonEl =\n",
              "        document.querySelector('#' + key + ' button');\n",
              "      quickchartButtonEl.disabled = true;  // To prevent multiple clicks.\n",
              "      quickchartButtonEl.classList.add('colab-df-spinner');\n",
              "      try {\n",
              "        const charts = await google.colab.kernel.invokeFunction(\n",
              "            'suggestCharts', [key], {});\n",
              "      } catch (error) {\n",
              "        console.error('Error during call to suggestCharts:', error);\n",
              "      }\n",
              "      quickchartButtonEl.classList.remove('colab-df-spinner');\n",
              "      quickchartButtonEl.classList.add('colab-df-quickchart-complete');\n",
              "    }\n",
              "    (() => {\n",
              "      let quickchartButtonEl =\n",
              "        document.querySelector('#df-e0155a7a-3cef-47b9-a9ab-2223db6fb350 button');\n",
              "      quickchartButtonEl.style.display =\n",
              "        google.colab.kernel.accessAllowed ? 'block' : 'none';\n",
              "    })();\n",
              "  </script>\n",
              "</div>\n",
              "\n",
              "  <div id=\"id_4da017bc-3fce-418b-8eb8-bd76102486ab\">\n",
              "    <style>\n",
              "      .colab-df-generate {\n",
              "        background-color: #E8F0FE;\n",
              "        border: none;\n",
              "        border-radius: 50%;\n",
              "        cursor: pointer;\n",
              "        display: none;\n",
              "        fill: #1967D2;\n",
              "        height: 32px;\n",
              "        padding: 0 0 0 0;\n",
              "        width: 32px;\n",
              "      }\n",
              "\n",
              "      .colab-df-generate:hover {\n",
              "        background-color: #E2EBFA;\n",
              "        box-shadow: 0px 1px 2px rgba(60, 64, 67, 0.3), 0px 1px 3px 1px rgba(60, 64, 67, 0.15);\n",
              "        fill: #174EA6;\n",
              "      }\n",
              "\n",
              "      [theme=dark] .colab-df-generate {\n",
              "        background-color: #3B4455;\n",
              "        fill: #D2E3FC;\n",
              "      }\n",
              "\n",
              "      [theme=dark] .colab-df-generate:hover {\n",
              "        background-color: #434B5C;\n",
              "        box-shadow: 0px 1px 3px 1px rgba(0, 0, 0, 0.15);\n",
              "        filter: drop-shadow(0px 1px 2px rgba(0, 0, 0, 0.3));\n",
              "        fill: #FFFFFF;\n",
              "      }\n",
              "    </style>\n",
              "    <button class=\"colab-df-generate\" onclick=\"generateWithVariable('data')\"\n",
              "            title=\"Generate code using this dataframe.\"\n",
              "            style=\"display:none;\">\n",
              "\n",
              "  <svg xmlns=\"http://www.w3.org/2000/svg\" height=\"24px\"viewBox=\"0 0 24 24\"\n",
              "       width=\"24px\">\n",
              "    <path d=\"M7,19H8.4L18.45,9,17,7.55,7,17.6ZM5,21V16.75L18.45,3.32a2,2,0,0,1,2.83,0l1.4,1.43a1.91,1.91,0,0,1,.58,1.4,1.91,1.91,0,0,1-.58,1.4L9.25,21ZM18.45,9,17,7.55Zm-12,3A5.31,5.31,0,0,0,4.9,8.1,5.31,5.31,0,0,0,1,6.5,5.31,5.31,0,0,0,4.9,4.9,5.31,5.31,0,0,0,6.5,1,5.31,5.31,0,0,0,8.1,4.9,5.31,5.31,0,0,0,12,6.5,5.46,5.46,0,0,0,6.5,12Z\"/>\n",
              "  </svg>\n",
              "    </button>\n",
              "    <script>\n",
              "      (() => {\n",
              "      const buttonEl =\n",
              "        document.querySelector('#id_4da017bc-3fce-418b-8eb8-bd76102486ab button.colab-df-generate');\n",
              "      buttonEl.style.display =\n",
              "        google.colab.kernel.accessAllowed ? 'block' : 'none';\n",
              "\n",
              "      buttonEl.onclick = () => {\n",
              "        google.colab.notebook.generateWithVariable('data');\n",
              "      }\n",
              "      })();\n",
              "    </script>\n",
              "  </div>\n",
              "\n",
              "    </div>\n",
              "  </div>\n"
            ],
            "application/vnd.google.colaboratory.intrinsic+json": {
              "type": "dataframe",
              "variable_name": "data",
              "summary": "{\n  \"name\": \"data\",\n  \"rows\": 2300,\n  \"fields\": [\n    {\n      \"column\": \"review\",\n      \"properties\": {\n        \"dtype\": \"string\",\n        \"num_unique_values\": 2264,\n        \"samples\": [\n          \"\\u0e08\\u0e4b\\u0e32\\u0e25\\u0e39\\u0e01\\u0e2d\\u0e22\\u0e32\\u0e01\\u0e2b\\u0e25\\u0e32\\u0e27\\u0e40\\u0e2d\\u0e2d\\n\",\n          \"\\u0e2a\\u0e2b\\u0e20\\u0e32\\u0e1e\\u0e41\\u0e23\\u0e07\\u0e07\\u0e32\\u0e19 \\u0e40\\u0e2b\\u0e2d\\u0e30\\u0e46\",\n          \"\\u0e08\\u0e49\\u0e2d\\u0e19\\u0e19\\u0e46\"\n        ],\n        \"semantic_type\": \"\",\n        \"description\": \"\"\n      }\n    },\n    {\n      \"column\": \"label\",\n      \"properties\": {\n        \"dtype\": \"category\",\n        \"num_unique_values\": 6,\n        \"samples\": [\n          \"\\u0e04\\u0e33\\u0e17\\u0e31\\u0e48\\u0e27\\u0e44\\u0e1b\\u0e17\\u0e32\\u0e07\\u0e01\\u0e32\\u0e23\\u0e0a\\u0e21\",\n          \"\\u0e04\\u0e33\\u0e17\\u0e31\\u0e48\\u0e27\\u0e44\\u0e1b\",\n          \"\\u0e40\\u0e2b\\u0e22\\u0e35\\u0e22\\u0e14\\u0e40\\u0e1e\\u0e28\"\n        ],\n        \"semantic_type\": \"\",\n        \"description\": \"\"\n      }\n    }\n  ]\n}"
            }
          },
          "metadata": {},
          "execution_count": 11
        }
      ],
      "source": [
        "import pandas as pd\n",
        "\n",
        "# ตั้งค่า path ของไฟล์\n",
        "file_path = '/content/TextClass.csv'\n",
        "\n",
        "\n",
        "# โหลดไฟล์ CSV เป็น DataFrame\n",
        "data = pd.read_csv(file_path)\n",
        "\n",
        "\n",
        "#เปลี่ยนชื่อ labels\n",
        "new_labels = {\n",
        "    0: \"คำทั่วไปทางการชม\",\n",
        "    1: \"คำทั่วไป\",\n",
        "    2: \"คำหยาบปกติ\",\n",
        "    3: \"เหยียดรูปร่าง\",\n",
        "    4: \"เหยียดชนชั้น\",\n",
        "    5: \"เหยียดเพศ\"\n",
        "}\n",
        "\n",
        "data['label'] = data['label'].map(new_labels)\n",
        "data = data.rename(columns={'text': 'review'})\n",
        "# แสดงข้อมูล\n",
        "data"
      ]
    },
    {
      "cell_type": "code",
      "execution_count": null,
      "metadata": {
        "colab": {
          "base_uri": "https://localhost:8080/",
          "height": 423
        },
        "id": "eL6bkTg7uJ8F",
        "outputId": "e45abee2-437f-4de8-ac33-d35a43509207"
      },
      "outputs": [
        {
          "output_type": "execute_result",
          "data": {
            "text/plain": [
              "                                                 review             label\n",
              "0                   พี่เบ๊บบี้จัดฟันแล้วน่ารักสุดๆๆๆๆๆๆ  คำทั่วไปทางการชม\n",
              "1                            พี่เบ๊บบี้จัดฟันน่ารักมากก  คำทั่วไปทางการชม\n",
              "2                                          พี่สวยมากค่ะ  คำทั่วไปทางการชม\n",
              "3                                     งามมากกลูกสาวววว💛  คำทั่วไปทางการชม\n",
              "4                                              คนสวย🥰🥰🥰  คำทั่วไปทางการชม\n",
              "...                                                 ...               ...\n",
              "2295  กูเขดและเน๊าะ โปรวันพุธ มะเติมของเลยต้องรอคิวเ...        คำหยาบปกติ\n",
              "2296    โห้ ไม่เคยเจอฟอร์จูน crv pajero ตามหลังเลยหรา\\n        คำหยาบปกติ\n",
              "2297  Mazda cx-3 ใหม่ คือไม่ไหวอะ เห็นละทนไม่ได้ สวย...        คำหยาบปกติ\n",
              "2298                        แดกเบียร์เหล้ากูเอียนสปาย\\n        คำหยาบปกติ\n",
              "2299  มีที่เขียนคิ้วอันไหนดีกว่าของอีทูดี้บ้าง คือน้...        คำหยาบปกติ\n",
              "\n",
              "[2300 rows x 2 columns]"
            ],
            "text/html": [
              "\n",
              "  <div id=\"df-98333970-e9c9-4282-a67e-fbb254134139\" class=\"colab-df-container\">\n",
              "    <div>\n",
              "<style scoped>\n",
              "    .dataframe tbody tr th:only-of-type {\n",
              "        vertical-align: middle;\n",
              "    }\n",
              "\n",
              "    .dataframe tbody tr th {\n",
              "        vertical-align: top;\n",
              "    }\n",
              "\n",
              "    .dataframe thead th {\n",
              "        text-align: right;\n",
              "    }\n",
              "</style>\n",
              "<table border=\"1\" class=\"dataframe\">\n",
              "  <thead>\n",
              "    <tr style=\"text-align: right;\">\n",
              "      <th></th>\n",
              "      <th>review</th>\n",
              "      <th>label</th>\n",
              "    </tr>\n",
              "  </thead>\n",
              "  <tbody>\n",
              "    <tr>\n",
              "      <th>0</th>\n",
              "      <td>พี่เบ๊บบี้จัดฟันแล้วน่ารักสุดๆๆๆๆๆๆ</td>\n",
              "      <td>คำทั่วไปทางการชม</td>\n",
              "    </tr>\n",
              "    <tr>\n",
              "      <th>1</th>\n",
              "      <td>พี่เบ๊บบี้จัดฟันน่ารักมากก</td>\n",
              "      <td>คำทั่วไปทางการชม</td>\n",
              "    </tr>\n",
              "    <tr>\n",
              "      <th>2</th>\n",
              "      <td>พี่สวยมากค่ะ</td>\n",
              "      <td>คำทั่วไปทางการชม</td>\n",
              "    </tr>\n",
              "    <tr>\n",
              "      <th>3</th>\n",
              "      <td>งามมากกลูกสาวววว💛</td>\n",
              "      <td>คำทั่วไปทางการชม</td>\n",
              "    </tr>\n",
              "    <tr>\n",
              "      <th>4</th>\n",
              "      <td>คนสวย🥰🥰🥰</td>\n",
              "      <td>คำทั่วไปทางการชม</td>\n",
              "    </tr>\n",
              "    <tr>\n",
              "      <th>...</th>\n",
              "      <td>...</td>\n",
              "      <td>...</td>\n",
              "    </tr>\n",
              "    <tr>\n",
              "      <th>2295</th>\n",
              "      <td>กูเขดและเน๊าะ โปรวันพุธ มะเติมของเลยต้องรอคิวเ...</td>\n",
              "      <td>คำหยาบปกติ</td>\n",
              "    </tr>\n",
              "    <tr>\n",
              "      <th>2296</th>\n",
              "      <td>โห้ ไม่เคยเจอฟอร์จูน crv pajero ตามหลังเลยหรา\\n</td>\n",
              "      <td>คำหยาบปกติ</td>\n",
              "    </tr>\n",
              "    <tr>\n",
              "      <th>2297</th>\n",
              "      <td>Mazda cx-3 ใหม่ คือไม่ไหวอะ เห็นละทนไม่ได้ สวย...</td>\n",
              "      <td>คำหยาบปกติ</td>\n",
              "    </tr>\n",
              "    <tr>\n",
              "      <th>2298</th>\n",
              "      <td>แดกเบียร์เหล้ากูเอียนสปาย\\n</td>\n",
              "      <td>คำหยาบปกติ</td>\n",
              "    </tr>\n",
              "    <tr>\n",
              "      <th>2299</th>\n",
              "      <td>มีที่เขียนคิ้วอันไหนดีกว่าของอีทูดี้บ้าง คือน้...</td>\n",
              "      <td>คำหยาบปกติ</td>\n",
              "    </tr>\n",
              "  </tbody>\n",
              "</table>\n",
              "<p>2300 rows × 2 columns</p>\n",
              "</div>\n",
              "    <div class=\"colab-df-buttons\">\n",
              "\n",
              "  <div class=\"colab-df-container\">\n",
              "    <button class=\"colab-df-convert\" onclick=\"convertToInteractive('df-98333970-e9c9-4282-a67e-fbb254134139')\"\n",
              "            title=\"Convert this dataframe to an interactive table.\"\n",
              "            style=\"display:none;\">\n",
              "\n",
              "  <svg xmlns=\"http://www.w3.org/2000/svg\" height=\"24px\" viewBox=\"0 -960 960 960\">\n",
              "    <path d=\"M120-120v-720h720v720H120Zm60-500h600v-160H180v160Zm220 220h160v-160H400v160Zm0 220h160v-160H400v160ZM180-400h160v-160H180v160Zm440 0h160v-160H620v160ZM180-180h160v-160H180v160Zm440 0h160v-160H620v160Z\"/>\n",
              "  </svg>\n",
              "    </button>\n",
              "\n",
              "  <style>\n",
              "    .colab-df-container {\n",
              "      display:flex;\n",
              "      gap: 12px;\n",
              "    }\n",
              "\n",
              "    .colab-df-convert {\n",
              "      background-color: #E8F0FE;\n",
              "      border: none;\n",
              "      border-radius: 50%;\n",
              "      cursor: pointer;\n",
              "      display: none;\n",
              "      fill: #1967D2;\n",
              "      height: 32px;\n",
              "      padding: 0 0 0 0;\n",
              "      width: 32px;\n",
              "    }\n",
              "\n",
              "    .colab-df-convert:hover {\n",
              "      background-color: #E2EBFA;\n",
              "      box-shadow: 0px 1px 2px rgba(60, 64, 67, 0.3), 0px 1px 3px 1px rgba(60, 64, 67, 0.15);\n",
              "      fill: #174EA6;\n",
              "    }\n",
              "\n",
              "    .colab-df-buttons div {\n",
              "      margin-bottom: 4px;\n",
              "    }\n",
              "\n",
              "    [theme=dark] .colab-df-convert {\n",
              "      background-color: #3B4455;\n",
              "      fill: #D2E3FC;\n",
              "    }\n",
              "\n",
              "    [theme=dark] .colab-df-convert:hover {\n",
              "      background-color: #434B5C;\n",
              "      box-shadow: 0px 1px 3px 1px rgba(0, 0, 0, 0.15);\n",
              "      filter: drop-shadow(0px 1px 2px rgba(0, 0, 0, 0.3));\n",
              "      fill: #FFFFFF;\n",
              "    }\n",
              "  </style>\n",
              "\n",
              "    <script>\n",
              "      const buttonEl =\n",
              "        document.querySelector('#df-98333970-e9c9-4282-a67e-fbb254134139 button.colab-df-convert');\n",
              "      buttonEl.style.display =\n",
              "        google.colab.kernel.accessAllowed ? 'block' : 'none';\n",
              "\n",
              "      async function convertToInteractive(key) {\n",
              "        const element = document.querySelector('#df-98333970-e9c9-4282-a67e-fbb254134139');\n",
              "        const dataTable =\n",
              "          await google.colab.kernel.invokeFunction('convertToInteractive',\n",
              "                                                    [key], {});\n",
              "        if (!dataTable) return;\n",
              "\n",
              "        const docLinkHtml = 'Like what you see? Visit the ' +\n",
              "          '<a target=\"_blank\" href=https://colab.research.google.com/notebooks/data_table.ipynb>data table notebook</a>'\n",
              "          + ' to learn more about interactive tables.';\n",
              "        element.innerHTML = '';\n",
              "        dataTable['output_type'] = 'display_data';\n",
              "        await google.colab.output.renderOutput(dataTable, element);\n",
              "        const docLink = document.createElement('div');\n",
              "        docLink.innerHTML = docLinkHtml;\n",
              "        element.appendChild(docLink);\n",
              "      }\n",
              "    </script>\n",
              "  </div>\n",
              "\n",
              "\n",
              "<div id=\"df-2a6e790c-ce99-4036-b4fe-6b518ae6f688\">\n",
              "  <button class=\"colab-df-quickchart\" onclick=\"quickchart('df-2a6e790c-ce99-4036-b4fe-6b518ae6f688')\"\n",
              "            title=\"Suggest charts\"\n",
              "            style=\"display:none;\">\n",
              "\n",
              "<svg xmlns=\"http://www.w3.org/2000/svg\" height=\"24px\"viewBox=\"0 0 24 24\"\n",
              "     width=\"24px\">\n",
              "    <g>\n",
              "        <path d=\"M19 3H5c-1.1 0-2 .9-2 2v14c0 1.1.9 2 2 2h14c1.1 0 2-.9 2-2V5c0-1.1-.9-2-2-2zM9 17H7v-7h2v7zm4 0h-2V7h2v10zm4 0h-2v-4h2v4z\"/>\n",
              "    </g>\n",
              "</svg>\n",
              "  </button>\n",
              "\n",
              "<style>\n",
              "  .colab-df-quickchart {\n",
              "      --bg-color: #E8F0FE;\n",
              "      --fill-color: #1967D2;\n",
              "      --hover-bg-color: #E2EBFA;\n",
              "      --hover-fill-color: #174EA6;\n",
              "      --disabled-fill-color: #AAA;\n",
              "      --disabled-bg-color: #DDD;\n",
              "  }\n",
              "\n",
              "  [theme=dark] .colab-df-quickchart {\n",
              "      --bg-color: #3B4455;\n",
              "      --fill-color: #D2E3FC;\n",
              "      --hover-bg-color: #434B5C;\n",
              "      --hover-fill-color: #FFFFFF;\n",
              "      --disabled-bg-color: #3B4455;\n",
              "      --disabled-fill-color: #666;\n",
              "  }\n",
              "\n",
              "  .colab-df-quickchart {\n",
              "    background-color: var(--bg-color);\n",
              "    border: none;\n",
              "    border-radius: 50%;\n",
              "    cursor: pointer;\n",
              "    display: none;\n",
              "    fill: var(--fill-color);\n",
              "    height: 32px;\n",
              "    padding: 0;\n",
              "    width: 32px;\n",
              "  }\n",
              "\n",
              "  .colab-df-quickchart:hover {\n",
              "    background-color: var(--hover-bg-color);\n",
              "    box-shadow: 0 1px 2px rgba(60, 64, 67, 0.3), 0 1px 3px 1px rgba(60, 64, 67, 0.15);\n",
              "    fill: var(--button-hover-fill-color);\n",
              "  }\n",
              "\n",
              "  .colab-df-quickchart-complete:disabled,\n",
              "  .colab-df-quickchart-complete:disabled:hover {\n",
              "    background-color: var(--disabled-bg-color);\n",
              "    fill: var(--disabled-fill-color);\n",
              "    box-shadow: none;\n",
              "  }\n",
              "\n",
              "  .colab-df-spinner {\n",
              "    border: 2px solid var(--fill-color);\n",
              "    border-color: transparent;\n",
              "    border-bottom-color: var(--fill-color);\n",
              "    animation:\n",
              "      spin 1s steps(1) infinite;\n",
              "  }\n",
              "\n",
              "  @keyframes spin {\n",
              "    0% {\n",
              "      border-color: transparent;\n",
              "      border-bottom-color: var(--fill-color);\n",
              "      border-left-color: var(--fill-color);\n",
              "    }\n",
              "    20% {\n",
              "      border-color: transparent;\n",
              "      border-left-color: var(--fill-color);\n",
              "      border-top-color: var(--fill-color);\n",
              "    }\n",
              "    30% {\n",
              "      border-color: transparent;\n",
              "      border-left-color: var(--fill-color);\n",
              "      border-top-color: var(--fill-color);\n",
              "      border-right-color: var(--fill-color);\n",
              "    }\n",
              "    40% {\n",
              "      border-color: transparent;\n",
              "      border-right-color: var(--fill-color);\n",
              "      border-top-color: var(--fill-color);\n",
              "    }\n",
              "    60% {\n",
              "      border-color: transparent;\n",
              "      border-right-color: var(--fill-color);\n",
              "    }\n",
              "    80% {\n",
              "      border-color: transparent;\n",
              "      border-right-color: var(--fill-color);\n",
              "      border-bottom-color: var(--fill-color);\n",
              "    }\n",
              "    90% {\n",
              "      border-color: transparent;\n",
              "      border-bottom-color: var(--fill-color);\n",
              "    }\n",
              "  }\n",
              "</style>\n",
              "\n",
              "  <script>\n",
              "    async function quickchart(key) {\n",
              "      const quickchartButtonEl =\n",
              "        document.querySelector('#' + key + ' button');\n",
              "      quickchartButtonEl.disabled = true;  // To prevent multiple clicks.\n",
              "      quickchartButtonEl.classList.add('colab-df-spinner');\n",
              "      try {\n",
              "        const charts = await google.colab.kernel.invokeFunction(\n",
              "            'suggestCharts', [key], {});\n",
              "      } catch (error) {\n",
              "        console.error('Error during call to suggestCharts:', error);\n",
              "      }\n",
              "      quickchartButtonEl.classList.remove('colab-df-spinner');\n",
              "      quickchartButtonEl.classList.add('colab-df-quickchart-complete');\n",
              "    }\n",
              "    (() => {\n",
              "      let quickchartButtonEl =\n",
              "        document.querySelector('#df-2a6e790c-ce99-4036-b4fe-6b518ae6f688 button');\n",
              "      quickchartButtonEl.style.display =\n",
              "        google.colab.kernel.accessAllowed ? 'block' : 'none';\n",
              "    })();\n",
              "  </script>\n",
              "</div>\n",
              "\n",
              "  <div id=\"id_9e0da35c-f952-4f68-ab27-54651a02686c\">\n",
              "    <style>\n",
              "      .colab-df-generate {\n",
              "        background-color: #E8F0FE;\n",
              "        border: none;\n",
              "        border-radius: 50%;\n",
              "        cursor: pointer;\n",
              "        display: none;\n",
              "        fill: #1967D2;\n",
              "        height: 32px;\n",
              "        padding: 0 0 0 0;\n",
              "        width: 32px;\n",
              "      }\n",
              "\n",
              "      .colab-df-generate:hover {\n",
              "        background-color: #E2EBFA;\n",
              "        box-shadow: 0px 1px 2px rgba(60, 64, 67, 0.3), 0px 1px 3px 1px rgba(60, 64, 67, 0.15);\n",
              "        fill: #174EA6;\n",
              "      }\n",
              "\n",
              "      [theme=dark] .colab-df-generate {\n",
              "        background-color: #3B4455;\n",
              "        fill: #D2E3FC;\n",
              "      }\n",
              "\n",
              "      [theme=dark] .colab-df-generate:hover {\n",
              "        background-color: #434B5C;\n",
              "        box-shadow: 0px 1px 3px 1px rgba(0, 0, 0, 0.15);\n",
              "        filter: drop-shadow(0px 1px 2px rgba(0, 0, 0, 0.3));\n",
              "        fill: #FFFFFF;\n",
              "      }\n",
              "    </style>\n",
              "    <button class=\"colab-df-generate\" onclick=\"generateWithVariable('data')\"\n",
              "            title=\"Generate code using this dataframe.\"\n",
              "            style=\"display:none;\">\n",
              "\n",
              "  <svg xmlns=\"http://www.w3.org/2000/svg\" height=\"24px\"viewBox=\"0 0 24 24\"\n",
              "       width=\"24px\">\n",
              "    <path d=\"M7,19H8.4L18.45,9,17,7.55,7,17.6ZM5,21V16.75L18.45,3.32a2,2,0,0,1,2.83,0l1.4,1.43a1.91,1.91,0,0,1,.58,1.4,1.91,1.91,0,0,1-.58,1.4L9.25,21ZM18.45,9,17,7.55Zm-12,3A5.31,5.31,0,0,0,4.9,8.1,5.31,5.31,0,0,0,1,6.5,5.31,5.31,0,0,0,4.9,4.9,5.31,5.31,0,0,0,6.5,1,5.31,5.31,0,0,0,8.1,4.9,5.31,5.31,0,0,0,12,6.5,5.46,5.46,0,0,0,6.5,12Z\"/>\n",
              "  </svg>\n",
              "    </button>\n",
              "    <script>\n",
              "      (() => {\n",
              "      const buttonEl =\n",
              "        document.querySelector('#id_9e0da35c-f952-4f68-ab27-54651a02686c button.colab-df-generate');\n",
              "      buttonEl.style.display =\n",
              "        google.colab.kernel.accessAllowed ? 'block' : 'none';\n",
              "\n",
              "      buttonEl.onclick = () => {\n",
              "        google.colab.notebook.generateWithVariable('data');\n",
              "      }\n",
              "      })();\n",
              "    </script>\n",
              "  </div>\n",
              "\n",
              "    </div>\n",
              "  </div>\n"
            ],
            "application/vnd.google.colaboratory.intrinsic+json": {
              "type": "dataframe",
              "variable_name": "data",
              "summary": "{\n  \"name\": \"data\",\n  \"rows\": 2300,\n  \"fields\": [\n    {\n      \"column\": \"review\",\n      \"properties\": {\n        \"dtype\": \"string\",\n        \"num_unique_values\": 2264,\n        \"samples\": [\n          \"\\u0e08\\u0e4b\\u0e32\\u0e25\\u0e39\\u0e01\\u0e2d\\u0e22\\u0e32\\u0e01\\u0e2b\\u0e25\\u0e32\\u0e27\\u0e40\\u0e2d\\u0e2d\\n\",\n          \"\\u0e2a\\u0e2b\\u0e20\\u0e32\\u0e1e\\u0e41\\u0e23\\u0e07\\u0e07\\u0e32\\u0e19 \\u0e40\\u0e2b\\u0e2d\\u0e30\\u0e46\",\n          \"\\u0e08\\u0e49\\u0e2d\\u0e19\\u0e19\\u0e46\"\n        ],\n        \"semantic_type\": \"\",\n        \"description\": \"\"\n      }\n    },\n    {\n      \"column\": \"label\",\n      \"properties\": {\n        \"dtype\": \"category\",\n        \"num_unique_values\": 6,\n        \"samples\": [\n          \"\\u0e04\\u0e33\\u0e17\\u0e31\\u0e48\\u0e27\\u0e44\\u0e1b\\u0e17\\u0e32\\u0e07\\u0e01\\u0e32\\u0e23\\u0e0a\\u0e21\",\n          \"\\u0e04\\u0e33\\u0e17\\u0e31\\u0e48\\u0e27\\u0e44\\u0e1b\",\n          \"\\u0e40\\u0e2b\\u0e22\\u0e35\\u0e22\\u0e14\\u0e40\\u0e1e\\u0e28\"\n        ],\n        \"semantic_type\": \"\",\n        \"description\": \"\"\n      }\n    }\n  ]\n}"
            }
          },
          "metadata": {},
          "execution_count": 12
        }
      ],
      "source": [
        "# data['label'] = data['label'].replace(\"คำทั่วไป\", \"คำทั่วไปทางการชม\")\n",
        "data\n"
      ]
    },
    {
      "cell_type": "code",
      "execution_count": null,
      "metadata": {
        "id": "tOusOZfKAgyl"
      },
      "outputs": [],
      "source": [
        "# #download data\n",
        "# # !wget https://raw.githubusercontent.com/PyThaiNLP/wisesight-sentiment/master/pos.txt\n",
        "# # !wget https://raw.githubusercontent.com/PyThaiNLP/wisesight-sentiment/master/neg.txt\n",
        "\n",
        "# #create train/validate/test datasets\n",
        "# from math import floor\n",
        "\n",
        "# # def split_train_test_sets(file_list,train_num=0.8,val_num=0.1,test_num=0.1):\n",
        "\n",
        "# #     split_train_index = floor(len(file_list) * train_num)\n",
        "# #     split_val_index = floor(len(file_list) * (train_num+val_num))\n",
        "# #     train = file_list[:split_train_index]\n",
        "# #     val = file_list[split_train_index:split_val_index]\n",
        "# #     test = file_list[split_val_index:]\n",
        "# #     return train, val, test\n",
        "\n",
        "# def file2list(fname):\n",
        "#   with open(fname) as fp:\n",
        "#     lines = fp.readlines()\n",
        "#     return [line.strip() for line in lines]\n",
        "# def list2file(items,fname):\n",
        "#   file = open(fname,'w')\n",
        "#   for item in items:\n",
        "#     file.write(item.strip()+\"\\n\")\n",
        "#   file.close()"
      ]
    },
    {
      "cell_type": "code",
      "execution_count": null,
      "metadata": {
        "id": "8EdzIse8NTA8"
      },
      "outputs": [],
      "source": [
        "import pandas as pd\n",
        "import re\n",
        "import pandas as pd\n",
        "import numpy as np\n",
        "from sklearn.preprocessing import LabelEncoder\n",
        "from sklearn.model_selection import train_test_split\n",
        "from sklearn.metrics import classification_report\n",
        "from sklearn.metrics import accuracy_score\n",
        "import math\n",
        "import nltk\n",
        "from sklearn.feature_extraction.text import CountVectorizer\n",
        "from collections import defaultdict"
      ]
    },
    {
      "cell_type": "code",
      "execution_count": null,
      "metadata": {
        "id": "PmBf5U9HpvnB"
      },
      "outputs": [],
      "source": [
        "# pos_text = file2list(\"txt_files/0.txt\")\n",
        "# neu_text = file2list(\"txt_files/1.txt\")\n",
        "# neg1_text = file2list(\"txt_files/2.txt\")\n",
        "# neg2_text = file2list(\"txt_files/3.txt\")\n",
        "# neg3_text = file2list(\"txt_files/4.txt\")\n",
        "# neg4_text = file2list(\"txt_files/5.txt\")"
      ]
    },
    {
      "cell_type": "code",
      "execution_count": null,
      "metadata": {
        "id": "K2_Ulud7hQEV"
      },
      "outputs": [],
      "source": [
        "# pos_df = pd.DataFrame(pos_text,columns=['review'])\n",
        "# pos_df['label'] = \"คำทั่วไปทางการชม\"\n",
        "\n",
        "# neu_df = pd.DataFrame(neu_text,columns=['review'])\n",
        "# neu_df['label'] = \"คำทั่วไป\"\n",
        "\n",
        "# neg1_df = pd.DataFrame(neg1_text,columns=['review'])\n",
        "# neg1_df['label'] = \"คำหยาบปกติ\"\n",
        "\n",
        "# neg2_df = pd.DataFrame(neg2_text,columns=['review'])\n",
        "# neg2_df['label'] = \"เหยียดรูปร่าง\"\n",
        "\n",
        "# neg3_df = pd.DataFrame(neg3_text,columns=['review'])\n",
        "# neg3_df['label'] = \"เหยียดชนชั้น\"\n",
        "\n",
        "# neg4_df = pd.DataFrame(neg4_text,columns=['review'])\n",
        "# neg4_df['label'] = \"เหยียดเพศ\"\n",
        "\n",
        "# data = pd.concat([pos_df, neu_df,neg1_df, neg2_df,neg3_df,neg4_df])\n",
        "\n",
        "# data"
      ]
    },
    {
      "cell_type": "code",
      "execution_count": null,
      "metadata": {
        "colab": {
          "base_uri": "https://localhost:8080/",
          "height": 303
        },
        "id": "5iyNs6yrhT32",
        "outputId": "76dd335b-f0c4-4cb9-ca72-c910d806d379"
      },
      "outputs": [
        {
          "output_type": "execute_result",
          "data": {
            "text/plain": [
              "label\n",
              "คำทั่วไป            585\n",
              "คำทั่วไปทางการชม    537\n",
              "คำหยาบปกติ          503\n",
              "เหยียดชนชั้น        245\n",
              "เหยียดรูปร่าง       230\n",
              "เหยียดเพศ           200\n",
              "Name: count, dtype: int64"
            ],
            "text/html": [
              "<div>\n",
              "<style scoped>\n",
              "    .dataframe tbody tr th:only-of-type {\n",
              "        vertical-align: middle;\n",
              "    }\n",
              "\n",
              "    .dataframe tbody tr th {\n",
              "        vertical-align: top;\n",
              "    }\n",
              "\n",
              "    .dataframe thead th {\n",
              "        text-align: right;\n",
              "    }\n",
              "</style>\n",
              "<table border=\"1\" class=\"dataframe\">\n",
              "  <thead>\n",
              "    <tr style=\"text-align: right;\">\n",
              "      <th></th>\n",
              "      <th>count</th>\n",
              "    </tr>\n",
              "    <tr>\n",
              "      <th>label</th>\n",
              "      <th></th>\n",
              "    </tr>\n",
              "  </thead>\n",
              "  <tbody>\n",
              "    <tr>\n",
              "      <th>คำทั่วไป</th>\n",
              "      <td>585</td>\n",
              "    </tr>\n",
              "    <tr>\n",
              "      <th>คำทั่วไปทางการชม</th>\n",
              "      <td>537</td>\n",
              "    </tr>\n",
              "    <tr>\n",
              "      <th>คำหยาบปกติ</th>\n",
              "      <td>503</td>\n",
              "    </tr>\n",
              "    <tr>\n",
              "      <th>เหยียดชนชั้น</th>\n",
              "      <td>245</td>\n",
              "    </tr>\n",
              "    <tr>\n",
              "      <th>เหยียดรูปร่าง</th>\n",
              "      <td>230</td>\n",
              "    </tr>\n",
              "    <tr>\n",
              "      <th>เหยียดเพศ</th>\n",
              "      <td>200</td>\n",
              "    </tr>\n",
              "  </tbody>\n",
              "</table>\n",
              "</div><br><label><b>dtype:</b> int64</label>"
            ]
          },
          "metadata": {},
          "execution_count": 17
        }
      ],
      "source": [
        "category_counts = data['label'].value_counts()\n",
        "\n",
        "category_counts"
      ]
    },
    {
      "cell_type": "markdown",
      "metadata": {
        "id": "sVn4xdQ6eg3O"
      },
      "source": []
    },
    {
      "cell_type": "markdown",
      "metadata": {
        "id": "taxsDpHY_xJt"
      },
      "source": [
        "# Data Preprocessing\n"
      ]
    },
    {
      "cell_type": "code",
      "execution_count": null,
      "metadata": {
        "colab": {
          "base_uri": "https://localhost:8080/"
        },
        "id": "n3DOECHTP5No",
        "outputId": "00520805-2c0a-4e28-f1a8-2dd938449189"
      },
      "outputs": [
        {
          "output_type": "stream",
          "name": "stdout",
          "text": [
            "Collecting pythainlp\n",
            "  Downloading pythainlp-5.1.0-py3-none-any.whl.metadata (8.0 kB)\n",
            "Requirement already satisfied: requests>=2.31 in /usr/local/lib/python3.11/dist-packages (from pythainlp) (2.32.3)\n",
            "Requirement already satisfied: charset-normalizer<4,>=2 in /usr/local/lib/python3.11/dist-packages (from requests>=2.31->pythainlp) (3.4.1)\n",
            "Requirement already satisfied: idna<4,>=2.5 in /usr/local/lib/python3.11/dist-packages (from requests>=2.31->pythainlp) (3.10)\n",
            "Requirement already satisfied: urllib3<3,>=1.21.1 in /usr/local/lib/python3.11/dist-packages (from requests>=2.31->pythainlp) (2.3.0)\n",
            "Requirement already satisfied: certifi>=2017.4.17 in /usr/local/lib/python3.11/dist-packages (from requests>=2.31->pythainlp) (2025.1.31)\n",
            "Downloading pythainlp-5.1.0-py3-none-any.whl (19.3 MB)\n",
            "\u001b[2K   \u001b[90m━━━━━━━━━━━━━━━━━━━━━━━━━━━━━━━━━━━━━━━━\u001b[0m \u001b[32m19.3/19.3 MB\u001b[0m \u001b[31m99.8 MB/s\u001b[0m eta \u001b[36m0:00:00\u001b[0m\n",
            "\u001b[?25hInstalling collected packages: pythainlp\n",
            "Successfully installed pythainlp-5.1.0\n"
          ]
        }
      ],
      "source": [
        "!pip install pythainlp"
      ]
    },
    {
      "cell_type": "markdown",
      "metadata": {
        "id": "VV_ddv4rilsM"
      },
      "source": [
        "### Tokenization"
      ]
    },
    {
      "cell_type": "code",
      "execution_count": null,
      "metadata": {
        "id": "_BfVu0NgPBZC",
        "colab": {
          "base_uri": "https://localhost:8080/"
        },
        "outputId": "75556577-0e03-469d-ab51-a5f46295f0fd"
      },
      "outputs": [
        {
          "output_type": "stream",
          "name": "stdout",
          "text": [
            "                                                 review             label  \\\n",
            "30                                      น่ารักอ่ะชอบบบ💐  คำทั่วไปทางการชม   \n",
            "1965  สินค้านี้ ลอรีเอะ ซุปเปอร์ เจนเทิลพลัส 25-30 ซ...          คำทั่วไป   \n",
            "1724                                              ปะๆ\\n  คำทั่วไปทางการชม   \n",
            "33                      สวยขนาดนนี้มันก็หวันใจบ้างเเหละ  คำทั่วไปทางการชม   \n",
            "1128  พวกไม่มีการมีงาน เกาะแต่แม่กิน แม่มึงคงภูมิใจม...      เหยียดชนชั้น   \n",
            "\n",
            "                                         cleaned_review  \n",
            "30                                       น่ารัก อ่ะ ชอบ  \n",
            "1965  สินค้า นี้ ลอรีเอะ ซุปเปอร์ เจน เทิลพลัส - ซม ...  \n",
            "1724                                               ปะ ๆ  \n",
            "33          สวย ขนาด น นี้ มัน ก็ ห วัน ใจ บ้าง เ เห ละ  \n",
            "1128  พวก ไม่ มี การ มี งาน เกาะ แต่ แม่ กิน แม่ มึง...  \n"
          ]
        }
      ],
      "source": [
        "import re\n",
        "import pandas as pd\n",
        "from pythainlp.tokenize import word_tokenize\n",
        "from pythainlp.corpus.common import thai_stopwords\n",
        "\n",
        "# โหลดข้อมูล (ต้องระบุไฟล์ CSV ที่ใช้)\n",
        "\n",
        "def deEmojify(text):\n",
        "    \"\"\"ลบ Emoji ออกจากข้อความ\"\"\"\n",
        "    emoji_pattern = re.compile(\"[\"\n",
        "                               u\"\\U0001F600-\\U0001F64F\"  # emoticons\n",
        "                               u\"\\U0001F300-\\U0001F5FF\"  # symbols & pictographs\n",
        "                               u\"\\U0001F680-\\U0001F6FF\"  # transport & map symbols\n",
        "                               u\"\\U0001F700-\\U0001F77F\"  # alchemical symbols\n",
        "                               u\"\\U0001F780-\\U0001F7FF\"  # Geometric Shapes Extended\n",
        "                               u\"\\U0001F800-\\U0001F8FF\"  # Supplemental Arrows-C\n",
        "                               u\"\\U0001F900-\\U0001F9FF\"  # Supplemental Symbols and Pictographs\n",
        "                               u\"\\U0001FA00-\\U0001FA6F\"  # Chess Symbols, Symbols for Legacy Computing, etc.\n",
        "                               u\"\\U0001FA70-\\U0001FAFF\"  # Symbols and Pictographs Extended-A\n",
        "                               u\"\\U00002702-\\U000027B0\"  # Dingbats\n",
        "                               u\"\\U000024C2-\\U0001F251\"\n",
        "                               \"]+\", flags=re.UNICODE)\n",
        "    return emoji_pattern.sub(r'', text)\n",
        "\n",
        "def remove_stop_word(text):\n",
        "    \"\"\"ลบ stop words ออกจากข้อความ\"\"\"\n",
        "    stop_words = set(thai_stopwords())\n",
        "    return ' '.join([word for word in text.split() if word not in stop_words])\n",
        "\n",
        "def thai_clean_text(text):\n",
        "    \"\"\"ทำความสะอาดข้อความภาษาไทย\"\"\"\n",
        "    if not isinstance(text, str) or text.strip() == \"\":\n",
        "        return \"\"\n",
        "\n",
        "    # ลบ Emoji\n",
        "    text = deEmojify(text)\n",
        "\n",
        "    # ลบอักขระพิเศษ\n",
        "    text = re.sub(r'[.!@#%^&*()<>?/|}{~:]', '', text)\n",
        "\n",
        "    # ลบตัวเลข\n",
        "    text = re.sub(r'\\d+', '', text)\n",
        "\n",
        "    # ตัดคำ (Tokenization)\n",
        "    words = word_tokenize(text, keep_whitespace=False)\n",
        "\n",
        "    # ลบตัวอักษรที่ซ้ำกันเกิน 3 ตัว เช่น \"มากกกก\" → \"มากกก\"\n",
        "    words = [re.sub(r'([ก-ฮ])\\1{3,}', r'\\1\\1\\1', word) for word in words]\n",
        "\n",
        "    # ลบสระที่ซ้ำกันทิ้ง\n",
        "    words = [re.sub(r'([ะ-ูเ-ไ็-๋ๆ])\\1{2,}', r'\\1\\1', word) for word in words]\n",
        "\n",
        "    # ลบคำที่เหลือแต่ตัวอักษรซ้ำ เช่น \"นนนนนนน\" → ลบทิ้ง\n",
        "    words = [word for word in words if not re.fullmatch(r'([ก-ฮ])\\1+', word)]\n",
        "\n",
        "    # ลบ stop words\n",
        "    # words = [word for word in words if word not in thai_stopwords()]\n",
        "\n",
        "    return ' '.join(words).strip()\n",
        "\n",
        "# ทำความสะอาดคอลัมน์ review\n",
        "data['cleaned_review'] = data['review'].astype(str).apply(thai_clean_text)\n",
        "\n",
        "# บันทึกผลลัพธ์\n",
        "data.to_csv('cleaned_data.csv', index=False, encoding='utf-8')\n",
        "\n",
        "# แสดงตัวอย่างข้อมูลที่ทำความสะอาดแล้ว\n",
        "print(data.sample(5))\n"
      ]
    },
    {
      "cell_type": "markdown",
      "metadata": {
        "id": "LmXoKqTviq-P"
      },
      "source": [
        "### Removing stop words"
      ]
    },
    {
      "cell_type": "code",
      "execution_count": null,
      "metadata": {
        "colab": {
          "base_uri": "https://localhost:8080/"
        },
        "id": "78raUunoiVaV",
        "outputId": "3cbb11b0-a233-4527-87e0-8587f9c00826"
      },
      "outputs": [
        {
          "output_type": "stream",
          "name": "stdout",
          "text": [
            "frozenset({'เพื่อ', 'ประการใด', 'ด้วย', 'เสียก่อน', 'ตลอดมา', 'อย่างละ', 'นับแต่นั้น', 'ตาม', 'เท่าใด', 'นะ', 'ยกให้', 'มอง', 'ดังเก่า', 'นับจากนี้', 'เห็น', 'ลง', 'ทันทีทันใด', 'ทุกหน', 'หากว่า', 'มองว่า', 'ครั้งละ', 'เพิ่มเติม', 'แบบ', 'จ๊ะ', 'ถึงแม้ว่า', 'ซะจน', 'ช่วงๆ', 'มั้ย', 'บ่อยๆ', 'ยิ่งนัก', 'คล้ายว่า', 'เมื่อเย็น', 'อย่าง', 'รวม', 'ก็ตามที', 'เมื่อวันวาน', 'เท่ากัน', 'นี่นา', 'ได้มา', 'ชาว', 'คราว', 'เยอะๆ', 'ช่วงนั้น', 'อาจ', 'มิ', 'ณ', 'คราวนี้', 'จู่ๆ', 'หนอย', 'จึง', 'จากนี้', 'กันไหม', 'เพียงไร', 'ข้าง', 'แหละ', 'ยืนยาว', 'วันนี้', 'สูงกว่า', 'เมื่อใด', 'จรด', 'สมัยโน้น', 'เช่นก่อน', 'แห่งนั้น', 'อย่างไรเสีย', 'ดั่งกับ', 'ส่วนด้อย', 'อย่างไหน', 'นอกจาก', 'ได้รับ', 'พอสมควร', 'ด้วยเหตุเพราะ', 'เผื่อ', 'ระหว่าง', 'แก่', 'รวมด้วย', 'ทํา', 'จ๋า', 'ทุกๆ', 'ช่วย', 'ก่อนๆ', 'ทําให้', 'ล้วนแต่', 'แห่งโน้น', 'คราวหลัง', 'แค่เพียง', 'ที่แท้จริง', 'ซะจนกระทั่ง', 'รือว่า', 'รึว่า', 'เช่นเคย', 'ช้า', 'จวน', 'เท่านี้', 'เพื่อที่', 'ใหม่ๆ', 'บางแห่ง', 'ก็แค่', 'เสีย', 'ช่วงท้าย', 'ครั้งกระนั้น', 'นัก', 'ช่วงแรก', 'หนอ', 'คำ', 'กันนะ', 'จัดงาน', 'จ้า', 'ยังคง', 'เข้าใจ', 'เป็นแต่', 'ดัง', 'ค่อย', 'หรือเปล่า', 'ภายหน้า', 'ซึ่งกัน', 'เท่า', 'เพราะว่า', 'เคย', 'ตลอดกาล', 'เถอะ', 'คราไหน', 'จนทั่ว', 'ในช่วง', 'ด้วยกัน', 'เร็วๆ', 'เยอะแยะ', 'เสียจนถึง', 'ยืนยัน', 'แค่', 'ตั้งแต่', 'เช่น', 'แต่จะ', 'พึ่ง', 'อันไหน', 'ทุกชิ้น', 'ทั้งหมด', 'เสียแล้ว', 'อันละ', 'เฉกเช่น', 'เพียงไหน', 'เสียนี่', 'จวนจะ', 'มาก', 'ถึงแม้จะ', 'บอกว่า', 'เท่าที่', 'ก็ตามแต่', 'พร้อมกับ', 'ที่สุด', 'รวมถึง', 'ถึงเมื่อใด', 'ปรากฏ', 'สิ่งนี้', 'โตๆ', 'เฉพาะ', 'ยิ่งจน', 'ครานั้น', 'แห่งไหน', 'กู', 'ซึ่งกันและกัน', 'รับ', 'พวกกู', 'ยังงี้', 'ครบ', 'คล้ายกับว่า', 'ครั้งก่อน', 'จาก', 'ที่', 'ยาวนาน', 'แยะ', 'ในระหว่าง', 'อย่างโน้น', 'จนขณะนี้', 'สำคัญ', 'ปิด', 'หรือไม่', 'สําหรับ', 'คุณ', 'เขา', 'ๆ', 'เอา', 'น่า', 'เรียก', 'นับ', 'แห่งนี้', 'กันดีไหม', 'พวกคุณ', 'เนี่ย', 'ครั้งๆ', 'พื้นๆ', 'นิด', 'คือ', 'จนแม้น', 'นู้น', 'เถิด', 'เนี่ยเอง', 'อะไร', 'การ', 'ทุกทาง', 'เป็นเพราะ', 'สูงส่ง', 'เช่นเดียวกับ', 'และ', 'ด้วยเหตุว่า', 'ขณะเดียวกัน', 'ยืนนาน', 'ยาก', 'เกือบ', 'พบว่า', 'ขึ้น', 'ไม่ใช่', 'หลัง', 'ดังกล่าว', 'ถึงบัดนี้', 'เล่าว่า', 'เกิด', 'ภายภาคหน้า', 'ไหนๆ', 'แยะๆ', 'มัก', 'โต', 'เหล่านั้น', 'อย่างใด', 'ซะจนถึง', 'ภาค', 'นับจากนั้น', 'สบาย', 'เสร็จแล้ว', 'จริง', 'เนื่องจาก', 'กันเถอะ', 'ตลอดทั่วทั้ง', 'ให้มา', 'ที่ได้', 'คราวนั้น', 'ผู้', 'ร่วมมือ', 'รวมทั้ง', 'เหตุผล', 'ประการฉะนี้', 'จัดตั้ง', 'ปรับ', 'เป็นต้นไป', 'ค่อนข้างจะ', 'พอจะ', 'เสียนั่นเอง', 'ค่อนมาทาง', 'ทั้งมวล', 'เน้น', 'เพียงพอ', 'เสียจนกระทั่ง', 'หรือไง', 'หรือ', 'ภาย', 'เกือบๆ', 'สามารถ', 'นั่นไง', 'ด้วยที่', 'เข้า', 'ง่าย', 'ใต้', 'นิดๆ', 'พวกมึง', 'หลังจาก', 'หากแม้น', 'ข้าพเจ้า', 'ด้าน', 'กำลังจะ', 'ครั้งครา', 'ส่วนใหญ่', 'จำพวก', 'ทุกวันนี้', 'เท่าไหร่', 'ครั้งหลังสุด', 'ไหน', 'แสดงว่า', 'รวด', 'รือ', 'ดังกับ', 'ยังโง้น', 'พวกที่', 'พอสม', 'คราวหนึ่ง', 'เสมือนกับ', 'มั้ยนะ', 'เร็ว', 'กลับ', 'นอกจากนั้น', 'อันที่จะ', 'ประการ', 'ครั้งไหน', 'จากนั้น', 'ทุกสิ่ง', 'บางขณะ', 'ที่นี้', 'หาก', 'หรือไร', 'ด้วยเช่นกัน', 'ทีไร', 'อย่างเช่น', 'กล่าว', 'ของ', 'ขวาง', 'ต่าง', 'นอกจากว่า', 'กว้างๆ', 'ถึงเมื่อ', 'เช่นที่เคย', 'ไกลๆ', 'เสร็จ', 'ถูกต้อง', 'บอกแล้ว', 'ใหญ่โต', 'เมื่อคืน', 'ทำให้', 'ไว้', 'แท้', 'กว่า', 'ทั้งนั้น', 'นู่น', 'ภายหลัง', 'เพียงแต่', 'แล้วแต่', 'พอๆ', 'คราวใด', 'เป็นเพราะว่า', 'คราวที่', 'ส่วนเกิน', 'ได้', 'เปิด', 'รึ', 'ช่วงหลัง', 'ปฏิบัติ', 'เสียด้วย', 'เกือบจะ', 'จนแม้', 'บ้าง', 'ซึ่งๆ', 'อันที่', 'เปิดเผย', 'ขั้น', 'ซึ่งได้แก่', 'รวดเร็ว', 'พร้อมทั้ง', 'หาความ', 'ฉัน', 'ที่ไหน', 'เช่นดังเก่า', 'ถือว่า', 'ล่าสุด', 'ช่วงระหว่าง', 'เช่นดังที่', 'สิ่งนั้น', 'เรียบ', 'เพิ่งจะ', 'พอควร', 'เห็นแก่', 'ทำๆ', 'จำ', 'จวบกับ', 'ต่างหาก', 'พร้อมเพียง', 'เช่นดังว่า', 'ยังจะ', 'มิได้', 'พบ', 'จับ', 'นั้นๆ', 'ข้าฯ', 'หาใช่', 'จนตลอด', 'ใกล้ๆ', 'เหล่า', 'แค่จะ', 'จ้ะ', 'ตลอดศก', 'ทุกที', 'นับตั้งแต่', 'คราใด', 'ทั้งที่', 'ยิ่งใหญ่', 'ซะ', 'แต่นั้น', 'ทว่า', 'บางครา', 'ด้วยเหมือนกัน', 'ได้แก่', 'ซะก่อน', 'บางกว่า', 'บัดนั้น', 'ไม่ค่อย', 'เป็นอัน', 'ดั่งเก่า', 'หน', 'ที่แล้ว', 'นางสาว', 'ข้างเคียง', 'ไกล', 'ทุกอย่าง', 'พวกนั้น', 'จัด', 'พอ', 'แต่ละ', 'ทัน', 'ตลอดปี', 'จัง', 'อาจเป็นด้วย', 'แรก', 'ใกล้', 'เหตุนั้น', 'นอกเหนือจาก', 'อย่างยิ่ง', 'พวกท่าน', 'สั้น', 'พวกนู้น', 'ในเมื่อ', 'เท่าไร', 'ขณะนั้น', 'พวก', 'ทุกอัน', 'นี่แน่ะ', 'เช่นเมื่อ', 'พวกแก', 'อื่น', 'แต่ไร', 'ต่อกัน', 'อย่างที่', 'อย่างไร', 'ข้างๆ', 'ตรง', 'ทั้ง', 'ทั้งหลาย', 'บางครั้ง', 'ใน', 'หนึ่ง', 'คล้ายกันกับ', 'ขวางๆ', 'เสร็จสิ้น', 'พูด', 'ทุกที่', 'ที่นั้น', 'อย่างนี้', 'พยายาม', 'ทำไร', 'ครา', 'ต่อ', 'ถือ', 'เช่นนั้นเอง', 'ค่อยๆ', 'ช่วงที่', 'จนเมื่อ', 'คงจะ', 'เพิ่ม', 'เห็นควร', 'ประการหนึ่ง', 'ทั่ว', 'ภายนอก', 'พวกโน้น', 'ร่วมกัน', 'จึงจะ', 'แม้นว่า', 'คราวละ', 'ทุก', 'เรา', 'ถึงจะ', 'จด', 'น่าจะ', 'ตั้ง', 'กำหนด', 'ตนเอง', 'แต่ก็', 'ขณะที่', 'ทุกตัว', 'เหลือ', 'คะ', 'สูงสุด', 'เกินๆ', 'นั่นเอง', 'เช่นดังก่อน', 'ช้าๆ', 'ดั่งเคย', 'ผ่านๆ', 'เป็นที่สุด', 'ดังเคย', 'ข้างล่าง', 'ตลอดทั่วถึง', 'ขณะ', 'เพราะฉะนั้น', 'บัดนี้', 'กลุ่ม', 'นี้เอง', 'เป็นเพื่อ', 'กับ', 'ข้างบน', 'ถ้าหาก', 'เผื่อจะ', 'ส่วนที่', 'เล็กน้อย', 'เดียว', 'อาจจะ', 'นั้น', 'เกี่ยวกับ', 'สืบเนื่อง', 'โดย', 'ยิ่งแล้ว', 'เป็นอันว่า', 'เป็นเพียง', 'มุ่งเน้น', 'ด้วยว่า', 'ดั่งกับว่า', 'จัดทำ', 'เมื่อ', 'จังๆ', 'วันนั้น', 'ใหม่', 'ส่วน', 'ตลอดทั้ง', 'ถ้า', 'ไม่', 'แห่งใด', 'ทีๆ', 'ทั้งปวง', 'ที่ใด', 'นิดหน่อย', 'รับรอง', 'เช่นไร', 'แต่เมื่อ', 'อย่างไรก็', 'มุ่งหมาย', 'อันเนื่องมาจาก', 'อื่นๆ', 'เมื่อไหร่', 'ข้างต้น', 'พวกกัน', 'ตน', 'ทั้งคน', 'นับแต่นี้', 'เมื่อเช้า', 'ขอ', 'อันจะ', 'ค่อนข้าง', 'เหล่านี้', 'แม้กระทั่ง', 'พร้อมกัน', 'ภายภาค', 'นำ', 'เป็นต้น', 'ทุกคราว', 'ด้วยเหตุนี้', 'เต็มๆ', 'ถูก', 'เฉย', 'ยอมรับ', 'ทั้งตัว', 'บัดดล', 'คิดว่า', 'ออก', 'คราที่', 'พวกเขา', 'เช่นที่ว่า', 'ไม่ค่อยจะ', 'เป็นด้วย', 'เป็นเพียงว่า', 'ฝ่าย', 'ครบถ้วน', 'ฉะนี้', 'จง', 'กระทั่ง', 'คงอยู่', 'จำเป็น', 'สมัยนั้น', 'ทุกเมื่อ', 'ละ', 'พวกฉัน', 'เช่นกัน', 'ระยะ', 'ช่วงก่อน', 'แต่ที่', 'เท่านั้น', 'ตามด้วย', 'มึง', 'ทั้งที', 'เท่ากับ', 'มีแต่', 'ครั้ง', 'จนกว่า', 'ปรากฏว่า', 'เสียยิ่ง', 'ยิ่งจะ', 'อย่างไรก็ได้', 'ช่วงต่อไป', 'สิ่งไหน', 'ก็ได้', 'หรือยัง', 'ก็ต่อเมื่อ', 'แล้วกัน', 'ขณะใดๆ', 'ประกอบ', 'ให้ดี', 'แต่ว่า', 'ยิ่งขึ้น', 'ครั้งคราว', 'น้อยกว่า', 'มันๆ', 'ที่ละ', 'เชื่อ', 'ทำไม', 'นับแต่ที่', 'นักๆ', 'นี้', 'ซึ่งก็', 'ทีเดียว', 'พอที', 'สูงๆ', 'ครบครัน', 'กว้าง', 'ใดๆ', 'เรื่อย', 'ค่อน', 'ก็คือ', 'ถึงแก่', 'มา', 'ราย', 'มิใช่', 'อันที่จริง', 'แก', 'เห็นจะ', 'เช่นเดียวกัน', 'เพียงเพื่อ', 'ยิ่งขึ้นไป', 'ช่วงถัดไป', 'เหตุ', 'มิฉะนั้น', 'ส่วนน้อย', 'จน', 'กำลัง', 'ก็', 'หมดกัน', 'ส่วนมาก', 'เสมือนว่า', 'เมื่อคราวที่', 'อย่างเดียว', 'เป็น', 'ครานี้', 'จริงจัง', 'ทุกแห่ง', 'บางคราว', 'สิ้น', 'เชื่อถือ', 'จวบ', 'ใหญ่', 'วัน', 'ใหญ่ๆ', 'ได้แต่', 'ไม่ว่า', 'สมัยนี้', 'แต่', 'ใครๆ', 'เพียง', 'เช่นนี้', 'กว้างขวาง', 'ช้านาน', 'อันได้แก่', 'นับแต่', 'มั้ยนั่น', 'อีก', 'ยัง', 'นอก', 'เป็นดัง', 'รวมกัน', 'ยังงั้น', 'ถูกๆ', 'ทั้งนั้นเพราะ', 'จวบจน', 'ทั้งสิ้น', 'เสียนั่น', 'คิด', 'จากนี้ไป', 'เมื่อนี้', 'ไม่ค่อยเป็น', 'เรื่อยๆ', 'นั้นไว', 'เสียนี่กระไร', 'เพื่อที่จะ', 'เริ่ม', 'ทั้งๆ', 'เพราะ', 'ยก', 'สู่', 'ก็ตาม', 'นี่เอง', 'พอที่', 'นั่นเป็น', 'ถึง', 'สิ้นกาลนาน', 'เอง', 'อดีต', 'เกี่ยวข้อง', 'ด้วยประการฉะนี้', 'เป็นอันมาก', 'นั่นแหละ', 'ที่แห่งนั้น', 'ขณะนี้', 'นอกจากนี้', 'เกี่ยวเนื่อง', 'แต่ทว่า', 'ขณะหนึ่ง', 'ครั้งนี้', 'คล้ายกับ', 'บ่อยกว่า', 'เมื่อคราว', 'ไฉน', 'ขาด', 'ช่วงนี้', 'ใคร', 'ครั้งหนึ่ง', 'นาย', 'อยาก', 'คราวๆ', 'แก้ไข', 'ตรงๆ', 'พวกมัน', 'เช่นดัง', 'หน่อย', 'สมัยก่อน', 'ไร', 'เป็นๆ', 'นอกเหนือ', 'เมื่อครั้ง', 'จะได้', 'ส่วนนั้น', 'อันใด', 'บ่อยครั้ง', 'ก่อน', 'ทาง', 'ยิ่ง', 'ผิด', 'ตลอดวัน', 'ครั้งหลัง', 'คราวก่อน', 'เป็นต้นมา', 'แค่ว่า', 'ที่จริง', 'ได้ที่', 'จรดกับ', 'พอตัว', 'แม้', 'กระผม', 'ทรง', 'เหลือเกิน', 'ทีเถอะ', 'ตนฯ', 'คล้าย', 'ฯลฯ', 'จวนเจียน', 'ให้แด่', 'นานๆ', 'แต่ต้อง', 'บางๆ', 'อย่างๆ', 'คราวหน้า', 'แต่อย่างใด', 'ทันใดนั้น', 'แต่เดิม', 'เห็นว่า', 'นี้แหล่', 'กล่าวคือ', 'อย่างนั้น', 'กันดีกว่า', 'หลาย', 'ซึ่ง', 'เกี่ยวๆ', 'ผ่าน', 'ฝ่ายใด', 'นำพา', 'หากแม้', 'ในที่', 'แม้ว่า', 'ซึ่งก็คือ', 'ภาคฯ', 'ผู้ใด', 'ภายใน', 'อย่างหนึ่ง', 'นํา', 'น้อยๆ', 'ตลอดไป', 'เผื่อว่า', 'นั่น', 'ถ้าจะ', 'ไป', 'นี่ไง', 'บัดเดี๋ยวนี้', 'ทีใด', 'กระทำ', 'ครั้งที่', 'คง', 'เมื่อวาน', 'แห่ง', 'เปลี่ยนแปลง', 'อย่างดี', 'คล้ายกัน', 'ช่วงหน้า', 'ตลอดเวลา', 'ย่อม', 'แต่ก่อน', 'ทั้งนี้', 'มั๊ย', 'ย่อย', 'ทั้งเป็น', 'พร้อมที่', 'แต่เพียง', '\\ufeffๆ', 'จึงเป็น', 'ที่ว่า', 'ก็ดี', 'กันและกัน', 'อัน', 'พอดี', 'บางที่', 'กัน', 'ควร', 'สมัย', 'ครับ', 'ผิดๆ', 'ล้วน', 'จัดการ', 'เล็กๆ', 'เป็นแต่เพียง', 'พอกัน', 'นาง', 'บอก', 'บางที', 'เชื่อว่า', 'ส่วนดี', 'ถึงอย่างไร', 'เสร็จสมบูรณ์', 'มั้ยเนี่ย', 'เยอะ', 'สั้นๆ', 'ข้า', 'ฉะนั้น', 'รวมๆ', 'เพียงใด', 'ก่อนหน้า', 'มี', 'บ่อย', 'ครั้งใด', 'เต็มไปด้วย', 'เฉยๆ', 'ยิ่งกว่า', 'ทุกครา', 'เมื่อนั้น', 'ตลอดกาลนาน', 'ช่วง', 'พา', 'เช่นที่', 'นอกจากที่', 'แต่ถ้า', 'ต้อง', 'คุณๆ', 'แค่ไหน', 'ภายใต้', 'ที่ซึ่ง', 'ครัน', 'เป็นที', 'ทั้งนั้นด้วย', 'ง่ายๆ', 'ที', 'ยิ่งเมื่อ', 'มุ่ง', 'หากแม้นว่า', 'ไม่เป็นไร', 'มากกว่า', 'ทุกครั้ง', 'ที่ๆ', 'จัดแจง', 'เพื่อให้', 'เมื่อครั้งก่อน', 'ยืนยง', 'ทันที', 'ตามที่', 'อย่างมาก', 'ดังกับว่า', 'กระนั้น', 'แล้วเสร็จ', 'ด้วยเหตุนั้น', 'มัน', 'สุด', 'เพียงแค่', 'ส่วนใด', 'แท้จริง', 'ล้วนจน', 'คราวโน้น', 'ค่อยไปทาง', 'จริงๆจังๆ', 'พร้อมด้วย', 'พวกเธอ', 'จนบัดนี้', 'แสดง', 'เป็นการ', 'บน', 'ตลอดจน', 'สุดๆ', 'ส่ง', 'จัดหา', 'เสร็จกัน', 'ยอม', 'เล็ก', 'ใช่ไหม', 'ถึงบัดนั้น', 'ฯล', 'ให้', 'นี่', 'ฯ', 'สูง', 'บาง', 'เหตุนี้', 'เป็นอันๆ', 'ใช้', 'มักจะ', 'เมื่อคราวก่อน', 'ทีละ', 'ยังไง', 'กันเอง', 'ครั้งนั้น', 'เป็นที่', 'ร่วม', 'ไป่', 'ความ', 'เราๆ', 'เหตุไร', 'เก็บ', 'สิ่งใด', 'อาจเป็น', 'พอแล้ว', 'สิ่ง', 'ต่างก็', 'นอกนั้น', 'หมด', 'ขณะใด', 'ที่แท้', 'ทุกวัน', 'เสียจน', 'เธอ', 'เอ็ง', 'ตามแต่', 'แต่ไหน', 'แม้แต่', 'เดียวกัน', 'พร้อม', 'แค่นั้น', 'เกี่ยวกัน', 'จริงๆ', 'กลุ่มๆ', 'เพื่อว่า', 'เมื่อก่อน', 'ให้ไป', 'น้อย', 'จะ', 'ระยะๆ', 'ก่อนหน้านี้', 'ค่ะ', 'ผล', 'อันๆ', 'ตามๆ', 'ตลอดถึง', 'นาน', 'ยังแต่', 'ให้แก่', 'ปัจจุบัน', 'ตลอดระยะเวลา', 'ด้วยเหตุที่', 'แล้ว', 'เคยๆ', 'วันไหน', 'น่ะ', 'ว่า', 'ใคร่', 'เช่นใด', 'หมดสิ้น', 'เพิ่ง', 'เปลี่ยน', 'เป็นอาทิ', 'ก็แล้วแต่', 'คราหนึ่ง', 'ด้วยเพราะ', 'นี่แหละ', 'เขียน', 'เกิน', 'ดั่ง', 'จัดให้', 'อย่างน้อย', 'ไง', 'เต็มไปหมด', 'นำมา', 'ตลอด', 'วันใด', 'หารือ', 'ตลอดทั่ว', 'ทุกคน', 'พึง', 'เพียงเพราะ', 'เมื่อไร', 'ถึงเมื่อไร', 'ประมาณ', 'แค่นี้', 'คราวไหน', 'ร่วมด้วย', 'ต่างๆ', 'เลย', 'มากมาย', 'ใคร่จะ', 'เช่นนั้น', 'จนกระทั่ง', 'ถึงแม้', 'เสียยิ่งนัก', 'พวกนี้', 'พอเพียง', 'ยาว', 'ก็จะ', 'มั้ยล่ะ', 'เชื่อมั่น', 'ประสบ', 'กลุ่มก้อน', 'จนถึง', 'อนึ่ง', 'ใช่', 'เผื่อที่', 'พอเหมาะ', 'อยู่'})\n"
          ]
        }
      ],
      "source": [
        "import pythainlp\n",
        "thai_stopwords = pythainlp.corpus.common.thai_stopwords()\n",
        "\n",
        "print(thai_stopwords)"
      ]
    },
    {
      "cell_type": "code",
      "execution_count": null,
      "metadata": {
        "id": "Oqwe2xd1i3UQ"
      },
      "outputs": [],
      "source": [
        "# def remove_stop_word(seg_text):\n",
        "#     st = \"\"\n",
        "#     words = seg_text.split(' ')\n",
        "#     clean_words = []\n",
        "#     for w in words:\n",
        "#       if w not in thai_stopwords:\n",
        "#         clean_words.append(w)\n",
        "#     st = ' '.join(clean_words)\n",
        "#     return  re.sub(' +', ' ', st)\n",
        "\n",
        "# data['review'] = data.review.apply(remove_stop_word)\n",
        "# data\n",
        "# data.to_csv('cleaned_data.csv', index=False, encoding='utf-8')  # Save to 'cleaned_data.csv'\n"
      ]
    },
    {
      "cell_type": "markdown",
      "metadata": {
        "id": "tqts2R3xv-fC"
      },
      "source": [
        "# BERT fine-tuning for Text classification\n",
        "\n",
        "เราจะใช้ตัวอย่างโค้ดจาก ตรงนี้นะครับ https://github.com/RahulBhalley/sentiment-analysis-bert.pytorch"
      ]
    },
    {
      "cell_type": "code",
      "execution_count": null,
      "metadata": {
        "id": "kpQB_EUx1nLN",
        "colab": {
          "base_uri": "https://localhost:8080/"
        },
        "outputId": "cdf1e995-7f13-474c-caa5-a985ad87eaa8"
      },
      "outputs": [
        {
          "output_type": "stream",
          "name": "stdout",
          "text": [
            "Requirement already satisfied: transformers in /usr/local/lib/python3.11/dist-packages (4.48.3)\n",
            "Collecting thai2transformers\n",
            "  Downloading thai2transformers-0.1.2.tar.gz (27 kB)\n",
            "  Preparing metadata (setup.py) ... \u001b[?25l\u001b[?25hdone\n",
            "Requirement already satisfied: filelock in /usr/local/lib/python3.11/dist-packages (from transformers) (3.17.0)\n",
            "Requirement already satisfied: huggingface-hub<1.0,>=0.24.0 in /usr/local/lib/python3.11/dist-packages (from transformers) (0.28.1)\n",
            "Requirement already satisfied: numpy>=1.17 in /usr/local/lib/python3.11/dist-packages (from transformers) (1.26.4)\n",
            "Requirement already satisfied: packaging>=20.0 in /usr/local/lib/python3.11/dist-packages (from transformers) (24.2)\n",
            "Requirement already satisfied: pyyaml>=5.1 in /usr/local/lib/python3.11/dist-packages (from transformers) (6.0.2)\n",
            "Requirement already satisfied: regex!=2019.12.17 in /usr/local/lib/python3.11/dist-packages (from transformers) (2024.11.6)\n",
            "Requirement already satisfied: requests in /usr/local/lib/python3.11/dist-packages (from transformers) (2.32.3)\n",
            "Requirement already satisfied: tokenizers<0.22,>=0.21 in /usr/local/lib/python3.11/dist-packages (from transformers) (0.21.0)\n",
            "Requirement already satisfied: safetensors>=0.4.1 in /usr/local/lib/python3.11/dist-packages (from transformers) (0.5.3)\n",
            "Requirement already satisfied: tqdm>=4.27 in /usr/local/lib/python3.11/dist-packages (from transformers) (4.67.1)\n",
            "Requirement already satisfied: torch>=1.5.0 in /usr/local/lib/python3.11/dist-packages (from thai2transformers) (2.5.1+cu124)\n",
            "Collecting transformers\n",
            "  Downloading transformers-3.5.0-py3-none-any.whl.metadata (32 kB)\n",
            "Collecting sentencepiece==0.1.91 (from thai2transformers)\n",
            "  Downloading sentencepiece-0.1.91.tar.gz (500 kB)\n",
            "\u001b[2K     \u001b[90m━━━━━━━━━━━━━━━━━━━━━━━━━━━━━━━━━━━━━━━━\u001b[0m \u001b[32m500.5/500.5 kB\u001b[0m \u001b[31m10.5 MB/s\u001b[0m eta \u001b[36m0:00:00\u001b[0m\n",
            "\u001b[?25h  \u001b[1;31merror\u001b[0m: \u001b[1msubprocess-exited-with-error\u001b[0m\n",
            "  \n",
            "  \u001b[31m×\u001b[0m \u001b[32mpython setup.py egg_info\u001b[0m did not run successfully.\n",
            "  \u001b[31m│\u001b[0m exit code: \u001b[1;36m1\u001b[0m\n",
            "  \u001b[31m╰─>\u001b[0m See above for output.\n",
            "  \n",
            "  \u001b[1;35mnote\u001b[0m: This error originates from a subprocess, and is likely not a problem with pip.\n",
            "  Preparing metadata (setup.py) ... \u001b[?25l\u001b[?25herror\n",
            "\u001b[1;31merror\u001b[0m: \u001b[1mmetadata-generation-failed\u001b[0m\n",
            "\n",
            "\u001b[31m×\u001b[0m Encountered error while generating package metadata.\n",
            "\u001b[31m╰─>\u001b[0m See above for output.\n",
            "\n",
            "\u001b[1;35mnote\u001b[0m: This is an issue with the package mentioned above, not pip.\n",
            "\u001b[1;36mhint\u001b[0m: See above for details.\n",
            "Requirement already satisfied: torch in /usr/local/lib/python3.11/dist-packages (2.5.1+cu124)\n",
            "Requirement already satisfied: filelock in /usr/local/lib/python3.11/dist-packages (from torch) (3.17.0)\n",
            "Requirement already satisfied: typing-extensions>=4.8.0 in /usr/local/lib/python3.11/dist-packages (from torch) (4.12.2)\n",
            "Requirement already satisfied: networkx in /usr/local/lib/python3.11/dist-packages (from torch) (3.4.2)\n",
            "Requirement already satisfied: jinja2 in /usr/local/lib/python3.11/dist-packages (from torch) (3.1.5)\n",
            "Requirement already satisfied: fsspec in /usr/local/lib/python3.11/dist-packages (from torch) (2024.10.0)\n",
            "Collecting nvidia-cuda-nvrtc-cu12==12.4.127 (from torch)\n",
            "  Downloading nvidia_cuda_nvrtc_cu12-12.4.127-py3-none-manylinux2014_x86_64.whl.metadata (1.5 kB)\n",
            "Collecting nvidia-cuda-runtime-cu12==12.4.127 (from torch)\n",
            "  Downloading nvidia_cuda_runtime_cu12-12.4.127-py3-none-manylinux2014_x86_64.whl.metadata (1.5 kB)\n",
            "Collecting nvidia-cuda-cupti-cu12==12.4.127 (from torch)\n",
            "  Downloading nvidia_cuda_cupti_cu12-12.4.127-py3-none-manylinux2014_x86_64.whl.metadata (1.6 kB)\n",
            "Collecting nvidia-cudnn-cu12==9.1.0.70 (from torch)\n",
            "  Downloading nvidia_cudnn_cu12-9.1.0.70-py3-none-manylinux2014_x86_64.whl.metadata (1.6 kB)\n",
            "Collecting nvidia-cublas-cu12==12.4.5.8 (from torch)\n",
            "  Downloading nvidia_cublas_cu12-12.4.5.8-py3-none-manylinux2014_x86_64.whl.metadata (1.5 kB)\n",
            "Collecting nvidia-cufft-cu12==11.2.1.3 (from torch)\n",
            "  Downloading nvidia_cufft_cu12-11.2.1.3-py3-none-manylinux2014_x86_64.whl.metadata (1.5 kB)\n",
            "Collecting nvidia-curand-cu12==10.3.5.147 (from torch)\n",
            "  Downloading nvidia_curand_cu12-10.3.5.147-py3-none-manylinux2014_x86_64.whl.metadata (1.5 kB)\n",
            "Collecting nvidia-cusolver-cu12==11.6.1.9 (from torch)\n",
            "  Downloading nvidia_cusolver_cu12-11.6.1.9-py3-none-manylinux2014_x86_64.whl.metadata (1.6 kB)\n",
            "Collecting nvidia-cusparse-cu12==12.3.1.170 (from torch)\n",
            "  Downloading nvidia_cusparse_cu12-12.3.1.170-py3-none-manylinux2014_x86_64.whl.metadata (1.6 kB)\n",
            "Requirement already satisfied: nvidia-nccl-cu12==2.21.5 in /usr/local/lib/python3.11/dist-packages (from torch) (2.21.5)\n",
            "Requirement already satisfied: nvidia-nvtx-cu12==12.4.127 in /usr/local/lib/python3.11/dist-packages (from torch) (12.4.127)\n",
            "Collecting nvidia-nvjitlink-cu12==12.4.127 (from torch)\n",
            "  Downloading nvidia_nvjitlink_cu12-12.4.127-py3-none-manylinux2014_x86_64.whl.metadata (1.5 kB)\n",
            "Requirement already satisfied: triton==3.1.0 in /usr/local/lib/python3.11/dist-packages (from torch) (3.1.0)\n",
            "Requirement already satisfied: sympy==1.13.1 in /usr/local/lib/python3.11/dist-packages (from torch) (1.13.1)\n",
            "Requirement already satisfied: mpmath<1.4,>=1.1.0 in /usr/local/lib/python3.11/dist-packages (from sympy==1.13.1->torch) (1.3.0)\n",
            "Requirement already satisfied: MarkupSafe>=2.0 in /usr/local/lib/python3.11/dist-packages (from jinja2->torch) (3.0.2)\n",
            "Downloading nvidia_cublas_cu12-12.4.5.8-py3-none-manylinux2014_x86_64.whl (363.4 MB)\n",
            "\u001b[2K   \u001b[90m━━━━━━━━━━━━━━━━━━━━━━━━━━━━━━━━━━━━━━━━\u001b[0m \u001b[32m363.4/363.4 MB\u001b[0m \u001b[31m2.9 MB/s\u001b[0m eta \u001b[36m0:00:00\u001b[0m\n",
            "\u001b[?25hDownloading nvidia_cuda_cupti_cu12-12.4.127-py3-none-manylinux2014_x86_64.whl (13.8 MB)\n",
            "\u001b[2K   \u001b[90m━━━━━━━━━━━━━━━━━━━━━━━━━━━━━━━━━━━━━━━━\u001b[0m \u001b[32m13.8/13.8 MB\u001b[0m \u001b[31m118.2 MB/s\u001b[0m eta \u001b[36m0:00:00\u001b[0m\n",
            "\u001b[?25hDownloading nvidia_cuda_nvrtc_cu12-12.4.127-py3-none-manylinux2014_x86_64.whl (24.6 MB)\n",
            "\u001b[2K   \u001b[90m━━━━━━━━━━━━━━━━━━━━━━━━━━━━━━━━━━━━━━━━\u001b[0m \u001b[32m24.6/24.6 MB\u001b[0m \u001b[31m84.4 MB/s\u001b[0m eta \u001b[36m0:00:00\u001b[0m\n",
            "\u001b[?25hDownloading nvidia_cuda_runtime_cu12-12.4.127-py3-none-manylinux2014_x86_64.whl (883 kB)\n",
            "\u001b[2K   \u001b[90m━━━━━━━━━━━━━━━━━━━━━━━━━━━━━━━━━━━━━━━━\u001b[0m \u001b[32m883.7/883.7 kB\u001b[0m \u001b[31m55.6 MB/s\u001b[0m eta \u001b[36m0:00:00\u001b[0m\n",
            "\u001b[?25hDownloading nvidia_cudnn_cu12-9.1.0.70-py3-none-manylinux2014_x86_64.whl (664.8 MB)\n",
            "\u001b[2K   \u001b[90m━━━━━━━━━━━━━━━━━━━━━━━━━━━━━━━━━━━━━━━━\u001b[0m \u001b[32m664.8/664.8 MB\u001b[0m \u001b[31m2.3 MB/s\u001b[0m eta \u001b[36m0:00:00\u001b[0m\n",
            "\u001b[?25hDownloading nvidia_cufft_cu12-11.2.1.3-py3-none-manylinux2014_x86_64.whl (211.5 MB)\n",
            "\u001b[2K   \u001b[90m━━━━━━━━━━━━━━━━━━━━━━━━━━━━━━━━━━━━━━━━\u001b[0m \u001b[32m211.5/211.5 MB\u001b[0m \u001b[31m4.7 MB/s\u001b[0m eta \u001b[36m0:00:00\u001b[0m\n",
            "\u001b[?25hDownloading nvidia_curand_cu12-10.3.5.147-py3-none-manylinux2014_x86_64.whl (56.3 MB)\n",
            "\u001b[2K   \u001b[90m━━━━━━━━━━━━━━━━━━━━━━━━━━━━━━━━━━━━━━━━\u001b[0m \u001b[32m56.3/56.3 MB\u001b[0m \u001b[31m39.6 MB/s\u001b[0m eta \u001b[36m0:00:00\u001b[0m\n",
            "\u001b[?25hDownloading nvidia_cusolver_cu12-11.6.1.9-py3-none-manylinux2014_x86_64.whl (127.9 MB)\n",
            "\u001b[2K   \u001b[90m━━━━━━━━━━━━━━━━━━━━━━━━━━━━━━━━━━━━━━━━\u001b[0m \u001b[32m127.9/127.9 MB\u001b[0m \u001b[31m17.5 MB/s\u001b[0m eta \u001b[36m0:00:00\u001b[0m\n",
            "\u001b[?25hDownloading nvidia_cusparse_cu12-12.3.1.170-py3-none-manylinux2014_x86_64.whl (207.5 MB)\n",
            "\u001b[2K   \u001b[90m━━━━━━━━━━━━━━━━━━━━━━━━━━━━━━━━━━━━━━━━\u001b[0m \u001b[32m207.5/207.5 MB\u001b[0m \u001b[31m4.9 MB/s\u001b[0m eta \u001b[36m0:00:00\u001b[0m\n",
            "\u001b[?25hDownloading nvidia_nvjitlink_cu12-12.4.127-py3-none-manylinux2014_x86_64.whl (21.1 MB)\n",
            "\u001b[2K   \u001b[90m━━━━━━━━━━━━━━━━━━━━━━━━━━━━━━━━━━━━━━━━\u001b[0m \u001b[32m21.1/21.1 MB\u001b[0m \u001b[31m96.8 MB/s\u001b[0m eta \u001b[36m0:00:00\u001b[0m\n",
            "\u001b[?25hInstalling collected packages: nvidia-nvjitlink-cu12, nvidia-curand-cu12, nvidia-cufft-cu12, nvidia-cuda-runtime-cu12, nvidia-cuda-nvrtc-cu12, nvidia-cuda-cupti-cu12, nvidia-cublas-cu12, nvidia-cusparse-cu12, nvidia-cudnn-cu12, nvidia-cusolver-cu12\n",
            "  Attempting uninstall: nvidia-nvjitlink-cu12\n",
            "    Found existing installation: nvidia-nvjitlink-cu12 12.5.82\n",
            "    Uninstalling nvidia-nvjitlink-cu12-12.5.82:\n",
            "      Successfully uninstalled nvidia-nvjitlink-cu12-12.5.82\n",
            "  Attempting uninstall: nvidia-curand-cu12\n",
            "    Found existing installation: nvidia-curand-cu12 10.3.6.82\n",
            "    Uninstalling nvidia-curand-cu12-10.3.6.82:\n",
            "      Successfully uninstalled nvidia-curand-cu12-10.3.6.82\n",
            "  Attempting uninstall: nvidia-cufft-cu12\n",
            "    Found existing installation: nvidia-cufft-cu12 11.2.3.61\n",
            "    Uninstalling nvidia-cufft-cu12-11.2.3.61:\n",
            "      Successfully uninstalled nvidia-cufft-cu12-11.2.3.61\n",
            "  Attempting uninstall: nvidia-cuda-runtime-cu12\n",
            "    Found existing installation: nvidia-cuda-runtime-cu12 12.5.82\n",
            "    Uninstalling nvidia-cuda-runtime-cu12-12.5.82:\n",
            "      Successfully uninstalled nvidia-cuda-runtime-cu12-12.5.82\n",
            "  Attempting uninstall: nvidia-cuda-nvrtc-cu12\n",
            "    Found existing installation: nvidia-cuda-nvrtc-cu12 12.5.82\n",
            "    Uninstalling nvidia-cuda-nvrtc-cu12-12.5.82:\n",
            "      Successfully uninstalled nvidia-cuda-nvrtc-cu12-12.5.82\n",
            "  Attempting uninstall: nvidia-cuda-cupti-cu12\n",
            "    Found existing installation: nvidia-cuda-cupti-cu12 12.5.82\n",
            "    Uninstalling nvidia-cuda-cupti-cu12-12.5.82:\n",
            "      Successfully uninstalled nvidia-cuda-cupti-cu12-12.5.82\n",
            "  Attempting uninstall: nvidia-cublas-cu12\n",
            "    Found existing installation: nvidia-cublas-cu12 12.5.3.2\n",
            "    Uninstalling nvidia-cublas-cu12-12.5.3.2:\n",
            "      Successfully uninstalled nvidia-cublas-cu12-12.5.3.2\n",
            "  Attempting uninstall: nvidia-cusparse-cu12\n",
            "    Found existing installation: nvidia-cusparse-cu12 12.5.1.3\n",
            "    Uninstalling nvidia-cusparse-cu12-12.5.1.3:\n",
            "      Successfully uninstalled nvidia-cusparse-cu12-12.5.1.3\n",
            "  Attempting uninstall: nvidia-cudnn-cu12\n",
            "    Found existing installation: nvidia-cudnn-cu12 9.3.0.75\n",
            "    Uninstalling nvidia-cudnn-cu12-9.3.0.75:\n",
            "      Successfully uninstalled nvidia-cudnn-cu12-9.3.0.75\n",
            "  Attempting uninstall: nvidia-cusolver-cu12\n",
            "    Found existing installation: nvidia-cusolver-cu12 11.6.3.83\n",
            "    Uninstalling nvidia-cusolver-cu12-11.6.3.83:\n",
            "      Successfully uninstalled nvidia-cusolver-cu12-11.6.3.83\n",
            "Successfully installed nvidia-cublas-cu12-12.4.5.8 nvidia-cuda-cupti-cu12-12.4.127 nvidia-cuda-nvrtc-cu12-12.4.127 nvidia-cuda-runtime-cu12-12.4.127 nvidia-cudnn-cu12-9.1.0.70 nvidia-cufft-cu12-11.2.1.3 nvidia-curand-cu12-10.3.5.147 nvidia-cusolver-cu12-11.6.1.9 nvidia-cusparse-cu12-12.3.1.170 nvidia-nvjitlink-cu12-12.4.127\n",
            "Collecting torchtext==0.6.0\n",
            "  Downloading torchtext-0.6.0-py3-none-any.whl.metadata (6.3 kB)\n",
            "Requirement already satisfied: tqdm in /usr/local/lib/python3.11/dist-packages (from torchtext==0.6.0) (4.67.1)\n",
            "Requirement already satisfied: requests in /usr/local/lib/python3.11/dist-packages (from torchtext==0.6.0) (2.32.3)\n",
            "Requirement already satisfied: torch in /usr/local/lib/python3.11/dist-packages (from torchtext==0.6.0) (2.5.1+cu124)\n",
            "Requirement already satisfied: numpy in /usr/local/lib/python3.11/dist-packages (from torchtext==0.6.0) (1.26.4)\n",
            "Requirement already satisfied: six in /usr/local/lib/python3.11/dist-packages (from torchtext==0.6.0) (1.17.0)\n",
            "Requirement already satisfied: sentencepiece in /usr/local/lib/python3.11/dist-packages (from torchtext==0.6.0) (0.2.0)\n",
            "Requirement already satisfied: charset-normalizer<4,>=2 in /usr/local/lib/python3.11/dist-packages (from requests->torchtext==0.6.0) (3.4.1)\n",
            "Requirement already satisfied: idna<4,>=2.5 in /usr/local/lib/python3.11/dist-packages (from requests->torchtext==0.6.0) (3.10)\n",
            "Requirement already satisfied: urllib3<3,>=1.21.1 in /usr/local/lib/python3.11/dist-packages (from requests->torchtext==0.6.0) (2.3.0)\n",
            "Requirement already satisfied: certifi>=2017.4.17 in /usr/local/lib/python3.11/dist-packages (from requests->torchtext==0.6.0) (2025.1.31)\n",
            "Requirement already satisfied: filelock in /usr/local/lib/python3.11/dist-packages (from torch->torchtext==0.6.0) (3.17.0)\n",
            "Requirement already satisfied: typing-extensions>=4.8.0 in /usr/local/lib/python3.11/dist-packages (from torch->torchtext==0.6.0) (4.12.2)\n",
            "Requirement already satisfied: networkx in /usr/local/lib/python3.11/dist-packages (from torch->torchtext==0.6.0) (3.4.2)\n",
            "Requirement already satisfied: jinja2 in /usr/local/lib/python3.11/dist-packages (from torch->torchtext==0.6.0) (3.1.5)\n",
            "Requirement already satisfied: fsspec in /usr/local/lib/python3.11/dist-packages (from torch->torchtext==0.6.0) (2024.10.0)\n",
            "Requirement already satisfied: nvidia-cuda-nvrtc-cu12==12.4.127 in /usr/local/lib/python3.11/dist-packages (from torch->torchtext==0.6.0) (12.4.127)\n",
            "Requirement already satisfied: nvidia-cuda-runtime-cu12==12.4.127 in /usr/local/lib/python3.11/dist-packages (from torch->torchtext==0.6.0) (12.4.127)\n",
            "Requirement already satisfied: nvidia-cuda-cupti-cu12==12.4.127 in /usr/local/lib/python3.11/dist-packages (from torch->torchtext==0.6.0) (12.4.127)\n",
            "Requirement already satisfied: nvidia-cudnn-cu12==9.1.0.70 in /usr/local/lib/python3.11/dist-packages (from torch->torchtext==0.6.0) (9.1.0.70)\n",
            "Requirement already satisfied: nvidia-cublas-cu12==12.4.5.8 in /usr/local/lib/python3.11/dist-packages (from torch->torchtext==0.6.0) (12.4.5.8)\n",
            "Requirement already satisfied: nvidia-cufft-cu12==11.2.1.3 in /usr/local/lib/python3.11/dist-packages (from torch->torchtext==0.6.0) (11.2.1.3)\n",
            "Requirement already satisfied: nvidia-curand-cu12==10.3.5.147 in /usr/local/lib/python3.11/dist-packages (from torch->torchtext==0.6.0) (10.3.5.147)\n",
            "Requirement already satisfied: nvidia-cusolver-cu12==11.6.1.9 in /usr/local/lib/python3.11/dist-packages (from torch->torchtext==0.6.0) (11.6.1.9)\n",
            "Requirement already satisfied: nvidia-cusparse-cu12==12.3.1.170 in /usr/local/lib/python3.11/dist-packages (from torch->torchtext==0.6.0) (12.3.1.170)\n",
            "Requirement already satisfied: nvidia-nccl-cu12==2.21.5 in /usr/local/lib/python3.11/dist-packages (from torch->torchtext==0.6.0) (2.21.5)\n",
            "Requirement already satisfied: nvidia-nvtx-cu12==12.4.127 in /usr/local/lib/python3.11/dist-packages (from torch->torchtext==0.6.0) (12.4.127)\n",
            "Requirement already satisfied: nvidia-nvjitlink-cu12==12.4.127 in /usr/local/lib/python3.11/dist-packages (from torch->torchtext==0.6.0) (12.4.127)\n",
            "Requirement already satisfied: triton==3.1.0 in /usr/local/lib/python3.11/dist-packages (from torch->torchtext==0.6.0) (3.1.0)\n",
            "Requirement already satisfied: sympy==1.13.1 in /usr/local/lib/python3.11/dist-packages (from torch->torchtext==0.6.0) (1.13.1)\n",
            "Requirement already satisfied: mpmath<1.4,>=1.1.0 in /usr/local/lib/python3.11/dist-packages (from sympy==1.13.1->torch->torchtext==0.6.0) (1.3.0)\n",
            "Requirement already satisfied: MarkupSafe>=2.0 in /usr/local/lib/python3.11/dist-packages (from jinja2->torch->torchtext==0.6.0) (3.0.2)\n",
            "Downloading torchtext-0.6.0-py3-none-any.whl (64 kB)\n",
            "\u001b[2K   \u001b[90m━━━━━━━━━━━━━━━━━━━━━━━━━━━━━━━━━━━━━━━━\u001b[0m \u001b[32m64.2/64.2 kB\u001b[0m \u001b[31m2.5 MB/s\u001b[0m eta \u001b[36m0:00:00\u001b[0m\n",
            "\u001b[?25hInstalling collected packages: torchtext\n",
            "Successfully installed torchtext-0.6.0\n",
            "Requirement already satisfied: sentencepiece in /usr/local/lib/python3.11/dist-packages (0.2.0)\n"
          ]
        }
      ],
      "source": [
        "!pip install transformers thai2transformers\n",
        "!pip install torch\n",
        "!pip install torchtext==0.6.0\n",
        "!pip install sentencepiece"
      ]
    },
    {
      "cell_type": "code",
      "execution_count": null,
      "metadata": {
        "id": "dfabH0x64KiX",
        "colab": {
          "base_uri": "https://localhost:8080/"
        },
        "outputId": "56b00e89-16e0-4d83-ca5f-f10def9e2428"
      },
      "outputs": [
        {
          "output_type": "stream",
          "name": "stdout",
          "text": [
            "Requirement already satisfied: transformers in /usr/local/lib/python3.11/dist-packages (4.48.3)\n",
            "Requirement already satisfied: filelock in /usr/local/lib/python3.11/dist-packages (from transformers) (3.17.0)\n",
            "Requirement already satisfied: huggingface-hub<1.0,>=0.24.0 in /usr/local/lib/python3.11/dist-packages (from transformers) (0.28.1)\n",
            "Requirement already satisfied: numpy>=1.17 in /usr/local/lib/python3.11/dist-packages (from transformers) (1.26.4)\n",
            "Requirement already satisfied: packaging>=20.0 in /usr/local/lib/python3.11/dist-packages (from transformers) (24.2)\n",
            "Requirement already satisfied: pyyaml>=5.1 in /usr/local/lib/python3.11/dist-packages (from transformers) (6.0.2)\n",
            "Requirement already satisfied: regex!=2019.12.17 in /usr/local/lib/python3.11/dist-packages (from transformers) (2024.11.6)\n",
            "Requirement already satisfied: requests in /usr/local/lib/python3.11/dist-packages (from transformers) (2.32.3)\n",
            "Requirement already satisfied: tokenizers<0.22,>=0.21 in /usr/local/lib/python3.11/dist-packages (from transformers) (0.21.0)\n",
            "Requirement already satisfied: safetensors>=0.4.1 in /usr/local/lib/python3.11/dist-packages (from transformers) (0.5.3)\n",
            "Requirement already satisfied: tqdm>=4.27 in /usr/local/lib/python3.11/dist-packages (from transformers) (4.67.1)\n",
            "Requirement already satisfied: fsspec>=2023.5.0 in /usr/local/lib/python3.11/dist-packages (from huggingface-hub<1.0,>=0.24.0->transformers) (2024.10.0)\n",
            "Requirement already satisfied: typing-extensions>=3.7.4.3 in /usr/local/lib/python3.11/dist-packages (from huggingface-hub<1.0,>=0.24.0->transformers) (4.12.2)\n",
            "Requirement already satisfied: charset-normalizer<4,>=2 in /usr/local/lib/python3.11/dist-packages (from requests->transformers) (3.4.1)\n",
            "Requirement already satisfied: idna<4,>=2.5 in /usr/local/lib/python3.11/dist-packages (from requests->transformers) (3.10)\n",
            "Requirement already satisfied: urllib3<3,>=1.21.1 in /usr/local/lib/python3.11/dist-packages (from requests->transformers) (2.3.0)\n",
            "Requirement already satisfied: certifi>=2017.4.17 in /usr/local/lib/python3.11/dist-packages (from requests->transformers) (2025.1.31)\n"
          ]
        }
      ],
      "source": [
        "!pip install transformers"
      ]
    },
    {
      "cell_type": "code",
      "execution_count": null,
      "metadata": {
        "id": "yANQef68E7lK"
      },
      "outputs": [],
      "source": [
        "data = pd.read_csv('cleaned_data.csv')\n",
        "\n",
        "reviews = data['cleaned_review'].values\n",
        "labels = data['label'].values\n",
        "encoder = LabelEncoder()\n",
        "encoded_labels = encoder.fit_transform(labels)\n",
        "\n",
        "# tmp_train 80%    test 20%\n",
        "# train  val\n",
        "#  70%   10%       test 20%\n",
        "train_sentences, test_sentences, train_labels, test_labels = train_test_split(reviews, encoded_labels, stratify = encoded_labels,test_size=0.15, random_state=1234)\n"
      ]
    },
    {
      "cell_type": "code",
      "source": [
        "# # แบ่ง train 80% และ validation 15% จากข้อมูลที่เหลือ (95%)\n",
        "# train_sentences, val_sentences, train_labels, val_labels = train_test_split(train_val_sentences, train_val_labels, stratify=train_val_labels, test_size=0.1579, random_state=1234)  # 15 / 95 = 0.1579\n",
        "\n",
        "# # แสดงจำนวนข้อมูล\n",
        "# print(\"Train:\", len(train_sentences))\n",
        "# print(\"Validation:\", len(val_sentences))\n",
        "# print(\"Test:\", len(test_sentences))"
      ],
      "metadata": {
        "id": "6szu3kGVFB1o"
      },
      "execution_count": null,
      "outputs": []
    },
    {
      "cell_type": "code",
      "execution_count": null,
      "metadata": {
        "id": "P4BDXzFGGRBL",
        "colab": {
          "base_uri": "https://localhost:8080/"
        },
        "outputId": "f5ce71b3-f8b7-4223-d2b6-7c8668b0e404"
      },
      "outputs": [
        {
          "output_type": "stream",
          "name": "stdout",
          "text": [
            "Train set: ['นิสสัน นาวา รา รถ สวย สมรรถนะ สุดยอด ชอบ ค่ะ', 'สวย จัง เลย มี ปลา ด้วย เห็น แล้ว คิดถึง คลอง แสนแสบ บ้าน เรา จัง', 'คิด เป็น ชุด ใช่ มั้ย ค้ะ ไม่ ใช่ ต่อ คน ใช่ มั้ย', 'ชอบ มิตซูบิชิ มาก ใช้ ดีมาก เคย ใช้ L ทน สุด ๆ คุ้ม ค่าเงิน สุด ๆ ถ้า จะ ซื้อ คัน ใหม่ ชอบ มาก ปา เจ โร่ ถ้า มี ตัง', 'เค งั้น ไม่ ก็']\n",
            "Validation set: ['ตัวเอง อันนี้ หร่อย กว่า MK อีก น่ากิน', 'ราชภัฏ กับ คน อีสาน ของ คู่ กัน', 'หือ', 'แสงโสม ไง ละ กู ไม่ ชอบ ไง', 'โดน ไป พัน นึง']\n",
            "Test set: ['สนุก มาก ๆ เพิ่ง ดู จบ เลย ย', 'พวก อิสาน นี้ ไม่ มีอันจะกิน กัน หรอก', 'มึง เก่ง มาก เลย เนาะ', 'น่ากิน มาก ครับ เห็น แล้ว อยาก ไป ทำ กิน เลย ทำ ง่าย มาก ๆ', 'กะ ผู้ ฮ่า ย โพด']\n",
            "Number of training examples: 1610\n",
            "Number of validation examples: 345\n",
            "Number of test examples: 345\n"
          ]
        }
      ],
      "source": [
        "from sklearn.model_selection import train_test_split\n",
        "import numpy as np\n",
        "\n",
        "val_size = int(len(test_sentences)/1)\n",
        "train = list(train_sentences)[:(len(train_sentences)-val_size)]\n",
        "val = list(train_sentences)[(len(train_sentences)-val_size):]\n",
        "test = list(test_sentences)\n",
        "\n",
        "print(\"Train set:\", train[:5])\n",
        "print(\"Validation set:\", val[:5])\n",
        "print(\"Test set:\", test[:5])\n",
        "print(\"Number of training examples:\", len(train))\n",
        "print(\"Number of validation examples:\", len(val))\n",
        "print(\"Number of test examples:\", len(test))"
      ]
    },
    {
      "cell_type": "code",
      "execution_count": null,
      "metadata": {
        "id": "utXg7JRyYNy9"
      },
      "outputs": [],
      "source": [
        "# import pandas as pd\n",
        "# import os\n",
        "\n",
        "# # Assuming 'train_sentences', 'train_labels', 'val', 'test', 'test_labels' are still available from previous cells\n",
        "\n",
        "# # สร้าง DataFrame สำหรับ train, val, test\n",
        "# train_df = pd.DataFrame({'review': train_sentences, 'label': train_labels}) # Use train_sentences instead of train\n",
        "# val_df = pd.DataFrame({'review': val, 'label': train_labels[len(train_sentences)-len(val):]})  # Use len(train_sentences) to index correctly\n",
        "# test_df = pd.DataFrame({'review': test, 'label': test_labels})\n",
        "\n",
        "# # รวมคอลัมน์ 'review' และ 'label' เพื่อระบุข้อมูลที่ซ้ำกัน\n",
        "# train_df['combined'] = train_df['review'] + train_df['label'].astype(str)\n",
        "# val_df['combined'] = val_df['review'] + val_df['label'].astype(str)\n",
        "\n",
        "# # ลบข้อมูลที่ซ้ำกันใน train_df\n",
        "# train_df = train_df[~train_df['combined'].isin(val_df['combined'])]\n",
        "\n",
        "# # ลบคอลัมน์ 'combined' ออก\n",
        "# train_df = train_df.drop(columns=['combined'])\n",
        "# val_df = val_df.drop(columns=['combined'])\n",
        "\n",
        "# os.makedirs('datasets', exist_ok=True)\n",
        "\n",
        "# # บันทึก DataFrame เป็นไฟล์ CSV\n",
        "# train_df.to_csv('datasets/train.csv', index=False)\n",
        "# val_df.to_csv('datasets/val.csv', index=False)\n",
        "# test_df.to_csv('datasets/test.csv', index=False)"
      ]
    },
    {
      "cell_type": "code",
      "source": [
        "import pandas as pd\n",
        "import os\n",
        "\n",
        "# Assuming 'train_sentences', 'train_labels', 'val', 'test', 'test_labels' are still available from previous cells\n",
        "\n",
        "# สร้าง DataFrame สำหรับ train, val, test\n",
        "train_df = pd.DataFrame({'review': train_sentences, 'label': train_labels})\n",
        "val_df = pd.DataFrame({'review': val, 'label': train_labels[len(train_sentences)-len(val):]})\n",
        "test_df = pd.DataFrame({'review': test, 'label': test_labels})\n",
        "\n",
        "# รวมคอลัมน์ 'review' และ 'label' เพื่อระบุข้อมูลที่ซ้ำกัน\n",
        "train_df['combined'] = train_df['review'] + train_df['label'].astype(str)\n",
        "val_df['combined'] = val_df['review'] + val_df['label'].astype(str)\n",
        "\n",
        "# ลบข้อมูลที่ซ้ำกันใน train_df\n",
        "train_df = train_df[~train_df['combined'].isin(val_df['combined'])]\n",
        "\n",
        "# ลบคอลัมน์ 'combined' ออก\n",
        "train_df = train_df.drop(columns=['combined'])\n",
        "val_df = val_df.drop(columns=['combined'])\n",
        "\n",
        "os.makedirs('datasets', exist_ok=True)\n",
        "\n",
        "# บันทึก DataFrame เป็นไฟล์ CSV\n",
        "train_df.to_csv('datasets/train.csv', index=False)\n",
        "val_df.to_csv('datasets/val.csv', index=False)\n",
        "test_df.to_csv('datasets/test.csv', index=False)"
      ],
      "metadata": {
        "id": "-Tycpli1kl0o"
      },
      "execution_count": null,
      "outputs": []
    },
    {
      "cell_type": "code",
      "source": [
        "# นับจำนวนข้อมูลของแต่ละคลาส\n",
        "class_counts = train_df['label'].value_counts()\n",
        "\n",
        "# คำนวณเปอร์เซ็นต์ของแต่ละคลาส (โดยไม่แสดงทศนิยม)\n",
        "class_percentages = (class_counts / len(train_df) * 100).astype(int)\n",
        "\n",
        "# สร้าง DataFrame ใหม่เพื่อแสดงผลลัพธ์\n",
        "result_df = pd.DataFrame({'Count': class_counts, 'Percentage': class_percentages})\n",
        "\n",
        "result_df.loc['Total'] = [result_df['Count'].sum(), result_df['Percentage'].sum()]\n",
        "\n",
        "\n",
        "# พิมพ์ผลลัพธ์\n",
        "print(result_df)"
      ],
      "metadata": {
        "colab": {
          "base_uri": "https://localhost:8080/"
        },
        "id": "Eym6po4o44eG",
        "outputId": "d236a768-d668-4bcd-ee04-401420ab6607"
      },
      "execution_count": null,
      "outputs": [
        {
          "output_type": "stream",
          "name": "stdout",
          "text": [
            "       Count  Percentage\n",
            "label                   \n",
            "0        396          24\n",
            "1        392          24\n",
            "2        338          21\n",
            "3        174          10\n",
            "4        150           9\n",
            "5        143           8\n",
            "Total   1593          96\n"
          ]
        }
      ]
    },
    {
      "cell_type": "code",
      "source": [
        "# นับจำนวนข้อมูลของแต่ละคลาส\n",
        "class_counts = val_df['label'].value_counts()\n",
        "\n",
        "# คำนวณเปอร์เซ็นต์ของแต่ละคลาส (โดยไม่แสดงทศนิยม)\n",
        "class_percentages = (class_counts / len(val_df) * 100).astype(int)\n",
        "\n",
        "# สร้าง DataFrame ใหม่เพื่อแสดงผลลัพธ์\n",
        "result_df = pd.DataFrame({'Count': class_counts, 'Percentage': class_percentages})\n",
        "\n",
        "result_df.loc['Total'] = [result_df['Count'].sum(), result_df['Percentage'].sum()]\n",
        "\n",
        "# พิมพ์ผลลัพธ์\n",
        "print(result_df)"
      ],
      "metadata": {
        "colab": {
          "base_uri": "https://localhost:8080/"
        },
        "id": "6VETmIv8IlJa",
        "outputId": "d633a90e-359d-48da-9ade-82ded404c1e8"
      },
      "execution_count": null,
      "outputs": [
        {
          "output_type": "stream",
          "name": "stdout",
          "text": [
            "       Count  Percentage\n",
            "label                   \n",
            "0         95          27\n",
            "2         90          26\n",
            "1         63          18\n",
            "4         40          11\n",
            "3         34           9\n",
            "5         23           6\n",
            "Total    345          97\n"
          ]
        }
      ]
    },
    {
      "cell_type": "code",
      "source": [
        "# นับจำนวนข้อมูลของแต่ละคลาส\n",
        "class_counts = test_df['label'].value_counts()\n",
        "\n",
        "# คำนวณเปอร์เซ็นต์ของแต่ละคลาส (โดยไม่แสดงทศนิยม)\n",
        "class_percentages = (class_counts / len(test_df) * 100).astype(int)\n",
        "\n",
        "# สร้าง DataFrame ใหม่เพื่อแสดงผลลัพธ์\n",
        "result_df = pd.DataFrame({'Count': class_counts, 'Percentage': class_percentages})\n",
        "\n",
        "result_df.loc['Total'] = [result_df['Count'].sum(), result_df['Percentage'].sum()]\n",
        "\n",
        "# พิมพ์ผลลัพธ์\n",
        "print(result_df)"
      ],
      "metadata": {
        "colab": {
          "base_uri": "https://localhost:8080/"
        },
        "id": "8depdgz_Ildf",
        "outputId": "2eb72e65-6ed6-402d-ad09-d6f5e098ae39"
      },
      "execution_count": null,
      "outputs": [
        {
          "output_type": "stream",
          "name": "stdout",
          "text": [
            "       Count  Percentage\n",
            "label                   \n",
            "0         88          25\n",
            "1         81          23\n",
            "2         75          21\n",
            "3         37          10\n",
            "4         34           9\n",
            "5         30           8\n",
            "Total    345          96\n"
          ]
        }
      ]
    },
    {
      "cell_type": "code",
      "execution_count": null,
      "metadata": {
        "id": "tBnqVPegpcIv"
      },
      "outputs": [],
      "source": [
        "# #copy data because we need to used module name data\n",
        "# reviews = data['review'].values\n",
        "# labels = data['label'].values\n",
        "# encoder = LabelEncoder()\n",
        "# encoded_labels = encoder.fit_transform(labels)\n",
        "\n",
        "# train_sentences, test_sentences, train_labels, test_labels = train_test_split(reviews, encoded_labels, stratify = encoded_labels,test_size=0.2, random_state=1234)"
      ]
    },
    {
      "cell_type": "code",
      "execution_count": null,
      "metadata": {
        "id": "8NMET83Quju5"
      },
      "outputs": [],
      "source": [
        "# Training configurations\n",
        "SEED = 1234\n",
        "TRAIN = False\n",
        "BATCH_SIZE = 16"
      ]
    },
    {
      "cell_type": "code",
      "execution_count": null,
      "metadata": {
        "id": "dg9FVhBQ1cc_"
      },
      "outputs": [],
      "source": [
        "import torch\n",
        "import torch.nn as nn\n",
        "import torch.optim as optim\n",
        "# Bert model and its tokenizer\n",
        "from transformers import BertModel,AutoTokenizer\n",
        "# Text data\n",
        "from torchtext import data as torchtext_data, datasets\n",
        "# Numerical computation\n",
        "import numpy as np\n",
        "# standard library\n",
        "import random\n",
        "import time\n",
        "# Configuration\n",
        "#from config import *\n",
        "\n",
        "# Set random seed for reproducible experiments\n",
        "random.seed(SEED)\n",
        "np.random.seed(SEED)\n",
        "torch.manual_seed(SEED)\n",
        "torch.backends.cudnn.deterministic = True"
      ]
    },
    {
      "cell_type": "code",
      "execution_count": null,
      "metadata": {
        "id": "kuaB4qlw1i8s",
        "colab": {
          "base_uri": "https://localhost:8080/"
        },
        "outputId": "17405fe0-e09a-4edb-f0ad-24cea831c5e4"
      },
      "outputs": [
        {
          "output_type": "stream",
          "name": "stderr",
          "text": [
            "/usr/local/lib/python3.11/dist-packages/huggingface_hub/utils/_auth.py:94: UserWarning: \n",
            "The secret `HF_TOKEN` does not exist in your Colab secrets.\n",
            "To authenticate with the Hugging Face Hub, create a token in your settings tab (https://huggingface.co/settings/tokens), set it as secret in your Google Colab and restart your session.\n",
            "You will be able to reuse this secret in all of your notebooks.\n",
            "Please note that authentication is recommended but still optional to access public models or datasets.\n",
            "  warnings.warn(\n"
          ]
        }
      ],
      "source": [
        "# Get tokens for BERT\n",
        "from transformers import BertTokenizer, BertModel,AutoTokenizer\n",
        "import numpy as np\n",
        "\n",
        "import time\n",
        "import random\n",
        "import functools\n",
        "import math\n",
        "\n",
        "\n",
        "bert_pretrained=\"airesearch/wangchanberta-base-att-spm-uncased\"\n",
        "#tokenizer = ThaiWordsSyllableTokenizer.from_pretrained(bert_pretrained)\n",
        "tokenizer = AutoTokenizer.from_pretrained(bert_pretrained)\n",
        "\n",
        "init_token_id = tokenizer.cls_token_id\n",
        "eos_token_id  = tokenizer.sep_token_id\n",
        "pad_token_id  = tokenizer.pad_token_id\n",
        "unk_token_id  = tokenizer.unk_token_id\n",
        "\n",
        "max_input_len = 512 #tokenizer.max_model_input_sizes\n",
        "\n",
        "try:\n",
        "    max_input_len = tokenizer.max_model_input_sizes['camembert-base']\n",
        "except:\n",
        "    max_input_len = 512"
      ]
    },
    {
      "cell_type": "code",
      "execution_count": null,
      "metadata": {
        "id": "NEJ1ObHB3BHF"
      },
      "outputs": [],
      "source": [
        "from torchtext.data import Field, Dataset, Example\n",
        "#from torchtext.legacy import data\n",
        "#from torchtext.data import Field, Dataset, Example\n",
        "import torchtext.data as tdata\n",
        "import pandas as pd\n",
        "\n",
        "class DataFrameDataset(Dataset):\n",
        "    \"\"\"Class for using pandas DataFrames as a datasource\"\"\"\n",
        "    def __init__(self, examples, fields, filter_pred=None):\n",
        "        \"\"\"\n",
        "        Create a dataset from a pandas dataframe of examples and Fields\n",
        "        Arguments:\n",
        "            examples pd.DataFrame: DataFrame of examples\n",
        "            fields {str: Field}: The Fields to use in this tuple. The\n",
        "                string is a field name, and the Field is the associated field.\n",
        "            filter_pred (callable or None): use only exanples for which\n",
        "                filter_pred(example) is true, or use all examples if None.\n",
        "                Default is None\n",
        "        \"\"\"\n",
        "        self.examples = examples.apply(SeriesExample.fromSeries, args=(fields,), axis=1).tolist()\n",
        "        if filter_pred is not None:\n",
        "            self.examples = filter(filter_pred, self.examples)\n",
        "        self.fields = dict(fields)\n",
        "        # Unpack field tuples\n",
        "        for n, f in list(self.fields.items()):\n",
        "            if isinstance(n, tuple):\n",
        "                self.fields.update(zip(n, f))\n",
        "                del self.fields[n]\n",
        "\n",
        "class SeriesExample(Example):\n",
        "    \"\"\"Class to convert a pandas Series to an Example\"\"\"\n",
        "\n",
        "    @classmethod\n",
        "    def fromSeries(cls, data, fields):\n",
        "        return cls.fromdict(data.to_dict(), fields)\n",
        "\n",
        "    @classmethod\n",
        "    def fromdict(cls, data, fields):\n",
        "        ex = cls()\n",
        "\n",
        "        for key, field in fields.items():\n",
        "            if key not in data:\n",
        "                raise ValueError(\"Specified key {} was not found in \"\n",
        "                \"the input data\".format(key))\n",
        "            if field is not None:\n",
        "                setattr(ex, key, field.preprocess(data[key]))\n",
        "            else:\n",
        "                setattr(ex, key, data[key])\n",
        "        return ex"
      ]
    },
    {
      "cell_type": "code",
      "execution_count": null,
      "metadata": {
        "id": "Jf9O0Jh5JDPm"
      },
      "outputs": [],
      "source": [
        "import torchtext\n",
        "from sklearn.model_selection import train_test_split\n",
        "import pandas as pd\n",
        "import random\n",
        "\n",
        "# Tokenize and crop sentence to 510 (for 1st and last token) instead of 512 (i.e. `max_input_len`)\n",
        "def tokenize_and_crop(sentence):\n",
        "  #print(sentence)\n",
        "  tokens = tokenizer.tokenize(sentence)\n",
        "  tokens = tokens[:max_input_len - 2]\n",
        "  return tokens\n",
        "\n",
        "# Load the IMDB dataset and\n",
        "# return (train_iter, valid_iter, test_iter) tuple\n",
        "def load_data():\n",
        "    text = torchtext.data.Field(\n",
        "        batch_first=True,\n",
        "        use_vocab=False,\n",
        "        tokenize=tokenize_and_crop,\n",
        "        preprocessing=tokenizer.convert_tokens_to_ids,\n",
        "        init_token=init_token_id,\n",
        "        pad_token=pad_token_id,\n",
        "        unk_token=unk_token_id\n",
        "    )\n",
        "\n",
        "    label = torchtext.data.LabelField(dtype=torch.float)\n",
        "\n",
        "    fields = {'cleaned_review': text, 'label': label}\n",
        "\n",
        "    # Convert pandas DataFrame to a list of\n",
        "    data['cleaned_review'] = data['cleaned_review'].astype(str)  # Convert to string\n",
        "    examples = data.apply(lambda row: SeriesExample.fromSeries(row, fields), axis=1).tolist()\n",
        "\n",
        "    # Split the data into train, validation, and test sets\n",
        "    train_examples, test_examples = train_test_split(examples, test_size=0.2, random_state=1234, stratify=data['label'])\n",
        "    train_examples, val_examples = train_test_split(train_examples, test_size=1/8, random_state=1234, stratify = [example.label for example in train_examples]) # 1/8 of the total = 1/8 of 0.8 = 0.1\n",
        "\n",
        "\n",
        "    train_ds = torchtext.data.Dataset(train_examples, fields)\n",
        "    val_ds = torchtext.data.Dataset(val_examples, fields)\n",
        "    test_ds = torchtext.data.Dataset(test_examples, fields)\n",
        "\n",
        "    print(f\"training examples count: {len(train_ds)}\")\n",
        "    print(f\"validation examples count: {len(val_ds)}\")\n",
        "    print(f\"test examples count: {len(test_ds)}\")\n",
        "\n",
        "    label.build_vocab(train_ds)\n",
        "\n",
        "    train_iter, valid_iter, test_iter = torchtext.data.BucketIterator.splits(\n",
        "        (train_ds, val_ds, test_ds),\n",
        "        batch_size=BATCH_SIZE,\n",
        "        device=device,\n",
        "        sort_key=lambda x: len(x.cleaned_review),\n",
        "        sort_within_batch=False,\n",
        "    )\n",
        "    print(label.vocab.stoi)\n",
        "\n",
        "    return train_iter, valid_iter, test_iter"
      ]
    },
    {
      "cell_type": "code",
      "execution_count": null,
      "metadata": {
        "id": "yGwFA_2c8k3_"
      },
      "outputs": [],
      "source": [
        "device = 'cuda' if torch.cuda.is_available() else 'cpu'"
      ]
    },
    {
      "cell_type": "code",
      "execution_count": null,
      "metadata": {
        "id": "_mRcAcrD9-uB",
        "colab": {
          "base_uri": "https://localhost:8080/"
        },
        "outputId": "bb462ad4-6b88-4cac-94cf-72d2c1b5c332"
      },
      "outputs": [
        {
          "output_type": "stream",
          "name": "stdout",
          "text": [
            "training examples count: 1610\n",
            "validation examples count: 230\n",
            "test examples count: 460\n",
            "defaultdict(None, {'คำทั่วไป': 0, 'คำทั่วไปทางการชม': 1, 'คำหยาบปกติ': 2, 'เหยียดชนชั้น': 3, 'เหยียดรูปร่าง': 4, 'เหยียดเพศ': 5})\n"
          ]
        },
        {
          "output_type": "execute_result",
          "data": {
            "text/plain": [
              "(<torchtext.data.iterator.BucketIterator at 0x79ef4c8fb350>,\n",
              " <torchtext.data.iterator.BucketIterator at 0x79ef4c8cd390>,\n",
              " <torchtext.data.iterator.BucketIterator at 0x79ef4bfa7050>)"
            ]
          },
          "metadata": {},
          "execution_count": 39
        }
      ],
      "source": [
        "load_data()"
      ]
    },
    {
      "cell_type": "code",
      "execution_count": null,
      "metadata": {
        "id": "9ecfoSNs7-Zj",
        "colab": {
          "base_uri": "https://localhost:8080/",
          "height": 121,
          "referenced_widgets": [
            "f501564a74a841d7b2ddcb508213adea",
            "4582f2574efa447c98c2f194f550d091",
            "b0b887dfe9d84192abac8672e7573d53",
            "fd83c1f3c6c7435f8f947f59069437d8",
            "3eab775b84ae4376bc10f1ff09233bcb",
            "665ece2137934285a51f4775397a1f86",
            "d58113b5176d47ab9fb618fbbb52e834",
            "5abb23bed63b4737b55f9749ae79c1b1",
            "05614f044af842d681e3c0a6ceecc01b",
            "09aa1b9ec9cf4a919d50c6a63bbd01b2",
            "63070281cf964c2fa7840d15292adc4e"
          ]
        },
        "outputId": "781731cf-4fe5-4aa9-a4fa-b150c0426dd3"
      },
      "outputs": [
        {
          "output_type": "stream",
          "name": "stderr",
          "text": [
            "You are using a model of type camembert to instantiate a model of type bert. This is not supported for all configurations of models and can yield errors.\n"
          ]
        },
        {
          "output_type": "display_data",
          "data": {
            "text/plain": [
              "model.safetensors:   0%|          | 0.00/423M [00:00<?, ?B/s]"
            ],
            "application/vnd.jupyter.widget-view+json": {
              "version_major": 2,
              "version_minor": 0,
              "model_id": "f501564a74a841d7b2ddcb508213adea"
            }
          },
          "metadata": {}
        },
        {
          "output_type": "stream",
          "name": "stderr",
          "text": [
            "Some weights of BertModel were not initialized from the model checkpoint at airesearch/wangchanberta-base-att-spm-uncased and are newly initialized: ['embeddings.LayerNorm.bias', 'embeddings.LayerNorm.weight', 'embeddings.position_embeddings.weight', 'embeddings.token_type_embeddings.weight', 'embeddings.word_embeddings.weight', 'encoder.layer.0.attention.output.LayerNorm.bias', 'encoder.layer.0.attention.output.LayerNorm.weight', 'encoder.layer.0.attention.output.dense.bias', 'encoder.layer.0.attention.output.dense.weight', 'encoder.layer.0.attention.self.key.bias', 'encoder.layer.0.attention.self.key.weight', 'encoder.layer.0.attention.self.query.bias', 'encoder.layer.0.attention.self.query.weight', 'encoder.layer.0.attention.self.value.bias', 'encoder.layer.0.attention.self.value.weight', 'encoder.layer.0.intermediate.dense.bias', 'encoder.layer.0.intermediate.dense.weight', 'encoder.layer.0.output.LayerNorm.bias', 'encoder.layer.0.output.LayerNorm.weight', 'encoder.layer.0.output.dense.bias', 'encoder.layer.0.output.dense.weight', 'encoder.layer.1.attention.output.LayerNorm.bias', 'encoder.layer.1.attention.output.LayerNorm.weight', 'encoder.layer.1.attention.output.dense.bias', 'encoder.layer.1.attention.output.dense.weight', 'encoder.layer.1.attention.self.key.bias', 'encoder.layer.1.attention.self.key.weight', 'encoder.layer.1.attention.self.query.bias', 'encoder.layer.1.attention.self.query.weight', 'encoder.layer.1.attention.self.value.bias', 'encoder.layer.1.attention.self.value.weight', 'encoder.layer.1.intermediate.dense.bias', 'encoder.layer.1.intermediate.dense.weight', 'encoder.layer.1.output.LayerNorm.bias', 'encoder.layer.1.output.LayerNorm.weight', 'encoder.layer.1.output.dense.bias', 'encoder.layer.1.output.dense.weight', 'encoder.layer.10.attention.output.LayerNorm.bias', 'encoder.layer.10.attention.output.LayerNorm.weight', 'encoder.layer.10.attention.output.dense.bias', 'encoder.layer.10.attention.output.dense.weight', 'encoder.layer.10.attention.self.key.bias', 'encoder.layer.10.attention.self.key.weight', 'encoder.layer.10.attention.self.query.bias', 'encoder.layer.10.attention.self.query.weight', 'encoder.layer.10.attention.self.value.bias', 'encoder.layer.10.attention.self.value.weight', 'encoder.layer.10.intermediate.dense.bias', 'encoder.layer.10.intermediate.dense.weight', 'encoder.layer.10.output.LayerNorm.bias', 'encoder.layer.10.output.LayerNorm.weight', 'encoder.layer.10.output.dense.bias', 'encoder.layer.10.output.dense.weight', 'encoder.layer.11.attention.output.LayerNorm.bias', 'encoder.layer.11.attention.output.LayerNorm.weight', 'encoder.layer.11.attention.output.dense.bias', 'encoder.layer.11.attention.output.dense.weight', 'encoder.layer.11.attention.self.key.bias', 'encoder.layer.11.attention.self.key.weight', 'encoder.layer.11.attention.self.query.bias', 'encoder.layer.11.attention.self.query.weight', 'encoder.layer.11.attention.self.value.bias', 'encoder.layer.11.attention.self.value.weight', 'encoder.layer.11.intermediate.dense.bias', 'encoder.layer.11.intermediate.dense.weight', 'encoder.layer.11.output.LayerNorm.bias', 'encoder.layer.11.output.LayerNorm.weight', 'encoder.layer.11.output.dense.bias', 'encoder.layer.11.output.dense.weight', 'encoder.layer.2.attention.output.LayerNorm.bias', 'encoder.layer.2.attention.output.LayerNorm.weight', 'encoder.layer.2.attention.output.dense.bias', 'encoder.layer.2.attention.output.dense.weight', 'encoder.layer.2.attention.self.key.bias', 'encoder.layer.2.attention.self.key.weight', 'encoder.layer.2.attention.self.query.bias', 'encoder.layer.2.attention.self.query.weight', 'encoder.layer.2.attention.self.value.bias', 'encoder.layer.2.attention.self.value.weight', 'encoder.layer.2.intermediate.dense.bias', 'encoder.layer.2.intermediate.dense.weight', 'encoder.layer.2.output.LayerNorm.bias', 'encoder.layer.2.output.LayerNorm.weight', 'encoder.layer.2.output.dense.bias', 'encoder.layer.2.output.dense.weight', 'encoder.layer.3.attention.output.LayerNorm.bias', 'encoder.layer.3.attention.output.LayerNorm.weight', 'encoder.layer.3.attention.output.dense.bias', 'encoder.layer.3.attention.output.dense.weight', 'encoder.layer.3.attention.self.key.bias', 'encoder.layer.3.attention.self.key.weight', 'encoder.layer.3.attention.self.query.bias', 'encoder.layer.3.attention.self.query.weight', 'encoder.layer.3.attention.self.value.bias', 'encoder.layer.3.attention.self.value.weight', 'encoder.layer.3.intermediate.dense.bias', 'encoder.layer.3.intermediate.dense.weight', 'encoder.layer.3.output.LayerNorm.bias', 'encoder.layer.3.output.LayerNorm.weight', 'encoder.layer.3.output.dense.bias', 'encoder.layer.3.output.dense.weight', 'encoder.layer.4.attention.output.LayerNorm.bias', 'encoder.layer.4.attention.output.LayerNorm.weight', 'encoder.layer.4.attention.output.dense.bias', 'encoder.layer.4.attention.output.dense.weight', 'encoder.layer.4.attention.self.key.bias', 'encoder.layer.4.attention.self.key.weight', 'encoder.layer.4.attention.self.query.bias', 'encoder.layer.4.attention.self.query.weight', 'encoder.layer.4.attention.self.value.bias', 'encoder.layer.4.attention.self.value.weight', 'encoder.layer.4.intermediate.dense.bias', 'encoder.layer.4.intermediate.dense.weight', 'encoder.layer.4.output.LayerNorm.bias', 'encoder.layer.4.output.LayerNorm.weight', 'encoder.layer.4.output.dense.bias', 'encoder.layer.4.output.dense.weight', 'encoder.layer.5.attention.output.LayerNorm.bias', 'encoder.layer.5.attention.output.LayerNorm.weight', 'encoder.layer.5.attention.output.dense.bias', 'encoder.layer.5.attention.output.dense.weight', 'encoder.layer.5.attention.self.key.bias', 'encoder.layer.5.attention.self.key.weight', 'encoder.layer.5.attention.self.query.bias', 'encoder.layer.5.attention.self.query.weight', 'encoder.layer.5.attention.self.value.bias', 'encoder.layer.5.attention.self.value.weight', 'encoder.layer.5.intermediate.dense.bias', 'encoder.layer.5.intermediate.dense.weight', 'encoder.layer.5.output.LayerNorm.bias', 'encoder.layer.5.output.LayerNorm.weight', 'encoder.layer.5.output.dense.bias', 'encoder.layer.5.output.dense.weight', 'encoder.layer.6.attention.output.LayerNorm.bias', 'encoder.layer.6.attention.output.LayerNorm.weight', 'encoder.layer.6.attention.output.dense.bias', 'encoder.layer.6.attention.output.dense.weight', 'encoder.layer.6.attention.self.key.bias', 'encoder.layer.6.attention.self.key.weight', 'encoder.layer.6.attention.self.query.bias', 'encoder.layer.6.attention.self.query.weight', 'encoder.layer.6.attention.self.value.bias', 'encoder.layer.6.attention.self.value.weight', 'encoder.layer.6.intermediate.dense.bias', 'encoder.layer.6.intermediate.dense.weight', 'encoder.layer.6.output.LayerNorm.bias', 'encoder.layer.6.output.LayerNorm.weight', 'encoder.layer.6.output.dense.bias', 'encoder.layer.6.output.dense.weight', 'encoder.layer.7.attention.output.LayerNorm.bias', 'encoder.layer.7.attention.output.LayerNorm.weight', 'encoder.layer.7.attention.output.dense.bias', 'encoder.layer.7.attention.output.dense.weight', 'encoder.layer.7.attention.self.key.bias', 'encoder.layer.7.attention.self.key.weight', 'encoder.layer.7.attention.self.query.bias', 'encoder.layer.7.attention.self.query.weight', 'encoder.layer.7.attention.self.value.bias', 'encoder.layer.7.attention.self.value.weight', 'encoder.layer.7.intermediate.dense.bias', 'encoder.layer.7.intermediate.dense.weight', 'encoder.layer.7.output.LayerNorm.bias', 'encoder.layer.7.output.LayerNorm.weight', 'encoder.layer.7.output.dense.bias', 'encoder.layer.7.output.dense.weight', 'encoder.layer.8.attention.output.LayerNorm.bias', 'encoder.layer.8.attention.output.LayerNorm.weight', 'encoder.layer.8.attention.output.dense.bias', 'encoder.layer.8.attention.output.dense.weight', 'encoder.layer.8.attention.self.key.bias', 'encoder.layer.8.attention.self.key.weight', 'encoder.layer.8.attention.self.query.bias', 'encoder.layer.8.attention.self.query.weight', 'encoder.layer.8.attention.self.value.bias', 'encoder.layer.8.attention.self.value.weight', 'encoder.layer.8.intermediate.dense.bias', 'encoder.layer.8.intermediate.dense.weight', 'encoder.layer.8.output.LayerNorm.bias', 'encoder.layer.8.output.LayerNorm.weight', 'encoder.layer.8.output.dense.bias', 'encoder.layer.8.output.dense.weight', 'encoder.layer.9.attention.output.LayerNorm.bias', 'encoder.layer.9.attention.output.LayerNorm.weight', 'encoder.layer.9.attention.output.dense.bias', 'encoder.layer.9.attention.output.dense.weight', 'encoder.layer.9.attention.self.key.bias', 'encoder.layer.9.attention.self.key.weight', 'encoder.layer.9.attention.self.query.bias', 'encoder.layer.9.attention.self.query.weight', 'encoder.layer.9.attention.self.value.bias', 'encoder.layer.9.attention.self.value.weight', 'encoder.layer.9.intermediate.dense.bias', 'encoder.layer.9.intermediate.dense.weight', 'encoder.layer.9.output.LayerNorm.bias', 'encoder.layer.9.output.LayerNorm.weight', 'encoder.layer.9.output.dense.bias', 'encoder.layer.9.output.dense.weight', 'pooler.dense.bias', 'pooler.dense.weight']\n",
            "You should probably TRAIN this model on a down-stream task to be able to use it for predictions and inference.\n"
          ]
        }
      ],
      "source": [
        "#\n",
        "# Build model\n",
        "#\n",
        "\n",
        "bert_model = BertModel.from_pretrained(bert_pretrained)"
      ]
    },
    {
      "cell_type": "code",
      "execution_count": null,
      "metadata": {
        "id": "6KoCTWO5uOxa"
      },
      "outputs": [],
      "source": [
        "# #\n",
        "# # Freezing BERT\n",
        "#\n",
        "for param in bert_model.parameters():\n",
        "    param.requires_grad = False"
      ]
    },
    {
      "cell_type": "code",
      "execution_count": null,
      "metadata": {
        "id": "An6TdRue8Jko"
      },
      "outputs": [],
      "source": [
        "# Sentiment model containing pretrained BERT as backbone\n",
        "# and two-GRU layers for analyzing the BERT hidden representation\n",
        "# and a linear layer for classfification (the sigmoid is applied by the criterion during training).\n",
        "import torch.nn as nn\n",
        "\n",
        "class SentimentModel(nn.Module):\n",
        "  def __init__(\n",
        "    self,\n",
        "    bert,\n",
        "    hidden_dim,\n",
        "    output_dim,\n",
        "    n_layers,\n",
        "    bidirectional,\n",
        "    dropout\n",
        "  ):\n",
        "\n",
        "    super(SentimentModel, self).__init__()\n",
        "\n",
        "    self.bert = bert\n",
        "    embedding_dim = bert.config.to_dict()['hidden_size']\n",
        "    self.rnn = nn.GRU(\n",
        "      embedding_dim,\n",
        "      hidden_dim,\n",
        "      num_layers=n_layers,\n",
        "      bidirectional=bidirectional,\n",
        "      batch_first=True,\n",
        "      dropout=0 if n_layers < 2 else dropout\n",
        "    )\n",
        "    self.out = nn.Linear(hidden_dim * 2 if bidirectional else hidden_dim, output_dim)\n",
        "    self.dropout = nn.Dropout(dropout)\n",
        "\n",
        "  def forward(self, text):\n",
        "    with torch.no_grad():\n",
        "      embedded = self.bert(text).last_hidden_state\n",
        "\n",
        "    _, hidden = self.rnn(embedded)\n",
        "\n",
        "    if self.rnn.bidirectional:\n",
        "      hidden = self.dropout(torch.cat((hidden[-2,:,:], hidden[-1,:,:]), dim = 1))\n",
        "    else:\n",
        "      hidden = self.dropout(hidden[-1,:,:])\n",
        "\n",
        "    output = self.out(hidden)\n",
        "    return output"
      ]
    },
    {
      "cell_type": "code",
      "execution_count": null,
      "metadata": {
        "id": "IJ2zwkFBudN6"
      },
      "outputs": [],
      "source": [
        "# Architecture\n",
        "HIDDEN_DIM = 256\n",
        "OUTPUT_DIM = 6\n",
        "N_LAYERS = 2\n",
        "BIDIRECTIONAL = True\n",
        "DROPOUT = 0.25\n",
        "N_EPOCHS = 200"
      ]
    },
    {
      "cell_type": "code",
      "execution_count": null,
      "metadata": {
        "id": "53kOCJSE8gTO",
        "colab": {
          "base_uri": "https://localhost:8080/"
        },
        "outputId": "7f6ef9e1-2d2c-4e14-82bc-fb674066be5b"
      },
      "outputs": [
        {
          "output_type": "stream",
          "name": "stdout",
          "text": [
            "SentimentModel(\n",
            "  (bert): BertModel(\n",
            "    (embeddings): BertEmbeddings(\n",
            "      (word_embeddings): Embedding(25005, 768, padding_idx=1)\n",
            "      (position_embeddings): Embedding(512, 768)\n",
            "      (token_type_embeddings): Embedding(1, 768)\n",
            "      (LayerNorm): LayerNorm((768,), eps=1e-12, elementwise_affine=True)\n",
            "      (dropout): Dropout(p=0.1, inplace=False)\n",
            "    )\n",
            "    (encoder): BertEncoder(\n",
            "      (layer): ModuleList(\n",
            "        (0-11): 12 x BertLayer(\n",
            "          (attention): BertAttention(\n",
            "            (self): BertSdpaSelfAttention(\n",
            "              (query): Linear(in_features=768, out_features=768, bias=True)\n",
            "              (key): Linear(in_features=768, out_features=768, bias=True)\n",
            "              (value): Linear(in_features=768, out_features=768, bias=True)\n",
            "              (dropout): Dropout(p=0.1, inplace=False)\n",
            "            )\n",
            "            (output): BertSelfOutput(\n",
            "              (dense): Linear(in_features=768, out_features=768, bias=True)\n",
            "              (LayerNorm): LayerNorm((768,), eps=1e-12, elementwise_affine=True)\n",
            "              (dropout): Dropout(p=0.1, inplace=False)\n",
            "            )\n",
            "          )\n",
            "          (intermediate): BertIntermediate(\n",
            "            (dense): Linear(in_features=768, out_features=3072, bias=True)\n",
            "            (intermediate_act_fn): GELUActivation()\n",
            "          )\n",
            "          (output): BertOutput(\n",
            "            (dense): Linear(in_features=3072, out_features=768, bias=True)\n",
            "            (LayerNorm): LayerNorm((768,), eps=1e-12, elementwise_affine=True)\n",
            "            (dropout): Dropout(p=0.1, inplace=False)\n",
            "          )\n",
            "        )\n",
            "      )\n",
            "    )\n",
            "    (pooler): BertPooler(\n",
            "      (dense): Linear(in_features=768, out_features=768, bias=True)\n",
            "      (activation): Tanh()\n",
            "    )\n",
            "  )\n",
            "  (rnn): GRU(768, 256, num_layers=2, batch_first=True, dropout=0.25, bidirectional=True)\n",
            "  (out): Linear(in_features=512, out_features=6, bias=True)\n",
            "  (dropout): Dropout(p=0.25, inplace=False)\n",
            ")\n"
          ]
        }
      ],
      "source": [
        "model = SentimentModel(\n",
        "  bert_model,\n",
        "  HIDDEN_DIM,\n",
        "  OUTPUT_DIM,\n",
        "  N_LAYERS,\n",
        "  BIDIRECTIONAL,\n",
        "  DROPOUT\n",
        ")\n",
        "print(model)"
      ]
    },
    {
      "cell_type": "code",
      "execution_count": null,
      "metadata": {
        "id": "5Jv6DaHnWGGu"
      },
      "outputs": [],
      "source": [
        "from tqdm import tqdm\n",
        "# time taken for single epoch\n",
        "def epoch_time(start_time, end_time):\n",
        "  elapsed_time = end_time - start_time\n",
        "  elapsed_mins = int(elapsed_time / 60)\n",
        "  elapsed_secs = int(elapsed_time - (elapsed_mins * 60))\n",
        "  return elapsed_mins, elapsed_secs\n",
        "\n",
        "# computes accuracy for multiclass classification\n",
        "def multiclass_accuracy(preds, y):\n",
        "  # Get predicted class by taking argmax\n",
        "  y_pred_class = torch.argmax(preds, dim=1)\n",
        "  correct = (y_pred_class == y).float()  # Compare with actual labels\n",
        "  acc = correct.sum() / len(correct)\n",
        "  return acc\n",
        "\n",
        "# training step\n",
        "def train(model, iterator, optimizer, criterion):\n",
        "  # stats\n",
        "  epoch_loss = 0\n",
        "  epoch_acc = 0\n",
        "  # train mode\n",
        "  model.train()\n",
        "\n",
        "  for batch in tqdm(iterator):\n",
        "    # train step\n",
        "    optimizer.zero_grad()\n",
        "    #print(batch.review)\n",
        "    predictions = model(batch.cleaned_review) #removed squeeze(1)\n",
        "    loss = criterion(predictions, batch.label.long()) #convert to long\n",
        "    acc = multiclass_accuracy(predictions, batch.label.long()) # convert to long\n",
        "    loss.backward()\n",
        "    optimizer.step()\n",
        "    # stats\n",
        "    epoch_loss += loss.item()\n",
        "    epoch_acc += acc.item()\n",
        "\n",
        "  return epoch_loss / len(iterator), epoch_acc / len(iterator)\n",
        "\n",
        "# evaluates the model on given iterator (either\n",
        "# train_iter, valid_iter, or test_iter)\n",
        "def evaluate(model, iterator, criterion):\n",
        "\n",
        "  epoch_loss = 0\n",
        "  epoch_acc = 0\n",
        "  # evaluation mode\n",
        "  model.eval()\n",
        "\n",
        "  with torch.no_grad():\n",
        "    for batch in iterator:\n",
        "      predictions = model(batch.cleaned_review) #remove squeeze(1)\n",
        "      loss = criterion(predictions, batch.label.long()) # convert to long\n",
        "      acc = multiclass_accuracy(predictions, batch.label.long()) # convert to long\n",
        "      epoch_loss += loss.item()\n",
        "      epoch_acc += acc.item()\n",
        "\n",
        "  return epoch_loss / len(iterator), epoch_acc / len(iterator)\n",
        "\n",
        "# function to make sentiment prediction during inference\n",
        "def predict_sentiment(model, tokenizer, sentence):\n",
        "  model.eval()\n",
        "  tokens = tokenizer.tokenize(sentence)\n",
        "  tokens = tokens[:max_input_len - 2]\n",
        "  indexed = [init_token_id] + tokenizer.convert_tokens_to_ids(tokens) + [eos_token_id]\n",
        "  tensor = torch.LongTensor(indexed).to(device)\n",
        "  tensor = tensor.unsqueeze(0)\n",
        "  prediction = torch.argmax(model(tensor))\n",
        "  return tensor"
      ]
    },
    {
      "cell_type": "code",
      "execution_count": null,
      "metadata": {
        "id": "smoI20z4yxiA"
      },
      "outputs": [],
      "source": [
        "train_losses = []\n",
        "valid_losses = []\n",
        "train_accs = []\n",
        "valid_accs = []\n",
        "\n",
        "all_y_true = []\n",
        "all_y_pred = []"
      ]
    },
    {
      "cell_type": "code",
      "source": [
        "from sklearn.utils.class_weight import compute_class_weight\n",
        "import numpy as np\n",
        "from sklearn.preprocessing import LabelEncoder\n",
        "\n",
        "# Original train_labels (list of strings)\n",
        "# train_labels = [\"Positive\",\"Neutral\", \"Negative\", \"Body shaming\", \"Classism\", \"Sexism\"]\n",
        "# train_labels = [\"0\",\"1\", \"2\", \"3\", \"4\", \"5\"]\n",
        "\n",
        "# Create a LabelEncoder\n",
        "encoder = LabelEncoder()\n",
        "\n",
        "# Encode train_labels to numerical values\n",
        "encoded_train_labels = encoder.fit_transform(train_labels)\n",
        "\n",
        "# Compute class weights using encoded labels\n",
        "class_weights = compute_class_weight('balanced', classes=np.unique(encoded_train_labels), y=encoded_train_labels)\n",
        "\n",
        "# Print class weights\n",
        "print(class_weights)"
      ],
      "metadata": {
        "colab": {
          "base_uri": "https://localhost:8080/"
        },
        "id": "5N3PXl19z-ad",
        "outputId": "9702c479-84f0-4c03-de73-7edb5e88b834"
      },
      "execution_count": null,
      "outputs": [
        {
          "output_type": "stream",
          "name": "stdout",
          "text": [
            "[0.65560027 0.71454678 0.76129283 1.56650641 1.66241497 1.91666667]\n"
          ]
        }
      ]
    },
    {
      "cell_type": "code",
      "execution_count": null,
      "metadata": {
        "id": "Mn7GFFUCxMu_",
        "colab": {
          "base_uri": "https://localhost:8080/"
        },
        "outputId": "189611b9-baa0-4b48-b8aa-bb1167793876"
      },
      "outputs": [
        {
          "output_type": "stream",
          "name": "stdout",
          "text": [
            "training examples count: 1610\n",
            "validation examples count: 230\n",
            "test examples count: 460\n",
            "defaultdict(None, {'คำทั่วไป': 0, 'คำทั่วไปทางการชม': 1, 'คำหยาบปกติ': 2, 'เหยียดชนชั้น': 3, 'เหยียดรูปร่าง': 4, 'เหยียดเพศ': 5})\n"
          ]
        },
        {
          "output_type": "stream",
          "name": "stderr",
          "text": [
            "  0%|          | 0/101 [00:00<?, ?it/s]We strongly recommend passing in an `attention_mask` since your input_ids may be padded. See https://huggingface.co/docs/transformers/troubleshooting#incorrect-output-when-padding-tokens-arent-masked.\n",
            "100%|██████████| 101/101 [00:10<00:00,  9.29it/s]\n"
          ]
        },
        {
          "output_type": "stream",
          "name": "stdout",
          "text": [
            "Best model saved at epoch 0 with validation loss: 1.7936\n",
            "Epoch: 01 | Epoch Time: 0m 11s\n",
            "\t Val. Loss: 1.794 |  Val. Acc: 22.92%\n",
            "\tTrain Loss: 1.797 | Train Acc: 20.00%\n"
          ]
        },
        {
          "output_type": "stream",
          "name": "stderr",
          "text": [
            "100%|██████████| 101/101 [00:10<00:00,  9.90it/s]\n"
          ]
        },
        {
          "output_type": "stream",
          "name": "stdout",
          "text": [
            "Epoch: 02 | Epoch Time: 0m 10s\n",
            "\t Val. Loss: 1.828 |  Val. Acc: 24.44%\n",
            "\tTrain Loss: 1.774 | Train Acc: 21.67%\n"
          ]
        },
        {
          "output_type": "stream",
          "name": "stderr",
          "text": [
            "100%|██████████| 101/101 [00:10<00:00,  9.77it/s]\n"
          ]
        },
        {
          "output_type": "stream",
          "name": "stdout",
          "text": [
            "Epoch: 03 | Epoch Time: 0m 10s\n",
            "\t Val. Loss: 1.942 |  Val. Acc: 21.53%\n",
            "\tTrain Loss: 1.741 | Train Acc: 24.62%\n"
          ]
        },
        {
          "output_type": "stream",
          "name": "stderr",
          "text": [
            "100%|██████████| 101/101 [00:10<00:00,  9.42it/s]\n"
          ]
        },
        {
          "output_type": "stream",
          "name": "stdout",
          "text": [
            "Epoch: 04 | Epoch Time: 0m 11s\n",
            "\t Val. Loss: 1.972 |  Val. Acc: 21.53%\n",
            "\tTrain Loss: 1.729 | Train Acc: 25.50%\n"
          ]
        },
        {
          "output_type": "stream",
          "name": "stderr",
          "text": [
            "100%|██████████| 101/101 [00:11<00:00,  9.11it/s]\n"
          ]
        },
        {
          "output_type": "stream",
          "name": "stdout",
          "text": [
            "Epoch: 05 | Epoch Time: 0m 11s\n",
            "\t Val. Loss: 2.076 |  Val. Acc: 21.11%\n",
            "\tTrain Loss: 1.708 | Train Acc: 25.72%\n"
          ]
        },
        {
          "output_type": "stream",
          "name": "stderr",
          "text": [
            "100%|██████████| 101/101 [00:11<00:00,  9.01it/s]\n"
          ]
        },
        {
          "output_type": "stream",
          "name": "stdout",
          "text": [
            "Epoch: 06 | Epoch Time: 0m 11s\n",
            "\t Val. Loss: 2.064 |  Val. Acc: 22.22%\n",
            "\tTrain Loss: 1.668 | Train Acc: 29.50%\n"
          ]
        },
        {
          "output_type": "stream",
          "name": "stderr",
          "text": [
            "100%|██████████| 101/101 [00:11<00:00,  9.16it/s]\n"
          ]
        },
        {
          "output_type": "stream",
          "name": "stdout",
          "text": [
            "Epoch: 07 | Epoch Time: 0m 11s\n",
            "\t Val. Loss: 1.969 |  Val. Acc: 25.56%\n",
            "\tTrain Loss: 1.654 | Train Acc: 29.78%\n"
          ]
        },
        {
          "output_type": "stream",
          "name": "stderr",
          "text": [
            "100%|██████████| 101/101 [00:11<00:00,  8.71it/s]\n"
          ]
        },
        {
          "output_type": "stream",
          "name": "stdout",
          "text": [
            "Epoch: 08 | Epoch Time: 0m 12s\n",
            "\t Val. Loss: 1.978 |  Val. Acc: 24.31%\n",
            "\tTrain Loss: 1.624 | Train Acc: 31.81%\n"
          ]
        },
        {
          "output_type": "stream",
          "name": "stderr",
          "text": [
            "100%|██████████| 101/101 [00:11<00:00,  8.60it/s]\n"
          ]
        },
        {
          "output_type": "stream",
          "name": "stdout",
          "text": [
            "Epoch: 09 | Epoch Time: 0m 12s\n",
            "\t Val. Loss: 1.869 |  Val. Acc: 26.94%\n",
            "\tTrain Loss: 1.593 | Train Acc: 33.32%\n"
          ]
        },
        {
          "output_type": "stream",
          "name": "stderr",
          "text": [
            "100%|██████████| 101/101 [00:11<00:00,  8.46it/s]\n"
          ]
        },
        {
          "output_type": "stream",
          "name": "stdout",
          "text": [
            "Best model saved at epoch 9 with validation loss: 1.7813\n",
            "Epoch: 10 | Epoch Time: 0m 12s\n",
            "\t Val. Loss: 1.781 |  Val. Acc: 30.56%\n",
            "\tTrain Loss: 1.572 | Train Acc: 33.55%\n"
          ]
        },
        {
          "output_type": "stream",
          "name": "stderr",
          "text": [
            "100%|██████████| 101/101 [00:12<00:00,  8.39it/s]\n"
          ]
        },
        {
          "output_type": "stream",
          "name": "stdout",
          "text": [
            "Epoch: 11 | Epoch Time: 0m 12s\n",
            "\t Val. Loss: 1.824 |  Val. Acc: 28.06%\n",
            "\tTrain Loss: 1.536 | Train Acc: 35.14%\n"
          ]
        },
        {
          "output_type": "stream",
          "name": "stderr",
          "text": [
            "100%|██████████| 101/101 [00:12<00:00,  8.21it/s]\n"
          ]
        },
        {
          "output_type": "stream",
          "name": "stdout",
          "text": [
            "Best model saved at epoch 11 with validation loss: 1.6474\n",
            "Epoch: 12 | Epoch Time: 0m 12s\n",
            "\t Val. Loss: 1.647 |  Val. Acc: 32.22%\n",
            "\tTrain Loss: 1.494 | Train Acc: 36.67%\n"
          ]
        },
        {
          "output_type": "stream",
          "name": "stderr",
          "text": [
            "100%|██████████| 101/101 [00:11<00:00,  8.63it/s]\n"
          ]
        },
        {
          "output_type": "stream",
          "name": "stdout",
          "text": [
            "Epoch: 13 | Epoch Time: 0m 12s\n",
            "\t Val. Loss: 1.653 |  Val. Acc: 34.31%\n",
            "\tTrain Loss: 1.477 | Train Acc: 37.92%\n"
          ]
        },
        {
          "output_type": "stream",
          "name": "stderr",
          "text": [
            "100%|██████████| 101/101 [00:11<00:00,  8.80it/s]\n"
          ]
        },
        {
          "output_type": "stream",
          "name": "stdout",
          "text": [
            "Best model saved at epoch 13 with validation loss: 1.4991\n",
            "Epoch: 14 | Epoch Time: 0m 11s\n",
            "\t Val. Loss: 1.499 |  Val. Acc: 43.47%\n",
            "\tTrain Loss: 1.425 | Train Acc: 38.63%\n"
          ]
        },
        {
          "output_type": "stream",
          "name": "stderr",
          "text": [
            "100%|██████████| 101/101 [00:11<00:00,  8.98it/s]\n"
          ]
        },
        {
          "output_type": "stream",
          "name": "stdout",
          "text": [
            "Epoch: 15 | Epoch Time: 0m 11s\n",
            "\t Val. Loss: 1.520 |  Val. Acc: 43.06%\n",
            "\tTrain Loss: 1.399 | Train Acc: 40.50%\n"
          ]
        },
        {
          "output_type": "stream",
          "name": "stderr",
          "text": [
            "100%|██████████| 101/101 [00:11<00:00,  8.64it/s]\n"
          ]
        },
        {
          "output_type": "stream",
          "name": "stdout",
          "text": [
            "Epoch: 16 | Epoch Time: 0m 12s\n",
            "\t Val. Loss: 1.636 |  Val. Acc: 37.64%\n",
            "\tTrain Loss: 1.359 | Train Acc: 42.55%\n"
          ]
        },
        {
          "output_type": "stream",
          "name": "stderr",
          "text": [
            "100%|██████████| 101/101 [00:11<00:00,  8.50it/s]\n"
          ]
        },
        {
          "output_type": "stream",
          "name": "stdout",
          "text": [
            "Best model saved at epoch 16 with validation loss: 1.4909\n",
            "Epoch: 17 | Epoch Time: 0m 12s\n",
            "\t Val. Loss: 1.491 |  Val. Acc: 40.97%\n",
            "\tTrain Loss: 1.320 | Train Acc: 43.70%\n"
          ]
        },
        {
          "output_type": "stream",
          "name": "stderr",
          "text": [
            "100%|██████████| 101/101 [00:11<00:00,  8.44it/s]\n"
          ]
        },
        {
          "output_type": "stream",
          "name": "stdout",
          "text": [
            "Best model saved at epoch 17 with validation loss: 1.3763\n",
            "Epoch: 18 | Epoch Time: 0m 12s\n",
            "\t Val. Loss: 1.376 |  Val. Acc: 46.39%\n",
            "\tTrain Loss: 1.273 | Train Acc: 45.11%\n"
          ]
        },
        {
          "output_type": "stream",
          "name": "stderr",
          "text": [
            "100%|██████████| 101/101 [00:11<00:00,  8.67it/s]\n"
          ]
        },
        {
          "output_type": "stream",
          "name": "stdout",
          "text": [
            "Epoch: 19 | Epoch Time: 0m 12s\n",
            "\t Val. Loss: 1.521 |  Val. Acc: 45.56%\n",
            "\tTrain Loss: 1.222 | Train Acc: 47.61%\n"
          ]
        },
        {
          "output_type": "stream",
          "name": "stderr",
          "text": [
            "100%|██████████| 101/101 [00:11<00:00,  8.64it/s]\n"
          ]
        },
        {
          "output_type": "stream",
          "name": "stdout",
          "text": [
            "Best model saved at epoch 19 with validation loss: 1.3544\n",
            "Epoch: 20 | Epoch Time: 0m 12s\n",
            "\t Val. Loss: 1.354 |  Val. Acc: 42.92%\n",
            "\tTrain Loss: 1.228 | Train Acc: 47.82%\n"
          ]
        },
        {
          "output_type": "stream",
          "name": "stderr",
          "text": [
            "100%|██████████| 101/101 [00:11<00:00,  8.58it/s]\n"
          ]
        },
        {
          "output_type": "stream",
          "name": "stdout",
          "text": [
            "Epoch: 21 | Epoch Time: 0m 12s\n",
            "\t Val. Loss: 1.371 |  Val. Acc: 49.72%\n",
            "\tTrain Loss: 1.192 | Train Acc: 50.21%\n"
          ]
        },
        {
          "output_type": "stream",
          "name": "stderr",
          "text": [
            "100%|██████████| 101/101 [00:12<00:00,  8.30it/s]\n"
          ]
        },
        {
          "output_type": "stream",
          "name": "stdout",
          "text": [
            "Epoch: 22 | Epoch Time: 0m 12s\n",
            "\t Val. Loss: 1.397 |  Val. Acc: 50.83%\n",
            "\tTrain Loss: 1.157 | Train Acc: 50.78%\n"
          ]
        },
        {
          "output_type": "stream",
          "name": "stderr",
          "text": [
            "100%|██████████| 101/101 [00:11<00:00,  8.54it/s]\n"
          ]
        },
        {
          "output_type": "stream",
          "name": "stdout",
          "text": [
            "Best model saved at epoch 22 with validation loss: 1.2987\n",
            "Epoch: 23 | Epoch Time: 0m 12s\n",
            "\t Val. Loss: 1.299 |  Val. Acc: 50.42%\n",
            "\tTrain Loss: 1.146 | Train Acc: 50.19%\n"
          ]
        },
        {
          "output_type": "stream",
          "name": "stderr",
          "text": [
            "100%|██████████| 101/101 [00:11<00:00,  8.59it/s]\n"
          ]
        },
        {
          "output_type": "stream",
          "name": "stdout",
          "text": [
            "Epoch: 24 | Epoch Time: 0m 12s\n",
            "\t Val. Loss: 1.362 |  Val. Acc: 48.33%\n",
            "\tTrain Loss: 1.127 | Train Acc: 51.51%\n"
          ]
        },
        {
          "output_type": "stream",
          "name": "stderr",
          "text": [
            "100%|██████████| 101/101 [00:12<00:00,  8.34it/s]\n"
          ]
        },
        {
          "output_type": "stream",
          "name": "stdout",
          "text": [
            "Best model saved at epoch 24 with validation loss: 1.2938\n",
            "Epoch: 25 | Epoch Time: 0m 12s\n",
            "\t Val. Loss: 1.294 |  Val. Acc: 44.58%\n",
            "\tTrain Loss: 1.109 | Train Acc: 51.76%\n"
          ]
        },
        {
          "output_type": "stream",
          "name": "stderr",
          "text": [
            "100%|██████████| 101/101 [00:12<00:00,  8.36it/s]\n"
          ]
        },
        {
          "output_type": "stream",
          "name": "stdout",
          "text": [
            "Best model saved at epoch 25 with validation loss: 1.2286\n",
            "Epoch: 26 | Epoch Time: 0m 12s\n",
            "\t Val. Loss: 1.229 |  Val. Acc: 45.56%\n",
            "\tTrain Loss: 1.090 | Train Acc: 54.16%\n"
          ]
        },
        {
          "output_type": "stream",
          "name": "stderr",
          "text": [
            "100%|██████████| 101/101 [00:12<00:00,  8.20it/s]\n"
          ]
        },
        {
          "output_type": "stream",
          "name": "stdout",
          "text": [
            "Best model saved at epoch 26 with validation loss: 1.2221\n",
            "Epoch: 27 | Epoch Time: 0m 12s\n",
            "\t Val. Loss: 1.222 |  Val. Acc: 51.67%\n",
            "\tTrain Loss: 1.079 | Train Acc: 54.70%\n"
          ]
        },
        {
          "output_type": "stream",
          "name": "stderr",
          "text": [
            "100%|██████████| 101/101 [00:11<00:00,  8.52it/s]\n"
          ]
        },
        {
          "output_type": "stream",
          "name": "stdout",
          "text": [
            "Epoch: 28 | Epoch Time: 0m 12s\n",
            "\t Val. Loss: 1.264 |  Val. Acc: 46.67%\n",
            "\tTrain Loss: 1.042 | Train Acc: 56.46%\n"
          ]
        },
        {
          "output_type": "stream",
          "name": "stderr",
          "text": [
            "100%|██████████| 101/101 [00:11<00:00,  8.86it/s]\n"
          ]
        },
        {
          "output_type": "stream",
          "name": "stdout",
          "text": [
            "Epoch: 29 | Epoch Time: 0m 11s\n",
            "\t Val. Loss: 1.316 |  Val. Acc: 50.83%\n",
            "\tTrain Loss: 1.009 | Train Acc: 56.10%\n"
          ]
        },
        {
          "output_type": "stream",
          "name": "stderr",
          "text": [
            "100%|██████████| 101/101 [00:11<00:00,  8.94it/s]\n"
          ]
        },
        {
          "output_type": "stream",
          "name": "stdout",
          "text": [
            "Epoch: 30 | Epoch Time: 0m 11s\n",
            "\t Val. Loss: 1.279 |  Val. Acc: 50.42%\n",
            "\tTrain Loss: 1.011 | Train Acc: 56.53%\n"
          ]
        },
        {
          "output_type": "stream",
          "name": "stderr",
          "text": [
            "100%|██████████| 101/101 [00:11<00:00,  8.89it/s]\n"
          ]
        },
        {
          "output_type": "stream",
          "name": "stdout",
          "text": [
            "Best model saved at epoch 30 with validation loss: 1.2033\n",
            "Epoch: 31 | Epoch Time: 0m 11s\n",
            "\t Val. Loss: 1.203 |  Val. Acc: 50.83%\n",
            "\tTrain Loss: 1.010 | Train Acc: 56.00%\n"
          ]
        },
        {
          "output_type": "stream",
          "name": "stderr",
          "text": [
            "100%|██████████| 101/101 [00:12<00:00,  8.39it/s]\n"
          ]
        },
        {
          "output_type": "stream",
          "name": "stdout",
          "text": [
            "Epoch: 32 | Epoch Time: 0m 12s\n",
            "\t Val. Loss: 1.246 |  Val. Acc: 49.17%\n",
            "\tTrain Loss: 0.974 | Train Acc: 58.27%\n"
          ]
        },
        {
          "output_type": "stream",
          "name": "stderr",
          "text": [
            "100%|██████████| 101/101 [00:12<00:00,  8.39it/s]\n"
          ]
        },
        {
          "output_type": "stream",
          "name": "stdout",
          "text": [
            "Best model saved at epoch 32 with validation loss: 1.1537\n",
            "Epoch: 33 | Epoch Time: 0m 12s\n",
            "\t Val. Loss: 1.154 |  Val. Acc: 54.03%\n",
            "\tTrain Loss: 0.943 | Train Acc: 58.99%\n"
          ]
        },
        {
          "output_type": "stream",
          "name": "stderr",
          "text": [
            "100%|██████████| 101/101 [00:11<00:00,  8.43it/s]\n"
          ]
        },
        {
          "output_type": "stream",
          "name": "stdout",
          "text": [
            "Epoch: 34 | Epoch Time: 0m 12s\n",
            "\t Val. Loss: 1.161 |  Val. Acc: 49.58%\n",
            "\tTrain Loss: 0.915 | Train Acc: 59.64%\n"
          ]
        },
        {
          "output_type": "stream",
          "name": "stderr",
          "text": [
            "100%|██████████| 101/101 [00:11<00:00,  8.93it/s]\n"
          ]
        },
        {
          "output_type": "stream",
          "name": "stdout",
          "text": [
            "Epoch: 35 | Epoch Time: 0m 11s\n",
            "\t Val. Loss: 1.269 |  Val. Acc: 50.42%\n",
            "\tTrain Loss: 0.899 | Train Acc: 60.00%\n"
          ]
        },
        {
          "output_type": "stream",
          "name": "stderr",
          "text": [
            "100%|██████████| 101/101 [00:11<00:00,  8.42it/s]\n"
          ]
        },
        {
          "output_type": "stream",
          "name": "stdout",
          "text": [
            "Epoch: 36 | Epoch Time: 0m 12s\n",
            "\t Val. Loss: 1.177 |  Val. Acc: 56.67%\n",
            "\tTrain Loss: 0.918 | Train Acc: 58.84%\n"
          ]
        },
        {
          "output_type": "stream",
          "name": "stderr",
          "text": [
            "100%|██████████| 101/101 [00:11<00:00,  8.70it/s]\n"
          ]
        },
        {
          "output_type": "stream",
          "name": "stdout",
          "text": [
            "Best model saved at epoch 36 with validation loss: 1.1441\n",
            "Epoch: 37 | Epoch Time: 0m 12s\n",
            "\t Val. Loss: 1.144 |  Val. Acc: 55.56%\n",
            "\tTrain Loss: 0.871 | Train Acc: 61.40%\n"
          ]
        },
        {
          "output_type": "stream",
          "name": "stderr",
          "text": [
            "100%|██████████| 101/101 [00:11<00:00,  8.48it/s]\n"
          ]
        },
        {
          "output_type": "stream",
          "name": "stdout",
          "text": [
            "Best model saved at epoch 37 with validation loss: 1.1363\n",
            "Epoch: 38 | Epoch Time: 0m 12s\n",
            "\t Val. Loss: 1.136 |  Val. Acc: 51.67%\n",
            "\tTrain Loss: 0.849 | Train Acc: 61.78%\n"
          ]
        },
        {
          "output_type": "stream",
          "name": "stderr",
          "text": [
            "100%|██████████| 101/101 [00:11<00:00,  8.84it/s]\n"
          ]
        },
        {
          "output_type": "stream",
          "name": "stdout",
          "text": [
            "Best model saved at epoch 38 with validation loss: 1.1301\n",
            "Epoch: 39 | Epoch Time: 0m 11s\n",
            "\t Val. Loss: 1.130 |  Val. Acc: 52.50%\n",
            "\tTrain Loss: 0.849 | Train Acc: 63.68%\n"
          ]
        },
        {
          "output_type": "stream",
          "name": "stderr",
          "text": [
            "100%|██████████| 101/101 [00:12<00:00,  8.18it/s]\n"
          ]
        },
        {
          "output_type": "stream",
          "name": "stdout",
          "text": [
            "Epoch: 40 | Epoch Time: 0m 12s\n",
            "\t Val. Loss: 1.132 |  Val. Acc: 55.42%\n",
            "\tTrain Loss: 0.839 | Train Acc: 62.29%\n"
          ]
        },
        {
          "output_type": "stream",
          "name": "stderr",
          "text": [
            "100%|██████████| 101/101 [00:11<00:00,  8.80it/s]\n"
          ]
        },
        {
          "output_type": "stream",
          "name": "stdout",
          "text": [
            "Epoch: 41 | Epoch Time: 0m 11s\n",
            "\t Val. Loss: 1.191 |  Val. Acc: 50.83%\n",
            "\tTrain Loss: 0.816 | Train Acc: 64.43%\n"
          ]
        },
        {
          "output_type": "stream",
          "name": "stderr",
          "text": [
            "100%|██████████| 101/101 [00:12<00:00,  8.23it/s]\n"
          ]
        },
        {
          "output_type": "stream",
          "name": "stdout",
          "text": [
            "Epoch: 42 | Epoch Time: 0m 12s\n",
            "\t Val. Loss: 1.213 |  Val. Acc: 49.58%\n",
            "\tTrain Loss: 0.808 | Train Acc: 64.06%\n"
          ]
        },
        {
          "output_type": "stream",
          "name": "stderr",
          "text": [
            "100%|██████████| 101/101 [00:11<00:00,  8.46it/s]\n"
          ]
        },
        {
          "output_type": "stream",
          "name": "stdout",
          "text": [
            "Epoch: 43 | Epoch Time: 0m 12s\n",
            "\t Val. Loss: 1.172 |  Val. Acc: 54.58%\n",
            "\tTrain Loss: 0.801 | Train Acc: 63.81%\n"
          ]
        },
        {
          "output_type": "stream",
          "name": "stderr",
          "text": [
            "100%|██████████| 101/101 [00:11<00:00,  8.49it/s]\n"
          ]
        },
        {
          "output_type": "stream",
          "name": "stdout",
          "text": [
            "Best model saved at epoch 43 with validation loss: 1.1200\n",
            "Epoch: 44 | Epoch Time: 0m 12s\n",
            "\t Val. Loss: 1.120 |  Val. Acc: 50.42%\n",
            "\tTrain Loss: 0.783 | Train Acc: 65.10%\n"
          ]
        },
        {
          "output_type": "stream",
          "name": "stderr",
          "text": [
            "100%|██████████| 101/101 [00:12<00:00,  8.35it/s]\n"
          ]
        },
        {
          "output_type": "stream",
          "name": "stdout",
          "text": [
            "Epoch: 45 | Epoch Time: 0m 12s\n",
            "\t Val. Loss: 1.182 |  Val. Acc: 58.47%\n",
            "\tTrain Loss: 0.777 | Train Acc: 64.81%\n"
          ]
        },
        {
          "output_type": "stream",
          "name": "stderr",
          "text": [
            "100%|██████████| 101/101 [00:11<00:00,  8.49it/s]\n"
          ]
        },
        {
          "output_type": "stream",
          "name": "stdout",
          "text": [
            "Best model saved at epoch 45 with validation loss: 1.0954\n",
            "Epoch: 46 | Epoch Time: 0m 12s\n",
            "\t Val. Loss: 1.095 |  Val. Acc: 55.00%\n",
            "\tTrain Loss: 0.751 | Train Acc: 67.22%\n"
          ]
        },
        {
          "output_type": "stream",
          "name": "stderr",
          "text": [
            "100%|██████████| 101/101 [00:11<00:00,  8.77it/s]\n"
          ]
        },
        {
          "output_type": "stream",
          "name": "stdout",
          "text": [
            "Epoch: 47 | Epoch Time: 0m 11s\n",
            "\t Val. Loss: 1.097 |  Val. Acc: 54.58%\n",
            "\tTrain Loss: 0.750 | Train Acc: 66.84%\n"
          ]
        },
        {
          "output_type": "stream",
          "name": "stderr",
          "text": [
            "100%|██████████| 101/101 [00:11<00:00,  8.66it/s]\n"
          ]
        },
        {
          "output_type": "stream",
          "name": "stdout",
          "text": [
            "Epoch: 48 | Epoch Time: 0m 12s\n",
            "\t Val. Loss: 1.120 |  Val. Acc: 52.64%\n",
            "\tTrain Loss: 0.725 | Train Acc: 66.77%\n"
          ]
        },
        {
          "output_type": "stream",
          "name": "stderr",
          "text": [
            "100%|██████████| 101/101 [00:12<00:00,  8.39it/s]\n"
          ]
        },
        {
          "output_type": "stream",
          "name": "stdout",
          "text": [
            "Epoch: 49 | Epoch Time: 0m 12s\n",
            "\t Val. Loss: 1.256 |  Val. Acc: 48.89%\n",
            "\tTrain Loss: 0.707 | Train Acc: 69.39%\n"
          ]
        },
        {
          "output_type": "stream",
          "name": "stderr",
          "text": [
            "100%|██████████| 101/101 [00:12<00:00,  8.34it/s]\n"
          ]
        },
        {
          "output_type": "stream",
          "name": "stdout",
          "text": [
            "Epoch: 50 | Epoch Time: 0m 12s\n",
            "\t Val. Loss: 1.121 |  Val. Acc: 54.17%\n",
            "\tTrain Loss: 0.721 | Train Acc: 67.43%\n"
          ]
        },
        {
          "output_type": "stream",
          "name": "stderr",
          "text": [
            "100%|██████████| 101/101 [00:11<00:00,  8.56it/s]\n"
          ]
        },
        {
          "output_type": "stream",
          "name": "stdout",
          "text": [
            "Epoch: 51 | Epoch Time: 0m 12s\n",
            "\t Val. Loss: 1.108 |  Val. Acc: 53.75%\n",
            "\tTrain Loss: 0.687 | Train Acc: 69.39%\n"
          ]
        },
        {
          "output_type": "stream",
          "name": "stderr",
          "text": [
            "100%|██████████| 101/101 [00:11<00:00,  8.42it/s]\n"
          ]
        },
        {
          "output_type": "stream",
          "name": "stdout",
          "text": [
            "Epoch: 52 | Epoch Time: 0m 12s\n",
            "\t Val. Loss: 1.192 |  Val. Acc: 50.56%\n",
            "\tTrain Loss: 0.694 | Train Acc: 68.42%\n"
          ]
        },
        {
          "output_type": "stream",
          "name": "stderr",
          "text": [
            "100%|██████████| 101/101 [00:11<00:00,  8.75it/s]\n"
          ]
        },
        {
          "output_type": "stream",
          "name": "stdout",
          "text": [
            "Best model saved at epoch 52 with validation loss: 1.0905\n",
            "Epoch: 53 | Epoch Time: 0m 12s\n",
            "\t Val. Loss: 1.090 |  Val. Acc: 54.72%\n",
            "\tTrain Loss: 0.704 | Train Acc: 68.95%\n"
          ]
        },
        {
          "output_type": "stream",
          "name": "stderr",
          "text": [
            "100%|██████████| 101/101 [00:11<00:00,  8.59it/s]\n"
          ]
        },
        {
          "output_type": "stream",
          "name": "stdout",
          "text": [
            "Epoch: 54 | Epoch Time: 0m 12s\n",
            "\t Val. Loss: 1.124 |  Val. Acc: 54.86%\n",
            "\tTrain Loss: 0.654 | Train Acc: 70.14%\n"
          ]
        },
        {
          "output_type": "stream",
          "name": "stderr",
          "text": [
            "100%|██████████| 101/101 [00:12<00:00,  8.21it/s]\n"
          ]
        },
        {
          "output_type": "stream",
          "name": "stdout",
          "text": [
            "Epoch: 55 | Epoch Time: 0m 12s\n",
            "\t Val. Loss: 1.091 |  Val. Acc: 57.78%\n",
            "\tTrain Loss: 0.678 | Train Acc: 70.10%\n"
          ]
        },
        {
          "output_type": "stream",
          "name": "stderr",
          "text": [
            "100%|██████████| 101/101 [00:10<00:00,  9.23it/s]\n"
          ]
        },
        {
          "output_type": "stream",
          "name": "stdout",
          "text": [
            "Best model saved at epoch 55 with validation loss: 1.0754\n",
            "Epoch: 56 | Epoch Time: 0m 11s\n",
            "\t Val. Loss: 1.075 |  Val. Acc: 54.44%\n",
            "\tTrain Loss: 0.662 | Train Acc: 70.33%\n"
          ]
        },
        {
          "output_type": "stream",
          "name": "stderr",
          "text": [
            "100%|██████████| 101/101 [00:11<00:00,  8.53it/s]\n"
          ]
        },
        {
          "output_type": "stream",
          "name": "stdout",
          "text": [
            "Epoch: 57 | Epoch Time: 0m 12s\n",
            "\t Val. Loss: 1.207 |  Val. Acc: 53.47%\n",
            "\tTrain Loss: 0.634 | Train Acc: 70.57%\n"
          ]
        },
        {
          "output_type": "stream",
          "name": "stderr",
          "text": [
            "100%|██████████| 101/101 [00:12<00:00,  8.29it/s]\n"
          ]
        },
        {
          "output_type": "stream",
          "name": "stdout",
          "text": [
            "Epoch: 58 | Epoch Time: 0m 12s\n",
            "\t Val. Loss: 1.094 |  Val. Acc: 56.11%\n",
            "\tTrain Loss: 0.624 | Train Acc: 71.08%\n"
          ]
        },
        {
          "output_type": "stream",
          "name": "stderr",
          "text": [
            "100%|██████████| 101/101 [00:11<00:00,  8.86it/s]\n"
          ]
        },
        {
          "output_type": "stream",
          "name": "stdout",
          "text": [
            "Epoch: 59 | Epoch Time: 0m 11s\n",
            "\t Val. Loss: 1.090 |  Val. Acc: 55.69%\n",
            "\tTrain Loss: 0.616 | Train Acc: 72.80%\n"
          ]
        },
        {
          "output_type": "stream",
          "name": "stderr",
          "text": [
            "100%|██████████| 101/101 [00:12<00:00,  8.33it/s]\n"
          ]
        },
        {
          "output_type": "stream",
          "name": "stdout",
          "text": [
            "Epoch: 60 | Epoch Time: 0m 12s\n",
            "\t Val. Loss: 1.145 |  Val. Acc: 53.61%\n",
            "\tTrain Loss: 0.632 | Train Acc: 71.50%\n"
          ]
        },
        {
          "output_type": "stream",
          "name": "stderr",
          "text": [
            "100%|██████████| 101/101 [00:11<00:00,  8.78it/s]\n"
          ]
        },
        {
          "output_type": "stream",
          "name": "stdout",
          "text": [
            "Best model saved at epoch 60 with validation loss: 1.0609\n",
            "Epoch: 61 | Epoch Time: 0m 11s\n",
            "\t Val. Loss: 1.061 |  Val. Acc: 57.36%\n",
            "\tTrain Loss: 0.631 | Train Acc: 72.00%\n"
          ]
        },
        {
          "output_type": "stream",
          "name": "stderr",
          "text": [
            "100%|██████████| 101/101 [00:11<00:00,  8.50it/s]\n"
          ]
        },
        {
          "output_type": "stream",
          "name": "stdout",
          "text": [
            "Epoch: 62 | Epoch Time: 0m 12s\n",
            "\t Val. Loss: 1.160 |  Val. Acc: 53.19%\n",
            "\tTrain Loss: 0.605 | Train Acc: 72.12%\n"
          ]
        },
        {
          "output_type": "stream",
          "name": "stderr",
          "text": [
            "100%|██████████| 101/101 [00:11<00:00,  8.57it/s]\n"
          ]
        },
        {
          "output_type": "stream",
          "name": "stdout",
          "text": [
            "Epoch: 63 | Epoch Time: 0m 12s\n",
            "\t Val. Loss: 1.179 |  Val. Acc: 59.03%\n",
            "\tTrain Loss: 0.609 | Train Acc: 71.98%\n"
          ]
        },
        {
          "output_type": "stream",
          "name": "stderr",
          "text": [
            "100%|██████████| 101/101 [00:11<00:00,  8.64it/s]\n"
          ]
        },
        {
          "output_type": "stream",
          "name": "stdout",
          "text": [
            "Epoch: 64 | Epoch Time: 0m 12s\n",
            "\t Val. Loss: 1.347 |  Val. Acc: 50.28%\n",
            "\tTrain Loss: 0.568 | Train Acc: 74.54%\n"
          ]
        },
        {
          "output_type": "stream",
          "name": "stderr",
          "text": [
            "100%|██████████| 101/101 [00:11<00:00,  8.79it/s]\n"
          ]
        },
        {
          "output_type": "stream",
          "name": "stdout",
          "text": [
            "Epoch: 65 | Epoch Time: 0m 11s\n",
            "\t Val. Loss: 1.224 |  Val. Acc: 55.69%\n",
            "\tTrain Loss: 0.578 | Train Acc: 72.74%\n"
          ]
        },
        {
          "output_type": "stream",
          "name": "stderr",
          "text": [
            "100%|██████████| 101/101 [00:11<00:00,  8.56it/s]\n"
          ]
        },
        {
          "output_type": "stream",
          "name": "stdout",
          "text": [
            "Epoch: 66 | Epoch Time: 0m 12s\n",
            "\t Val. Loss: 1.097 |  Val. Acc: 54.03%\n",
            "\tTrain Loss: 0.564 | Train Acc: 73.50%\n"
          ]
        },
        {
          "output_type": "stream",
          "name": "stderr",
          "text": [
            "100%|██████████| 101/101 [00:11<00:00,  8.59it/s]\n"
          ]
        },
        {
          "output_type": "stream",
          "name": "stdout",
          "text": [
            "Epoch: 67 | Epoch Time: 0m 12s\n",
            "\t Val. Loss: 1.144 |  Val. Acc: 53.19%\n",
            "\tTrain Loss: 0.564 | Train Acc: 74.46%\n"
          ]
        },
        {
          "output_type": "stream",
          "name": "stderr",
          "text": [
            "100%|██████████| 101/101 [00:11<00:00,  8.56it/s]\n"
          ]
        },
        {
          "output_type": "stream",
          "name": "stdout",
          "text": [
            "Epoch: 68 | Epoch Time: 0m 12s\n",
            "\t Val. Loss: 1.155 |  Val. Acc: 56.11%\n",
            "\tTrain Loss: 0.535 | Train Acc: 75.64%\n"
          ]
        },
        {
          "output_type": "stream",
          "name": "stderr",
          "text": [
            "100%|██████████| 101/101 [00:11<00:00,  8.60it/s]\n"
          ]
        },
        {
          "output_type": "stream",
          "name": "stdout",
          "text": [
            "Epoch: 69 | Epoch Time: 0m 12s\n",
            "\t Val. Loss: 1.234 |  Val. Acc: 52.36%\n",
            "\tTrain Loss: 0.515 | Train Acc: 76.36%\n"
          ]
        },
        {
          "output_type": "stream",
          "name": "stderr",
          "text": [
            "100%|██████████| 101/101 [00:11<00:00,  8.44it/s]\n"
          ]
        },
        {
          "output_type": "stream",
          "name": "stdout",
          "text": [
            "Epoch: 70 | Epoch Time: 0m 12s\n",
            "\t Val. Loss: 1.166 |  Val. Acc: 53.61%\n",
            "\tTrain Loss: 0.528 | Train Acc: 75.27%\n"
          ]
        },
        {
          "output_type": "stream",
          "name": "stderr",
          "text": [
            "100%|██████████| 101/101 [00:11<00:00,  8.74it/s]\n"
          ]
        },
        {
          "output_type": "stream",
          "name": "stdout",
          "text": [
            "Epoch: 71 | Epoch Time: 0m 12s\n",
            "\t Val. Loss: 1.141 |  Val. Acc: 56.94%\n",
            "\tTrain Loss: 0.514 | Train Acc: 76.06%\n"
          ]
        },
        {
          "output_type": "stream",
          "name": "stderr",
          "text": [
            "100%|██████████| 101/101 [00:11<00:00,  8.92it/s]\n"
          ]
        },
        {
          "output_type": "stream",
          "name": "stdout",
          "text": [
            "Epoch: 72 | Epoch Time: 0m 11s\n",
            "\t Val. Loss: 1.223 |  Val. Acc: 54.03%\n",
            "\tTrain Loss: 0.534 | Train Acc: 75.73%\n"
          ]
        },
        {
          "output_type": "stream",
          "name": "stderr",
          "text": [
            "100%|██████████| 101/101 [00:11<00:00,  8.43it/s]\n"
          ]
        },
        {
          "output_type": "stream",
          "name": "stdout",
          "text": [
            "Epoch: 73 | Epoch Time: 0m 12s\n",
            "\t Val. Loss: 1.210 |  Val. Acc: 54.44%\n",
            "\tTrain Loss: 0.526 | Train Acc: 77.02%\n"
          ]
        },
        {
          "output_type": "stream",
          "name": "stderr",
          "text": [
            "100%|██████████| 101/101 [00:12<00:00,  8.36it/s]\n"
          ]
        },
        {
          "output_type": "stream",
          "name": "stdout",
          "text": [
            "Epoch: 74 | Epoch Time: 0m 12s\n",
            "\t Val. Loss: 1.273 |  Val. Acc: 50.00%\n",
            "\tTrain Loss: 0.527 | Train Acc: 75.52%\n"
          ]
        },
        {
          "output_type": "stream",
          "name": "stderr",
          "text": [
            "100%|██████████| 101/101 [00:11<00:00,  8.56it/s]\n"
          ]
        },
        {
          "output_type": "stream",
          "name": "stdout",
          "text": [
            "Epoch: 75 | Epoch Time: 0m 12s\n",
            "\t Val. Loss: 1.261 |  Val. Acc: 53.61%\n",
            "\tTrain Loss: 0.502 | Train Acc: 78.58%\n"
          ]
        },
        {
          "output_type": "stream",
          "name": "stderr",
          "text": [
            "100%|██████████| 101/101 [00:12<00:00,  8.26it/s]\n"
          ]
        },
        {
          "output_type": "stream",
          "name": "stdout",
          "text": [
            "Epoch: 76 | Epoch Time: 0m 12s\n",
            "\t Val. Loss: 1.295 |  Val. Acc: 52.78%\n",
            "\tTrain Loss: 0.512 | Train Acc: 77.38%\n"
          ]
        },
        {
          "output_type": "stream",
          "name": "stderr",
          "text": [
            "100%|██████████| 101/101 [00:11<00:00,  8.44it/s]\n"
          ]
        },
        {
          "output_type": "stream",
          "name": "stdout",
          "text": [
            "Epoch: 77 | Epoch Time: 0m 12s\n",
            "\t Val. Loss: 1.269 |  Val. Acc: 53.61%\n",
            "\tTrain Loss: 0.514 | Train Acc: 77.90%\n"
          ]
        },
        {
          "output_type": "stream",
          "name": "stderr",
          "text": [
            "100%|██████████| 101/101 [00:11<00:00,  9.00it/s]\n"
          ]
        },
        {
          "output_type": "stream",
          "name": "stdout",
          "text": [
            "Epoch: 78 | Epoch Time: 0m 11s\n",
            "\t Val. Loss: 1.288 |  Val. Acc: 53.61%\n",
            "\tTrain Loss: 0.464 | Train Acc: 78.94%\n"
          ]
        },
        {
          "output_type": "stream",
          "name": "stderr",
          "text": [
            "100%|██████████| 101/101 [00:11<00:00,  8.68it/s]\n"
          ]
        },
        {
          "output_type": "stream",
          "name": "stdout",
          "text": [
            "Epoch: 79 | Epoch Time: 0m 12s\n",
            "\t Val. Loss: 1.131 |  Val. Acc: 59.03%\n",
            "\tTrain Loss: 0.475 | Train Acc: 77.85%\n"
          ]
        },
        {
          "output_type": "stream",
          "name": "stderr",
          "text": [
            "100%|██████████| 101/101 [00:12<00:00,  8.32it/s]\n"
          ]
        },
        {
          "output_type": "stream",
          "name": "stdout",
          "text": [
            "Epoch: 80 | Epoch Time: 0m 12s\n",
            "\t Val. Loss: 1.147 |  Val. Acc: 57.78%\n",
            "\tTrain Loss: 0.462 | Train Acc: 79.58%\n"
          ]
        },
        {
          "output_type": "stream",
          "name": "stderr",
          "text": [
            "100%|██████████| 101/101 [00:11<00:00,  8.54it/s]\n"
          ]
        },
        {
          "output_type": "stream",
          "name": "stdout",
          "text": [
            "Epoch: 81 | Epoch Time: 0m 12s\n",
            "\t Val. Loss: 1.221 |  Val. Acc: 54.44%\n",
            "\tTrain Loss: 0.435 | Train Acc: 79.29%\n"
          ]
        },
        {
          "output_type": "stream",
          "name": "stderr",
          "text": [
            "100%|██████████| 101/101 [00:11<00:00,  8.44it/s]\n"
          ]
        },
        {
          "output_type": "stream",
          "name": "stdout",
          "text": [
            "Epoch: 82 | Epoch Time: 0m 12s\n",
            "\t Val. Loss: 1.297 |  Val. Acc: 54.03%\n",
            "\tTrain Loss: 0.443 | Train Acc: 80.71%\n"
          ]
        },
        {
          "output_type": "stream",
          "name": "stderr",
          "text": [
            "100%|██████████| 101/101 [00:11<00:00,  8.47it/s]\n"
          ]
        },
        {
          "output_type": "stream",
          "name": "stdout",
          "text": [
            "Epoch: 83 | Epoch Time: 0m 12s\n",
            "\t Val. Loss: 1.193 |  Val. Acc: 57.36%\n",
            "\tTrain Loss: 0.454 | Train Acc: 79.90%\n"
          ]
        },
        {
          "output_type": "stream",
          "name": "stderr",
          "text": [
            "100%|██████████| 101/101 [00:11<00:00,  8.80it/s]\n"
          ]
        },
        {
          "output_type": "stream",
          "name": "stdout",
          "text": [
            "Epoch: 84 | Epoch Time: 0m 11s\n",
            "\t Val. Loss: 1.255 |  Val. Acc: 54.44%\n",
            "\tTrain Loss: 0.446 | Train Acc: 79.86%\n"
          ]
        },
        {
          "output_type": "stream",
          "name": "stderr",
          "text": [
            "100%|██████████| 101/101 [00:11<00:00,  8.88it/s]\n"
          ]
        },
        {
          "output_type": "stream",
          "name": "stdout",
          "text": [
            "Epoch: 85 | Epoch Time: 0m 11s\n",
            "\t Val. Loss: 1.225 |  Val. Acc: 54.44%\n",
            "\tTrain Loss: 0.452 | Train Acc: 78.85%\n"
          ]
        },
        {
          "output_type": "stream",
          "name": "stderr",
          "text": [
            "100%|██████████| 101/101 [00:11<00:00,  8.83it/s]\n"
          ]
        },
        {
          "output_type": "stream",
          "name": "stdout",
          "text": [
            "Epoch: 86 | Epoch Time: 0m 11s\n",
            "\t Val. Loss: 1.164 |  Val. Acc: 55.69%\n",
            "\tTrain Loss: 0.450 | Train Acc: 79.89%\n"
          ]
        },
        {
          "output_type": "stream",
          "name": "stderr",
          "text": [
            "100%|██████████| 101/101 [00:11<00:00,  8.42it/s]\n"
          ]
        },
        {
          "output_type": "stream",
          "name": "stdout",
          "text": [
            "Epoch: 87 | Epoch Time: 0m 12s\n",
            "\t Val. Loss: 1.229 |  Val. Acc: 58.61%\n",
            "\tTrain Loss: 0.420 | Train Acc: 81.83%\n"
          ]
        },
        {
          "output_type": "stream",
          "name": "stderr",
          "text": [
            "100%|██████████| 101/101 [00:11<00:00,  8.52it/s]\n"
          ]
        },
        {
          "output_type": "stream",
          "name": "stdout",
          "text": [
            "Epoch: 88 | Epoch Time: 0m 12s\n",
            "\t Val. Loss: 1.308 |  Val. Acc: 57.22%\n",
            "\tTrain Loss: 0.416 | Train Acc: 81.24%\n"
          ]
        },
        {
          "output_type": "stream",
          "name": "stderr",
          "text": [
            "100%|██████████| 101/101 [00:12<00:00,  8.30it/s]\n"
          ]
        },
        {
          "output_type": "stream",
          "name": "stdout",
          "text": [
            "Epoch: 89 | Epoch Time: 0m 12s\n",
            "\t Val. Loss: 1.313 |  Val. Acc: 54.72%\n",
            "\tTrain Loss: 0.406 | Train Acc: 81.83%\n"
          ]
        },
        {
          "output_type": "stream",
          "name": "stderr",
          "text": [
            "100%|██████████| 101/101 [00:11<00:00,  8.74it/s]\n"
          ]
        },
        {
          "output_type": "stream",
          "name": "stdout",
          "text": [
            "Epoch: 90 | Epoch Time: 0m 12s\n",
            "\t Val. Loss: 1.265 |  Val. Acc: 57.36%\n",
            "\tTrain Loss: 0.402 | Train Acc: 81.67%\n"
          ]
        },
        {
          "output_type": "stream",
          "name": "stderr",
          "text": [
            "100%|██████████| 101/101 [00:11<00:00,  8.50it/s]\n"
          ]
        },
        {
          "output_type": "stream",
          "name": "stdout",
          "text": [
            "Epoch: 91 | Epoch Time: 0m 12s\n",
            "\t Val. Loss: 1.265 |  Val. Acc: 56.11%\n",
            "\tTrain Loss: 0.403 | Train Acc: 82.20%\n"
          ]
        },
        {
          "output_type": "stream",
          "name": "stderr",
          "text": [
            "100%|██████████| 101/101 [00:11<00:00,  8.45it/s]\n"
          ]
        },
        {
          "output_type": "stream",
          "name": "stdout",
          "text": [
            "Epoch: 92 | Epoch Time: 0m 12s\n",
            "\t Val. Loss: 1.252 |  Val. Acc: 57.50%\n",
            "\tTrain Loss: 0.392 | Train Acc: 81.55%\n"
          ]
        },
        {
          "output_type": "stream",
          "name": "stderr",
          "text": [
            "100%|██████████| 101/101 [00:11<00:00,  8.57it/s]\n"
          ]
        },
        {
          "output_type": "stream",
          "name": "stdout",
          "text": [
            "Epoch: 93 | Epoch Time: 0m 12s\n",
            "\t Val. Loss: 1.194 |  Val. Acc: 59.86%\n",
            "\tTrain Loss: 0.366 | Train Acc: 83.49%\n"
          ]
        },
        {
          "output_type": "stream",
          "name": "stderr",
          "text": [
            "100%|██████████| 101/101 [00:12<00:00,  8.34it/s]\n"
          ]
        },
        {
          "output_type": "stream",
          "name": "stdout",
          "text": [
            "Epoch: 94 | Epoch Time: 0m 12s\n",
            "\t Val. Loss: 1.165 |  Val. Acc: 56.53%\n",
            "\tTrain Loss: 0.382 | Train Acc: 82.67%\n"
          ]
        },
        {
          "output_type": "stream",
          "name": "stderr",
          "text": [
            "100%|██████████| 101/101 [00:11<00:00,  8.61it/s]\n"
          ]
        },
        {
          "output_type": "stream",
          "name": "stdout",
          "text": [
            "Epoch: 95 | Epoch Time: 0m 12s\n",
            "\t Val. Loss: 1.441 |  Val. Acc: 50.00%\n",
            "\tTrain Loss: 0.384 | Train Acc: 83.33%\n"
          ]
        },
        {
          "output_type": "stream",
          "name": "stderr",
          "text": [
            "100%|██████████| 101/101 [00:11<00:00,  8.58it/s]\n"
          ]
        },
        {
          "output_type": "stream",
          "name": "stdout",
          "text": [
            "Epoch: 96 | Epoch Time: 0m 12s\n",
            "\t Val. Loss: 1.261 |  Val. Acc: 56.53%\n",
            "\tTrain Loss: 0.365 | Train Acc: 83.75%\n"
          ]
        },
        {
          "output_type": "stream",
          "name": "stderr",
          "text": [
            "100%|██████████| 101/101 [00:12<00:00,  8.32it/s]\n"
          ]
        },
        {
          "output_type": "stream",
          "name": "stdout",
          "text": [
            "Epoch: 97 | Epoch Time: 0m 12s\n",
            "\t Val. Loss: 1.344 |  Val. Acc: 57.50%\n",
            "\tTrain Loss: 0.330 | Train Acc: 85.42%\n"
          ]
        },
        {
          "output_type": "stream",
          "name": "stderr",
          "text": [
            "100%|██████████| 101/101 [00:12<00:00,  8.38it/s]\n"
          ]
        },
        {
          "output_type": "stream",
          "name": "stdout",
          "text": [
            "Epoch: 98 | Epoch Time: 0m 12s\n",
            "\t Val. Loss: 1.211 |  Val. Acc: 55.42%\n",
            "\tTrain Loss: 0.332 | Train Acc: 85.05%\n"
          ]
        },
        {
          "output_type": "stream",
          "name": "stderr",
          "text": [
            "100%|██████████| 101/101 [00:12<00:00,  8.23it/s]\n"
          ]
        },
        {
          "output_type": "stream",
          "name": "stdout",
          "text": [
            "Epoch: 99 | Epoch Time: 0m 12s\n",
            "\t Val. Loss: 1.224 |  Val. Acc: 56.25%\n",
            "\tTrain Loss: 0.361 | Train Acc: 82.88%\n"
          ]
        },
        {
          "output_type": "stream",
          "name": "stderr",
          "text": [
            "100%|██████████| 101/101 [00:11<00:00,  8.42it/s]\n"
          ]
        },
        {
          "output_type": "stream",
          "name": "stdout",
          "text": [
            "Epoch: 100 | Epoch Time: 0m 12s\n",
            "\t Val. Loss: 1.409 |  Val. Acc: 52.78%\n",
            "\tTrain Loss: 0.326 | Train Acc: 84.72%\n"
          ]
        },
        {
          "output_type": "stream",
          "name": "stderr",
          "text": [
            "100%|██████████| 101/101 [00:11<00:00,  8.54it/s]\n"
          ]
        },
        {
          "output_type": "stream",
          "name": "stdout",
          "text": [
            "Epoch: 101 | Epoch Time: 0m 12s\n",
            "\t Val. Loss: 1.408 |  Val. Acc: 58.19%\n",
            "\tTrain Loss: 0.339 | Train Acc: 83.85%\n"
          ]
        },
        {
          "output_type": "stream",
          "name": "stderr",
          "text": [
            "100%|██████████| 101/101 [00:11<00:00,  8.59it/s]\n"
          ]
        },
        {
          "output_type": "stream",
          "name": "stdout",
          "text": [
            "Epoch: 102 | Epoch Time: 0m 12s\n",
            "\t Val. Loss: 1.335 |  Val. Acc: 56.11%\n",
            "\tTrain Loss: 0.341 | Train Acc: 84.64%\n"
          ]
        },
        {
          "output_type": "stream",
          "name": "stderr",
          "text": [
            "100%|██████████| 101/101 [00:12<00:00,  8.37it/s]\n"
          ]
        },
        {
          "output_type": "stream",
          "name": "stdout",
          "text": [
            "Epoch: 103 | Epoch Time: 0m 12s\n",
            "\t Val. Loss: 1.232 |  Val. Acc: 58.61%\n",
            "\tTrain Loss: 0.345 | Train Acc: 83.89%\n"
          ]
        },
        {
          "output_type": "stream",
          "name": "stderr",
          "text": [
            "100%|██████████| 101/101 [00:11<00:00,  8.71it/s]\n"
          ]
        },
        {
          "output_type": "stream",
          "name": "stdout",
          "text": [
            "Epoch: 104 | Epoch Time: 0m 12s\n",
            "\t Val. Loss: 1.471 |  Val. Acc: 61.11%\n",
            "\tTrain Loss: 0.315 | Train Acc: 84.88%\n"
          ]
        },
        {
          "output_type": "stream",
          "name": "stderr",
          "text": [
            "100%|██████████| 101/101 [00:11<00:00,  8.44it/s]\n"
          ]
        },
        {
          "output_type": "stream",
          "name": "stdout",
          "text": [
            "Epoch: 105 | Epoch Time: 0m 12s\n",
            "\t Val. Loss: 1.425 |  Val. Acc: 55.83%\n",
            "\tTrain Loss: 0.361 | Train Acc: 82.38%\n"
          ]
        },
        {
          "output_type": "stream",
          "name": "stderr",
          "text": [
            "100%|██████████| 101/101 [00:11<00:00,  8.69it/s]\n"
          ]
        },
        {
          "output_type": "stream",
          "name": "stdout",
          "text": [
            "Epoch: 106 | Epoch Time: 0m 12s\n",
            "\t Val. Loss: 1.358 |  Val. Acc: 55.00%\n",
            "\tTrain Loss: 0.328 | Train Acc: 84.78%\n"
          ]
        },
        {
          "output_type": "stream",
          "name": "stderr",
          "text": [
            "100%|██████████| 101/101 [00:12<00:00,  8.31it/s]\n"
          ]
        },
        {
          "output_type": "stream",
          "name": "stdout",
          "text": [
            "Epoch: 107 | Epoch Time: 0m 12s\n",
            "\t Val. Loss: 1.270 |  Val. Acc: 57.36%\n",
            "\tTrain Loss: 0.344 | Train Acc: 83.91%\n"
          ]
        },
        {
          "output_type": "stream",
          "name": "stderr",
          "text": [
            "100%|██████████| 101/101 [00:11<00:00,  8.64it/s]\n"
          ]
        },
        {
          "output_type": "stream",
          "name": "stdout",
          "text": [
            "Epoch: 108 | Epoch Time: 0m 12s\n",
            "\t Val. Loss: 1.381 |  Val. Acc: 52.08%\n",
            "\tTrain Loss: 0.296 | Train Acc: 86.72%\n"
          ]
        },
        {
          "output_type": "stream",
          "name": "stderr",
          "text": [
            "100%|██████████| 101/101 [00:11<00:00,  8.79it/s]\n"
          ]
        },
        {
          "output_type": "stream",
          "name": "stdout",
          "text": [
            "Epoch: 109 | Epoch Time: 0m 11s\n",
            "\t Val. Loss: 1.441 |  Val. Acc: 55.42%\n",
            "\tTrain Loss: 0.348 | Train Acc: 84.80%\n"
          ]
        },
        {
          "output_type": "stream",
          "name": "stderr",
          "text": [
            "100%|██████████| 101/101 [00:11<00:00,  8.63it/s]\n"
          ]
        },
        {
          "output_type": "stream",
          "name": "stdout",
          "text": [
            "Epoch: 110 | Epoch Time: 0m 12s\n",
            "\t Val. Loss: 1.324 |  Val. Acc: 52.92%\n",
            "\tTrain Loss: 0.322 | Train Acc: 85.07%\n"
          ]
        },
        {
          "output_type": "stream",
          "name": "stderr",
          "text": [
            "100%|██████████| 101/101 [00:11<00:00,  8.86it/s]\n"
          ]
        },
        {
          "output_type": "stream",
          "name": "stdout",
          "text": [
            "Epoch: 111 | Epoch Time: 0m 11s\n",
            "\t Val. Loss: 1.297 |  Val. Acc: 55.83%\n",
            "\tTrain Loss: 0.304 | Train Acc: 85.92%\n"
          ]
        },
        {
          "output_type": "stream",
          "name": "stderr",
          "text": [
            "100%|██████████| 101/101 [00:11<00:00,  8.44it/s]\n"
          ]
        },
        {
          "output_type": "stream",
          "name": "stdout",
          "text": [
            "Epoch: 112 | Epoch Time: 0m 12s\n",
            "\t Val. Loss: 1.260 |  Val. Acc: 59.17%\n",
            "\tTrain Loss: 0.293 | Train Acc: 86.89%\n"
          ]
        },
        {
          "output_type": "stream",
          "name": "stderr",
          "text": [
            "100%|██████████| 101/101 [00:11<00:00,  8.54it/s]\n"
          ]
        },
        {
          "output_type": "stream",
          "name": "stdout",
          "text": [
            "Epoch: 113 | Epoch Time: 0m 12s\n",
            "\t Val. Loss: 1.362 |  Val. Acc: 57.92%\n",
            "\tTrain Loss: 0.317 | Train Acc: 85.79%\n"
          ]
        },
        {
          "output_type": "stream",
          "name": "stderr",
          "text": [
            "100%|██████████| 101/101 [00:12<00:00,  8.28it/s]\n"
          ]
        },
        {
          "output_type": "stream",
          "name": "stdout",
          "text": [
            "Epoch: 114 | Epoch Time: 0m 12s\n",
            "\t Val. Loss: 1.271 |  Val. Acc: 59.17%\n",
            "\tTrain Loss: 0.296 | Train Acc: 87.36%\n"
          ]
        },
        {
          "output_type": "stream",
          "name": "stderr",
          "text": [
            "100%|██████████| 101/101 [00:11<00:00,  8.54it/s]\n"
          ]
        },
        {
          "output_type": "stream",
          "name": "stdout",
          "text": [
            "Epoch: 115 | Epoch Time: 0m 12s\n",
            "\t Val. Loss: 1.390 |  Val. Acc: 57.50%\n",
            "\tTrain Loss: 0.269 | Train Acc: 87.51%\n"
          ]
        },
        {
          "output_type": "stream",
          "name": "stderr",
          "text": [
            "100%|██████████| 101/101 [00:11<00:00,  8.81it/s]\n"
          ]
        },
        {
          "output_type": "stream",
          "name": "stdout",
          "text": [
            "Epoch: 116 | Epoch Time: 0m 11s\n",
            "\t Val. Loss: 1.406 |  Val. Acc: 57.92%\n",
            "\tTrain Loss: 0.282 | Train Acc: 86.78%\n"
          ]
        },
        {
          "output_type": "stream",
          "name": "stderr",
          "text": [
            "100%|██████████| 101/101 [00:11<00:00,  8.45it/s]\n"
          ]
        },
        {
          "output_type": "stream",
          "name": "stdout",
          "text": [
            "Epoch: 117 | Epoch Time: 0m 12s\n",
            "\t Val. Loss: 1.500 |  Val. Acc: 60.14%\n",
            "\tTrain Loss: 0.289 | Train Acc: 87.19%\n"
          ]
        },
        {
          "output_type": "stream",
          "name": "stderr",
          "text": [
            "100%|██████████| 101/101 [00:11<00:00,  8.83it/s]\n"
          ]
        },
        {
          "output_type": "stream",
          "name": "stdout",
          "text": [
            "Epoch: 118 | Epoch Time: 0m 11s\n",
            "\t Val. Loss: 1.348 |  Val. Acc: 57.92%\n",
            "\tTrain Loss: 0.270 | Train Acc: 88.01%\n"
          ]
        },
        {
          "output_type": "stream",
          "name": "stderr",
          "text": [
            "100%|██████████| 101/101 [00:12<00:00,  8.41it/s]\n"
          ]
        },
        {
          "output_type": "stream",
          "name": "stdout",
          "text": [
            "Epoch: 119 | Epoch Time: 0m 12s\n",
            "\t Val. Loss: 1.384 |  Val. Acc: 62.08%\n",
            "\tTrain Loss: 0.279 | Train Acc: 87.38%\n"
          ]
        },
        {
          "output_type": "stream",
          "name": "stderr",
          "text": [
            "100%|██████████| 101/101 [00:11<00:00,  8.44it/s]\n"
          ]
        },
        {
          "output_type": "stream",
          "name": "stdout",
          "text": [
            "Epoch: 120 | Epoch Time: 0m 12s\n",
            "\t Val. Loss: 1.383 |  Val. Acc: 58.61%\n",
            "\tTrain Loss: 0.263 | Train Acc: 88.37%\n"
          ]
        },
        {
          "output_type": "stream",
          "name": "stderr",
          "text": [
            "100%|██████████| 101/101 [00:11<00:00,  8.42it/s]\n"
          ]
        },
        {
          "output_type": "stream",
          "name": "stdout",
          "text": [
            "Epoch: 121 | Epoch Time: 0m 12s\n",
            "\t Val. Loss: 1.420 |  Val. Acc: 59.72%\n",
            "\tTrain Loss: 0.281 | Train Acc: 86.44%\n"
          ]
        },
        {
          "output_type": "stream",
          "name": "stderr",
          "text": [
            "100%|██████████| 101/101 [00:11<00:00,  8.73it/s]\n"
          ]
        },
        {
          "output_type": "stream",
          "name": "stdout",
          "text": [
            "Epoch: 122 | Epoch Time: 0m 12s\n",
            "\t Val. Loss: 1.372 |  Val. Acc: 59.03%\n",
            "\tTrain Loss: 0.305 | Train Acc: 86.62%\n"
          ]
        },
        {
          "output_type": "stream",
          "name": "stderr",
          "text": [
            "100%|██████████| 101/101 [00:11<00:00,  8.51it/s]\n"
          ]
        },
        {
          "output_type": "stream",
          "name": "stdout",
          "text": [
            "Epoch: 123 | Epoch Time: 0m 12s\n",
            "\t Val. Loss: 1.312 |  Val. Acc: 55.42%\n",
            "\tTrain Loss: 0.265 | Train Acc: 89.01%\n"
          ]
        },
        {
          "output_type": "stream",
          "name": "stderr",
          "text": [
            "100%|██████████| 101/101 [00:11<00:00,  8.86it/s]\n"
          ]
        },
        {
          "output_type": "stream",
          "name": "stdout",
          "text": [
            "Epoch: 124 | Epoch Time: 0m 11s\n",
            "\t Val. Loss: 1.327 |  Val. Acc: 58.33%\n",
            "\tTrain Loss: 0.278 | Train Acc: 88.18%\n"
          ]
        },
        {
          "output_type": "stream",
          "name": "stderr",
          "text": [
            "100%|██████████| 101/101 [00:12<00:00,  8.14it/s]\n"
          ]
        },
        {
          "output_type": "stream",
          "name": "stdout",
          "text": [
            "Epoch: 125 | Epoch Time: 0m 12s\n",
            "\t Val. Loss: 1.357 |  Val. Acc: 56.25%\n",
            "\tTrain Loss: 0.265 | Train Acc: 87.24%\n"
          ]
        },
        {
          "output_type": "stream",
          "name": "stderr",
          "text": [
            "100%|██████████| 101/101 [00:11<00:00,  8.93it/s]\n"
          ]
        },
        {
          "output_type": "stream",
          "name": "stdout",
          "text": [
            "Epoch: 126 | Epoch Time: 0m 11s\n",
            "\t Val. Loss: 1.539 |  Val. Acc: 59.72%\n",
            "\tTrain Loss: 0.263 | Train Acc: 87.93%\n"
          ]
        },
        {
          "output_type": "stream",
          "name": "stderr",
          "text": [
            "100%|██████████| 101/101 [00:12<00:00,  8.27it/s]\n"
          ]
        },
        {
          "output_type": "stream",
          "name": "stdout",
          "text": [
            "Epoch: 127 | Epoch Time: 0m 12s\n",
            "\t Val. Loss: 1.254 |  Val. Acc: 58.61%\n",
            "\tTrain Loss: 0.251 | Train Acc: 88.86%\n"
          ]
        },
        {
          "output_type": "stream",
          "name": "stderr",
          "text": [
            "100%|██████████| 101/101 [00:11<00:00,  8.74it/s]\n"
          ]
        },
        {
          "output_type": "stream",
          "name": "stdout",
          "text": [
            "Epoch: 128 | Epoch Time: 0m 12s\n",
            "\t Val. Loss: 1.298 |  Val. Acc: 57.50%\n",
            "\tTrain Loss: 0.244 | Train Acc: 89.10%\n"
          ]
        },
        {
          "output_type": "stream",
          "name": "stderr",
          "text": [
            "100%|██████████| 101/101 [00:12<00:00,  8.35it/s]\n"
          ]
        },
        {
          "output_type": "stream",
          "name": "stdout",
          "text": [
            "Epoch: 129 | Epoch Time: 0m 12s\n",
            "\t Val. Loss: 1.384 |  Val. Acc: 55.28%\n",
            "\tTrain Loss: 0.235 | Train Acc: 89.50%\n"
          ]
        },
        {
          "output_type": "stream",
          "name": "stderr",
          "text": [
            "100%|██████████| 101/101 [00:11<00:00,  8.63it/s]\n"
          ]
        },
        {
          "output_type": "stream",
          "name": "stdout",
          "text": [
            "Epoch: 130 | Epoch Time: 0m 12s\n",
            "\t Val. Loss: 1.484 |  Val. Acc: 51.25%\n",
            "\tTrain Loss: 0.218 | Train Acc: 89.98%\n"
          ]
        },
        {
          "output_type": "stream",
          "name": "stderr",
          "text": [
            "100%|██████████| 101/101 [00:11<00:00,  8.75it/s]\n"
          ]
        },
        {
          "output_type": "stream",
          "name": "stdout",
          "text": [
            "Epoch: 131 | Epoch Time: 0m 12s\n",
            "\t Val. Loss: 1.513 |  Val. Acc: 54.86%\n",
            "\tTrain Loss: 0.218 | Train Acc: 90.25%\n"
          ]
        },
        {
          "output_type": "stream",
          "name": "stderr",
          "text": [
            "100%|██████████| 101/101 [00:12<00:00,  8.29it/s]\n"
          ]
        },
        {
          "output_type": "stream",
          "name": "stdout",
          "text": [
            "Epoch: 132 | Epoch Time: 0m 12s\n",
            "\t Val. Loss: 1.342 |  Val. Acc: 55.69%\n",
            "\tTrain Loss: 0.207 | Train Acc: 90.35%\n"
          ]
        },
        {
          "output_type": "stream",
          "name": "stderr",
          "text": [
            "100%|██████████| 101/101 [00:11<00:00,  8.70it/s]\n"
          ]
        },
        {
          "output_type": "stream",
          "name": "stdout",
          "text": [
            "Epoch: 133 | Epoch Time: 0m 12s\n",
            "\t Val. Loss: 1.426 |  Val. Acc: 55.28%\n",
            "\tTrain Loss: 0.227 | Train Acc: 90.02%\n"
          ]
        },
        {
          "output_type": "stream",
          "name": "stderr",
          "text": [
            "100%|██████████| 101/101 [00:11<00:00,  8.80it/s]\n"
          ]
        },
        {
          "output_type": "stream",
          "name": "stdout",
          "text": [
            "Epoch: 134 | Epoch Time: 0m 11s\n",
            "\t Val. Loss: 1.421 |  Val. Acc: 58.75%\n",
            "\tTrain Loss: 0.230 | Train Acc: 89.81%\n"
          ]
        },
        {
          "output_type": "stream",
          "name": "stderr",
          "text": [
            "100%|██████████| 101/101 [00:11<00:00,  8.52it/s]\n"
          ]
        },
        {
          "output_type": "stream",
          "name": "stdout",
          "text": [
            "Epoch: 135 | Epoch Time: 0m 12s\n",
            "\t Val. Loss: 1.469 |  Val. Acc: 56.11%\n",
            "\tTrain Loss: 0.231 | Train Acc: 90.04%\n"
          ]
        },
        {
          "output_type": "stream",
          "name": "stderr",
          "text": [
            "100%|██████████| 101/101 [00:11<00:00,  8.52it/s]\n"
          ]
        },
        {
          "output_type": "stream",
          "name": "stdout",
          "text": [
            "Epoch: 136 | Epoch Time: 0m 12s\n",
            "\t Val. Loss: 1.501 |  Val. Acc: 56.67%\n",
            "\tTrain Loss: 0.248 | Train Acc: 89.22%\n"
          ]
        },
        {
          "output_type": "stream",
          "name": "stderr",
          "text": [
            "100%|██████████| 101/101 [00:11<00:00,  8.45it/s]\n"
          ]
        },
        {
          "output_type": "stream",
          "name": "stdout",
          "text": [
            "Epoch: 137 | Epoch Time: 0m 12s\n",
            "\t Val. Loss: 1.530 |  Val. Acc: 56.94%\n",
            "\tTrain Loss: 0.214 | Train Acc: 90.74%\n"
          ]
        },
        {
          "output_type": "stream",
          "name": "stderr",
          "text": [
            "100%|██████████| 101/101 [00:11<00:00,  8.83it/s]\n"
          ]
        },
        {
          "output_type": "stream",
          "name": "stdout",
          "text": [
            "Epoch: 138 | Epoch Time: 0m 11s\n",
            "\t Val. Loss: 1.367 |  Val. Acc: 58.33%\n",
            "\tTrain Loss: 0.223 | Train Acc: 89.81%\n"
          ]
        },
        {
          "output_type": "stream",
          "name": "stderr",
          "text": [
            "100%|██████████| 101/101 [00:11<00:00,  8.51it/s]\n"
          ]
        },
        {
          "output_type": "stream",
          "name": "stdout",
          "text": [
            "Epoch: 139 | Epoch Time: 0m 12s\n",
            "\t Val. Loss: 1.443 |  Val. Acc: 58.19%\n",
            "\tTrain Loss: 0.212 | Train Acc: 90.62%\n"
          ]
        },
        {
          "output_type": "stream",
          "name": "stderr",
          "text": [
            "100%|██████████| 101/101 [00:12<00:00,  8.32it/s]\n"
          ]
        },
        {
          "output_type": "stream",
          "name": "stdout",
          "text": [
            "Epoch: 140 | Epoch Time: 0m 12s\n",
            "\t Val. Loss: 1.357 |  Val. Acc: 63.19%\n",
            "\tTrain Loss: 0.219 | Train Acc: 89.91%\n"
          ]
        },
        {
          "output_type": "stream",
          "name": "stderr",
          "text": [
            "100%|██████████| 101/101 [00:11<00:00,  8.61it/s]\n"
          ]
        },
        {
          "output_type": "stream",
          "name": "stdout",
          "text": [
            "Epoch: 141 | Epoch Time: 0m 12s\n",
            "\t Val. Loss: 1.567 |  Val. Acc: 53.33%\n",
            "\tTrain Loss: 0.202 | Train Acc: 90.87%\n"
          ]
        },
        {
          "output_type": "stream",
          "name": "stderr",
          "text": [
            "100%|██████████| 101/101 [00:11<00:00,  8.81it/s]\n"
          ]
        },
        {
          "output_type": "stream",
          "name": "stdout",
          "text": [
            "Epoch: 142 | Epoch Time: 0m 11s\n",
            "\t Val. Loss: 1.710 |  Val. Acc: 56.25%\n",
            "\tTrain Loss: 0.217 | Train Acc: 91.21%\n"
          ]
        },
        {
          "output_type": "stream",
          "name": "stderr",
          "text": [
            "100%|██████████| 101/101 [00:11<00:00,  8.49it/s]\n"
          ]
        },
        {
          "output_type": "stream",
          "name": "stdout",
          "text": [
            "Epoch: 143 | Epoch Time: 0m 12s\n",
            "\t Val. Loss: 1.568 |  Val. Acc: 56.25%\n",
            "\tTrain Loss: 0.192 | Train Acc: 91.77%\n"
          ]
        },
        {
          "output_type": "stream",
          "name": "stderr",
          "text": [
            "100%|██████████| 101/101 [00:12<00:00,  8.37it/s]\n"
          ]
        },
        {
          "output_type": "stream",
          "name": "stdout",
          "text": [
            "Epoch: 144 | Epoch Time: 0m 12s\n",
            "\t Val. Loss: 1.329 |  Val. Acc: 57.08%\n",
            "\tTrain Loss: 0.206 | Train Acc: 91.15%\n"
          ]
        },
        {
          "output_type": "stream",
          "name": "stderr",
          "text": [
            "100%|██████████| 101/101 [00:12<00:00,  8.34it/s]\n"
          ]
        },
        {
          "output_type": "stream",
          "name": "stdout",
          "text": [
            "Epoch: 145 | Epoch Time: 0m 12s\n",
            "\t Val. Loss: 1.271 |  Val. Acc: 58.33%\n",
            "\tTrain Loss: 0.200 | Train Acc: 90.78%\n"
          ]
        },
        {
          "output_type": "stream",
          "name": "stderr",
          "text": [
            "100%|██████████| 101/101 [00:11<00:00,  8.67it/s]\n"
          ]
        },
        {
          "output_type": "stream",
          "name": "stdout",
          "text": [
            "Epoch: 146 | Epoch Time: 0m 12s\n",
            "\t Val. Loss: 1.460 |  Val. Acc: 56.25%\n",
            "\tTrain Loss: 0.196 | Train Acc: 91.34%\n"
          ]
        },
        {
          "output_type": "stream",
          "name": "stderr",
          "text": [
            "100%|██████████| 101/101 [00:12<00:00,  8.33it/s]\n"
          ]
        },
        {
          "output_type": "stream",
          "name": "stdout",
          "text": [
            "Epoch: 147 | Epoch Time: 0m 12s\n",
            "\t Val. Loss: 1.586 |  Val. Acc: 58.61%\n",
            "\tTrain Loss: 0.184 | Train Acc: 91.98%\n"
          ]
        },
        {
          "output_type": "stream",
          "name": "stderr",
          "text": [
            "100%|██████████| 101/101 [00:11<00:00,  8.82it/s]\n"
          ]
        },
        {
          "output_type": "stream",
          "name": "stdout",
          "text": [
            "Epoch: 148 | Epoch Time: 0m 11s\n",
            "\t Val. Loss: 1.430 |  Val. Acc: 57.92%\n",
            "\tTrain Loss: 0.202 | Train Acc: 90.99%\n"
          ]
        },
        {
          "output_type": "stream",
          "name": "stderr",
          "text": [
            "100%|██████████| 101/101 [00:12<00:00,  8.28it/s]\n"
          ]
        },
        {
          "output_type": "stream",
          "name": "stdout",
          "text": [
            "Epoch: 149 | Epoch Time: 0m 12s\n",
            "\t Val. Loss: 1.644 |  Val. Acc: 55.69%\n",
            "\tTrain Loss: 0.206 | Train Acc: 90.41%\n"
          ]
        },
        {
          "output_type": "stream",
          "name": "stderr",
          "text": [
            "100%|██████████| 101/101 [00:12<00:00,  8.18it/s]\n"
          ]
        },
        {
          "output_type": "stream",
          "name": "stdout",
          "text": [
            "Epoch: 150 | Epoch Time: 0m 12s\n",
            "\t Val. Loss: 1.514 |  Val. Acc: 56.53%\n",
            "\tTrain Loss: 0.186 | Train Acc: 91.53%\n"
          ]
        },
        {
          "output_type": "stream",
          "name": "stderr",
          "text": [
            "100%|██████████| 101/101 [00:11<00:00,  8.71it/s]\n"
          ]
        },
        {
          "output_type": "stream",
          "name": "stdout",
          "text": [
            "Epoch: 151 | Epoch Time: 0m 12s\n",
            "\t Val. Loss: 1.497 |  Val. Acc: 58.61%\n",
            "\tTrain Loss: 0.166 | Train Acc: 92.35%\n"
          ]
        },
        {
          "output_type": "stream",
          "name": "stderr",
          "text": [
            "100%|██████████| 101/101 [00:11<00:00,  8.46it/s]\n"
          ]
        },
        {
          "output_type": "stream",
          "name": "stdout",
          "text": [
            "Epoch: 152 | Epoch Time: 0m 12s\n",
            "\t Val. Loss: 1.406 |  Val. Acc: 56.67%\n",
            "\tTrain Loss: 0.201 | Train Acc: 91.34%\n"
          ]
        },
        {
          "output_type": "stream",
          "name": "stderr",
          "text": [
            "100%|██████████| 101/101 [00:11<00:00,  8.54it/s]\n"
          ]
        },
        {
          "output_type": "stream",
          "name": "stdout",
          "text": [
            "Epoch: 153 | Epoch Time: 0m 12s\n",
            "\t Val. Loss: 1.464 |  Val. Acc: 56.94%\n",
            "\tTrain Loss: 0.164 | Train Acc: 92.00%\n"
          ]
        },
        {
          "output_type": "stream",
          "name": "stderr",
          "text": [
            "100%|██████████| 101/101 [00:11<00:00,  8.67it/s]\n"
          ]
        },
        {
          "output_type": "stream",
          "name": "stdout",
          "text": [
            "Epoch: 154 | Epoch Time: 0m 12s\n",
            "\t Val. Loss: 1.476 |  Val. Acc: 61.11%\n",
            "\tTrain Loss: 0.184 | Train Acc: 91.83%\n"
          ]
        },
        {
          "output_type": "stream",
          "name": "stderr",
          "text": [
            "100%|██████████| 101/101 [00:11<00:00,  8.53it/s]\n"
          ]
        },
        {
          "output_type": "stream",
          "name": "stdout",
          "text": [
            "Epoch: 155 | Epoch Time: 0m 12s\n",
            "\t Val. Loss: 1.773 |  Val. Acc: 56.11%\n",
            "\tTrain Loss: 0.164 | Train Acc: 92.93%\n"
          ]
        },
        {
          "output_type": "stream",
          "name": "stderr",
          "text": [
            "100%|██████████| 101/101 [00:11<00:00,  8.91it/s]\n"
          ]
        },
        {
          "output_type": "stream",
          "name": "stdout",
          "text": [
            "Epoch: 156 | Epoch Time: 0m 11s\n",
            "\t Val. Loss: 1.732 |  Val. Acc: 57.92%\n",
            "\tTrain Loss: 0.163 | Train Acc: 92.20%\n"
          ]
        },
        {
          "output_type": "stream",
          "name": "stderr",
          "text": [
            "100%|██████████| 101/101 [00:11<00:00,  8.58it/s]\n"
          ]
        },
        {
          "output_type": "stream",
          "name": "stdout",
          "text": [
            "Epoch: 157 | Epoch Time: 0m 12s\n",
            "\t Val. Loss: 1.534 |  Val. Acc: 60.42%\n",
            "\tTrain Loss: 0.159 | Train Acc: 93.09%\n"
          ]
        },
        {
          "output_type": "stream",
          "name": "stderr",
          "text": [
            "100%|██████████| 101/101 [00:11<00:00,  8.65it/s]\n"
          ]
        },
        {
          "output_type": "stream",
          "name": "stdout",
          "text": [
            "Epoch: 158 | Epoch Time: 0m 12s\n",
            "\t Val. Loss: 1.495 |  Val. Acc: 56.67%\n",
            "\tTrain Loss: 0.166 | Train Acc: 93.07%\n"
          ]
        },
        {
          "output_type": "stream",
          "name": "stderr",
          "text": [
            "100%|██████████| 101/101 [00:11<00:00,  8.51it/s]\n"
          ]
        },
        {
          "output_type": "stream",
          "name": "stdout",
          "text": [
            "Epoch: 159 | Epoch Time: 0m 12s\n",
            "\t Val. Loss: 1.510 |  Val. Acc: 59.72%\n",
            "\tTrain Loss: 0.161 | Train Acc: 92.72%\n"
          ]
        },
        {
          "output_type": "stream",
          "name": "stderr",
          "text": [
            "100%|██████████| 101/101 [00:11<00:00,  8.65it/s]\n"
          ]
        },
        {
          "output_type": "stream",
          "name": "stdout",
          "text": [
            "Epoch: 160 | Epoch Time: 0m 12s\n",
            "\t Val. Loss: 1.525 |  Val. Acc: 56.67%\n",
            "\tTrain Loss: 0.195 | Train Acc: 91.16%\n"
          ]
        },
        {
          "output_type": "stream",
          "name": "stderr",
          "text": [
            "100%|██████████| 101/101 [00:11<00:00,  8.51it/s]\n"
          ]
        },
        {
          "output_type": "stream",
          "name": "stdout",
          "text": [
            "Epoch: 161 | Epoch Time: 0m 12s\n",
            "\t Val. Loss: 1.368 |  Val. Acc: 59.17%\n",
            "\tTrain Loss: 0.177 | Train Acc: 93.01%\n"
          ]
        },
        {
          "output_type": "stream",
          "name": "stderr",
          "text": [
            "100%|██████████| 101/101 [00:11<00:00,  8.55it/s]\n"
          ]
        },
        {
          "output_type": "stream",
          "name": "stdout",
          "text": [
            "Epoch: 162 | Epoch Time: 0m 12s\n",
            "\t Val. Loss: 1.610 |  Val. Acc: 59.03%\n",
            "\tTrain Loss: 0.156 | Train Acc: 93.37%\n"
          ]
        },
        {
          "output_type": "stream",
          "name": "stderr",
          "text": [
            "100%|██████████| 101/101 [00:11<00:00,  8.59it/s]\n"
          ]
        },
        {
          "output_type": "stream",
          "name": "stdout",
          "text": [
            "Epoch: 163 | Epoch Time: 0m 12s\n",
            "\t Val. Loss: 1.387 |  Val. Acc: 59.44%\n",
            "\tTrain Loss: 0.175 | Train Acc: 91.98%\n"
          ]
        },
        {
          "output_type": "stream",
          "name": "stderr",
          "text": [
            "100%|██████████| 101/101 [00:11<00:00,  8.96it/s]\n"
          ]
        },
        {
          "output_type": "stream",
          "name": "stdout",
          "text": [
            "Epoch: 164 | Epoch Time: 0m 11s\n",
            "\t Val. Loss: 1.535 |  Val. Acc: 58.33%\n",
            "\tTrain Loss: 0.178 | Train Acc: 91.79%\n"
          ]
        },
        {
          "output_type": "stream",
          "name": "stderr",
          "text": [
            "100%|██████████| 101/101 [00:11<00:00,  8.68it/s]\n"
          ]
        },
        {
          "output_type": "stream",
          "name": "stdout",
          "text": [
            "Epoch: 165 | Epoch Time: 0m 12s\n",
            "\t Val. Loss: 1.408 |  Val. Acc: 55.42%\n",
            "\tTrain Loss: 0.177 | Train Acc: 93.09%\n"
          ]
        },
        {
          "output_type": "stream",
          "name": "stderr",
          "text": [
            "100%|██████████| 101/101 [00:12<00:00,  8.24it/s]\n"
          ]
        },
        {
          "output_type": "stream",
          "name": "stdout",
          "text": [
            "Epoch: 166 | Epoch Time: 0m 12s\n",
            "\t Val. Loss: 1.434 |  Val. Acc: 60.83%\n",
            "\tTrain Loss: 0.142 | Train Acc: 93.87%\n"
          ]
        },
        {
          "output_type": "stream",
          "name": "stderr",
          "text": [
            "100%|██████████| 101/101 [00:12<00:00,  8.24it/s]\n"
          ]
        },
        {
          "output_type": "stream",
          "name": "stdout",
          "text": [
            "Epoch: 167 | Epoch Time: 0m 12s\n",
            "\t Val. Loss: 1.480 |  Val. Acc: 55.28%\n",
            "\tTrain Loss: 0.174 | Train Acc: 92.25%\n"
          ]
        },
        {
          "output_type": "stream",
          "name": "stderr",
          "text": [
            "100%|██████████| 101/101 [00:11<00:00,  8.68it/s]\n"
          ]
        },
        {
          "output_type": "stream",
          "name": "stdout",
          "text": [
            "Epoch: 168 | Epoch Time: 0m 12s\n",
            "\t Val. Loss: 1.528 |  Val. Acc: 59.44%\n",
            "\tTrain Loss: 0.160 | Train Acc: 92.66%\n"
          ]
        },
        {
          "output_type": "stream",
          "name": "stderr",
          "text": [
            "100%|██████████| 101/101 [00:11<00:00,  8.69it/s]\n"
          ]
        },
        {
          "output_type": "stream",
          "name": "stdout",
          "text": [
            "Epoch: 169 | Epoch Time: 0m 12s\n",
            "\t Val. Loss: 1.432 |  Val. Acc: 61.11%\n",
            "\tTrain Loss: 0.140 | Train Acc: 93.40%\n"
          ]
        },
        {
          "output_type": "stream",
          "name": "stderr",
          "text": [
            "100%|██████████| 101/101 [00:11<00:00,  8.50it/s]\n"
          ]
        },
        {
          "output_type": "stream",
          "name": "stdout",
          "text": [
            "Epoch: 170 | Epoch Time: 0m 12s\n",
            "\t Val. Loss: 1.453 |  Val. Acc: 60.00%\n",
            "\tTrain Loss: 0.182 | Train Acc: 92.35%\n"
          ]
        },
        {
          "output_type": "stream",
          "name": "stderr",
          "text": [
            "100%|██████████| 101/101 [00:12<00:00,  8.41it/s]\n"
          ]
        },
        {
          "output_type": "stream",
          "name": "stdout",
          "text": [
            "Epoch: 171 | Epoch Time: 0m 12s\n",
            "\t Val. Loss: 1.657 |  Val. Acc: 55.69%\n",
            "\tTrain Loss: 0.136 | Train Acc: 94.25%\n"
          ]
        },
        {
          "output_type": "stream",
          "name": "stderr",
          "text": [
            "100%|██████████| 101/101 [00:11<00:00,  8.50it/s]\n"
          ]
        },
        {
          "output_type": "stream",
          "name": "stdout",
          "text": [
            "Epoch: 172 | Epoch Time: 0m 12s\n",
            "\t Val. Loss: 1.551 |  Val. Acc: 59.44%\n",
            "\tTrain Loss: 0.130 | Train Acc: 93.96%\n"
          ]
        },
        {
          "output_type": "stream",
          "name": "stderr",
          "text": [
            "100%|██████████| 101/101 [00:11<00:00,  8.44it/s]\n"
          ]
        },
        {
          "output_type": "stream",
          "name": "stdout",
          "text": [
            "Epoch: 173 | Epoch Time: 0m 12s\n",
            "\t Val. Loss: 1.511 |  Val. Acc: 57.36%\n",
            "\tTrain Loss: 0.154 | Train Acc: 93.37%\n"
          ]
        },
        {
          "output_type": "stream",
          "name": "stderr",
          "text": [
            "100%|██████████| 101/101 [00:11<00:00,  8.73it/s]\n"
          ]
        },
        {
          "output_type": "stream",
          "name": "stdout",
          "text": [
            "Epoch: 174 | Epoch Time: 0m 12s\n",
            "\t Val. Loss: 1.471 |  Val. Acc: 58.75%\n",
            "\tTrain Loss: 0.170 | Train Acc: 92.62%\n"
          ]
        },
        {
          "output_type": "stream",
          "name": "stderr",
          "text": [
            "100%|██████████| 101/101 [00:11<00:00,  8.60it/s]\n"
          ]
        },
        {
          "output_type": "stream",
          "name": "stdout",
          "text": [
            "Epoch: 175 | Epoch Time: 0m 12s\n",
            "\t Val. Loss: 1.524 |  Val. Acc: 59.44%\n",
            "\tTrain Loss: 0.152 | Train Acc: 93.56%\n"
          ]
        },
        {
          "output_type": "stream",
          "name": "stderr",
          "text": [
            "100%|██████████| 101/101 [00:11<00:00,  8.60it/s]\n"
          ]
        },
        {
          "output_type": "stream",
          "name": "stdout",
          "text": [
            "Epoch: 176 | Epoch Time: 0m 12s\n",
            "\t Val. Loss: 1.487 |  Val. Acc: 59.44%\n",
            "\tTrain Loss: 0.159 | Train Acc: 93.30%\n"
          ]
        },
        {
          "output_type": "stream",
          "name": "stderr",
          "text": [
            "100%|██████████| 101/101 [00:11<00:00,  8.56it/s]\n"
          ]
        },
        {
          "output_type": "stream",
          "name": "stdout",
          "text": [
            "Epoch: 177 | Epoch Time: 0m 12s\n",
            "\t Val. Loss: 1.415 |  Val. Acc: 58.61%\n",
            "\tTrain Loss: 0.171 | Train Acc: 92.78%\n"
          ]
        },
        {
          "output_type": "stream",
          "name": "stderr",
          "text": [
            "100%|██████████| 101/101 [00:11<00:00,  8.83it/s]\n"
          ]
        },
        {
          "output_type": "stream",
          "name": "stdout",
          "text": [
            "Epoch: 178 | Epoch Time: 0m 11s\n",
            "\t Val. Loss: 1.388 |  Val. Acc: 56.53%\n",
            "\tTrain Loss: 0.112 | Train Acc: 95.75%\n"
          ]
        },
        {
          "output_type": "stream",
          "name": "stderr",
          "text": [
            "100%|██████████| 101/101 [00:12<00:00,  8.40it/s]\n"
          ]
        },
        {
          "output_type": "stream",
          "name": "stdout",
          "text": [
            "Epoch: 179 | Epoch Time: 0m 12s\n",
            "\t Val. Loss: 1.475 |  Val. Acc: 60.00%\n",
            "\tTrain Loss: 0.130 | Train Acc: 94.46%\n"
          ]
        },
        {
          "output_type": "stream",
          "name": "stderr",
          "text": [
            "100%|██████████| 101/101 [00:11<00:00,  8.46it/s]\n"
          ]
        },
        {
          "output_type": "stream",
          "name": "stdout",
          "text": [
            "Epoch: 180 | Epoch Time: 0m 12s\n",
            "\t Val. Loss: 1.468 |  Val. Acc: 58.33%\n",
            "\tTrain Loss: 0.143 | Train Acc: 93.90%\n"
          ]
        },
        {
          "output_type": "stream",
          "name": "stderr",
          "text": [
            "100%|██████████| 101/101 [00:11<00:00,  8.77it/s]\n"
          ]
        },
        {
          "output_type": "stream",
          "name": "stdout",
          "text": [
            "Epoch: 181 | Epoch Time: 0m 12s\n",
            "\t Val. Loss: 1.580 |  Val. Acc: 62.78%\n",
            "\tTrain Loss: 0.141 | Train Acc: 94.31%\n"
          ]
        },
        {
          "output_type": "stream",
          "name": "stderr",
          "text": [
            "100%|██████████| 101/101 [00:11<00:00,  8.74it/s]\n"
          ]
        },
        {
          "output_type": "stream",
          "name": "stdout",
          "text": [
            "Epoch: 182 | Epoch Time: 0m 12s\n",
            "\t Val. Loss: 1.781 |  Val. Acc: 57.36%\n",
            "\tTrain Loss: 0.116 | Train Acc: 95.30%\n"
          ]
        },
        {
          "output_type": "stream",
          "name": "stderr",
          "text": [
            "100%|██████████| 101/101 [00:12<00:00,  8.30it/s]\n"
          ]
        },
        {
          "output_type": "stream",
          "name": "stdout",
          "text": [
            "Epoch: 183 | Epoch Time: 0m 12s\n",
            "\t Val. Loss: 1.501 |  Val. Acc: 60.69%\n",
            "\tTrain Loss: 0.175 | Train Acc: 92.26%\n"
          ]
        },
        {
          "output_type": "stream",
          "name": "stderr",
          "text": [
            "100%|██████████| 101/101 [00:11<00:00,  8.67it/s]\n"
          ]
        },
        {
          "output_type": "stream",
          "name": "stdout",
          "text": [
            "Epoch: 184 | Epoch Time: 0m 12s\n",
            "\t Val. Loss: 1.389 |  Val. Acc: 55.83%\n",
            "\tTrain Loss: 0.135 | Train Acc: 93.81%\n"
          ]
        },
        {
          "output_type": "stream",
          "name": "stderr",
          "text": [
            "100%|██████████| 101/101 [00:11<00:00,  8.56it/s]\n"
          ]
        },
        {
          "output_type": "stream",
          "name": "stdout",
          "text": [
            "Epoch: 185 | Epoch Time: 0m 12s\n",
            "\t Val. Loss: 1.476 |  Val. Acc: 60.28%\n",
            "\tTrain Loss: 0.154 | Train Acc: 93.22%\n"
          ]
        },
        {
          "output_type": "stream",
          "name": "stderr",
          "text": [
            "100%|██████████| 101/101 [00:12<00:00,  8.32it/s]\n"
          ]
        },
        {
          "output_type": "stream",
          "name": "stdout",
          "text": [
            "Epoch: 186 | Epoch Time: 0m 12s\n",
            "\t Val. Loss: 1.473 |  Val. Acc: 56.11%\n",
            "\tTrain Loss: 0.119 | Train Acc: 95.17%\n"
          ]
        },
        {
          "output_type": "stream",
          "name": "stderr",
          "text": [
            "100%|██████████| 101/101 [00:11<00:00,  8.90it/s]\n"
          ]
        },
        {
          "output_type": "stream",
          "name": "stdout",
          "text": [
            "Epoch: 187 | Epoch Time: 0m 11s\n",
            "\t Val. Loss: 1.501 |  Val. Acc: 55.28%\n",
            "\tTrain Loss: 0.138 | Train Acc: 94.06%\n"
          ]
        },
        {
          "output_type": "stream",
          "name": "stderr",
          "text": [
            "100%|██████████| 101/101 [00:11<00:00,  8.44it/s]\n"
          ]
        },
        {
          "output_type": "stream",
          "name": "stdout",
          "text": [
            "Epoch: 188 | Epoch Time: 0m 12s\n",
            "\t Val. Loss: 1.529 |  Val. Acc: 59.86%\n",
            "\tTrain Loss: 0.138 | Train Acc: 94.00%\n"
          ]
        },
        {
          "output_type": "stream",
          "name": "stderr",
          "text": [
            "100%|██████████| 101/101 [00:11<00:00,  8.52it/s]\n"
          ]
        },
        {
          "output_type": "stream",
          "name": "stdout",
          "text": [
            "Epoch: 189 | Epoch Time: 0m 12s\n",
            "\t Val. Loss: 1.480 |  Val. Acc: 61.11%\n",
            "\tTrain Loss: 0.142 | Train Acc: 94.37%\n"
          ]
        },
        {
          "output_type": "stream",
          "name": "stderr",
          "text": [
            "100%|██████████| 101/101 [00:11<00:00,  8.53it/s]\n"
          ]
        },
        {
          "output_type": "stream",
          "name": "stdout",
          "text": [
            "Epoch: 190 | Epoch Time: 0m 12s\n",
            "\t Val. Loss: 1.527 |  Val. Acc: 56.94%\n",
            "\tTrain Loss: 0.119 | Train Acc: 94.74%\n"
          ]
        },
        {
          "output_type": "stream",
          "name": "stderr",
          "text": [
            "100%|██████████| 101/101 [00:11<00:00,  8.85it/s]\n"
          ]
        },
        {
          "output_type": "stream",
          "name": "stdout",
          "text": [
            "Epoch: 191 | Epoch Time: 0m 11s\n",
            "\t Val. Loss: 1.531 |  Val. Acc: 60.83%\n",
            "\tTrain Loss: 0.119 | Train Acc: 94.99%\n"
          ]
        },
        {
          "output_type": "stream",
          "name": "stderr",
          "text": [
            "100%|██████████| 101/101 [00:11<00:00,  8.67it/s]\n"
          ]
        },
        {
          "output_type": "stream",
          "name": "stdout",
          "text": [
            "Epoch: 192 | Epoch Time: 0m 12s\n",
            "\t Val. Loss: 1.603 |  Val. Acc: 58.61%\n",
            "\tTrain Loss: 0.101 | Train Acc: 95.88%\n"
          ]
        },
        {
          "output_type": "stream",
          "name": "stderr",
          "text": [
            "100%|██████████| 101/101 [00:11<00:00,  8.84it/s]\n"
          ]
        },
        {
          "output_type": "stream",
          "name": "stdout",
          "text": [
            "Epoch: 193 | Epoch Time: 0m 11s\n",
            "\t Val. Loss: 1.604 |  Val. Acc: 57.78%\n",
            "\tTrain Loss: 0.125 | Train Acc: 94.58%\n"
          ]
        },
        {
          "output_type": "stream",
          "name": "stderr",
          "text": [
            "100%|██████████| 101/101 [00:11<00:00,  8.49it/s]\n"
          ]
        },
        {
          "output_type": "stream",
          "name": "stdout",
          "text": [
            "Epoch: 194 | Epoch Time: 0m 12s\n",
            "\t Val. Loss: 1.567 |  Val. Acc: 58.19%\n",
            "\tTrain Loss: 0.129 | Train Acc: 94.54%\n"
          ]
        },
        {
          "output_type": "stream",
          "name": "stderr",
          "text": [
            "100%|██████████| 101/101 [00:11<00:00,  8.83it/s]\n"
          ]
        },
        {
          "output_type": "stream",
          "name": "stdout",
          "text": [
            "Epoch: 195 | Epoch Time: 0m 11s\n",
            "\t Val. Loss: 1.520 |  Val. Acc: 59.86%\n",
            "\tTrain Loss: 0.121 | Train Acc: 95.17%\n"
          ]
        },
        {
          "output_type": "stream",
          "name": "stderr",
          "text": [
            "100%|██████████| 101/101 [00:11<00:00,  8.69it/s]\n"
          ]
        },
        {
          "output_type": "stream",
          "name": "stdout",
          "text": [
            "Epoch: 196 | Epoch Time: 0m 12s\n",
            "\t Val. Loss: 1.668 |  Val. Acc: 55.28%\n",
            "\tTrain Loss: 0.104 | Train Acc: 95.45%\n"
          ]
        },
        {
          "output_type": "stream",
          "name": "stderr",
          "text": [
            "100%|██████████| 101/101 [00:11<00:00,  8.83it/s]\n"
          ]
        },
        {
          "output_type": "stream",
          "name": "stdout",
          "text": [
            "Epoch: 197 | Epoch Time: 0m 11s\n",
            "\t Val. Loss: 1.529 |  Val. Acc: 60.42%\n",
            "\tTrain Loss: 0.106 | Train Acc: 95.69%\n"
          ]
        },
        {
          "output_type": "stream",
          "name": "stderr",
          "text": [
            "100%|██████████| 101/101 [00:11<00:00,  8.62it/s]\n"
          ]
        },
        {
          "output_type": "stream",
          "name": "stdout",
          "text": [
            "Epoch: 198 | Epoch Time: 0m 12s\n",
            "\t Val. Loss: 1.756 |  Val. Acc: 57.08%\n",
            "\tTrain Loss: 0.122 | Train Acc: 95.32%\n"
          ]
        },
        {
          "output_type": "stream",
          "name": "stderr",
          "text": [
            "100%|██████████| 101/101 [00:12<00:00,  8.42it/s]\n"
          ]
        },
        {
          "output_type": "stream",
          "name": "stdout",
          "text": [
            "Epoch: 199 | Epoch Time: 0m 12s\n",
            "\t Val. Loss: 1.597 |  Val. Acc: 59.17%\n",
            "\tTrain Loss: 0.100 | Train Acc: 95.73%\n"
          ]
        },
        {
          "output_type": "stream",
          "name": "stderr",
          "text": [
            "100%|██████████| 101/101 [00:11<00:00,  8.64it/s]\n"
          ]
        },
        {
          "output_type": "stream",
          "name": "stdout",
          "text": [
            "Epoch: 200 | Epoch Time: 0m 12s\n",
            "\t Val. Loss: 1.629 |  Val. Acc: 59.17%\n",
            "\tTrain Loss: 0.139 | Train Acc: 94.64%\n"
          ]
        }
      ],
      "source": [
        "from sklearn.utils.class_weight import compute_class_weight\n",
        "\n",
        "train_iter, valid_iter, test_iter = load_data()\n",
        "\n",
        "optimizer = optim.Adam(model.parameters(),lr=0.00005)\n",
        "\n",
        "# criterion = nn.CrossEntropyLoss().to(device)\n",
        "\n",
        "# กำหนด Class Weight\n",
        "encoder = LabelEncoder()\n",
        "encoded_train_labels = encoder.fit_transform(train_labels)\n",
        "class_weights = compute_class_weight('balanced', classes=np.unique(encoded_train_labels), y=encoded_train_labels)\n",
        "criterion = nn.CrossEntropyLoss(weight=torch.Tensor(class_weights).to(device)).to(device)\n",
        "\n",
        "model = model.to(device)\n",
        "\n",
        "best_val_loss = float('inf')\n",
        "\n",
        "for epoch in range(N_EPOCHS):\n",
        "  # start time\n",
        "  start_time = time.time()\n",
        "  # train for an epoch\n",
        "  train_loss, train_acc = train(model, train_iter, optimizer, criterion)\n",
        "  valid_loss, valid_acc = evaluate(model, valid_iter, criterion)\n",
        "  # end time\n",
        "  end_time = time.time()\n",
        "  # stats\n",
        "  epoch_mins, epoch_secs = epoch_time(start_time, end_time)\n",
        "\n",
        "  train_losses.append(train_loss)\n",
        "  valid_losses.append(valid_loss)\n",
        "  train_accs.append(train_acc)\n",
        "  valid_accs.append(valid_acc)\n",
        "\n",
        "  # save model if has validation loss\n",
        "  # better than last one\n",
        "  if valid_loss < best_val_loss:\n",
        "    best_val_loss = valid_loss\n",
        "    torch.save(model.state_dict(), 'bert_model.pt')\n",
        "    print(f\"Best model saved at epoch {epoch} with validation loss: {valid_loss:.4f}\")\n",
        "  # stats\n",
        "  print(f'Epoch: {epoch+1:02} | Epoch Time: {epoch_mins}m {epoch_secs}s')\n",
        "  print(f'\\t Val. Loss: {valid_loss:.3f} |  Val. Acc: {valid_acc*100:.2f}%')\n",
        "  print(f'\\tTrain Loss: {train_loss:.3f} | Train Acc: {train_acc*100:.2f}%')"
      ]
    },
    {
      "cell_type": "code",
      "source": [
        "from transformers import AutoConfig\n",
        "\n",
        "config = AutoConfig.from_pretrained(\"airesearch/wangchanberta-base-att-spm-uncased\")\n",
        "print(config.num_hidden_layers)  # จะแสดงผลลัพธ์เป็น 12"
      ],
      "metadata": {
        "colab": {
          "base_uri": "https://localhost:8080/"
        },
        "id": "WvEI-XV8-ZFi",
        "outputId": "63f1be2e-112f-4dbe-d7a9-14165982c7ae"
      },
      "execution_count": null,
      "outputs": [
        {
          "output_type": "stream",
          "name": "stdout",
          "text": [
            "12\n"
          ]
        }
      ]
    },
    {
      "cell_type": "code",
      "source": [
        "from sklearn.metrics import classification_report\n",
        "\n",
        "# Assuming `test_iter` is your test data iterator from the training code\n",
        "# and `model` is your trained model\n",
        "all_y_true = []\n",
        "all_y_pred = []\n",
        "\n",
        "# Iterate over your test data and collect predictions\n",
        "with torch.no_grad():\n",
        "    for batch in test_iter:\n",
        "        predictions = model(batch.cleaned_review)\n",
        "        y_pred = torch.argmax(predictions, dim=1).cpu().numpy()  # Get predicted labels\n",
        "        y_true = batch.label.cpu().numpy()  # Get true labels\n",
        "        all_y_true.extend(y_true)\n",
        "        all_y_pred.extend(y_pred)\n",
        "\n",
        "# Define target names (replace with your actual target names)\n",
        "target_names = ['Positive','Neutral', 'Negative', 'Body shaming', 'Classism', 'Sexism']\n",
        "\n",
        "# Generate classification report\n",
        "report = classification_report(all_y_true, all_y_pred, target_names=target_names)\n",
        "print(report)"
      ],
      "metadata": {
        "id": "O6RBX1N73nHQ",
        "colab": {
          "base_uri": "https://localhost:8080/"
        },
        "outputId": "4f74e612-864f-4749-df15-535b92b8b917"
      },
      "execution_count": null,
      "outputs": [
        {
          "output_type": "stream",
          "name": "stdout",
          "text": [
            "              precision    recall  f1-score   support\n",
            "\n",
            "    Positive       0.66      0.38      0.49       117\n",
            "     Neutral       0.56      0.64      0.60       107\n",
            "    Negative       0.53      0.77      0.63       101\n",
            "Body shaming       0.56      0.51      0.53        49\n",
            "    Classism       0.63      0.52      0.57        46\n",
            "      Sexism       0.83      0.88      0.85        40\n",
            "\n",
            "    accuracy                           0.60       460\n",
            "   macro avg       0.63      0.62      0.61       460\n",
            "weighted avg       0.61      0.60      0.59       460\n",
            "\n"
          ]
        }
      ]
    },
    {
      "cell_type": "code",
      "source": [
        "from sklearn.metrics import confusion_matrix\n",
        "import seaborn as sns\n",
        "import matplotlib.pyplot as plt\n",
        "\n",
        "\n",
        "# สร้าง confusion matrix\n",
        "cm = confusion_matrix(all_y_true, all_y_pred)\n",
        "\n",
        "# พล็อต confusion matrix ด้วย seaborn\n",
        "plt.figure(figsize=(10, 8))\n",
        "sns.heatmap(cm, annot=True, fmt='d', cmap='Blues',\n",
        "            xticklabels=target_names, yticklabels=target_names)\n",
        "plt.xlabel('Predicted Label')\n",
        "plt.ylabel('True Label')\n",
        "plt.title('Confusion Matrix')\n",
        "plt.savefig('Confusion_Matrix.png')\n",
        "\n",
        "plt.show()"
      ],
      "metadata": {
        "id": "JqfLs2llyTen",
        "colab": {
          "base_uri": "https://localhost:8080/",
          "height": 718
        },
        "outputId": "81b83166-f7a4-479f-bcce-9dfaf24633a1"
      },
      "execution_count": null,
      "outputs": [
        {
          "output_type": "display_data",
          "data": {
            "text/plain": [
              "<Figure size 1000x800 with 2 Axes>"
            ],
            "image/png": "[encoded data removed]"
          },
          "metadata": {}
        }
      ]
    },
    {
      "cell_type": "code",
      "execution_count": null,
      "metadata": {
        "id": "OFteqrxd2Bq0",
        "colab": {
          "base_uri": "https://localhost:8080/"
        },
        "outputId": "091ea7ff-1f82-43ec-9ad3-285bd41d6391"
      },
      "outputs": [
        {
          "output_type": "stream",
          "name": "stderr",
          "text": [
            "<ipython-input-58-6cf1e5225b57>:1: FutureWarning: You are using `torch.load` with `weights_only=False` (the current default value), which uses the default pickle module implicitly. It is possible to construct malicious pickle data which will execute arbitrary code during unpickling (See https://github.com/pytorch/pytorch/blob/main/SECURITY.md#untrusted-models for more details). In a future release, the default value for `weights_only` will be flipped to `True`. This limits the functions that could be executed during unpickling. Arbitrary objects will no longer be allowed to be loaded via this mode unless they are explicitly allowlisted by the user via `torch.serialization.add_safe_globals`. We recommend you start setting `weights_only=True` for any use case where you don't have full control of the loaded file. Please open an issue on GitHub for any issues related to this experimental feature.\n",
            "  model.load_state_dict(torch.load('bert_model.pt', map_location=device))\n"
          ]
        },
        {
          "output_type": "execute_result",
          "data": {
            "text/plain": [
              "SentimentModel(\n",
              "  (bert): BertModel(\n",
              "    (embeddings): BertEmbeddings(\n",
              "      (word_embeddings): Embedding(25005, 768, padding_idx=1)\n",
              "      (position_embeddings): Embedding(512, 768)\n",
              "      (token_type_embeddings): Embedding(1, 768)\n",
              "      (LayerNorm): LayerNorm((768,), eps=1e-12, elementwise_affine=True)\n",
              "      (dropout): Dropout(p=0.1, inplace=False)\n",
              "    )\n",
              "    (encoder): BertEncoder(\n",
              "      (layer): ModuleList(\n",
              "        (0-11): 12 x BertLayer(\n",
              "          (attention): BertAttention(\n",
              "            (self): BertSdpaSelfAttention(\n",
              "              (query): Linear(in_features=768, out_features=768, bias=True)\n",
              "              (key): Linear(in_features=768, out_features=768, bias=True)\n",
              "              (value): Linear(in_features=768, out_features=768, bias=True)\n",
              "              (dropout): Dropout(p=0.1, inplace=False)\n",
              "            )\n",
              "            (output): BertSelfOutput(\n",
              "              (dense): Linear(in_features=768, out_features=768, bias=True)\n",
              "              (LayerNorm): LayerNorm((768,), eps=1e-12, elementwise_affine=True)\n",
              "              (dropout): Dropout(p=0.1, inplace=False)\n",
              "            )\n",
              "          )\n",
              "          (intermediate): BertIntermediate(\n",
              "            (dense): Linear(in_features=768, out_features=3072, bias=True)\n",
              "            (intermediate_act_fn): GELUActivation()\n",
              "          )\n",
              "          (output): BertOutput(\n",
              "            (dense): Linear(in_features=3072, out_features=768, bias=True)\n",
              "            (LayerNorm): LayerNorm((768,), eps=1e-12, elementwise_affine=True)\n",
              "            (dropout): Dropout(p=0.1, inplace=False)\n",
              "          )\n",
              "        )\n",
              "      )\n",
              "    )\n",
              "    (pooler): BertPooler(\n",
              "      (dense): Linear(in_features=768, out_features=768, bias=True)\n",
              "      (activation): Tanh()\n",
              "    )\n",
              "  )\n",
              "  (rnn): GRU(768, 256, num_layers=2, batch_first=True, dropout=0.25, bidirectional=True)\n",
              "  (out): Linear(in_features=512, out_features=6, bias=True)\n",
              "  (dropout): Dropout(p=0.25, inplace=False)\n",
              ")"
            ]
          },
          "metadata": {},
          "execution_count": 58
        }
      ],
      "source": [
        "model.load_state_dict(torch.load('bert_model.pt', map_location=device))\n",
        "model.eval() #ต้องเรียก .eval() เมื่อต้องการทดสอบโมเดลเพื่อไม่ให้เอาข้อมูลเราทดสอบไปเทรน"
      ]
    },
    {
      "cell_type": "code",
      "execution_count": null,
      "metadata": {
        "id": "2Y_5hF4nHwzR",
        "colab": {
          "base_uri": "https://localhost:8080/",
          "height": 497
        },
        "outputId": "30cbf9f1-8d1f-4fb1-d894-0b6916be527c"
      },
      "outputs": [
        {
          "output_type": "display_data",
          "data": {
            "text/plain": [
              "<Figure size 1200x600 with 2 Axes>"
            ],
            "image/png": "[encoded data removed]"
          },
          "metadata": {}
        }
      ],
      "source": [
        "import matplotlib.pyplot as plt\n",
        "\n",
        "plt.figure(figsize=(12, 6))\n",
        "\n",
        "# Plot losses\n",
        "plt.subplot(1, 2, 1)\n",
        "plt.plot(train_losses, label='Train Loss')\n",
        "plt.plot(valid_losses, label='Validation Loss')\n",
        "plt.title('Training and Validation Loss')\n",
        "plt.xlabel('Epoch')\n",
        "plt.ylabel('Loss')\n",
        "plt.legend()\n",
        "\n",
        "# Plot accuracies\n",
        "plt.subplot(1, 2, 2)\n",
        "plt.plot(train_accs, label='Train Accuracy')\n",
        "plt.plot(valid_accs, label='Validation Accuracy')\n",
        "plt.title('Training and Validation Accuracy')\n",
        "plt.xlabel('Epoch')\n",
        "plt.ylabel('Accuracy')\n",
        "plt.legend()\n",
        "\n",
        "plt.tight_layout()\n",
        "plt.savefig('training_validation_plot.png')\n",
        "plt.show()"
      ]
    },
    {
      "cell_type": "code",
      "execution_count": null,
      "metadata": {
        "id": "YWynWa95j1tu",
        "colab": {
          "base_uri": "https://localhost:8080/"
        },
        "outputId": "2b0e8068-15e1-4bae-de6e-f5ed85cb1bbf"
      },
      "outputs": [
        {
          "output_type": "stream",
          "name": "stderr",
          "text": [
            "You are using a model of type camembert to instantiate a model of type bert. This is not supported for all configurations of models and can yield errors.\n",
            "Some weights of BertModel were not initialized from the model checkpoint at airesearch/wangchanberta-base-att-spm-uncased and are newly initialized: ['embeddings.LayerNorm.bias', 'embeddings.LayerNorm.weight', 'embeddings.position_embeddings.weight', 'embeddings.token_type_embeddings.weight', 'embeddings.word_embeddings.weight', 'encoder.layer.0.attention.output.LayerNorm.bias', 'encoder.layer.0.attention.output.LayerNorm.weight', 'encoder.layer.0.attention.output.dense.bias', 'encoder.layer.0.attention.output.dense.weight', 'encoder.layer.0.attention.self.key.bias', 'encoder.layer.0.attention.self.key.weight', 'encoder.layer.0.attention.self.query.bias', 'encoder.layer.0.attention.self.query.weight', 'encoder.layer.0.attention.self.value.bias', 'encoder.layer.0.attention.self.value.weight', 'encoder.layer.0.intermediate.dense.bias', 'encoder.layer.0.intermediate.dense.weight', 'encoder.layer.0.output.LayerNorm.bias', 'encoder.layer.0.output.LayerNorm.weight', 'encoder.layer.0.output.dense.bias', 'encoder.layer.0.output.dense.weight', 'encoder.layer.1.attention.output.LayerNorm.bias', 'encoder.layer.1.attention.output.LayerNorm.weight', 'encoder.layer.1.attention.output.dense.bias', 'encoder.layer.1.attention.output.dense.weight', 'encoder.layer.1.attention.self.key.bias', 'encoder.layer.1.attention.self.key.weight', 'encoder.layer.1.attention.self.query.bias', 'encoder.layer.1.attention.self.query.weight', 'encoder.layer.1.attention.self.value.bias', 'encoder.layer.1.attention.self.value.weight', 'encoder.layer.1.intermediate.dense.bias', 'encoder.layer.1.intermediate.dense.weight', 'encoder.layer.1.output.LayerNorm.bias', 'encoder.layer.1.output.LayerNorm.weight', 'encoder.layer.1.output.dense.bias', 'encoder.layer.1.output.dense.weight', 'encoder.layer.10.attention.output.LayerNorm.bias', 'encoder.layer.10.attention.output.LayerNorm.weight', 'encoder.layer.10.attention.output.dense.bias', 'encoder.layer.10.attention.output.dense.weight', 'encoder.layer.10.attention.self.key.bias', 'encoder.layer.10.attention.self.key.weight', 'encoder.layer.10.attention.self.query.bias', 'encoder.layer.10.attention.self.query.weight', 'encoder.layer.10.attention.self.value.bias', 'encoder.layer.10.attention.self.value.weight', 'encoder.layer.10.intermediate.dense.bias', 'encoder.layer.10.intermediate.dense.weight', 'encoder.layer.10.output.LayerNorm.bias', 'encoder.layer.10.output.LayerNorm.weight', 'encoder.layer.10.output.dense.bias', 'encoder.layer.10.output.dense.weight', 'encoder.layer.11.attention.output.LayerNorm.bias', 'encoder.layer.11.attention.output.LayerNorm.weight', 'encoder.layer.11.attention.output.dense.bias', 'encoder.layer.11.attention.output.dense.weight', 'encoder.layer.11.attention.self.key.bias', 'encoder.layer.11.attention.self.key.weight', 'encoder.layer.11.attention.self.query.bias', 'encoder.layer.11.attention.self.query.weight', 'encoder.layer.11.attention.self.value.bias', 'encoder.layer.11.attention.self.value.weight', 'encoder.layer.11.intermediate.dense.bias', 'encoder.layer.11.intermediate.dense.weight', 'encoder.layer.11.output.LayerNorm.bias', 'encoder.layer.11.output.LayerNorm.weight', 'encoder.layer.11.output.dense.bias', 'encoder.layer.11.output.dense.weight', 'encoder.layer.2.attention.output.LayerNorm.bias', 'encoder.layer.2.attention.output.LayerNorm.weight', 'encoder.layer.2.attention.output.dense.bias', 'encoder.layer.2.attention.output.dense.weight', 'encoder.layer.2.attention.self.key.bias', 'encoder.layer.2.attention.self.key.weight', 'encoder.layer.2.attention.self.query.bias', 'encoder.layer.2.attention.self.query.weight', 'encoder.layer.2.attention.self.value.bias', 'encoder.layer.2.attention.self.value.weight', 'encoder.layer.2.intermediate.dense.bias', 'encoder.layer.2.intermediate.dense.weight', 'encoder.layer.2.output.LayerNorm.bias', 'encoder.layer.2.output.LayerNorm.weight', 'encoder.layer.2.output.dense.bias', 'encoder.layer.2.output.dense.weight', 'encoder.layer.3.attention.output.LayerNorm.bias', 'encoder.layer.3.attention.output.LayerNorm.weight', 'encoder.layer.3.attention.output.dense.bias', 'encoder.layer.3.attention.output.dense.weight', 'encoder.layer.3.attention.self.key.bias', 'encoder.layer.3.attention.self.key.weight', 'encoder.layer.3.attention.self.query.bias', 'encoder.layer.3.attention.self.query.weight', 'encoder.layer.3.attention.self.value.bias', 'encoder.layer.3.attention.self.value.weight', 'encoder.layer.3.intermediate.dense.bias', 'encoder.layer.3.intermediate.dense.weight', 'encoder.layer.3.output.LayerNorm.bias', 'encoder.layer.3.output.LayerNorm.weight', 'encoder.layer.3.output.dense.bias', 'encoder.layer.3.output.dense.weight', 'encoder.layer.4.attention.output.LayerNorm.bias', 'encoder.layer.4.attention.output.LayerNorm.weight', 'encoder.layer.4.attention.output.dense.bias', 'encoder.layer.4.attention.output.dense.weight', 'encoder.layer.4.attention.self.key.bias', 'encoder.layer.4.attention.self.key.weight', 'encoder.layer.4.attention.self.query.bias', 'encoder.layer.4.attention.self.query.weight', 'encoder.layer.4.attention.self.value.bias', 'encoder.layer.4.attention.self.value.weight', 'encoder.layer.4.intermediate.dense.bias', 'encoder.layer.4.intermediate.dense.weight', 'encoder.layer.4.output.LayerNorm.bias', 'encoder.layer.4.output.LayerNorm.weight', 'encoder.layer.4.output.dense.bias', 'encoder.layer.4.output.dense.weight', 'encoder.layer.5.attention.output.LayerNorm.bias', 'encoder.layer.5.attention.output.LayerNorm.weight', 'encoder.layer.5.attention.output.dense.bias', 'encoder.layer.5.attention.output.dense.weight', 'encoder.layer.5.attention.self.key.bias', 'encoder.layer.5.attention.self.key.weight', 'encoder.layer.5.attention.self.query.bias', 'encoder.layer.5.attention.self.query.weight', 'encoder.layer.5.attention.self.value.bias', 'encoder.layer.5.attention.self.value.weight', 'encoder.layer.5.intermediate.dense.bias', 'encoder.layer.5.intermediate.dense.weight', 'encoder.layer.5.output.LayerNorm.bias', 'encoder.layer.5.output.LayerNorm.weight', 'encoder.layer.5.output.dense.bias', 'encoder.layer.5.output.dense.weight', 'encoder.layer.6.attention.output.LayerNorm.bias', 'encoder.layer.6.attention.output.LayerNorm.weight', 'encoder.layer.6.attention.output.dense.bias', 'encoder.layer.6.attention.output.dense.weight', 'encoder.layer.6.attention.self.key.bias', 'encoder.layer.6.attention.self.key.weight', 'encoder.layer.6.attention.self.query.bias', 'encoder.layer.6.attention.self.query.weight', 'encoder.layer.6.attention.self.value.bias', 'encoder.layer.6.attention.self.value.weight', 'encoder.layer.6.intermediate.dense.bias', 'encoder.layer.6.intermediate.dense.weight', 'encoder.layer.6.output.LayerNorm.bias', 'encoder.layer.6.output.LayerNorm.weight', 'encoder.layer.6.output.dense.bias', 'encoder.layer.6.output.dense.weight', 'encoder.layer.7.attention.output.LayerNorm.bias', 'encoder.layer.7.attention.output.LayerNorm.weight', 'encoder.layer.7.attention.output.dense.bias', 'encoder.layer.7.attention.output.dense.weight', 'encoder.layer.7.attention.self.key.bias', 'encoder.layer.7.attention.self.key.weight', 'encoder.layer.7.attention.self.query.bias', 'encoder.layer.7.attention.self.query.weight', 'encoder.layer.7.attention.self.value.bias', 'encoder.layer.7.attention.self.value.weight', 'encoder.layer.7.intermediate.dense.bias', 'encoder.layer.7.intermediate.dense.weight', 'encoder.layer.7.output.LayerNorm.bias', 'encoder.layer.7.output.LayerNorm.weight', 'encoder.layer.7.output.dense.bias', 'encoder.layer.7.output.dense.weight', 'encoder.layer.8.attention.output.LayerNorm.bias', 'encoder.layer.8.attention.output.LayerNorm.weight', 'encoder.layer.8.attention.output.dense.bias', 'encoder.layer.8.attention.output.dense.weight', 'encoder.layer.8.attention.self.key.bias', 'encoder.layer.8.attention.self.key.weight', 'encoder.layer.8.attention.self.query.bias', 'encoder.layer.8.attention.self.query.weight', 'encoder.layer.8.attention.self.value.bias', 'encoder.layer.8.attention.self.value.weight', 'encoder.layer.8.intermediate.dense.bias', 'encoder.layer.8.intermediate.dense.weight', 'encoder.layer.8.output.LayerNorm.bias', 'encoder.layer.8.output.LayerNorm.weight', 'encoder.layer.8.output.dense.bias', 'encoder.layer.8.output.dense.weight', 'encoder.layer.9.attention.output.LayerNorm.bias', 'encoder.layer.9.attention.output.LayerNorm.weight', 'encoder.layer.9.attention.output.dense.bias', 'encoder.layer.9.attention.output.dense.weight', 'encoder.layer.9.attention.self.key.bias', 'encoder.layer.9.attention.self.key.weight', 'encoder.layer.9.attention.self.query.bias', 'encoder.layer.9.attention.self.query.weight', 'encoder.layer.9.attention.self.value.bias', 'encoder.layer.9.attention.self.value.weight', 'encoder.layer.9.intermediate.dense.bias', 'encoder.layer.9.intermediate.dense.weight', 'encoder.layer.9.output.LayerNorm.bias', 'encoder.layer.9.output.LayerNorm.weight', 'encoder.layer.9.output.dense.bias', 'encoder.layer.9.output.dense.weight', 'pooler.dense.bias', 'pooler.dense.weight']\n",
            "You should probably TRAIN this model on a down-stream task to be able to use it for predictions and inference.\n"
          ]
        },
        {
          "output_type": "stream",
          "name": "stdout",
          "text": [
            "Input shape: torch.Size([1, 18])\n",
            "Output shape: torch.Size([1, 18, 768])\n",
            "Pooled output shape: torch.Size([1, 768])\n"
          ]
        }
      ],
      "source": [
        "import torch\n",
        "from transformers import BertModel, AutoTokenizer\n",
        "\n",
        "# Load pre-trained BERT model and tokenizer\n",
        "bert_pretrained = \"airesearch/wangchanberta-base-att-spm-uncased\"\n",
        "tokenizer = AutoTokenizer.from_pretrained(bert_pretrained)\n",
        "bert_model = BertModel.from_pretrained(bert_pretrained)\n",
        "\n",
        "# Example input text\n",
        "text = \"This is an example sentence.\"\n",
        "\n",
        "# Tokenize the text and convert to input IDs\n",
        "inputs = tokenizer(text, return_tensors=\"pt\")\n",
        "input_ids = inputs[\"input_ids\"]\n",
        "\n",
        "# Print the input shape\n",
        "print(\"Input shape:\", input_ids.shape)\n",
        "\n",
        "# Get BERT model output\n",
        "with torch.no_grad():\n",
        "    outputs = bert_model(input_ids)\n",
        "\n",
        "# Print the output shape\n",
        "print(\"Output shape:\", outputs.last_hidden_state.shape)\n",
        "\n",
        "# The output is a tuple, where the first element is the last_hidden_state,\n",
        "# representing the sequence of hidden states from the last layer of BERT.\n",
        "\n",
        "# If you're interested in the pooled output, you can access that too.\n",
        "print(\"Pooled output shape:\", outputs.pooler_output.shape)"
      ]
    },
    {
      "cell_type": "code",
      "execution_count": null,
      "metadata": {
        "id": "Y6qIS4r3tpvB",
        "colab": {
          "base_uri": "https://localhost:8080/"
        },
        "outputId": "36d044d4-a3e2-40cb-ca52-071f85d1f28f"
      },
      "outputs": [
        {
          "output_type": "stream",
          "name": "stdout",
          "text": [
            "              precision    recall  f1-score   support\n",
            "\n",
            "    Positive       0.60      0.47      0.53       117\n",
            "     Neutral       0.61      0.64      0.62       107\n",
            "    Negative       0.59      0.58      0.59       101\n",
            "Body shaming       0.66      0.43      0.52        49\n",
            "    Classism       0.43      0.72      0.54        46\n",
            "      Sexism       0.73      0.88      0.80        40\n",
            "\n",
            "    accuracy                           0.59       460\n",
            "   macro avg       0.60      0.62      0.60       460\n",
            "weighted avg       0.60      0.59      0.59       460\n",
            "\n"
          ]
        }
      ],
      "source": [
        "from sklearn.metrics import classification_report\n",
        "\n",
        "# Assuming `test_iter` is your test data iterator from the training code\n",
        "# and `model` is your trained model\n",
        "all_y_true = []\n",
        "all_y_pred = []\n",
        "\n",
        "# Iterate over your test data and collect predictions\n",
        "with torch.no_grad():\n",
        "    for batch in test_iter:\n",
        "        predictions = model(batch.cleaned_review)\n",
        "        y_pred = torch.argmax(predictions, dim=1).cpu().numpy()  # Get predicted labels\n",
        "        y_true = batch.label.cpu().numpy()  # Get true labels\n",
        "        all_y_true.extend(y_true)\n",
        "        all_y_pred.extend(y_pred)\n",
        "\n",
        "# Define target names (replace with your actual target names)\n",
        "target_names = ['Positive','Neutral', 'Negative', 'Body shaming', 'Classism', 'Sexism']\n",
        "\n",
        "# Generate classification report\n",
        "report = classification_report(all_y_true, all_y_pred, target_names=target_names)\n",
        "print(report)"
      ]
    },
    {
      "cell_type": "code",
      "execution_count": null,
      "metadata": {
        "id": "IYn9NdAXuLYa",
        "colab": {
          "base_uri": "https://localhost:8080/",
          "height": 718
        },
        "outputId": "00c183eb-c73b-4335-b1b6-cbf72645e865"
      },
      "outputs": [
        {
          "output_type": "display_data",
          "data": {
            "text/plain": [
              "<Figure size 1000x800 with 2 Axes>"
            ],
            "image/png": "[encoded data removed]"
          },
          "metadata": {}
        }
      ],
      "source": [
        "from sklearn.metrics import confusion_matrix\n",
        "import seaborn as sns\n",
        "import matplotlib.pyplot as plt\n",
        "\n",
        "\n",
        "# สร้าง confusion matrix\n",
        "cm = confusion_matrix(all_y_true, all_y_pred)\n",
        "\n",
        "# พล็อต confusion matrix ด้วย seaborn\n",
        "plt.figure(figsize=(10, 8))\n",
        "sns.heatmap(cm, annot=True, fmt='d', cmap='Blues',\n",
        "            xticklabels=target_names, yticklabels=target_names)\n",
        "plt.xlabel('Predicted Label')\n",
        "plt.ylabel('True Label')\n",
        "plt.title('Confusion Matrix')\n",
        "plt.savefig('Confusion_Matrix.png')\n",
        "\n",
        "plt.show()"
      ]
    },
    {
      "cell_type": "code",
      "source": [
        "model.load_state_dict(torch.load('bert_model.pt', map_location=device))\n"
      ],
      "metadata": {
        "id": "8tFozHQuN4yx",
        "colab": {
          "base_uri": "https://localhost:8080/"
        },
        "outputId": "c7ddb437-1bea-4f46-b18a-1eaabf979959"
      },
      "execution_count": null,
      "outputs": [
        {
          "output_type": "stream",
          "name": "stderr",
          "text": [
            "<ipython-input-63-2f851d075d54>:1: FutureWarning: You are using `torch.load` with `weights_only=False` (the current default value), which uses the default pickle module implicitly. It is possible to construct malicious pickle data which will execute arbitrary code during unpickling (See https://github.com/pytorch/pytorch/blob/main/SECURITY.md#untrusted-models for more details). In a future release, the default value for `weights_only` will be flipped to `True`. This limits the functions that could be executed during unpickling. Arbitrary objects will no longer be allowed to be loaded via this mode unless they are explicitly allowlisted by the user via `torch.serialization.add_safe_globals`. We recommend you start setting `weights_only=True` for any use case where you don't have full control of the loaded file. Please open an issue on GitHub for any issues related to this experimental feature.\n",
            "  model.load_state_dict(torch.load('bert_model.pt', map_location=device))\n"
          ]
        },
        {
          "output_type": "execute_result",
          "data": {
            "text/plain": [
              "<All keys matched successfully>"
            ]
          },
          "metadata": {},
          "execution_count": 63
        }
      ]
    },
    {
      "cell_type": "code",
      "source": [
        "print(classification_report(all_y_true, all_y_pred, target_names=target_names))"
      ],
      "metadata": {
        "id": "5ucyEnghN-_3",
        "colab": {
          "base_uri": "https://localhost:8080/"
        },
        "outputId": "5db09231-10d8-4f04-b33f-32a8984bf8ca"
      },
      "execution_count": null,
      "outputs": [
        {
          "output_type": "stream",
          "name": "stdout",
          "text": [
            "              precision    recall  f1-score   support\n",
            "\n",
            "    Positive       0.60      0.47      0.53       117\n",
            "     Neutral       0.61      0.64      0.62       107\n",
            "    Negative       0.59      0.58      0.59       101\n",
            "Body shaming       0.66      0.43      0.52        49\n",
            "    Classism       0.43      0.72      0.54        46\n",
            "      Sexism       0.73      0.88      0.80        40\n",
            "\n",
            "    accuracy                           0.59       460\n",
            "   macro avg       0.60      0.62      0.60       460\n",
            "weighted avg       0.60      0.59      0.59       460\n",
            "\n"
          ]
        }
      ]
    },
    {
      "cell_type": "code",
      "execution_count": null,
      "metadata": {
        "id": "uqd3UoT44Afn",
        "colab": {
          "base_uri": "https://localhost:8080/"
        },
        "outputId": "b67fbb33-a70e-4365-ac84-3150589276dd"
      },
      "outputs": [
        {
          "output_type": "stream",
          "name": "stderr",
          "text": [
            "<ipython-input-65-6cf1e5225b57>:1: FutureWarning: You are using `torch.load` with `weights_only=False` (the current default value), which uses the default pickle module implicitly. It is possible to construct malicious pickle data which will execute arbitrary code during unpickling (See https://github.com/pytorch/pytorch/blob/main/SECURITY.md#untrusted-models for more details). In a future release, the default value for `weights_only` will be flipped to `True`. This limits the functions that could be executed during unpickling. Arbitrary objects will no longer be allowed to be loaded via this mode unless they are explicitly allowlisted by the user via `torch.serialization.add_safe_globals`. We recommend you start setting `weights_only=True` for any use case where you don't have full control of the loaded file. Please open an issue on GitHub for any issues related to this experimental feature.\n",
            "  model.load_state_dict(torch.load('bert_model.pt', map_location=device))\n"
          ]
        },
        {
          "output_type": "execute_result",
          "data": {
            "text/plain": [
              "SentimentModel(\n",
              "  (bert): BertModel(\n",
              "    (embeddings): BertEmbeddings(\n",
              "      (word_embeddings): Embedding(25005, 768, padding_idx=1)\n",
              "      (position_embeddings): Embedding(512, 768)\n",
              "      (token_type_embeddings): Embedding(1, 768)\n",
              "      (LayerNorm): LayerNorm((768,), eps=1e-12, elementwise_affine=True)\n",
              "      (dropout): Dropout(p=0.1, inplace=False)\n",
              "    )\n",
              "    (encoder): BertEncoder(\n",
              "      (layer): ModuleList(\n",
              "        (0-11): 12 x BertLayer(\n",
              "          (attention): BertAttention(\n",
              "            (self): BertSdpaSelfAttention(\n",
              "              (query): Linear(in_features=768, out_features=768, bias=True)\n",
              "              (key): Linear(in_features=768, out_features=768, bias=True)\n",
              "              (value): Linear(in_features=768, out_features=768, bias=True)\n",
              "              (dropout): Dropout(p=0.1, inplace=False)\n",
              "            )\n",
              "            (output): BertSelfOutput(\n",
              "              (dense): Linear(in_features=768, out_features=768, bias=True)\n",
              "              (LayerNorm): LayerNorm((768,), eps=1e-12, elementwise_affine=True)\n",
              "              (dropout): Dropout(p=0.1, inplace=False)\n",
              "            )\n",
              "          )\n",
              "          (intermediate): BertIntermediate(\n",
              "            (dense): Linear(in_features=768, out_features=3072, bias=True)\n",
              "            (intermediate_act_fn): GELUActivation()\n",
              "          )\n",
              "          (output): BertOutput(\n",
              "            (dense): Linear(in_features=3072, out_features=768, bias=True)\n",
              "            (LayerNorm): LayerNorm((768,), eps=1e-12, elementwise_affine=True)\n",
              "            (dropout): Dropout(p=0.1, inplace=False)\n",
              "          )\n",
              "        )\n",
              "      )\n",
              "    )\n",
              "    (pooler): BertPooler(\n",
              "      (dense): Linear(in_features=768, out_features=768, bias=True)\n",
              "      (activation): Tanh()\n",
              "    )\n",
              "  )\n",
              "  (rnn): GRU(768, 256, num_layers=2, batch_first=True, dropout=0.25, bidirectional=True)\n",
              "  (out): Linear(in_features=512, out_features=6, bias=True)\n",
              "  (dropout): Dropout(p=0.25, inplace=False)\n",
              ")"
            ]
          },
          "metadata": {},
          "execution_count": 65
        }
      ],
      "source": [
        "model.load_state_dict(torch.load('bert_model.pt', map_location=device))\n",
        "model.eval() #ต้องเรียก .eval() เมื่อต้องการทดสอบโมเดลเพื่อไม่ให้เอาข้อมูลเราทดสอบไปเทรน"
      ]
    },
    {
      "cell_type": "code",
      "source": [
        "import torch\n",
        "from transformers import AutoTokenizer, AutoModelForSequenceClassification\n",
        "import numpy as np\n",
        "\n",
        "# Load pre-trained model and tokenizer (assuming you're using a Thai language model)\n",
        "model_name = \"airesearch/wangchanberta-base-att-spm-uncased\"  # Replace with your actual model\n",
        "tokenizer = AutoTokenizer.from_pretrained(model_name)\n",
        "model = AutoModelForSequenceClassification.from_pretrained(model_name, num_labels=len(class_labels)) #added num_labels\n",
        "\n",
        "# Define class labels - replace these with your actual class labels\n",
        "# For example: [\"negative\", \"neutral\", \"positive\"]\n",
        "class_labels = ['คำทั่วไปทางการชม', 'คำทั่วไป', 'คำหยาบปกติ', 'เหยียดรูปร่าง', 'เหยียดชนชั้น', 'เหยียดเพศ']\n",
        "\n",
        "def predict_sentiment(model, tokenizer, text):\n",
        "    # Tokenize the input text\n",
        "    inputs = tokenizer(text, return_tensors=\"pt\", truncation=True, padding=True, max_length=512)\n",
        "\n",
        "    # Get model prediction\n",
        "    with torch.no_grad():\n",
        "        outputs = model(**inputs)\n",
        "        logits = outputs.logits\n",
        "        probabilities = torch.nn.functional.softmax(logits, dim=1)\n",
        "\n",
        "    return probabilities, inputs\n",
        "\n",
        "def get_word_embeddings(model, tokenized_inputs):\n",
        "    # Extract embeddings from the model's embedding layer\n",
        "    with torch.no_grad():\n",
        "        # Access the embedding layer (this may need adjustment based on your model architecture)\n",
        "        embedding_layer = model.get_input_embeddings()\n",
        "        word_embeddings = embedding_layer(tokenized_inputs['input_ids'])\n",
        "\n",
        "    return word_embeddings\n",
        "\n",
        "# Function to get user input and display prediction\n",
        "def analyze_user_input():\n",
        "    # Get user input\n",
        "    user_text = input(\"กรุณาใส่ข้อความที่ต้องการวิเคราะห์ความรู้สึก: \")\n",
        "\n",
        "    # Make prediction\n",
        "    sentiment, tokenized_inputs = predict_sentiment(model, tokenizer, user_text)\n",
        "    # print(\"Raw prediction tensor:\", sentiment)\n",
        "\n",
        "    # Get predicted class index\n",
        "    predicted_class_index = torch.argmax(sentiment).item()\n",
        "    # predicted_class_index = min(predicted_class_index, len(class_labels) - 1)  # Clamp the index #removed\n",
        "\n",
        "    # Get predicted class label\n",
        "    predicted_class_label = class_labels[predicted_class_index]\n",
        "\n",
        "    # Display results\n",
        "    print(\"\\nผลการวิเคราะห์:\")\n",
        "    print(\"Predicted Class Index:\", predicted_class_index)\n",
        "    print(\"Predicted Class Label:\", predicted_class_label)\n",
        "\n",
        "    # Display probability distribution\n",
        "    print(\"\\nProbability distribution:\")\n",
        "    for i, label in enumerate(class_labels):\n",
        "        #print(f\"{label}: {sentiment[0][i].item():.4f}\")\n",
        "        print(f\"{label}: {sentiment[0][i].item():.4f}\") # Access elements using correct indexing\n",
        "\n",
        "    # Get and display word embeddings\n",
        "    word_embeddings = get_word_embeddings(model, tokenized_inputs)\n",
        "\n",
        "    # Print token IDs and their corresponding words\n",
        "    input_ids = tokenized_inputs['input_ids'][0]\n",
        "    tokens = tokenizer.convert_ids_to_tokens(input_ids)\n",
        "\n",
        "    print(\"\\n**Word Embeddings:**\")\n",
        "    print(\"Shape of embeddings:\", word_embeddings.shape)\n",
        "    print(f\"Number of tokens: {len(tokens)}\")\n",
        "\n",
        "    # Print tokens and first few dimensions of their embeddings\n",
        "    for i, token in enumerate(tokens):\n",
        "        if token in tokenizer.all_special_tokens:\n",
        "            continue  # Skip special tokens like [CLS], [SEP], etc.\n",
        "\n",
        "        # Print token and a sample of its embedding (first 5 dimensions)\n",
        "        embedding_sample = word_embeddings[0, i, :5].tolist()  # First 5 dimensions as example\n",
        "        print(f\"Token: '{token}', Embedding (first 5 dims): {embedding_sample}\")\n",
        "\n",
        "# Run the analysis\n",
        "if __name__ == \"__main__\":\n",
        "    print(\"==== Thai Sentiment Analysis ====\")\n",
        "    analyze_user_input()"
      ],
      "metadata": {
        "id": "GHCc42E1ros-",
        "colab": {
          "base_uri": "https://localhost:8080/"
        },
        "outputId": "b8fad6af-6cf9-4329-9c13-8071def1deac"
      },
      "execution_count": null,
      "outputs": [
        {
          "output_type": "stream",
          "name": "stderr",
          "text": [
            "Some weights of CamembertForSequenceClassification were not initialized from the model checkpoint at airesearch/wangchanberta-base-att-spm-uncased and are newly initialized: ['classifier.dense.bias', 'classifier.dense.weight', 'classifier.out_proj.bias', 'classifier.out_proj.weight']\n",
            "You should probably TRAIN this model on a down-stream task to be able to use it for predictions and inference.\n"
          ]
        },
        {
          "output_type": "stream",
          "name": "stdout",
          "text": [
            "==== Thai Sentiment Analysis ====\n",
            "กรุณาใส่ข้อความที่ต้องการวิเคราะห์ความรู้สึก: ไอ้อ้วนหมูตอน\n",
            "\n",
            "ผลการวิเคราะห์:\n",
            "Predicted Class Index: 0\n",
            "Predicted Class Label: คำทั่วไปทางการชม\n",
            "\n",
            "Probability distribution:\n",
            "คำทั่วไปทางการชม: 0.2197\n",
            "คำทั่วไป: 0.1975\n",
            "คำหยาบปกติ: 0.1338\n",
            "เหยียดรูปร่าง: 0.1547\n",
            "เหยียดชนชั้น: 0.1322\n",
            "เหยียดเพศ: 0.1621\n",
            "\n",
            "**Word Embeddings:**\n",
            "Shape of embeddings: torch.Size([1, 6, 768])\n",
            "Number of tokens: 6\n",
            "Token: '▁ไอ้', Embedding (first 5 dims): [0.022578487172722816, -0.08961966633796692, -0.1416594386100769, -0.050988126546144485, -0.027758728712797165]\n",
            "Token: 'อ้วน', Embedding (first 5 dims): [-0.08321955800056458, -0.03936731815338135, -0.056861888617277145, 0.1152523085474968, 0.04316036030650139]\n",
            "Token: 'หมู', Embedding (first 5 dims): [-0.04617825150489807, -0.027751870453357697, 0.0461968258023262, -0.07503604888916016, 0.015131414867937565]\n",
            "Token: 'ตอน', Embedding (first 5 dims): [0.04232914000749588, 0.0823635682463646, -0.046847522258758545, -0.015643831342458725, -0.09442001581192017]\n"
          ]
        }
      ]
    },
    {
      "cell_type": "code",
      "source": [],
      "metadata": {
        "id": "TeiuD4gAj9Dk"
      },
      "execution_count": null,
      "outputs": []
    }
  ],
  "metadata": {
    "accelerator": "GPU",
    "colab": {
      "gpuType": "T4",
      "machine_shape": "hm",
      "provenance": []
    },
    "kernelspec": {
      "display_name": "Python 3",
      "name": "python3"
    },
    "language_info": {
      "name": "python"
    },
    "widgets": {
      "application/vnd.jupyter.widget-state+json": {
        "f501564a74a841d7b2ddcb508213adea": {
          "model_module": "@jupyter-widgets/controls",
          "model_name": "HBoxModel",
          "model_module_version": "1.5.0",
          "state": {
            "_dom_classes": [],
            "_model_module": "@jupyter-widgets/controls",
            "_model_module_version": "1.5.0",
            "_model_name": "HBoxModel",
            "_view_count": null,
            "_view_module": "@jupyter-widgets/controls",
            "_view_module_version": "1.5.0",
            "_view_name": "HBoxView",
            "box_style": "",
            "children": [
              "IPY_MODEL_4582f2574efa447c98c2f194f550d091",
              "IPY_MODEL_b0b887dfe9d84192abac8672e7573d53",
              "IPY_MODEL_fd83c1f3c6c7435f8f947f59069437d8"
            ],
            "layout": "IPY_MODEL_3eab775b84ae4376bc10f1ff09233bcb"
          }
        },
        "4582f2574efa447c98c2f194f550d091": {
          "model_module": "@jupyter-widgets/controls",
          "model_name": "HTMLModel",
          "model_module_version": "1.5.0",
          "state": {
            "_dom_classes": [],
            "_model_module": "@jupyter-widgets/controls",
            "_model_module_version": "1.5.0",
            "_model_name": "HTMLModel",
            "_view_count": null,
            "_view_module": "@jupyter-widgets/controls",
            "_view_module_version": "1.5.0",
            "_view_name": "HTMLView",
            "description": "",
            "description_tooltip": null,
            "layout": "IPY_MODEL_665ece2137934285a51f4775397a1f86",
            "placeholder": "​",
            "style": "IPY_MODEL_d58113b5176d47ab9fb618fbbb52e834",
            "value": "model.safetensors: 100%"
          }
        },
        "b0b887dfe9d84192abac8672e7573d53": {
          "model_module": "@jupyter-widgets/controls",
          "model_name": "FloatProgressModel",
          "model_module_version": "1.5.0",
          "state": {
            "_dom_classes": [],
            "_model_module": "@jupyter-widgets/controls",
            "_model_module_version": "1.5.0",
            "_model_name": "FloatProgressModel",
            "_view_count": null,
            "_view_module": "@jupyter-widgets/controls",
            "_view_module_version": "1.5.0",
            "_view_name": "ProgressView",
            "bar_style": "success",
            "description": "",
            "description_tooltip": null,
            "layout": "IPY_MODEL_5abb23bed63b4737b55f9749ae79c1b1",
            "max": 423470574,
            "min": 0,
            "orientation": "horizontal",
            "style": "IPY_MODEL_05614f044af842d681e3c0a6ceecc01b",
            "value": 423470574
          }
        },
        "fd83c1f3c6c7435f8f947f59069437d8": {
          "model_module": "@jupyter-widgets/controls",
          "model_name": "HTMLModel",
          "model_module_version": "1.5.0",
          "state": {
            "_dom_classes": [],
            "_model_module": "@jupyter-widgets/controls",
            "_model_module_version": "1.5.0",
            "_model_name": "HTMLModel",
            "_view_count": null,
            "_view_module": "@jupyter-widgets/controls",
            "_view_module_version": "1.5.0",
            "_view_name": "HTMLView",
            "description": "",
            "description_tooltip": null,
            "layout": "IPY_MODEL_09aa1b9ec9cf4a919d50c6a63bbd01b2",
            "placeholder": "​",
            "style": "IPY_MODEL_63070281cf964c2fa7840d15292adc4e",
            "value": " 423M/423M [00:01&lt;00:00, 237MB/s]"
          }
        },
        "3eab775b84ae4376bc10f1ff09233bcb": {
          "model_module": "@jupyter-widgets/base",
          "model_name": "LayoutModel",
          "model_module_version": "1.2.0",
          "state": {
            "_model_module": "@jupyter-widgets/base",
            "_model_module_version": "1.2.0",
            "_model_name": "LayoutModel",
            "_view_count": null,
            "_view_module": "@jupyter-widgets/base",
            "_view_module_version": "1.2.0",
            "_view_name": "LayoutView",
            "align_content": null,
            "align_items": null,
            "align_self": null,
            "border": null,
            "bottom": null,
            "display": null,
            "flex": null,
            "flex_flow": null,
            "grid_area": null,
            "grid_auto_columns": null,
            "grid_auto_flow": null,
            "grid_auto_rows": null,
            "grid_column": null,
            "grid_gap": null,
            "grid_row": null,
            "grid_template_areas": null,
            "grid_template_columns": null,
            "grid_template_rows": null,
            "height": null,
            "justify_content": null,
            "justify_items": null,
            "left": null,
            "margin": null,
            "max_height": null,
            "max_width": null,
            "min_height": null,
            "min_width": null,
            "object_fit": null,
            "object_position": null,
            "order": null,
            "overflow": null,
            "overflow_x": null,
            "overflow_y": null,
            "padding": null,
            "right": null,
            "top": null,
            "visibility": null,
            "width": null
          }
        },
        "665ece2137934285a51f4775397a1f86": {
          "model_module": "@jupyter-widgets/base",
          "model_name": "LayoutModel",
          "model_module_version": "1.2.0",
          "state": {
            "_model_module": "@jupyter-widgets/base",
            "_model_module_version": "1.2.0",
            "_model_name": "LayoutModel",
            "_view_count": null,
            "_view_module": "@jupyter-widgets/base",
            "_view_module_version": "1.2.0",
            "_view_name": "LayoutView",
            "align_content": null,
            "align_items": null,
            "align_self": null,
            "border": null,
            "bottom": null,
            "display": null,
            "flex": null,
            "flex_flow": null,
            "grid_area": null,
            "grid_auto_columns": null,
            "grid_auto_flow": null,
            "grid_auto_rows": null,
            "grid_column": null,
            "grid_gap": null,
            "grid_row": null,
            "grid_template_areas": null,
            "grid_template_columns": null,
            "grid_template_rows": null,
            "height": null,
            "justify_content": null,
            "justify_items": null,
            "left": null,
            "margin": null,
            "max_height": null,
            "max_width": null,
            "min_height": null,
            "min_width": null,
            "object_fit": null,
            "object_position": null,
            "order": null,
            "overflow": null,
            "overflow_x": null,
            "overflow_y": null,
            "padding": null,
            "right": null,
            "top": null,
            "visibility": null,
            "width": null
          }
        },
        "d58113b5176d47ab9fb618fbbb52e834": {
          "model_module": "@jupyter-widgets/controls",
          "model_name": "DescriptionStyleModel",
          "model_module_version": "1.5.0",
          "state": {
            "_model_module": "@jupyter-widgets/controls",
            "_model_module_version": "1.5.0",
            "_model_name": "DescriptionStyleModel",
            "_view_count": null,
            "_view_module": "@jupyter-widgets/base",
            "_view_module_version": "1.2.0",
            "_view_name": "StyleView",
            "description_width": ""
          }
        },
        "5abb23bed63b4737b55f9749ae79c1b1": {
          "model_module": "@jupyter-widgets/base",
          "model_name": "LayoutModel",
          "model_module_version": "1.2.0",
          "state": {
            "_model_module": "@jupyter-widgets/base",
            "_model_module_version": "1.2.0",
            "_model_name": "LayoutModel",
            "_view_count": null,
            "_view_module": "@jupyter-widgets/base",
            "_view_module_version": "1.2.0",
            "_view_name": "LayoutView",
            "align_content": null,
            "align_items": null,
            "align_self": null,
            "border": null,
            "bottom": null,
            "display": null,
            "flex": null,
            "flex_flow": null,
            "grid_area": null,
            "grid_auto_columns": null,
            "grid_auto_flow": null,
            "grid_auto_rows": null,
            "grid_column": null,
            "grid_gap": null,
            "grid_row": null,
            "grid_template_areas": null,
            "grid_template_columns": null,
            "grid_template_rows": null,
            "height": null,
            "justify_content": null,
            "justify_items": null,
            "left": null,
            "margin": null,
            "max_height": null,
            "max_width": null,
            "min_height": null,
            "min_width": null,
            "object_fit": null,
            "object_position": null,
            "order": null,
            "overflow": null,
            "overflow_x": null,
            "overflow_y": null,
            "padding": null,
            "right": null,
            "top": null,
            "visibility": null,
            "width": null
          }
        },
        "05614f044af842d681e3c0a6ceecc01b": {
          "model_module": "@jupyter-widgets/controls",
          "model_name": "ProgressStyleModel",
          "model_module_version": "1.5.0",
          "state": {
            "_model_module": "@jupyter-widgets/controls",
            "_model_module_version": "1.5.0",
            "_model_name": "ProgressStyleModel",
            "_view_count": null,
            "_view_module": "@jupyter-widgets/base",
            "_view_module_version": "1.2.0",
            "_view_name": "StyleView",
            "bar_color": null,
            "description_width": ""
          }
        },
        "09aa1b9ec9cf4a919d50c6a63bbd01b2": {
          "model_module": "@jupyter-widgets/base",
          "model_name": "LayoutModel",
          "model_module_version": "1.2.0",
          "state": {
            "_model_module": "@jupyter-widgets/base",
            "_model_module_version": "1.2.0",
            "_model_name": "LayoutModel",
            "_view_count": null,
            "_view_module": "@jupyter-widgets/base",
            "_view_module_version": "1.2.0",
            "_view_name": "LayoutView",
            "align_content": null,
            "align_items": null,
            "align_self": null,
            "border": null,
            "bottom": null,
            "display": null,
            "flex": null,
            "flex_flow": null,
            "grid_area": null,
            "grid_auto_columns": null,
            "grid_auto_flow": null,
            "grid_auto_rows": null,
            "grid_column": null,
            "grid_gap": null,
            "grid_row": null,
            "grid_template_areas": null,
            "grid_template_columns": null,
            "grid_template_rows": null,
            "height": null,
            "justify_content": null,
            "justify_items": null,
            "left": null,
            "margin": null,
            "max_height": null,
            "max_width": null,
            "min_height": null,
            "min_width": null,
            "object_fit": null,
            "object_position": null,
            "order": null,
            "overflow": null,
            "overflow_x": null,
            "overflow_y": null,
            "padding": null,
            "right": null,
            "top": null,
            "visibility": null,
            "width": null
          }
        },
        "63070281cf964c2fa7840d15292adc4e": {
          "model_module": "@jupyter-widgets/controls",
          "model_name": "DescriptionStyleModel",
          "model_module_version": "1.5.0",
          "state": {
            "_model_module": "@jupyter-widgets/controls",
            "_model_module_version": "1.5.0",
            "_model_name": "DescriptionStyleModel",
            "_view_count": null,
            "_view_module": "@jupyter-widgets/base",
            "_view_module_version": "1.2.0",
            "_view_name": "StyleView",
            "description_width": ""
          }
        }
      }
    }
  },
  "nbformat": 4,
  "nbformat_minor": 0
}