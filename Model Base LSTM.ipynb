{
  "cells": [
    {
      "cell_type": "markdown",
      "metadata": {
        "id": "bw7MbuIemZtu"
      },
      "source": [
        "# ติดตั้ง Tool\n",
        "\n",
        "---\n",
        "\n"
      ]
    },
    {
      "cell_type": "code",
      "execution_count": null,
      "metadata": {
        "colab": {
          "base_uri": "https://localhost:8080/",
          "height": 1000
        },
        "id": "pspQtfHVkLUd",
        "outputId": "979810cc-af80-4041-8dbe-2d7b05acb19a"
      },
      "outputs": [
        {
          "output_type": "stream",
          "name": "stdout",
          "text": [
            "Collecting pythainlp\n",
            "  Downloading pythainlp-5.1.0-py3-none-any.whl.metadata (8.0 kB)\n",
            "Requirement already satisfied: requests>=2.31 in /usr/local/lib/python3.11/dist-packages (from pythainlp) (2.32.3)\n",
            "Requirement already satisfied: charset-normalizer<4,>=2 in /usr/local/lib/python3.11/dist-packages (from requests>=2.31->pythainlp) (3.4.1)\n",
            "Requirement already satisfied: idna<4,>=2.5 in /usr/local/lib/python3.11/dist-packages (from requests>=2.31->pythainlp) (3.10)\n",
            "Requirement already satisfied: urllib3<3,>=1.21.1 in /usr/local/lib/python3.11/dist-packages (from requests>=2.31->pythainlp) (2.3.0)\n",
            "Requirement already satisfied: certifi>=2017.4.17 in /usr/local/lib/python3.11/dist-packages (from requests>=2.31->pythainlp) (2025.1.31)\n",
            "Downloading pythainlp-5.1.0-py3-none-any.whl (19.3 MB)\n",
            "\u001b[2K   \u001b[90m━━━━━━━━━━━━━━━━━━━━━━━━━━━━━━━━━━━━━━━━\u001b[0m \u001b[32m19.3/19.3 MB\u001b[0m \u001b[31m31.4 MB/s\u001b[0m eta \u001b[36m0:00:00\u001b[0m\n",
            "\u001b[?25hInstalling collected packages: pythainlp\n",
            "Successfully installed pythainlp-5.1.0\n",
            "Collecting torch==1.13.1\n",
            "  Downloading torch-1.13.1-cp311-cp311-manylinux1_x86_64.whl.metadata (24 kB)\n",
            "Requirement already satisfied: typing-extensions in /usr/local/lib/python3.11/dist-packages (from torch==1.13.1) (4.12.2)\n",
            "Collecting nvidia-cuda-runtime-cu11==11.7.99 (from torch==1.13.1)\n",
            "  Downloading nvidia_cuda_runtime_cu11-11.7.99-py3-none-manylinux1_x86_64.whl.metadata (1.6 kB)\n",
            "Collecting nvidia-cudnn-cu11==8.5.0.96 (from torch==1.13.1)\n",
            "  Downloading nvidia_cudnn_cu11-8.5.0.96-2-py3-none-manylinux1_x86_64.whl.metadata (1.6 kB)\n",
            "Collecting nvidia-cublas-cu11==11.10.3.66 (from torch==1.13.1)\n",
            "  Downloading nvidia_cublas_cu11-11.10.3.66-py3-none-manylinux1_x86_64.whl.metadata (1.6 kB)\n",
            "Collecting nvidia-cuda-nvrtc-cu11==11.7.99 (from torch==1.13.1)\n",
            "  Downloading nvidia_cuda_nvrtc_cu11-11.7.99-2-py3-none-manylinux1_x86_64.whl.metadata (1.5 kB)\n",
            "Requirement already satisfied: setuptools in /usr/local/lib/python3.11/dist-packages (from nvidia-cublas-cu11==11.10.3.66->torch==1.13.1) (75.1.0)\n",
            "Requirement already satisfied: wheel in /usr/local/lib/python3.11/dist-packages (from nvidia-cublas-cu11==11.10.3.66->torch==1.13.1) (0.45.1)\n",
            "Downloading torch-1.13.1-cp311-cp311-manylinux1_x86_64.whl (887.4 MB)\n",
            "\u001b[2K   \u001b[90m━━━━━━━━━━━━━━━━━━━━━━━━━━━━━━━━━━━━━━━━\u001b[0m \u001b[32m887.4/887.4 MB\u001b[0m \u001b[31m1.1 MB/s\u001b[0m eta \u001b[36m0:00:00\u001b[0m\n",
            "\u001b[?25hDownloading nvidia_cublas_cu11-11.10.3.66-py3-none-manylinux1_x86_64.whl (317.1 MB)\n",
            "\u001b[2K   \u001b[90m━━━━━━━━━━━━━━━━━━━━━━━━━━━━━━━━━━━━━━━━\u001b[0m \u001b[32m317.1/317.1 MB\u001b[0m \u001b[31m1.8 MB/s\u001b[0m eta \u001b[36m0:00:00\u001b[0m\n",
            "\u001b[?25hDownloading nvidia_cuda_nvrtc_cu11-11.7.99-2-py3-none-manylinux1_x86_64.whl (21.0 MB)\n",
            "\u001b[2K   \u001b[90m━━━━━━━━━━━━━━━━━━━━━━━━━━━━━━━━━━━━━━━━\u001b[0m \u001b[32m21.0/21.0 MB\u001b[0m \u001b[31m90.3 MB/s\u001b[0m eta \u001b[36m0:00:00\u001b[0m\n",
            "\u001b[?25hDownloading nvidia_cuda_runtime_cu11-11.7.99-py3-none-manylinux1_x86_64.whl (849 kB)\n",
            "\u001b[2K   \u001b[90m━━━━━━━━━━━━━━━━━━━━━━━━━━━━━━━━━━━━━━━━\u001b[0m \u001b[32m849.3/849.3 kB\u001b[0m \u001b[31m50.7 MB/s\u001b[0m eta \u001b[36m0:00:00\u001b[0m\n",
            "\u001b[?25hDownloading nvidia_cudnn_cu11-8.5.0.96-2-py3-none-manylinux1_x86_64.whl (557.1 MB)\n",
            "\u001b[2K   \u001b[90m━━━━━━━━━━━━━━━━━━━━━━━━━━━━━━━━━━━━━━━━\u001b[0m \u001b[32m557.1/557.1 MB\u001b[0m \u001b[31m2.3 MB/s\u001b[0m eta \u001b[36m0:00:00\u001b[0m\n",
            "\u001b[?25hInstalling collected packages: nvidia-cuda-runtime-cu11, nvidia-cuda-nvrtc-cu11, nvidia-cublas-cu11, nvidia-cudnn-cu11, torch\n",
            "  Attempting uninstall: torch\n",
            "    Found existing installation: torch 2.6.0+cu124\n",
            "    Uninstalling torch-2.6.0+cu124:\n",
            "      Successfully uninstalled torch-2.6.0+cu124\n",
            "\u001b[31mERROR: pip's dependency resolver does not currently take into account all the packages that are installed. This behaviour is the source of the following dependency conflicts.\n",
            "torchaudio 2.6.0+cu124 requires torch==2.6.0, but you have torch 1.13.1 which is incompatible.\n",
            "accelerate 1.3.0 requires torch>=2.0.0, but you have torch 1.13.1 which is incompatible.\n",
            "torchvision 0.21.0+cu124 requires torch==2.6.0, but you have torch 1.13.1 which is incompatible.\u001b[0m\u001b[31m\n",
            "\u001b[0mSuccessfully installed nvidia-cublas-cu11-11.10.3.66 nvidia-cuda-nvrtc-cu11-11.7.99 nvidia-cuda-runtime-cu11-11.7.99 nvidia-cudnn-cu11-8.5.0.96 torch-1.13.1\n",
            "Collecting torchtext==0.6.0\n",
            "  Downloading torchtext-0.6.0-py3-none-any.whl.metadata (6.3 kB)\n",
            "Requirement already satisfied: tqdm in /usr/local/lib/python3.11/dist-packages (from torchtext==0.6.0) (4.67.1)\n",
            "Requirement already satisfied: requests in /usr/local/lib/python3.11/dist-packages (from torchtext==0.6.0) (2.32.3)\n",
            "Requirement already satisfied: torch in /usr/local/lib/python3.11/dist-packages (from torchtext==0.6.0) (1.13.1)\n",
            "Requirement already satisfied: numpy in /usr/local/lib/python3.11/dist-packages (from torchtext==0.6.0) (1.26.4)\n",
            "Requirement already satisfied: six in /usr/local/lib/python3.11/dist-packages (from torchtext==0.6.0) (1.17.0)\n",
            "Requirement already satisfied: sentencepiece in /usr/local/lib/python3.11/dist-packages (from torchtext==0.6.0) (0.2.0)\n",
            "Requirement already satisfied: charset-normalizer<4,>=2 in /usr/local/lib/python3.11/dist-packages (from requests->torchtext==0.6.0) (3.4.1)\n",
            "Requirement already satisfied: idna<4,>=2.5 in /usr/local/lib/python3.11/dist-packages (from requests->torchtext==0.6.0) (3.10)\n",
            "Requirement already satisfied: urllib3<3,>=1.21.1 in /usr/local/lib/python3.11/dist-packages (from requests->torchtext==0.6.0) (2.3.0)\n",
            "Requirement already satisfied: certifi>=2017.4.17 in /usr/local/lib/python3.11/dist-packages (from requests->torchtext==0.6.0) (2025.1.31)\n",
            "Requirement already satisfied: typing-extensions in /usr/local/lib/python3.11/dist-packages (from torch->torchtext==0.6.0) (4.12.2)\n",
            "Requirement already satisfied: nvidia-cuda-runtime-cu11==11.7.99 in /usr/local/lib/python3.11/dist-packages (from torch->torchtext==0.6.0) (11.7.99)\n",
            "Requirement already satisfied: nvidia-cudnn-cu11==8.5.0.96 in /usr/local/lib/python3.11/dist-packages (from torch->torchtext==0.6.0) (8.5.0.96)\n",
            "Requirement already satisfied: nvidia-cublas-cu11==11.10.3.66 in /usr/local/lib/python3.11/dist-packages (from torch->torchtext==0.6.0) (11.10.3.66)\n",
            "Requirement already satisfied: nvidia-cuda-nvrtc-cu11==11.7.99 in /usr/local/lib/python3.11/dist-packages (from torch->torchtext==0.6.0) (11.7.99)\n",
            "Requirement already satisfied: setuptools in /usr/local/lib/python3.11/dist-packages (from nvidia-cublas-cu11==11.10.3.66->torch->torchtext==0.6.0) (75.1.0)\n",
            "Requirement already satisfied: wheel in /usr/local/lib/python3.11/dist-packages (from nvidia-cublas-cu11==11.10.3.66->torch->torchtext==0.6.0) (0.45.1)\n",
            "Downloading torchtext-0.6.0-py3-none-any.whl (64 kB)\n",
            "\u001b[2K   \u001b[90m━━━━━━━━━━━━━━━━━━━━━━━━━━━━━━━━━━━━━━━━\u001b[0m \u001b[32m64.2/64.2 kB\u001b[0m \u001b[31m2.6 MB/s\u001b[0m eta \u001b[36m0:00:00\u001b[0m\n",
            "\u001b[?25hInstalling collected packages: torchtext\n",
            "Successfully installed torchtext-0.6.0\n"
          ]
        },
        {
          "output_type": "execute_result",
          "data": {
            "text/plain": [
              "'0.6.0'"
            ],
            "application/vnd.google.colaboratory.intrinsic+json": {
              "type": "string"
            }
          },
          "metadata": {},
          "execution_count": 1
        }
      ],
      "source": [
        "!pip install pythainlp\n",
        "!pip install torch==1.13.1\n",
        "!pip install torchtext==0.6.0\n",
        "\n",
        "import torchtext\n",
        "torchtext.__version__"
      ]
    },
    {
      "cell_type": "markdown",
      "metadata": {
        "id": "AZwtFfPWmdw3"
      },
      "source": [
        "# Prepare Dataset\n",
        "\n",
        "---\n"
      ]
    },
    {
      "cell_type": "code",
      "execution_count": null,
      "metadata": {
        "colab": {
          "base_uri": "https://localhost:8080/"
        },
        "id": "3Zl2c6j_SmTQ",
        "outputId": "7e2764b1-ed8a-40ad-fe2c-f9e1f36bd062"
      },
      "outputs": [
        {
          "output_type": "stream",
          "name": "stdout",
          "text": [
            "/usr/local/lib/python3.11/dist-packages/gdown/__main__.py:140: FutureWarning: Option `--id` was deprecated in version 4.3.1 and will be removed in 5.0. You don't need to pass it anymore to use a file ID.\n",
            "  warnings.warn(\n",
            "Downloading...\n",
            "From: https://drive.google.com/uc?id=1xGvtr_HZLKHj4Emd4cbmndW3UBSkZfE8\n",
            "To: /content/TextClass.csv\n",
            "100% 132k/132k [00:00<00:00, 75.0MB/s]\n",
            "/usr/local/lib/python3.11/dist-packages/gdown/__main__.py:140: FutureWarning: Option `--id` was deprecated in version 4.3.1 and will be removed in 5.0. You don't need to pass it anymore to use a file ID.\n",
            "  warnings.warn(\n",
            "Downloading...\n",
            "From: https://drive.google.com/uc?id=1Dmn0eyYwy9Z8r94Xy7eVdyWTBxG-1RIo\n",
            "To: /content/pos.txt\n",
            "100% 761k/761k [00:00<00:00, 47.9MB/s]\n",
            "/usr/local/lib/python3.11/dist-packages/gdown/__main__.py:140: FutureWarning: Option `--id` was deprecated in version 4.3.1 and will be removed in 5.0. You don't need to pass it anymore to use a file ID.\n",
            "  warnings.warn(\n",
            "Downloading...\n",
            "From: https://drive.google.com/uc?id=1EX6IckcRLeKxhpJW4Cr7ItamonDdlyvN\n",
            "To: /content/neu.txt\n",
            "100% 3.81M/3.81M [00:00<00:00, 179MB/s]\n",
            "/usr/local/lib/python3.11/dist-packages/gdown/__main__.py:140: FutureWarning: Option `--id` was deprecated in version 4.3.1 and will be removed in 5.0. You don't need to pass it anymore to use a file ID.\n",
            "  warnings.warn(\n",
            "Downloading...\n",
            "From: https://drive.google.com/uc?id=1ahlb_JE4TtrrEtkX65yLOoYEtcsxkj6m\n",
            "To: /content/neg.txt\n",
            "100% 1.68M/1.68M [00:00<00:00, 58.2MB/s]\n"
          ]
        }
      ],
      "source": [
        "! gdown --id 1xGvtr_HZLKHj4Emd4cbmndW3UBSkZfE8\n",
        "! gdown --id 1Dmn0eyYwy9Z8r94Xy7eVdyWTBxG-1RIo\n",
        "! gdown --id 1EX6IckcRLeKxhpJW4Cr7ItamonDdlyvN\n",
        "! gdown --id 1ahlb_JE4TtrrEtkX65yLOoYEtcsxkj6m"
      ]
    },
    {
      "cell_type": "code",
      "execution_count": null,
      "metadata": {
        "colab": {
          "base_uri": "https://localhost:8080/"
        },
        "id": "NSelvNrdBbKO",
        "outputId": "8bce5a41-4b20-44e6-dea7-9bfda12bf6b3"
      },
      "outputs": [
        {
          "output_type": "stream",
          "name": "stdout",
          "text": [
            "Successfully created pos.csv\n"
          ]
        }
      ],
      "source": [
        "# prompt: ทำ pos.txt เป็นไฟล์ .csv โดยให้มหัวข้อเป็น text และ label เป็น 0 ทั้งหมด\n",
        "\n",
        "import pandas as pd\n",
        "\n",
        "try:\n",
        "    with open('pos.txt', 'r', encoding='utf-8') as f:  #แก้ไข encoding ให้รองรับภาษาไทย\n",
        "        lines = f.readlines()\n",
        "except FileNotFoundError:\n",
        "    print(\"Error: pos.txt not found.\")\n",
        "    exit()\n",
        "\n",
        "\n",
        "data = {'text': lines, 'label': [0] * len(lines)}\n",
        "df = pd.DataFrame(data)\n",
        "df.to_csv('pos.csv', index=False, encoding='utf-8') #แก้ไข encoding ให้รองรับภาษาไทย\n",
        "print(\"Successfully created pos.csv\")\n"
      ]
    },
    {
      "cell_type": "code",
      "execution_count": null,
      "metadata": {
        "colab": {
          "base_uri": "https://localhost:8080/"
        },
        "id": "H_12BonYCNCp",
        "outputId": "ca5ebb42-bd63-43ec-bfbd-af30a5318b41"
      },
      "outputs": [
        {
          "output_type": "stream",
          "name": "stdout",
          "text": [
            "Successfully created neu.csv\n"
          ]
        }
      ],
      "source": [
        "# prompt: ทำ pos.txt เป็นไฟล์ .csv โดยให้มหัวข้อเป็น text และ label เป็น 0 ทั้งหมด\n",
        "\n",
        "import pandas as pd\n",
        "\n",
        "try:\n",
        "    with open('neu.txt', 'r', encoding='utf-8') as f:  #แก้ไข encoding ให้รองรับภาษาไทย\n",
        "        lines = f.readlines()\n",
        "except FileNotFoundError:\n",
        "    print(\"Error: neu.txt not found.\")\n",
        "    exit()\n",
        "\n",
        "\n",
        "data = {'text': lines, 'label': [1] * len(lines)}\n",
        "df = pd.DataFrame(data)\n",
        "df.to_csv('neu.csv', index=False, encoding='utf-8') #แก้ไข encoding ให้รองรับภาษาไทย\n",
        "print(\"Successfully created neu.csv\")\n"
      ]
    },
    {
      "cell_type": "code",
      "execution_count": null,
      "metadata": {
        "colab": {
          "base_uri": "https://localhost:8080/"
        },
        "id": "QzIsXietCNcb",
        "outputId": "f1e99994-2a72-4ef5-f82c-87c057f2cb03"
      },
      "outputs": [
        {
          "output_type": "stream",
          "name": "stdout",
          "text": [
            "Successfully created neg.csv\n"
          ]
        }
      ],
      "source": [
        "# prompt: ทำ pos.txt เป็นไฟล์ .csv โดยให้มหัวข้อเป็น text และ label เป็น 0 ทั้งหมด\n",
        "\n",
        "import pandas as pd\n",
        "\n",
        "try:\n",
        "    with open('neg.txt', 'r', encoding='utf-8') as f:  #แก้ไข encoding ให้รองรับภาษาไทย\n",
        "        lines = f.readlines()\n",
        "except FileNotFoundError:\n",
        "    print(\"Error: neg.txt not found.\")\n",
        "    exit()\n",
        "\n",
        "\n",
        "data = {'text': lines, 'label': [2] * len(lines)}\n",
        "df = pd.DataFrame(data)\n",
        "df.to_csv('neg.csv', index=False, encoding='utf-8') #แก้ไข encoding ให้รองรับภาษาไทย\n",
        "print(\"Successfully created neg.csv\")\n"
      ]
    },
    {
      "cell_type": "code",
      "execution_count": null,
      "metadata": {
        "colab": {
          "base_uri": "https://localhost:8080/"
        },
        "id": "xQ2KDAP1COip",
        "outputId": "33459922-bc42-4f8f-a6a9-fef983abb411"
      },
      "outputs": [
        {
          "output_type": "stream",
          "name": "stdout",
          "text": [
            "Successfully created pos_reduced.csv with 1000 random samples.\n"
          ]
        }
      ],
      "source": [
        "# prompt: สุ่มลบข้อมูล pos.csv ให้เหลือ 1000 ข้อมูล\n",
        "\n",
        "import pandas as pd\n",
        "import random\n",
        "\n",
        "try:\n",
        "    df = pd.read_csv('pos.csv')\n",
        "except FileNotFoundError:\n",
        "    print(\"Error: pos.csv not found. Please run the previous code block first.\")\n",
        "    exit()\n",
        "\n",
        "# Shuffle the DataFrame\n",
        "df = df.sample(frac=1, random_state=42)\n",
        "\n",
        "# Reduce the DataFrame to 1000 rows\n",
        "df = df.head(250)\n",
        "\n",
        "# Save the reduced DataFrame to a new CSV file\n",
        "df.to_csv('pos_reduced.csv', index=False, encoding='utf-8')\n",
        "print(\"Successfully created pos_reduced.csv with 1000 random samples.\")\n"
      ]
    },
    {
      "cell_type": "code",
      "execution_count": null,
      "metadata": {
        "colab": {
          "base_uri": "https://localhost:8080/"
        },
        "id": "Ld3acVRNCQbt",
        "outputId": "c373e447-c9ea-4a2e-af4f-1c5686e89b40"
      },
      "outputs": [
        {
          "output_type": "stream",
          "name": "stdout",
          "text": [
            "Successfully created neu_reduced.csv with 1000 random samples.\n"
          ]
        }
      ],
      "source": [
        "# prompt: สุ่มลบข้อมูล pos.csv ให้เหลือ 1000 ข้อมูล\n",
        "\n",
        "import pandas as pd\n",
        "import random\n",
        "\n",
        "try:\n",
        "    df = pd.read_csv('neu.csv')\n",
        "except FileNotFoundError:\n",
        "    print(\"Error: pos.csv not found. Please run the previous code block first.\")\n",
        "    exit()\n",
        "\n",
        "# Shuffle the DataFrame\n",
        "df = df.sample(frac=1, random_state=42)\n",
        "\n",
        "# Reduce the DataFrame to 1000 rows\n",
        "df = df.head(200)\n",
        "\n",
        "# Save the reduced DataFrame to a new CSV file\n",
        "df.to_csv('neu_reduced.csv', index=False, encoding='utf-8')\n",
        "print(\"Successfully created neu_reduced.csv with 1000 random samples.\")\n"
      ]
    },
    {
      "cell_type": "code",
      "execution_count": null,
      "metadata": {
        "colab": {
          "base_uri": "https://localhost:8080/"
        },
        "id": "CYcjP-dcCTYJ",
        "outputId": "d218dc04-2f40-49c5-a80d-a97084c63da0"
      },
      "outputs": [
        {
          "output_type": "stream",
          "name": "stdout",
          "text": [
            "Successfully created neg_reduced.csv with 1000 random samples.\n"
          ]
        }
      ],
      "source": [
        "# prompt: สุ่มลบข้อมูล pos.csv ให้เหลือ 1000 ข้อมูล\n",
        "\n",
        "import pandas as pd\n",
        "import random\n",
        "\n",
        "try:\n",
        "    df = pd.read_csv('neg.csv')\n",
        "except FileNotFoundError:\n",
        "    print(\"Error: neg.csv not found. Please run the previous code block first.\")\n",
        "    exit()\n",
        "\n",
        "# Shuffle the DataFrame\n",
        "df = df.sample(frac=1, random_state=42)\n",
        "\n",
        "# Reduce the DataFrame to 1000 rows\n",
        "df = df.head(300)\n",
        "\n",
        "# Save the reduced DataFrame to a new CSV file\n",
        "df.to_csv('neg_reduced.csv', index=False, encoding='utf-8')\n",
        "print(\"Successfully created neg_reduced.csv with 1000 random samples.\")\n"
      ]
    },
    {
      "cell_type": "code",
      "execution_count": null,
      "metadata": {
        "colab": {
          "base_uri": "https://localhost:8080/"
        },
        "id": "oSYQ3TYOCT2U",
        "outputId": "1d6a0e25-891d-41e5-d9df-26a5cc81fdaf"
      },
      "outputs": [
        {
          "output_type": "stream",
          "name": "stdout",
          "text": [
            "Successfully combined and saved to 'TextClass.csv'\n"
          ]
        }
      ],
      "source": [
        "# prompt: รวมไฟล์ textclass, pos.csv, neu.csv\n",
        "\n",
        "import pandas as pd\n",
        "\n",
        "# Assuming 'textclass.csv', 'pos.csv', and 'neu.csv' are in the current directory\n",
        "try:\n",
        "    df_textclass = pd.read_csv('TextClass.csv')\n",
        "    df_pos = pd.read_csv('pos_reduced.csv')\n",
        "    df_neu = pd.read_csv('neu_reduced.csv')\n",
        "    df_neg = pd.read_csv('neg_reduced.csv')\n",
        "\n",
        "    # Concatenate the DataFrames\n",
        "    combined_df = pd.concat([df_textclass, df_pos, df_neu, df_neg], ignore_index=True)\n",
        "\n",
        "    # Save the combined DataFrame to a new CSV file\n",
        "    combined_df.to_csv('TextClass.csv', index=False, encoding='utf-8')\n",
        "    print(\"Successfully combined and saved to 'TextClass.csv'\")\n",
        "\n",
        "except FileNotFoundError:\n",
        "    print(\"Error: One or more of the required CSV files not found.\")\n",
        "except Exception as e:\n",
        "    print(f\"An error occurred: {e}\")\n"
      ]
    },
    {
      "cell_type": "code",
      "execution_count": null,
      "metadata": {
        "colab": {
          "base_uri": "https://localhost:8080/",
          "height": 424
        },
        "id": "lZ3GsnUGTSaQ",
        "outputId": "1648e41b-62d1-42c1-aa6a-acb4be8bcaae"
      },
      "outputs": [
        {
          "output_type": "execute_result",
          "data": {
            "text/plain": [
              "                                                 review             label\n",
              "0                   พี่เบ๊บบี้จัดฟันแล้วน่ารักสุดๆๆๆๆๆๆ  คำทั่วไปทางการชม\n",
              "1                            พี่เบ๊บบี้จัดฟันน่ารักมากก  คำทั่วไปทางการชม\n",
              "2                                          พี่สวยมากค่ะ  คำทั่วไปทางการชม\n",
              "3                                     งามมากกลูกสาวววว💛  คำทั่วไปทางการชม\n",
              "4                                              คนสวย🥰🥰🥰  คำทั่วไปทางการชม\n",
              "...                                                 ...               ...\n",
              "2295  กูเขดและเน๊าะ โปรวันพุธ มะเติมของเลยต้องรอคิวเ...        คำหยาบปกติ\n",
              "2296    โห้ ไม่เคยเจอฟอร์จูน crv pajero ตามหลังเลยหรา\\n        คำหยาบปกติ\n",
              "2297  Mazda cx-3 ใหม่ คือไม่ไหวอะ เห็นละทนไม่ได้ สวย...        คำหยาบปกติ\n",
              "2298                        แดกเบียร์เหล้ากูเอียนสปาย\\n        คำหยาบปกติ\n",
              "2299  มีที่เขียนคิ้วอันไหนดีกว่าของอีทูดี้บ้าง คือน้...        คำหยาบปกติ\n",
              "\n",
              "[2300 rows x 2 columns]"
            ],
            "text/html": [
              "\n",
              "  <div id=\"df-6e73e3dd-f984-4a41-b6f7-1a1a715e4297\" class=\"colab-df-container\">\n",
              "    <div>\n",
              "<style scoped>\n",
              "    .dataframe tbody tr th:only-of-type {\n",
              "        vertical-align: middle;\n",
              "    }\n",
              "\n",
              "    .dataframe tbody tr th {\n",
              "        vertical-align: top;\n",
              "    }\n",
              "\n",
              "    .dataframe thead th {\n",
              "        text-align: right;\n",
              "    }\n",
              "</style>\n",
              "<table border=\"1\" class=\"dataframe\">\n",
              "  <thead>\n",
              "    <tr style=\"text-align: right;\">\n",
              "      <th></th>\n",
              "      <th>review</th>\n",
              "      <th>label</th>\n",
              "    </tr>\n",
              "  </thead>\n",
              "  <tbody>\n",
              "    <tr>\n",
              "      <th>0</th>\n",
              "      <td>พี่เบ๊บบี้จัดฟันแล้วน่ารักสุดๆๆๆๆๆๆ</td>\n",
              "      <td>คำทั่วไปทางการชม</td>\n",
              "    </tr>\n",
              "    <tr>\n",
              "      <th>1</th>\n",
              "      <td>พี่เบ๊บบี้จัดฟันน่ารักมากก</td>\n",
              "      <td>คำทั่วไปทางการชม</td>\n",
              "    </tr>\n",
              "    <tr>\n",
              "      <th>2</th>\n",
              "      <td>พี่สวยมากค่ะ</td>\n",
              "      <td>คำทั่วไปทางการชม</td>\n",
              "    </tr>\n",
              "    <tr>\n",
              "      <th>3</th>\n",
              "      <td>งามมากกลูกสาวววว💛</td>\n",
              "      <td>คำทั่วไปทางการชม</td>\n",
              "    </tr>\n",
              "    <tr>\n",
              "      <th>4</th>\n",
              "      <td>คนสวย🥰🥰🥰</td>\n",
              "      <td>คำทั่วไปทางการชม</td>\n",
              "    </tr>\n",
              "    <tr>\n",
              "      <th>...</th>\n",
              "      <td>...</td>\n",
              "      <td>...</td>\n",
              "    </tr>\n",
              "    <tr>\n",
              "      <th>2295</th>\n",
              "      <td>กูเขดและเน๊าะ โปรวันพุธ มะเติมของเลยต้องรอคิวเ...</td>\n",
              "      <td>คำหยาบปกติ</td>\n",
              "    </tr>\n",
              "    <tr>\n",
              "      <th>2296</th>\n",
              "      <td>โห้ ไม่เคยเจอฟอร์จูน crv pajero ตามหลังเลยหรา\\n</td>\n",
              "      <td>คำหยาบปกติ</td>\n",
              "    </tr>\n",
              "    <tr>\n",
              "      <th>2297</th>\n",
              "      <td>Mazda cx-3 ใหม่ คือไม่ไหวอะ เห็นละทนไม่ได้ สวย...</td>\n",
              "      <td>คำหยาบปกติ</td>\n",
              "    </tr>\n",
              "    <tr>\n",
              "      <th>2298</th>\n",
              "      <td>แดกเบียร์เหล้ากูเอียนสปาย\\n</td>\n",
              "      <td>คำหยาบปกติ</td>\n",
              "    </tr>\n",
              "    <tr>\n",
              "      <th>2299</th>\n",
              "      <td>มีที่เขียนคิ้วอันไหนดีกว่าของอีทูดี้บ้าง คือน้...</td>\n",
              "      <td>คำหยาบปกติ</td>\n",
              "    </tr>\n",
              "  </tbody>\n",
              "</table>\n",
              "<p>2300 rows × 2 columns</p>\n",
              "</div>\n",
              "    <div class=\"colab-df-buttons\">\n",
              "\n",
              "  <div class=\"colab-df-container\">\n",
              "    <button class=\"colab-df-convert\" onclick=\"convertToInteractive('df-6e73e3dd-f984-4a41-b6f7-1a1a715e4297')\"\n",
              "            title=\"Convert this dataframe to an interactive table.\"\n",
              "            style=\"display:none;\">\n",
              "\n",
              "  <svg xmlns=\"http://www.w3.org/2000/svg\" height=\"24px\" viewBox=\"0 -960 960 960\">\n",
              "    <path d=\"M120-120v-720h720v720H120Zm60-500h600v-160H180v160Zm220 220h160v-160H400v160Zm0 220h160v-160H400v160ZM180-400h160v-160H180v160Zm440 0h160v-160H620v160ZM180-180h160v-160H180v160Zm440 0h160v-160H620v160Z\"/>\n",
              "  </svg>\n",
              "    </button>\n",
              "\n",
              "  <style>\n",
              "    .colab-df-container {\n",
              "      display:flex;\n",
              "      gap: 12px;\n",
              "    }\n",
              "\n",
              "    .colab-df-convert {\n",
              "      background-color: #E8F0FE;\n",
              "      border: none;\n",
              "      border-radius: 50%;\n",
              "      cursor: pointer;\n",
              "      display: none;\n",
              "      fill: #1967D2;\n",
              "      height: 32px;\n",
              "      padding: 0 0 0 0;\n",
              "      width: 32px;\n",
              "    }\n",
              "\n",
              "    .colab-df-convert:hover {\n",
              "      background-color: #E2EBFA;\n",
              "      box-shadow: 0px 1px 2px rgba(60, 64, 67, 0.3), 0px 1px 3px 1px rgba(60, 64, 67, 0.15);\n",
              "      fill: #174EA6;\n",
              "    }\n",
              "\n",
              "    .colab-df-buttons div {\n",
              "      margin-bottom: 4px;\n",
              "    }\n",
              "\n",
              "    [theme=dark] .colab-df-convert {\n",
              "      background-color: #3B4455;\n",
              "      fill: #D2E3FC;\n",
              "    }\n",
              "\n",
              "    [theme=dark] .colab-df-convert:hover {\n",
              "      background-color: #434B5C;\n",
              "      box-shadow: 0px 1px 3px 1px rgba(0, 0, 0, 0.15);\n",
              "      filter: drop-shadow(0px 1px 2px rgba(0, 0, 0, 0.3));\n",
              "      fill: #FFFFFF;\n",
              "    }\n",
              "  </style>\n",
              "\n",
              "    <script>\n",
              "      const buttonEl =\n",
              "        document.querySelector('#df-6e73e3dd-f984-4a41-b6f7-1a1a715e4297 button.colab-df-convert');\n",
              "      buttonEl.style.display =\n",
              "        google.colab.kernel.accessAllowed ? 'block' : 'none';\n",
              "\n",
              "      async function convertToInteractive(key) {\n",
              "        const element = document.querySelector('#df-6e73e3dd-f984-4a41-b6f7-1a1a715e4297');\n",
              "        const dataTable =\n",
              "          await google.colab.kernel.invokeFunction('convertToInteractive',\n",
              "                                                    [key], {});\n",
              "        if (!dataTable) return;\n",
              "\n",
              "        const docLinkHtml = 'Like what you see? Visit the ' +\n",
              "          '<a target=\"_blank\" href=https://colab.research.google.com/notebooks/data_table.ipynb>data table notebook</a>'\n",
              "          + ' to learn more about interactive tables.';\n",
              "        element.innerHTML = '';\n",
              "        dataTable['output_type'] = 'display_data';\n",
              "        await google.colab.output.renderOutput(dataTable, element);\n",
              "        const docLink = document.createElement('div');\n",
              "        docLink.innerHTML = docLinkHtml;\n",
              "        element.appendChild(docLink);\n",
              "      }\n",
              "    </script>\n",
              "  </div>\n",
              "\n",
              "\n",
              "<div id=\"df-98d7afdf-12f4-4792-b361-9574c7436003\">\n",
              "  <button class=\"colab-df-quickchart\" onclick=\"quickchart('df-98d7afdf-12f4-4792-b361-9574c7436003')\"\n",
              "            title=\"Suggest charts\"\n",
              "            style=\"display:none;\">\n",
              "\n",
              "<svg xmlns=\"http://www.w3.org/2000/svg\" height=\"24px\"viewBox=\"0 0 24 24\"\n",
              "     width=\"24px\">\n",
              "    <g>\n",
              "        <path d=\"M19 3H5c-1.1 0-2 .9-2 2v14c0 1.1.9 2 2 2h14c1.1 0 2-.9 2-2V5c0-1.1-.9-2-2-2zM9 17H7v-7h2v7zm4 0h-2V7h2v10zm4 0h-2v-4h2v4z\"/>\n",
              "    </g>\n",
              "</svg>\n",
              "  </button>\n",
              "\n",
              "<style>\n",
              "  .colab-df-quickchart {\n",
              "      --bg-color: #E8F0FE;\n",
              "      --fill-color: #1967D2;\n",
              "      --hover-bg-color: #E2EBFA;\n",
              "      --hover-fill-color: #174EA6;\n",
              "      --disabled-fill-color: #AAA;\n",
              "      --disabled-bg-color: #DDD;\n",
              "  }\n",
              "\n",
              "  [theme=dark] .colab-df-quickchart {\n",
              "      --bg-color: #3B4455;\n",
              "      --fill-color: #D2E3FC;\n",
              "      --hover-bg-color: #434B5C;\n",
              "      --hover-fill-color: #FFFFFF;\n",
              "      --disabled-bg-color: #3B4455;\n",
              "      --disabled-fill-color: #666;\n",
              "  }\n",
              "\n",
              "  .colab-df-quickchart {\n",
              "    background-color: var(--bg-color);\n",
              "    border: none;\n",
              "    border-radius: 50%;\n",
              "    cursor: pointer;\n",
              "    display: none;\n",
              "    fill: var(--fill-color);\n",
              "    height: 32px;\n",
              "    padding: 0;\n",
              "    width: 32px;\n",
              "  }\n",
              "\n",
              "  .colab-df-quickchart:hover {\n",
              "    background-color: var(--hover-bg-color);\n",
              "    box-shadow: 0 1px 2px rgba(60, 64, 67, 0.3), 0 1px 3px 1px rgba(60, 64, 67, 0.15);\n",
              "    fill: var(--button-hover-fill-color);\n",
              "  }\n",
              "\n",
              "  .colab-df-quickchart-complete:disabled,\n",
              "  .colab-df-quickchart-complete:disabled:hover {\n",
              "    background-color: var(--disabled-bg-color);\n",
              "    fill: var(--disabled-fill-color);\n",
              "    box-shadow: none;\n",
              "  }\n",
              "\n",
              "  .colab-df-spinner {\n",
              "    border: 2px solid var(--fill-color);\n",
              "    border-color: transparent;\n",
              "    border-bottom-color: var(--fill-color);\n",
              "    animation:\n",
              "      spin 1s steps(1) infinite;\n",
              "  }\n",
              "\n",
              "  @keyframes spin {\n",
              "    0% {\n",
              "      border-color: transparent;\n",
              "      border-bottom-color: var(--fill-color);\n",
              "      border-left-color: var(--fill-color);\n",
              "    }\n",
              "    20% {\n",
              "      border-color: transparent;\n",
              "      border-left-color: var(--fill-color);\n",
              "      border-top-color: var(--fill-color);\n",
              "    }\n",
              "    30% {\n",
              "      border-color: transparent;\n",
              "      border-left-color: var(--fill-color);\n",
              "      border-top-color: var(--fill-color);\n",
              "      border-right-color: var(--fill-color);\n",
              "    }\n",
              "    40% {\n",
              "      border-color: transparent;\n",
              "      border-right-color: var(--fill-color);\n",
              "      border-top-color: var(--fill-color);\n",
              "    }\n",
              "    60% {\n",
              "      border-color: transparent;\n",
              "      border-right-color: var(--fill-color);\n",
              "    }\n",
              "    80% {\n",
              "      border-color: transparent;\n",
              "      border-right-color: var(--fill-color);\n",
              "      border-bottom-color: var(--fill-color);\n",
              "    }\n",
              "    90% {\n",
              "      border-color: transparent;\n",
              "      border-bottom-color: var(--fill-color);\n",
              "    }\n",
              "  }\n",
              "</style>\n",
              "\n",
              "  <script>\n",
              "    async function quickchart(key) {\n",
              "      const quickchartButtonEl =\n",
              "        document.querySelector('#' + key + ' button');\n",
              "      quickchartButtonEl.disabled = true;  // To prevent multiple clicks.\n",
              "      quickchartButtonEl.classList.add('colab-df-spinner');\n",
              "      try {\n",
              "        const charts = await google.colab.kernel.invokeFunction(\n",
              "            'suggestCharts', [key], {});\n",
              "      } catch (error) {\n",
              "        console.error('Error during call to suggestCharts:', error);\n",
              "      }\n",
              "      quickchartButtonEl.classList.remove('colab-df-spinner');\n",
              "      quickchartButtonEl.classList.add('colab-df-quickchart-complete');\n",
              "    }\n",
              "    (() => {\n",
              "      let quickchartButtonEl =\n",
              "        document.querySelector('#df-98d7afdf-12f4-4792-b361-9574c7436003 button');\n",
              "      quickchartButtonEl.style.display =\n",
              "        google.colab.kernel.accessAllowed ? 'block' : 'none';\n",
              "    })();\n",
              "  </script>\n",
              "</div>\n",
              "\n",
              "  <div id=\"id_0774ee51-f1e7-4f43-b380-2c80378b3461\">\n",
              "    <style>\n",
              "      .colab-df-generate {\n",
              "        background-color: #E8F0FE;\n",
              "        border: none;\n",
              "        border-radius: 50%;\n",
              "        cursor: pointer;\n",
              "        display: none;\n",
              "        fill: #1967D2;\n",
              "        height: 32px;\n",
              "        padding: 0 0 0 0;\n",
              "        width: 32px;\n",
              "      }\n",
              "\n",
              "      .colab-df-generate:hover {\n",
              "        background-color: #E2EBFA;\n",
              "        box-shadow: 0px 1px 2px rgba(60, 64, 67, 0.3), 0px 1px 3px 1px rgba(60, 64, 67, 0.15);\n",
              "        fill: #174EA6;\n",
              "      }\n",
              "\n",
              "      [theme=dark] .colab-df-generate {\n",
              "        background-color: #3B4455;\n",
              "        fill: #D2E3FC;\n",
              "      }\n",
              "\n",
              "      [theme=dark] .colab-df-generate:hover {\n",
              "        background-color: #434B5C;\n",
              "        box-shadow: 0px 1px 3px 1px rgba(0, 0, 0, 0.15);\n",
              "        filter: drop-shadow(0px 1px 2px rgba(0, 0, 0, 0.3));\n",
              "        fill: #FFFFFF;\n",
              "      }\n",
              "    </style>\n",
              "    <button class=\"colab-df-generate\" onclick=\"generateWithVariable('data')\"\n",
              "            title=\"Generate code using this dataframe.\"\n",
              "            style=\"display:none;\">\n",
              "\n",
              "  <svg xmlns=\"http://www.w3.org/2000/svg\" height=\"24px\"viewBox=\"0 0 24 24\"\n",
              "       width=\"24px\">\n",
              "    <path d=\"M7,19H8.4L18.45,9,17,7.55,7,17.6ZM5,21V16.75L18.45,3.32a2,2,0,0,1,2.83,0l1.4,1.43a1.91,1.91,0,0,1,.58,1.4,1.91,1.91,0,0,1-.58,1.4L9.25,21ZM18.45,9,17,7.55Zm-12,3A5.31,5.31,0,0,0,4.9,8.1,5.31,5.31,0,0,0,1,6.5,5.31,5.31,0,0,0,4.9,4.9,5.31,5.31,0,0,0,6.5,1,5.31,5.31,0,0,0,8.1,4.9,5.31,5.31,0,0,0,12,6.5,5.46,5.46,0,0,0,6.5,12Z\"/>\n",
              "  </svg>\n",
              "    </button>\n",
              "    <script>\n",
              "      (() => {\n",
              "      const buttonEl =\n",
              "        document.querySelector('#id_0774ee51-f1e7-4f43-b380-2c80378b3461 button.colab-df-generate');\n",
              "      buttonEl.style.display =\n",
              "        google.colab.kernel.accessAllowed ? 'block' : 'none';\n",
              "\n",
              "      buttonEl.onclick = () => {\n",
              "        google.colab.notebook.generateWithVariable('data');\n",
              "      }\n",
              "      })();\n",
              "    </script>\n",
              "  </div>\n",
              "\n",
              "    </div>\n",
              "  </div>\n"
            ],
            "application/vnd.google.colaboratory.intrinsic+json": {
              "type": "dataframe",
              "variable_name": "data",
              "summary": "{\n  \"name\": \"data\",\n  \"rows\": 2300,\n  \"fields\": [\n    {\n      \"column\": \"review\",\n      \"properties\": {\n        \"dtype\": \"string\",\n        \"num_unique_values\": 2264,\n        \"samples\": [\n          \"\\u0e08\\u0e4b\\u0e32\\u0e25\\u0e39\\u0e01\\u0e2d\\u0e22\\u0e32\\u0e01\\u0e2b\\u0e25\\u0e32\\u0e27\\u0e40\\u0e2d\\u0e2d\\n\",\n          \"\\u0e2a\\u0e2b\\u0e20\\u0e32\\u0e1e\\u0e41\\u0e23\\u0e07\\u0e07\\u0e32\\u0e19 \\u0e40\\u0e2b\\u0e2d\\u0e30\\u0e46\",\n          \"\\u0e08\\u0e49\\u0e2d\\u0e19\\u0e19\\u0e46\"\n        ],\n        \"semantic_type\": \"\",\n        \"description\": \"\"\n      }\n    },\n    {\n      \"column\": \"label\",\n      \"properties\": {\n        \"dtype\": \"category\",\n        \"num_unique_values\": 6,\n        \"samples\": [\n          \"\\u0e04\\u0e33\\u0e17\\u0e31\\u0e48\\u0e27\\u0e44\\u0e1b\\u0e17\\u0e32\\u0e07\\u0e01\\u0e32\\u0e23\\u0e0a\\u0e21\",\n          \"\\u0e04\\u0e33\\u0e17\\u0e31\\u0e48\\u0e27\\u0e44\\u0e1b\",\n          \"\\u0e40\\u0e2b\\u0e22\\u0e35\\u0e22\\u0e14\\u0e40\\u0e1e\\u0e28\"\n        ],\n        \"semantic_type\": \"\",\n        \"description\": \"\"\n      }\n    }\n  ]\n}"
            }
          },
          "metadata": {},
          "execution_count": 10
        }
      ],
      "source": [
        "import pandas as pd\n",
        "\n",
        "# ตั้งค่า path ของไฟล์\n",
        "file_path = '/content/TextClass.csv'\n",
        "\n",
        "\n",
        "# โหลดไฟล์ CSV เป็น DataFrame\n",
        "data = pd.read_csv(file_path)\n",
        "\n",
        "\n",
        "#เปลี่ยนชื่อ labels\n",
        "new_labels = {\n",
        "    0: \"คำทั่วไปทางการชม\",\n",
        "    1: \"คำทั่วไป\",\n",
        "    2: \"คำหยาบปกติ\",\n",
        "    3: \"เหยียดรูปร่าง\",\n",
        "    4: \"เหยียดชนชั้น\",\n",
        "    5: \"เหยียดเพศ\"\n",
        "}\n",
        "\n",
        "data['label'] = data['label'].map(new_labels)\n",
        "data = data.rename(columns={'text': 'review'})\n",
        "# แสดงข้อมูล\n",
        "data"
      ]
    },
    {
      "cell_type": "code",
      "execution_count": null,
      "metadata": {
        "colab": {
          "base_uri": "https://localhost:8080/",
          "height": 424
        },
        "id": "53uA1NzdFWDB",
        "outputId": "fe9f72ed-ec97-4877-d653-44d21479dd7a"
      },
      "outputs": [
        {
          "output_type": "execute_result",
          "data": {
            "text/plain": [
              "                                                 review             label\n",
              "0                   พี่เบ๊บบี้จัดฟันแล้วน่ารักสุดๆๆๆๆๆๆ  คำทั่วไปทางการชม\n",
              "1                            พี่เบ๊บบี้จัดฟันน่ารักมากก  คำทั่วไปทางการชม\n",
              "2                                          พี่สวยมากค่ะ  คำทั่วไปทางการชม\n",
              "3                                     งามมากกลูกสาวววว💛  คำทั่วไปทางการชม\n",
              "4                                              คนสวย🥰🥰🥰  คำทั่วไปทางการชม\n",
              "...                                                 ...               ...\n",
              "2295  กูเขดและเน๊าะ โปรวันพุธ มะเติมของเลยต้องรอคิวเ...        คำหยาบปกติ\n",
              "2296    โห้ ไม่เคยเจอฟอร์จูน crv pajero ตามหลังเลยหรา\\n        คำหยาบปกติ\n",
              "2297  Mazda cx-3 ใหม่ คือไม่ไหวอะ เห็นละทนไม่ได้ สวย...        คำหยาบปกติ\n",
              "2298                        แดกเบียร์เหล้ากูเอียนสปาย\\n        คำหยาบปกติ\n",
              "2299  มีที่เขียนคิ้วอันไหนดีกว่าของอีทูดี้บ้าง คือน้...        คำหยาบปกติ\n",
              "\n",
              "[2300 rows x 2 columns]"
            ],
            "text/html": [
              "\n",
              "  <div id=\"df-4d901e1a-f198-4376-b472-c31a06741dde\" class=\"colab-df-container\">\n",
              "    <div>\n",
              "<style scoped>\n",
              "    .dataframe tbody tr th:only-of-type {\n",
              "        vertical-align: middle;\n",
              "    }\n",
              "\n",
              "    .dataframe tbody tr th {\n",
              "        vertical-align: top;\n",
              "    }\n",
              "\n",
              "    .dataframe thead th {\n",
              "        text-align: right;\n",
              "    }\n",
              "</style>\n",
              "<table border=\"1\" class=\"dataframe\">\n",
              "  <thead>\n",
              "    <tr style=\"text-align: right;\">\n",
              "      <th></th>\n",
              "      <th>review</th>\n",
              "      <th>label</th>\n",
              "    </tr>\n",
              "  </thead>\n",
              "  <tbody>\n",
              "    <tr>\n",
              "      <th>0</th>\n",
              "      <td>พี่เบ๊บบี้จัดฟันแล้วน่ารักสุดๆๆๆๆๆๆ</td>\n",
              "      <td>คำทั่วไปทางการชม</td>\n",
              "    </tr>\n",
              "    <tr>\n",
              "      <th>1</th>\n",
              "      <td>พี่เบ๊บบี้จัดฟันน่ารักมากก</td>\n",
              "      <td>คำทั่วไปทางการชม</td>\n",
              "    </tr>\n",
              "    <tr>\n",
              "      <th>2</th>\n",
              "      <td>พี่สวยมากค่ะ</td>\n",
              "      <td>คำทั่วไปทางการชม</td>\n",
              "    </tr>\n",
              "    <tr>\n",
              "      <th>3</th>\n",
              "      <td>งามมากกลูกสาวววว💛</td>\n",
              "      <td>คำทั่วไปทางการชม</td>\n",
              "    </tr>\n",
              "    <tr>\n",
              "      <th>4</th>\n",
              "      <td>คนสวย🥰🥰🥰</td>\n",
              "      <td>คำทั่วไปทางการชม</td>\n",
              "    </tr>\n",
              "    <tr>\n",
              "      <th>...</th>\n",
              "      <td>...</td>\n",
              "      <td>...</td>\n",
              "    </tr>\n",
              "    <tr>\n",
              "      <th>2295</th>\n",
              "      <td>กูเขดและเน๊าะ โปรวันพุธ มะเติมของเลยต้องรอคิวเ...</td>\n",
              "      <td>คำหยาบปกติ</td>\n",
              "    </tr>\n",
              "    <tr>\n",
              "      <th>2296</th>\n",
              "      <td>โห้ ไม่เคยเจอฟอร์จูน crv pajero ตามหลังเลยหรา\\n</td>\n",
              "      <td>คำหยาบปกติ</td>\n",
              "    </tr>\n",
              "    <tr>\n",
              "      <th>2297</th>\n",
              "      <td>Mazda cx-3 ใหม่ คือไม่ไหวอะ เห็นละทนไม่ได้ สวย...</td>\n",
              "      <td>คำหยาบปกติ</td>\n",
              "    </tr>\n",
              "    <tr>\n",
              "      <th>2298</th>\n",
              "      <td>แดกเบียร์เหล้ากูเอียนสปาย\\n</td>\n",
              "      <td>คำหยาบปกติ</td>\n",
              "    </tr>\n",
              "    <tr>\n",
              "      <th>2299</th>\n",
              "      <td>มีที่เขียนคิ้วอันไหนดีกว่าของอีทูดี้บ้าง คือน้...</td>\n",
              "      <td>คำหยาบปกติ</td>\n",
              "    </tr>\n",
              "  </tbody>\n",
              "</table>\n",
              "<p>2300 rows × 2 columns</p>\n",
              "</div>\n",
              "    <div class=\"colab-df-buttons\">\n",
              "\n",
              "  <div class=\"colab-df-container\">\n",
              "    <button class=\"colab-df-convert\" onclick=\"convertToInteractive('df-4d901e1a-f198-4376-b472-c31a06741dde')\"\n",
              "            title=\"Convert this dataframe to an interactive table.\"\n",
              "            style=\"display:none;\">\n",
              "\n",
              "  <svg xmlns=\"http://www.w3.org/2000/svg\" height=\"24px\" viewBox=\"0 -960 960 960\">\n",
              "    <path d=\"M120-120v-720h720v720H120Zm60-500h600v-160H180v160Zm220 220h160v-160H400v160Zm0 220h160v-160H400v160ZM180-400h160v-160H180v160Zm440 0h160v-160H620v160ZM180-180h160v-160H180v160Zm440 0h160v-160H620v160Z\"/>\n",
              "  </svg>\n",
              "    </button>\n",
              "\n",
              "  <style>\n",
              "    .colab-df-container {\n",
              "      display:flex;\n",
              "      gap: 12px;\n",
              "    }\n",
              "\n",
              "    .colab-df-convert {\n",
              "      background-color: #E8F0FE;\n",
              "      border: none;\n",
              "      border-radius: 50%;\n",
              "      cursor: pointer;\n",
              "      display: none;\n",
              "      fill: #1967D2;\n",
              "      height: 32px;\n",
              "      padding: 0 0 0 0;\n",
              "      width: 32px;\n",
              "    }\n",
              "\n",
              "    .colab-df-convert:hover {\n",
              "      background-color: #E2EBFA;\n",
              "      box-shadow: 0px 1px 2px rgba(60, 64, 67, 0.3), 0px 1px 3px 1px rgba(60, 64, 67, 0.15);\n",
              "      fill: #174EA6;\n",
              "    }\n",
              "\n",
              "    .colab-df-buttons div {\n",
              "      margin-bottom: 4px;\n",
              "    }\n",
              "\n",
              "    [theme=dark] .colab-df-convert {\n",
              "      background-color: #3B4455;\n",
              "      fill: #D2E3FC;\n",
              "    }\n",
              "\n",
              "    [theme=dark] .colab-df-convert:hover {\n",
              "      background-color: #434B5C;\n",
              "      box-shadow: 0px 1px 3px 1px rgba(0, 0, 0, 0.15);\n",
              "      filter: drop-shadow(0px 1px 2px rgba(0, 0, 0, 0.3));\n",
              "      fill: #FFFFFF;\n",
              "    }\n",
              "  </style>\n",
              "\n",
              "    <script>\n",
              "      const buttonEl =\n",
              "        document.querySelector('#df-4d901e1a-f198-4376-b472-c31a06741dde button.colab-df-convert');\n",
              "      buttonEl.style.display =\n",
              "        google.colab.kernel.accessAllowed ? 'block' : 'none';\n",
              "\n",
              "      async function convertToInteractive(key) {\n",
              "        const element = document.querySelector('#df-4d901e1a-f198-4376-b472-c31a06741dde');\n",
              "        const dataTable =\n",
              "          await google.colab.kernel.invokeFunction('convertToInteractive',\n",
              "                                                    [key], {});\n",
              "        if (!dataTable) return;\n",
              "\n",
              "        const docLinkHtml = 'Like what you see? Visit the ' +\n",
              "          '<a target=\"_blank\" href=https://colab.research.google.com/notebooks/data_table.ipynb>data table notebook</a>'\n",
              "          + ' to learn more about interactive tables.';\n",
              "        element.innerHTML = '';\n",
              "        dataTable['output_type'] = 'display_data';\n",
              "        await google.colab.output.renderOutput(dataTable, element);\n",
              "        const docLink = document.createElement('div');\n",
              "        docLink.innerHTML = docLinkHtml;\n",
              "        element.appendChild(docLink);\n",
              "      }\n",
              "    </script>\n",
              "  </div>\n",
              "\n",
              "\n",
              "<div id=\"df-2bb6b5b1-c9eb-4bf9-96e6-daf3b1f08697\">\n",
              "  <button class=\"colab-df-quickchart\" onclick=\"quickchart('df-2bb6b5b1-c9eb-4bf9-96e6-daf3b1f08697')\"\n",
              "            title=\"Suggest charts\"\n",
              "            style=\"display:none;\">\n",
              "\n",
              "<svg xmlns=\"http://www.w3.org/2000/svg\" height=\"24px\"viewBox=\"0 0 24 24\"\n",
              "     width=\"24px\">\n",
              "    <g>\n",
              "        <path d=\"M19 3H5c-1.1 0-2 .9-2 2v14c0 1.1.9 2 2 2h14c1.1 0 2-.9 2-2V5c0-1.1-.9-2-2-2zM9 17H7v-7h2v7zm4 0h-2V7h2v10zm4 0h-2v-4h2v4z\"/>\n",
              "    </g>\n",
              "</svg>\n",
              "  </button>\n",
              "\n",
              "<style>\n",
              "  .colab-df-quickchart {\n",
              "      --bg-color: #E8F0FE;\n",
              "      --fill-color: #1967D2;\n",
              "      --hover-bg-color: #E2EBFA;\n",
              "      --hover-fill-color: #174EA6;\n",
              "      --disabled-fill-color: #AAA;\n",
              "      --disabled-bg-color: #DDD;\n",
              "  }\n",
              "\n",
              "  [theme=dark] .colab-df-quickchart {\n",
              "      --bg-color: #3B4455;\n",
              "      --fill-color: #D2E3FC;\n",
              "      --hover-bg-color: #434B5C;\n",
              "      --hover-fill-color: #FFFFFF;\n",
              "      --disabled-bg-color: #3B4455;\n",
              "      --disabled-fill-color: #666;\n",
              "  }\n",
              "\n",
              "  .colab-df-quickchart {\n",
              "    background-color: var(--bg-color);\n",
              "    border: none;\n",
              "    border-radius: 50%;\n",
              "    cursor: pointer;\n",
              "    display: none;\n",
              "    fill: var(--fill-color);\n",
              "    height: 32px;\n",
              "    padding: 0;\n",
              "    width: 32px;\n",
              "  }\n",
              "\n",
              "  .colab-df-quickchart:hover {\n",
              "    background-color: var(--hover-bg-color);\n",
              "    box-shadow: 0 1px 2px rgba(60, 64, 67, 0.3), 0 1px 3px 1px rgba(60, 64, 67, 0.15);\n",
              "    fill: var(--button-hover-fill-color);\n",
              "  }\n",
              "\n",
              "  .colab-df-quickchart-complete:disabled,\n",
              "  .colab-df-quickchart-complete:disabled:hover {\n",
              "    background-color: var(--disabled-bg-color);\n",
              "    fill: var(--disabled-fill-color);\n",
              "    box-shadow: none;\n",
              "  }\n",
              "\n",
              "  .colab-df-spinner {\n",
              "    border: 2px solid var(--fill-color);\n",
              "    border-color: transparent;\n",
              "    border-bottom-color: var(--fill-color);\n",
              "    animation:\n",
              "      spin 1s steps(1) infinite;\n",
              "  }\n",
              "\n",
              "  @keyframes spin {\n",
              "    0% {\n",
              "      border-color: transparent;\n",
              "      border-bottom-color: var(--fill-color);\n",
              "      border-left-color: var(--fill-color);\n",
              "    }\n",
              "    20% {\n",
              "      border-color: transparent;\n",
              "      border-left-color: var(--fill-color);\n",
              "      border-top-color: var(--fill-color);\n",
              "    }\n",
              "    30% {\n",
              "      border-color: transparent;\n",
              "      border-left-color: var(--fill-color);\n",
              "      border-top-color: var(--fill-color);\n",
              "      border-right-color: var(--fill-color);\n",
              "    }\n",
              "    40% {\n",
              "      border-color: transparent;\n",
              "      border-right-color: var(--fill-color);\n",
              "      border-top-color: var(--fill-color);\n",
              "    }\n",
              "    60% {\n",
              "      border-color: transparent;\n",
              "      border-right-color: var(--fill-color);\n",
              "    }\n",
              "    80% {\n",
              "      border-color: transparent;\n",
              "      border-right-color: var(--fill-color);\n",
              "      border-bottom-color: var(--fill-color);\n",
              "    }\n",
              "    90% {\n",
              "      border-color: transparent;\n",
              "      border-bottom-color: var(--fill-color);\n",
              "    }\n",
              "  }\n",
              "</style>\n",
              "\n",
              "  <script>\n",
              "    async function quickchart(key) {\n",
              "      const quickchartButtonEl =\n",
              "        document.querySelector('#' + key + ' button');\n",
              "      quickchartButtonEl.disabled = true;  // To prevent multiple clicks.\n",
              "      quickchartButtonEl.classList.add('colab-df-spinner');\n",
              "      try {\n",
              "        const charts = await google.colab.kernel.invokeFunction(\n",
              "            'suggestCharts', [key], {});\n",
              "      } catch (error) {\n",
              "        console.error('Error during call to suggestCharts:', error);\n",
              "      }\n",
              "      quickchartButtonEl.classList.remove('colab-df-spinner');\n",
              "      quickchartButtonEl.classList.add('colab-df-quickchart-complete');\n",
              "    }\n",
              "    (() => {\n",
              "      let quickchartButtonEl =\n",
              "        document.querySelector('#df-2bb6b5b1-c9eb-4bf9-96e6-daf3b1f08697 button');\n",
              "      quickchartButtonEl.style.display =\n",
              "        google.colab.kernel.accessAllowed ? 'block' : 'none';\n",
              "    })();\n",
              "  </script>\n",
              "</div>\n",
              "\n",
              "  <div id=\"id_7f9934ce-1228-4e97-997b-205621e87bfd\">\n",
              "    <style>\n",
              "      .colab-df-generate {\n",
              "        background-color: #E8F0FE;\n",
              "        border: none;\n",
              "        border-radius: 50%;\n",
              "        cursor: pointer;\n",
              "        display: none;\n",
              "        fill: #1967D2;\n",
              "        height: 32px;\n",
              "        padding: 0 0 0 0;\n",
              "        width: 32px;\n",
              "      }\n",
              "\n",
              "      .colab-df-generate:hover {\n",
              "        background-color: #E2EBFA;\n",
              "        box-shadow: 0px 1px 2px rgba(60, 64, 67, 0.3), 0px 1px 3px 1px rgba(60, 64, 67, 0.15);\n",
              "        fill: #174EA6;\n",
              "      }\n",
              "\n",
              "      [theme=dark] .colab-df-generate {\n",
              "        background-color: #3B4455;\n",
              "        fill: #D2E3FC;\n",
              "      }\n",
              "\n",
              "      [theme=dark] .colab-df-generate:hover {\n",
              "        background-color: #434B5C;\n",
              "        box-shadow: 0px 1px 3px 1px rgba(0, 0, 0, 0.15);\n",
              "        filter: drop-shadow(0px 1px 2px rgba(0, 0, 0, 0.3));\n",
              "        fill: #FFFFFF;\n",
              "      }\n",
              "    </style>\n",
              "    <button class=\"colab-df-generate\" onclick=\"generateWithVariable('data')\"\n",
              "            title=\"Generate code using this dataframe.\"\n",
              "            style=\"display:none;\">\n",
              "\n",
              "  <svg xmlns=\"http://www.w3.org/2000/svg\" height=\"24px\"viewBox=\"0 0 24 24\"\n",
              "       width=\"24px\">\n",
              "    <path d=\"M7,19H8.4L18.45,9,17,7.55,7,17.6ZM5,21V16.75L18.45,3.32a2,2,0,0,1,2.83,0l1.4,1.43a1.91,1.91,0,0,1,.58,1.4,1.91,1.91,0,0,1-.58,1.4L9.25,21ZM18.45,9,17,7.55Zm-12,3A5.31,5.31,0,0,0,4.9,8.1,5.31,5.31,0,0,0,1,6.5,5.31,5.31,0,0,0,4.9,4.9,5.31,5.31,0,0,0,6.5,1,5.31,5.31,0,0,0,8.1,4.9,5.31,5.31,0,0,0,12,6.5,5.46,5.46,0,0,0,6.5,12Z\"/>\n",
              "  </svg>\n",
              "    </button>\n",
              "    <script>\n",
              "      (() => {\n",
              "      const buttonEl =\n",
              "        document.querySelector('#id_7f9934ce-1228-4e97-997b-205621e87bfd button.colab-df-generate');\n",
              "      buttonEl.style.display =\n",
              "        google.colab.kernel.accessAllowed ? 'block' : 'none';\n",
              "\n",
              "      buttonEl.onclick = () => {\n",
              "        google.colab.notebook.generateWithVariable('data');\n",
              "      }\n",
              "      })();\n",
              "    </script>\n",
              "  </div>\n",
              "\n",
              "    </div>\n",
              "  </div>\n"
            ],
            "application/vnd.google.colaboratory.intrinsic+json": {
              "type": "dataframe",
              "variable_name": "data",
              "summary": "{\n  \"name\": \"data\",\n  \"rows\": 2300,\n  \"fields\": [\n    {\n      \"column\": \"review\",\n      \"properties\": {\n        \"dtype\": \"string\",\n        \"num_unique_values\": 2264,\n        \"samples\": [\n          \"\\u0e08\\u0e4b\\u0e32\\u0e25\\u0e39\\u0e01\\u0e2d\\u0e22\\u0e32\\u0e01\\u0e2b\\u0e25\\u0e32\\u0e27\\u0e40\\u0e2d\\u0e2d\\n\",\n          \"\\u0e2a\\u0e2b\\u0e20\\u0e32\\u0e1e\\u0e41\\u0e23\\u0e07\\u0e07\\u0e32\\u0e19 \\u0e40\\u0e2b\\u0e2d\\u0e30\\u0e46\",\n          \"\\u0e08\\u0e49\\u0e2d\\u0e19\\u0e19\\u0e46\"\n        ],\n        \"semantic_type\": \"\",\n        \"description\": \"\"\n      }\n    },\n    {\n      \"column\": \"label\",\n      \"properties\": {\n        \"dtype\": \"category\",\n        \"num_unique_values\": 6,\n        \"samples\": [\n          \"\\u0e04\\u0e33\\u0e17\\u0e31\\u0e48\\u0e27\\u0e44\\u0e1b\\u0e17\\u0e32\\u0e07\\u0e01\\u0e32\\u0e23\\u0e0a\\u0e21\",\n          \"\\u0e04\\u0e33\\u0e17\\u0e31\\u0e48\\u0e27\\u0e44\\u0e1b\",\n          \"\\u0e40\\u0e2b\\u0e22\\u0e35\\u0e22\\u0e14\\u0e40\\u0e1e\\u0e28\"\n        ],\n        \"semantic_type\": \"\",\n        \"description\": \"\"\n      }\n    }\n  ]\n}"
            }
          },
          "metadata": {},
          "execution_count": 11
        }
      ],
      "source": [
        "data"
      ]
    },
    {
      "cell_type": "code",
      "execution_count": null,
      "metadata": {
        "id": "3H_SV03bi6nf"
      },
      "outputs": [],
      "source": [
        "# # Training configurations\n",
        "# SEED = 1234\n",
        "# TRAIN = False\n",
        "# BATCH_SIZE = 64\n",
        "# N_EPOCHS = 200\n",
        "\n",
        "# # Architecture\n",
        "# EMBEDDING_DIM = 128\n",
        "# HIDDEN_DIM = 512\n",
        "# OUTPUT_DIM = 6\n",
        "# N_LAYERS = 2\n",
        "# BIDIRECTIONAL = True\n",
        "# DROPOUT = 0.25"
      ]
    },
    {
      "cell_type": "code",
      "execution_count": null,
      "metadata": {
        "id": "jlamzkyAH8XS"
      },
      "outputs": [],
      "source": [
        "import pandas as pd\n",
        "import re\n",
        "import pandas as pd\n",
        "import numpy as np\n",
        "from sklearn.preprocessing import LabelEncoder\n",
        "from sklearn.model_selection import train_test_split\n",
        "from sklearn.metrics import classification_report\n",
        "from sklearn.metrics import accuracy_score\n",
        "import math\n",
        "import nltk\n",
        "from sklearn.feature_extraction.text import CountVectorizer\n",
        "from collections import defaultdict"
      ]
    },
    {
      "cell_type": "code",
      "execution_count": null,
      "metadata": {
        "id": "Q48fq11tlcRv"
      },
      "outputs": [],
      "source": [
        "# import torch\n",
        "# import torch.nn as nn\n",
        "# import torch.optim as optim\n",
        "# # Bert model and its tokenizer\n",
        "# # Text data\n",
        "# from torchtext import data, datasets\n",
        "# # Numerical computation\n",
        "# import numpy as np\n",
        "# # standard library\n",
        "# import random\n",
        "# import time\n",
        "# # Configuration\n",
        "# #from config import *\n",
        "\n",
        "# # Set random seed for reproducible experiments\n",
        "# random.seed(SEED)\n",
        "# np.random.seed(SEED)\n",
        "# torch.manual_seed(SEED)\n",
        "# torch.backends.cudnn.deterministic = True\n",
        "\n",
        "# import pandas as pd\n",
        "# import re\n",
        "# import pandas as pd\n",
        "# import numpy as np\n",
        "# from sklearn.preprocessing import LabelEncoder\n",
        "# from sklearn.model_selection import train_test_split\n",
        "# from sklearn.metrics import classification_report\n",
        "# from sklearn.metrics import accuracy_score\n",
        "# import math\n",
        "# import nltk\n",
        "# from sklearn.feature_extraction.text import CountVectorizer\n",
        "# from collections import defaultdict"
      ]
    },
    {
      "cell_type": "code",
      "execution_count": null,
      "metadata": {
        "colab": {
          "base_uri": "https://localhost:8080/"
        },
        "id": "16iJg8ocB_l0",
        "outputId": "f0a8a08c-7910-4a33-f3ab-a2debfb03b45"
      },
      "outputs": [
        {
          "output_type": "stream",
          "name": "stdout",
          "text": [
            "                                           review             label  \\\n",
            "148         กลิ่นหมาเด็ก งื้ออ หอมมากตุนไป2ขวด🐶💖🥹  คำทั่วไปทางการชม   \n",
            "1152                                          ลาว      เหยียดชนชั้น   \n",
            "1501  คือนี่ยืนจนขาจะเดินไม่ได้แล้วช้าไปอีกอิตุ๊ด         เหยียดเพศ   \n",
            "665       หงส์ทอง.เฮ้ยไม่ใช่หงส์แดง.ลิเวอร์พูลคับ          คำทั่วไป   \n",
            "1249                                      โคตรลาว      เหยียดชนชั้น   \n",
            "\n",
            "                                         cleaned_review  \n",
            "148             กลิ่น หมา เด็ก งื้ออ หอ มมาก ตุน ไป ขวด  \n",
            "1152                                                ลาว  \n",
            "1501  คือ นี่ ยืน จน ขา จะ เดิน ไม่ ได้ แล้ว ช้า ไป ...  \n",
            "665         หงส์ทอง เฮ้ย ไม่ ใช่ หงส์แดง ลิเวอร์พูล คับ  \n",
            "1249                                           โคตร ลาว  \n"
          ]
        }
      ],
      "source": [
        "import re\n",
        "import pandas as pd\n",
        "from pythainlp.tokenize import word_tokenize\n",
        "from pythainlp.corpus.common import thai_stopwords\n",
        "\n",
        "# โหลดข้อมูล (ต้องระบุไฟล์ CSV ที่ใช้)\n",
        "\n",
        "def deEmojify(text):\n",
        "    \"\"\"ลบ Emoji ออกจากข้อความ\"\"\"\n",
        "    emoji_pattern = re.compile(\"[\"\n",
        "                               u\"\\U0001F600-\\U0001F64F\"  # emoticons\n",
        "                               u\"\\U0001F300-\\U0001F5FF\"  # symbols & pictographs\n",
        "                               u\"\\U0001F680-\\U0001F6FF\"  # transport & map symbols\n",
        "                               u\"\\U0001F700-\\U0001F77F\"  # alchemical symbols\n",
        "                               u\"\\U0001F780-\\U0001F7FF\"  # Geometric Shapes Extended\n",
        "                               u\"\\U0001F800-\\U0001F8FF\"  # Supplemental Arrows-C\n",
        "                               u\"\\U0001F900-\\U0001F9FF\"  # Supplemental Symbols and Pictographs\n",
        "                               u\"\\U0001FA00-\\U0001FA6F\"  # Chess Symbols, Symbols for Legacy Computing, etc.\n",
        "                               u\"\\U0001FA70-\\U0001FAFF\"  # Symbols and Pictographs Extended-A\n",
        "                               u\"\\U00002702-\\U000027B0\"  # Dingbats\n",
        "                               u\"\\U000024C2-\\U0001F251\"\n",
        "                               \"]+\", flags=re.UNICODE)\n",
        "    return emoji_pattern.sub(r'', text)\n",
        "\n",
        "def remove_stop_word(text):\n",
        "    \"\"\"ลบ stop words ออกจากข้อความ\"\"\"\n",
        "    stop_words = set(thai_stopwords())\n",
        "    return ' '.join([word for word in text.split() if word not in stop_words])\n",
        "\n",
        "def thai_clean_text(text):\n",
        "    \"\"\"ทำความสะอาดข้อความภาษาไทย\"\"\"\n",
        "    if not isinstance(text, str) or text.strip() == \"\":\n",
        "        return \"\"\n",
        "\n",
        "    # ลบ Emoji\n",
        "    text = deEmojify(text)\n",
        "\n",
        "    # ลบอักขระพิเศษ\n",
        "    text = re.sub(r'[.!@#%^&*()<>?/|}{~:]', '', text)\n",
        "\n",
        "    # ลบตัวเลข\n",
        "    text = re.sub(r'\\d+', '', text)\n",
        "\n",
        "    # ตัดคำ (Tokenization)\n",
        "    words = word_tokenize(text, keep_whitespace=False)\n",
        "\n",
        "    # ลบตัวอักษรที่ซ้ำกันเกิน 3 ตัว เช่น \"มากกกก\" → \"มากกก\"\n",
        "    words = [re.sub(r'([ก-ฮ])\\1{3,}', r'\\1\\1\\1', word) for word in words]\n",
        "\n",
        "    # ลบสระที่ซ้ำกันทิ้ง\n",
        "    words = [re.sub(r'([ะ-ูเ-ไ็-๋ๆ])\\1{2,}', r'\\1\\1', word) for word in words]\n",
        "\n",
        "    # ลบคำที่เหลือแต่ตัวอักษรซ้ำ เช่น \"นนนนนนน\" → ลบทิ้ง\n",
        "    words = [word for word in words if not re.fullmatch(r'([ก-ฮ])\\1+', word)]\n",
        "\n",
        "    # ลบ stop words\n",
        "    # words = [word for word in words if word not in thai_stopwords()]\n",
        "\n",
        "    return ' '.join(words).strip()\n",
        "\n",
        "# ทำความสะอาดคอลัมน์ review\n",
        "data['cleaned_review'] = data['review'].astype(str).apply(thai_clean_text)\n",
        "\n",
        "# บันทึกผลลัพธ์\n",
        "data.to_csv('cleaned_data.csv', index=False, encoding='utf-8')\n",
        "\n",
        "# แสดงตัวอย่างข้อมูลที่ทำความสะอาดแล้ว\n",
        "print(data.sample(5))\n"
      ]
    },
    {
      "cell_type": "code",
      "execution_count": null,
      "metadata": {
        "colab": {
          "base_uri": "https://localhost:8080/",
          "height": 424
        },
        "id": "w8osJbDkAE1O",
        "outputId": "060e6084-f4f5-47ab-988f-c46b529b8641"
      },
      "outputs": [
        {
          "output_type": "execute_result",
          "data": {
            "text/plain": [
              "                                                 review             label  \\\n",
              "0                   พี่เบ๊บบี้จัดฟันแล้วน่ารักสุดๆๆๆๆๆๆ  คำทั่วไปทางการชม   \n",
              "1                            พี่เบ๊บบี้จัดฟันน่ารักมากก  คำทั่วไปทางการชม   \n",
              "2                                          พี่สวยมากค่ะ  คำทั่วไปทางการชม   \n",
              "3                                     งามมากกลูกสาวววว💛  คำทั่วไปทางการชม   \n",
              "4                                              คนสวย🥰🥰🥰  คำทั่วไปทางการชม   \n",
              "...                                                 ...               ...   \n",
              "2295  กูเขดและเน๊าะ โปรวันพุธ มะเติมของเลยต้องรอคิวเ...        คำหยาบปกติ   \n",
              "2296    โห้ ไม่เคยเจอฟอร์จูน crv pajero ตามหลังเลยหรา\\n        คำหยาบปกติ   \n",
              "2297  Mazda cx-3 ใหม่ คือไม่ไหวอะ เห็นละทนไม่ได้ สวย...        คำหยาบปกติ   \n",
              "2298                        แดกเบียร์เหล้ากูเอียนสปาย\\n        คำหยาบปกติ   \n",
              "2299  มีที่เขียนคิ้วอันไหนดีกว่าของอีทูดี้บ้าง คือน้...        คำหยาบปกติ   \n",
              "\n",
              "                                         cleaned_review  \n",
              "0               พี่ เบ๊บ บี้ จัด ฟัน แล้ว น่ารัก สุด ๆๆ  \n",
              "1                        พี่ เบ๊บ บี้ จัด ฟัน น่ารัก มา  \n",
              "2                                       พี่ สวย มาก ค่ะ  \n",
              "3                                         งาม มา ลูกสาว  \n",
              "4                                                 คนสวย  \n",
              "...                                                 ...  \n",
              "2295  กู เข ด และ เน๊าะ โปร วัน พุธ มะ เติม ของ เลย ...  \n",
              "2296  โห้ ไม่ เคย เจอ ฟอร์จูน crv pajero ตามหลัง เลย...  \n",
              "2297  Mazda cx- ใหม่ คือ ไม่ ไหว อะ เห็น ละ ทน ไม่ ไ...  \n",
              "2298                     แดก เบียร์ เหล้า กู เอียน สปาย  \n",
              "2299  มี ที่ เขียน คิ้ว อัน ไหน ดีกว่า ของ อี ทู ดี้...  \n",
              "\n",
              "[2300 rows x 3 columns]"
            ],
            "text/html": [
              "\n",
              "  <div id=\"df-83c44b74-d011-4607-bedc-c0b4fb2906cc\" class=\"colab-df-container\">\n",
              "    <div>\n",
              "<style scoped>\n",
              "    .dataframe tbody tr th:only-of-type {\n",
              "        vertical-align: middle;\n",
              "    }\n",
              "\n",
              "    .dataframe tbody tr th {\n",
              "        vertical-align: top;\n",
              "    }\n",
              "\n",
              "    .dataframe thead th {\n",
              "        text-align: right;\n",
              "    }\n",
              "</style>\n",
              "<table border=\"1\" class=\"dataframe\">\n",
              "  <thead>\n",
              "    <tr style=\"text-align: right;\">\n",
              "      <th></th>\n",
              "      <th>review</th>\n",
              "      <th>label</th>\n",
              "      <th>cleaned_review</th>\n",
              "    </tr>\n",
              "  </thead>\n",
              "  <tbody>\n",
              "    <tr>\n",
              "      <th>0</th>\n",
              "      <td>พี่เบ๊บบี้จัดฟันแล้วน่ารักสุดๆๆๆๆๆๆ</td>\n",
              "      <td>คำทั่วไปทางการชม</td>\n",
              "      <td>พี่ เบ๊บ บี้ จัด ฟัน แล้ว น่ารัก สุด ๆๆ</td>\n",
              "    </tr>\n",
              "    <tr>\n",
              "      <th>1</th>\n",
              "      <td>พี่เบ๊บบี้จัดฟันน่ารักมากก</td>\n",
              "      <td>คำทั่วไปทางการชม</td>\n",
              "      <td>พี่ เบ๊บ บี้ จัด ฟัน น่ารัก มา</td>\n",
              "    </tr>\n",
              "    <tr>\n",
              "      <th>2</th>\n",
              "      <td>พี่สวยมากค่ะ</td>\n",
              "      <td>คำทั่วไปทางการชม</td>\n",
              "      <td>พี่ สวย มาก ค่ะ</td>\n",
              "    </tr>\n",
              "    <tr>\n",
              "      <th>3</th>\n",
              "      <td>งามมากกลูกสาวววว💛</td>\n",
              "      <td>คำทั่วไปทางการชม</td>\n",
              "      <td>งาม มา ลูกสาว</td>\n",
              "    </tr>\n",
              "    <tr>\n",
              "      <th>4</th>\n",
              "      <td>คนสวย🥰🥰🥰</td>\n",
              "      <td>คำทั่วไปทางการชม</td>\n",
              "      <td>คนสวย</td>\n",
              "    </tr>\n",
              "    <tr>\n",
              "      <th>...</th>\n",
              "      <td>...</td>\n",
              "      <td>...</td>\n",
              "      <td>...</td>\n",
              "    </tr>\n",
              "    <tr>\n",
              "      <th>2295</th>\n",
              "      <td>กูเขดและเน๊าะ โปรวันพุธ มะเติมของเลยต้องรอคิวเ...</td>\n",
              "      <td>คำหยาบปกติ</td>\n",
              "      <td>กู เข ด และ เน๊าะ โปร วัน พุธ มะ เติม ของ เลย ...</td>\n",
              "    </tr>\n",
              "    <tr>\n",
              "      <th>2296</th>\n",
              "      <td>โห้ ไม่เคยเจอฟอร์จูน crv pajero ตามหลังเลยหรา\\n</td>\n",
              "      <td>คำหยาบปกติ</td>\n",
              "      <td>โห้ ไม่ เคย เจอ ฟอร์จูน crv pajero ตามหลัง เลย...</td>\n",
              "    </tr>\n",
              "    <tr>\n",
              "      <th>2297</th>\n",
              "      <td>Mazda cx-3 ใหม่ คือไม่ไหวอะ เห็นละทนไม่ได้ สวย...</td>\n",
              "      <td>คำหยาบปกติ</td>\n",
              "      <td>Mazda cx- ใหม่ คือ ไม่ ไหว อะ เห็น ละ ทน ไม่ ไ...</td>\n",
              "    </tr>\n",
              "    <tr>\n",
              "      <th>2298</th>\n",
              "      <td>แดกเบียร์เหล้ากูเอียนสปาย\\n</td>\n",
              "      <td>คำหยาบปกติ</td>\n",
              "      <td>แดก เบียร์ เหล้า กู เอียน สปาย</td>\n",
              "    </tr>\n",
              "    <tr>\n",
              "      <th>2299</th>\n",
              "      <td>มีที่เขียนคิ้วอันไหนดีกว่าของอีทูดี้บ้าง คือน้...</td>\n",
              "      <td>คำหยาบปกติ</td>\n",
              "      <td>มี ที่ เขียน คิ้ว อัน ไหน ดีกว่า ของ อี ทู ดี้...</td>\n",
              "    </tr>\n",
              "  </tbody>\n",
              "</table>\n",
              "<p>2300 rows × 3 columns</p>\n",
              "</div>\n",
              "    <div class=\"colab-df-buttons\">\n",
              "\n",
              "  <div class=\"colab-df-container\">\n",
              "    <button class=\"colab-df-convert\" onclick=\"convertToInteractive('df-83c44b74-d011-4607-bedc-c0b4fb2906cc')\"\n",
              "            title=\"Convert this dataframe to an interactive table.\"\n",
              "            style=\"display:none;\">\n",
              "\n",
              "  <svg xmlns=\"http://www.w3.org/2000/svg\" height=\"24px\" viewBox=\"0 -960 960 960\">\n",
              "    <path d=\"M120-120v-720h720v720H120Zm60-500h600v-160H180v160Zm220 220h160v-160H400v160Zm0 220h160v-160H400v160ZM180-400h160v-160H180v160Zm440 0h160v-160H620v160ZM180-180h160v-160H180v160Zm440 0h160v-160H620v160Z\"/>\n",
              "  </svg>\n",
              "    </button>\n",
              "\n",
              "  <style>\n",
              "    .colab-df-container {\n",
              "      display:flex;\n",
              "      gap: 12px;\n",
              "    }\n",
              "\n",
              "    .colab-df-convert {\n",
              "      background-color: #E8F0FE;\n",
              "      border: none;\n",
              "      border-radius: 50%;\n",
              "      cursor: pointer;\n",
              "      display: none;\n",
              "      fill: #1967D2;\n",
              "      height: 32px;\n",
              "      padding: 0 0 0 0;\n",
              "      width: 32px;\n",
              "    }\n",
              "\n",
              "    .colab-df-convert:hover {\n",
              "      background-color: #E2EBFA;\n",
              "      box-shadow: 0px 1px 2px rgba(60, 64, 67, 0.3), 0px 1px 3px 1px rgba(60, 64, 67, 0.15);\n",
              "      fill: #174EA6;\n",
              "    }\n",
              "\n",
              "    .colab-df-buttons div {\n",
              "      margin-bottom: 4px;\n",
              "    }\n",
              "\n",
              "    [theme=dark] .colab-df-convert {\n",
              "      background-color: #3B4455;\n",
              "      fill: #D2E3FC;\n",
              "    }\n",
              "\n",
              "    [theme=dark] .colab-df-convert:hover {\n",
              "      background-color: #434B5C;\n",
              "      box-shadow: 0px 1px 3px 1px rgba(0, 0, 0, 0.15);\n",
              "      filter: drop-shadow(0px 1px 2px rgba(0, 0, 0, 0.3));\n",
              "      fill: #FFFFFF;\n",
              "    }\n",
              "  </style>\n",
              "\n",
              "    <script>\n",
              "      const buttonEl =\n",
              "        document.querySelector('#df-83c44b74-d011-4607-bedc-c0b4fb2906cc button.colab-df-convert');\n",
              "      buttonEl.style.display =\n",
              "        google.colab.kernel.accessAllowed ? 'block' : 'none';\n",
              "\n",
              "      async function convertToInteractive(key) {\n",
              "        const element = document.querySelector('#df-83c44b74-d011-4607-bedc-c0b4fb2906cc');\n",
              "        const dataTable =\n",
              "          await google.colab.kernel.invokeFunction('convertToInteractive',\n",
              "                                                    [key], {});\n",
              "        if (!dataTable) return;\n",
              "\n",
              "        const docLinkHtml = 'Like what you see? Visit the ' +\n",
              "          '<a target=\"_blank\" href=https://colab.research.google.com/notebooks/data_table.ipynb>data table notebook</a>'\n",
              "          + ' to learn more about interactive tables.';\n",
              "        element.innerHTML = '';\n",
              "        dataTable['output_type'] = 'display_data';\n",
              "        await google.colab.output.renderOutput(dataTable, element);\n",
              "        const docLink = document.createElement('div');\n",
              "        docLink.innerHTML = docLinkHtml;\n",
              "        element.appendChild(docLink);\n",
              "      }\n",
              "    </script>\n",
              "  </div>\n",
              "\n",
              "\n",
              "<div id=\"df-d2f2126e-f012-4d08-b317-4058d823addc\">\n",
              "  <button class=\"colab-df-quickchart\" onclick=\"quickchart('df-d2f2126e-f012-4d08-b317-4058d823addc')\"\n",
              "            title=\"Suggest charts\"\n",
              "            style=\"display:none;\">\n",
              "\n",
              "<svg xmlns=\"http://www.w3.org/2000/svg\" height=\"24px\"viewBox=\"0 0 24 24\"\n",
              "     width=\"24px\">\n",
              "    <g>\n",
              "        <path d=\"M19 3H5c-1.1 0-2 .9-2 2v14c0 1.1.9 2 2 2h14c1.1 0 2-.9 2-2V5c0-1.1-.9-2-2-2zM9 17H7v-7h2v7zm4 0h-2V7h2v10zm4 0h-2v-4h2v4z\"/>\n",
              "    </g>\n",
              "</svg>\n",
              "  </button>\n",
              "\n",
              "<style>\n",
              "  .colab-df-quickchart {\n",
              "      --bg-color: #E8F0FE;\n",
              "      --fill-color: #1967D2;\n",
              "      --hover-bg-color: #E2EBFA;\n",
              "      --hover-fill-color: #174EA6;\n",
              "      --disabled-fill-color: #AAA;\n",
              "      --disabled-bg-color: #DDD;\n",
              "  }\n",
              "\n",
              "  [theme=dark] .colab-df-quickchart {\n",
              "      --bg-color: #3B4455;\n",
              "      --fill-color: #D2E3FC;\n",
              "      --hover-bg-color: #434B5C;\n",
              "      --hover-fill-color: #FFFFFF;\n",
              "      --disabled-bg-color: #3B4455;\n",
              "      --disabled-fill-color: #666;\n",
              "  }\n",
              "\n",
              "  .colab-df-quickchart {\n",
              "    background-color: var(--bg-color);\n",
              "    border: none;\n",
              "    border-radius: 50%;\n",
              "    cursor: pointer;\n",
              "    display: none;\n",
              "    fill: var(--fill-color);\n",
              "    height: 32px;\n",
              "    padding: 0;\n",
              "    width: 32px;\n",
              "  }\n",
              "\n",
              "  .colab-df-quickchart:hover {\n",
              "    background-color: var(--hover-bg-color);\n",
              "    box-shadow: 0 1px 2px rgba(60, 64, 67, 0.3), 0 1px 3px 1px rgba(60, 64, 67, 0.15);\n",
              "    fill: var(--button-hover-fill-color);\n",
              "  }\n",
              "\n",
              "  .colab-df-quickchart-complete:disabled,\n",
              "  .colab-df-quickchart-complete:disabled:hover {\n",
              "    background-color: var(--disabled-bg-color);\n",
              "    fill: var(--disabled-fill-color);\n",
              "    box-shadow: none;\n",
              "  }\n",
              "\n",
              "  .colab-df-spinner {\n",
              "    border: 2px solid var(--fill-color);\n",
              "    border-color: transparent;\n",
              "    border-bottom-color: var(--fill-color);\n",
              "    animation:\n",
              "      spin 1s steps(1) infinite;\n",
              "  }\n",
              "\n",
              "  @keyframes spin {\n",
              "    0% {\n",
              "      border-color: transparent;\n",
              "      border-bottom-color: var(--fill-color);\n",
              "      border-left-color: var(--fill-color);\n",
              "    }\n",
              "    20% {\n",
              "      border-color: transparent;\n",
              "      border-left-color: var(--fill-color);\n",
              "      border-top-color: var(--fill-color);\n",
              "    }\n",
              "    30% {\n",
              "      border-color: transparent;\n",
              "      border-left-color: var(--fill-color);\n",
              "      border-top-color: var(--fill-color);\n",
              "      border-right-color: var(--fill-color);\n",
              "    }\n",
              "    40% {\n",
              "      border-color: transparent;\n",
              "      border-right-color: var(--fill-color);\n",
              "      border-top-color: var(--fill-color);\n",
              "    }\n",
              "    60% {\n",
              "      border-color: transparent;\n",
              "      border-right-color: var(--fill-color);\n",
              "    }\n",
              "    80% {\n",
              "      border-color: transparent;\n",
              "      border-right-color: var(--fill-color);\n",
              "      border-bottom-color: var(--fill-color);\n",
              "    }\n",
              "    90% {\n",
              "      border-color: transparent;\n",
              "      border-bottom-color: var(--fill-color);\n",
              "    }\n",
              "  }\n",
              "</style>\n",
              "\n",
              "  <script>\n",
              "    async function quickchart(key) {\n",
              "      const quickchartButtonEl =\n",
              "        document.querySelector('#' + key + ' button');\n",
              "      quickchartButtonEl.disabled = true;  // To prevent multiple clicks.\n",
              "      quickchartButtonEl.classList.add('colab-df-spinner');\n",
              "      try {\n",
              "        const charts = await google.colab.kernel.invokeFunction(\n",
              "            'suggestCharts', [key], {});\n",
              "      } catch (error) {\n",
              "        console.error('Error during call to suggestCharts:', error);\n",
              "      }\n",
              "      quickchartButtonEl.classList.remove('colab-df-spinner');\n",
              "      quickchartButtonEl.classList.add('colab-df-quickchart-complete');\n",
              "    }\n",
              "    (() => {\n",
              "      let quickchartButtonEl =\n",
              "        document.querySelector('#df-d2f2126e-f012-4d08-b317-4058d823addc button');\n",
              "      quickchartButtonEl.style.display =\n",
              "        google.colab.kernel.accessAllowed ? 'block' : 'none';\n",
              "    })();\n",
              "  </script>\n",
              "</div>\n",
              "\n",
              "  <div id=\"id_c290e59f-2485-4ab8-a68a-f008d8f3eaeb\">\n",
              "    <style>\n",
              "      .colab-df-generate {\n",
              "        background-color: #E8F0FE;\n",
              "        border: none;\n",
              "        border-radius: 50%;\n",
              "        cursor: pointer;\n",
              "        display: none;\n",
              "        fill: #1967D2;\n",
              "        height: 32px;\n",
              "        padding: 0 0 0 0;\n",
              "        width: 32px;\n",
              "      }\n",
              "\n",
              "      .colab-df-generate:hover {\n",
              "        background-color: #E2EBFA;\n",
              "        box-shadow: 0px 1px 2px rgba(60, 64, 67, 0.3), 0px 1px 3px 1px rgba(60, 64, 67, 0.15);\n",
              "        fill: #174EA6;\n",
              "      }\n",
              "\n",
              "      [theme=dark] .colab-df-generate {\n",
              "        background-color: #3B4455;\n",
              "        fill: #D2E3FC;\n",
              "      }\n",
              "\n",
              "      [theme=dark] .colab-df-generate:hover {\n",
              "        background-color: #434B5C;\n",
              "        box-shadow: 0px 1px 3px 1px rgba(0, 0, 0, 0.15);\n",
              "        filter: drop-shadow(0px 1px 2px rgba(0, 0, 0, 0.3));\n",
              "        fill: #FFFFFF;\n",
              "      }\n",
              "    </style>\n",
              "    <button class=\"colab-df-generate\" onclick=\"generateWithVariable('data')\"\n",
              "            title=\"Generate code using this dataframe.\"\n",
              "            style=\"display:none;\">\n",
              "\n",
              "  <svg xmlns=\"http://www.w3.org/2000/svg\" height=\"24px\"viewBox=\"0 0 24 24\"\n",
              "       width=\"24px\">\n",
              "    <path d=\"M7,19H8.4L18.45,9,17,7.55,7,17.6ZM5,21V16.75L18.45,3.32a2,2,0,0,1,2.83,0l1.4,1.43a1.91,1.91,0,0,1,.58,1.4,1.91,1.91,0,0,1-.58,1.4L9.25,21ZM18.45,9,17,7.55Zm-12,3A5.31,5.31,0,0,0,4.9,8.1,5.31,5.31,0,0,0,1,6.5,5.31,5.31,0,0,0,4.9,4.9,5.31,5.31,0,0,0,6.5,1,5.31,5.31,0,0,0,8.1,4.9,5.31,5.31,0,0,0,12,6.5,5.46,5.46,0,0,0,6.5,12Z\"/>\n",
              "  </svg>\n",
              "    </button>\n",
              "    <script>\n",
              "      (() => {\n",
              "      const buttonEl =\n",
              "        document.querySelector('#id_c290e59f-2485-4ab8-a68a-f008d8f3eaeb button.colab-df-generate');\n",
              "      buttonEl.style.display =\n",
              "        google.colab.kernel.accessAllowed ? 'block' : 'none';\n",
              "\n",
              "      buttonEl.onclick = () => {\n",
              "        google.colab.notebook.generateWithVariable('data');\n",
              "      }\n",
              "      })();\n",
              "    </script>\n",
              "  </div>\n",
              "\n",
              "    </div>\n",
              "  </div>\n"
            ],
            "application/vnd.google.colaboratory.intrinsic+json": {
              "type": "dataframe",
              "variable_name": "data",
              "summary": "{\n  \"name\": \"data\",\n  \"rows\": 2300,\n  \"fields\": [\n    {\n      \"column\": \"review\",\n      \"properties\": {\n        \"dtype\": \"string\",\n        \"num_unique_values\": 2264,\n        \"samples\": [\n          \"\\u0e08\\u0e4b\\u0e32\\u0e25\\u0e39\\u0e01\\u0e2d\\u0e22\\u0e32\\u0e01\\u0e2b\\u0e25\\u0e32\\u0e27\\u0e40\\u0e2d\\u0e2d\\n\",\n          \"\\u0e2a\\u0e2b\\u0e20\\u0e32\\u0e1e\\u0e41\\u0e23\\u0e07\\u0e07\\u0e32\\u0e19 \\u0e40\\u0e2b\\u0e2d\\u0e30\\u0e46\",\n          \"\\u0e08\\u0e49\\u0e2d\\u0e19\\u0e19\\u0e46\"\n        ],\n        \"semantic_type\": \"\",\n        \"description\": \"\"\n      }\n    },\n    {\n      \"column\": \"label\",\n      \"properties\": {\n        \"dtype\": \"category\",\n        \"num_unique_values\": 6,\n        \"samples\": [\n          \"\\u0e04\\u0e33\\u0e17\\u0e31\\u0e48\\u0e27\\u0e44\\u0e1b\\u0e17\\u0e32\\u0e07\\u0e01\\u0e32\\u0e23\\u0e0a\\u0e21\",\n          \"\\u0e04\\u0e33\\u0e17\\u0e31\\u0e48\\u0e27\\u0e44\\u0e1b\",\n          \"\\u0e40\\u0e2b\\u0e22\\u0e35\\u0e22\\u0e14\\u0e40\\u0e1e\\u0e28\"\n        ],\n        \"semantic_type\": \"\",\n        \"description\": \"\"\n      }\n    },\n    {\n      \"column\": \"cleaned_review\",\n      \"properties\": {\n        \"dtype\": \"string\",\n        \"num_unique_values\": 2235,\n        \"samples\": [\n          \"\\u0e44\\u0e21\\u0e48 \\u0e21\\u0e35 \\u0e1b\\u0e49\\u0e32\\u0e22 \\u0e1a\\u0e2d\\u0e01 \\u0e2b\\u0e19\\u0e49\\u0e32 \\u0e17\\u0e32\\u0e07\\u0e40\\u0e02\\u0e49\\u0e32 \\u0e0b\\u0e2d\\u0e22 \\u0e2b\\u0e49\\u0e2d\\u0e07\\u0e19\\u0e49\\u0e33 \\u0e44\\u0e21\\u0e48\\u0e04\\u0e48\\u0e2d\\u0e22 \\u0e2a\\u0e30\\u0e2d\\u0e32\\u0e14 \\u0e40\\u0e04\\u0e23\\u0e37\\u0e48\\u0e2d\\u0e07\\u0e17\\u0e33\\u0e19\\u0e49\\u0e33\\u0e2d\\u0e38\\u0e48\\u0e19 \\u0e19\\u0e49\\u0e33 \\u0e44\\u0e21\\u0e48 \\u0e2d\\u0e38\\u0e48\\u0e19 \\u0e04\\u0e32\\u0e14 \\u0e27\\u0e48\\u0e32 \\u0e40\\u0e1e\\u0e23\\u0e32\\u0e30 \\u0e2d\\u0e32\\u0e01\\u0e32\\u0e28 \\u0e04\\u0e48\\u0e2d\\u0e19\\u0e02\\u0e49\\u0e32\\u0e07 \\u0e40\\u0e22\\u0e47\\u0e19 \\u0e1e\\u0e31\\u0e01 \\u0e0a\\u0e48\\u0e27\\u0e07 \\u0e1b\\u0e35\\u0e43\\u0e2b\\u0e21\\u0e48\",\n          \"\\u0e1a\\u0e38\\u0e2b\\u0e23\\u0e35\\u0e48 \\u0e44\\u0e1f\\u0e1f\\u0e49\\u0e32 \\u0e1b\\u0e23\\u0e30\\u0e01\\u0e31\\u0e19\\u0e15\\u0e31\\u0e27 \\u0e41\\u0e2a\\u0e19 \\u0e19\\u0e36\\u0e07 \\u0e1e\\u0e23\\u0e30\\u0e40\\u0e08\\u0e49\\u0e32\",\n          \"\\u0e1a\\u0e49\\u0e32\\u0e19\\u0e19\\u0e2d\\u0e01 \\u0e40\\u0e02\\u0e49\\u0e32 \\u0e01\\u0e23\\u0e38\\u0e07 \\u0e2b\\u0e23\\u0e2d \\u0e40\\u0e18\\u0e2d\"\n        ],\n        \"semantic_type\": \"\",\n        \"description\": \"\"\n      }\n    }\n  ]\n}"
            }
          },
          "metadata": {},
          "execution_count": 16
        }
      ],
      "source": [
        "data"
      ]
    },
    {
      "cell_type": "code",
      "execution_count": null,
      "metadata": {
        "id": "oqyiO5dUMznR"
      },
      "outputs": [],
      "source": [
        "# Training configurations\n",
        "SEED = 1234\n",
        "TRAIN = False\n",
        "BATCH_SIZE = 32\n",
        "N_EPOCHS = 200\n",
        "\n",
        "# Architecture\n",
        "EMBEDDING_DIM = 128\n",
        "HIDDEN_DIM = 512\n",
        "OUTPUT_DIM = 6\n",
        "N_LAYERS = 2\n",
        "BIDIRECTIONAL = True\n",
        "DROPOUT = 0.25"
      ]
    },
    {
      "cell_type": "code",
      "execution_count": null,
      "metadata": {
        "id": "hvy9WRCVMuRT"
      },
      "outputs": [],
      "source": [
        "import torch\n",
        "import torch.nn as nn\n",
        "import torch.optim as optim\n",
        "# Bert model and its tokenizer\n",
        "# Text data\n",
        "from torchtext import data, datasets\n",
        "# Numerical computation\n",
        "import numpy as np\n",
        "# standard library\n",
        "import random\n",
        "import time\n",
        "# Configuration\n",
        "#from config import *\n",
        "\n",
        "# Set random seed for reproducible experiments\n",
        "random.seed(SEED)\n",
        "np.random.seed(SEED)\n",
        "torch.manual_seed(SEED)\n",
        "torch.backends.cudnn.deterministic = True\n",
        "\n",
        "import pandas as pd\n",
        "import re\n",
        "import pandas as pd\n",
        "import numpy as np\n",
        "from sklearn.preprocessing import LabelEncoder\n",
        "from sklearn.model_selection import train_test_split\n",
        "from sklearn.metrics import classification_report\n",
        "from sklearn.metrics import accuracy_score\n",
        "import math\n",
        "import nltk\n",
        "from sklearn.feature_extraction.text import CountVectorizer\n",
        "from collections import defaultdict"
      ]
    },
    {
      "cell_type": "code",
      "execution_count": null,
      "metadata": {
        "id": "fOq5qfdeCDZH"
      },
      "outputs": [],
      "source": [
        "import numpy as np\n",
        "\n",
        "import time\n",
        "import random\n",
        "import functools\n",
        "import math\n",
        "\n",
        "from torchtext.data import Field, Dataset, Example\n",
        "import pandas as pd\n",
        "\n",
        "class DataFrameDataset(Dataset):\n",
        "    \"\"\"Class for using pandas DataFrames as a datasource\"\"\"\n",
        "    def __init__(self, examples, fields, filter_pred=None):\n",
        "        \"\"\"\n",
        "        Create a dataset from a pandas dataframe of examples and Fields\n",
        "        Arguments:\n",
        "            examples pd.DataFrame: DataFrame of examples\n",
        "            fields {str: Field}: The Fields to use in this tuple. The\n",
        "                string is a field name, and the Field is the associated field.\n",
        "            filter_pred (callable or None): use only exanples for which\n",
        "                filter_pred(example) is true, or use all examples if None.\n",
        "                Default is None\n",
        "        \"\"\"\n",
        "        self.examples = examples.apply(SeriesExample.fromSeries, args=(fields,), axis=1).tolist()\n",
        "        if filter_pred is not None:\n",
        "            self.examples = filter(filter_pred, self.examples)\n",
        "        self.fields = dict(fields)\n",
        "        # Unpack field tuples\n",
        "        for n, f in list(self.fields.items()):\n",
        "            if isinstance(n, tuple):\n",
        "                self.fields.update(zip(n, f))\n",
        "                del self.fields[n]\n",
        "\n",
        "class SeriesExample(Example):\n",
        "    \"\"\"Class to convert a pandas Series to an Example\"\"\"\n",
        "\n",
        "    @classmethod\n",
        "    def fromSeries(cls, data, fields):\n",
        "        return cls.fromdict(data.to_dict(), fields)\n",
        "\n",
        "    @classmethod\n",
        "    def fromdict(cls, data, fields):\n",
        "        ex = cls()\n",
        "\n",
        "        for key, field in fields.items():\n",
        "            if key not in data:\n",
        "                raise ValueError(\"Specified key {} was not found in \"\n",
        "                \"the input data\".format(key))\n",
        "            if field is not None:\n",
        "                setattr(ex, key, field.preprocess(data[key]))\n",
        "            else:\n",
        "                setattr(ex, key, data[key])\n",
        "        return ex"
      ]
    },
    {
      "cell_type": "code",
      "execution_count": null,
      "metadata": {
        "id": "SSTWZMesCFx9"
      },
      "outputs": [],
      "source": [
        "import pandas as pd # Make sure pandas is imported\n",
        "\n",
        "# Load your data into a DataFrame, assuming your CSV file is named 'your_data.csv'\n",
        "data = pd.read_csv('cleaned_data.csv')\n",
        "\n",
        "reviews = data['cleaned_review'].values\n",
        "labels = data['label'].values\n",
        "encoder = LabelEncoder()\n",
        "encoded_labels = encoder.fit_transform(labels)\n",
        "\n",
        "train_sentences, test_sentences, train_labels, test_labels = train_test_split(reviews, encoded_labels, stratify = encoded_labels,test_size=0.2, random_state=1234)"
      ]
    },
    {
      "cell_type": "code",
      "execution_count": null,
      "metadata": {
        "colab": {
          "base_uri": "https://localhost:8080/"
        },
        "id": "2BO0be0xBhcz",
        "outputId": "205f77dd-1ec2-46cd-ca30-64facbcb225b"
      },
      "outputs": [
        {
          "output_type": "stream",
          "name": "stdout",
          "text": [
            "Train set: ['ปะ ๆ', 'ของ ที่ เดอะ ร็อค เล่น ก็ สนุก ที่ แผ่นดินไหว แล้ว มี สึนามิ', 'คน ไม่ ใช่ ก็ คง ต้อง รอ ต่อไป แอด หงส์ทอง', 'สวย จริงๆ ๆๆ คะ เด ืน ไม่ เบื่อ ผู้คน น่ารัก', 'อยาก']\n",
            "Validation set: ['ซี แก รม', 'อิ ตุ๊ด เอ้ย', 'อร่อย มาก ค่ะ คอนเฟิร์ม', 'เก็บ เงิน', 'ถึง']\n",
            "Test set: ['มัน เป็น ญาติ กับ ไอ้ ฤทธิ์ กิน เเบล็ค ใช่ มั้ย', 'ฟิน ค่ะ', 'มา ร่วมกัน ร่วม เล่น สนุก ขับ นิสสัน กัน เถอะ', 'ชี้ อ เหล้า ให้ มัน แดก อยู่ บ่อย กู รู้ แต่ เวลา มัน แดก เอง มัน ล่อ แสงโสม เวลา มัน ให้ กู ชี้ อให่ มัน แดก black lable สาด', 'แท็กซี่ คือ จะ เปิด แอร์ ให้ หนาว ตาย เลย ใช่ปะ ฝึก ความอดทน ถุก ปะ']\n",
            "Number of training examples: 1610\n",
            "Number of validation examples: 230\n",
            "Number of test examples: 460\n"
          ]
        }
      ],
      "source": [
        "from sklearn.model_selection import train_test_split\n",
        "import numpy as np\n",
        "\n",
        "val_size = int(len(test_sentences)/2)\n",
        "train = list(train_sentences)[:(len(train_sentences)-val_size)]\n",
        "val = list(train_sentences)[(len(train_sentences)-val_size):]\n",
        "test = list(test_sentences)\n",
        "\n",
        "print(\"Train set:\", train[:5])\n",
        "print(\"Validation set:\", val[:5])\n",
        "print(\"Test set:\", test[:5])\n",
        "print(\"Number of training examples:\", len(train))\n",
        "print(\"Number of validation examples:\", len(val))\n",
        "print(\"Number of test examples:\", len(test))"
      ]
    },
    {
      "cell_type": "code",
      "execution_count": null,
      "metadata": {
        "id": "jDH215_uElDs"
      },
      "outputs": [],
      "source": [
        "import pandas as pd\n",
        "import os\n",
        "\n",
        "# Assuming 'train_sentences', 'train_labels', 'val', 'test', 'test_labels' are still available from previous cells\n",
        "\n",
        "# สร้าง DataFrame สำหรับ train, val, test\n",
        "train_df = pd.DataFrame({'review': train_sentences, 'label': train_labels}) # Use train_sentences instead of train\n",
        "val_df = pd.DataFrame({'review': val, 'label': train_labels[len(train_sentences)-len(val):]})  # Use len(train_sentences) to index correctly\n",
        "test_df = pd.DataFrame({'review': test, 'label': test_labels})\n",
        "\n",
        "# รวมคอลัมน์ 'review' และ 'label' เพื่อระบุข้อมูลที่ซ้ำกัน\n",
        "train_df['combined'] = train_df['review'] + train_df['label'].astype(str)\n",
        "val_df['combined'] = val_df['review'] + val_df['label'].astype(str)\n",
        "\n",
        "# ลบข้อมูลที่ซ้ำกันใน train_df\n",
        "train_df = train_df[~train_df['combined'].isin(val_df['combined'])]\n",
        "\n",
        "# ลบคอลัมน์ 'combined' ออก\n",
        "train_df = train_df.drop(columns=['combined'])\n",
        "val_df = val_df.drop(columns=['combined'])\n",
        "\n",
        "os.makedirs('datasets', exist_ok=True)\n",
        "\n",
        "# บันทึก DataFrame เป็นไฟล์ CSV\n",
        "train_df.to_csv('datasets/train.csv', index=False)\n",
        "val_df.to_csv('datasets/val.csv', index=False)\n",
        "test_df.to_csv('datasets/test.csv', index=False)"
      ]
    },
    {
      "cell_type": "code",
      "execution_count": null,
      "metadata": {
        "id": "6R85RcBmCHbM"
      },
      "outputs": [],
      "source": [
        "import pandas as pd\n",
        "import re\n",
        "import pandas as pd\n",
        "import numpy as np\n",
        "from sklearn.preprocessing import LabelEncoder\n",
        "from sklearn.model_selection import train_test_split\n",
        "from sklearn.metrics import classification_report\n",
        "from sklearn.metrics import accuracy_score\n",
        "import math\n",
        "import nltk\n",
        "from sklearn.feature_extraction.text import CountVectorizer\n",
        "from collections import defaultdict"
      ]
    },
    {
      "cell_type": "code",
      "execution_count": null,
      "metadata": {
        "id": "gb5N8WIsCJK5"
      },
      "outputs": [],
      "source": [
        "# init_token_id = 1  #เริ่มต้นประโยค\n",
        "# pad_token_id = 0  #pad_id ตอนเทรนจะเติมเข้าไปกรณีบางประโยคสั้นกว่าประโยคอื่น\n",
        "# unk_token_id=2 # กรณีไม่พบคำศัพท์จะแทนด้วย 2 นี้\n",
        "# max_input_len = 512 # ความยาวสูงสุดที่โมเดลสามารภทำนายได้\n",
        "\n",
        "# #create vocab_dict\n",
        "# vocab = []\n",
        "# for i in range( train_sentences.shape[0]):\n",
        "#     ws = train_sentences[i].split(\" \")\n",
        "#     for w in ws:\n",
        "#         if w not in vocab:\n",
        "#             vocab.append(w)"
      ]
    },
    {
      "cell_type": "code",
      "execution_count": null,
      "metadata": {
        "colab": {
          "base_uri": "https://localhost:8080/"
        },
        "id": "K4QV77eBCi-f",
        "outputId": "7b61bf6f-d24f-49fe-8286-5093b8ce0025"
      },
      "outputs": [
        {
          "output_type": "stream",
          "name": "stdout",
          "text": [
            "Warning: Element at index 711 is not a string: nan\n",
            "Warning: Element at index 993 is not a string: nan\n",
            "Warning: Element at index 1164 is not a string: nan\n"
          ]
        }
      ],
      "source": [
        "init_token_id = 1  #เริ่มต้นประโยค\n",
        "pad_token_id = 0  #pad_id ตอนเทรนจะเติมเข้าไปกรณีบางประโยคสั้นกว่าประโยคอื่น\n",
        "unk_token_id=2 # กรณีไม่พบคำศัพท์จะแทนด้วย 2 นี้\n",
        "max_input_len = 512 # ความยาวสูงสุดที่โมเดลสามารภทำนายได้\n",
        "\n",
        "#create vocab_dict\n",
        "vocab = []\n",
        "for i in range(train_sentences.shape[0]):\n",
        "    # Check if the element is a string before splitting\n",
        "    if isinstance(train_sentences[i], str):\n",
        "        ws = train_sentences[i].split(\" \")\n",
        "        for w in ws:\n",
        "            if w not in vocab:\n",
        "                vocab.append(w)\n",
        "    else:\n",
        "        # Handle non-string elements (e.g., print a warning or skip them)\n",
        "        print(f\"Warning: Element at index {i} is not a string: {train_sentences[i]}\")"
      ]
    },
    {
      "cell_type": "code",
      "execution_count": null,
      "metadata": {
        "id": "8Km0lgUJCLZn"
      },
      "outputs": [],
      "source": [
        "vocab.sort()\n",
        "start_word_id = 3\n",
        "token_to_id = {val: (i+start_word_id) for i, val in enumerate(vocab)}\n",
        "\n",
        "token_to_id.update({'init_id': init_token_id, 'pad_id':pad_token_id,'unk_id':unk_token_id})"
      ]
    },
    {
      "cell_type": "code",
      "execution_count": null,
      "metadata": {
        "id": "1fDX7eawCNnj"
      },
      "outputs": [],
      "source": [
        "import json\n",
        "vocab_json_object = json.dumps(token_to_id)\n",
        "with open(\"token2idx.json\", \"w\") as outfile:\n",
        "    outfile.write(vocab_json_object)"
      ]
    },
    {
      "cell_type": "code",
      "execution_count": null,
      "metadata": {
        "colab": {
          "base_uri": "https://localhost:8080/"
        },
        "id": "MjqcMTYRCPsm",
        "outputId": "309fd0b7-9a0a-4406-ee98-59602f8427bd"
      },
      "outputs": [
        {
          "output_type": "stream",
          "name": "stdout",
          "text": [
            "Device available for running: \n",
            "cuda\n"
          ]
        }
      ],
      "source": [
        "device = torch.device(\"cuda\" if torch.cuda.is_available() else \"cpu\")\n",
        "print(\"Device available for running: \")\n",
        "print(device)"
      ]
    },
    {
      "cell_type": "code",
      "execution_count": null,
      "metadata": {
        "id": "CWNx1NVECRyL"
      },
      "outputs": [],
      "source": [
        "import json\n",
        "import numpy as np\n",
        "\n",
        "import time\n",
        "import random\n",
        "import functools\n",
        "import math\n",
        "\n",
        "from torchtext.data import Field, Dataset, Example,LabelField\n",
        "import pandas as pd # Make sure pandas is imported\n",
        "\n",
        "# Tokensize and crop sentence to 510 (for 1st and last token) instead of 512 (i.e. `max_input_len`)\n",
        "def tokenize_and_crop(sentence):\n",
        "  #print(sentence)\n",
        "  tokens = sentence.split(\" \")\n",
        "  tokens = tokens[:max_input_len - 2]\n",
        "  return tokens\n",
        "\n",
        "def convert_tokens_to_ids(tokens):\n",
        "    out_id = []\n",
        "    for w in tokens:\n",
        "        if w in token_to_id.keys():\n",
        "            out_id.append(token_to_id[w])\n",
        "        else:\n",
        "            out_id.append(unk_token_id) #unk word\n",
        "    if len(out_id)==0:\n",
        "        return [0]\n",
        "    return out_id\n",
        "\n",
        "def load_data():\n",
        "  text = Field(\n",
        "    batch_first=True,\n",
        "    use_vocab=False,\n",
        "    tokenize=tokenize_and_crop,\n",
        "    preprocessing=convert_tokens_to_ids,\n",
        "    init_token=init_token_id,\n",
        "    pad_token=pad_token_id,\n",
        "    unk_token=unk_token_id\n",
        "  )\n",
        "  # Load the cleaned data CSV into a DataFrame\n",
        "  cleaned_data_df = pd.read_csv('cleaned_data.csv')  # Load the preprocessed data\n",
        "\n",
        "  label = LabelField(dtype=torch.long)\n",
        "\n",
        "  # label = torchtext.data.LabelField(dtype=torch.float)\n",
        "\n",
        "  fields = { 'cleaned_review' : text, 'label' : label }\n",
        "\n",
        "  # Change 'data' to 'cleaned_data_df' to reference the DataFrame\n",
        "  cleaned_data_df['cleaned_review'] = cleaned_data_df['cleaned_review'].astype(str)  # Convert to string\n",
        "  examples = cleaned_data_df.apply(lambda row: SeriesExample.fromSeries(row, fields), axis=1).tolist()\n",
        "\n",
        "  # Update train_ds to use the cleaned data\n",
        "  train_ds = Dataset(examples, fields) # Pass examples directly instead of creating a DataFrameDataset with `cleaned_data_df`\n",
        "\n",
        "  # Use 'cleaned_data_df' for stratification instead of 'data'\n",
        "  train_examples, test_examples = train_test_split(examples, test_size=0.2, random_state=1234, stratify=cleaned_data_df['label'])\n",
        "  train_examples, val_examples = train_test_split(train_examples, test_size=1/8, random_state=1234, stratify = [example.label for example in train_examples])\n",
        "\n",
        "  # Create datasets from the split examples\n",
        "  _train_data = Dataset(train_examples, fields)\n",
        "  _test_data = Dataset(test_examples, fields)\n",
        "  _valid_data = Dataset(val_examples, fields)\n",
        "\n",
        "\n",
        "  print(f\"training examples count: {len(_train_data)}\")\n",
        "  print(f\"test examples count: {len(_test_data)}\")\n",
        "  print(f\"validation examples count: {len(_valid_data)}\")\n",
        "\n",
        "  label.build_vocab(_train_data)\n",
        "\n",
        "  lab_data = {v: k for k, v in label.vocab.stoi.items()}\n",
        "  with open('idx2lab.json', 'w') as f:\n",
        "      json.dump(lab_data, f)\n",
        "\n",
        "\n",
        "\n",
        "  # Use torchtext.data.BucketIterator directly\n",
        "  # Change from data.BucketIterator to torchtext.data.BucketIterator\n",
        "  train_iter, valid_iter, test_iter = torchtext.data.BucketIterator.splits(\n",
        "    (_train_data, _valid_data, _test_data),\n",
        "    batch_size=BATCH_SIZE,\n",
        "    device=device,\n",
        "    sort_key = lambda x: len(x.cleaned_review),\n",
        "    sort_within_batch=True\n",
        "  )\n",
        "\n",
        "  return train_iter, valid_iter, test_iter"
      ]
    },
    {
      "cell_type": "code",
      "execution_count": null,
      "metadata": {
        "id": "rRGYVnZFOqRV"
      },
      "outputs": [],
      "source": [
        "# load_data()"
      ]
    },
    {
      "cell_type": "code",
      "execution_count": null,
      "metadata": {
        "id": "LJ823dDjCVAK"
      },
      "outputs": [],
      "source": [
        "class SentimentModel(nn.Module):\n",
        "  def __init__(\n",
        "    self,\n",
        "    vocab_size,\n",
        "    embedding_dim,\n",
        "    hidden_dim,\n",
        "    output_dim,\n",
        "    n_layers,\n",
        "    bidirectional,\n",
        "    dropout,\n",
        "    padding_id=0\n",
        "  ):\n",
        "\n",
        "    super(SentimentModel, self).__init__()\n",
        "\n",
        "    embedding_dim = embedding_dim\n",
        "    self.embedding = nn.Embedding(vocab_size, embedding_dim, padding_idx=padding_id)\n",
        "\n",
        "    # เปลี่ยน GRU เป็น LSTM\n",
        "    self.lstm = nn.LSTM(\n",
        "      embedding_dim,\n",
        "      hidden_dim,\n",
        "      num_layers=n_layers,\n",
        "      bidirectional=bidirectional,\n",
        "      batch_first=True,\n",
        "      dropout=0 if n_layers < 2 else dropout\n",
        "    )\n",
        "\n",
        "    self.out = nn.Linear(hidden_dim * 2 if bidirectional else hidden_dim, output_dim)\n",
        "    self.dropout = nn.Dropout(dropout)\n",
        "\n",
        "  def forward(self, text):\n",
        "\n",
        "    embedded = self.embedding(text)\n",
        "\n",
        "    # เปลี่ยน GRU เป็น LSTM\n",
        "    _, (hidden, _) = self.lstm(embedded)  # LSTM ส่งออก (output, (h_n, c_n))\n",
        "\n",
        "    if self.lstm.bidirectional:\n",
        "      hidden = self.dropout(torch.cat((hidden[-2,:,:], hidden[-1,:,:]), dim = 1))\n",
        "    else:\n",
        "      hidden = self.dropout(hidden[-1,:,:])\n",
        "\n",
        "    output = self.out(hidden)\n",
        "    return output"
      ]
    },
    {
      "cell_type": "code",
      "execution_count": null,
      "metadata": {
        "id": "lDDOWwEjCWU9"
      },
      "outputs": [],
      "source": [
        "# load_data()"
      ]
    },
    {
      "cell_type": "code",
      "execution_count": null,
      "metadata": {
        "id": "frNFaifXCY0F"
      },
      "outputs": [],
      "source": [
        "# # Sentiment model contrain two-GRU layers for analyzing hidden representation\n",
        "# # and a linear layer for classfification (the sigmoid is applied by the criterion during training).\n",
        "# import torch.nn as nn\n",
        "\n",
        "# class SentimentModel(nn.Module):\n",
        "#   def __init__(\n",
        "#     self,\n",
        "#     vocab_size,\n",
        "#     embedding_dim,\n",
        "#     hidden_dim,\n",
        "#     output_dim,\n",
        "#     n_layers,\n",
        "#     bidirectional,\n",
        "#     dropout,\n",
        "#     padding_id=0\n",
        "#   ):\n",
        "\n",
        "#     super(SentimentModel, self).__init__()\n",
        "\n",
        "#     embedding_dim = embedding_dim\n",
        "#     self.embedding = nn.Embedding(vocab_size, embedding_dim, padding_idx=padding_id)\n",
        "\n",
        "#     self.rnn = nn.RNN(\n",
        "#       embedding_dim,\n",
        "#       hidden_dim,\n",
        "#       num_layers=n_layers,\n",
        "#       bidirectional=bidirectional,\n",
        "#       batch_first=True,\n",
        "#       dropout=0 if n_layers < 2 else dropout\n",
        "#     )\n",
        "#     self.out = nn.Linear(hidden_dim * 2 if bidirectional else hidden_dim, output_dim)\n",
        "#     self.dropout = nn.Dropout(dropout)\n",
        "\n",
        "#   def forward(self, text):\n",
        "\n",
        "#     embedded = self.embedding(text)\n",
        "#     _, hidden = self.rnn(embedded)\n",
        "\n",
        "#     if self.rnn.bidirectional:\n",
        "#       hidden = self.dropout(torch.cat((hidden[-2,:,:], hidden[-1,:,:]), dim = 1))\n",
        "#     else:\n",
        "#       hidden = self.dropout(hidden[-1,:,:])\n",
        "\n",
        "#     output = self.out(hidden)\n",
        "#     return output"
      ]
    },
    {
      "cell_type": "code",
      "execution_count": null,
      "metadata": {
        "id": "GsvH70LnCbLE"
      },
      "outputs": [],
      "source": [
        "vocab_size = len(vocab) + 3"
      ]
    },
    {
      "cell_type": "code",
      "execution_count": null,
      "metadata": {
        "colab": {
          "base_uri": "https://localhost:8080/"
        },
        "id": "XQR2Mqg7CdVe",
        "outputId": "f6106fc9-43ab-443a-9e88-b984403aef39"
      },
      "outputs": [
        {
          "output_type": "stream",
          "name": "stdout",
          "text": [
            "SentimentModel(\n",
            "  (embedding): Embedding(4483, 128, padding_idx=0)\n",
            "  (lstm): LSTM(128, 512, num_layers=2, batch_first=True, dropout=0.25, bidirectional=True)\n",
            "  (out): Linear(in_features=1024, out_features=6, bias=True)\n",
            "  (dropout): Dropout(p=0.25, inplace=False)\n",
            ")\n"
          ]
        },
        {
          "output_type": "execute_result",
          "data": {
            "text/plain": [
              "9509254"
            ]
          },
          "metadata": {},
          "execution_count": 35
        }
      ],
      "source": [
        "model = SentimentModel(\n",
        "  vocab_size,\n",
        "  EMBEDDING_DIM,\n",
        "  HIDDEN_DIM,\n",
        "  OUTPUT_DIM,\n",
        "  N_LAYERS,\n",
        "  BIDIRECTIONAL,\n",
        "  DROPOUT\n",
        ")\n",
        "print(model)\n",
        "pytorch_total_params = sum(p.numel() for p in model.parameters())\n",
        "pytorch_total_params"
      ]
    },
    {
      "cell_type": "code",
      "execution_count": null,
      "metadata": {
        "id": "twUjLuYuCfYM"
      },
      "outputs": [],
      "source": [
        "from tqdm import tqdm\n",
        "# time taken for single epoch\n",
        "def epoch_time(start_time, end_time):\n",
        "  elapsed_time = end_time - start_time\n",
        "  elapsed_mins = int(elapsed_time / 60)\n",
        "  elapsed_secs = int(elapsed_time - (elapsed_mins * 60))\n",
        "  return elapsed_mins, elapsed_secs\n",
        "\n",
        "# computes accuracy\n",
        "def calculate_accuracy2(y_pred,y_true):\n",
        "  y_pred = torch.round(y_pred)\n",
        "  #print(y_pred.argmax(-1))\n",
        "  correct = (y_true == y_pred.argmax(-1)).float()\n",
        "  acc = correct.sum() / len(correct)\n",
        "  return acc\n",
        "\n",
        "# def binary_accuracy(preds, y):\n",
        "#   rounded_preds = torch.round(torch.sigmoid(preds))\n",
        "#   correct = (rounded_preds == y).float()\n",
        "#   acc = correct.sum() / len(correct)\n",
        "#   return acc\n",
        "\n",
        "# training step\n",
        "def train(model, iterator, optimizer, criterion):\n",
        "  # stats\n",
        "  epoch_loss = 0\n",
        "  epoch_acc = 0\n",
        "  # train mode\n",
        "  model.train()\n",
        "\n",
        "  for batch in tqdm(iterator):\n",
        "    # train step\n",
        "    optimizer.zero_grad()\n",
        "    #print(batch.review)\n",
        "    predictions = model(batch.cleaned_review).squeeze(1)\n",
        "    loss = criterion(predictions, batch.label)\n",
        "    acc = calculate_accuracy2(predictions, batch.label)\n",
        "    loss.backward()\n",
        "    optimizer.step()\n",
        "    # stats\n",
        "    epoch_loss += loss.item()\n",
        "    epoch_acc += acc.item()\n",
        "\n",
        "  return epoch_loss / len(iterator), epoch_acc / len(iterator)\n",
        "\n",
        "# evaluates the model on given iterator (either\n",
        "# train_iter, valid_iter, or test_iter)\n",
        "def evaluate(model, iterator, criterion, encoder): # Add encoder as an argument\n",
        "\n",
        "  epoch_loss = 0\n",
        "  epoch_acc = 0\n",
        "  # evaluation mode\n",
        "  model.eval()\n",
        "  y_true = []\n",
        "  y_pred = []\n",
        "\n",
        "  with torch.no_grad():\n",
        "    for batch in iterator:\n",
        "       #print(batch.text.shape)\n",
        "       predictions = model(batch.cleaned_review).squeeze(1)\n",
        "       loss = criterion(predictions, batch.label)\n",
        "       acc = calculate_accuracy2(predictions, batch.label)\n",
        "       epoch_loss += loss.item()\n",
        "       epoch_acc += acc.item()\n",
        "\n",
        "       y_true.extend(batch.label.cpu().numpy())  # Move to CPU and convert to NumPy\n",
        "       y_pred.extend(predictions.argmax(-1).cpu().numpy())\n",
        "\n",
        "       # No need to convert labels here, as we'll use classification_report later\n",
        "       # for i in range(len(batch.label)):\n",
        "       #          true_label = encoder.classes_[batch.label[i].item()]  # Use encoder.classes_ for labels\n",
        "       #          pred_label = encoder.classes_[predictions[i].argmax().item()]  # Use encoder.classes_ for labels\n",
        "       #          if true_label != pred_label:\n",
        "       #              # Decode batch.text[i] to original text\n",
        "       #              original_text = \" \".join([k for k, v in token_to_id.items() if v in batch.text[i].tolist() and v not in [0, 1, 2]])\n",
        "       #              # Print the results\n",
        "       #              # print(f\"Original Text: {original_text}\")\n",
        "       #              # print(f\"True Label: {true_label}, Predicted Label: {pred_label}\\n\")\n",
        "\n",
        "  return epoch_loss / len(iterator), epoch_acc / len(iterator), y_true, y_pred # Modified return statement to include y_true and y_pred\n",
        "\n",
        "def reset_weights(m):\n",
        "  '''\n",
        "    Try resetting model weights to avoid\n",
        "    weight leakage.\n",
        "  '''\n",
        "  for layer in m.children():\n",
        "   if hasattr(layer, 'reset_parameters'):\n",
        "    print(f'Reset trainable parameters of layer = {layer}')\n",
        "    layer.reset_parameters()"
      ]
    },
    {
      "cell_type": "code",
      "execution_count": null,
      "metadata": {
        "colab": {
          "base_uri": "https://localhost:8080/"
        },
        "id": "LrGyuEIVBcvJ",
        "outputId": "7a1b792f-afe5-47c2-f0f3-363f361698cc"
      },
      "outputs": [
        {
          "output_type": "execute_result",
          "data": {
            "text/plain": [
              "array([1, 1, 0, ..., 2, 0, 2])"
            ]
          },
          "metadata": {},
          "execution_count": 37
        }
      ],
      "source": [
        "train_labels"
      ]
    },
    {
      "cell_type": "code",
      "execution_count": null,
      "metadata": {
        "colab": {
          "base_uri": "https://localhost:8080/"
        },
        "id": "JUQz0Q8aAerZ",
        "outputId": "b0dc08d8-d854-4d41-c402-685c6d377402"
      },
      "outputs": [
        {
          "output_type": "stream",
          "name": "stdout",
          "text": [
            "{0: 0.6552706552706553, 1: 0.7131782945736435, 2: 0.7628524046434494, 3: 1.564625850340136, 4: 1.6666666666666667, 5: 1.9166666666666667}\n"
          ]
        }
      ],
      "source": [
        "from collections import Counter\n",
        "from sklearn.utils.class_weight import compute_class_weight\n",
        "\n",
        "   # นับจำนวนข้อมูลในแต่ละคลาส\n",
        "label_counts = Counter(train_labels) # แทน train_labels ด้วย labels ของข้อมูล train\n",
        "\n",
        "   # คำนวณน้ำหนักคลาส\n",
        "class_weights = compute_class_weight(class_weight='balanced', classes=np.unique(train_labels), y=train_labels)\n",
        "\n",
        "   # แปลงเป็น dictionary\n",
        "class_weight_dict = dict(zip(np.unique(train_labels), class_weights))\n",
        "print(class_weight_dict)"
      ]
    },
    {
      "cell_type": "code",
      "execution_count": null,
      "metadata": {
        "colab": {
          "base_uri": "https://localhost:8080/"
        },
        "id": "sA_lV4jnChni",
        "outputId": "c2695df4-c084-42c6-ce35-032922d83745"
      },
      "outputs": [
        {
          "output_type": "stream",
          "name": "stdout",
          "text": [
            "training examples count: 1610\n",
            "test examples count: 460\n",
            "validation examples count: 230\n"
          ]
        },
        {
          "output_type": "stream",
          "name": "stderr",
          "text": [
            "100%|██████████| 51/51 [00:01<00:00, 25.65it/s]\n"
          ]
        },
        {
          "output_type": "stream",
          "name": "stdout",
          "text": [
            "Best model saved at epoch 0 with validation loss: 1.7912\n",
            "Epoch: 01/200 | Epoch Time: 0m 2s\n",
            "\tTrain Loss: 1.791 | Train Acc: 25.87%\n",
            "\t Val. Loss: 1.791 |  Val. Acc: 28.12%\n"
          ]
        },
        {
          "output_type": "stream",
          "name": "stderr",
          "text": [
            "100%|██████████| 51/51 [00:00<00:00, 61.16it/s]\n"
          ]
        },
        {
          "output_type": "stream",
          "name": "stdout",
          "text": [
            "Best model saved at epoch 1 with validation loss: 1.7889\n",
            "Epoch: 02/200 | Epoch Time: 0m 0s\n",
            "\tTrain Loss: 1.789 | Train Acc: 25.87%\n",
            "\t Val. Loss: 1.789 |  Val. Acc: 28.12%\n"
          ]
        },
        {
          "output_type": "stream",
          "name": "stderr",
          "text": [
            "100%|██████████| 51/51 [00:00<00:00, 73.18it/s]\n"
          ]
        },
        {
          "output_type": "stream",
          "name": "stdout",
          "text": [
            "Best model saved at epoch 2 with validation loss: 1.7867\n",
            "Epoch: 03/200 | Epoch Time: 0m 0s\n",
            "\tTrain Loss: 1.785 | Train Acc: 25.87%\n",
            "\t Val. Loss: 1.787 |  Val. Acc: 28.12%\n"
          ]
        },
        {
          "output_type": "stream",
          "name": "stderr",
          "text": [
            "100%|██████████| 51/51 [00:00<00:00, 70.73it/s]\n"
          ]
        },
        {
          "output_type": "stream",
          "name": "stdout",
          "text": [
            "Best model saved at epoch 3 with validation loss: 1.7842\n",
            "Epoch: 04/200 | Epoch Time: 0m 0s\n",
            "\tTrain Loss: 1.783 | Train Acc: 25.87%\n",
            "\t Val. Loss: 1.784 |  Val. Acc: 28.12%\n"
          ]
        },
        {
          "output_type": "stream",
          "name": "stderr",
          "text": [
            "100%|██████████| 51/51 [00:00<00:00, 70.43it/s]\n"
          ]
        },
        {
          "output_type": "stream",
          "name": "stdout",
          "text": [
            "Best model saved at epoch 4 with validation loss: 1.7818\n",
            "Epoch: 05/200 | Epoch Time: 0m 0s\n",
            "\tTrain Loss: 1.780 | Train Acc: 25.87%\n",
            "\t Val. Loss: 1.782 |  Val. Acc: 28.12%\n"
          ]
        },
        {
          "output_type": "stream",
          "name": "stderr",
          "text": [
            "100%|██████████| 51/51 [00:00<00:00, 73.27it/s]\n"
          ]
        },
        {
          "output_type": "stream",
          "name": "stdout",
          "text": [
            "Best model saved at epoch 5 with validation loss: 1.7793\n",
            "Epoch: 06/200 | Epoch Time: 0m 0s\n",
            "\tTrain Loss: 1.777 | Train Acc: 25.87%\n",
            "\t Val. Loss: 1.779 |  Val. Acc: 28.12%\n"
          ]
        },
        {
          "output_type": "stream",
          "name": "stderr",
          "text": [
            "100%|██████████| 51/51 [00:00<00:00, 72.05it/s]\n"
          ]
        },
        {
          "output_type": "stream",
          "name": "stdout",
          "text": [
            "Best model saved at epoch 6 with validation loss: 1.7769\n",
            "Epoch: 07/200 | Epoch Time: 0m 0s\n",
            "\tTrain Loss: 1.773 | Train Acc: 25.87%\n",
            "\t Val. Loss: 1.777 |  Val. Acc: 28.12%\n"
          ]
        },
        {
          "output_type": "stream",
          "name": "stderr",
          "text": [
            "100%|██████████| 51/51 [00:01<00:00, 46.56it/s]\n"
          ]
        },
        {
          "output_type": "stream",
          "name": "stdout",
          "text": [
            "Best model saved at epoch 7 with validation loss: 1.7741\n",
            "Epoch: 08/200 | Epoch Time: 0m 1s\n",
            "\tTrain Loss: 1.770 | Train Acc: 25.87%\n",
            "\t Val. Loss: 1.774 |  Val. Acc: 28.12%\n"
          ]
        },
        {
          "output_type": "stream",
          "name": "stderr",
          "text": [
            "100%|██████████| 51/51 [00:01<00:00, 42.63it/s]\n"
          ]
        },
        {
          "output_type": "stream",
          "name": "stdout",
          "text": [
            "Best model saved at epoch 8 with validation loss: 1.7712\n",
            "Epoch: 09/200 | Epoch Time: 0m 1s\n",
            "\tTrain Loss: 1.768 | Train Acc: 25.87%\n",
            "\t Val. Loss: 1.771 |  Val. Acc: 28.12%\n"
          ]
        },
        {
          "output_type": "stream",
          "name": "stderr",
          "text": [
            "100%|██████████| 51/51 [00:00<00:00, 76.05it/s]\n"
          ]
        },
        {
          "output_type": "stream",
          "name": "stdout",
          "text": [
            "Best model saved at epoch 9 with validation loss: 1.7683\n",
            "Epoch: 10/200 | Epoch Time: 0m 0s\n",
            "\tTrain Loss: 1.763 | Train Acc: 25.87%\n",
            "\t Val. Loss: 1.768 |  Val. Acc: 28.12%\n"
          ]
        },
        {
          "output_type": "stream",
          "name": "stderr",
          "text": [
            "100%|██████████| 51/51 [00:00<00:00, 76.77it/s]\n"
          ]
        },
        {
          "output_type": "stream",
          "name": "stdout",
          "text": [
            "Best model saved at epoch 10 with validation loss: 1.7650\n",
            "Epoch: 11/200 | Epoch Time: 0m 0s\n",
            "\tTrain Loss: 1.759 | Train Acc: 25.87%\n",
            "\t Val. Loss: 1.765 |  Val. Acc: 28.12%\n"
          ]
        },
        {
          "output_type": "stream",
          "name": "stderr",
          "text": [
            "100%|██████████| 51/51 [00:00<00:00, 76.50it/s]\n"
          ]
        },
        {
          "output_type": "stream",
          "name": "stdout",
          "text": [
            "Best model saved at epoch 11 with validation loss: 1.7617\n",
            "Epoch: 12/200 | Epoch Time: 0m 0s\n",
            "\tTrain Loss: 1.756 | Train Acc: 25.87%\n",
            "\t Val. Loss: 1.762 |  Val. Acc: 28.12%\n"
          ]
        },
        {
          "output_type": "stream",
          "name": "stderr",
          "text": [
            "100%|██████████| 51/51 [00:00<00:00, 75.93it/s]\n"
          ]
        },
        {
          "output_type": "stream",
          "name": "stdout",
          "text": [
            "Best model saved at epoch 12 with validation loss: 1.7577\n",
            "Epoch: 13/200 | Epoch Time: 0m 0s\n",
            "\tTrain Loss: 1.750 | Train Acc: 25.87%\n",
            "\t Val. Loss: 1.758 |  Val. Acc: 28.12%\n"
          ]
        },
        {
          "output_type": "stream",
          "name": "stderr",
          "text": [
            "100%|██████████| 51/51 [00:00<00:00, 77.24it/s]\n"
          ]
        },
        {
          "output_type": "stream",
          "name": "stdout",
          "text": [
            "Best model saved at epoch 13 with validation loss: 1.7535\n",
            "Epoch: 14/200 | Epoch Time: 0m 0s\n",
            "\tTrain Loss: 1.745 | Train Acc: 25.87%\n",
            "\t Val. Loss: 1.754 |  Val. Acc: 28.12%\n"
          ]
        },
        {
          "output_type": "stream",
          "name": "stderr",
          "text": [
            "100%|██████████| 51/51 [00:00<00:00, 77.30it/s]\n"
          ]
        },
        {
          "output_type": "stream",
          "name": "stdout",
          "text": [
            "Best model saved at epoch 14 with validation loss: 1.7489\n",
            "Epoch: 15/200 | Epoch Time: 0m 0s\n",
            "\tTrain Loss: 1.741 | Train Acc: 25.87%\n",
            "\t Val. Loss: 1.749 |  Val. Acc: 28.12%\n"
          ]
        },
        {
          "output_type": "stream",
          "name": "stderr",
          "text": [
            "100%|██████████| 51/51 [00:00<00:00, 76.80it/s]\n"
          ]
        },
        {
          "output_type": "stream",
          "name": "stdout",
          "text": [
            "Best model saved at epoch 15 with validation loss: 1.7433\n",
            "Epoch: 16/200 | Epoch Time: 0m 0s\n",
            "\tTrain Loss: 1.734 | Train Acc: 25.87%\n",
            "\t Val. Loss: 1.743 |  Val. Acc: 28.12%\n"
          ]
        },
        {
          "output_type": "stream",
          "name": "stderr",
          "text": [
            "100%|██████████| 51/51 [00:00<00:00, 76.73it/s]\n"
          ]
        },
        {
          "output_type": "stream",
          "name": "stdout",
          "text": [
            "Best model saved at epoch 16 with validation loss: 1.7374\n",
            "Epoch: 17/200 | Epoch Time: 0m 0s\n",
            "\tTrain Loss: 1.727 | Train Acc: 25.93%\n",
            "\t Val. Loss: 1.737 |  Val. Acc: 28.12%\n"
          ]
        },
        {
          "output_type": "stream",
          "name": "stderr",
          "text": [
            "100%|██████████| 51/51 [00:00<00:00, 75.91it/s]\n"
          ]
        },
        {
          "output_type": "stream",
          "name": "stdout",
          "text": [
            "Best model saved at epoch 17 with validation loss: 1.7302\n",
            "Epoch: 18/200 | Epoch Time: 0m 0s\n",
            "\tTrain Loss: 1.719 | Train Acc: 25.99%\n",
            "\t Val. Loss: 1.730 |  Val. Acc: 28.12%\n"
          ]
        },
        {
          "output_type": "stream",
          "name": "stderr",
          "text": [
            "100%|██████████| 51/51 [00:00<00:00, 76.29it/s]\n"
          ]
        },
        {
          "output_type": "stream",
          "name": "stdout",
          "text": [
            "Best model saved at epoch 18 with validation loss: 1.7219\n",
            "Epoch: 19/200 | Epoch Time: 0m 0s\n",
            "\tTrain Loss: 1.710 | Train Acc: 26.05%\n",
            "\t Val. Loss: 1.722 |  Val. Acc: 28.91%\n"
          ]
        },
        {
          "output_type": "stream",
          "name": "stderr",
          "text": [
            "100%|██████████| 51/51 [00:00<00:00, 75.93it/s]\n"
          ]
        },
        {
          "output_type": "stream",
          "name": "stdout",
          "text": [
            "Best model saved at epoch 19 with validation loss: 1.7122\n",
            "Epoch: 20/200 | Epoch Time: 0m 0s\n",
            "\tTrain Loss: 1.698 | Train Acc: 26.36%\n",
            "\t Val. Loss: 1.712 |  Val. Acc: 29.30%\n"
          ]
        },
        {
          "output_type": "stream",
          "name": "stderr",
          "text": [
            "100%|██████████| 51/51 [00:00<00:00, 75.63it/s]\n"
          ]
        },
        {
          "output_type": "stream",
          "name": "stdout",
          "text": [
            "Best model saved at epoch 20 with validation loss: 1.7001\n",
            "Epoch: 21/200 | Epoch Time: 0m 0s\n",
            "\tTrain Loss: 1.686 | Train Acc: 27.03%\n",
            "\t Val. Loss: 1.700 |  Val. Acc: 29.69%\n"
          ]
        },
        {
          "output_type": "stream",
          "name": "stderr",
          "text": [
            "100%|██████████| 51/51 [00:00<00:00, 71.68it/s]\n"
          ]
        },
        {
          "output_type": "stream",
          "name": "stdout",
          "text": [
            "Best model saved at epoch 21 with validation loss: 1.6850\n",
            "Epoch: 22/200 | Epoch Time: 0m 0s\n",
            "\tTrain Loss: 1.669 | Train Acc: 27.95%\n",
            "\t Val. Loss: 1.685 |  Val. Acc: 30.47%\n"
          ]
        },
        {
          "output_type": "stream",
          "name": "stderr",
          "text": [
            "100%|██████████| 51/51 [00:00<00:00, 72.49it/s]\n"
          ]
        },
        {
          "output_type": "stream",
          "name": "stdout",
          "text": [
            "Best model saved at epoch 22 with validation loss: 1.6655\n",
            "Epoch: 23/200 | Epoch Time: 0m 0s\n",
            "\tTrain Loss: 1.648 | Train Acc: 29.18%\n",
            "\t Val. Loss: 1.665 |  Val. Acc: 31.25%\n"
          ]
        },
        {
          "output_type": "stream",
          "name": "stderr",
          "text": [
            "100%|██████████| 51/51 [00:00<00:00, 74.01it/s]\n"
          ]
        },
        {
          "output_type": "stream",
          "name": "stdout",
          "text": [
            "Best model saved at epoch 23 with validation loss: 1.6395\n",
            "Epoch: 24/200 | Epoch Time: 0m 0s\n",
            "\tTrain Loss: 1.621 | Train Acc: 32.68%\n",
            "\t Val. Loss: 1.639 |  Val. Acc: 38.02%\n"
          ]
        },
        {
          "output_type": "stream",
          "name": "stderr",
          "text": [
            "100%|██████████| 51/51 [00:00<00:00, 74.73it/s]\n"
          ]
        },
        {
          "output_type": "stream",
          "name": "stdout",
          "text": [
            "Best model saved at epoch 24 with validation loss: 1.6029\n",
            "Epoch: 25/200 | Epoch Time: 0m 0s\n",
            "\tTrain Loss: 1.585 | Train Acc: 37.93%\n",
            "\t Val. Loss: 1.603 |  Val. Acc: 39.71%\n"
          ]
        },
        {
          "output_type": "stream",
          "name": "stderr",
          "text": [
            "100%|██████████| 51/51 [00:00<00:00, 75.63it/s]\n"
          ]
        },
        {
          "output_type": "stream",
          "name": "stdout",
          "text": [
            "Best model saved at epoch 25 with validation loss: 1.5568\n",
            "Epoch: 26/200 | Epoch Time: 0m 0s\n",
            "\tTrain Loss: 1.535 | Train Acc: 39.44%\n",
            "\t Val. Loss: 1.557 |  Val. Acc: 42.45%\n"
          ]
        },
        {
          "output_type": "stream",
          "name": "stderr",
          "text": [
            "100%|██████████| 51/51 [00:00<00:00, 76.21it/s]\n"
          ]
        },
        {
          "output_type": "stream",
          "name": "stdout",
          "text": [
            "Best model saved at epoch 26 with validation loss: 1.5356\n",
            "Epoch: 27/200 | Epoch Time: 0m 0s\n",
            "\tTrain Loss: 1.489 | Train Acc: 41.21%\n",
            "\t Val. Loss: 1.536 |  Val. Acc: 42.45%\n"
          ]
        },
        {
          "output_type": "stream",
          "name": "stderr",
          "text": [
            "100%|██████████| 51/51 [00:00<00:00, 76.19it/s]\n"
          ]
        },
        {
          "output_type": "stream",
          "name": "stdout",
          "text": [
            "Best model saved at epoch 27 with validation loss: 1.5130\n",
            "Epoch: 28/200 | Epoch Time: 0m 0s\n",
            "\tTrain Loss: 1.449 | Train Acc: 42.93%\n",
            "\t Val. Loss: 1.513 |  Val. Acc: 43.62%\n"
          ]
        },
        {
          "output_type": "stream",
          "name": "stderr",
          "text": [
            "100%|██████████| 51/51 [00:00<00:00, 76.27it/s]\n"
          ]
        },
        {
          "output_type": "stream",
          "name": "stdout",
          "text": [
            "Best model saved at epoch 28 with validation loss: 1.4951\n",
            "Epoch: 29/200 | Epoch Time: 0m 0s\n",
            "\tTrain Loss: 1.417 | Train Acc: 43.79%\n",
            "\t Val. Loss: 1.495 |  Val. Acc: 42.84%\n"
          ]
        },
        {
          "output_type": "stream",
          "name": "stderr",
          "text": [
            "100%|██████████| 51/51 [00:00<00:00, 75.86it/s]\n"
          ]
        },
        {
          "output_type": "stream",
          "name": "stdout",
          "text": [
            "Best model saved at epoch 29 with validation loss: 1.4812\n",
            "Epoch: 30/200 | Epoch Time: 0m 0s\n",
            "\tTrain Loss: 1.388 | Train Acc: 44.77%\n",
            "\t Val. Loss: 1.481 |  Val. Acc: 42.06%\n"
          ]
        },
        {
          "output_type": "stream",
          "name": "stderr",
          "text": [
            "100%|██████████| 51/51 [00:00<00:00, 75.29it/s]\n"
          ]
        },
        {
          "output_type": "stream",
          "name": "stdout",
          "text": [
            "Best model saved at epoch 30 with validation loss: 1.4637\n",
            "Epoch: 31/200 | Epoch Time: 0m 0s\n",
            "\tTrain Loss: 1.363 | Train Acc: 45.01%\n",
            "\t Val. Loss: 1.464 |  Val. Acc: 42.45%\n"
          ]
        },
        {
          "output_type": "stream",
          "name": "stderr",
          "text": [
            "100%|██████████| 51/51 [00:00<00:00, 76.11it/s]\n"
          ]
        },
        {
          "output_type": "stream",
          "name": "stdout",
          "text": [
            "Best model saved at epoch 31 with validation loss: 1.4532\n",
            "Epoch: 32/200 | Epoch Time: 0m 0s\n",
            "\tTrain Loss: 1.336 | Train Acc: 45.13%\n",
            "\t Val. Loss: 1.453 |  Val. Acc: 40.89%\n"
          ]
        },
        {
          "output_type": "stream",
          "name": "stderr",
          "text": [
            "100%|██████████| 51/51 [00:00<00:00, 76.50it/s]\n"
          ]
        },
        {
          "output_type": "stream",
          "name": "stdout",
          "text": [
            "Best model saved at epoch 32 with validation loss: 1.4469\n",
            "Epoch: 33/200 | Epoch Time: 0m 0s\n",
            "\tTrain Loss: 1.316 | Train Acc: 46.85%\n",
            "\t Val. Loss: 1.447 |  Val. Acc: 40.89%\n"
          ]
        },
        {
          "output_type": "stream",
          "name": "stderr",
          "text": [
            "100%|██████████| 51/51 [00:00<00:00, 74.81it/s]\n"
          ]
        },
        {
          "output_type": "stream",
          "name": "stdout",
          "text": [
            "Best model saved at epoch 33 with validation loss: 1.4370\n",
            "Epoch: 34/200 | Epoch Time: 0m 0s\n",
            "\tTrain Loss: 1.290 | Train Acc: 46.48%\n",
            "\t Val. Loss: 1.437 |  Val. Acc: 40.49%\n"
          ]
        },
        {
          "output_type": "stream",
          "name": "stderr",
          "text": [
            "100%|██████████| 51/51 [00:00<00:00, 75.30it/s]\n"
          ]
        },
        {
          "output_type": "stream",
          "name": "stdout",
          "text": [
            "Best model saved at epoch 34 with validation loss: 1.4299\n",
            "Epoch: 35/200 | Epoch Time: 0m 0s\n",
            "\tTrain Loss: 1.273 | Train Acc: 45.81%\n",
            "\t Val. Loss: 1.430 |  Val. Acc: 43.36%\n"
          ]
        },
        {
          "output_type": "stream",
          "name": "stderr",
          "text": [
            "100%|██████████| 51/51 [00:00<00:00, 73.65it/s]\n"
          ]
        },
        {
          "output_type": "stream",
          "name": "stdout",
          "text": [
            "Best model saved at epoch 35 with validation loss: 1.4257\n",
            "Epoch: 36/200 | Epoch Time: 0m 0s\n",
            "\tTrain Loss: 1.252 | Train Acc: 47.71%\n",
            "\t Val. Loss: 1.426 |  Val. Acc: 40.89%\n"
          ]
        },
        {
          "output_type": "stream",
          "name": "stderr",
          "text": [
            "100%|██████████| 51/51 [00:00<00:00, 73.81it/s]\n"
          ]
        },
        {
          "output_type": "stream",
          "name": "stdout",
          "text": [
            "Best model saved at epoch 36 with validation loss: 1.4234\n",
            "Epoch: 37/200 | Epoch Time: 0m 0s\n",
            "\tTrain Loss: 1.236 | Train Acc: 48.44%\n",
            "\t Val. Loss: 1.423 |  Val. Acc: 40.10%\n"
          ]
        },
        {
          "output_type": "stream",
          "name": "stderr",
          "text": [
            "100%|██████████| 51/51 [00:00<00:00, 71.89it/s]\n"
          ]
        },
        {
          "output_type": "stream",
          "name": "stdout",
          "text": [
            "Best model saved at epoch 37 with validation loss: 1.4211\n",
            "Epoch: 38/200 | Epoch Time: 0m 0s\n",
            "\tTrain Loss: 1.214 | Train Acc: 49.74%\n",
            "\t Val. Loss: 1.421 |  Val. Acc: 43.36%\n"
          ]
        },
        {
          "output_type": "stream",
          "name": "stderr",
          "text": [
            "100%|██████████| 51/51 [00:00<00:00, 76.39it/s]\n"
          ]
        },
        {
          "output_type": "stream",
          "name": "stdout",
          "text": [
            "Epoch: 39/200 | Epoch Time: 0m 0s\n",
            "\tTrain Loss: 1.202 | Train Acc: 47.22%\n",
            "\t Val. Loss: 1.421 |  Val. Acc: 41.67%\n"
          ]
        },
        {
          "output_type": "stream",
          "name": "stderr",
          "text": [
            "100%|██████████| 51/51 [00:00<00:00, 75.82it/s]\n"
          ]
        },
        {
          "output_type": "stream",
          "name": "stdout",
          "text": [
            "Best model saved at epoch 39 with validation loss: 1.4201\n",
            "Epoch: 40/200 | Epoch Time: 0m 0s\n",
            "\tTrain Loss: 1.184 | Train Acc: 48.35%\n",
            "\t Val. Loss: 1.420 |  Val. Acc: 40.89%\n"
          ]
        },
        {
          "output_type": "stream",
          "name": "stderr",
          "text": [
            "100%|██████████| 51/51 [00:00<00:00, 75.88it/s]\n"
          ]
        },
        {
          "output_type": "stream",
          "name": "stdout",
          "text": [
            "Best model saved at epoch 40 with validation loss: 1.4152\n",
            "Epoch: 41/200 | Epoch Time: 0m 0s\n",
            "\tTrain Loss: 1.166 | Train Acc: 48.16%\n",
            "\t Val. Loss: 1.415 |  Val. Acc: 42.06%\n"
          ]
        },
        {
          "output_type": "stream",
          "name": "stderr",
          "text": [
            "100%|██████████| 51/51 [00:00<00:00, 76.50it/s]\n"
          ]
        },
        {
          "output_type": "stream",
          "name": "stdout",
          "text": [
            "Best model saved at epoch 41 with validation loss: 1.4112\n",
            "Epoch: 42/200 | Epoch Time: 0m 0s\n",
            "\tTrain Loss: 1.151 | Train Acc: 48.27%\n",
            "\t Val. Loss: 1.411 |  Val. Acc: 40.89%\n"
          ]
        },
        {
          "output_type": "stream",
          "name": "stderr",
          "text": [
            "100%|██████████| 51/51 [00:00<00:00, 76.66it/s]\n"
          ]
        },
        {
          "output_type": "stream",
          "name": "stdout",
          "text": [
            "Best model saved at epoch 42 with validation loss: 1.4059\n",
            "Epoch: 43/200 | Epoch Time: 0m 0s\n",
            "\tTrain Loss: 1.134 | Train Acc: 48.81%\n",
            "\t Val. Loss: 1.406 |  Val. Acc: 41.28%\n"
          ]
        },
        {
          "output_type": "stream",
          "name": "stderr",
          "text": [
            "100%|██████████| 51/51 [00:00<00:00, 75.57it/s]\n"
          ]
        },
        {
          "output_type": "stream",
          "name": "stdout",
          "text": [
            "Best model saved at epoch 43 with validation loss: 1.4010\n",
            "Epoch: 44/200 | Epoch Time: 0m 0s\n",
            "\tTrain Loss: 1.115 | Train Acc: 49.00%\n",
            "\t Val. Loss: 1.401 |  Val. Acc: 41.28%\n"
          ]
        },
        {
          "output_type": "stream",
          "name": "stderr",
          "text": [
            "100%|██████████| 51/51 [00:00<00:00, 76.36it/s]\n"
          ]
        },
        {
          "output_type": "stream",
          "name": "stdout",
          "text": [
            "Epoch: 45/200 | Epoch Time: 0m 0s\n",
            "\tTrain Loss: 1.101 | Train Acc: 49.31%\n",
            "\t Val. Loss: 1.401 |  Val. Acc: 42.45%\n"
          ]
        },
        {
          "output_type": "stream",
          "name": "stderr",
          "text": [
            "100%|██████████| 51/51 [00:00<00:00, 75.82it/s]\n"
          ]
        },
        {
          "output_type": "stream",
          "name": "stdout",
          "text": [
            "Epoch: 46/200 | Epoch Time: 0m 0s\n",
            "\tTrain Loss: 1.079 | Train Acc: 50.43%\n",
            "\t Val. Loss: 1.401 |  Val. Acc: 41.28%\n"
          ]
        },
        {
          "output_type": "stream",
          "name": "stderr",
          "text": [
            "100%|██████████| 51/51 [00:00<00:00, 75.15it/s]\n"
          ]
        },
        {
          "output_type": "stream",
          "name": "stdout",
          "text": [
            "Best model saved at epoch 46 with validation loss: 1.3982\n",
            "Epoch: 47/200 | Epoch Time: 0m 0s\n",
            "\tTrain Loss: 1.068 | Train Acc: 51.23%\n",
            "\t Val. Loss: 1.398 |  Val. Acc: 39.32%\n"
          ]
        },
        {
          "output_type": "stream",
          "name": "stderr",
          "text": [
            "100%|██████████| 51/51 [00:00<00:00, 75.20it/s]\n"
          ]
        },
        {
          "output_type": "stream",
          "name": "stdout",
          "text": [
            "Best model saved at epoch 47 with validation loss: 1.3852\n",
            "Epoch: 48/200 | Epoch Time: 0m 0s\n",
            "\tTrain Loss: 1.054 | Train Acc: 51.27%\n",
            "\t Val. Loss: 1.385 |  Val. Acc: 40.49%\n"
          ]
        },
        {
          "output_type": "stream",
          "name": "stderr",
          "text": [
            "100%|██████████| 51/51 [00:00<00:00, 74.71it/s]\n"
          ]
        },
        {
          "output_type": "stream",
          "name": "stdout",
          "text": [
            "Epoch: 49/200 | Epoch Time: 0m 0s\n",
            "\tTrain Loss: 1.032 | Train Acc: 52.87%\n",
            "\t Val. Loss: 1.396 |  Val. Acc: 41.41%\n"
          ]
        },
        {
          "output_type": "stream",
          "name": "stderr",
          "text": [
            "100%|██████████| 51/51 [00:00<00:00, 74.99it/s]\n"
          ]
        },
        {
          "output_type": "stream",
          "name": "stdout",
          "text": [
            "Epoch: 50/200 | Epoch Time: 0m 0s\n",
            "\tTrain Loss: 1.019 | Train Acc: 53.31%\n",
            "\t Val. Loss: 1.394 |  Val. Acc: 40.10%\n"
          ]
        },
        {
          "output_type": "stream",
          "name": "stderr",
          "text": [
            "100%|██████████| 51/51 [00:00<00:00, 75.77it/s]\n"
          ]
        },
        {
          "output_type": "stream",
          "name": "stdout",
          "text": [
            "Epoch: 51/200 | Epoch Time: 0m 0s\n",
            "\tTrain Loss: 1.000 | Train Acc: 54.30%\n",
            "\t Val. Loss: 1.400 |  Val. Acc: 42.97%\n"
          ]
        },
        {
          "output_type": "stream",
          "name": "stderr",
          "text": [
            "100%|██████████| 51/51 [00:00<00:00, 72.47it/s]\n"
          ]
        },
        {
          "output_type": "stream",
          "name": "stdout",
          "text": [
            "Epoch: 52/200 | Epoch Time: 0m 0s\n",
            "\tTrain Loss: 0.989 | Train Acc: 55.09%\n",
            "\t Val. Loss: 1.388 |  Val. Acc: 40.89%\n"
          ]
        },
        {
          "output_type": "stream",
          "name": "stderr",
          "text": [
            "100%|██████████| 51/51 [00:00<00:00, 72.07it/s]\n"
          ]
        },
        {
          "output_type": "stream",
          "name": "stdout",
          "text": [
            "Epoch: 53/200 | Epoch Time: 0m 0s\n",
            "\tTrain Loss: 0.976 | Train Acc: 55.48%\n",
            "\t Val. Loss: 1.402 |  Val. Acc: 43.62%\n"
          ]
        },
        {
          "output_type": "stream",
          "name": "stderr",
          "text": [
            "100%|██████████| 51/51 [00:00<00:00, 72.68it/s]\n"
          ]
        },
        {
          "output_type": "stream",
          "name": "stdout",
          "text": [
            "Epoch: 54/200 | Epoch Time: 0m 0s\n",
            "\tTrain Loss: 0.955 | Train Acc: 55.91%\n",
            "\t Val. Loss: 1.386 |  Val. Acc: 44.14%\n"
          ]
        },
        {
          "output_type": "stream",
          "name": "stderr",
          "text": [
            "100%|██████████| 51/51 [00:00<00:00, 75.27it/s]\n"
          ]
        },
        {
          "output_type": "stream",
          "name": "stdout",
          "text": [
            "Epoch: 55/200 | Epoch Time: 0m 0s\n",
            "\tTrain Loss: 0.944 | Train Acc: 57.63%\n",
            "\t Val. Loss: 1.402 |  Val. Acc: 43.23%\n"
          ]
        },
        {
          "output_type": "stream",
          "name": "stderr",
          "text": [
            "100%|██████████| 51/51 [00:00<00:00, 74.62it/s]\n"
          ]
        },
        {
          "output_type": "stream",
          "name": "stdout",
          "text": [
            "Epoch: 56/200 | Epoch Time: 0m 0s\n",
            "\tTrain Loss: 0.943 | Train Acc: 56.99%\n",
            "\t Val. Loss: 1.388 |  Val. Acc: 46.09%\n"
          ]
        },
        {
          "output_type": "stream",
          "name": "stderr",
          "text": [
            "100%|██████████| 51/51 [00:00<00:00, 73.62it/s]\n"
          ]
        },
        {
          "output_type": "stream",
          "name": "stdout",
          "text": [
            "Epoch: 57/200 | Epoch Time: 0m 0s\n",
            "\tTrain Loss: 0.926 | Train Acc: 58.17%\n",
            "\t Val. Loss: 1.388 |  Val. Acc: 48.96%\n"
          ]
        },
        {
          "output_type": "stream",
          "name": "stderr",
          "text": [
            "100%|██████████| 51/51 [00:00<00:00, 75.92it/s]\n"
          ]
        },
        {
          "output_type": "stream",
          "name": "stdout",
          "text": [
            "Epoch: 58/200 | Epoch Time: 0m 0s\n",
            "\tTrain Loss: 0.913 | Train Acc: 60.15%\n",
            "\t Val. Loss: 1.386 |  Val. Acc: 47.66%\n"
          ]
        },
        {
          "output_type": "stream",
          "name": "stderr",
          "text": [
            "100%|██████████| 51/51 [00:00<00:00, 75.33it/s]\n"
          ]
        },
        {
          "output_type": "stream",
          "name": "stdout",
          "text": [
            "Epoch: 59/200 | Epoch Time: 0m 0s\n",
            "\tTrain Loss: 0.900 | Train Acc: 59.34%\n",
            "\t Val. Loss: 1.392 |  Val. Acc: 50.13%\n"
          ]
        },
        {
          "output_type": "stream",
          "name": "stderr",
          "text": [
            "100%|██████████| 51/51 [00:00<00:00, 74.64it/s]\n"
          ]
        },
        {
          "output_type": "stream",
          "name": "stdout",
          "text": [
            "Epoch: 60/200 | Epoch Time: 0m 0s\n",
            "\tTrain Loss: 0.890 | Train Acc: 59.89%\n",
            "\t Val. Loss: 1.406 |  Val. Acc: 49.74%\n"
          ]
        },
        {
          "output_type": "stream",
          "name": "stderr",
          "text": [
            "100%|██████████| 51/51 [00:00<00:00, 74.93it/s]\n"
          ]
        },
        {
          "output_type": "stream",
          "name": "stdout",
          "text": [
            "Epoch: 61/200 | Epoch Time: 0m 0s\n",
            "\tTrain Loss: 0.882 | Train Acc: 61.43%\n",
            "\t Val. Loss: 1.426 |  Val. Acc: 50.78%\n"
          ]
        },
        {
          "output_type": "stream",
          "name": "stderr",
          "text": [
            "100%|██████████| 51/51 [00:00<00:00, 74.72it/s]\n"
          ]
        },
        {
          "output_type": "stream",
          "name": "stdout",
          "text": [
            "Epoch: 62/200 | Epoch Time: 0m 0s\n",
            "\tTrain Loss: 0.871 | Train Acc: 62.08%\n",
            "\t Val. Loss: 1.420 |  Val. Acc: 50.78%\n"
          ]
        },
        {
          "output_type": "stream",
          "name": "stderr",
          "text": [
            "100%|██████████| 51/51 [00:00<00:00, 74.81it/s]\n"
          ]
        },
        {
          "output_type": "stream",
          "name": "stdout",
          "text": [
            "Epoch: 63/200 | Epoch Time: 0m 0s\n",
            "\tTrain Loss: 0.863 | Train Acc: 62.67%\n",
            "\t Val. Loss: 1.435 |  Val. Acc: 52.34%\n"
          ]
        },
        {
          "output_type": "stream",
          "name": "stderr",
          "text": [
            "100%|██████████| 51/51 [00:00<00:00, 74.98it/s]\n"
          ]
        },
        {
          "output_type": "stream",
          "name": "stdout",
          "text": [
            "Epoch: 64/200 | Epoch Time: 0m 0s\n",
            "\tTrain Loss: 0.863 | Train Acc: 62.29%\n",
            "\t Val. Loss: 1.411 |  Val. Acc: 52.86%\n"
          ]
        },
        {
          "output_type": "stream",
          "name": "stderr",
          "text": [
            "100%|██████████| 51/51 [00:00<00:00, 75.45it/s]\n"
          ]
        },
        {
          "output_type": "stream",
          "name": "stdout",
          "text": [
            "Epoch: 65/200 | Epoch Time: 0m 0s\n",
            "\tTrain Loss: 0.852 | Train Acc: 62.65%\n",
            "\t Val. Loss: 1.403 |  Val. Acc: 51.69%\n"
          ]
        },
        {
          "output_type": "stream",
          "name": "stderr",
          "text": [
            "100%|██████████| 51/51 [00:00<00:00, 75.36it/s]\n"
          ]
        },
        {
          "output_type": "stream",
          "name": "stdout",
          "text": [
            "Epoch: 66/200 | Epoch Time: 0m 0s\n",
            "\tTrain Loss: 0.844 | Train Acc: 62.43%\n",
            "\t Val. Loss: 1.433 |  Val. Acc: 51.30%\n"
          ]
        },
        {
          "output_type": "stream",
          "name": "stderr",
          "text": [
            "100%|██████████| 51/51 [00:00<00:00, 76.17it/s]\n"
          ]
        },
        {
          "output_type": "stream",
          "name": "stdout",
          "text": [
            "Epoch: 67/200 | Epoch Time: 0m 0s\n",
            "\tTrain Loss: 0.833 | Train Acc: 63.84%\n",
            "\t Val. Loss: 1.411 |  Val. Acc: 52.86%\n"
          ]
        },
        {
          "output_type": "stream",
          "name": "stderr",
          "text": [
            "100%|██████████| 51/51 [00:00<00:00, 72.43it/s]\n"
          ]
        },
        {
          "output_type": "stream",
          "name": "stdout",
          "text": [
            "Epoch: 68/200 | Epoch Time: 0m 0s\n",
            "\tTrain Loss: 0.823 | Train Acc: 63.64%\n",
            "\t Val. Loss: 1.443 |  Val. Acc: 49.61%\n"
          ]
        },
        {
          "output_type": "stream",
          "name": "stderr",
          "text": [
            "100%|██████████| 51/51 [00:00<00:00, 72.19it/s]\n"
          ]
        },
        {
          "output_type": "stream",
          "name": "stdout",
          "text": [
            "Epoch: 69/200 | Epoch Time: 0m 0s\n",
            "\tTrain Loss: 0.811 | Train Acc: 64.69%\n",
            "\t Val. Loss: 1.438 |  Val. Acc: 51.56%\n"
          ]
        },
        {
          "output_type": "stream",
          "name": "stderr",
          "text": [
            "100%|██████████| 51/51 [00:00<00:00, 71.23it/s]\n"
          ]
        },
        {
          "output_type": "stream",
          "name": "stdout",
          "text": [
            "Epoch: 70/200 | Epoch Time: 0m 0s\n",
            "\tTrain Loss: 0.806 | Train Acc: 66.16%\n",
            "\t Val. Loss: 1.438 |  Val. Acc: 50.78%\n"
          ]
        },
        {
          "output_type": "stream",
          "name": "stderr",
          "text": [
            "100%|██████████| 51/51 [00:00<00:00, 73.13it/s]\n"
          ]
        },
        {
          "output_type": "stream",
          "name": "stdout",
          "text": [
            "Epoch: 71/200 | Epoch Time: 0m 0s\n",
            "\tTrain Loss: 0.796 | Train Acc: 65.67%\n",
            "\t Val. Loss: 1.444 |  Val. Acc: 50.00%\n"
          ]
        },
        {
          "output_type": "stream",
          "name": "stderr",
          "text": [
            "100%|██████████| 51/51 [00:00<00:00, 74.81it/s]\n"
          ]
        },
        {
          "output_type": "stream",
          "name": "stdout",
          "text": [
            "Epoch: 72/200 | Epoch Time: 0m 0s\n",
            "\tTrain Loss: 0.788 | Train Acc: 66.72%\n",
            "\t Val. Loss: 1.451 |  Val. Acc: 50.39%\n"
          ]
        },
        {
          "output_type": "stream",
          "name": "stderr",
          "text": [
            "100%|██████████| 51/51 [00:00<00:00, 74.58it/s]\n"
          ]
        },
        {
          "output_type": "stream",
          "name": "stdout",
          "text": [
            "Epoch: 73/200 | Epoch Time: 0m 0s\n",
            "\tTrain Loss: 0.794 | Train Acc: 66.41%\n",
            "\t Val. Loss: 1.460 |  Val. Acc: 51.56%\n"
          ]
        },
        {
          "output_type": "stream",
          "name": "stderr",
          "text": [
            "100%|██████████| 51/51 [00:00<00:00, 74.97it/s]\n"
          ]
        },
        {
          "output_type": "stream",
          "name": "stdout",
          "text": [
            "Epoch: 74/200 | Epoch Time: 0m 0s\n",
            "\tTrain Loss: 0.783 | Train Acc: 67.14%\n",
            "\t Val. Loss: 1.473 |  Val. Acc: 48.83%\n"
          ]
        },
        {
          "output_type": "stream",
          "name": "stderr",
          "text": [
            "100%|██████████| 51/51 [00:00<00:00, 74.71it/s]\n"
          ]
        },
        {
          "output_type": "stream",
          "name": "stdout",
          "text": [
            "Epoch: 75/200 | Epoch Time: 0m 0s\n",
            "\tTrain Loss: 0.773 | Train Acc: 66.47%\n",
            "\t Val. Loss: 1.443 |  Val. Acc: 50.78%\n"
          ]
        },
        {
          "output_type": "stream",
          "name": "stderr",
          "text": [
            "100%|██████████| 51/51 [00:00<00:00, 75.03it/s]\n"
          ]
        },
        {
          "output_type": "stream",
          "name": "stdout",
          "text": [
            "Epoch: 76/200 | Epoch Time: 0m 0s\n",
            "\tTrain Loss: 0.764 | Train Acc: 66.29%\n",
            "\t Val. Loss: 1.474 |  Val. Acc: 51.56%\n"
          ]
        },
        {
          "output_type": "stream",
          "name": "stderr",
          "text": [
            "100%|██████████| 51/51 [00:00<00:00, 74.70it/s]\n"
          ]
        },
        {
          "output_type": "stream",
          "name": "stdout",
          "text": [
            "Epoch: 77/200 | Epoch Time: 0m 0s\n",
            "\tTrain Loss: 0.766 | Train Acc: 67.45%\n",
            "\t Val. Loss: 1.529 |  Val. Acc: 50.65%\n"
          ]
        },
        {
          "output_type": "stream",
          "name": "stderr",
          "text": [
            "100%|██████████| 51/51 [00:00<00:00, 75.41it/s]\n"
          ]
        },
        {
          "output_type": "stream",
          "name": "stdout",
          "text": [
            "Epoch: 78/200 | Epoch Time: 0m 0s\n",
            "\tTrain Loss: 0.753 | Train Acc: 68.19%\n",
            "\t Val. Loss: 1.484 |  Val. Acc: 51.17%\n"
          ]
        },
        {
          "output_type": "stream",
          "name": "stderr",
          "text": [
            "100%|██████████| 51/51 [00:00<00:00, 75.69it/s]\n"
          ]
        },
        {
          "output_type": "stream",
          "name": "stdout",
          "text": [
            "Epoch: 79/200 | Epoch Time: 0m 0s\n",
            "\tTrain Loss: 0.744 | Train Acc: 68.69%\n",
            "\t Val. Loss: 1.475 |  Val. Acc: 51.56%\n"
          ]
        },
        {
          "output_type": "stream",
          "name": "stderr",
          "text": [
            "100%|██████████| 51/51 [00:00<00:00, 75.02it/s]\n"
          ]
        },
        {
          "output_type": "stream",
          "name": "stdout",
          "text": [
            "Epoch: 80/200 | Epoch Time: 0m 0s\n",
            "\tTrain Loss: 0.742 | Train Acc: 68.50%\n",
            "\t Val. Loss: 1.491 |  Val. Acc: 52.34%\n"
          ]
        },
        {
          "output_type": "stream",
          "name": "stderr",
          "text": [
            "100%|██████████| 51/51 [00:00<00:00, 74.32it/s]\n"
          ]
        },
        {
          "output_type": "stream",
          "name": "stdout",
          "text": [
            "Epoch: 81/200 | Epoch Time: 0m 0s\n",
            "\tTrain Loss: 0.736 | Train Acc: 68.01%\n",
            "\t Val. Loss: 1.517 |  Val. Acc: 51.17%\n"
          ]
        },
        {
          "output_type": "stream",
          "name": "stderr",
          "text": [
            "100%|██████████| 51/51 [00:00<00:00, 73.75it/s]\n"
          ]
        },
        {
          "output_type": "stream",
          "name": "stdout",
          "text": [
            "Epoch: 82/200 | Epoch Time: 0m 0s\n",
            "\tTrain Loss: 0.728 | Train Acc: 69.73%\n",
            "\t Val. Loss: 1.484 |  Val. Acc: 52.34%\n"
          ]
        },
        {
          "output_type": "stream",
          "name": "stderr",
          "text": [
            "100%|██████████| 51/51 [00:00<00:00, 74.28it/s]\n"
          ]
        },
        {
          "output_type": "stream",
          "name": "stdout",
          "text": [
            "Epoch: 83/200 | Epoch Time: 0m 0s\n",
            "\tTrain Loss: 0.721 | Train Acc: 69.73%\n",
            "\t Val. Loss: 1.510 |  Val. Acc: 51.95%\n"
          ]
        },
        {
          "output_type": "stream",
          "name": "stderr",
          "text": [
            "100%|██████████| 51/51 [00:00<00:00, 74.14it/s]\n"
          ]
        },
        {
          "output_type": "stream",
          "name": "stdout",
          "text": [
            "Epoch: 84/200 | Epoch Time: 0m 0s\n",
            "\tTrain Loss: 0.713 | Train Acc: 70.53%\n",
            "\t Val. Loss: 1.522 |  Val. Acc: 51.04%\n"
          ]
        },
        {
          "output_type": "stream",
          "name": "stderr",
          "text": [
            "100%|██████████| 51/51 [00:00<00:00, 70.92it/s]\n"
          ]
        },
        {
          "output_type": "stream",
          "name": "stdout",
          "text": [
            "Epoch: 85/200 | Epoch Time: 0m 0s\n",
            "\tTrain Loss: 0.709 | Train Acc: 70.22%\n",
            "\t Val. Loss: 1.534 |  Val. Acc: 54.30%\n"
          ]
        },
        {
          "output_type": "stream",
          "name": "stderr",
          "text": [
            "100%|██████████| 51/51 [00:00<00:00, 71.93it/s]\n"
          ]
        },
        {
          "output_type": "stream",
          "name": "stdout",
          "text": [
            "Epoch: 86/200 | Epoch Time: 0m 0s\n",
            "\tTrain Loss: 0.705 | Train Acc: 70.89%\n",
            "\t Val. Loss: 1.534 |  Val. Acc: 53.91%\n"
          ]
        },
        {
          "output_type": "stream",
          "name": "stderr",
          "text": [
            "100%|██████████| 51/51 [00:00<00:00, 69.50it/s]\n"
          ]
        },
        {
          "output_type": "stream",
          "name": "stdout",
          "text": [
            "Epoch: 87/200 | Epoch Time: 0m 0s\n",
            "\tTrain Loss: 0.700 | Train Acc: 70.16%\n",
            "\t Val. Loss: 1.547 |  Val. Acc: 51.82%\n"
          ]
        },
        {
          "output_type": "stream",
          "name": "stderr",
          "text": [
            "100%|██████████| 51/51 [00:00<00:00, 74.43it/s]\n"
          ]
        },
        {
          "output_type": "stream",
          "name": "stdout",
          "text": [
            "Epoch: 88/200 | Epoch Time: 0m 0s\n",
            "\tTrain Loss: 0.696 | Train Acc: 70.89%\n",
            "\t Val. Loss: 1.545 |  Val. Acc: 52.21%\n"
          ]
        },
        {
          "output_type": "stream",
          "name": "stderr",
          "text": [
            "100%|██████████| 51/51 [00:00<00:00, 73.80it/s]\n"
          ]
        },
        {
          "output_type": "stream",
          "name": "stdout",
          "text": [
            "Epoch: 89/200 | Epoch Time: 0m 0s\n",
            "\tTrain Loss: 0.691 | Train Acc: 71.32%\n",
            "\t Val. Loss: 1.567 |  Val. Acc: 53.12%\n"
          ]
        },
        {
          "output_type": "stream",
          "name": "stderr",
          "text": [
            "100%|██████████| 51/51 [00:00<00:00, 74.38it/s]\n"
          ]
        },
        {
          "output_type": "stream",
          "name": "stdout",
          "text": [
            "Epoch: 90/200 | Epoch Time: 0m 0s\n",
            "\tTrain Loss: 0.684 | Train Acc: 70.89%\n",
            "\t Val. Loss: 1.550 |  Val. Acc: 53.12%\n"
          ]
        },
        {
          "output_type": "stream",
          "name": "stderr",
          "text": [
            "100%|██████████| 51/51 [00:00<00:00, 74.24it/s]\n"
          ]
        },
        {
          "output_type": "stream",
          "name": "stdout",
          "text": [
            "Epoch: 91/200 | Epoch Time: 0m 0s\n",
            "\tTrain Loss: 0.672 | Train Acc: 71.02%\n",
            "\t Val. Loss: 1.544 |  Val. Acc: 51.43%\n"
          ]
        },
        {
          "output_type": "stream",
          "name": "stderr",
          "text": [
            "100%|██████████| 51/51 [00:00<00:00, 75.33it/s]\n"
          ]
        },
        {
          "output_type": "stream",
          "name": "stdout",
          "text": [
            "Epoch: 92/200 | Epoch Time: 0m 0s\n",
            "\tTrain Loss: 0.671 | Train Acc: 71.14%\n",
            "\t Val. Loss: 1.559 |  Val. Acc: 53.52%\n"
          ]
        },
        {
          "output_type": "stream",
          "name": "stderr",
          "text": [
            "100%|██████████| 51/51 [00:00<00:00, 74.18it/s]\n"
          ]
        },
        {
          "output_type": "stream",
          "name": "stdout",
          "text": [
            "Epoch: 93/200 | Epoch Time: 0m 0s\n",
            "\tTrain Loss: 0.661 | Train Acc: 71.45%\n",
            "\t Val. Loss: 1.577 |  Val. Acc: 52.99%\n"
          ]
        },
        {
          "output_type": "stream",
          "name": "stderr",
          "text": [
            "100%|██████████| 51/51 [00:00<00:00, 73.44it/s]\n"
          ]
        },
        {
          "output_type": "stream",
          "name": "stdout",
          "text": [
            "Epoch: 94/200 | Epoch Time: 0m 0s\n",
            "\tTrain Loss: 0.656 | Train Acc: 72.00%\n",
            "\t Val. Loss: 1.570 |  Val. Acc: 51.43%\n"
          ]
        },
        {
          "output_type": "stream",
          "name": "stderr",
          "text": [
            "100%|██████████| 51/51 [00:00<00:00, 75.04it/s]\n"
          ]
        },
        {
          "output_type": "stream",
          "name": "stdout",
          "text": [
            "Epoch: 95/200 | Epoch Time: 0m 0s\n",
            "\tTrain Loss: 0.649 | Train Acc: 72.43%\n",
            "\t Val. Loss: 1.568 |  Val. Acc: 53.52%\n"
          ]
        },
        {
          "output_type": "stream",
          "name": "stderr",
          "text": [
            "100%|██████████| 51/51 [00:00<00:00, 73.86it/s]\n"
          ]
        },
        {
          "output_type": "stream",
          "name": "stdout",
          "text": [
            "Epoch: 96/200 | Epoch Time: 0m 0s\n",
            "\tTrain Loss: 0.641 | Train Acc: 72.73%\n",
            "\t Val. Loss: 1.573 |  Val. Acc: 53.52%\n"
          ]
        },
        {
          "output_type": "stream",
          "name": "stderr",
          "text": [
            "100%|██████████| 51/51 [00:00<00:00, 74.72it/s]\n"
          ]
        },
        {
          "output_type": "stream",
          "name": "stdout",
          "text": [
            "Epoch: 97/200 | Epoch Time: 0m 0s\n",
            "\tTrain Loss: 0.641 | Train Acc: 72.49%\n",
            "\t Val. Loss: 1.610 |  Val. Acc: 52.60%\n"
          ]
        },
        {
          "output_type": "stream",
          "name": "stderr",
          "text": [
            "100%|██████████| 51/51 [00:00<00:00, 73.52it/s]\n"
          ]
        },
        {
          "output_type": "stream",
          "name": "stdout",
          "text": [
            "Epoch: 98/200 | Epoch Time: 0m 0s\n",
            "\tTrain Loss: 0.638 | Train Acc: 71.88%\n",
            "\t Val. Loss: 1.625 |  Val. Acc: 53.91%\n"
          ]
        },
        {
          "output_type": "stream",
          "name": "stderr",
          "text": [
            "100%|██████████| 51/51 [00:00<00:00, 72.92it/s]\n"
          ]
        },
        {
          "output_type": "stream",
          "name": "stdout",
          "text": [
            "Epoch: 99/200 | Epoch Time: 0m 0s\n",
            "\tTrain Loss: 0.633 | Train Acc: 73.77%\n",
            "\t Val. Loss: 1.598 |  Val. Acc: 52.60%\n"
          ]
        },
        {
          "output_type": "stream",
          "name": "stderr",
          "text": [
            "100%|██████████| 51/51 [00:00<00:00, 73.86it/s]\n"
          ]
        },
        {
          "output_type": "stream",
          "name": "stdout",
          "text": [
            "Epoch: 100/200 | Epoch Time: 0m 0s\n",
            "\tTrain Loss: 0.632 | Train Acc: 73.90%\n",
            "\t Val. Loss: 1.610 |  Val. Acc: 51.43%\n"
          ]
        },
        {
          "output_type": "stream",
          "name": "stderr",
          "text": [
            "100%|██████████| 51/51 [00:00<00:00, 72.62it/s]\n"
          ]
        },
        {
          "output_type": "stream",
          "name": "stdout",
          "text": [
            "Epoch: 101/200 | Epoch Time: 0m 0s\n",
            "\tTrain Loss: 0.625 | Train Acc: 74.39%\n",
            "\t Val. Loss: 1.648 |  Val. Acc: 53.52%\n"
          ]
        },
        {
          "output_type": "stream",
          "name": "stderr",
          "text": [
            "100%|██████████| 51/51 [00:00<00:00, 71.09it/s]\n"
          ]
        },
        {
          "output_type": "stream",
          "name": "stdout",
          "text": [
            "Epoch: 102/200 | Epoch Time: 0m 0s\n",
            "\tTrain Loss: 0.616 | Train Acc: 74.26%\n",
            "\t Val. Loss: 1.633 |  Val. Acc: 52.21%\n"
          ]
        },
        {
          "output_type": "stream",
          "name": "stderr",
          "text": [
            "100%|██████████| 51/51 [00:00<00:00, 70.36it/s]\n"
          ]
        },
        {
          "output_type": "stream",
          "name": "stdout",
          "text": [
            "Epoch: 103/200 | Epoch Time: 0m 0s\n",
            "\tTrain Loss: 0.617 | Train Acc: 73.71%\n",
            "\t Val. Loss: 1.758 |  Val. Acc: 43.49%\n"
          ]
        },
        {
          "output_type": "stream",
          "name": "stderr",
          "text": [
            "100%|██████████| 51/51 [00:00<00:00, 71.32it/s]\n"
          ]
        },
        {
          "output_type": "stream",
          "name": "stdout",
          "text": [
            "Epoch: 104/200 | Epoch Time: 0m 0s\n",
            "\tTrain Loss: 0.640 | Train Acc: 71.81%\n",
            "\t Val. Loss: 1.613 |  Val. Acc: 51.43%\n"
          ]
        },
        {
          "output_type": "stream",
          "name": "stderr",
          "text": [
            "100%|██████████| 51/51 [00:00<00:00, 73.68it/s]\n"
          ]
        },
        {
          "output_type": "stream",
          "name": "stdout",
          "text": [
            "Epoch: 105/200 | Epoch Time: 0m 0s\n",
            "\tTrain Loss: 0.603 | Train Acc: 74.51%\n",
            "\t Val. Loss: 1.640 |  Val. Acc: 52.60%\n"
          ]
        },
        {
          "output_type": "stream",
          "name": "stderr",
          "text": [
            "100%|██████████| 51/51 [00:00<00:00, 73.16it/s]\n"
          ]
        },
        {
          "output_type": "stream",
          "name": "stdout",
          "text": [
            "Epoch: 106/200 | Epoch Time: 0m 0s\n",
            "\tTrain Loss: 0.600 | Train Acc: 74.69%\n",
            "\t Val. Loss: 1.692 |  Val. Acc: 55.47%\n"
          ]
        },
        {
          "output_type": "stream",
          "name": "stderr",
          "text": [
            "100%|██████████| 51/51 [00:00<00:00, 73.92it/s]\n"
          ]
        },
        {
          "output_type": "stream",
          "name": "stdout",
          "text": [
            "Epoch: 107/200 | Epoch Time: 0m 0s\n",
            "\tTrain Loss: 0.596 | Train Acc: 74.26%\n",
            "\t Val. Loss: 1.666 |  Val. Acc: 50.13%\n"
          ]
        },
        {
          "output_type": "stream",
          "name": "stderr",
          "text": [
            "100%|██████████| 51/51 [00:00<00:00, 74.21it/s]\n"
          ]
        },
        {
          "output_type": "stream",
          "name": "stdout",
          "text": [
            "Epoch: 108/200 | Epoch Time: 0m 0s\n",
            "\tTrain Loss: 0.588 | Train Acc: 73.47%\n",
            "\t Val. Loss: 1.697 |  Val. Acc: 50.13%\n"
          ]
        },
        {
          "output_type": "stream",
          "name": "stderr",
          "text": [
            "100%|██████████| 51/51 [00:00<00:00, 73.66it/s]\n"
          ]
        },
        {
          "output_type": "stream",
          "name": "stdout",
          "text": [
            "Epoch: 109/200 | Epoch Time: 0m 0s\n",
            "\tTrain Loss: 0.589 | Train Acc: 75.31%\n",
            "\t Val. Loss: 1.698 |  Val. Acc: 52.99%\n"
          ]
        },
        {
          "output_type": "stream",
          "name": "stderr",
          "text": [
            "100%|██████████| 51/51 [00:00<00:00, 72.81it/s]\n"
          ]
        },
        {
          "output_type": "stream",
          "name": "stdout",
          "text": [
            "Epoch: 110/200 | Epoch Time: 0m 0s\n",
            "\tTrain Loss: 0.578 | Train Acc: 75.06%\n",
            "\t Val. Loss: 1.726 |  Val. Acc: 54.30%\n"
          ]
        },
        {
          "output_type": "stream",
          "name": "stderr",
          "text": [
            "100%|██████████| 51/51 [00:00<00:00, 74.71it/s]\n"
          ]
        },
        {
          "output_type": "stream",
          "name": "stdout",
          "text": [
            "Epoch: 111/200 | Epoch Time: 0m 0s\n",
            "\tTrain Loss: 0.582 | Train Acc: 74.94%\n",
            "\t Val. Loss: 1.724 |  Val. Acc: 52.21%\n"
          ]
        },
        {
          "output_type": "stream",
          "name": "stderr",
          "text": [
            "100%|██████████| 51/51 [00:00<00:00, 73.67it/s]\n"
          ]
        },
        {
          "output_type": "stream",
          "name": "stdout",
          "text": [
            "Epoch: 112/200 | Epoch Time: 0m 0s\n",
            "\tTrain Loss: 0.571 | Train Acc: 75.31%\n",
            "\t Val. Loss: 1.719 |  Val. Acc: 49.35%\n"
          ]
        },
        {
          "output_type": "stream",
          "name": "stderr",
          "text": [
            "100%|██████████| 51/51 [00:00<00:00, 74.13it/s]\n"
          ]
        },
        {
          "output_type": "stream",
          "name": "stdout",
          "text": [
            "Epoch: 113/200 | Epoch Time: 0m 0s\n",
            "\tTrain Loss: 0.566 | Train Acc: 76.10%\n",
            "\t Val. Loss: 1.749 |  Val. Acc: 53.12%\n"
          ]
        },
        {
          "output_type": "stream",
          "name": "stderr",
          "text": [
            "100%|██████████| 51/51 [00:00<00:00, 73.97it/s]\n"
          ]
        },
        {
          "output_type": "stream",
          "name": "stdout",
          "text": [
            "Epoch: 114/200 | Epoch Time: 0m 0s\n",
            "\tTrain Loss: 0.564 | Train Acc: 75.49%\n",
            "\t Val. Loss: 1.771 |  Val. Acc: 53.91%\n"
          ]
        },
        {
          "output_type": "stream",
          "name": "stderr",
          "text": [
            "100%|██████████| 51/51 [00:00<00:00, 73.78it/s]\n"
          ]
        },
        {
          "output_type": "stream",
          "name": "stdout",
          "text": [
            "Epoch: 115/200 | Epoch Time: 0m 0s\n",
            "\tTrain Loss: 0.559 | Train Acc: 76.84%\n",
            "\t Val. Loss: 1.736 |  Val. Acc: 48.96%\n"
          ]
        },
        {
          "output_type": "stream",
          "name": "stderr",
          "text": [
            "100%|██████████| 51/51 [00:00<00:00, 73.76it/s]\n"
          ]
        },
        {
          "output_type": "stream",
          "name": "stdout",
          "text": [
            "Epoch: 116/200 | Epoch Time: 0m 0s\n",
            "\tTrain Loss: 0.552 | Train Acc: 76.16%\n",
            "\t Val. Loss: 1.790 |  Val. Acc: 53.52%\n"
          ]
        },
        {
          "output_type": "stream",
          "name": "stderr",
          "text": [
            "100%|██████████| 51/51 [00:00<00:00, 73.65it/s]\n"
          ]
        },
        {
          "output_type": "stream",
          "name": "stdout",
          "text": [
            "Epoch: 117/200 | Epoch Time: 0m 0s\n",
            "\tTrain Loss: 0.573 | Train Acc: 76.15%\n",
            "\t Val. Loss: 1.671 |  Val. Acc: 51.43%\n"
          ]
        },
        {
          "output_type": "stream",
          "name": "stderr",
          "text": [
            "100%|██████████| 51/51 [00:00<00:00, 70.59it/s]\n"
          ]
        },
        {
          "output_type": "stream",
          "name": "stdout",
          "text": [
            "Epoch: 118/200 | Epoch Time: 0m 0s\n",
            "\tTrain Loss: 0.547 | Train Acc: 76.29%\n",
            "\t Val. Loss: 1.694 |  Val. Acc: 51.82%\n"
          ]
        },
        {
          "output_type": "stream",
          "name": "stderr",
          "text": [
            "100%|██████████| 51/51 [00:00<00:00, 70.69it/s]\n"
          ]
        },
        {
          "output_type": "stream",
          "name": "stdout",
          "text": [
            "Epoch: 119/200 | Epoch Time: 0m 0s\n",
            "\tTrain Loss: 0.544 | Train Acc: 76.23%\n",
            "\t Val. Loss: 1.718 |  Val. Acc: 51.43%\n"
          ]
        },
        {
          "output_type": "stream",
          "name": "stderr",
          "text": [
            "100%|██████████| 51/51 [00:00<00:00, 70.93it/s]\n"
          ]
        },
        {
          "output_type": "stream",
          "name": "stdout",
          "text": [
            "Epoch: 120/200 | Epoch Time: 0m 0s\n",
            "\tTrain Loss: 0.539 | Train Acc: 77.45%\n",
            "\t Val. Loss: 1.797 |  Val. Acc: 50.13%\n"
          ]
        },
        {
          "output_type": "stream",
          "name": "stderr",
          "text": [
            "100%|██████████| 51/51 [00:00<00:00, 73.50it/s]\n"
          ]
        },
        {
          "output_type": "stream",
          "name": "stdout",
          "text": [
            "Epoch: 121/200 | Epoch Time: 0m 0s\n",
            "\tTrain Loss: 0.537 | Train Acc: 77.14%\n",
            "\t Val. Loss: 1.817 |  Val. Acc: 51.82%\n"
          ]
        },
        {
          "output_type": "stream",
          "name": "stderr",
          "text": [
            "100%|██████████| 51/51 [00:00<00:00, 73.32it/s]\n"
          ]
        },
        {
          "output_type": "stream",
          "name": "stdout",
          "text": [
            "Epoch: 122/200 | Epoch Time: 0m 0s\n",
            "\tTrain Loss: 0.526 | Train Acc: 77.57%\n",
            "\t Val. Loss: 1.817 |  Val. Acc: 50.52%\n"
          ]
        },
        {
          "output_type": "stream",
          "name": "stderr",
          "text": [
            "100%|██████████| 51/51 [00:00<00:00, 72.39it/s]\n"
          ]
        },
        {
          "output_type": "stream",
          "name": "stdout",
          "text": [
            "Epoch: 123/200 | Epoch Time: 0m 0s\n",
            "\tTrain Loss: 0.520 | Train Acc: 77.70%\n",
            "\t Val. Loss: 1.731 |  Val. Acc: 53.39%\n"
          ]
        },
        {
          "output_type": "stream",
          "name": "stderr",
          "text": [
            "100%|██████████| 51/51 [00:00<00:00, 70.42it/s]\n"
          ]
        },
        {
          "output_type": "stream",
          "name": "stdout",
          "text": [
            "Epoch: 124/200 | Epoch Time: 0m 0s\n",
            "\tTrain Loss: 0.525 | Train Acc: 77.70%\n",
            "\t Val. Loss: 1.790 |  Val. Acc: 52.99%\n"
          ]
        },
        {
          "output_type": "stream",
          "name": "stderr",
          "text": [
            "100%|██████████| 51/51 [00:00<00:00, 54.50it/s]\n"
          ]
        },
        {
          "output_type": "stream",
          "name": "stdout",
          "text": [
            "Epoch: 125/200 | Epoch Time: 0m 0s\n",
            "\tTrain Loss: 0.514 | Train Acc: 77.76%\n",
            "\t Val. Loss: 1.809 |  Val. Acc: 49.74%\n"
          ]
        },
        {
          "output_type": "stream",
          "name": "stderr",
          "text": [
            "100%|██████████| 51/51 [00:00<00:00, 72.14it/s]\n"
          ]
        },
        {
          "output_type": "stream",
          "name": "stdout",
          "text": [
            "Epoch: 126/200 | Epoch Time: 0m 0s\n",
            "\tTrain Loss: 0.509 | Train Acc: 78.49%\n",
            "\t Val. Loss: 1.777 |  Val. Acc: 53.39%\n"
          ]
        },
        {
          "output_type": "stream",
          "name": "stderr",
          "text": [
            "100%|██████████| 51/51 [00:00<00:00, 73.65it/s]\n"
          ]
        },
        {
          "output_type": "stream",
          "name": "stdout",
          "text": [
            "Epoch: 127/200 | Epoch Time: 0m 0s\n",
            "\tTrain Loss: 0.511 | Train Acc: 77.88%\n",
            "\t Val. Loss: 1.839 |  Val. Acc: 51.69%\n"
          ]
        },
        {
          "output_type": "stream",
          "name": "stderr",
          "text": [
            "100%|██████████| 51/51 [00:00<00:00, 72.92it/s]\n"
          ]
        },
        {
          "output_type": "stream",
          "name": "stdout",
          "text": [
            "Epoch: 128/200 | Epoch Time: 0m 0s\n",
            "\tTrain Loss: 0.502 | Train Acc: 78.43%\n",
            "\t Val. Loss: 1.793 |  Val. Acc: 53.39%\n"
          ]
        },
        {
          "output_type": "stream",
          "name": "stderr",
          "text": [
            "100%|██████████| 51/51 [00:00<00:00, 73.43it/s]\n"
          ]
        },
        {
          "output_type": "stream",
          "name": "stdout",
          "text": [
            "Epoch: 129/200 | Epoch Time: 0m 0s\n",
            "\tTrain Loss: 0.495 | Train Acc: 77.82%\n",
            "\t Val. Loss: 1.864 |  Val. Acc: 51.30%\n"
          ]
        },
        {
          "output_type": "stream",
          "name": "stderr",
          "text": [
            "100%|██████████| 51/51 [00:00<00:00, 74.18it/s]\n"
          ]
        },
        {
          "output_type": "stream",
          "name": "stdout",
          "text": [
            "Epoch: 130/200 | Epoch Time: 0m 0s\n",
            "\tTrain Loss: 0.499 | Train Acc: 79.04%\n",
            "\t Val. Loss: 1.809 |  Val. Acc: 50.91%\n"
          ]
        },
        {
          "output_type": "stream",
          "name": "stderr",
          "text": [
            "100%|██████████| 51/51 [00:00<00:00, 73.59it/s]\n"
          ]
        },
        {
          "output_type": "stream",
          "name": "stdout",
          "text": [
            "Epoch: 131/200 | Epoch Time: 0m 0s\n",
            "\tTrain Loss: 0.511 | Train Acc: 77.51%\n",
            "\t Val. Loss: 1.942 |  Val. Acc: 48.57%\n"
          ]
        },
        {
          "output_type": "stream",
          "name": "stderr",
          "text": [
            "100%|██████████| 51/51 [00:00<00:00, 73.01it/s]\n"
          ]
        },
        {
          "output_type": "stream",
          "name": "stdout",
          "text": [
            "Epoch: 132/200 | Epoch Time: 0m 0s\n",
            "\tTrain Loss: 0.525 | Train Acc: 76.96%\n",
            "\t Val. Loss: 1.857 |  Val. Acc: 54.17%\n"
          ]
        },
        {
          "output_type": "stream",
          "name": "stderr",
          "text": [
            "100%|██████████| 51/51 [00:00<00:00, 72.49it/s]\n"
          ]
        },
        {
          "output_type": "stream",
          "name": "stdout",
          "text": [
            "Epoch: 133/200 | Epoch Time: 0m 0s\n",
            "\tTrain Loss: 0.498 | Train Acc: 79.29%\n",
            "\t Val. Loss: 1.807 |  Val. Acc: 53.78%\n"
          ]
        },
        {
          "output_type": "stream",
          "name": "stderr",
          "text": [
            "100%|██████████| 51/51 [00:00<00:00, 71.55it/s]\n"
          ]
        },
        {
          "output_type": "stream",
          "name": "stdout",
          "text": [
            "Epoch: 134/200 | Epoch Time: 0m 0s\n",
            "\tTrain Loss: 0.490 | Train Acc: 79.11%\n",
            "\t Val. Loss: 1.805 |  Val. Acc: 52.60%\n"
          ]
        },
        {
          "output_type": "stream",
          "name": "stderr",
          "text": [
            "100%|██████████| 51/51 [00:00<00:00, 70.99it/s]\n"
          ]
        },
        {
          "output_type": "stream",
          "name": "stdout",
          "text": [
            "Epoch: 135/200 | Epoch Time: 0m 0s\n",
            "\tTrain Loss: 0.478 | Train Acc: 79.84%\n",
            "\t Val. Loss: 1.869 |  Val. Acc: 50.91%\n"
          ]
        },
        {
          "output_type": "stream",
          "name": "stderr",
          "text": [
            "100%|██████████| 51/51 [00:00<00:00, 61.64it/s]\n"
          ]
        },
        {
          "output_type": "stream",
          "name": "stdout",
          "text": [
            "Epoch: 136/200 | Epoch Time: 0m 0s\n",
            "\tTrain Loss: 0.476 | Train Acc: 79.04%\n",
            "\t Val. Loss: 1.858 |  Val. Acc: 52.99%\n"
          ]
        },
        {
          "output_type": "stream",
          "name": "stderr",
          "text": [
            "100%|██████████| 51/51 [00:00<00:00, 59.83it/s]\n"
          ]
        },
        {
          "output_type": "stream",
          "name": "stdout",
          "text": [
            "Epoch: 137/200 | Epoch Time: 0m 0s\n",
            "\tTrain Loss: 0.465 | Train Acc: 79.11%\n",
            "\t Val. Loss: 1.884 |  Val. Acc: 52.47%\n"
          ]
        },
        {
          "output_type": "stream",
          "name": "stderr",
          "text": [
            "100%|██████████| 51/51 [00:01<00:00, 49.09it/s]\n"
          ]
        },
        {
          "output_type": "stream",
          "name": "stdout",
          "text": [
            "Epoch: 138/200 | Epoch Time: 0m 1s\n",
            "\tTrain Loss: 0.474 | Train Acc: 79.84%\n",
            "\t Val. Loss: 1.881 |  Val. Acc: 53.26%\n"
          ]
        },
        {
          "output_type": "stream",
          "name": "stderr",
          "text": [
            "100%|██████████| 51/51 [00:00<00:00, 73.06it/s]\n"
          ]
        },
        {
          "output_type": "stream",
          "name": "stdout",
          "text": [
            "Epoch: 139/200 | Epoch Time: 0m 0s\n",
            "\tTrain Loss: 0.463 | Train Acc: 79.96%\n",
            "\t Val. Loss: 1.899 |  Val. Acc: 53.26%\n"
          ]
        },
        {
          "output_type": "stream",
          "name": "stderr",
          "text": [
            "100%|██████████| 51/51 [00:00<00:00, 72.92it/s]\n"
          ]
        },
        {
          "output_type": "stream",
          "name": "stdout",
          "text": [
            "Epoch: 140/200 | Epoch Time: 0m 0s\n",
            "\tTrain Loss: 0.452 | Train Acc: 80.51%\n",
            "\t Val. Loss: 1.904 |  Val. Acc: 53.26%\n"
          ]
        },
        {
          "output_type": "stream",
          "name": "stderr",
          "text": [
            "100%|██████████| 51/51 [00:00<00:00, 72.36it/s]\n"
          ]
        },
        {
          "output_type": "stream",
          "name": "stdout",
          "text": [
            "Epoch: 141/200 | Epoch Time: 0m 0s\n",
            "\tTrain Loss: 0.457 | Train Acc: 80.02%\n",
            "\t Val. Loss: 1.941 |  Val. Acc: 53.78%\n"
          ]
        },
        {
          "output_type": "stream",
          "name": "stderr",
          "text": [
            "100%|██████████| 51/51 [00:00<00:00, 72.90it/s]\n"
          ]
        },
        {
          "output_type": "stream",
          "name": "stdout",
          "text": [
            "Epoch: 142/200 | Epoch Time: 0m 0s\n",
            "\tTrain Loss: 0.450 | Train Acc: 80.82%\n",
            "\t Val. Loss: 1.913 |  Val. Acc: 52.86%\n"
          ]
        },
        {
          "output_type": "stream",
          "name": "stderr",
          "text": [
            "100%|██████████| 51/51 [00:00<00:00, 72.86it/s]\n"
          ]
        },
        {
          "output_type": "stream",
          "name": "stdout",
          "text": [
            "Epoch: 143/200 | Epoch Time: 0m 0s\n",
            "\tTrain Loss: 0.446 | Train Acc: 81.07%\n",
            "\t Val. Loss: 1.917 |  Val. Acc: 56.12%\n"
          ]
        },
        {
          "output_type": "stream",
          "name": "stderr",
          "text": [
            "100%|██████████| 51/51 [00:00<00:00, 72.52it/s]\n"
          ]
        },
        {
          "output_type": "stream",
          "name": "stdout",
          "text": [
            "Epoch: 144/200 | Epoch Time: 0m 0s\n",
            "\tTrain Loss: 0.448 | Train Acc: 80.70%\n",
            "\t Val. Loss: 1.923 |  Val. Acc: 53.26%\n"
          ]
        },
        {
          "output_type": "stream",
          "name": "stderr",
          "text": [
            "100%|██████████| 51/51 [00:00<00:00, 73.19it/s]\n"
          ]
        },
        {
          "output_type": "stream",
          "name": "stdout",
          "text": [
            "Epoch: 145/200 | Epoch Time: 0m 0s\n",
            "\tTrain Loss: 0.436 | Train Acc: 81.37%\n",
            "\t Val. Loss: 1.922 |  Val. Acc: 54.95%\n"
          ]
        },
        {
          "output_type": "stream",
          "name": "stderr",
          "text": [
            "100%|██████████| 51/51 [00:00<00:00, 71.89it/s]\n"
          ]
        },
        {
          "output_type": "stream",
          "name": "stdout",
          "text": [
            "Epoch: 146/200 | Epoch Time: 0m 0s\n",
            "\tTrain Loss: 0.435 | Train Acc: 81.80%\n",
            "\t Val. Loss: 1.924 |  Val. Acc: 52.08%\n"
          ]
        },
        {
          "output_type": "stream",
          "name": "stderr",
          "text": [
            "100%|██████████| 51/51 [00:00<00:00, 73.15it/s]\n"
          ]
        },
        {
          "output_type": "stream",
          "name": "stdout",
          "text": [
            "Epoch: 147/200 | Epoch Time: 0m 0s\n",
            "\tTrain Loss: 0.440 | Train Acc: 81.37%\n",
            "\t Val. Loss: 1.994 |  Val. Acc: 54.17%\n"
          ]
        },
        {
          "output_type": "stream",
          "name": "stderr",
          "text": [
            "100%|██████████| 51/51 [00:00<00:00, 71.75it/s]\n"
          ]
        },
        {
          "output_type": "stream",
          "name": "stdout",
          "text": [
            "Epoch: 148/200 | Epoch Time: 0m 0s\n",
            "\tTrain Loss: 0.425 | Train Acc: 81.56%\n",
            "\t Val. Loss: 1.987 |  Val. Acc: 51.69%\n"
          ]
        },
        {
          "output_type": "stream",
          "name": "stderr",
          "text": [
            "100%|██████████| 51/51 [00:00<00:00, 68.79it/s]\n"
          ]
        },
        {
          "output_type": "stream",
          "name": "stdout",
          "text": [
            "Epoch: 149/200 | Epoch Time: 0m 0s\n",
            "\tTrain Loss: 0.428 | Train Acc: 81.19%\n",
            "\t Val. Loss: 1.970 |  Val. Acc: 54.56%\n"
          ]
        },
        {
          "output_type": "stream",
          "name": "stderr",
          "text": [
            "100%|██████████| 51/51 [00:00<00:00, 70.19it/s]\n"
          ]
        },
        {
          "output_type": "stream",
          "name": "stdout",
          "text": [
            "Epoch: 150/200 | Epoch Time: 0m 0s\n",
            "\tTrain Loss: 0.496 | Train Acc: 78.25%\n",
            "\t Val. Loss: 1.993 |  Val. Acc: 52.99%\n"
          ]
        },
        {
          "output_type": "stream",
          "name": "stderr",
          "text": [
            "100%|██████████| 51/51 [00:00<00:00, 68.16it/s]\n"
          ]
        },
        {
          "output_type": "stream",
          "name": "stdout",
          "text": [
            "Epoch: 151/200 | Epoch Time: 0m 0s\n",
            "\tTrain Loss: 0.438 | Train Acc: 81.80%\n",
            "\t Val. Loss: 1.903 |  Val. Acc: 52.08%\n"
          ]
        },
        {
          "output_type": "stream",
          "name": "stderr",
          "text": [
            "100%|██████████| 51/51 [00:00<00:00, 72.51it/s]\n"
          ]
        },
        {
          "output_type": "stream",
          "name": "stdout",
          "text": [
            "Epoch: 152/200 | Epoch Time: 0m 0s\n",
            "\tTrain Loss: 0.423 | Train Acc: 81.68%\n",
            "\t Val. Loss: 1.974 |  Val. Acc: 52.99%\n"
          ]
        },
        {
          "output_type": "stream",
          "name": "stderr",
          "text": [
            "100%|██████████| 51/51 [00:00<00:00, 72.78it/s]\n"
          ]
        },
        {
          "output_type": "stream",
          "name": "stdout",
          "text": [
            "Epoch: 153/200 | Epoch Time: 0m 0s\n",
            "\tTrain Loss: 0.420 | Train Acc: 81.62%\n",
            "\t Val. Loss: 1.962 |  Val. Acc: 53.78%\n"
          ]
        },
        {
          "output_type": "stream",
          "name": "stderr",
          "text": [
            "100%|██████████| 51/51 [00:00<00:00, 72.11it/s]\n"
          ]
        },
        {
          "output_type": "stream",
          "name": "stdout",
          "text": [
            "Epoch: 154/200 | Epoch Time: 0m 0s\n",
            "\tTrain Loss: 0.411 | Train Acc: 82.23%\n",
            "\t Val. Loss: 1.979 |  Val. Acc: 54.17%\n"
          ]
        },
        {
          "output_type": "stream",
          "name": "stderr",
          "text": [
            "100%|██████████| 51/51 [00:00<00:00, 72.90it/s]\n"
          ]
        },
        {
          "output_type": "stream",
          "name": "stdout",
          "text": [
            "Epoch: 155/200 | Epoch Time: 0m 0s\n",
            "\tTrain Loss: 0.407 | Train Acc: 82.41%\n",
            "\t Val. Loss: 1.992 |  Val. Acc: 51.69%\n"
          ]
        },
        {
          "output_type": "stream",
          "name": "stderr",
          "text": [
            "100%|██████████| 51/51 [00:00<00:00, 72.48it/s]\n"
          ]
        },
        {
          "output_type": "stream",
          "name": "stdout",
          "text": [
            "Epoch: 156/200 | Epoch Time: 0m 0s\n",
            "\tTrain Loss: 0.408 | Train Acc: 82.72%\n",
            "\t Val. Loss: 1.996 |  Val. Acc: 50.91%\n"
          ]
        },
        {
          "output_type": "stream",
          "name": "stderr",
          "text": [
            "100%|██████████| 51/51 [00:00<00:00, 72.59it/s]\n"
          ]
        },
        {
          "output_type": "stream",
          "name": "stdout",
          "text": [
            "Epoch: 157/200 | Epoch Time: 0m 0s\n",
            "\tTrain Loss: 0.398 | Train Acc: 82.78%\n",
            "\t Val. Loss: 2.018 |  Val. Acc: 51.69%\n"
          ]
        },
        {
          "output_type": "stream",
          "name": "stderr",
          "text": [
            "100%|██████████| 51/51 [00:00<00:00, 72.47it/s]\n"
          ]
        },
        {
          "output_type": "stream",
          "name": "stdout",
          "text": [
            "Epoch: 158/200 | Epoch Time: 0m 0s\n",
            "\tTrain Loss: 0.395 | Train Acc: 82.48%\n",
            "\t Val. Loss: 2.015 |  Val. Acc: 50.52%\n"
          ]
        },
        {
          "output_type": "stream",
          "name": "stderr",
          "text": [
            "100%|██████████| 51/51 [00:00<00:00, 71.28it/s]\n"
          ]
        },
        {
          "output_type": "stream",
          "name": "stdout",
          "text": [
            "Epoch: 159/200 | Epoch Time: 0m 0s\n",
            "\tTrain Loss: 0.393 | Train Acc: 82.90%\n",
            "\t Val. Loss: 2.017 |  Val. Acc: 51.30%\n"
          ]
        },
        {
          "output_type": "stream",
          "name": "stderr",
          "text": [
            "100%|██████████| 51/51 [00:00<00:00, 72.62it/s]\n"
          ]
        },
        {
          "output_type": "stream",
          "name": "stdout",
          "text": [
            "Epoch: 160/200 | Epoch Time: 0m 0s\n",
            "\tTrain Loss: 0.383 | Train Acc: 83.58%\n",
            "\t Val. Loss: 2.002 |  Val. Acc: 53.39%\n"
          ]
        },
        {
          "output_type": "stream",
          "name": "stderr",
          "text": [
            "100%|██████████| 51/51 [00:00<00:00, 72.44it/s]\n"
          ]
        },
        {
          "output_type": "stream",
          "name": "stdout",
          "text": [
            "Epoch: 161/200 | Epoch Time: 0m 0s\n",
            "\tTrain Loss: 0.388 | Train Acc: 82.90%\n",
            "\t Val. Loss: 2.050 |  Val. Acc: 52.60%\n"
          ]
        },
        {
          "output_type": "stream",
          "name": "stderr",
          "text": [
            "100%|██████████| 51/51 [00:00<00:00, 72.02it/s]\n"
          ]
        },
        {
          "output_type": "stream",
          "name": "stdout",
          "text": [
            "Epoch: 162/200 | Epoch Time: 0m 0s\n",
            "\tTrain Loss: 0.382 | Train Acc: 84.50%\n",
            "\t Val. Loss: 2.017 |  Val. Acc: 54.69%\n"
          ]
        },
        {
          "output_type": "stream",
          "name": "stderr",
          "text": [
            "100%|██████████| 51/51 [00:00<00:00, 72.40it/s]\n"
          ]
        },
        {
          "output_type": "stream",
          "name": "stdout",
          "text": [
            "Epoch: 163/200 | Epoch Time: 0m 0s\n",
            "\tTrain Loss: 0.382 | Train Acc: 83.76%\n",
            "\t Val. Loss: 2.026 |  Val. Acc: 51.82%\n"
          ]
        },
        {
          "output_type": "stream",
          "name": "stderr",
          "text": [
            "100%|██████████| 51/51 [00:00<00:00, 72.24it/s]\n"
          ]
        },
        {
          "output_type": "stream",
          "name": "stdout",
          "text": [
            "Epoch: 164/200 | Epoch Time: 0m 0s\n",
            "\tTrain Loss: 0.403 | Train Acc: 82.54%\n",
            "\t Val. Loss: 2.016 |  Val. Acc: 54.56%\n"
          ]
        },
        {
          "output_type": "stream",
          "name": "stderr",
          "text": [
            "100%|██████████| 51/51 [00:00<00:00, 70.14it/s]\n"
          ]
        },
        {
          "output_type": "stream",
          "name": "stdout",
          "text": [
            "Epoch: 165/200 | Epoch Time: 0m 0s\n",
            "\tTrain Loss: 0.382 | Train Acc: 83.82%\n",
            "\t Val. Loss: 2.006 |  Val. Acc: 50.52%\n"
          ]
        },
        {
          "output_type": "stream",
          "name": "stderr",
          "text": [
            "100%|██████████| 51/51 [00:00<00:00, 69.67it/s]\n"
          ]
        },
        {
          "output_type": "stream",
          "name": "stdout",
          "text": [
            "Epoch: 166/200 | Epoch Time: 0m 0s\n",
            "\tTrain Loss: 0.369 | Train Acc: 84.13%\n",
            "\t Val. Loss: 2.023 |  Val. Acc: 48.96%\n"
          ]
        },
        {
          "output_type": "stream",
          "name": "stderr",
          "text": [
            "100%|██████████| 51/51 [00:00<00:00, 67.70it/s]\n"
          ]
        },
        {
          "output_type": "stream",
          "name": "stdout",
          "text": [
            "Epoch: 167/200 | Epoch Time: 0m 0s\n",
            "\tTrain Loss: 0.374 | Train Acc: 84.07%\n",
            "\t Val. Loss: 2.039 |  Val. Acc: 51.43%\n"
          ]
        },
        {
          "output_type": "stream",
          "name": "stderr",
          "text": [
            "100%|██████████| 51/51 [00:00<00:00, 72.31it/s]\n"
          ]
        },
        {
          "output_type": "stream",
          "name": "stdout",
          "text": [
            "Epoch: 168/200 | Epoch Time: 0m 0s\n",
            "\tTrain Loss: 0.366 | Train Acc: 84.13%\n",
            "\t Val. Loss: 2.030 |  Val. Acc: 52.21%\n"
          ]
        },
        {
          "output_type": "stream",
          "name": "stderr",
          "text": [
            "100%|██████████| 51/51 [00:00<00:00, 71.14it/s]\n"
          ]
        },
        {
          "output_type": "stream",
          "name": "stdout",
          "text": [
            "Epoch: 169/200 | Epoch Time: 0m 0s\n",
            "\tTrain Loss: 0.369 | Train Acc: 84.07%\n",
            "\t Val. Loss: 2.058 |  Val. Acc: 54.30%\n"
          ]
        },
        {
          "output_type": "stream",
          "name": "stderr",
          "text": [
            "100%|██████████| 51/51 [00:00<00:00, 71.86it/s]\n"
          ]
        },
        {
          "output_type": "stream",
          "name": "stdout",
          "text": [
            "Epoch: 170/200 | Epoch Time: 0m 0s\n",
            "\tTrain Loss: 0.358 | Train Acc: 84.80%\n",
            "\t Val. Loss: 2.067 |  Val. Acc: 51.43%\n"
          ]
        },
        {
          "output_type": "stream",
          "name": "stderr",
          "text": [
            "100%|██████████| 51/51 [00:00<00:00, 72.11it/s]\n"
          ]
        },
        {
          "output_type": "stream",
          "name": "stdout",
          "text": [
            "Epoch: 171/200 | Epoch Time: 0m 0s\n",
            "\tTrain Loss: 0.356 | Train Acc: 84.74%\n",
            "\t Val. Loss: 2.085 |  Val. Acc: 48.96%\n"
          ]
        },
        {
          "output_type": "stream",
          "name": "stderr",
          "text": [
            "100%|██████████| 51/51 [00:00<00:00, 72.24it/s]\n"
          ]
        },
        {
          "output_type": "stream",
          "name": "stdout",
          "text": [
            "Epoch: 172/200 | Epoch Time: 0m 0s\n",
            "\tTrain Loss: 0.358 | Train Acc: 84.87%\n",
            "\t Val. Loss: 2.076 |  Val. Acc: 51.04%\n"
          ]
        },
        {
          "output_type": "stream",
          "name": "stderr",
          "text": [
            "100%|██████████| 51/51 [00:00<00:00, 72.22it/s]\n"
          ]
        },
        {
          "output_type": "stream",
          "name": "stdout",
          "text": [
            "Epoch: 173/200 | Epoch Time: 0m 0s\n",
            "\tTrain Loss: 0.354 | Train Acc: 85.05%\n",
            "\t Val. Loss: 2.117 |  Val. Acc: 48.96%\n"
          ]
        },
        {
          "output_type": "stream",
          "name": "stderr",
          "text": [
            "100%|██████████| 51/51 [00:00<00:00, 72.09it/s]\n"
          ]
        },
        {
          "output_type": "stream",
          "name": "stdout",
          "text": [
            "Epoch: 174/200 | Epoch Time: 0m 0s\n",
            "\tTrain Loss: 0.351 | Train Acc: 84.56%\n",
            "\t Val. Loss: 2.083 |  Val. Acc: 50.65%\n"
          ]
        },
        {
          "output_type": "stream",
          "name": "stderr",
          "text": [
            "100%|██████████| 51/51 [00:00<00:00, 71.80it/s]\n"
          ]
        },
        {
          "output_type": "stream",
          "name": "stdout",
          "text": [
            "Epoch: 175/200 | Epoch Time: 0m 0s\n",
            "\tTrain Loss: 0.349 | Train Acc: 84.93%\n",
            "\t Val. Loss: 2.109 |  Val. Acc: 48.18%\n"
          ]
        },
        {
          "output_type": "stream",
          "name": "stderr",
          "text": [
            "100%|██████████| 51/51 [00:00<00:00, 72.28it/s]\n"
          ]
        },
        {
          "output_type": "stream",
          "name": "stdout",
          "text": [
            "Epoch: 176/200 | Epoch Time: 0m 0s\n",
            "\tTrain Loss: 0.342 | Train Acc: 85.17%\n",
            "\t Val. Loss: 2.173 |  Val. Acc: 48.57%\n"
          ]
        },
        {
          "output_type": "stream",
          "name": "stderr",
          "text": [
            "100%|██████████| 51/51 [00:00<00:00, 71.98it/s]\n"
          ]
        },
        {
          "output_type": "stream",
          "name": "stdout",
          "text": [
            "Epoch: 177/200 | Epoch Time: 0m 0s\n",
            "\tTrain Loss: 0.344 | Train Acc: 84.80%\n",
            "\t Val. Loss: 2.101 |  Val. Acc: 48.96%\n"
          ]
        },
        {
          "output_type": "stream",
          "name": "stderr",
          "text": [
            "100%|██████████| 51/51 [00:00<00:00, 72.15it/s]\n"
          ]
        },
        {
          "output_type": "stream",
          "name": "stdout",
          "text": [
            "Epoch: 178/200 | Epoch Time: 0m 0s\n",
            "\tTrain Loss: 0.338 | Train Acc: 85.91%\n",
            "\t Val. Loss: 2.125 |  Val. Acc: 50.65%\n"
          ]
        },
        {
          "output_type": "stream",
          "name": "stderr",
          "text": [
            "100%|██████████| 51/51 [00:00<00:00, 72.41it/s]\n"
          ]
        },
        {
          "output_type": "stream",
          "name": "stdout",
          "text": [
            "Epoch: 179/200 | Epoch Time: 0m 0s\n",
            "\tTrain Loss: 0.335 | Train Acc: 85.36%\n",
            "\t Val. Loss: 2.092 |  Val. Acc: 48.96%\n"
          ]
        },
        {
          "output_type": "stream",
          "name": "stderr",
          "text": [
            "100%|██████████| 51/51 [00:00<00:00, 71.92it/s]\n"
          ]
        },
        {
          "output_type": "stream",
          "name": "stdout",
          "text": [
            "Epoch: 180/200 | Epoch Time: 0m 0s\n",
            "\tTrain Loss: 0.334 | Train Acc: 86.03%\n",
            "\t Val. Loss: 2.131 |  Val. Acc: 51.82%\n"
          ]
        },
        {
          "output_type": "stream",
          "name": "stderr",
          "text": [
            "100%|██████████| 51/51 [00:00<00:00, 68.84it/s]\n"
          ]
        },
        {
          "output_type": "stream",
          "name": "stdout",
          "text": [
            "Epoch: 181/200 | Epoch Time: 0m 0s\n",
            "\tTrain Loss: 0.351 | Train Acc: 84.56%\n",
            "\t Val. Loss: 2.160 |  Val. Acc: 51.82%\n"
          ]
        },
        {
          "output_type": "stream",
          "name": "stderr",
          "text": [
            "100%|██████████| 51/51 [00:00<00:00, 68.87it/s]\n"
          ]
        },
        {
          "output_type": "stream",
          "name": "stdout",
          "text": [
            "Epoch: 182/200 | Epoch Time: 0m 0s\n",
            "\tTrain Loss: 0.398 | Train Acc: 82.51%\n",
            "\t Val. Loss: 2.088 |  Val. Acc: 48.57%\n"
          ]
        },
        {
          "output_type": "stream",
          "name": "stderr",
          "text": [
            "100%|██████████| 51/51 [00:00<00:00, 69.10it/s]\n"
          ]
        },
        {
          "output_type": "stream",
          "name": "stdout",
          "text": [
            "Epoch: 183/200 | Epoch Time: 0m 0s\n",
            "\tTrain Loss: 0.335 | Train Acc: 85.97%\n",
            "\t Val. Loss: 2.095 |  Val. Acc: 49.74%\n"
          ]
        },
        {
          "output_type": "stream",
          "name": "stderr",
          "text": [
            "100%|██████████| 51/51 [00:00<00:00, 72.65it/s]\n"
          ]
        },
        {
          "output_type": "stream",
          "name": "stdout",
          "text": [
            "Epoch: 184/200 | Epoch Time: 0m 0s\n",
            "\tTrain Loss: 0.330 | Train Acc: 85.91%\n",
            "\t Val. Loss: 2.045 |  Val. Acc: 49.35%\n"
          ]
        },
        {
          "output_type": "stream",
          "name": "stderr",
          "text": [
            "100%|██████████| 51/51 [00:00<00:00, 72.41it/s]\n"
          ]
        },
        {
          "output_type": "stream",
          "name": "stdout",
          "text": [
            "Epoch: 185/200 | Epoch Time: 0m 0s\n",
            "\tTrain Loss: 0.322 | Train Acc: 86.21%\n",
            "\t Val. Loss: 2.085 |  Val. Acc: 47.40%\n"
          ]
        },
        {
          "output_type": "stream",
          "name": "stderr",
          "text": [
            "100%|██████████| 51/51 [00:00<00:00, 71.58it/s]\n"
          ]
        },
        {
          "output_type": "stream",
          "name": "stdout",
          "text": [
            "Epoch: 186/200 | Epoch Time: 0m 0s\n",
            "\tTrain Loss: 0.320 | Train Acc: 86.46%\n",
            "\t Val. Loss: 2.116 |  Val. Acc: 50.13%\n"
          ]
        },
        {
          "output_type": "stream",
          "name": "stderr",
          "text": [
            "100%|██████████| 51/51 [00:00<00:00, 72.09it/s]\n"
          ]
        },
        {
          "output_type": "stream",
          "name": "stdout",
          "text": [
            "Epoch: 187/200 | Epoch Time: 0m 0s\n",
            "\tTrain Loss: 0.314 | Train Acc: 86.70%\n",
            "\t Val. Loss: 2.109 |  Val. Acc: 48.57%\n"
          ]
        },
        {
          "output_type": "stream",
          "name": "stderr",
          "text": [
            "100%|██████████| 51/51 [00:00<00:00, 71.98it/s]\n"
          ]
        },
        {
          "output_type": "stream",
          "name": "stdout",
          "text": [
            "Epoch: 188/200 | Epoch Time: 0m 0s\n",
            "\tTrain Loss: 0.314 | Train Acc: 86.52%\n",
            "\t Val. Loss: 2.146 |  Val. Acc: 49.74%\n"
          ]
        },
        {
          "output_type": "stream",
          "name": "stderr",
          "text": [
            "100%|██████████| 51/51 [00:00<00:00, 71.74it/s]\n"
          ]
        },
        {
          "output_type": "stream",
          "name": "stdout",
          "text": [
            "Epoch: 189/200 | Epoch Time: 0m 0s\n",
            "\tTrain Loss: 0.314 | Train Acc: 86.64%\n",
            "\t Val. Loss: 2.127 |  Val. Acc: 51.04%\n"
          ]
        },
        {
          "output_type": "stream",
          "name": "stderr",
          "text": [
            "100%|██████████| 51/51 [00:00<00:00, 72.40it/s]\n"
          ]
        },
        {
          "output_type": "stream",
          "name": "stdout",
          "text": [
            "Epoch: 190/200 | Epoch Time: 0m 0s\n",
            "\tTrain Loss: 0.305 | Train Acc: 87.19%\n",
            "\t Val. Loss: 2.115 |  Val. Acc: 52.99%\n"
          ]
        },
        {
          "output_type": "stream",
          "name": "stderr",
          "text": [
            "100%|██████████| 51/51 [00:00<00:00, 71.98it/s]\n"
          ]
        },
        {
          "output_type": "stream",
          "name": "stdout",
          "text": [
            "Epoch: 191/200 | Epoch Time: 0m 0s\n",
            "\tTrain Loss: 0.305 | Train Acc: 87.07%\n",
            "\t Val. Loss: 2.220 |  Val. Acc: 50.52%\n"
          ]
        },
        {
          "output_type": "stream",
          "name": "stderr",
          "text": [
            "100%|██████████| 51/51 [00:00<00:00, 72.83it/s]\n"
          ]
        },
        {
          "output_type": "stream",
          "name": "stdout",
          "text": [
            "Epoch: 192/200 | Epoch Time: 0m 0s\n",
            "\tTrain Loss: 0.301 | Train Acc: 87.01%\n",
            "\t Val. Loss: 2.185 |  Val. Acc: 50.13%\n"
          ]
        },
        {
          "output_type": "stream",
          "name": "stderr",
          "text": [
            "100%|██████████| 51/51 [00:00<00:00, 72.69it/s]\n"
          ]
        },
        {
          "output_type": "stream",
          "name": "stdout",
          "text": [
            "Epoch: 193/200 | Epoch Time: 0m 0s\n",
            "\tTrain Loss: 0.304 | Train Acc: 87.32%\n",
            "\t Val. Loss: 2.129 |  Val. Acc: 50.91%\n"
          ]
        },
        {
          "output_type": "stream",
          "name": "stderr",
          "text": [
            "100%|██████████| 51/51 [00:00<00:00, 73.44it/s]\n"
          ]
        },
        {
          "output_type": "stream",
          "name": "stdout",
          "text": [
            "Epoch: 194/200 | Epoch Time: 0m 0s\n",
            "\tTrain Loss: 0.302 | Train Acc: 87.75%\n",
            "\t Val. Loss: 2.209 |  Val. Acc: 50.13%\n"
          ]
        },
        {
          "output_type": "stream",
          "name": "stderr",
          "text": [
            "100%|██████████| 51/51 [00:00<00:00, 73.11it/s]\n"
          ]
        },
        {
          "output_type": "stream",
          "name": "stdout",
          "text": [
            "Epoch: 195/200 | Epoch Time: 0m 0s\n",
            "\tTrain Loss: 0.296 | Train Acc: 86.76%\n",
            "\t Val. Loss: 2.176 |  Val. Acc: 51.69%\n"
          ]
        },
        {
          "output_type": "stream",
          "name": "stderr",
          "text": [
            "100%|██████████| 51/51 [00:00<00:00, 72.56it/s]\n"
          ]
        },
        {
          "output_type": "stream",
          "name": "stdout",
          "text": [
            "Epoch: 196/200 | Epoch Time: 0m 0s\n",
            "\tTrain Loss: 0.298 | Train Acc: 86.89%\n",
            "\t Val. Loss: 2.258 |  Val. Acc: 51.30%\n"
          ]
        },
        {
          "output_type": "stream",
          "name": "stderr",
          "text": [
            "100%|██████████| 51/51 [00:00<00:00, 70.60it/s]\n"
          ]
        },
        {
          "output_type": "stream",
          "name": "stdout",
          "text": [
            "Epoch: 197/200 | Epoch Time: 0m 0s\n",
            "\tTrain Loss: 0.298 | Train Acc: 87.56%\n",
            "\t Val. Loss: 2.243 |  Val. Acc: 51.30%\n"
          ]
        },
        {
          "output_type": "stream",
          "name": "stderr",
          "text": [
            "100%|██████████| 51/51 [00:00<00:00, 70.29it/s]\n"
          ]
        },
        {
          "output_type": "stream",
          "name": "stdout",
          "text": [
            "Epoch: 198/200 | Epoch Time: 0m 0s\n",
            "\tTrain Loss: 0.292 | Train Acc: 87.87%\n",
            "\t Val. Loss: 2.189 |  Val. Acc: 51.69%\n"
          ]
        },
        {
          "output_type": "stream",
          "name": "stderr",
          "text": [
            "100%|██████████| 51/51 [00:00<00:00, 69.46it/s]\n"
          ]
        },
        {
          "output_type": "stream",
          "name": "stdout",
          "text": [
            "Epoch: 199/200 | Epoch Time: 0m 0s\n",
            "\tTrain Loss: 0.290 | Train Acc: 87.81%\n",
            "\t Val. Loss: 2.282 |  Val. Acc: 51.30%\n"
          ]
        },
        {
          "output_type": "stream",
          "name": "stderr",
          "text": [
            "100%|██████████| 51/51 [00:00<00:00, 72.71it/s]\n"
          ]
        },
        {
          "output_type": "stream",
          "name": "stdout",
          "text": [
            "Epoch: 200/200 | Epoch Time: 0m 0s\n",
            "\tTrain Loss: 0.280 | Train Acc: 88.24%\n",
            "\t Val. Loss: 2.286 |  Val. Acc: 50.52%\n"
          ]
        }
      ],
      "source": [
        "from sklearn.metrics import confusion_matrix\n",
        "import seaborn as sns\n",
        "import matplotlib.pyplot as plt\n",
        "import pandas as pd # Import pandas for data loading\n",
        "from sklearn.preprocessing import LabelEncoder\n",
        "\n",
        "encoder = LabelEncoder()\n",
        "# Fit the encoder on your labels\n",
        "encoder.fit(df['label']) # assuming 'df' is your DataFrame containing the original labels\n",
        "\n",
        "train_losses = []\n",
        "valid_losses = []\n",
        "train_accs = []\n",
        "valid_accs = []\n",
        "\n",
        "all_y_true = []\n",
        "all_y_pred = []\n",
        "\n",
        "train_iter, valid_iter, test_iter = load_data()\n",
        "\n",
        "optimizer = optim.Adam(model.parameters(),lr=0.000005)\n",
        "class_weights_tensor = torch.tensor(list(class_weight_dict.values()), dtype=torch.float).to(device)\n",
        "criterion = nn.CrossEntropyLoss(weight=class_weights_tensor)\n",
        "\n",
        "# criterion = nn.CrossEntropyLoss().to(device)\n",
        "model = model.to(device)\n",
        "# model.apply(reset_weights)\n",
        "\n",
        "best_valid_loss = float('inf')\n",
        "\n",
        "train_data = train\n",
        "\n",
        "for epoch in range(N_EPOCHS):\n",
        "  # start time\n",
        "  start_time = time.time()\n",
        "  # train for an epoch\n",
        "  # train_loss, train_acc = train(model, train_iter, optimizer, criterion)\n",
        "  # valid_loss, valid_acc, _, _ = evaluate(model, valid_iter, criterion)\n",
        "\n",
        "  train_loss, train_acc = train(model, train_iter, optimizer, criterion)\n",
        "  valid_loss, valid_acc, y_true, y_pred = evaluate(model, valid_iter, criterion, encoder)\n",
        "\n",
        "  all_y_true.extend(y_true)\n",
        "  all_y_pred.extend(y_pred)\n",
        "\n",
        "  # end time\n",
        "  end_time = time.time()\n",
        "  # stats\n",
        "  epoch_mins, epoch_secs = epoch_time(start_time, end_time)\n",
        "  # เก็บข้อมูลการสูญเสียและความแม่นยำ\n",
        "  train_losses.append(train_loss)\n",
        "  valid_losses.append(valid_loss)\n",
        "  train_accs.append(train_acc)\n",
        "  valid_accs.append(valid_acc)\n",
        "  # save model if has validation loss\n",
        "  # better than last one\n",
        "  if valid_loss < best_valid_loss:\n",
        "    best_valid_loss = valid_loss\n",
        "    torch.save(model.state_dict(), 'sentiment_model_gru.pt')\n",
        "    print(f\"Best model saved at epoch {epoch} with validation loss: {valid_loss:.4f}\")\n",
        "  # stats\n",
        "  print(f'Epoch: {epoch+1:02}/{N_EPOCHS} | Epoch Time: {epoch_mins}m {epoch_secs}s')\n",
        "  print(f'\\tTrain Loss: {train_loss:.3f} | Train Acc: {train_acc*100:.2f}%')\n",
        "  print(f'\\t Val. Loss: {valid_loss:.3f} |  Val. Acc: {valid_acc*100:.2f}%')\n"
      ]
    },
    {
      "cell_type": "code",
      "execution_count": null,
      "metadata": {
        "colab": {
          "base_uri": "https://localhost:8080/"
        },
        "id": "fsNm7Z3bSiQ-",
        "outputId": "87ea6b14-9bff-4434-ae19-13bcee183707"
      },
      "outputs": [
        {
          "output_type": "execute_result",
          "data": {
            "text/plain": [
              "array([1, 1, 0, ..., 2, 0, 2])"
            ]
          },
          "metadata": {},
          "execution_count": 40
        }
      ],
      "source": [
        "train_labels"
      ]
    },
    {
      "cell_type": "code",
      "execution_count": null,
      "metadata": {
        "colab": {
          "base_uri": "https://localhost:8080/"
        },
        "id": "FzLV1D2YuLdm",
        "outputId": "1663a3b9-55b9-4644-8b7b-40b7c40f0e73"
      },
      "outputs": [
        {
          "output_type": "execute_result",
          "data": {
            "text/plain": [
              "SentimentModel(\n",
              "  (embedding): Embedding(4483, 128, padding_idx=0)\n",
              "  (lstm): LSTM(128, 512, num_layers=2, batch_first=True, dropout=0.25, bidirectional=True)\n",
              "  (out): Linear(in_features=1024, out_features=6, bias=True)\n",
              "  (dropout): Dropout(p=0.25, inplace=False)\n",
              ")"
            ]
          },
          "metadata": {},
          "execution_count": 41
        }
      ],
      "source": [
        "model.load_state_dict(torch.load('sentiment_model_gru.pt', map_location=device))\n",
        "model.eval() #ต้องเรียก .eval() เมื่อต้องการทดสอบโมเดลเพื่อไม่ให้เอาข้อมูลเราทดสอบไปเทรน"
      ]
    },
    {
      "cell_type": "code",
      "execution_count": null,
      "metadata": {
        "id": "DoGnqXwOvd0k"
      },
      "outputs": [],
      "source": [
        "import torch\n",
        "\n",
        "def predict_sentiment(model, TEXT):\n",
        "    \"\"\"Predicts the sentiment of a given text using the provided model.\n",
        "\n",
        "    Args:\n",
        "        model: The trained sentiment analysis model.\n",
        "        TEXT: The input text for sentiment prediction.\n",
        "\n",
        "    Returns:\n",
        "        A PyTorch tensor containing the predicted sentiment probabilities.\n",
        "    \"\"\"\n",
        "\n",
        "    model.eval()  # Set the model to evaluation mode\n",
        "\n",
        "    # Preprocess the text\n",
        "    tokens = TEXT.split(\" \")  # Tokenize using space as delimiter\n",
        "    tokens = tokens[:max_input_len - 2]  # Crop to max length\n",
        "    ids = convert_tokens_to_ids(tokens)  # Convert tokens to IDs\n",
        "    tensor_input = torch.LongTensor([ids]).to(device)  # Convert to tensor\n",
        "\n",
        "    # Make prediction\n",
        "    with torch.no_grad():\n",
        "        output = model(tensor_input)\n",
        "\n",
        "    return output"
      ]
    },
    {
      "cell_type": "code",
      "execution_count": null,
      "metadata": {
        "colab": {
          "base_uri": "https://localhost:8080/"
        },
        "id": "uK9pcJEvwVbg",
        "outputId": "bb854eae-6f91-4148-a0e2-04e698d546e8"
      },
      "outputs": [
        {
          "output_type": "stream",
          "name": "stdout",
          "text": [
            "tensor([[-0.0594,  0.2086,  0.1731, -0.1246, -0.1879, -0.0326]],\n",
            "       device='cuda:0')\n",
            "Predicted Class Index: 1\n",
            "Predicted Class Label: คำทั่วไปทางการชม\n"
          ]
        }
      ],
      "source": [
        "TEXT = \"หัวควยจริงๆ ไอ้กระโหลก\"\n",
        "sentiment = predict_sentiment(model, TEXT)  # Call predict_sentiment\n",
        "print(sentiment)\n",
        "predicted_class_index = torch.argmax(sentiment).item()  # Get the predicted class index\n",
        "print(\"Predicted Class Index:\", predicted_class_index)\n",
        "# assuming you have an encoder for mapping index to labels\n",
        "with open('idx2lab.json', 'r') as f: # load the mapping from json file you saved\n",
        "    idx2lab = json.load(f)\n",
        "predicted_class_label = idx2lab[str(predicted_class_index)]  # Use encoder to get label\n",
        "print(\"Predicted Class Label:\", predicted_class_label)"
      ]
    },
    {
      "cell_type": "code",
      "execution_count": null,
      "metadata": {
        "colab": {
          "base_uri": "https://localhost:8080/"
        },
        "id": "znHp98MHDwzd",
        "outputId": "67955849-0a54-4de6-b98b-bdea120774d7"
      },
      "outputs": [
        {
          "output_type": "stream",
          "name": "stdout",
          "text": [
            "              precision    recall  f1-score   support\n",
            "\n",
            "    Positive       0.38      0.03      0.05       117\n",
            "     Neutral       0.53      0.43      0.48       107\n",
            "    Negative       0.45      0.72      0.56       101\n",
            "Body shaming       0.19      0.45      0.27        49\n",
            "    Classism       0.50      0.57      0.53        46\n",
            "      Sexism       0.78      0.70      0.74        40\n",
            "\n",
            "    accuracy                           0.43       460\n",
            "   macro avg       0.47      0.48      0.44       460\n",
            "weighted avg       0.46      0.43      0.39       460\n",
            "\n"
          ]
        }
      ],
      "source": [
        "import torch\n",
        "from sklearn.metrics import classification_report  # Import classification_report\n",
        "\n",
        "# ... (your existing code) ...\n",
        "\n",
        "model.load_state_dict(torch.load('sentiment_model_gru.pt', map_location=device))\n",
        "model.eval()  # ต้องเรียก .eval() เมื่อต้องการทดสอบโมเดลเพื่อไม่ให้เอาข้อมูลเราทดสอบไปเทรน\n",
        "\n",
        "\n",
        "# Assuming test_iter is your test data iterator\n",
        "_, _, y_true_test, y_pred_test = evaluate(model, test_iter, criterion, encoder) # Get true and predicted labels for test set\n",
        "\n",
        "\n",
        "\n",
        "target_names = ['Positive','Neutral','Negative', 'Body shaming', 'Classism', 'Sexism']\n",
        "report = classification_report(y_true_test, y_pred_test, target_names=target_names)  # Use y_true_test and y_pred_test\n",
        "print(report)"
      ]
    },
    {
      "cell_type": "code",
      "execution_count": null,
      "metadata": {
        "colab": {
          "base_uri": "https://localhost:8080/",
          "height": 718
        },
        "id": "5T0vbY72rM-z",
        "outputId": "dae7599e-b5cb-4784-f00e-46d575334424"
      },
      "outputs": [
        {
          "output_type": "display_data",
          "data": {
            "text/plain": [
              "<Figure size 1000x800 with 2 Axes>"
            ],
            "image/png": "[encoded data removed]"
          },
          "metadata": {}
        }
      ],
      "source": [
        "model.load_state_dict(torch.load('sentiment_model_gru.pt', map_location=device))\n",
        "model.eval()\n",
        "_, _, y_true_test, y_pred_test = evaluate(model, test_iter, criterion, encoder)\n",
        "\n",
        "# Create the confusion matrix using the test data\n",
        "cm = confusion_matrix(y_true_test, y_pred_test)\n",
        "\n",
        "# Plot the confusion matrix\n",
        "plt.figure(figsize=(10, 8))\n",
        "sns.heatmap(cm, annot=True, fmt='d', cmap='Blues',\n",
        "            xticklabels=target_names, yticklabels=target_names)\n",
        "plt.xlabel('Predicted Label')\n",
        "plt.ylabel('True Label')\n",
        "plt.title('Confusion Matrix')\n",
        "plt.savefig('Confusion_Matrix.png')\n",
        "\n",
        "plt.show()"
      ]
    },
    {
      "cell_type": "code",
      "execution_count": null,
      "metadata": {
        "colab": {
          "base_uri": "https://localhost:8080/",
          "height": 651
        },
        "id": "1rr601KQSAvn",
        "outputId": "bb211d23-0f57-48af-cce2-1d57e1a2d821"
      },
      "outputs": [
        {
          "output_type": "stream",
          "name": "stdout",
          "text": [
            "                                  text  label\n",
            "0  พี่เบ๊บบี้จัดฟันแล้วน่ารักสุดๆๆๆๆๆๆ      0\n",
            "1           พี่เบ๊บบี้จัดฟันน่ารักมากก      0\n",
            "2                         พี่สวยมากค่ะ      0\n",
            "3                    งามมากกลูกสาวววว💛      0\n",
            "4                             คนสวย🥰🥰🥰      0\n"
          ]
        },
        {
          "output_type": "error",
          "ename": "KeyError",
          "evalue": "'review'",
          "traceback": [
            "\u001b[0;31m---------------------------------------------------------------------------\u001b[0m",
            "\u001b[0;31mKeyError\u001b[0m                                  Traceback (most recent call last)",
            "\u001b[0;32m/usr/local/lib/python3.11/dist-packages/pandas/core/indexes/base.py\u001b[0m in \u001b[0;36mget_loc\u001b[0;34m(self, key)\u001b[0m\n\u001b[1;32m   3804\u001b[0m         \u001b[0;32mtry\u001b[0m\u001b[0;34m:\u001b[0m\u001b[0;34m\u001b[0m\u001b[0;34m\u001b[0m\u001b[0m\n\u001b[0;32m-> 3805\u001b[0;31m             \u001b[0;32mreturn\u001b[0m \u001b[0mself\u001b[0m\u001b[0;34m.\u001b[0m\u001b[0m_engine\u001b[0m\u001b[0;34m.\u001b[0m\u001b[0mget_loc\u001b[0m\u001b[0;34m(\u001b[0m\u001b[0mcasted_key\u001b[0m\u001b[0;34m)\u001b[0m\u001b[0;34m\u001b[0m\u001b[0;34m\u001b[0m\u001b[0m\n\u001b[0m\u001b[1;32m   3806\u001b[0m         \u001b[0;32mexcept\u001b[0m \u001b[0mKeyError\u001b[0m \u001b[0;32mas\u001b[0m \u001b[0merr\u001b[0m\u001b[0;34m:\u001b[0m\u001b[0;34m\u001b[0m\u001b[0;34m\u001b[0m\u001b[0m\n",
            "\u001b[0;32mindex.pyx\u001b[0m in \u001b[0;36mpandas._libs.index.IndexEngine.get_loc\u001b[0;34m()\u001b[0m\n",
            "\u001b[0;32mindex.pyx\u001b[0m in \u001b[0;36mpandas._libs.index.IndexEngine.get_loc\u001b[0;34m()\u001b[0m\n",
            "\u001b[0;32mpandas/_libs/hashtable_class_helper.pxi\u001b[0m in \u001b[0;36mpandas._libs.hashtable.PyObjectHashTable.get_item\u001b[0;34m()\u001b[0m\n",
            "\u001b[0;32mpandas/_libs/hashtable_class_helper.pxi\u001b[0m in \u001b[0;36mpandas._libs.hashtable.PyObjectHashTable.get_item\u001b[0;34m()\u001b[0m\n",
            "\u001b[0;31mKeyError\u001b[0m: 'review'",
            "\nThe above exception was the direct cause of the following exception:\n",
            "\u001b[0;31mKeyError\u001b[0m                                  Traceback (most recent call last)",
            "\u001b[0;32m<ipython-input-46-fc5200542bba>\u001b[0m in \u001b[0;36m<cell line: 0>\u001b[0;34m()\u001b[0m\n\u001b[1;32m     23\u001b[0m \u001b[0;34m\u001b[0m\u001b[0m\n\u001b[1;32m     24\u001b[0m \u001b[0;31m# Apply prediction function to each row to create \"predicted_label\"\u001b[0m\u001b[0;34m\u001b[0m\u001b[0;34m\u001b[0m\u001b[0m\n\u001b[0;32m---> 25\u001b[0;31m \u001b[0mdf\u001b[0m\u001b[0;34m[\u001b[0m\u001b[0;34m'predicted_label'\u001b[0m\u001b[0;34m]\u001b[0m \u001b[0;34m=\u001b[0m \u001b[0mdf\u001b[0m\u001b[0;34m.\u001b[0m\u001b[0mapply\u001b[0m\u001b[0;34m(\u001b[0m\u001b[0mpredict_row\u001b[0m\u001b[0;34m,\u001b[0m \u001b[0maxis\u001b[0m\u001b[0;34m=\u001b[0m\u001b[0;36m1\u001b[0m\u001b[0;34m)\u001b[0m\u001b[0;34m\u001b[0m\u001b[0;34m\u001b[0m\u001b[0m\n\u001b[0m\u001b[1;32m     26\u001b[0m \u001b[0;34m\u001b[0m\u001b[0m\n\u001b[1;32m     27\u001b[0m \u001b[0;34m\u001b[0m\u001b[0m\n",
            "\u001b[0;32m/usr/local/lib/python3.11/dist-packages/pandas/core/frame.py\u001b[0m in \u001b[0;36mapply\u001b[0;34m(self, func, axis, raw, result_type, args, by_row, engine, engine_kwargs, **kwargs)\u001b[0m\n\u001b[1;32m  10372\u001b[0m             \u001b[0mkwargs\u001b[0m\u001b[0;34m=\u001b[0m\u001b[0mkwargs\u001b[0m\u001b[0;34m,\u001b[0m\u001b[0;34m\u001b[0m\u001b[0;34m\u001b[0m\u001b[0m\n\u001b[1;32m  10373\u001b[0m         )\n\u001b[0;32m> 10374\u001b[0;31m         \u001b[0;32mreturn\u001b[0m \u001b[0mop\u001b[0m\u001b[0;34m.\u001b[0m\u001b[0mapply\u001b[0m\u001b[0;34m(\u001b[0m\u001b[0;34m)\u001b[0m\u001b[0;34m.\u001b[0m\u001b[0m__finalize__\u001b[0m\u001b[0;34m(\u001b[0m\u001b[0mself\u001b[0m\u001b[0;34m,\u001b[0m \u001b[0mmethod\u001b[0m\u001b[0;34m=\u001b[0m\u001b[0;34m\"apply\"\u001b[0m\u001b[0;34m)\u001b[0m\u001b[0;34m\u001b[0m\u001b[0;34m\u001b[0m\u001b[0m\n\u001b[0m\u001b[1;32m  10375\u001b[0m \u001b[0;34m\u001b[0m\u001b[0m\n\u001b[1;32m  10376\u001b[0m     def map(\n",
            "\u001b[0;32m/usr/local/lib/python3.11/dist-packages/pandas/core/apply.py\u001b[0m in \u001b[0;36mapply\u001b[0;34m(self)\u001b[0m\n\u001b[1;32m    914\u001b[0m             \u001b[0;32mreturn\u001b[0m \u001b[0mself\u001b[0m\u001b[0;34m.\u001b[0m\u001b[0mapply_raw\u001b[0m\u001b[0;34m(\u001b[0m\u001b[0mengine\u001b[0m\u001b[0;34m=\u001b[0m\u001b[0mself\u001b[0m\u001b[0;34m.\u001b[0m\u001b[0mengine\u001b[0m\u001b[0;34m,\u001b[0m \u001b[0mengine_kwargs\u001b[0m\u001b[0;34m=\u001b[0m\u001b[0mself\u001b[0m\u001b[0;34m.\u001b[0m\u001b[0mengine_kwargs\u001b[0m\u001b[0;34m)\u001b[0m\u001b[0;34m\u001b[0m\u001b[0;34m\u001b[0m\u001b[0m\n\u001b[1;32m    915\u001b[0m \u001b[0;34m\u001b[0m\u001b[0m\n\u001b[0;32m--> 916\u001b[0;31m         \u001b[0;32mreturn\u001b[0m \u001b[0mself\u001b[0m\u001b[0;34m.\u001b[0m\u001b[0mapply_standard\u001b[0m\u001b[0;34m(\u001b[0m\u001b[0;34m)\u001b[0m\u001b[0;34m\u001b[0m\u001b[0;34m\u001b[0m\u001b[0m\n\u001b[0m\u001b[1;32m    917\u001b[0m \u001b[0;34m\u001b[0m\u001b[0m\n\u001b[1;32m    918\u001b[0m     \u001b[0;32mdef\u001b[0m \u001b[0magg\u001b[0m\u001b[0;34m(\u001b[0m\u001b[0mself\u001b[0m\u001b[0;34m)\u001b[0m\u001b[0;34m:\u001b[0m\u001b[0;34m\u001b[0m\u001b[0;34m\u001b[0m\u001b[0m\n",
            "\u001b[0;32m/usr/local/lib/python3.11/dist-packages/pandas/core/apply.py\u001b[0m in \u001b[0;36mapply_standard\u001b[0;34m(self)\u001b[0m\n\u001b[1;32m   1061\u001b[0m     \u001b[0;32mdef\u001b[0m \u001b[0mapply_standard\u001b[0m\u001b[0;34m(\u001b[0m\u001b[0mself\u001b[0m\u001b[0;34m)\u001b[0m\u001b[0;34m:\u001b[0m\u001b[0;34m\u001b[0m\u001b[0;34m\u001b[0m\u001b[0m\n\u001b[1;32m   1062\u001b[0m         \u001b[0;32mif\u001b[0m \u001b[0mself\u001b[0m\u001b[0;34m.\u001b[0m\u001b[0mengine\u001b[0m \u001b[0;34m==\u001b[0m \u001b[0;34m\"python\"\u001b[0m\u001b[0;34m:\u001b[0m\u001b[0;34m\u001b[0m\u001b[0;34m\u001b[0m\u001b[0m\n\u001b[0;32m-> 1063\u001b[0;31m             \u001b[0mresults\u001b[0m\u001b[0;34m,\u001b[0m \u001b[0mres_index\u001b[0m \u001b[0;34m=\u001b[0m \u001b[0mself\u001b[0m\u001b[0;34m.\u001b[0m\u001b[0mapply_series_generator\u001b[0m\u001b[0;34m(\u001b[0m\u001b[0;34m)\u001b[0m\u001b[0;34m\u001b[0m\u001b[0;34m\u001b[0m\u001b[0m\n\u001b[0m\u001b[1;32m   1064\u001b[0m         \u001b[0;32melse\u001b[0m\u001b[0;34m:\u001b[0m\u001b[0;34m\u001b[0m\u001b[0;34m\u001b[0m\u001b[0m\n\u001b[1;32m   1065\u001b[0m             \u001b[0mresults\u001b[0m\u001b[0;34m,\u001b[0m \u001b[0mres_index\u001b[0m \u001b[0;34m=\u001b[0m \u001b[0mself\u001b[0m\u001b[0;34m.\u001b[0m\u001b[0mapply_series_numba\u001b[0m\u001b[0;34m(\u001b[0m\u001b[0;34m)\u001b[0m\u001b[0;34m\u001b[0m\u001b[0;34m\u001b[0m\u001b[0m\n",
            "\u001b[0;32m/usr/local/lib/python3.11/dist-packages/pandas/core/apply.py\u001b[0m in \u001b[0;36mapply_series_generator\u001b[0;34m(self)\u001b[0m\n\u001b[1;32m   1079\u001b[0m             \u001b[0;32mfor\u001b[0m \u001b[0mi\u001b[0m\u001b[0;34m,\u001b[0m \u001b[0mv\u001b[0m \u001b[0;32min\u001b[0m \u001b[0menumerate\u001b[0m\u001b[0;34m(\u001b[0m\u001b[0mseries_gen\u001b[0m\u001b[0;34m)\u001b[0m\u001b[0;34m:\u001b[0m\u001b[0;34m\u001b[0m\u001b[0;34m\u001b[0m\u001b[0m\n\u001b[1;32m   1080\u001b[0m                 \u001b[0;31m# ignore SettingWithCopy here in case the user mutates\u001b[0m\u001b[0;34m\u001b[0m\u001b[0;34m\u001b[0m\u001b[0m\n\u001b[0;32m-> 1081\u001b[0;31m                 \u001b[0mresults\u001b[0m\u001b[0;34m[\u001b[0m\u001b[0mi\u001b[0m\u001b[0;34m]\u001b[0m \u001b[0;34m=\u001b[0m \u001b[0mself\u001b[0m\u001b[0;34m.\u001b[0m\u001b[0mfunc\u001b[0m\u001b[0;34m(\u001b[0m\u001b[0mv\u001b[0m\u001b[0;34m,\u001b[0m \u001b[0;34m*\u001b[0m\u001b[0mself\u001b[0m\u001b[0;34m.\u001b[0m\u001b[0margs\u001b[0m\u001b[0;34m,\u001b[0m \u001b[0;34m**\u001b[0m\u001b[0mself\u001b[0m\u001b[0;34m.\u001b[0m\u001b[0mkwargs\u001b[0m\u001b[0;34m)\u001b[0m\u001b[0;34m\u001b[0m\u001b[0;34m\u001b[0m\u001b[0m\n\u001b[0m\u001b[1;32m   1082\u001b[0m                 \u001b[0;32mif\u001b[0m \u001b[0misinstance\u001b[0m\u001b[0;34m(\u001b[0m\u001b[0mresults\u001b[0m\u001b[0;34m[\u001b[0m\u001b[0mi\u001b[0m\u001b[0;34m]\u001b[0m\u001b[0;34m,\u001b[0m \u001b[0mABCSeries\u001b[0m\u001b[0;34m)\u001b[0m\u001b[0;34m:\u001b[0m\u001b[0;34m\u001b[0m\u001b[0;34m\u001b[0m\u001b[0m\n\u001b[1;32m   1083\u001b[0m                     \u001b[0;31m# If we have a view on v, we need to make a copy because\u001b[0m\u001b[0;34m\u001b[0m\u001b[0;34m\u001b[0m\u001b[0m\n",
            "\u001b[0;32m<ipython-input-46-fc5200542bba>\u001b[0m in \u001b[0;36mpredict_row\u001b[0;34m(row)\u001b[0m\n\u001b[1;32m     17\u001b[0m \u001b[0;31m# Function to predict for a single row\u001b[0m\u001b[0;34m\u001b[0m\u001b[0;34m\u001b[0m\u001b[0m\n\u001b[1;32m     18\u001b[0m \u001b[0;32mdef\u001b[0m \u001b[0mpredict_row\u001b[0m\u001b[0;34m(\u001b[0m\u001b[0mrow\u001b[0m\u001b[0;34m)\u001b[0m\u001b[0;34m:\u001b[0m\u001b[0;34m\u001b[0m\u001b[0;34m\u001b[0m\u001b[0m\n\u001b[0;32m---> 19\u001b[0;31m     \u001b[0msentiment\u001b[0m \u001b[0;34m=\u001b[0m \u001b[0mpredict_sentiment\u001b[0m\u001b[0;34m(\u001b[0m\u001b[0mmodel\u001b[0m\u001b[0;34m,\u001b[0m \u001b[0mrow\u001b[0m\u001b[0;34m[\u001b[0m\u001b[0;34m'review'\u001b[0m\u001b[0;34m]\u001b[0m\u001b[0;34m)\u001b[0m\u001b[0;34m\u001b[0m\u001b[0;34m\u001b[0m\u001b[0m\n\u001b[0m\u001b[1;32m     20\u001b[0m     \u001b[0mpredicted_class_index\u001b[0m \u001b[0;34m=\u001b[0m \u001b[0mtorch\u001b[0m\u001b[0;34m.\u001b[0m\u001b[0margmax\u001b[0m\u001b[0;34m(\u001b[0m\u001b[0msentiment\u001b[0m\u001b[0;34m)\u001b[0m\u001b[0;34m.\u001b[0m\u001b[0mitem\u001b[0m\u001b[0;34m(\u001b[0m\u001b[0;34m)\u001b[0m\u001b[0;34m\u001b[0m\u001b[0;34m\u001b[0m\u001b[0m\n\u001b[1;32m     21\u001b[0m     \u001b[0mpredicted_class_label\u001b[0m \u001b[0;34m=\u001b[0m \u001b[0midx2lab\u001b[0m\u001b[0;34m[\u001b[0m\u001b[0mstr\u001b[0m\u001b[0;34m(\u001b[0m\u001b[0mpredicted_class_index\u001b[0m\u001b[0;34m)\u001b[0m\u001b[0;34m]\u001b[0m\u001b[0;34m\u001b[0m\u001b[0;34m\u001b[0m\u001b[0m\n",
            "\u001b[0;32m/usr/local/lib/python3.11/dist-packages/pandas/core/series.py\u001b[0m in \u001b[0;36m__getitem__\u001b[0;34m(self, key)\u001b[0m\n\u001b[1;32m   1119\u001b[0m \u001b[0;34m\u001b[0m\u001b[0m\n\u001b[1;32m   1120\u001b[0m         \u001b[0;32melif\u001b[0m \u001b[0mkey_is_scalar\u001b[0m\u001b[0;34m:\u001b[0m\u001b[0;34m\u001b[0m\u001b[0;34m\u001b[0m\u001b[0m\n\u001b[0;32m-> 1121\u001b[0;31m             \u001b[0;32mreturn\u001b[0m \u001b[0mself\u001b[0m\u001b[0;34m.\u001b[0m\u001b[0m_get_value\u001b[0m\u001b[0;34m(\u001b[0m\u001b[0mkey\u001b[0m\u001b[0;34m)\u001b[0m\u001b[0;34m\u001b[0m\u001b[0;34m\u001b[0m\u001b[0m\n\u001b[0m\u001b[1;32m   1122\u001b[0m \u001b[0;34m\u001b[0m\u001b[0m\n\u001b[1;32m   1123\u001b[0m         \u001b[0;31m# Convert generator to list before going through hashable part\u001b[0m\u001b[0;34m\u001b[0m\u001b[0;34m\u001b[0m\u001b[0m\n",
            "\u001b[0;32m/usr/local/lib/python3.11/dist-packages/pandas/core/series.py\u001b[0m in \u001b[0;36m_get_value\u001b[0;34m(self, label, takeable)\u001b[0m\n\u001b[1;32m   1235\u001b[0m \u001b[0;34m\u001b[0m\u001b[0m\n\u001b[1;32m   1236\u001b[0m         \u001b[0;31m# Similar to Index.get_value, but we do not fall back to positional\u001b[0m\u001b[0;34m\u001b[0m\u001b[0;34m\u001b[0m\u001b[0m\n\u001b[0;32m-> 1237\u001b[0;31m         \u001b[0mloc\u001b[0m \u001b[0;34m=\u001b[0m \u001b[0mself\u001b[0m\u001b[0;34m.\u001b[0m\u001b[0mindex\u001b[0m\u001b[0;34m.\u001b[0m\u001b[0mget_loc\u001b[0m\u001b[0;34m(\u001b[0m\u001b[0mlabel\u001b[0m\u001b[0;34m)\u001b[0m\u001b[0;34m\u001b[0m\u001b[0;34m\u001b[0m\u001b[0m\n\u001b[0m\u001b[1;32m   1238\u001b[0m \u001b[0;34m\u001b[0m\u001b[0m\n\u001b[1;32m   1239\u001b[0m         \u001b[0;32mif\u001b[0m \u001b[0mis_integer\u001b[0m\u001b[0;34m(\u001b[0m\u001b[0mloc\u001b[0m\u001b[0;34m)\u001b[0m\u001b[0;34m:\u001b[0m\u001b[0;34m\u001b[0m\u001b[0;34m\u001b[0m\u001b[0m\n",
            "\u001b[0;32m/usr/local/lib/python3.11/dist-packages/pandas/core/indexes/base.py\u001b[0m in \u001b[0;36mget_loc\u001b[0;34m(self, key)\u001b[0m\n\u001b[1;32m   3810\u001b[0m             ):\n\u001b[1;32m   3811\u001b[0m                 \u001b[0;32mraise\u001b[0m \u001b[0mInvalidIndexError\u001b[0m\u001b[0;34m(\u001b[0m\u001b[0mkey\u001b[0m\u001b[0;34m)\u001b[0m\u001b[0;34m\u001b[0m\u001b[0;34m\u001b[0m\u001b[0m\n\u001b[0;32m-> 3812\u001b[0;31m             \u001b[0;32mraise\u001b[0m \u001b[0mKeyError\u001b[0m\u001b[0;34m(\u001b[0m\u001b[0mkey\u001b[0m\u001b[0;34m)\u001b[0m \u001b[0;32mfrom\u001b[0m \u001b[0merr\u001b[0m\u001b[0;34m\u001b[0m\u001b[0;34m\u001b[0m\u001b[0m\n\u001b[0m\u001b[1;32m   3813\u001b[0m         \u001b[0;32mexcept\u001b[0m \u001b[0mTypeError\u001b[0m\u001b[0;34m:\u001b[0m\u001b[0;34m\u001b[0m\u001b[0;34m\u001b[0m\u001b[0m\n\u001b[1;32m   3814\u001b[0m             \u001b[0;31m# If we have a listlike key, _check_indexing_error will raise\u001b[0m\u001b[0;34m\u001b[0m\u001b[0;34m\u001b[0m\u001b[0m\n",
            "\u001b[0;31mKeyError\u001b[0m: 'review'"
          ]
        }
      ],
      "source": [
        "import pandas as pd\n",
        "import json  # Import json for loading idx2lab\n",
        "\n",
        "# โหลดข้อมูล (แก้ไข path ตามไฟล์ของคุณ)\n",
        "df = pd.read_csv(\"TextClass.csv\")  # ไฟล์ต้องมี columns: \"sentence\", \"true_label\", \"predicted_label\"\n",
        "\n",
        "# ดูตัวอย่างข้อมูล\n",
        "print(df.head())\n",
        "\n",
        "# Rename \"label\" column to \"true_label\"\n",
        "df = df.rename(columns={\"label\": \"true_label\"})\n",
        "\n",
        "# Add a new column \"predicted_label\" and fill it with predictions\n",
        "with open('idx2lab.json', 'r') as f:\n",
        "    idx2lab = json.load(f)\n",
        "\n",
        "# Function to predict for a single row\n",
        "def predict_row(row):\n",
        "    sentiment = predict_sentiment(model, row['review'])\n",
        "    predicted_class_index = torch.argmax(sentiment).item()\n",
        "    predicted_class_label = idx2lab[str(predicted_class_index)]\n",
        "    return predicted_class_label\n",
        "\n",
        "# Apply prediction function to each row to create \"predicted_label\"\n",
        "df['predicted_label'] = df.apply(predict_row, axis=1)\n",
        "\n",
        "\n",
        "# Now you can use this new column for filtering and error analysis\n",
        "print(df[(df[\"true_label\"] == \"Negative\") & (df[\"predicted_label\"] == \"Positive\")])\n",
        "\n",
        "# Initialize misclassified\n",
        "misclassified = df[(df[\"true_label\"] != df[\"predicted_label\"])]\n",
        "\n",
        "# Display the results\n",
        "print(\"ประโยคที่โมเดลทำนายผิดพลาด:\")\n",
        "print(misclassified)"
      ]
    },
    {
      "cell_type": "code",
      "execution_count": null,
      "metadata": {
        "id": "gRN3jdAaSjSo"
      },
      "outputs": [],
      "source": [
        "print(df[(df[\"true_label\"] == \"Negative\") & (df[\"predicted_label\"] == \"Positive\")])\n"
      ]
    },
    {
      "cell_type": "code",
      "execution_count": null,
      "metadata": {
        "id": "7tgftIhuRSjA"
      },
      "outputs": [],
      "source": [
        "print(cm)"
      ]
    },
    {
      "cell_type": "code",
      "execution_count": null,
      "metadata": {
        "id": "ILukBCNValf3",
        "colab": {
          "base_uri": "https://localhost:8080/",
          "height": 563
        },
        "outputId": "529476ef-e9f0-4837-b983-6a43057a0a1d"
      },
      "outputs": [
        {
          "output_type": "display_data",
          "data": {
            "text/plain": [
              "<Figure size 1200x600 with 2 Axes>"
            ],
            "image/png": "[encoded data removed]"
          },
          "metadata": {}
        }
      ],
      "source": [
        "import matplotlib.pyplot as plt\n",
        "\n",
        "plt.figure(figsize=(12, 6))\n",
        "\n",
        "# Plot losses\n",
        "plt.subplot(1, 2, 1)\n",
        "plt.plot(train_losses, label='Train Loss')\n",
        "plt.plot(valid_losses, label='Validation Loss')\n",
        "plt.title('Training and Validation Loss')\n",
        "plt.xlabel('Epoch')\n",
        "plt.ylabel('Loss')\n",
        "plt.legend()\n",
        "\n",
        "# Plot accuracies\n",
        "plt.subplot(1, 2, 2)\n",
        "plt.plot(train_accs, label='Train Accuracy')\n",
        "plt.plot(valid_accs, label='Validation Accuracy')\n",
        "plt.title('Training and Validation Accuracy')\n",
        "plt.xlabel('Epoch')\n",
        "plt.ylabel('Accuracy')\n",
        "plt.legend()\n",
        "\n",
        "plt.tight_layout()\n",
        "plt.show()"
      ]
    },
    {
      "cell_type": "code",
      "execution_count": null,
      "metadata": {
        "id": "KbswW3OTHk_m"
      },
      "outputs": [],
      "source": [
        "import torch\n",
        "from transformers import AutoTokenizer, AutoModelForSequenceClassification\n",
        "import numpy as np\n",
        "\n",
        "# Load pre-trained model and tokenizer (assuming you're using a Thai language model)\n",
        "model_name = \"airesearch/wangchanberta-base-att-spm-uncased\"  # Replace with your actual model\n",
        "tokenizer = AutoTokenizer.from_pretrained(model_name)\n",
        "model = AutoModelForSequenceClassification.from_pretrained(model_name, num_labels=len(class_labels)) #added num_labels\n",
        "\n",
        "# Define class labels - replace these with your actual class labels\n",
        "# For example: [\"negative\", \"neutral\", \"positive\"]\n",
        "class_labels = ['คำทั่วไปทางการชม', 'คำทั่วไป', 'คำหยาบปกติ', 'เหยียดรูปร่าง', 'เหยียดชนชั้น', 'เหยียดเพศ']\n",
        "\n",
        "def predict_sentiment(model, tokenizer, text):\n",
        "    # Tokenize the input text\n",
        "    inputs = tokenizer(text, return_tensors=\"pt\", truncation=True, padding=True, max_length=512)\n",
        "\n",
        "    # Get model prediction\n",
        "    with torch.no_grad():\n",
        "        outputs = model(**inputs)\n",
        "        logits = outputs.logits\n",
        "        probabilities = torch.nn.functional.softmax(logits, dim=1)\n",
        "\n",
        "    return probabilities, inputs\n",
        "\n",
        "def get_word_embeddings(model, tokenized_inputs):\n",
        "    # Extract embeddings from the model's embedding layer\n",
        "    with torch.no_grad():\n",
        "        # Access the embedding layer (this may need adjustment based on your model architecture)\n",
        "        embedding_layer = model.get_input_embeddings()\n",
        "        word_embeddings = embedding_layer(tokenized_inputs['input_ids'])\n",
        "\n",
        "    return word_embeddings\n",
        "\n",
        "# Function to get user input and display prediction\n",
        "def analyze_user_input():\n",
        "    # Get user input\n",
        "    user_text = input(\"กรุณาใส่ข้อความที่ต้องการวิเคราะห์ความรู้สึก: \")\n",
        "\n",
        "    # Make prediction\n",
        "    sentiment, tokenized_inputs = predict_sentiment(model, tokenizer, user_text)\n",
        "    print(\"Raw prediction tensor:\", sentiment)\n",
        "\n",
        "    # Get predicted class index\n",
        "    predicted_class_index = torch.argmax(sentiment).item()\n",
        "    # predicted_class_index = min(predicted_class_index, len(class_labels) - 1)  # Clamp the index #removed\n",
        "\n",
        "    # Get predicted class label\n",
        "    predicted_class_label = class_labels[predicted_class_index]\n",
        "\n",
        "    # Display results\n",
        "    print(\"\\nผลการวิเคราะห์:\")\n",
        "    print(\"Predicted Class Index:\", predicted_class_index)\n",
        "    print(\"Predicted Class Label:\", predicted_class_label)\n",
        "\n",
        "    # Display probability distribution\n",
        "    print(\"\\nProbability distribution:\")\n",
        "    for i, label in enumerate(class_labels):\n",
        "        #print(f\"{label}: {sentiment[0][i].item():.4f}\")\n",
        "        print(f\"{label}: {sentiment[0][i].item():.4f}\") # Access elements using correct indexing\n",
        "\n",
        "    # Get and display word embeddings\n",
        "    word_embeddings = get_word_embeddings(model, tokenized_inputs)\n",
        "\n",
        "    # Print token IDs and their corresponding words\n",
        "    input_ids = tokenized_inputs['input_ids'][0]\n",
        "    tokens = tokenizer.convert_ids_to_tokens(input_ids)\n",
        "\n",
        "    print(\"\\n**Word Embeddings:**\")\n",
        "    print(\"Shape of embeddings:\", word_embeddings.shape)\n",
        "    print(f\"Number of tokens: {len(tokens)}\")\n",
        "\n",
        "    # Print tokens and first few dimensions of their embeddings\n",
        "    for i, token in enumerate(tokens):\n",
        "        if token in tokenizer.all_special_tokens:\n",
        "            continue  # Skip special tokens like [CLS], [SEP], etc.\n",
        "\n",
        "        # Print token and a sample of its embedding (first 5 dimensions)\n",
        "        embedding_sample = word_embeddings[0, i, :5].tolist()  # First 5 dimensions as example\n",
        "        print(f\"Token: '{token}', Embedding (first 5 dims): {embedding_sample}\")\n",
        "\n",
        "# Run the analysis\n",
        "if __name__ == \"__main__\":\n",
        "    print(\"==== Thai Sentiment Analysis ====\")\n",
        "    analyze_user_input()"
      ]
    }
  ],
  "metadata": {
    "accelerator": "GPU",
    "colab": {
      "gpuType": "T4",
      "provenance": []
    },
    "kernelspec": {
      "display_name": "Python 3",
      "name": "python3"
    },
    "language_info": {
      "name": "python"
    }
  },
  "nbformat": 4,
  "nbformat_minor": 0
}